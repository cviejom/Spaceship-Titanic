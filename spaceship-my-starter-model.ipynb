{
 "cells": [
  {
   "cell_type": "markdown",
   "id": "6e5ae02b",
   "metadata": {
    "papermill": {
     "duration": 0.041023,
     "end_time": "2022-02-26T22:35:32.886929",
     "exception": false,
     "start_time": "2022-02-26T22:35:32.845906",
     "status": "completed"
    },
    "tags": []
   },
   "source": [
    "# 🌌 Spaceship My Starter Model\n",
    "\n",
    "Hello... "
   ]
  },
  {
   "cell_type": "markdown",
   "id": "029334a9",
   "metadata": {
    "papermill": {
     "duration": 0.041044,
     "end_time": "2022-02-26T22:35:32.967838",
     "exception": false,
     "start_time": "2022-02-26T22:35:32.926794",
     "status": "completed"
    },
    "tags": []
   },
   "source": [
    "### File and Data Field Descriptions\n",
    "\n",
    "**train.csv** - Personal records for about two-thirds (~8700) of the passengers, to be used as training data.\n",
    "* PassengerId - A unique Id for each passenger. Each Id takes the form gggg_pp where gggg indicates a group the passenger is travelling with and pp is their number within the group. People in a group are often family members, but not always.\n",
    "* HomePlanet - The planet the passenger departed from, typically their planet of permanent residence.\n",
    "* CryoSleep - Indicates whether the passenger elected to be put into suspended animation for the duration of the voyage. Passengers in cryosleep are confined to their cabins.\n",
    "* Cabin - The cabin number where the passenger is staying. Takes the form deck/num/side, where side can be either P for Port or S for Starboard.\n",
    "* Destination - The planet the passenger will be debarking to.\n",
    "* Age - The age of the passenger.\n",
    "* VIP - Whether the passenger has paid for special VIP service during the voyage.\n",
    "* RoomService, FoodCourt, ShoppingMall, Spa, VRDeck - Amount the passenger has billed at each of the Spaceship Titanic's many luxury amenities.\n",
    "* Name - The first and last names of the passenger.\n",
    "* Transported - Whether the passenger was transported to another dimension. This is the target, the column you are trying to predict.\n",
    "\n",
    "**test.csv** - Personal records for the remaining one-third (~4300) of the passengers, to be used as test data. Your task is to predict the value of Transported for the passengers in this set.\n",
    "\n",
    "**sample_submission.csv** - A submission file in the correct format.\n",
    "\n",
    "* PassengerId - Id for each passenger in the test set.\n",
    "* Transported - The target. For each passenger, predict either True or False."
   ]
  },
  {
   "cell_type": "markdown",
   "id": "d68ea5ca",
   "metadata": {
    "papermill": {
     "duration": 0.039691,
     "end_time": "2022-02-26T22:35:33.047178",
     "exception": false,
     "start_time": "2022-02-26T22:35:33.007487",
     "status": "completed"
    },
    "tags": []
   },
   "source": [
    "# Loading Libraries..."
   ]
  },
  {
   "cell_type": "code",
   "execution_count": 1,
   "id": "418058fb",
   "metadata": {
    "_cell_guid": "b1076dfc-b9ad-4769-8c92-a6c4dae69d19",
    "_uuid": "8f2839f25d086af736a60e9eeb907d3b93b6e0e5",
    "execution": {
     "iopub.execute_input": "2022-02-26T22:35:33.131544Z",
     "iopub.status.busy": "2022-02-26T22:35:33.130482Z",
     "iopub.status.idle": "2022-02-26T22:35:33.141877Z",
     "shell.execute_reply": "2022-02-26T22:35:33.142392Z",
     "shell.execute_reply.started": "2022-02-26T22:34:57.900012Z"
    },
    "papermill": {
     "duration": 0.055149,
     "end_time": "2022-02-26T22:35:33.142674",
     "exception": false,
     "start_time": "2022-02-26T22:35:33.087525",
     "status": "completed"
    },
    "tags": []
   },
   "outputs": [
    {
     "name": "stdout",
     "output_type": "stream",
     "text": [
      "/kaggle/input/spaceship-titanic/sample_submission.csv\n",
      "/kaggle/input/spaceship-titanic/train.csv\n",
      "/kaggle/input/spaceship-titanic/test.csv\n"
     ]
    }
   ],
   "source": [
    "# This Python 3 environment comes with many helpful analytics libraries installed\n",
    "# It is defined by the kaggle/python Docker image: https://github.com/kaggle/docker-python\n",
    "# For example, here's several helpful packages to load\n",
    "\n",
    "import numpy as np # linear algebra\n",
    "import pandas as pd # data processing, CSV file I/O (e.g. pd.read_csv)\n",
    "\n",
    "# Input data files are available in the read-only \"../input/\" directory\n",
    "# For example, running this (by clicking run or pressing Shift+Enter) will list all files under the input directory\n",
    "\n",
    "import os\n",
    "for dirname, _, filenames in os.walk('/kaggle/input'):\n",
    "    for filename in filenames:\n",
    "        print(os.path.join(dirname, filename))\n",
    "\n",
    "# You can write up to 20GB to the current directory (/kaggle/working/) that gets preserved as output when you create a version using \"Save & Run All\" \n",
    "# You can also write temporary files to /kaggle/temp/, but they won't be saved outside of the current session"
   ]
  },
  {
   "cell_type": "markdown",
   "id": "484e1162",
   "metadata": {
    "papermill": {
     "duration": 0.039502,
     "end_time": "2022-02-26T22:35:33.224145",
     "exception": false,
     "start_time": "2022-02-26T22:35:33.184643",
     "status": "completed"
    },
    "tags": []
   },
   "source": [
    "# Seeting Notebook Parameters..."
   ]
  },
  {
   "cell_type": "code",
   "execution_count": 2,
   "id": "804dad87",
   "metadata": {
    "execution": {
     "iopub.execute_input": "2022-02-26T22:35:33.307531Z",
     "iopub.status.busy": "2022-02-26T22:35:33.306932Z",
     "iopub.status.idle": "2022-02-26T22:35:33.312992Z",
     "shell.execute_reply": "2022-02-26T22:35:33.313639Z",
     "shell.execute_reply.started": "2022-02-26T22:34:57.910737Z"
    },
    "papermill": {
     "duration": 0.049792,
     "end_time": "2022-02-26T22:35:33.313862",
     "exception": false,
     "start_time": "2022-02-26T22:35:33.264070",
     "status": "completed"
    },
    "tags": []
   },
   "outputs": [
    {
     "name": "stdout",
     "output_type": "stream",
     "text": [
      "CPU times: user 28 µs, sys: 5 µs, total: 33 µs\n",
      "Wall time: 36.7 µs\n"
     ]
    }
   ],
   "source": [
    "%%time\n",
    "# I like to disable my Notebook Warnings.\n",
    "import warnings\n",
    "warnings.filterwarnings('ignore')"
   ]
  },
  {
   "cell_type": "code",
   "execution_count": 3,
   "id": "2f2173ca",
   "metadata": {
    "execution": {
     "iopub.execute_input": "2022-02-26T22:35:33.419902Z",
     "iopub.status.busy": "2022-02-26T22:35:33.416383Z",
     "iopub.status.idle": "2022-02-26T22:35:33.423178Z",
     "shell.execute_reply": "2022-02-26T22:35:33.423700Z",
     "shell.execute_reply.started": "2022-02-26T22:34:57.919959Z"
    },
    "papermill": {
     "duration": 0.065965,
     "end_time": "2022-02-26T22:35:33.423936",
     "exception": false,
     "start_time": "2022-02-26T22:35:33.357971",
     "status": "completed"
    },
    "tags": []
   },
   "outputs": [
    {
     "name": "stdout",
     "output_type": "stream",
     "text": [
      "CPU times: user 7 µs, sys: 0 ns, total: 7 µs\n",
      "Wall time: 11.7 µs\n"
     ]
    }
   ],
   "source": [
    "%%time\n",
    "# Notebook Configuration...\n",
    "\n",
    "# Amount of data we want to load into the Model...\n",
    "DATA_ROWS = None\n",
    "# Dataframe, the amount of rows and cols to visualize...\n",
    "NROWS = 50\n",
    "NCOLS = 15\n",
    "# Main data location path...\n",
    "BASE_PATH = '...'"
   ]
  },
  {
   "cell_type": "code",
   "execution_count": 4,
   "id": "d1d1b2a9",
   "metadata": {
    "execution": {
     "iopub.execute_input": "2022-02-26T22:35:33.522846Z",
     "iopub.status.busy": "2022-02-26T22:35:33.522234Z",
     "iopub.status.idle": "2022-02-26T22:35:33.527539Z",
     "shell.execute_reply": "2022-02-26T22:35:33.527937Z",
     "shell.execute_reply.started": "2022-02-26T22:34:57.933294Z"
    },
    "papermill": {
     "duration": 0.053538,
     "end_time": "2022-02-26T22:35:33.528106",
     "exception": false,
     "start_time": "2022-02-26T22:35:33.474568",
     "status": "completed"
    },
    "tags": []
   },
   "outputs": [
    {
     "name": "stdout",
     "output_type": "stream",
     "text": [
      "CPU times: user 90 µs, sys: 0 ns, total: 90 µs\n",
      "Wall time: 94.2 µs\n"
     ]
    }
   ],
   "source": [
    "%%time\n",
    "# Configure notebook display settings to only use 2 decimal places, tables look nicer.\n",
    "pd.options.display.float_format = '{:,.2f}'.format\n",
    "pd.set_option('display.max_columns', NCOLS) \n",
    "pd.set_option('display.max_rows', NROWS)"
   ]
  },
  {
   "cell_type": "markdown",
   "id": "d8bfe436",
   "metadata": {
    "papermill": {
     "duration": 0.040672,
     "end_time": "2022-02-26T22:35:33.609875",
     "exception": false,
     "start_time": "2022-02-26T22:35:33.569203",
     "status": "completed"
    },
    "tags": []
   },
   "source": [
    "# Loading Information from CSV..."
   ]
  },
  {
   "cell_type": "code",
   "execution_count": 5,
   "id": "fe301df6",
   "metadata": {
    "execution": {
     "iopub.execute_input": "2022-02-26T22:35:33.697375Z",
     "iopub.status.busy": "2022-02-26T22:35:33.696739Z",
     "iopub.status.idle": "2022-02-26T22:35:33.776399Z",
     "shell.execute_reply": "2022-02-26T22:35:33.776944Z",
     "shell.execute_reply.started": "2022-02-26T22:34:57.948459Z"
    },
    "papermill": {
     "duration": 0.126394,
     "end_time": "2022-02-26T22:35:33.777105",
     "exception": false,
     "start_time": "2022-02-26T22:35:33.650711",
     "status": "completed"
    },
    "tags": []
   },
   "outputs": [
    {
     "name": "stdout",
     "output_type": "stream",
     "text": [
      "CPU times: user 34.6 ms, sys: 12.9 ms, total: 47.6 ms\n",
      "Wall time: 77.8 ms\n"
     ]
    }
   ],
   "source": [
    "%%time\n",
    "trn_data = pd.read_csv('/kaggle/input/spaceship-titanic/train.csv')\n",
    "tst_data = pd.read_csv('/kaggle/input/spaceship-titanic/test.csv')\n",
    "\n",
    "sub = pd.read_csv('/kaggle/input/spaceship-titanic/sample_submission.csv')"
   ]
  },
  {
   "cell_type": "markdown",
   "id": "670486bf",
   "metadata": {
    "papermill": {
     "duration": 0.041138,
     "end_time": "2022-02-26T22:35:33.860800",
     "exception": false,
     "start_time": "2022-02-26T22:35:33.819662",
     "status": "completed"
    },
    "tags": []
   },
   "source": [
    "# Exploring the Information Available..."
   ]
  },
  {
   "cell_type": "code",
   "execution_count": 6,
   "id": "1bf6911f",
   "metadata": {
    "execution": {
     "iopub.execute_input": "2022-02-26T22:35:33.946683Z",
     "iopub.status.busy": "2022-02-26T22:35:33.946079Z",
     "iopub.status.idle": "2022-02-26T22:35:33.980888Z",
     "shell.execute_reply": "2022-02-26T22:35:33.980362Z",
     "shell.execute_reply.started": "2022-02-26T22:34:58.004738Z"
    },
    "papermill": {
     "duration": 0.078916,
     "end_time": "2022-02-26T22:35:33.981034",
     "exception": false,
     "start_time": "2022-02-26T22:35:33.902118",
     "status": "completed"
    },
    "tags": []
   },
   "outputs": [
    {
     "name": "stdout",
     "output_type": "stream",
     "text": [
      "<class 'pandas.core.frame.DataFrame'>\n",
      "RangeIndex: 8693 entries, 0 to 8692\n",
      "Data columns (total 14 columns):\n",
      " #   Column        Non-Null Count  Dtype  \n",
      "---  ------        --------------  -----  \n",
      " 0   PassengerId   8693 non-null   object \n",
      " 1   HomePlanet    8492 non-null   object \n",
      " 2   CryoSleep     8476 non-null   object \n",
      " 3   Cabin         8494 non-null   object \n",
      " 4   Destination   8511 non-null   object \n",
      " 5   Age           8514 non-null   float64\n",
      " 6   VIP           8490 non-null   object \n",
      " 7   RoomService   8512 non-null   float64\n",
      " 8   FoodCourt     8510 non-null   float64\n",
      " 9   ShoppingMall  8485 non-null   float64\n",
      " 10  Spa           8510 non-null   float64\n",
      " 11  VRDeck        8505 non-null   float64\n",
      " 12  Name          8493 non-null   object \n",
      " 13  Transported   8693 non-null   bool   \n",
      "dtypes: bool(1), float64(6), object(7)\n",
      "memory usage: 891.5+ KB\n",
      "CPU times: user 12.1 ms, sys: 2.02 ms, total: 14.1 ms\n",
      "Wall time: 28.5 ms\n"
     ]
    }
   ],
   "source": [
    "%%time\n",
    "trn_data.info()"
   ]
  },
  {
   "cell_type": "code",
   "execution_count": 7,
   "id": "836509b1",
   "metadata": {
    "execution": {
     "iopub.execute_input": "2022-02-26T22:35:34.073560Z",
     "iopub.status.busy": "2022-02-26T22:35:34.072905Z",
     "iopub.status.idle": "2022-02-26T22:35:34.091308Z",
     "shell.execute_reply": "2022-02-26T22:35:34.090733Z",
     "shell.execute_reply.started": "2022-02-26T22:34:58.023254Z"
    },
    "papermill": {
     "duration": 0.068744,
     "end_time": "2022-02-26T22:35:34.091440",
     "exception": false,
     "start_time": "2022-02-26T22:35:34.022696",
     "status": "completed"
    },
    "tags": []
   },
   "outputs": [
    {
     "name": "stdout",
     "output_type": "stream",
     "text": [
      "CPU times: user 175 µs, sys: 0 ns, total: 175 µs\n",
      "Wall time: 181 µs\n"
     ]
    },
    {
     "data": {
      "text/html": [
       "<div>\n",
       "<style scoped>\n",
       "    .dataframe tbody tr th:only-of-type {\n",
       "        vertical-align: middle;\n",
       "    }\n",
       "\n",
       "    .dataframe tbody tr th {\n",
       "        vertical-align: top;\n",
       "    }\n",
       "\n",
       "    .dataframe thead th {\n",
       "        text-align: right;\n",
       "    }\n",
       "</style>\n",
       "<table border=\"1\" class=\"dataframe\">\n",
       "  <thead>\n",
       "    <tr style=\"text-align: right;\">\n",
       "      <th></th>\n",
       "      <th>PassengerId</th>\n",
       "      <th>HomePlanet</th>\n",
       "      <th>CryoSleep</th>\n",
       "      <th>Cabin</th>\n",
       "      <th>Destination</th>\n",
       "      <th>Age</th>\n",
       "      <th>VIP</th>\n",
       "      <th>RoomService</th>\n",
       "      <th>FoodCourt</th>\n",
       "      <th>ShoppingMall</th>\n",
       "      <th>Spa</th>\n",
       "      <th>VRDeck</th>\n",
       "      <th>Name</th>\n",
       "      <th>Transported</th>\n",
       "    </tr>\n",
       "  </thead>\n",
       "  <tbody>\n",
       "    <tr>\n",
       "      <th>0</th>\n",
       "      <td>0001_01</td>\n",
       "      <td>Europa</td>\n",
       "      <td>False</td>\n",
       "      <td>B/0/P</td>\n",
       "      <td>TRAPPIST-1e</td>\n",
       "      <td>39.00</td>\n",
       "      <td>False</td>\n",
       "      <td>0.00</td>\n",
       "      <td>0.00</td>\n",
       "      <td>0.00</td>\n",
       "      <td>0.00</td>\n",
       "      <td>0.00</td>\n",
       "      <td>Maham Ofracculy</td>\n",
       "      <td>False</td>\n",
       "    </tr>\n",
       "    <tr>\n",
       "      <th>1</th>\n",
       "      <td>0002_01</td>\n",
       "      <td>Earth</td>\n",
       "      <td>False</td>\n",
       "      <td>F/0/S</td>\n",
       "      <td>TRAPPIST-1e</td>\n",
       "      <td>24.00</td>\n",
       "      <td>False</td>\n",
       "      <td>109.00</td>\n",
       "      <td>9.00</td>\n",
       "      <td>25.00</td>\n",
       "      <td>549.00</td>\n",
       "      <td>44.00</td>\n",
       "      <td>Juanna Vines</td>\n",
       "      <td>True</td>\n",
       "    </tr>\n",
       "    <tr>\n",
       "      <th>2</th>\n",
       "      <td>0003_01</td>\n",
       "      <td>Europa</td>\n",
       "      <td>False</td>\n",
       "      <td>A/0/S</td>\n",
       "      <td>TRAPPIST-1e</td>\n",
       "      <td>58.00</td>\n",
       "      <td>True</td>\n",
       "      <td>43.00</td>\n",
       "      <td>3,576.00</td>\n",
       "      <td>0.00</td>\n",
       "      <td>6,715.00</td>\n",
       "      <td>49.00</td>\n",
       "      <td>Altark Susent</td>\n",
       "      <td>False</td>\n",
       "    </tr>\n",
       "    <tr>\n",
       "      <th>3</th>\n",
       "      <td>0003_02</td>\n",
       "      <td>Europa</td>\n",
       "      <td>False</td>\n",
       "      <td>A/0/S</td>\n",
       "      <td>TRAPPIST-1e</td>\n",
       "      <td>33.00</td>\n",
       "      <td>False</td>\n",
       "      <td>0.00</td>\n",
       "      <td>1,283.00</td>\n",
       "      <td>371.00</td>\n",
       "      <td>3,329.00</td>\n",
       "      <td>193.00</td>\n",
       "      <td>Solam Susent</td>\n",
       "      <td>False</td>\n",
       "    </tr>\n",
       "    <tr>\n",
       "      <th>4</th>\n",
       "      <td>0004_01</td>\n",
       "      <td>Earth</td>\n",
       "      <td>False</td>\n",
       "      <td>F/1/S</td>\n",
       "      <td>TRAPPIST-1e</td>\n",
       "      <td>16.00</td>\n",
       "      <td>False</td>\n",
       "      <td>303.00</td>\n",
       "      <td>70.00</td>\n",
       "      <td>151.00</td>\n",
       "      <td>565.00</td>\n",
       "      <td>2.00</td>\n",
       "      <td>Willy Santantines</td>\n",
       "      <td>True</td>\n",
       "    </tr>\n",
       "  </tbody>\n",
       "</table>\n",
       "</div>"
      ],
      "text/plain": [
       "  PassengerId HomePlanet CryoSleep  Cabin  Destination   Age    VIP  \\\n",
       "0     0001_01     Europa     False  B/0/P  TRAPPIST-1e 39.00  False   \n",
       "1     0002_01      Earth     False  F/0/S  TRAPPIST-1e 24.00  False   \n",
       "2     0003_01     Europa     False  A/0/S  TRAPPIST-1e 58.00   True   \n",
       "3     0003_02     Europa     False  A/0/S  TRAPPIST-1e 33.00  False   \n",
       "4     0004_01      Earth     False  F/1/S  TRAPPIST-1e 16.00  False   \n",
       "\n",
       "   RoomService  FoodCourt  ShoppingMall      Spa  VRDeck               Name  \\\n",
       "0         0.00       0.00          0.00     0.00    0.00    Maham Ofracculy   \n",
       "1       109.00       9.00         25.00   549.00   44.00       Juanna Vines   \n",
       "2        43.00   3,576.00          0.00 6,715.00   49.00      Altark Susent   \n",
       "3         0.00   1,283.00        371.00 3,329.00  193.00       Solam Susent   \n",
       "4       303.00      70.00        151.00   565.00    2.00  Willy Santantines   \n",
       "\n",
       "   Transported  \n",
       "0        False  \n",
       "1         True  \n",
       "2        False  \n",
       "3        False  \n",
       "4         True  "
      ]
     },
     "execution_count": 7,
     "metadata": {},
     "output_type": "execute_result"
    }
   ],
   "source": [
    "%%time\n",
    "trn_data.head()"
   ]
  },
  {
   "cell_type": "code",
   "execution_count": 8,
   "id": "2626e3c3",
   "metadata": {
    "execution": {
     "iopub.execute_input": "2022-02-26T22:35:34.185342Z",
     "iopub.status.busy": "2022-02-26T22:35:34.184706Z",
     "iopub.status.idle": "2022-02-26T22:35:34.209538Z",
     "shell.execute_reply": "2022-02-26T22:35:34.209052Z",
     "shell.execute_reply.started": "2022-02-26T22:34:58.042061Z"
    },
    "papermill": {
     "duration": 0.075411,
     "end_time": "2022-02-26T22:35:34.209671",
     "exception": false,
     "start_time": "2022-02-26T22:35:34.134260",
     "status": "completed"
    },
    "tags": []
   },
   "outputs": [
    {
     "name": "stdout",
     "output_type": "stream",
     "text": [
      "CPU times: user 16.8 ms, sys: 147 µs, total: 16.9 ms\n",
      "Wall time: 18.9 ms\n"
     ]
    },
    {
     "data": {
      "text/html": [
       "<div>\n",
       "<style scoped>\n",
       "    .dataframe tbody tr th:only-of-type {\n",
       "        vertical-align: middle;\n",
       "    }\n",
       "\n",
       "    .dataframe tbody tr th {\n",
       "        vertical-align: top;\n",
       "    }\n",
       "\n",
       "    .dataframe thead th {\n",
       "        text-align: right;\n",
       "    }\n",
       "</style>\n",
       "<table border=\"1\" class=\"dataframe\">\n",
       "  <thead>\n",
       "    <tr style=\"text-align: right;\">\n",
       "      <th></th>\n",
       "      <th>Age</th>\n",
       "      <th>RoomService</th>\n",
       "      <th>FoodCourt</th>\n",
       "      <th>ShoppingMall</th>\n",
       "      <th>Spa</th>\n",
       "      <th>VRDeck</th>\n",
       "    </tr>\n",
       "  </thead>\n",
       "  <tbody>\n",
       "    <tr>\n",
       "      <th>count</th>\n",
       "      <td>8,514.00</td>\n",
       "      <td>8,512.00</td>\n",
       "      <td>8,510.00</td>\n",
       "      <td>8,485.00</td>\n",
       "      <td>8,510.00</td>\n",
       "      <td>8,505.00</td>\n",
       "    </tr>\n",
       "    <tr>\n",
       "      <th>mean</th>\n",
       "      <td>28.83</td>\n",
       "      <td>224.69</td>\n",
       "      <td>458.08</td>\n",
       "      <td>173.73</td>\n",
       "      <td>311.14</td>\n",
       "      <td>304.85</td>\n",
       "    </tr>\n",
       "    <tr>\n",
       "      <th>std</th>\n",
       "      <td>14.49</td>\n",
       "      <td>666.72</td>\n",
       "      <td>1,611.49</td>\n",
       "      <td>604.70</td>\n",
       "      <td>1,136.71</td>\n",
       "      <td>1,145.72</td>\n",
       "    </tr>\n",
       "    <tr>\n",
       "      <th>min</th>\n",
       "      <td>0.00</td>\n",
       "      <td>0.00</td>\n",
       "      <td>0.00</td>\n",
       "      <td>0.00</td>\n",
       "      <td>0.00</td>\n",
       "      <td>0.00</td>\n",
       "    </tr>\n",
       "    <tr>\n",
       "      <th>25%</th>\n",
       "      <td>19.00</td>\n",
       "      <td>0.00</td>\n",
       "      <td>0.00</td>\n",
       "      <td>0.00</td>\n",
       "      <td>0.00</td>\n",
       "      <td>0.00</td>\n",
       "    </tr>\n",
       "    <tr>\n",
       "      <th>50%</th>\n",
       "      <td>27.00</td>\n",
       "      <td>0.00</td>\n",
       "      <td>0.00</td>\n",
       "      <td>0.00</td>\n",
       "      <td>0.00</td>\n",
       "      <td>0.00</td>\n",
       "    </tr>\n",
       "    <tr>\n",
       "      <th>75%</th>\n",
       "      <td>38.00</td>\n",
       "      <td>47.00</td>\n",
       "      <td>76.00</td>\n",
       "      <td>27.00</td>\n",
       "      <td>59.00</td>\n",
       "      <td>46.00</td>\n",
       "    </tr>\n",
       "    <tr>\n",
       "      <th>max</th>\n",
       "      <td>79.00</td>\n",
       "      <td>14,327.00</td>\n",
       "      <td>29,813.00</td>\n",
       "      <td>23,492.00</td>\n",
       "      <td>22,408.00</td>\n",
       "      <td>24,133.00</td>\n",
       "    </tr>\n",
       "  </tbody>\n",
       "</table>\n",
       "</div>"
      ],
      "text/plain": [
       "           Age  RoomService  FoodCourt  ShoppingMall       Spa    VRDeck\n",
       "count 8,514.00     8,512.00   8,510.00      8,485.00  8,510.00  8,505.00\n",
       "mean     28.83       224.69     458.08        173.73    311.14    304.85\n",
       "std      14.49       666.72   1,611.49        604.70  1,136.71  1,145.72\n",
       "min       0.00         0.00       0.00          0.00      0.00      0.00\n",
       "25%      19.00         0.00       0.00          0.00      0.00      0.00\n",
       "50%      27.00         0.00       0.00          0.00      0.00      0.00\n",
       "75%      38.00        47.00      76.00         27.00     59.00     46.00\n",
       "max      79.00    14,327.00  29,813.00     23,492.00 22,408.00 24,133.00"
      ]
     },
     "execution_count": 8,
     "metadata": {},
     "output_type": "execute_result"
    }
   ],
   "source": [
    "%%time\n",
    "trn_data.describe()"
   ]
  },
  {
   "cell_type": "code",
   "execution_count": 9,
   "id": "886e748e",
   "metadata": {
    "execution": {
     "iopub.execute_input": "2022-02-26T22:35:34.301623Z",
     "iopub.status.busy": "2022-02-26T22:35:34.301015Z",
     "iopub.status.idle": "2022-02-26T22:35:34.304714Z",
     "shell.execute_reply": "2022-02-26T22:35:34.305165Z",
     "shell.execute_reply.started": "2022-02-26T22:34:58.071328Z"
    },
    "papermill": {
     "duration": 0.052646,
     "end_time": "2022-02-26T22:35:34.305351",
     "exception": false,
     "start_time": "2022-02-26T22:35:34.252705",
     "status": "completed"
    },
    "tags": []
   },
   "outputs": [
    {
     "name": "stdout",
     "output_type": "stream",
     "text": [
      "CPU times: user 3 µs, sys: 1 µs, total: 4 µs\n",
      "Wall time: 8.11 µs\n"
     ]
    }
   ],
   "source": [
    "%%time\n",
    "def describe_categ(df):\n",
    "    for col in df.columns:\n",
    "        unique_samples = list(df[col].unique())\n",
    "        unique_values = df[col].nunique()\n",
    "\n",
    "        print(f' {col}: {unique_values} Unique Values,  Data Sample >> {unique_samples[:5]}')\n",
    "    print(' ...')\n",
    "    return None"
   ]
  },
  {
   "cell_type": "code",
   "execution_count": 10,
   "id": "438bb113",
   "metadata": {
    "execution": {
     "iopub.execute_input": "2022-02-26T22:35:34.398734Z",
     "iopub.status.busy": "2022-02-26T22:35:34.398116Z",
     "iopub.status.idle": "2022-02-26T22:35:34.426731Z",
     "shell.execute_reply": "2022-02-26T22:35:34.427196Z",
     "shell.execute_reply.started": "2022-02-26T22:34:58.078729Z"
    },
    "papermill": {
     "duration": 0.078302,
     "end_time": "2022-02-26T22:35:34.427385",
     "exception": false,
     "start_time": "2022-02-26T22:35:34.349083",
     "status": "completed"
    },
    "tags": []
   },
   "outputs": [
    {
     "name": "stdout",
     "output_type": "stream",
     "text": [
      " PassengerId: 8693 Unique Values,  Data Sample >> ['0001_01', '0002_01', '0003_01', '0003_02', '0004_01']\n",
      " HomePlanet: 3 Unique Values,  Data Sample >> ['Europa', 'Earth', 'Mars', nan]\n",
      " CryoSleep: 2 Unique Values,  Data Sample >> [False, True, nan]\n",
      " Cabin: 6560 Unique Values,  Data Sample >> ['B/0/P', 'F/0/S', 'A/0/S', 'F/1/S', 'F/0/P']\n",
      " Destination: 3 Unique Values,  Data Sample >> ['TRAPPIST-1e', 'PSO J318.5-22', '55 Cancri e', nan]\n",
      " Age: 80 Unique Values,  Data Sample >> [39.0, 24.0, 58.0, 33.0, 16.0]\n",
      " VIP: 2 Unique Values,  Data Sample >> [False, True, nan]\n",
      " RoomService: 1273 Unique Values,  Data Sample >> [0.0, 109.0, 43.0, 303.0, 42.0]\n",
      " FoodCourt: 1507 Unique Values,  Data Sample >> [0.0, 9.0, 3576.0, 1283.0, 70.0]\n",
      " ShoppingMall: 1115 Unique Values,  Data Sample >> [0.0, 25.0, 371.0, 151.0, 3.0]\n",
      " Spa: 1327 Unique Values,  Data Sample >> [0.0, 549.0, 6715.0, 3329.0, 565.0]\n",
      " VRDeck: 1306 Unique Values,  Data Sample >> [0.0, 44.0, 49.0, 193.0, 2.0]\n",
      " Name: 8473 Unique Values,  Data Sample >> ['Maham Ofracculy', 'Juanna Vines', 'Altark Susent', 'Solam Susent', 'Willy Santantines']\n",
      " Transported: 2 Unique Values,  Data Sample >> [False, True]\n",
      " ...\n",
      "CPU times: user 24.7 ms, sys: 1.32 ms, total: 26 ms\n",
      "Wall time: 26.7 ms\n"
     ]
    }
   ],
   "source": [
    "%%time\n",
    "describe_categ(trn_data)"
   ]
  },
  {
   "cell_type": "code",
   "execution_count": 11,
   "id": "edddc2e8",
   "metadata": {
    "execution": {
     "iopub.execute_input": "2022-02-26T22:35:34.527127Z",
     "iopub.status.busy": "2022-02-26T22:35:34.526530Z",
     "iopub.status.idle": "2022-02-26T22:35:34.538324Z",
     "shell.execute_reply": "2022-02-26T22:35:34.537758Z",
     "shell.execute_reply.started": "2022-02-26T22:34:58.114405Z"
    },
    "papermill": {
     "duration": 0.06696,
     "end_time": "2022-02-26T22:35:34.538467",
     "exception": false,
     "start_time": "2022-02-26T22:35:34.471507",
     "status": "completed"
    },
    "tags": []
   },
   "outputs": [
    {
     "name": "stdout",
     "output_type": "stream",
     "text": [
      " PassengerId: 4277 Unique Values,  Data Sample >> ['0013_01', '0018_01', '0019_01', '0021_01', '0023_01']\n",
      " HomePlanet: 3 Unique Values,  Data Sample >> ['Earth', 'Europa', 'Mars', nan]\n",
      " CryoSleep: 2 Unique Values,  Data Sample >> [True, False, nan]\n",
      " Cabin: 3265 Unique Values,  Data Sample >> ['G/3/S', 'F/4/S', 'C/0/S', 'C/1/S', 'F/5/S']\n",
      " Destination: 3 Unique Values,  Data Sample >> ['TRAPPIST-1e', '55 Cancri e', 'PSO J318.5-22', nan]\n",
      " Age: 79 Unique Values,  Data Sample >> [27.0, 19.0, 31.0, 38.0, 20.0]\n",
      " VIP: 2 Unique Values,  Data Sample >> [False, nan, True]\n",
      " RoomService: 842 Unique Values,  Data Sample >> [0.0, 10.0, 339.0, 932.0, 2.0]\n",
      " FoodCourt: 902 Unique Values,  Data Sample >> [0.0, 9.0, 6652.0, 1615.0, nan]\n",
      " ShoppingMall: 715 Unique Values,  Data Sample >> [0.0, 635.0, 263.0, 136.0, nan]\n",
      " Spa: 833 Unique Values,  Data Sample >> [0.0, 2823.0, 181.0, 113.0, 237.0]\n",
      " VRDeck: 796 Unique Values,  Data Sample >> [0.0, 585.0, 60.0, 1010.0, 224.0]\n",
      " Name: 4176 Unique Values,  Data Sample >> ['Nelly Carsoning', 'Lerome Peckers', 'Sabih Unhearfus', 'Meratz Caltilter', 'Brence Harperez']\n",
      " ...\n",
      "CPU times: user 13.4 ms, sys: 3.23 ms, total: 16.6 ms\n",
      "Wall time: 14.1 ms\n"
     ]
    }
   ],
   "source": [
    "%%time\n",
    "describe_categ(tst_data)"
   ]
  },
  {
   "cell_type": "code",
   "execution_count": 12,
   "id": "fcce608f",
   "metadata": {
    "execution": {
     "iopub.execute_input": "2022-02-26T22:35:34.633951Z",
     "iopub.status.busy": "2022-02-26T22:35:34.633348Z",
     "iopub.status.idle": "2022-02-26T22:35:34.641972Z",
     "shell.execute_reply": "2022-02-26T22:35:34.642427Z",
     "shell.execute_reply.started": "2022-02-26T22:34:58.134910Z"
    },
    "papermill": {
     "duration": 0.057504,
     "end_time": "2022-02-26T22:35:34.642592",
     "exception": false,
     "start_time": "2022-02-26T22:35:34.585088",
     "status": "completed"
    },
    "tags": []
   },
   "outputs": [
    {
     "data": {
      "text/plain": [
       "PassengerId       0\n",
       "HomePlanet      201\n",
       "CryoSleep       217\n",
       "Cabin           199\n",
       "Destination     182\n",
       "Age             179\n",
       "VIP             203\n",
       "RoomService     181\n",
       "FoodCourt       183\n",
       "ShoppingMall    208\n",
       "Spa             183\n",
       "VRDeck          188\n",
       "Name            200\n",
       "Transported       0\n",
       "dtype: int64"
      ]
     },
     "execution_count": 12,
     "metadata": {},
     "output_type": "execute_result"
    }
   ],
   "source": [
    "trn_data.isnull().sum()"
   ]
  },
  {
   "cell_type": "code",
   "execution_count": 13,
   "id": "ca32c049",
   "metadata": {
    "execution": {
     "iopub.execute_input": "2022-02-26T22:35:34.746451Z",
     "iopub.status.busy": "2022-02-26T22:35:34.734805Z",
     "iopub.status.idle": "2022-02-26T22:35:34.748904Z",
     "shell.execute_reply": "2022-02-26T22:35:34.749375Z",
     "shell.execute_reply.started": "2022-02-26T22:34:58.148562Z"
    },
    "papermill": {
     "duration": 0.061961,
     "end_time": "2022-02-26T22:35:34.749540",
     "exception": false,
     "start_time": "2022-02-26T22:35:34.687579",
     "status": "completed"
    },
    "tags": []
   },
   "outputs": [
    {
     "data": {
      "text/html": [
       "<div>\n",
       "<style scoped>\n",
       "    .dataframe tbody tr th:only-of-type {\n",
       "        vertical-align: middle;\n",
       "    }\n",
       "\n",
       "    .dataframe tbody tr th {\n",
       "        vertical-align: top;\n",
       "    }\n",
       "\n",
       "    .dataframe thead th {\n",
       "        text-align: right;\n",
       "    }\n",
       "</style>\n",
       "<table border=\"1\" class=\"dataframe\">\n",
       "  <thead>\n",
       "    <tr style=\"text-align: right;\">\n",
       "      <th></th>\n",
       "      <th>PassengerId</th>\n",
       "      <th>HomePlanet</th>\n",
       "      <th>CryoSleep</th>\n",
       "      <th>Cabin</th>\n",
       "      <th>Destination</th>\n",
       "      <th>Age</th>\n",
       "      <th>VIP</th>\n",
       "      <th>RoomService</th>\n",
       "      <th>FoodCourt</th>\n",
       "      <th>ShoppingMall</th>\n",
       "      <th>Spa</th>\n",
       "      <th>VRDeck</th>\n",
       "      <th>Name</th>\n",
       "    </tr>\n",
       "  </thead>\n",
       "  <tbody>\n",
       "    <tr>\n",
       "      <th>0</th>\n",
       "      <td>0013_01</td>\n",
       "      <td>Earth</td>\n",
       "      <td>True</td>\n",
       "      <td>G/3/S</td>\n",
       "      <td>TRAPPIST-1e</td>\n",
       "      <td>27.00</td>\n",
       "      <td>False</td>\n",
       "      <td>0.00</td>\n",
       "      <td>0.00</td>\n",
       "      <td>0.00</td>\n",
       "      <td>0.00</td>\n",
       "      <td>0.00</td>\n",
       "      <td>Nelly Carsoning</td>\n",
       "    </tr>\n",
       "    <tr>\n",
       "      <th>1</th>\n",
       "      <td>0018_01</td>\n",
       "      <td>Earth</td>\n",
       "      <td>False</td>\n",
       "      <td>F/4/S</td>\n",
       "      <td>TRAPPIST-1e</td>\n",
       "      <td>19.00</td>\n",
       "      <td>False</td>\n",
       "      <td>0.00</td>\n",
       "      <td>9.00</td>\n",
       "      <td>0.00</td>\n",
       "      <td>2,823.00</td>\n",
       "      <td>0.00</td>\n",
       "      <td>Lerome Peckers</td>\n",
       "    </tr>\n",
       "    <tr>\n",
       "      <th>2</th>\n",
       "      <td>0019_01</td>\n",
       "      <td>Europa</td>\n",
       "      <td>True</td>\n",
       "      <td>C/0/S</td>\n",
       "      <td>55 Cancri e</td>\n",
       "      <td>31.00</td>\n",
       "      <td>False</td>\n",
       "      <td>0.00</td>\n",
       "      <td>0.00</td>\n",
       "      <td>0.00</td>\n",
       "      <td>0.00</td>\n",
       "      <td>0.00</td>\n",
       "      <td>Sabih Unhearfus</td>\n",
       "    </tr>\n",
       "    <tr>\n",
       "      <th>3</th>\n",
       "      <td>0021_01</td>\n",
       "      <td>Europa</td>\n",
       "      <td>False</td>\n",
       "      <td>C/1/S</td>\n",
       "      <td>TRAPPIST-1e</td>\n",
       "      <td>38.00</td>\n",
       "      <td>False</td>\n",
       "      <td>0.00</td>\n",
       "      <td>6,652.00</td>\n",
       "      <td>0.00</td>\n",
       "      <td>181.00</td>\n",
       "      <td>585.00</td>\n",
       "      <td>Meratz Caltilter</td>\n",
       "    </tr>\n",
       "    <tr>\n",
       "      <th>4</th>\n",
       "      <td>0023_01</td>\n",
       "      <td>Earth</td>\n",
       "      <td>False</td>\n",
       "      <td>F/5/S</td>\n",
       "      <td>TRAPPIST-1e</td>\n",
       "      <td>20.00</td>\n",
       "      <td>False</td>\n",
       "      <td>10.00</td>\n",
       "      <td>0.00</td>\n",
       "      <td>635.00</td>\n",
       "      <td>0.00</td>\n",
       "      <td>0.00</td>\n",
       "      <td>Brence Harperez</td>\n",
       "    </tr>\n",
       "  </tbody>\n",
       "</table>\n",
       "</div>"
      ],
      "text/plain": [
       "  PassengerId HomePlanet CryoSleep  Cabin  Destination   Age    VIP  \\\n",
       "0     0013_01      Earth      True  G/3/S  TRAPPIST-1e 27.00  False   \n",
       "1     0018_01      Earth     False  F/4/S  TRAPPIST-1e 19.00  False   \n",
       "2     0019_01     Europa      True  C/0/S  55 Cancri e 31.00  False   \n",
       "3     0021_01     Europa     False  C/1/S  TRAPPIST-1e 38.00  False   \n",
       "4     0023_01      Earth     False  F/5/S  TRAPPIST-1e 20.00  False   \n",
       "\n",
       "   RoomService  FoodCourt  ShoppingMall      Spa  VRDeck              Name  \n",
       "0         0.00       0.00          0.00     0.00    0.00   Nelly Carsoning  \n",
       "1         0.00       9.00          0.00 2,823.00    0.00    Lerome Peckers  \n",
       "2         0.00       0.00          0.00     0.00    0.00   Sabih Unhearfus  \n",
       "3         0.00   6,652.00          0.00   181.00  585.00  Meratz Caltilter  \n",
       "4        10.00       0.00        635.00     0.00    0.00   Brence Harperez  "
      ]
     },
     "execution_count": 13,
     "metadata": {},
     "output_type": "execute_result"
    }
   ],
   "source": [
    "tst_data.head()"
   ]
  },
  {
   "cell_type": "code",
   "execution_count": 14,
   "id": "e5607650",
   "metadata": {
    "execution": {
     "iopub.execute_input": "2022-02-26T22:35:34.846741Z",
     "iopub.status.busy": "2022-02-26T22:35:34.845001Z",
     "iopub.status.idle": "2022-02-26T22:35:34.854958Z",
     "shell.execute_reply": "2022-02-26T22:35:34.855400Z",
     "shell.execute_reply.started": "2022-02-26T22:34:58.169685Z"
    },
    "papermill": {
     "duration": 0.059154,
     "end_time": "2022-02-26T22:35:34.855574",
     "exception": false,
     "start_time": "2022-02-26T22:35:34.796420",
     "status": "completed"
    },
    "tags": []
   },
   "outputs": [
    {
     "data": {
      "text/plain": [
       "PassengerId       0\n",
       "HomePlanet       87\n",
       "CryoSleep        93\n",
       "Cabin           100\n",
       "Destination      92\n",
       "Age              91\n",
       "VIP              93\n",
       "RoomService      82\n",
       "FoodCourt       106\n",
       "ShoppingMall     98\n",
       "Spa             101\n",
       "VRDeck           80\n",
       "Name             94\n",
       "dtype: int64"
      ]
     },
     "execution_count": 14,
     "metadata": {},
     "output_type": "execute_result"
    }
   ],
   "source": [
    "tst_data.isnull().sum()"
   ]
  },
  {
   "cell_type": "code",
   "execution_count": 15,
   "id": "21bcb320",
   "metadata": {
    "execution": {
     "iopub.execute_input": "2022-02-26T22:35:34.956891Z",
     "iopub.status.busy": "2022-02-26T22:35:34.956280Z",
     "iopub.status.idle": "2022-02-26T22:35:34.958665Z",
     "shell.execute_reply": "2022-02-26T22:35:34.959176Z",
     "shell.execute_reply.started": "2022-02-26T22:34:58.181066Z"
    },
    "papermill": {
     "duration": 0.056859,
     "end_time": "2022-02-26T22:35:34.959361",
     "exception": false,
     "start_time": "2022-02-26T22:35:34.902502",
     "status": "completed"
    },
    "tags": []
   },
   "outputs": [
    {
     "data": {
      "text/html": [
       "<div>\n",
       "<style scoped>\n",
       "    .dataframe tbody tr th:only-of-type {\n",
       "        vertical-align: middle;\n",
       "    }\n",
       "\n",
       "    .dataframe tbody tr th {\n",
       "        vertical-align: top;\n",
       "    }\n",
       "\n",
       "    .dataframe thead th {\n",
       "        text-align: right;\n",
       "    }\n",
       "</style>\n",
       "<table border=\"1\" class=\"dataframe\">\n",
       "  <thead>\n",
       "    <tr style=\"text-align: right;\">\n",
       "      <th></th>\n",
       "      <th>PassengerId</th>\n",
       "      <th>Transported</th>\n",
       "    </tr>\n",
       "  </thead>\n",
       "  <tbody>\n",
       "    <tr>\n",
       "      <th>0</th>\n",
       "      <td>0013_01</td>\n",
       "      <td>False</td>\n",
       "    </tr>\n",
       "    <tr>\n",
       "      <th>1</th>\n",
       "      <td>0018_01</td>\n",
       "      <td>False</td>\n",
       "    </tr>\n",
       "    <tr>\n",
       "      <th>2</th>\n",
       "      <td>0019_01</td>\n",
       "      <td>False</td>\n",
       "    </tr>\n",
       "    <tr>\n",
       "      <th>3</th>\n",
       "      <td>0021_01</td>\n",
       "      <td>False</td>\n",
       "    </tr>\n",
       "    <tr>\n",
       "      <th>4</th>\n",
       "      <td>0023_01</td>\n",
       "      <td>False</td>\n",
       "    </tr>\n",
       "  </tbody>\n",
       "</table>\n",
       "</div>"
      ],
      "text/plain": [
       "  PassengerId  Transported\n",
       "0     0013_01        False\n",
       "1     0018_01        False\n",
       "2     0019_01        False\n",
       "3     0021_01        False\n",
       "4     0023_01        False"
      ]
     },
     "execution_count": 15,
     "metadata": {},
     "output_type": "execute_result"
    }
   ],
   "source": [
    "sub.head()"
   ]
  },
  {
   "cell_type": "markdown",
   "id": "91623ee6",
   "metadata": {
    "papermill": {
     "duration": 0.045983,
     "end_time": "2022-02-26T22:35:35.051753",
     "exception": false,
     "start_time": "2022-02-26T22:35:35.005770",
     "status": "completed"
    },
    "tags": []
   },
   "source": [
    "# Exploring the Target Variable..."
   ]
  },
  {
   "cell_type": "code",
   "execution_count": 16,
   "id": "80abfedd",
   "metadata": {
    "execution": {
     "iopub.execute_input": "2022-02-26T22:35:35.150037Z",
     "iopub.status.busy": "2022-02-26T22:35:35.149452Z",
     "iopub.status.idle": "2022-02-26T22:35:35.152423Z",
     "shell.execute_reply": "2022-02-26T22:35:35.153014Z",
     "shell.execute_reply.started": "2022-02-26T22:34:58.192038Z"
    },
    "papermill": {
     "duration": 0.055094,
     "end_time": "2022-02-26T22:35:35.153180",
     "exception": false,
     "start_time": "2022-02-26T22:35:35.098086",
     "status": "completed"
    },
    "tags": []
   },
   "outputs": [
    {
     "name": "stdout",
     "output_type": "stream",
     "text": [
      "CPU times: user 4 µs, sys: 0 ns, total: 4 µs\n",
      "Wall time: 8.58 µs\n"
     ]
    }
   ],
   "source": [
    "%%time\n",
    "def analyze_categ_target(df, target = 'Transported'):\n",
    "    \n",
    "    transported = df[df[target] == True].shape[0]\n",
    "    not_transported = df[df[target] == False].shape[0]\n",
    "    total = transported + not_transported\n",
    "    \n",
    "    print(f'Transported     : {transported / total:.2f} %')\n",
    "    print(f'Not Transported : {not_transported / total:.2f} %')\n",
    "    print(f'Total Passengers: {total}')\n",
    "    print('...')"
   ]
  },
  {
   "cell_type": "code",
   "execution_count": 17,
   "id": "56c18e5e",
   "metadata": {
    "execution": {
     "iopub.execute_input": "2022-02-26T22:35:35.255150Z",
     "iopub.status.busy": "2022-02-26T22:35:35.254117Z",
     "iopub.status.idle": "2022-02-26T22:35:35.261265Z",
     "shell.execute_reply": "2022-02-26T22:35:35.260803Z",
     "shell.execute_reply.started": "2022-02-26T22:34:58.199524Z"
    },
    "papermill": {
     "duration": 0.061501,
     "end_time": "2022-02-26T22:35:35.261410",
     "exception": false,
     "start_time": "2022-02-26T22:35:35.199909",
     "status": "completed"
    },
    "tags": []
   },
   "outputs": [
    {
     "name": "stdout",
     "output_type": "stream",
     "text": [
      "Transported     : 0.50 %\n",
      "Not Transported : 0.50 %\n",
      "Total Passengers: 8693\n",
      "...\n",
      "CPU times: user 5.66 ms, sys: 110 µs, total: 5.77 ms\n",
      "Wall time: 6.5 ms\n"
     ]
    }
   ],
   "source": [
    "%%time\n",
    "analyze_categ_target(trn_data)"
   ]
  },
  {
   "cell_type": "code",
   "execution_count": 18,
   "id": "16dc4b13",
   "metadata": {
    "execution": {
     "iopub.execute_input": "2022-02-26T22:35:35.364363Z",
     "iopub.status.busy": "2022-02-26T22:35:35.363387Z",
     "iopub.status.idle": "2022-02-26T22:35:35.370190Z",
     "shell.execute_reply": "2022-02-26T22:35:35.370709Z",
     "shell.execute_reply.started": "2022-02-26T22:34:58.213788Z"
    },
    "papermill": {
     "duration": 0.062185,
     "end_time": "2022-02-26T22:35:35.370894",
     "exception": false,
     "start_time": "2022-02-26T22:35:35.308709",
     "status": "completed"
    },
    "tags": []
   },
   "outputs": [
    {
     "name": "stdout",
     "output_type": "stream",
     "text": [
      "Overlapped Passengers: 0\n",
      "CPU times: user 3.52 ms, sys: 918 µs, total: 4.44 ms\n",
      "Wall time: 4.01 ms\n"
     ]
    }
   ],
   "source": [
    "%%time\n",
    "trn_passenger_ids = set(trn_data['PassengerId'].unique())\n",
    "tst_passenger_ids = set(tst_data['PassengerId'].unique())\n",
    "intersection = trn_passenger_ids.intersection(tst_passenger_ids)\n",
    "print('Overlapped Passengers:', len(intersection))"
   ]
  },
  {
   "cell_type": "markdown",
   "id": "a192ae7a",
   "metadata": {
    "papermill": {
     "duration": 0.046759,
     "end_time": "2022-02-26T22:35:35.467420",
     "exception": false,
     "start_time": "2022-02-26T22:35:35.420661",
     "status": "completed"
    },
    "tags": []
   },
   "source": [
    "# Feature Engineering"
   ]
  },
  {
   "cell_type": "code",
   "execution_count": 19,
   "id": "db308259",
   "metadata": {
    "execution": {
     "iopub.execute_input": "2022-02-26T22:35:35.570008Z",
     "iopub.status.busy": "2022-02-26T22:35:35.569120Z",
     "iopub.status.idle": "2022-02-26T22:35:35.571578Z",
     "shell.execute_reply": "2022-02-26T22:35:35.572038Z",
     "shell.execute_reply.started": "2022-02-26T22:34:58.225000Z"
    },
    "papermill": {
     "duration": 0.056156,
     "end_time": "2022-02-26T22:35:35.572206",
     "exception": false,
     "start_time": "2022-02-26T22:35:35.516050",
     "status": "completed"
    },
    "tags": []
   },
   "outputs": [],
   "source": [
    "def fill_missing(df):\n",
    "    '''\n",
    "    \n",
    "    '''\n",
    "    \n",
    "    numerics = ['int16', 'int32', 'int64', 'float16', 'float32', 'float64']\n",
    "    numeric_tmp = df.select_dtypes(include = numerics)\n",
    "    categ_tmp = df.select_dtypes(exclude = numerics)\n",
    "\n",
    "    for col in numeric_tmp.columns:\n",
    "        print(col)\n",
    "        df[col] = df[col].fillna(value = df[col].mean())\n",
    "        \n",
    "    for col in categ_tmp.columns:\n",
    "        print(col)\n",
    "        df[col] = df[col].fillna(value = df[col].mode()[0])\n",
    "        \n",
    "    print('...')\n",
    "    \n",
    "    return df"
   ]
  },
  {
   "cell_type": "code",
   "execution_count": 20,
   "id": "df27e4a5",
   "metadata": {
    "execution": {
     "iopub.execute_input": "2022-02-26T22:35:35.671767Z",
     "iopub.status.busy": "2022-02-26T22:35:35.670834Z",
     "iopub.status.idle": "2022-02-26T22:35:35.726762Z",
     "shell.execute_reply": "2022-02-26T22:35:35.726285Z",
     "shell.execute_reply.started": "2022-02-26T22:34:58.234130Z"
    },
    "papermill": {
     "duration": 0.108142,
     "end_time": "2022-02-26T22:35:35.726900",
     "exception": false,
     "start_time": "2022-02-26T22:35:35.618758",
     "status": "completed"
    },
    "tags": []
   },
   "outputs": [
    {
     "name": "stdout",
     "output_type": "stream",
     "text": [
      "Age\n",
      "RoomService\n",
      "FoodCourt\n",
      "ShoppingMall\n",
      "Spa\n",
      "VRDeck\n",
      "PassengerId\n",
      "HomePlanet\n",
      "CryoSleep\n",
      "Cabin\n",
      "Destination\n",
      "VIP\n",
      "Name\n",
      "Transported\n",
      "...\n",
      "Age\n",
      "RoomService\n",
      "FoodCourt\n",
      "ShoppingMall\n",
      "Spa\n",
      "VRDeck\n",
      "PassengerId\n",
      "HomePlanet\n",
      "CryoSleep\n",
      "Cabin\n",
      "Destination\n",
      "VIP\n",
      "Name\n",
      "...\n"
     ]
    }
   ],
   "source": [
    "trn_data =  fill_missing(trn_data)\n",
    "tst_data =  fill_missing(tst_data)"
   ]
  },
  {
   "cell_type": "code",
   "execution_count": 21,
   "id": "aaeb1d66",
   "metadata": {
    "execution": {
     "iopub.execute_input": "2022-02-26T22:35:35.825381Z",
     "iopub.status.busy": "2022-02-26T22:35:35.824689Z",
     "iopub.status.idle": "2022-02-26T22:35:35.830250Z",
     "shell.execute_reply": "2022-02-26T22:35:35.830675Z",
     "shell.execute_reply.started": "2022-02-26T22:34:58.299970Z"
    },
    "papermill": {
     "duration": 0.0566,
     "end_time": "2022-02-26T22:35:35.830893",
     "exception": false,
     "start_time": "2022-02-26T22:35:35.774293",
     "status": "completed"
    },
    "tags": []
   },
   "outputs": [
    {
     "name": "stdout",
     "output_type": "stream",
     "text": [
      "CPU times: user 4 µs, sys: 1e+03 ns, total: 5 µs\n",
      "Wall time: 7.87 µs\n"
     ]
    }
   ],
   "source": [
    "%%time\n",
    "def total_billed(df):\n",
    "    '''\n",
    "    Calculates total amount billed in the trip to the passenger... \n",
    "    \n",
    "    '''\n",
    "    \n",
    "    df['Total_Billed'] = df['RoomService'] + df['FoodCourt'] + df['ShoppingMall'] + df['Spa'] + df['VRDeck']\n",
    "    return df"
   ]
  },
  {
   "cell_type": "code",
   "execution_count": 22,
   "id": "7fb81503",
   "metadata": {
    "execution": {
     "iopub.execute_input": "2022-02-26T22:35:35.930794Z",
     "iopub.status.busy": "2022-02-26T22:35:35.930194Z",
     "iopub.status.idle": "2022-02-26T22:35:35.938332Z",
     "shell.execute_reply": "2022-02-26T22:35:35.938863Z",
     "shell.execute_reply.started": "2022-02-26T22:34:58.307087Z"
    },
    "papermill": {
     "duration": 0.059118,
     "end_time": "2022-02-26T22:35:35.939030",
     "exception": false,
     "start_time": "2022-02-26T22:35:35.879912",
     "status": "completed"
    },
    "tags": []
   },
   "outputs": [
    {
     "name": "stdout",
     "output_type": "stream",
     "text": [
      "CPU times: user 2.75 ms, sys: 0 ns, total: 2.75 ms\n",
      "Wall time: 2.77 ms\n"
     ]
    }
   ],
   "source": [
    "%%time\n",
    "trn_data = total_billed(trn_data)\n",
    "tst_data = total_billed(tst_data)"
   ]
  },
  {
   "cell_type": "code",
   "execution_count": 23,
   "id": "7dfff934",
   "metadata": {
    "execution": {
     "iopub.execute_input": "2022-02-26T22:35:36.041734Z",
     "iopub.status.busy": "2022-02-26T22:35:36.041106Z",
     "iopub.status.idle": "2022-02-26T22:35:36.046468Z",
     "shell.execute_reply": "2022-02-26T22:35:36.045971Z",
     "shell.execute_reply.started": "2022-02-26T22:34:58.318860Z"
    },
    "papermill": {
     "duration": 0.058489,
     "end_time": "2022-02-26T22:35:36.046614",
     "exception": false,
     "start_time": "2022-02-26T22:35:35.988125",
     "status": "completed"
    },
    "tags": []
   },
   "outputs": [],
   "source": [
    "def name_ext(df):\n",
    "    '''\n",
    "    '''\n",
    "    df['FirstName'] = df['Name'].str.split(' ', expand=True)[0]\n",
    "    df['FamilyName'] = df['Name'].str.split(' ', expand=True)[1]\n",
    "    df.drop(columns = ['Name'], inplace = True)\n",
    "    return df"
   ]
  },
  {
   "cell_type": "code",
   "execution_count": 24,
   "id": "9d35dce7",
   "metadata": {
    "execution": {
     "iopub.execute_input": "2022-02-26T22:35:36.165188Z",
     "iopub.status.busy": "2022-02-26T22:35:36.154711Z",
     "iopub.status.idle": "2022-02-26T22:35:36.293329Z",
     "shell.execute_reply": "2022-02-26T22:35:36.292823Z",
     "shell.execute_reply.started": "2022-02-26T22:34:58.325496Z"
    },
    "papermill": {
     "duration": 0.198573,
     "end_time": "2022-02-26T22:35:36.293463",
     "exception": false,
     "start_time": "2022-02-26T22:35:36.094890",
     "status": "completed"
    },
    "tags": []
   },
   "outputs": [
    {
     "name": "stdout",
     "output_type": "stream",
     "text": [
      "CPU times: user 138 ms, sys: 4.17 ms, total: 143 ms\n",
      "Wall time: 141 ms\n"
     ]
    }
   ],
   "source": [
    "%%time\n",
    "trn_data = name_ext(trn_data)\n",
    "tst_data = name_ext(tst_data)"
   ]
  },
  {
   "cell_type": "code",
   "execution_count": 25,
   "id": "d565f94c",
   "metadata": {
    "execution": {
     "iopub.execute_input": "2022-02-26T22:35:36.396095Z",
     "iopub.status.busy": "2022-02-26T22:35:36.395503Z",
     "iopub.status.idle": "2022-02-26T22:35:36.399996Z",
     "shell.execute_reply": "2022-02-26T22:35:36.400418Z",
     "shell.execute_reply.started": "2022-02-26T22:34:58.386438Z"
    },
    "papermill": {
     "duration": 0.057874,
     "end_time": "2022-02-26T22:35:36.400580",
     "exception": false,
     "start_time": "2022-02-26T22:35:36.342706",
     "status": "completed"
    },
    "tags": []
   },
   "outputs": [],
   "source": [
    "def cabin_separation(df):\n",
    "    '''\n",
    "    '''\n",
    "    df['CabinDeck'] = df['Cabin'].str.split('/', expand=True)[0]\n",
    "    df['CabinNum'] = df['Cabin'].str.split('/', expand=True)[1]\n",
    "    df['CabinSide'] = df['Cabin'].str.split('/', expand=True)[2]\n",
    "    df.drop(columns = ['Cabin'], inplace = True)\n",
    "    return df"
   ]
  },
  {
   "cell_type": "code",
   "execution_count": 26,
   "id": "44e9675d",
   "metadata": {
    "execution": {
     "iopub.execute_input": "2022-02-26T22:35:36.503541Z",
     "iopub.status.busy": "2022-02-26T22:35:36.502934Z",
     "iopub.status.idle": "2022-02-26T22:35:36.561997Z",
     "shell.execute_reply": "2022-02-26T22:35:36.562458Z",
     "shell.execute_reply.started": "2022-02-26T22:34:58.393313Z"
    },
    "papermill": {
     "duration": 0.111009,
     "end_time": "2022-02-26T22:35:36.562631",
     "exception": false,
     "start_time": "2022-02-26T22:35:36.451622",
     "status": "completed"
    },
    "tags": []
   },
   "outputs": [
    {
     "name": "stdout",
     "output_type": "stream",
     "text": [
      "CPU times: user 51.9 ms, sys: 1.95 ms, total: 53.8 ms\n",
      "Wall time: 53.8 ms\n"
     ]
    }
   ],
   "source": [
    "%%time\n",
    "trn_data = cabin_separation(trn_data)\n",
    "tst_data = cabin_separation(tst_data)"
   ]
  },
  {
   "cell_type": "code",
   "execution_count": 27,
   "id": "e64340c6",
   "metadata": {
    "execution": {
     "iopub.execute_input": "2022-02-26T22:35:36.664295Z",
     "iopub.status.busy": "2022-02-26T22:35:36.663386Z",
     "iopub.status.idle": "2022-02-26T22:35:36.667627Z",
     "shell.execute_reply": "2022-02-26T22:35:36.668150Z",
     "shell.execute_reply.started": "2022-02-26T22:34:58.462621Z"
    },
    "papermill": {
     "duration": 0.056934,
     "end_time": "2022-02-26T22:35:36.668342",
     "exception": false,
     "start_time": "2022-02-26T22:35:36.611408",
     "status": "completed"
    },
    "tags": []
   },
   "outputs": [],
   "source": [
    "def route(df):\n",
    "    '''\n",
    "    \n",
    "    '''\n",
    "    df['Route'] = df['HomePlanet'] + df['Destination']\n",
    "    return df"
   ]
  },
  {
   "cell_type": "code",
   "execution_count": 28,
   "id": "89575d3d",
   "metadata": {
    "execution": {
     "iopub.execute_input": "2022-02-26T22:35:36.770977Z",
     "iopub.status.busy": "2022-02-26T22:35:36.770004Z",
     "iopub.status.idle": "2022-02-26T22:35:36.778117Z",
     "shell.execute_reply": "2022-02-26T22:35:36.778561Z",
     "shell.execute_reply.started": "2022-02-26T22:34:58.468760Z"
    },
    "papermill": {
     "duration": 0.060794,
     "end_time": "2022-02-26T22:35:36.778737",
     "exception": false,
     "start_time": "2022-02-26T22:35:36.717943",
     "status": "completed"
    },
    "tags": []
   },
   "outputs": [
    {
     "name": "stdout",
     "output_type": "stream",
     "text": [
      "CPU times: user 1.77 ms, sys: 840 µs, total: 2.61 ms\n",
      "Wall time: 2.63 ms\n"
     ]
    }
   ],
   "source": [
    "%%time\n",
    "trn_data = route(trn_data)\n",
    "tst_data = route(tst_data)"
   ]
  },
  {
   "cell_type": "markdown",
   "id": "23b20677",
   "metadata": {
    "papermill": {
     "duration": 0.048481,
     "end_time": "2022-02-26T22:35:36.876768",
     "exception": false,
     "start_time": "2022-02-26T22:35:36.828287",
     "status": "completed"
    },
    "tags": []
   },
   "source": [
    "# Pre-Processing for Training"
   ]
  },
  {
   "cell_type": "code",
   "execution_count": 29,
   "id": "44faa362",
   "metadata": {
    "execution": {
     "iopub.execute_input": "2022-02-26T22:35:36.978669Z",
     "iopub.status.busy": "2022-02-26T22:35:36.977744Z",
     "iopub.status.idle": "2022-02-26T22:35:36.984089Z",
     "shell.execute_reply": "2022-02-26T22:35:36.984678Z",
     "shell.execute_reply.started": "2022-02-26T22:34:58.485694Z"
    },
    "papermill": {
     "duration": 0.059385,
     "end_time": "2022-02-26T22:35:36.984927",
     "exception": false,
     "start_time": "2022-02-26T22:35:36.925542",
     "status": "completed"
    },
    "tags": []
   },
   "outputs": [
    {
     "name": "stdout",
     "output_type": "stream",
     "text": [
      "CPU times: user 4 µs, sys: 0 ns, total: 4 µs\n",
      "Wall time: 8.34 µs\n"
     ]
    }
   ],
   "source": [
    "%%time\n",
    "numerical_features = ['Age', 'RoomService', 'FoodCourt', 'ShoppingMall', 'Spa', 'VRDeck', 'total_billed']\n",
    "\n",
    "categorical_features = [\n",
    "                        #'PassengerId',\n",
    "                        'HomePlanet',\n",
    "                        'CryoSleep',\n",
    "                        'CabinDeck',\n",
    "                        'CabinNum',\n",
    "                        'CabinSide',\n",
    "                        'Destination',\n",
    "                        'VIP',\n",
    "                        'FirstName',\n",
    "                        'FamilyName',\n",
    "                        'Route',\n",
    "                        ]\n",
    "\n",
    "target_feature = 'Transported'"
   ]
  },
  {
   "cell_type": "code",
   "execution_count": 30,
   "id": "3c7ecbdc",
   "metadata": {
    "execution": {
     "iopub.execute_input": "2022-02-26T22:35:37.088714Z",
     "iopub.status.busy": "2022-02-26T22:35:37.087956Z",
     "iopub.status.idle": "2022-02-26T22:35:38.104032Z",
     "shell.execute_reply": "2022-02-26T22:35:38.104503Z",
     "shell.execute_reply.started": "2022-02-26T22:34:58.493695Z"
    },
    "papermill": {
     "duration": 1.068951,
     "end_time": "2022-02-26T22:35:38.104683",
     "exception": false,
     "start_time": "2022-02-26T22:35:37.035732",
     "status": "completed"
    },
    "tags": []
   },
   "outputs": [
    {
     "name": "stdout",
     "output_type": "stream",
     "text": [
      "CPU times: user 456 ms, sys: 341 ms, total: 797 ms\n",
      "Wall time: 1.01 s\n"
     ]
    }
   ],
   "source": [
    "%%time\n",
    "from sklearn.preprocessing import LabelEncoder \n",
    "\n",
    "def encode_categorical(train_df, test_df, categ_feat = categorical_features):\n",
    "    '''\n",
    "    \n",
    "    '''\n",
    "    encoder_dict = {}\n",
    "    \n",
    "    concat_data = pd.concat([trn_data[categ_feat], tst_data[categ_feat]])\n",
    "    \n",
    "    for col in concat_data.columns:\n",
    "        print('Processing: ', col)\n",
    "        encoder = LabelEncoder()\n",
    "        encoder.fit(concat_data[col])\n",
    "        encoder_dict[col] = encoder\n",
    "\n",
    "        train_df[col + '_Enc'] = encoder.transform(train_df[col])\n",
    "        test_df[col + '_Enc'] = encoder.transform(test_df[col])\n",
    "    \n",
    "    train_df = train_df.drop(columns = categ_feat, axis = 1)\n",
    "    test_df = test_df.drop(columns = categ_feat, axis = 1)\n",
    "\n",
    "    return train_df, test_df"
   ]
  },
  {
   "cell_type": "code",
   "execution_count": 31,
   "id": "f85df073",
   "metadata": {
    "execution": {
     "iopub.execute_input": "2022-02-26T22:35:38.211202Z",
     "iopub.status.busy": "2022-02-26T22:35:38.210479Z",
     "iopub.status.idle": "2022-02-26T22:35:38.273841Z",
     "shell.execute_reply": "2022-02-26T22:35:38.273348Z",
     "shell.execute_reply.started": "2022-02-26T22:34:58.507641Z"
    },
    "papermill": {
     "duration": 0.119908,
     "end_time": "2022-02-26T22:35:38.273982",
     "exception": false,
     "start_time": "2022-02-26T22:35:38.154074",
     "status": "completed"
    },
    "tags": []
   },
   "outputs": [
    {
     "name": "stdout",
     "output_type": "stream",
     "text": [
      "Processing:  HomePlanet\n",
      "Processing:  CryoSleep\n",
      "Processing:  CabinDeck\n",
      "Processing:  CabinNum\n",
      "Processing:  CabinSide\n",
      "Processing:  Destination\n",
      "Processing:  VIP\n",
      "Processing:  FirstName\n",
      "Processing:  FamilyName\n",
      "Processing:  Route\n",
      "CPU times: user 55 ms, sys: 8.41 ms, total: 63.4 ms\n",
      "Wall time: 61.1 ms\n"
     ]
    }
   ],
   "source": [
    "%%time\n",
    "trn_data, tst_data = encode_categorical(trn_data, tst_data, categorical_features)"
   ]
  },
  {
   "cell_type": "markdown",
   "id": "2545ac45",
   "metadata": {
    "papermill": {
     "duration": 0.049024,
     "end_time": "2022-02-26T22:35:38.373341",
     "exception": false,
     "start_time": "2022-02-26T22:35:38.324317",
     "status": "completed"
    },
    "tags": []
   },
   "source": [
    "# Simple CV Sttrategy 80/20 Split"
   ]
  },
  {
   "cell_type": "code",
   "execution_count": 32,
   "id": "1a58a15c",
   "metadata": {
    "execution": {
     "iopub.execute_input": "2022-02-26T22:35:38.476782Z",
     "iopub.status.busy": "2022-02-26T22:35:38.475885Z",
     "iopub.status.idle": "2022-02-26T22:35:38.481816Z",
     "shell.execute_reply": "2022-02-26T22:35:38.482285Z",
     "shell.execute_reply.started": "2022-02-26T22:34:58.579833Z"
    },
    "papermill": {
     "duration": 0.059542,
     "end_time": "2022-02-26T22:35:38.482450",
     "exception": false,
     "start_time": "2022-02-26T22:35:38.422908",
     "status": "completed"
    },
    "tags": []
   },
   "outputs": [
    {
     "data": {
      "text/plain": [
       "Index(['PassengerId', 'Age', 'RoomService', 'FoodCourt', 'ShoppingMall', 'Spa',\n",
       "       'VRDeck', 'Transported', 'Total_Billed', 'HomePlanet_Enc',\n",
       "       'CryoSleep_Enc', 'CabinDeck_Enc', 'CabinNum_Enc', 'CabinSide_Enc',\n",
       "       'Destination_Enc', 'VIP_Enc', 'FirstName_Enc', 'FamilyName_Enc',\n",
       "       'Route_Enc'],\n",
       "      dtype='object')"
      ]
     },
     "execution_count": 32,
     "metadata": {},
     "output_type": "execute_result"
    }
   ],
   "source": [
    "trn_data.columns"
   ]
  },
  {
   "cell_type": "code",
   "execution_count": 33,
   "id": "60420797",
   "metadata": {
    "execution": {
     "iopub.execute_input": "2022-02-26T22:35:38.587059Z",
     "iopub.status.busy": "2022-02-26T22:35:38.586428Z",
     "iopub.status.idle": "2022-02-26T22:35:38.588706Z",
     "shell.execute_reply": "2022-02-26T22:35:38.589168Z",
     "shell.execute_reply.started": "2022-02-26T22:34:58.588404Z"
    },
    "papermill": {
     "duration": 0.057409,
     "end_time": "2022-02-26T22:35:38.589369",
     "exception": false,
     "start_time": "2022-02-26T22:35:38.531960",
     "status": "completed"
    },
    "tags": []
   },
   "outputs": [],
   "source": [
    "features = ['Age',\n",
    "            'RoomService',\n",
    "            'FoodCourt',\n",
    "            'ShoppingMall',\n",
    "            'Spa',\n",
    "            'VRDeck',\n",
    "            'FamilyName_Enc',\n",
    "            'FirstName_Enc',\n",
    "            'VIP_Enc',\n",
    "            'Total_Billed',\n",
    "            'HomePlanet_Enc',\n",
    "            'CryoSleep_Enc',\n",
    "            'CabinNum_Enc',\n",
    "            'CabinSide_Enc',\n",
    "            'CabinDeck_Enc',\n",
    "            'Destination_Enc',\n",
    "            'Route_Enc']"
   ]
  },
  {
   "cell_type": "code",
   "execution_count": 34,
   "id": "f8bb5839",
   "metadata": {
    "execution": {
     "iopub.execute_input": "2022-02-26T22:35:38.692829Z",
     "iopub.status.busy": "2022-02-26T22:35:38.692181Z",
     "iopub.status.idle": "2022-02-26T22:35:38.754246Z",
     "shell.execute_reply": "2022-02-26T22:35:38.753705Z",
     "shell.execute_reply.started": "2022-02-26T22:34:58.597990Z"
    },
    "papermill": {
     "duration": 0.114662,
     "end_time": "2022-02-26T22:35:38.754393",
     "exception": false,
     "start_time": "2022-02-26T22:35:38.639731",
     "status": "completed"
    },
    "tags": []
   },
   "outputs": [],
   "source": [
    "from sklearn.model_selection import train_test_split\n",
    "X_train, X_val, y_train, y_val = train_test_split(trn_data[features], trn_data[target_feature], test_size = 0.15, random_state = 42)"
   ]
  },
  {
   "cell_type": "markdown",
   "id": "e8c334ee",
   "metadata": {
    "papermill": {
     "duration": 0.050425,
     "end_time": "2022-02-26T22:35:38.854383",
     "exception": false,
     "start_time": "2022-02-26T22:35:38.803958",
     "status": "completed"
    },
    "tags": []
   },
   "source": [
    "fit(X, y, *, sample_weight=None, base_margin=None, eval_set=None, eval_metric=None, early_stopping_rounds=None, verbose=True, xgb_model=None, sample_weight_eval_set=None, base_margin_eval_set=None, feature_weights=None, callbacks=None)"
   ]
  },
  {
   "cell_type": "code",
   "execution_count": 35,
   "id": "9dd071d8",
   "metadata": {
    "execution": {
     "iopub.execute_input": "2022-02-26T22:35:38.962412Z",
     "iopub.status.busy": "2022-02-26T22:35:38.961798Z",
     "iopub.status.idle": "2022-02-26T22:35:39.997565Z",
     "shell.execute_reply": "2022-02-26T22:35:39.997045Z",
     "shell.execute_reply.started": "2022-02-26T22:34:58.614800Z"
    },
    "papermill": {
     "duration": 1.088838,
     "end_time": "2022-02-26T22:35:39.997713",
     "exception": false,
     "start_time": "2022-02-26T22:35:38.908875",
     "status": "completed"
    },
    "tags": []
   },
   "outputs": [
    {
     "name": "stdout",
     "output_type": "stream",
     "text": [
      "[0]\tvalidation_0-logloss:0.58481\n",
      "[10]\tvalidation_0-logloss:0.41797\n",
      "[20]\tvalidation_0-logloss:0.41558\n",
      "[30]\tvalidation_0-logloss:0.41448\n",
      "[40]\tvalidation_0-logloss:0.41666\n",
      "[50]\tvalidation_0-logloss:0.41778\n",
      "[60]\tvalidation_0-logloss:0.42037\n",
      "[70]\tvalidation_0-logloss:0.42197\n",
      "[79]\tvalidation_0-logloss:0.42442\n"
     ]
    },
    {
     "data": {
      "text/plain": [
       "XGBClassifier(base_score=0.5, booster='gbtree', colsample_bylevel=1,\n",
       "              colsample_bynode=1, colsample_bytree=1, enable_categorical=False,\n",
       "              gamma=0, gpu_id=-1, importance_type=None,\n",
       "              interaction_constraints='', learning_rate=0.300000012,\n",
       "              max_delta_step=0, max_depth=6, min_child_weight=1, missing=nan,\n",
       "              monotone_constraints='()', n_estimators=100, n_jobs=4,\n",
       "              num_parallel_tree=1, predictor='auto', random_state=0,\n",
       "              reg_alpha=0, reg_lambda=1, scale_pos_weight=1, subsample=1,\n",
       "              tree_method='exact', validate_parameters=1, verbosity=None)"
      ]
     },
     "execution_count": 35,
     "metadata": {},
     "output_type": "execute_result"
    }
   ],
   "source": [
    "from xgboost import XGBClassifier\n",
    "# cls = XGBClassifier(\n",
    "#                     learning_rate = 0.1,\n",
    "#                     n_estimators = 2048,\n",
    "#                     n_jobs = -1)\n",
    "\n",
    "cls = XGBClassifier()\n",
    "cls.fit(X_train, y_train, eval_set = [(X_val, y_val)], eval_metric=['logloss'], early_stopping_rounds = 50, verbose = 10)"
   ]
  },
  {
   "cell_type": "code",
   "execution_count": 36,
   "id": "3c26025c",
   "metadata": {
    "execution": {
     "iopub.execute_input": "2022-02-26T22:35:40.110424Z",
     "iopub.status.busy": "2022-02-26T22:35:40.109746Z",
     "iopub.status.idle": "2022-02-26T22:35:40.111369Z",
     "shell.execute_reply": "2022-02-26T22:35:40.111781Z",
     "shell.execute_reply.started": "2022-02-26T22:34:59.493932Z"
    },
    "papermill": {
     "duration": 0.060844,
     "end_time": "2022-02-26T22:35:40.111945",
     "exception": false,
     "start_time": "2022-02-26T22:35:40.051101",
     "status": "completed"
    },
    "tags": []
   },
   "outputs": [],
   "source": [
    "import matplotlib.pyplot as plt\n",
    "\n",
    "def feature_importance(clf):\n",
    "    importances = clf.feature_importances_\n",
    "    i = np.argsort(importances)\n",
    "    features = X_train.columns\n",
    "    plt.title('Feature Importance')\n",
    "    plt.barh(range(len(i)), importances[i], align='center')\n",
    "    plt.yticks(range(len(i)), [features[x] for x in i])\n",
    "    plt.xlabel('Scale')\n",
    "    plt.show()"
   ]
  },
  {
   "cell_type": "code",
   "execution_count": 37,
   "id": "0621ce8f",
   "metadata": {
    "execution": {
     "iopub.execute_input": "2022-02-26T22:35:40.220166Z",
     "iopub.status.busy": "2022-02-26T22:35:40.219563Z",
     "iopub.status.idle": "2022-02-26T22:35:40.482258Z",
     "shell.execute_reply": "2022-02-26T22:35:40.482736Z",
     "shell.execute_reply.started": "2022-02-26T22:34:59.502580Z"
    },
    "papermill": {
     "duration": 0.31822,
     "end_time": "2022-02-26T22:35:40.482908",
     "exception": false,
     "start_time": "2022-02-26T22:35:40.164688",
     "status": "completed"
    },
    "tags": []
   },
   "outputs": [
    {
     "data": {
      "image/png": "[encoded data removed]",
      "text/plain": [
       "<Figure size 432x288 with 1 Axes>"
      ]
     },
     "metadata": {
      "needs_background": "light"
     },
     "output_type": "display_data"
    }
   ],
   "source": [
    "feature_importance(cls)"
   ]
  },
  {
   "cell_type": "code",
   "execution_count": 38,
   "id": "1c876557",
   "metadata": {
    "execution": {
     "iopub.execute_input": "2022-02-26T22:35:40.594442Z",
     "iopub.status.busy": "2022-02-26T22:35:40.593754Z",
     "iopub.status.idle": "2022-02-26T22:35:40.609646Z",
     "shell.execute_reply": "2022-02-26T22:35:40.610065Z",
     "shell.execute_reply.started": "2022-02-26T22:34:59.743209Z"
    },
    "papermill": {
     "duration": 0.073935,
     "end_time": "2022-02-26T22:35:40.610263",
     "exception": false,
     "start_time": "2022-02-26T22:35:40.536328",
     "status": "completed"
    },
    "tags": []
   },
   "outputs": [],
   "source": [
    "from sklearn.metrics import accuracy_score\n",
    "val_preds = cls.predict(X_val[features])\n",
    "accuracy = accuracy_score(val_preds, y_val)"
   ]
  },
  {
   "cell_type": "code",
   "execution_count": 39,
   "id": "00d4d3ec",
   "metadata": {
    "execution": {
     "iopub.execute_input": "2022-02-26T22:35:40.721754Z",
     "iopub.status.busy": "2022-02-26T22:35:40.721044Z",
     "iopub.status.idle": "2022-02-26T22:35:40.724735Z",
     "shell.execute_reply": "2022-02-26T22:35:40.725148Z",
     "shell.execute_reply.started": "2022-02-26T22:34:59.759008Z"
    },
    "papermill": {
     "duration": 0.061552,
     "end_time": "2022-02-26T22:35:40.725348",
     "exception": false,
     "start_time": "2022-02-26T22:35:40.663796",
     "status": "completed"
    },
    "tags": []
   },
   "outputs": [
    {
     "data": {
      "text/plain": [
       "0.8006134969325154"
      ]
     },
     "execution_count": 39,
     "metadata": {},
     "output_type": "execute_result"
    }
   ],
   "source": [
    "accuracy"
   ]
  },
  {
   "cell_type": "code",
   "execution_count": 40,
   "id": "764b2ddf",
   "metadata": {
    "execution": {
     "iopub.execute_input": "2022-02-26T22:35:40.838604Z",
     "iopub.status.busy": "2022-02-26T22:35:40.837960Z",
     "iopub.status.idle": "2022-02-26T22:35:40.840599Z",
     "shell.execute_reply": "2022-02-26T22:35:40.841044Z",
     "shell.execute_reply.started": "2022-02-26T22:34:59.771490Z"
    },
    "papermill": {
     "duration": 0.061309,
     "end_time": "2022-02-26T22:35:40.841207",
     "exception": false,
     "start_time": "2022-02-26T22:35:40.779898",
     "status": "completed"
    },
    "tags": []
   },
   "outputs": [],
   "source": [
    "# 0.7875766871165644\n",
    "# 0.7883435582822086\n",
    "# 0.7944785276073619\n",
    "# 0.7998466257668712\n",
    "# 0.8006134969325154"
   ]
  },
  {
   "cell_type": "code",
   "execution_count": 41,
   "id": "cf957be3",
   "metadata": {
    "execution": {
     "iopub.execute_input": "2022-02-26T22:35:40.954139Z",
     "iopub.status.busy": "2022-02-26T22:35:40.953553Z",
     "iopub.status.idle": "2022-02-26T22:35:40.958089Z",
     "shell.execute_reply": "2022-02-26T22:35:40.958572Z",
     "shell.execute_reply.started": "2022-02-26T22:34:59.776799Z"
    },
    "papermill": {
     "duration": 0.062873,
     "end_time": "2022-02-26T22:35:40.958737",
     "exception": false,
     "start_time": "2022-02-26T22:35:40.895864",
     "status": "completed"
    },
    "tags": []
   },
   "outputs": [
    {
     "data": {
      "text/plain": [
       "(4277, 18)"
      ]
     },
     "execution_count": 41,
     "metadata": {},
     "output_type": "execute_result"
    }
   ],
   "source": [
    "tst_data.shape"
   ]
  },
  {
   "cell_type": "code",
   "execution_count": 42,
   "id": "fb9f4156",
   "metadata": {
    "execution": {
     "iopub.execute_input": "2022-02-26T22:35:41.072446Z",
     "iopub.status.busy": "2022-02-26T22:35:41.071836Z",
     "iopub.status.idle": "2022-02-26T22:35:41.076129Z",
     "shell.execute_reply": "2022-02-26T22:35:41.076592Z",
     "shell.execute_reply.started": "2022-02-26T22:34:59.788659Z"
    },
    "papermill": {
     "duration": 0.062322,
     "end_time": "2022-02-26T22:35:41.076753",
     "exception": false,
     "start_time": "2022-02-26T22:35:41.014431",
     "status": "completed"
    },
    "tags": []
   },
   "outputs": [
    {
     "data": {
      "text/plain": [
       "1304"
      ]
     },
     "execution_count": 42,
     "metadata": {},
     "output_type": "execute_result"
    }
   ],
   "source": [
    "len(val_preds)"
   ]
  },
  {
   "cell_type": "code",
   "execution_count": 43,
   "id": "7876d58d",
   "metadata": {
    "execution": {
     "iopub.execute_input": "2022-02-26T22:35:41.190926Z",
     "iopub.status.busy": "2022-02-26T22:35:41.190304Z",
     "iopub.status.idle": "2022-02-26T22:35:41.196927Z",
     "shell.execute_reply": "2022-02-26T22:35:41.197670Z",
     "shell.execute_reply.started": "2022-02-26T22:34:59.798616Z"
    },
    "papermill": {
     "duration": 0.065007,
     "end_time": "2022-02-26T22:35:41.197862",
     "exception": false,
     "start_time": "2022-02-26T22:35:41.132855",
     "status": "completed"
    },
    "tags": []
   },
   "outputs": [
    {
     "data": {
      "text/plain": [
       "(4277, 2)"
      ]
     },
     "execution_count": 43,
     "metadata": {},
     "output_type": "execute_result"
    }
   ],
   "source": [
    "sub.shape"
   ]
  },
  {
   "cell_type": "code",
   "execution_count": 44,
   "id": "82bc45d1",
   "metadata": {
    "execution": {
     "iopub.execute_input": "2022-02-26T22:35:41.319414Z",
     "iopub.status.busy": "2022-02-26T22:35:41.318799Z",
     "iopub.status.idle": "2022-02-26T22:35:41.331657Z",
     "shell.execute_reply": "2022-02-26T22:35:41.332123Z",
     "shell.execute_reply.started": "2022-02-26T22:34:59.808114Z"
    },
    "papermill": {
     "duration": 0.075364,
     "end_time": "2022-02-26T22:35:41.332349",
     "exception": false,
     "start_time": "2022-02-26T22:35:41.256985",
     "status": "completed"
    },
    "tags": []
   },
   "outputs": [],
   "source": [
    "preds = cls.predict(tst_data[features])"
   ]
  },
  {
   "cell_type": "code",
   "execution_count": 45,
   "id": "deba8309",
   "metadata": {
    "execution": {
     "iopub.execute_input": "2022-02-26T22:35:41.460067Z",
     "iopub.status.busy": "2022-02-26T22:35:41.459461Z",
     "iopub.status.idle": "2022-02-26T22:35:41.465899Z",
     "shell.execute_reply": "2022-02-26T22:35:41.465283Z",
     "shell.execute_reply.started": "2022-02-26T22:34:59.825541Z"
    },
    "papermill": {
     "duration": 0.073652,
     "end_time": "2022-02-26T22:35:41.466033",
     "exception": false,
     "start_time": "2022-02-26T22:35:41.392381",
     "status": "completed"
    },
    "tags": []
   },
   "outputs": [
    {
     "data": {
      "text/html": [
       "<div>\n",
       "<style scoped>\n",
       "    .dataframe tbody tr th:only-of-type {\n",
       "        vertical-align: middle;\n",
       "    }\n",
       "\n",
       "    .dataframe tbody tr th {\n",
       "        vertical-align: top;\n",
       "    }\n",
       "\n",
       "    .dataframe thead th {\n",
       "        text-align: right;\n",
       "    }\n",
       "</style>\n",
       "<table border=\"1\" class=\"dataframe\">\n",
       "  <thead>\n",
       "    <tr style=\"text-align: right;\">\n",
       "      <th></th>\n",
       "      <th>PassengerId</th>\n",
       "      <th>Transported</th>\n",
       "    </tr>\n",
       "  </thead>\n",
       "  <tbody>\n",
       "    <tr>\n",
       "      <th>0</th>\n",
       "      <td>0013_01</td>\n",
       "      <td>False</td>\n",
       "    </tr>\n",
       "    <tr>\n",
       "      <th>1</th>\n",
       "      <td>0018_01</td>\n",
       "      <td>False</td>\n",
       "    </tr>\n",
       "    <tr>\n",
       "      <th>2</th>\n",
       "      <td>0019_01</td>\n",
       "      <td>True</td>\n",
       "    </tr>\n",
       "    <tr>\n",
       "      <th>3</th>\n",
       "      <td>0021_01</td>\n",
       "      <td>True</td>\n",
       "    </tr>\n",
       "    <tr>\n",
       "      <th>4</th>\n",
       "      <td>0023_01</td>\n",
       "      <td>True</td>\n",
       "    </tr>\n",
       "    <tr>\n",
       "      <th>...</th>\n",
       "      <td>...</td>\n",
       "      <td>...</td>\n",
       "    </tr>\n",
       "    <tr>\n",
       "      <th>4272</th>\n",
       "      <td>9266_02</td>\n",
       "      <td>True</td>\n",
       "    </tr>\n",
       "    <tr>\n",
       "      <th>4273</th>\n",
       "      <td>9269_01</td>\n",
       "      <td>False</td>\n",
       "    </tr>\n",
       "    <tr>\n",
       "      <th>4274</th>\n",
       "      <td>9271_01</td>\n",
       "      <td>True</td>\n",
       "    </tr>\n",
       "    <tr>\n",
       "      <th>4275</th>\n",
       "      <td>9273_01</td>\n",
       "      <td>True</td>\n",
       "    </tr>\n",
       "    <tr>\n",
       "      <th>4276</th>\n",
       "      <td>9277_01</td>\n",
       "      <td>True</td>\n",
       "    </tr>\n",
       "  </tbody>\n",
       "</table>\n",
       "<p>4277 rows × 2 columns</p>\n",
       "</div>"
      ],
      "text/plain": [
       "     PassengerId  Transported\n",
       "0        0013_01        False\n",
       "1        0018_01        False\n",
       "2        0019_01         True\n",
       "3        0021_01         True\n",
       "4        0023_01         True\n",
       "...          ...          ...\n",
       "4272     9266_02         True\n",
       "4273     9269_01        False\n",
       "4274     9271_01         True\n",
       "4275     9273_01         True\n",
       "4276     9277_01         True\n",
       "\n",
       "[4277 rows x 2 columns]"
      ]
     },
     "execution_count": 45,
     "metadata": {},
     "output_type": "execute_result"
    }
   ],
   "source": [
    "sub['Transported'] = preds\n",
    "sub"
   ]
  },
  {
   "cell_type": "code",
   "execution_count": 46,
   "id": "74b52a7b",
   "metadata": {
    "execution": {
     "iopub.execute_input": "2022-02-26T22:35:41.584731Z",
     "iopub.status.busy": "2022-02-26T22:35:41.584093Z",
     "iopub.status.idle": "2022-02-26T22:35:41.593582Z",
     "shell.execute_reply": "2022-02-26T22:35:41.594066Z",
     "shell.execute_reply.started": "2022-02-26T22:34:59.838979Z"
    },
    "papermill": {
     "duration": 0.070112,
     "end_time": "2022-02-26T22:35:41.594287",
     "exception": false,
     "start_time": "2022-02-26T22:35:41.524175",
     "status": "completed"
    },
    "tags": []
   },
   "outputs": [],
   "source": [
    "sub.to_csv('submission.csv', index=False)"
   ]
  },
  {
   "cell_type": "markdown",
   "id": "ecd8da22",
   "metadata": {
    "papermill": {
     "duration": 0.055014,
     "end_time": "2022-02-26T22:35:41.706869",
     "exception": false,
     "start_time": "2022-02-26T22:35:41.651855",
     "status": "completed"
    },
    "tags": []
   },
   "source": [
    "# Baseline Model"
   ]
  },
  {
   "cell_type": "code",
   "execution_count": null,
   "id": "6bad5dd0",
   "metadata": {
    "papermill": {
     "duration": 0.05615,
     "end_time": "2022-02-26T22:35:41.819658",
     "exception": false,
     "start_time": "2022-02-26T22:35:41.763508",
     "status": "completed"
    },
    "tags": []
   },
   "outputs": [],
   "source": []
  }
 ],
 "metadata": {
  "kernelspec": {
   "display_name": "Python 3",
   "language": "python",
   "name": "python3"
  },
  "language_info": {
   "codemirror_mode": {
    "name": "ipython",
    "version": 3
   },
   "file_extension": ".py",
   "mimetype": "text/x-python",
   "name": "python",
   "nbconvert_exporter": "python",
   "pygments_lexer": "ipython3",
   "version": "3.7.12"
  },
  "papermill": {
   "default_parameters": {},
   "duration": 18.85148,
   "end_time": "2022-02-26T22:35:42.586158",
   "environment_variables": {},
   "exception": null,
   "input_path": "__notebook__.ipynb",
   "output_path": "__notebook__.ipynb",
   "parameters": {},
   "start_time": "2022-02-26T22:35:23.734678",
   "version": "2.3.3"
  }
 },
 "nbformat": 4,
 "nbformat_minor": 5
}
