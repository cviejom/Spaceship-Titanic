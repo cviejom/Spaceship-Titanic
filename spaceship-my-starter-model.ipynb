{
 "cells": [
  {
   "cell_type": "markdown",
   "id": "4d79060f",
   "metadata": {
    "papermill": {
     "duration": 0.065136,
     "end_time": "2022-02-27T05:15:57.522643",
     "exception": false,
     "start_time": "2022-02-27T05:15:57.457507",
     "status": "completed"
    },
    "tags": []
   },
   "source": [
    "# 🌌 Spaceship My Starter Model\n",
    "\n",
    "Hello... "
   ]
  },
  {
   "cell_type": "markdown",
   "id": "61726bc6",
   "metadata": {
    "papermill": {
     "duration": 0.062973,
     "end_time": "2022-02-27T05:15:57.654029",
     "exception": false,
     "start_time": "2022-02-27T05:15:57.591056",
     "status": "completed"
    },
    "tags": []
   },
   "source": [
    "### File and Data Field Descriptions\n",
    "\n",
    "**train.csv** - Personal records for about two-thirds (~8700) of the passengers, to be used as training data.\n",
    "* PassengerId - A unique Id for each passenger. Each Id takes the form gggg_pp where gggg indicates a group the passenger is travelling with and pp is their number within the group. People in a group are often family members, but not always.\n",
    "* HomePlanet - The planet the passenger departed from, typically their planet of permanent residence.\n",
    "* CryoSleep - Indicates whether the passenger elected to be put into suspended animation for the duration of the voyage. Passengers in cryosleep are confined to their cabins.\n",
    "* Cabin - The cabin number where the passenger is staying. Takes the form deck/num/side, where side can be either P for Port or S for Starboard.\n",
    "* Destination - The planet the passenger will be debarking to.\n",
    "* Age - The age of the passenger.\n",
    "* VIP - Whether the passenger has paid for special VIP service during the voyage.\n",
    "* RoomService, FoodCourt, ShoppingMall, Spa, VRDeck - Amount the passenger has billed at each of the Spaceship Titanic's many luxury amenities.\n",
    "* Name - The first and last names of the passenger.\n",
    "* Transported - Whether the passenger was transported to another dimension. This is the target, the column you are trying to predict.\n",
    "\n",
    "**test.csv** - Personal records for the remaining one-third (~4300) of the passengers, to be used as test data. Your task is to predict the value of Transported for the passengers in this set.\n",
    "\n",
    "**sample_submission.csv** - A submission file in the correct format.\n",
    "\n",
    "* PassengerId - Id for each passenger in the test set.\n",
    "* Transported - The target. For each passenger, predict either True or False."
   ]
  },
  {
   "cell_type": "markdown",
   "id": "76b5564d",
   "metadata": {
    "papermill": {
     "duration": 0.063701,
     "end_time": "2022-02-27T05:15:57.780878",
     "exception": false,
     "start_time": "2022-02-27T05:15:57.717177",
     "status": "completed"
    },
    "tags": []
   },
   "source": [
    "# Loading Libraries..."
   ]
  },
  {
   "cell_type": "code",
   "execution_count": 1,
   "id": "4eedcb18",
   "metadata": {
    "_cell_guid": "b1076dfc-b9ad-4769-8c92-a6c4dae69d19",
    "_uuid": "8f2839f25d086af736a60e9eeb907d3b93b6e0e5",
    "execution": {
     "iopub.execute_input": "2022-02-27T05:15:57.923672Z",
     "iopub.status.busy": "2022-02-27T05:15:57.919442Z",
     "iopub.status.idle": "2022-02-27T05:15:57.931251Z",
     "shell.execute_reply": "2022-02-27T05:15:57.930495Z",
     "shell.execute_reply.started": "2022-02-27T05:12:06.525096Z"
    },
    "papermill": {
     "duration": 0.086775,
     "end_time": "2022-02-27T05:15:57.931433",
     "exception": false,
     "start_time": "2022-02-27T05:15:57.844658",
     "status": "completed"
    },
    "tags": []
   },
   "outputs": [
    {
     "name": "stdout",
     "output_type": "stream",
     "text": [
      "/kaggle/input/spaceship-titanic/sample_submission.csv\n",
      "/kaggle/input/spaceship-titanic/train.csv\n",
      "/kaggle/input/spaceship-titanic/test.csv\n"
     ]
    }
   ],
   "source": [
    "# This Python 3 environment comes with many helpful analytics libraries installed\n",
    "# It is defined by the kaggle/python Docker image: https://github.com/kaggle/docker-python\n",
    "# For example, here's several helpful packages to load\n",
    "\n",
    "import numpy as np # linear algebra\n",
    "import pandas as pd # data processing, CSV file I/O (e.g. pd.read_csv)\n",
    "\n",
    "# Input data files are available in the read-only \"../input/\" directory\n",
    "# For example, running this (by clicking run or pressing Shift+Enter) will list all files under the input directory\n",
    "\n",
    "import os\n",
    "for dirname, _, filenames in os.walk('/kaggle/input'):\n",
    "    for filename in filenames:\n",
    "        print(os.path.join(dirname, filename))\n",
    "\n",
    "# You can write up to 20GB to the current directory (/kaggle/working/) that gets preserved as output when you create a version using \"Save & Run All\" \n",
    "# You can also write temporary files to /kaggle/temp/, but they won't be saved outside of the current session"
   ]
  },
  {
   "cell_type": "markdown",
   "id": "bc20bfdb",
   "metadata": {
    "papermill": {
     "duration": 0.065421,
     "end_time": "2022-02-27T05:15:58.061944",
     "exception": false,
     "start_time": "2022-02-27T05:15:57.996523",
     "status": "completed"
    },
    "tags": []
   },
   "source": [
    "# Seeting Notebook Parameters..."
   ]
  },
  {
   "cell_type": "code",
   "execution_count": 2,
   "id": "9e288201",
   "metadata": {
    "execution": {
     "iopub.execute_input": "2022-02-27T05:15:58.200505Z",
     "iopub.status.busy": "2022-02-27T05:15:58.199776Z",
     "iopub.status.idle": "2022-02-27T05:15:58.204768Z",
     "shell.execute_reply": "2022-02-27T05:15:58.204047Z",
     "shell.execute_reply.started": "2022-02-27T05:12:06.535590Z"
    },
    "papermill": {
     "duration": 0.076256,
     "end_time": "2022-02-27T05:15:58.204924",
     "exception": false,
     "start_time": "2022-02-27T05:15:58.128668",
     "status": "completed"
    },
    "tags": []
   },
   "outputs": [
    {
     "name": "stdout",
     "output_type": "stream",
     "text": [
      "CPU times: user 33 µs, sys: 4 µs, total: 37 µs\n",
      "Wall time: 41.5 µs\n"
     ]
    }
   ],
   "source": [
    "%%time\n",
    "# I like to disable my Notebook Warnings.\n",
    "import warnings\n",
    "warnings.filterwarnings('ignore')"
   ]
  },
  {
   "cell_type": "code",
   "execution_count": 3,
   "id": "db611647",
   "metadata": {
    "execution": {
     "iopub.execute_input": "2022-02-27T05:15:58.342446Z",
     "iopub.status.busy": "2022-02-27T05:15:58.341685Z",
     "iopub.status.idle": "2022-02-27T05:15:58.344993Z",
     "shell.execute_reply": "2022-02-27T05:15:58.345724Z",
     "shell.execute_reply.started": "2022-02-27T05:12:06.551249Z"
    },
    "papermill": {
     "duration": 0.074969,
     "end_time": "2022-02-27T05:15:58.345952",
     "exception": false,
     "start_time": "2022-02-27T05:15:58.270983",
     "status": "completed"
    },
    "tags": []
   },
   "outputs": [
    {
     "name": "stdout",
     "output_type": "stream",
     "text": [
      "CPU times: user 3 µs, sys: 1 µs, total: 4 µs\n",
      "Wall time: 7.87 µs\n"
     ]
    }
   ],
   "source": [
    "%%time\n",
    "# Notebook Configuration...\n",
    "\n",
    "# Amount of data we want to load into the Model...\n",
    "DATA_ROWS = None\n",
    "# Dataframe, the amount of rows and cols to visualize...\n",
    "NROWS = 50\n",
    "NCOLS = 15\n",
    "# Main data location path...\n",
    "BASE_PATH = '...'"
   ]
  },
  {
   "cell_type": "code",
   "execution_count": 4,
   "id": "59e5b66e",
   "metadata": {
    "execution": {
     "iopub.execute_input": "2022-02-27T05:15:58.483541Z",
     "iopub.status.busy": "2022-02-27T05:15:58.482824Z",
     "iopub.status.idle": "2022-02-27T05:15:58.487164Z",
     "shell.execute_reply": "2022-02-27T05:15:58.486343Z",
     "shell.execute_reply.started": "2022-02-27T05:12:06.563493Z"
    },
    "papermill": {
     "duration": 0.074391,
     "end_time": "2022-02-27T05:15:58.487354",
     "exception": false,
     "start_time": "2022-02-27T05:15:58.412963",
     "status": "completed"
    },
    "tags": []
   },
   "outputs": [
    {
     "name": "stdout",
     "output_type": "stream",
     "text": [
      "CPU times: user 0 ns, sys: 107 µs, total: 107 µs\n",
      "Wall time: 112 µs\n"
     ]
    }
   ],
   "source": [
    "%%time\n",
    "# Configure notebook display settings to only use 2 decimal places, tables look nicer.\n",
    "pd.options.display.float_format = '{:,.2f}'.format\n",
    "pd.set_option('display.max_columns', NCOLS) \n",
    "pd.set_option('display.max_rows', NROWS)"
   ]
  },
  {
   "cell_type": "markdown",
   "id": "e6933294",
   "metadata": {
    "papermill": {
     "duration": 0.065992,
     "end_time": "2022-02-27T05:15:58.620436",
     "exception": false,
     "start_time": "2022-02-27T05:15:58.554444",
     "status": "completed"
    },
    "tags": []
   },
   "source": [
    "# Loading Information from CSV..."
   ]
  },
  {
   "cell_type": "code",
   "execution_count": 5,
   "id": "0e4ed329",
   "metadata": {
    "execution": {
     "iopub.execute_input": "2022-02-27T05:15:58.758684Z",
     "iopub.status.busy": "2022-02-27T05:15:58.757945Z",
     "iopub.status.idle": "2022-02-27T05:15:58.865362Z",
     "shell.execute_reply": "2022-02-27T05:15:58.865855Z",
     "shell.execute_reply.started": "2022-02-27T05:12:06.572710Z"
    },
    "papermill": {
     "duration": 0.179332,
     "end_time": "2022-02-27T05:15:58.866045",
     "exception": false,
     "start_time": "2022-02-27T05:15:58.686713",
     "status": "completed"
    },
    "tags": []
   },
   "outputs": [
    {
     "name": "stdout",
     "output_type": "stream",
     "text": [
      "CPU times: user 44.3 ms, sys: 14.8 ms, total: 59 ms\n",
      "Wall time: 104 ms\n"
     ]
    }
   ],
   "source": [
    "%%time\n",
    "trn_data = pd.read_csv('/kaggle/input/spaceship-titanic/train.csv')\n",
    "tst_data = pd.read_csv('/kaggle/input/spaceship-titanic/test.csv')\n",
    "\n",
    "sub = pd.read_csv('/kaggle/input/spaceship-titanic/sample_submission.csv')"
   ]
  },
  {
   "cell_type": "markdown",
   "id": "757240bd",
   "metadata": {
    "papermill": {
     "duration": 0.065396,
     "end_time": "2022-02-27T05:15:58.999810",
     "exception": false,
     "start_time": "2022-02-27T05:15:58.934414",
     "status": "completed"
    },
    "tags": []
   },
   "source": [
    "# Exploring the Information Available..."
   ]
  },
  {
   "cell_type": "code",
   "execution_count": 6,
   "id": "3a3821ef",
   "metadata": {
    "execution": {
     "iopub.execute_input": "2022-02-27T05:15:59.138709Z",
     "iopub.status.busy": "2022-02-27T05:15:59.136405Z",
     "iopub.status.idle": "2022-02-27T05:15:59.174850Z",
     "shell.execute_reply": "2022-02-27T05:15:59.174056Z",
     "shell.execute_reply.started": "2022-02-27T05:12:06.635153Z"
    },
    "papermill": {
     "duration": 0.108154,
     "end_time": "2022-02-27T05:15:59.175027",
     "exception": false,
     "start_time": "2022-02-27T05:15:59.066873",
     "status": "completed"
    },
    "tags": []
   },
   "outputs": [
    {
     "name": "stdout",
     "output_type": "stream",
     "text": [
      "<class 'pandas.core.frame.DataFrame'>\n",
      "RangeIndex: 8693 entries, 0 to 8692\n",
      "Data columns (total 14 columns):\n",
      " #   Column        Non-Null Count  Dtype  \n",
      "---  ------        --------------  -----  \n",
      " 0   PassengerId   8693 non-null   object \n",
      " 1   HomePlanet    8492 non-null   object \n",
      " 2   CryoSleep     8476 non-null   object \n",
      " 3   Cabin         8494 non-null   object \n",
      " 4   Destination   8511 non-null   object \n",
      " 5   Age           8514 non-null   float64\n",
      " 6   VIP           8490 non-null   object \n",
      " 7   RoomService   8512 non-null   float64\n",
      " 8   FoodCourt     8510 non-null   float64\n",
      " 9   ShoppingMall  8485 non-null   float64\n",
      " 10  Spa           8510 non-null   float64\n",
      " 11  VRDeck        8505 non-null   float64\n",
      " 12  Name          8493 non-null   object \n",
      " 13  Transported   8693 non-null   bool   \n",
      "dtypes: bool(1), float64(6), object(7)\n",
      "memory usage: 891.5+ KB\n",
      "CPU times: user 17.4 ms, sys: 1.32 ms, total: 18.7 ms\n",
      "Wall time: 31.7 ms\n"
     ]
    }
   ],
   "source": [
    "%%time\n",
    "trn_data.info()"
   ]
  },
  {
   "cell_type": "code",
   "execution_count": 7,
   "id": "59a547e6",
   "metadata": {
    "execution": {
     "iopub.execute_input": "2022-02-27T05:15:59.313303Z",
     "iopub.status.busy": "2022-02-27T05:15:59.312607Z",
     "iopub.status.idle": "2022-02-27T05:15:59.338433Z",
     "shell.execute_reply": "2022-02-27T05:15:59.337494Z",
     "shell.execute_reply.started": "2022-02-27T05:12:06.658258Z"
    },
    "papermill": {
     "duration": 0.095069,
     "end_time": "2022-02-27T05:15:59.338628",
     "exception": false,
     "start_time": "2022-02-27T05:15:59.243559",
     "status": "completed"
    },
    "tags": []
   },
   "outputs": [
    {
     "name": "stdout",
     "output_type": "stream",
     "text": [
      "CPU times: user 120 µs, sys: 16 µs, total: 136 µs\n",
      "Wall time: 140 µs\n"
     ]
    },
    {
     "data": {
      "text/html": [
       "<div>\n",
       "<style scoped>\n",
       "    .dataframe tbody tr th:only-of-type {\n",
       "        vertical-align: middle;\n",
       "    }\n",
       "\n",
       "    .dataframe tbody tr th {\n",
       "        vertical-align: top;\n",
       "    }\n",
       "\n",
       "    .dataframe thead th {\n",
       "        text-align: right;\n",
       "    }\n",
       "</style>\n",
       "<table border=\"1\" class=\"dataframe\">\n",
       "  <thead>\n",
       "    <tr style=\"text-align: right;\">\n",
       "      <th></th>\n",
       "      <th>PassengerId</th>\n",
       "      <th>HomePlanet</th>\n",
       "      <th>CryoSleep</th>\n",
       "      <th>Cabin</th>\n",
       "      <th>Destination</th>\n",
       "      <th>Age</th>\n",
       "      <th>VIP</th>\n",
       "      <th>RoomService</th>\n",
       "      <th>FoodCourt</th>\n",
       "      <th>ShoppingMall</th>\n",
       "      <th>Spa</th>\n",
       "      <th>VRDeck</th>\n",
       "      <th>Name</th>\n",
       "      <th>Transported</th>\n",
       "    </tr>\n",
       "  </thead>\n",
       "  <tbody>\n",
       "    <tr>\n",
       "      <th>0</th>\n",
       "      <td>0001_01</td>\n",
       "      <td>Europa</td>\n",
       "      <td>False</td>\n",
       "      <td>B/0/P</td>\n",
       "      <td>TRAPPIST-1e</td>\n",
       "      <td>39.00</td>\n",
       "      <td>False</td>\n",
       "      <td>0.00</td>\n",
       "      <td>0.00</td>\n",
       "      <td>0.00</td>\n",
       "      <td>0.00</td>\n",
       "      <td>0.00</td>\n",
       "      <td>Maham Ofracculy</td>\n",
       "      <td>False</td>\n",
       "    </tr>\n",
       "    <tr>\n",
       "      <th>1</th>\n",
       "      <td>0002_01</td>\n",
       "      <td>Earth</td>\n",
       "      <td>False</td>\n",
       "      <td>F/0/S</td>\n",
       "      <td>TRAPPIST-1e</td>\n",
       "      <td>24.00</td>\n",
       "      <td>False</td>\n",
       "      <td>109.00</td>\n",
       "      <td>9.00</td>\n",
       "      <td>25.00</td>\n",
       "      <td>549.00</td>\n",
       "      <td>44.00</td>\n",
       "      <td>Juanna Vines</td>\n",
       "      <td>True</td>\n",
       "    </tr>\n",
       "    <tr>\n",
       "      <th>2</th>\n",
       "      <td>0003_01</td>\n",
       "      <td>Europa</td>\n",
       "      <td>False</td>\n",
       "      <td>A/0/S</td>\n",
       "      <td>TRAPPIST-1e</td>\n",
       "      <td>58.00</td>\n",
       "      <td>True</td>\n",
       "      <td>43.00</td>\n",
       "      <td>3,576.00</td>\n",
       "      <td>0.00</td>\n",
       "      <td>6,715.00</td>\n",
       "      <td>49.00</td>\n",
       "      <td>Altark Susent</td>\n",
       "      <td>False</td>\n",
       "    </tr>\n",
       "    <tr>\n",
       "      <th>3</th>\n",
       "      <td>0003_02</td>\n",
       "      <td>Europa</td>\n",
       "      <td>False</td>\n",
       "      <td>A/0/S</td>\n",
       "      <td>TRAPPIST-1e</td>\n",
       "      <td>33.00</td>\n",
       "      <td>False</td>\n",
       "      <td>0.00</td>\n",
       "      <td>1,283.00</td>\n",
       "      <td>371.00</td>\n",
       "      <td>3,329.00</td>\n",
       "      <td>193.00</td>\n",
       "      <td>Solam Susent</td>\n",
       "      <td>False</td>\n",
       "    </tr>\n",
       "    <tr>\n",
       "      <th>4</th>\n",
       "      <td>0004_01</td>\n",
       "      <td>Earth</td>\n",
       "      <td>False</td>\n",
       "      <td>F/1/S</td>\n",
       "      <td>TRAPPIST-1e</td>\n",
       "      <td>16.00</td>\n",
       "      <td>False</td>\n",
       "      <td>303.00</td>\n",
       "      <td>70.00</td>\n",
       "      <td>151.00</td>\n",
       "      <td>565.00</td>\n",
       "      <td>2.00</td>\n",
       "      <td>Willy Santantines</td>\n",
       "      <td>True</td>\n",
       "    </tr>\n",
       "  </tbody>\n",
       "</table>\n",
       "</div>"
      ],
      "text/plain": [
       "  PassengerId HomePlanet CryoSleep  Cabin  Destination   Age    VIP  \\\n",
       "0     0001_01     Europa     False  B/0/P  TRAPPIST-1e 39.00  False   \n",
       "1     0002_01      Earth     False  F/0/S  TRAPPIST-1e 24.00  False   \n",
       "2     0003_01     Europa     False  A/0/S  TRAPPIST-1e 58.00   True   \n",
       "3     0003_02     Europa     False  A/0/S  TRAPPIST-1e 33.00  False   \n",
       "4     0004_01      Earth     False  F/1/S  TRAPPIST-1e 16.00  False   \n",
       "\n",
       "   RoomService  FoodCourt  ShoppingMall      Spa  VRDeck               Name  \\\n",
       "0         0.00       0.00          0.00     0.00    0.00    Maham Ofracculy   \n",
       "1       109.00       9.00         25.00   549.00   44.00       Juanna Vines   \n",
       "2        43.00   3,576.00          0.00 6,715.00   49.00      Altark Susent   \n",
       "3         0.00   1,283.00        371.00 3,329.00  193.00       Solam Susent   \n",
       "4       303.00      70.00        151.00   565.00    2.00  Willy Santantines   \n",
       "\n",
       "   Transported  \n",
       "0        False  \n",
       "1         True  \n",
       "2        False  \n",
       "3        False  \n",
       "4         True  "
      ]
     },
     "execution_count": 7,
     "metadata": {},
     "output_type": "execute_result"
    }
   ],
   "source": [
    "%%time\n",
    "trn_data.head()"
   ]
  },
  {
   "cell_type": "code",
   "execution_count": 8,
   "id": "9c6c4f26",
   "metadata": {
    "execution": {
     "iopub.execute_input": "2022-02-27T05:15:59.477565Z",
     "iopub.status.busy": "2022-02-27T05:15:59.476892Z",
     "iopub.status.idle": "2022-02-27T05:15:59.509182Z",
     "shell.execute_reply": "2022-02-27T05:15:59.508556Z",
     "shell.execute_reply.started": "2022-02-27T05:12:06.680384Z"
    },
    "papermill": {
     "duration": 0.102426,
     "end_time": "2022-02-27T05:15:59.509333",
     "exception": false,
     "start_time": "2022-02-27T05:15:59.406907",
     "status": "completed"
    },
    "tags": []
   },
   "outputs": [
    {
     "name": "stdout",
     "output_type": "stream",
     "text": [
      "CPU times: user 16.3 ms, sys: 39 µs, total: 16.3 ms\n",
      "Wall time: 18.8 ms\n"
     ]
    },
    {
     "data": {
      "text/html": [
       "<div>\n",
       "<style scoped>\n",
       "    .dataframe tbody tr th:only-of-type {\n",
       "        vertical-align: middle;\n",
       "    }\n",
       "\n",
       "    .dataframe tbody tr th {\n",
       "        vertical-align: top;\n",
       "    }\n",
       "\n",
       "    .dataframe thead th {\n",
       "        text-align: right;\n",
       "    }\n",
       "</style>\n",
       "<table border=\"1\" class=\"dataframe\">\n",
       "  <thead>\n",
       "    <tr style=\"text-align: right;\">\n",
       "      <th></th>\n",
       "      <th>Age</th>\n",
       "      <th>RoomService</th>\n",
       "      <th>FoodCourt</th>\n",
       "      <th>ShoppingMall</th>\n",
       "      <th>Spa</th>\n",
       "      <th>VRDeck</th>\n",
       "    </tr>\n",
       "  </thead>\n",
       "  <tbody>\n",
       "    <tr>\n",
       "      <th>count</th>\n",
       "      <td>8,514.00</td>\n",
       "      <td>8,512.00</td>\n",
       "      <td>8,510.00</td>\n",
       "      <td>8,485.00</td>\n",
       "      <td>8,510.00</td>\n",
       "      <td>8,505.00</td>\n",
       "    </tr>\n",
       "    <tr>\n",
       "      <th>mean</th>\n",
       "      <td>28.83</td>\n",
       "      <td>224.69</td>\n",
       "      <td>458.08</td>\n",
       "      <td>173.73</td>\n",
       "      <td>311.14</td>\n",
       "      <td>304.85</td>\n",
       "    </tr>\n",
       "    <tr>\n",
       "      <th>std</th>\n",
       "      <td>14.49</td>\n",
       "      <td>666.72</td>\n",
       "      <td>1,611.49</td>\n",
       "      <td>604.70</td>\n",
       "      <td>1,136.71</td>\n",
       "      <td>1,145.72</td>\n",
       "    </tr>\n",
       "    <tr>\n",
       "      <th>min</th>\n",
       "      <td>0.00</td>\n",
       "      <td>0.00</td>\n",
       "      <td>0.00</td>\n",
       "      <td>0.00</td>\n",
       "      <td>0.00</td>\n",
       "      <td>0.00</td>\n",
       "    </tr>\n",
       "    <tr>\n",
       "      <th>25%</th>\n",
       "      <td>19.00</td>\n",
       "      <td>0.00</td>\n",
       "      <td>0.00</td>\n",
       "      <td>0.00</td>\n",
       "      <td>0.00</td>\n",
       "      <td>0.00</td>\n",
       "    </tr>\n",
       "    <tr>\n",
       "      <th>50%</th>\n",
       "      <td>27.00</td>\n",
       "      <td>0.00</td>\n",
       "      <td>0.00</td>\n",
       "      <td>0.00</td>\n",
       "      <td>0.00</td>\n",
       "      <td>0.00</td>\n",
       "    </tr>\n",
       "    <tr>\n",
       "      <th>75%</th>\n",
       "      <td>38.00</td>\n",
       "      <td>47.00</td>\n",
       "      <td>76.00</td>\n",
       "      <td>27.00</td>\n",
       "      <td>59.00</td>\n",
       "      <td>46.00</td>\n",
       "    </tr>\n",
       "    <tr>\n",
       "      <th>max</th>\n",
       "      <td>79.00</td>\n",
       "      <td>14,327.00</td>\n",
       "      <td>29,813.00</td>\n",
       "      <td>23,492.00</td>\n",
       "      <td>22,408.00</td>\n",
       "      <td>24,133.00</td>\n",
       "    </tr>\n",
       "  </tbody>\n",
       "</table>\n",
       "</div>"
      ],
      "text/plain": [
       "           Age  RoomService  FoodCourt  ShoppingMall       Spa    VRDeck\n",
       "count 8,514.00     8,512.00   8,510.00      8,485.00  8,510.00  8,505.00\n",
       "mean     28.83       224.69     458.08        173.73    311.14    304.85\n",
       "std      14.49       666.72   1,611.49        604.70  1,136.71  1,145.72\n",
       "min       0.00         0.00       0.00          0.00      0.00      0.00\n",
       "25%      19.00         0.00       0.00          0.00      0.00      0.00\n",
       "50%      27.00         0.00       0.00          0.00      0.00      0.00\n",
       "75%      38.00        47.00      76.00         27.00     59.00     46.00\n",
       "max      79.00    14,327.00  29,813.00     23,492.00 22,408.00 24,133.00"
      ]
     },
     "execution_count": 8,
     "metadata": {},
     "output_type": "execute_result"
    }
   ],
   "source": [
    "%%time\n",
    "trn_data.describe()"
   ]
  },
  {
   "cell_type": "code",
   "execution_count": 9,
   "id": "2b3e9f9d",
   "metadata": {
    "execution": {
     "iopub.execute_input": "2022-02-27T05:15:59.652546Z",
     "iopub.status.busy": "2022-02-27T05:15:59.651767Z",
     "iopub.status.idle": "2022-02-27T05:15:59.657505Z",
     "shell.execute_reply": "2022-02-27T05:15:59.658218Z",
     "shell.execute_reply.started": "2022-02-27T05:12:06.712089Z"
    },
    "papermill": {
     "duration": 0.078643,
     "end_time": "2022-02-27T05:15:59.658443",
     "exception": false,
     "start_time": "2022-02-27T05:15:59.579800",
     "status": "completed"
    },
    "tags": []
   },
   "outputs": [
    {
     "name": "stdout",
     "output_type": "stream",
     "text": [
      "CPU times: user 4 µs, sys: 0 ns, total: 4 µs\n",
      "Wall time: 8.34 µs\n"
     ]
    }
   ],
   "source": [
    "%%time\n",
    "def describe_categ(df):\n",
    "    for col in df.columns:\n",
    "        unique_samples = list(df[col].unique())\n",
    "        unique_values = df[col].nunique()\n",
    "\n",
    "        print(f' {col}: {unique_values} Unique Values,  Data Sample >> {unique_samples[:5]}')\n",
    "    print(' ...')\n",
    "    return None"
   ]
  },
  {
   "cell_type": "code",
   "execution_count": 10,
   "id": "c24d9f79",
   "metadata": {
    "execution": {
     "iopub.execute_input": "2022-02-27T05:15:59.801195Z",
     "iopub.status.busy": "2022-02-27T05:15:59.800501Z",
     "iopub.status.idle": "2022-02-27T05:15:59.835840Z",
     "shell.execute_reply": "2022-02-27T05:15:59.836549Z",
     "shell.execute_reply.started": "2022-02-27T05:12:06.721275Z"
    },
    "papermill": {
     "duration": 0.108282,
     "end_time": "2022-02-27T05:15:59.836819",
     "exception": false,
     "start_time": "2022-02-27T05:15:59.728537",
     "status": "completed"
    },
    "tags": []
   },
   "outputs": [
    {
     "name": "stdout",
     "output_type": "stream",
     "text": [
      " PassengerId: 8693 Unique Values,  Data Sample >> ['0001_01', '0002_01', '0003_01', '0003_02', '0004_01']\n",
      " HomePlanet: 3 Unique Values,  Data Sample >> ['Europa', 'Earth', 'Mars', nan]\n",
      " CryoSleep: 2 Unique Values,  Data Sample >> [False, True, nan]\n",
      " Cabin: 6560 Unique Values,  Data Sample >> ['B/0/P', 'F/0/S', 'A/0/S', 'F/1/S', 'F/0/P']\n",
      " Destination: 3 Unique Values,  Data Sample >> ['TRAPPIST-1e', 'PSO J318.5-22', '55 Cancri e', nan]\n",
      " Age: 80 Unique Values,  Data Sample >> [39.0, 24.0, 58.0, 33.0, 16.0]\n",
      " VIP: 2 Unique Values,  Data Sample >> [False, True, nan]\n",
      " RoomService: 1273 Unique Values,  Data Sample >> [0.0, 109.0, 43.0, 303.0, 42.0]\n",
      " FoodCourt: 1507 Unique Values,  Data Sample >> [0.0, 9.0, 3576.0, 1283.0, 70.0]\n",
      " ShoppingMall: 1115 Unique Values,  Data Sample >> [0.0, 25.0, 371.0, 151.0, 3.0]\n",
      " Spa: 1327 Unique Values,  Data Sample >> [0.0, 549.0, 6715.0, 3329.0, 565.0]\n",
      " VRDeck: 1306 Unique Values,  Data Sample >> [0.0, 44.0, 49.0, 193.0, 2.0]\n",
      " Name: 8473 Unique Values,  Data Sample >> ['Maham Ofracculy', 'Juanna Vines', 'Altark Susent', 'Solam Susent', 'Willy Santantines']\n",
      " Transported: 2 Unique Values,  Data Sample >> [False, True]\n",
      " ...\n",
      "CPU times: user 24 ms, sys: 2.13 ms, total: 26.1 ms\n",
      "Wall time: 28.9 ms\n"
     ]
    }
   ],
   "source": [
    "%%time\n",
    "describe_categ(trn_data)"
   ]
  },
  {
   "cell_type": "code",
   "execution_count": 11,
   "id": "7306ee0f",
   "metadata": {
    "execution": {
     "iopub.execute_input": "2022-02-27T05:15:59.982817Z",
     "iopub.status.busy": "2022-02-27T05:15:59.982103Z",
     "iopub.status.idle": "2022-02-27T05:16:00.001502Z",
     "shell.execute_reply": "2022-02-27T05:16:00.000865Z",
     "shell.execute_reply.started": "2022-02-27T05:12:06.761740Z"
    },
    "papermill": {
     "duration": 0.094014,
     "end_time": "2022-02-27T05:16:00.001663",
     "exception": false,
     "start_time": "2022-02-27T05:15:59.907649",
     "status": "completed"
    },
    "tags": []
   },
   "outputs": [
    {
     "name": "stdout",
     "output_type": "stream",
     "text": [
      " PassengerId: 4277 Unique Values,  Data Sample >> ['0013_01', '0018_01', '0019_01', '0021_01', '0023_01']\n",
      " HomePlanet: 3 Unique Values,  Data Sample >> ['Earth', 'Europa', 'Mars', nan]\n",
      " CryoSleep: 2 Unique Values,  Data Sample >> [True, False, nan]\n",
      " Cabin: 3265 Unique Values,  Data Sample >> ['G/3/S', 'F/4/S', 'C/0/S', 'C/1/S', 'F/5/S']\n",
      " Destination: 3 Unique Values,  Data Sample >> ['TRAPPIST-1e', '55 Cancri e', 'PSO J318.5-22', nan]\n",
      " Age: 79 Unique Values,  Data Sample >> [27.0, 19.0, 31.0, 38.0, 20.0]\n",
      " VIP: 2 Unique Values,  Data Sample >> [False, nan, True]\n",
      " RoomService: 842 Unique Values,  Data Sample >> [0.0, 10.0, 339.0, 932.0, 2.0]\n",
      " FoodCourt: 902 Unique Values,  Data Sample >> [0.0, 9.0, 6652.0, 1615.0, nan]\n",
      " ShoppingMall: 715 Unique Values,  Data Sample >> [0.0, 635.0, 263.0, 136.0, nan]\n",
      " Spa: 833 Unique Values,  Data Sample >> [0.0, 2823.0, 181.0, 113.0, 237.0]\n",
      " VRDeck: 796 Unique Values,  Data Sample >> [0.0, 585.0, 60.0, 1010.0, 224.0]\n",
      " Name: 4176 Unique Values,  Data Sample >> ['Nelly Carsoning', 'Lerome Peckers', 'Sabih Unhearfus', 'Meratz Caltilter', 'Brence Harperez']\n",
      " ...\n",
      "CPU times: user 15.4 ms, sys: 1.05 ms, total: 16.5 ms\n",
      "Wall time: 15.9 ms\n"
     ]
    }
   ],
   "source": [
    "%%time\n",
    "describe_categ(tst_data)"
   ]
  },
  {
   "cell_type": "code",
   "execution_count": 12,
   "id": "c8d93267",
   "metadata": {
    "execution": {
     "iopub.execute_input": "2022-02-27T05:16:00.148444Z",
     "iopub.status.busy": "2022-02-27T05:16:00.147760Z",
     "iopub.status.idle": "2022-02-27T05:16:00.162575Z",
     "shell.execute_reply": "2022-02-27T05:16:00.163117Z",
     "shell.execute_reply.started": "2022-02-27T05:12:06.786011Z"
    },
    "papermill": {
     "duration": 0.089764,
     "end_time": "2022-02-27T05:16:00.163314",
     "exception": false,
     "start_time": "2022-02-27T05:16:00.073550",
     "status": "completed"
    },
    "tags": []
   },
   "outputs": [
    {
     "data": {
      "text/plain": [
       "PassengerId       0\n",
       "HomePlanet      201\n",
       "CryoSleep       217\n",
       "Cabin           199\n",
       "Destination     182\n",
       "Age             179\n",
       "VIP             203\n",
       "RoomService     181\n",
       "FoodCourt       183\n",
       "ShoppingMall    208\n",
       "Spa             183\n",
       "VRDeck          188\n",
       "Name            200\n",
       "Transported       0\n",
       "dtype: int64"
      ]
     },
     "execution_count": 12,
     "metadata": {},
     "output_type": "execute_result"
    }
   ],
   "source": [
    "trn_data.isnull().sum()"
   ]
  },
  {
   "cell_type": "code",
   "execution_count": 13,
   "id": "49615d15",
   "metadata": {
    "execution": {
     "iopub.execute_input": "2022-02-27T05:16:00.325741Z",
     "iopub.status.busy": "2022-02-27T05:16:00.324987Z",
     "iopub.status.idle": "2022-02-27T05:16:00.331976Z",
     "shell.execute_reply": "2022-02-27T05:16:00.332539Z",
     "shell.execute_reply.started": "2022-02-27T05:12:06.801670Z"
    },
    "papermill": {
     "duration": 0.09723,
     "end_time": "2022-02-27T05:16:00.332715",
     "exception": false,
     "start_time": "2022-02-27T05:16:00.235485",
     "status": "completed"
    },
    "tags": []
   },
   "outputs": [
    {
     "data": {
      "text/html": [
       "<div>\n",
       "<style scoped>\n",
       "    .dataframe tbody tr th:only-of-type {\n",
       "        vertical-align: middle;\n",
       "    }\n",
       "\n",
       "    .dataframe tbody tr th {\n",
       "        vertical-align: top;\n",
       "    }\n",
       "\n",
       "    .dataframe thead th {\n",
       "        text-align: right;\n",
       "    }\n",
       "</style>\n",
       "<table border=\"1\" class=\"dataframe\">\n",
       "  <thead>\n",
       "    <tr style=\"text-align: right;\">\n",
       "      <th></th>\n",
       "      <th>PassengerId</th>\n",
       "      <th>HomePlanet</th>\n",
       "      <th>CryoSleep</th>\n",
       "      <th>Cabin</th>\n",
       "      <th>Destination</th>\n",
       "      <th>Age</th>\n",
       "      <th>VIP</th>\n",
       "      <th>RoomService</th>\n",
       "      <th>FoodCourt</th>\n",
       "      <th>ShoppingMall</th>\n",
       "      <th>Spa</th>\n",
       "      <th>VRDeck</th>\n",
       "      <th>Name</th>\n",
       "    </tr>\n",
       "  </thead>\n",
       "  <tbody>\n",
       "    <tr>\n",
       "      <th>0</th>\n",
       "      <td>0013_01</td>\n",
       "      <td>Earth</td>\n",
       "      <td>True</td>\n",
       "      <td>G/3/S</td>\n",
       "      <td>TRAPPIST-1e</td>\n",
       "      <td>27.00</td>\n",
       "      <td>False</td>\n",
       "      <td>0.00</td>\n",
       "      <td>0.00</td>\n",
       "      <td>0.00</td>\n",
       "      <td>0.00</td>\n",
       "      <td>0.00</td>\n",
       "      <td>Nelly Carsoning</td>\n",
       "    </tr>\n",
       "    <tr>\n",
       "      <th>1</th>\n",
       "      <td>0018_01</td>\n",
       "      <td>Earth</td>\n",
       "      <td>False</td>\n",
       "      <td>F/4/S</td>\n",
       "      <td>TRAPPIST-1e</td>\n",
       "      <td>19.00</td>\n",
       "      <td>False</td>\n",
       "      <td>0.00</td>\n",
       "      <td>9.00</td>\n",
       "      <td>0.00</td>\n",
       "      <td>2,823.00</td>\n",
       "      <td>0.00</td>\n",
       "      <td>Lerome Peckers</td>\n",
       "    </tr>\n",
       "    <tr>\n",
       "      <th>2</th>\n",
       "      <td>0019_01</td>\n",
       "      <td>Europa</td>\n",
       "      <td>True</td>\n",
       "      <td>C/0/S</td>\n",
       "      <td>55 Cancri e</td>\n",
       "      <td>31.00</td>\n",
       "      <td>False</td>\n",
       "      <td>0.00</td>\n",
       "      <td>0.00</td>\n",
       "      <td>0.00</td>\n",
       "      <td>0.00</td>\n",
       "      <td>0.00</td>\n",
       "      <td>Sabih Unhearfus</td>\n",
       "    </tr>\n",
       "    <tr>\n",
       "      <th>3</th>\n",
       "      <td>0021_01</td>\n",
       "      <td>Europa</td>\n",
       "      <td>False</td>\n",
       "      <td>C/1/S</td>\n",
       "      <td>TRAPPIST-1e</td>\n",
       "      <td>38.00</td>\n",
       "      <td>False</td>\n",
       "      <td>0.00</td>\n",
       "      <td>6,652.00</td>\n",
       "      <td>0.00</td>\n",
       "      <td>181.00</td>\n",
       "      <td>585.00</td>\n",
       "      <td>Meratz Caltilter</td>\n",
       "    </tr>\n",
       "    <tr>\n",
       "      <th>4</th>\n",
       "      <td>0023_01</td>\n",
       "      <td>Earth</td>\n",
       "      <td>False</td>\n",
       "      <td>F/5/S</td>\n",
       "      <td>TRAPPIST-1e</td>\n",
       "      <td>20.00</td>\n",
       "      <td>False</td>\n",
       "      <td>10.00</td>\n",
       "      <td>0.00</td>\n",
       "      <td>635.00</td>\n",
       "      <td>0.00</td>\n",
       "      <td>0.00</td>\n",
       "      <td>Brence Harperez</td>\n",
       "    </tr>\n",
       "  </tbody>\n",
       "</table>\n",
       "</div>"
      ],
      "text/plain": [
       "  PassengerId HomePlanet CryoSleep  Cabin  Destination   Age    VIP  \\\n",
       "0     0013_01      Earth      True  G/3/S  TRAPPIST-1e 27.00  False   \n",
       "1     0018_01      Earth     False  F/4/S  TRAPPIST-1e 19.00  False   \n",
       "2     0019_01     Europa      True  C/0/S  55 Cancri e 31.00  False   \n",
       "3     0021_01     Europa     False  C/1/S  TRAPPIST-1e 38.00  False   \n",
       "4     0023_01      Earth     False  F/5/S  TRAPPIST-1e 20.00  False   \n",
       "\n",
       "   RoomService  FoodCourt  ShoppingMall      Spa  VRDeck              Name  \n",
       "0         0.00       0.00          0.00     0.00    0.00   Nelly Carsoning  \n",
       "1         0.00       9.00          0.00 2,823.00    0.00    Lerome Peckers  \n",
       "2         0.00       0.00          0.00     0.00    0.00   Sabih Unhearfus  \n",
       "3         0.00   6,652.00          0.00   181.00  585.00  Meratz Caltilter  \n",
       "4        10.00       0.00        635.00     0.00    0.00   Brence Harperez  "
      ]
     },
     "execution_count": 13,
     "metadata": {},
     "output_type": "execute_result"
    }
   ],
   "source": [
    "tst_data.head()"
   ]
  },
  {
   "cell_type": "code",
   "execution_count": 14,
   "id": "7e648658",
   "metadata": {
    "execution": {
     "iopub.execute_input": "2022-02-27T05:16:00.480448Z",
     "iopub.status.busy": "2022-02-27T05:16:00.479718Z",
     "iopub.status.idle": "2022-02-27T05:16:00.491558Z",
     "shell.execute_reply": "2022-02-27T05:16:00.490866Z",
     "shell.execute_reply.started": "2022-02-27T05:12:06.821553Z"
    },
    "papermill": {
     "duration": 0.087993,
     "end_time": "2022-02-27T05:16:00.491711",
     "exception": false,
     "start_time": "2022-02-27T05:16:00.403718",
     "status": "completed"
    },
    "tags": []
   },
   "outputs": [
    {
     "data": {
      "text/plain": [
       "PassengerId       0\n",
       "HomePlanet       87\n",
       "CryoSleep        93\n",
       "Cabin           100\n",
       "Destination      92\n",
       "Age              91\n",
       "VIP              93\n",
       "RoomService      82\n",
       "FoodCourt       106\n",
       "ShoppingMall     98\n",
       "Spa             101\n",
       "VRDeck           80\n",
       "Name             94\n",
       "dtype: int64"
      ]
     },
     "execution_count": 14,
     "metadata": {},
     "output_type": "execute_result"
    }
   ],
   "source": [
    "tst_data.isnull().sum()"
   ]
  },
  {
   "cell_type": "code",
   "execution_count": 15,
   "id": "4dafdc36",
   "metadata": {
    "execution": {
     "iopub.execute_input": "2022-02-27T05:16:00.642105Z",
     "iopub.status.busy": "2022-02-27T05:16:00.641455Z",
     "iopub.status.idle": "2022-02-27T05:16:00.649920Z",
     "shell.execute_reply": "2022-02-27T05:16:00.650453Z",
     "shell.execute_reply.started": "2022-02-27T05:12:06.835249Z"
    },
    "papermill": {
     "duration": 0.086752,
     "end_time": "2022-02-27T05:16:00.650630",
     "exception": false,
     "start_time": "2022-02-27T05:16:00.563878",
     "status": "completed"
    },
    "tags": []
   },
   "outputs": [
    {
     "data": {
      "text/html": [
       "<div>\n",
       "<style scoped>\n",
       "    .dataframe tbody tr th:only-of-type {\n",
       "        vertical-align: middle;\n",
       "    }\n",
       "\n",
       "    .dataframe tbody tr th {\n",
       "        vertical-align: top;\n",
       "    }\n",
       "\n",
       "    .dataframe thead th {\n",
       "        text-align: right;\n",
       "    }\n",
       "</style>\n",
       "<table border=\"1\" class=\"dataframe\">\n",
       "  <thead>\n",
       "    <tr style=\"text-align: right;\">\n",
       "      <th></th>\n",
       "      <th>PassengerId</th>\n",
       "      <th>Transported</th>\n",
       "    </tr>\n",
       "  </thead>\n",
       "  <tbody>\n",
       "    <tr>\n",
       "      <th>0</th>\n",
       "      <td>0013_01</td>\n",
       "      <td>False</td>\n",
       "    </tr>\n",
       "    <tr>\n",
       "      <th>1</th>\n",
       "      <td>0018_01</td>\n",
       "      <td>False</td>\n",
       "    </tr>\n",
       "    <tr>\n",
       "      <th>2</th>\n",
       "      <td>0019_01</td>\n",
       "      <td>False</td>\n",
       "    </tr>\n",
       "    <tr>\n",
       "      <th>3</th>\n",
       "      <td>0021_01</td>\n",
       "      <td>False</td>\n",
       "    </tr>\n",
       "    <tr>\n",
       "      <th>4</th>\n",
       "      <td>0023_01</td>\n",
       "      <td>False</td>\n",
       "    </tr>\n",
       "  </tbody>\n",
       "</table>\n",
       "</div>"
      ],
      "text/plain": [
       "  PassengerId  Transported\n",
       "0     0013_01        False\n",
       "1     0018_01        False\n",
       "2     0019_01        False\n",
       "3     0021_01        False\n",
       "4     0023_01        False"
      ]
     },
     "execution_count": 15,
     "metadata": {},
     "output_type": "execute_result"
    }
   ],
   "source": [
    "sub.head()"
   ]
  },
  {
   "cell_type": "markdown",
   "id": "9fbe1952",
   "metadata": {
    "papermill": {
     "duration": 0.072606,
     "end_time": "2022-02-27T05:16:00.796429",
     "exception": false,
     "start_time": "2022-02-27T05:16:00.723823",
     "status": "completed"
    },
    "tags": []
   },
   "source": [
    "# Exploring the Target Variable..."
   ]
  },
  {
   "cell_type": "code",
   "execution_count": 16,
   "id": "b3e2615b",
   "metadata": {
    "execution": {
     "iopub.execute_input": "2022-02-27T05:16:00.948741Z",
     "iopub.status.busy": "2022-02-27T05:16:00.947852Z",
     "iopub.status.idle": "2022-02-27T05:16:00.954711Z",
     "shell.execute_reply": "2022-02-27T05:16:00.955389Z",
     "shell.execute_reply.started": "2022-02-27T05:12:06.845703Z"
    },
    "papermill": {
     "duration": 0.085683,
     "end_time": "2022-02-27T05:16:00.955640",
     "exception": false,
     "start_time": "2022-02-27T05:16:00.869957",
     "status": "completed"
    },
    "tags": []
   },
   "outputs": [
    {
     "name": "stdout",
     "output_type": "stream",
     "text": [
      "CPU times: user 4 µs, sys: 0 ns, total: 4 µs\n",
      "Wall time: 8.34 µs\n"
     ]
    }
   ],
   "source": [
    "%%time\n",
    "def analyze_categ_target(df, target = 'Transported'):\n",
    "    \n",
    "    transported = df[df[target] == True].shape[0]\n",
    "    not_transported = df[df[target] == False].shape[0]\n",
    "    total = transported + not_transported\n",
    "    \n",
    "    print(f'Transported     : {transported / total:.2f} %')\n",
    "    print(f'Not Transported : {not_transported / total:.2f} %')\n",
    "    print(f'Total Passengers: {total}')\n",
    "    print('...')"
   ]
  },
  {
   "cell_type": "code",
   "execution_count": 17,
   "id": "8ad14ae4",
   "metadata": {
    "execution": {
     "iopub.execute_input": "2022-02-27T05:16:01.131998Z",
     "iopub.status.busy": "2022-02-27T05:16:01.131323Z",
     "iopub.status.idle": "2022-02-27T05:16:01.143085Z",
     "shell.execute_reply": "2022-02-27T05:16:01.143699Z",
     "shell.execute_reply.started": "2022-02-27T05:12:06.854329Z"
    },
    "papermill": {
     "duration": 0.10332,
     "end_time": "2022-02-27T05:16:01.143882",
     "exception": false,
     "start_time": "2022-02-27T05:16:01.040562",
     "status": "completed"
    },
    "tags": []
   },
   "outputs": [
    {
     "name": "stdout",
     "output_type": "stream",
     "text": [
      "Transported     : 0.50 %\n",
      "Not Transported : 0.50 %\n",
      "Total Passengers: 8693\n",
      "...\n",
      "CPU times: user 1.74 ms, sys: 2.75 ms, total: 4.48 ms\n",
      "Wall time: 6.12 ms\n"
     ]
    }
   ],
   "source": [
    "%%time\n",
    "analyze_categ_target(trn_data)"
   ]
  },
  {
   "cell_type": "code",
   "execution_count": 18,
   "id": "853d91de",
   "metadata": {
    "execution": {
     "iopub.execute_input": "2022-02-27T05:16:01.306862Z",
     "iopub.status.busy": "2022-02-27T05:16:01.305840Z",
     "iopub.status.idle": "2022-02-27T05:16:01.309319Z",
     "shell.execute_reply": "2022-02-27T05:16:01.310013Z",
     "shell.execute_reply.started": "2022-02-27T05:12:06.868252Z"
    },
    "papermill": {
     "duration": 0.091422,
     "end_time": "2022-02-27T05:16:01.310275",
     "exception": false,
     "start_time": "2022-02-27T05:16:01.218853",
     "status": "completed"
    },
    "tags": []
   },
   "outputs": [
    {
     "name": "stdout",
     "output_type": "stream",
     "text": [
      "Overlapped Passengers: 0\n",
      "CPU times: user 4.63 ms, sys: 0 ns, total: 4.63 ms\n",
      "Wall time: 3.92 ms\n"
     ]
    }
   ],
   "source": [
    "%%time\n",
    "trn_passenger_ids = set(trn_data['PassengerId'].unique())\n",
    "tst_passenger_ids = set(tst_data['PassengerId'].unique())\n",
    "intersection = trn_passenger_ids.intersection(tst_passenger_ids)\n",
    "print('Overlapped Passengers:', len(intersection))"
   ]
  },
  {
   "cell_type": "markdown",
   "id": "aaebe5cb",
   "metadata": {
    "papermill": {
     "duration": 0.073855,
     "end_time": "2022-02-27T05:16:01.458636",
     "exception": false,
     "start_time": "2022-02-27T05:16:01.384781",
     "status": "completed"
    },
    "tags": []
   },
   "source": [
    "# Feature Engineering"
   ]
  },
  {
   "cell_type": "code",
   "execution_count": 19,
   "id": "7a372a5d",
   "metadata": {
    "execution": {
     "iopub.execute_input": "2022-02-27T05:16:01.615274Z",
     "iopub.status.busy": "2022-02-27T05:16:01.614210Z",
     "iopub.status.idle": "2022-02-27T05:16:01.617430Z",
     "shell.execute_reply": "2022-02-27T05:16:01.616829Z",
     "shell.execute_reply.started": "2022-02-27T05:12:06.880088Z"
    },
    "papermill": {
     "duration": 0.085644,
     "end_time": "2022-02-27T05:16:01.617591",
     "exception": false,
     "start_time": "2022-02-27T05:16:01.531947",
     "status": "completed"
    },
    "tags": []
   },
   "outputs": [],
   "source": [
    "def fill_missing(df):\n",
    "    '''\n",
    "    \n",
    "    '''\n",
    "    \n",
    "    numerics = ['int16', 'int32', 'int64', 'float16', 'float32', 'float64']\n",
    "    numeric_tmp = df.select_dtypes(include = numerics)\n",
    "    categ_tmp = df.select_dtypes(exclude = numerics)\n",
    "\n",
    "    for col in numeric_tmp.columns:\n",
    "        print(col)\n",
    "        df[col] = df[col].fillna(value = df[col].mean())\n",
    "        \n",
    "    for col in categ_tmp.columns:\n",
    "        print(col)\n",
    "        df[col] = df[col].fillna(value = df[col].mode()[0])\n",
    "        \n",
    "    print('...')\n",
    "    \n",
    "    return df"
   ]
  },
  {
   "cell_type": "code",
   "execution_count": 20,
   "id": "f4c5dfe9",
   "metadata": {
    "execution": {
     "iopub.execute_input": "2022-02-27T05:16:01.769043Z",
     "iopub.status.busy": "2022-02-27T05:16:01.768325Z",
     "iopub.status.idle": "2022-02-27T05:16:01.851035Z",
     "shell.execute_reply": "2022-02-27T05:16:01.850469Z",
     "shell.execute_reply.started": "2022-02-27T05:12:06.889453Z"
    },
    "papermill": {
     "duration": 0.158834,
     "end_time": "2022-02-27T05:16:01.851209",
     "exception": false,
     "start_time": "2022-02-27T05:16:01.692375",
     "status": "completed"
    },
    "tags": []
   },
   "outputs": [
    {
     "name": "stdout",
     "output_type": "stream",
     "text": [
      "Age\n",
      "RoomService\n",
      "FoodCourt\n",
      "ShoppingMall\n",
      "Spa\n",
      "VRDeck\n",
      "PassengerId\n",
      "HomePlanet\n",
      "CryoSleep\n",
      "Cabin\n",
      "Destination\n",
      "VIP\n",
      "Name\n",
      "Transported\n",
      "...\n",
      "Age\n",
      "RoomService\n",
      "FoodCourt\n",
      "ShoppingMall\n",
      "Spa\n",
      "VRDeck\n",
      "PassengerId\n",
      "HomePlanet\n",
      "CryoSleep\n",
      "Cabin\n",
      "Destination\n",
      "VIP\n",
      "Name\n",
      "...\n"
     ]
    }
   ],
   "source": [
    "trn_data =  fill_missing(trn_data)\n",
    "tst_data =  fill_missing(tst_data)"
   ]
  },
  {
   "cell_type": "code",
   "execution_count": 21,
   "id": "73d225bd",
   "metadata": {
    "execution": {
     "iopub.execute_input": "2022-02-27T05:16:02.006778Z",
     "iopub.status.busy": "2022-02-27T05:16:02.005868Z",
     "iopub.status.idle": "2022-02-27T05:16:02.009818Z",
     "shell.execute_reply": "2022-02-27T05:16:02.010322Z",
     "shell.execute_reply.started": "2022-02-27T05:12:06.975807Z"
    },
    "papermill": {
     "duration": 0.083879,
     "end_time": "2022-02-27T05:16:02.010501",
     "exception": false,
     "start_time": "2022-02-27T05:16:01.926622",
     "status": "completed"
    },
    "tags": []
   },
   "outputs": [
    {
     "name": "stdout",
     "output_type": "stream",
     "text": [
      "CPU times: user 4 µs, sys: 0 ns, total: 4 µs\n",
      "Wall time: 8.11 µs\n"
     ]
    }
   ],
   "source": [
    "%%time\n",
    "def total_billed(df):\n",
    "    '''\n",
    "    Calculates total amount billed in the trip to the passenger... \n",
    "    \n",
    "    '''\n",
    "    \n",
    "    df['Total_Billed'] = df['RoomService'] + df['FoodCourt'] + df['ShoppingMall'] + df['Spa'] + df['VRDeck']\n",
    "    return df"
   ]
  },
  {
   "cell_type": "code",
   "execution_count": 22,
   "id": "fffc5bbc",
   "metadata": {
    "execution": {
     "iopub.execute_input": "2022-02-27T05:16:02.165663Z",
     "iopub.status.busy": "2022-02-27T05:16:02.164946Z",
     "iopub.status.idle": "2022-02-27T05:16:02.167671Z",
     "shell.execute_reply": "2022-02-27T05:16:02.168389Z",
     "shell.execute_reply.started": "2022-02-27T05:12:06.983322Z"
    },
    "papermill": {
     "duration": 0.084908,
     "end_time": "2022-02-27T05:16:02.168615",
     "exception": false,
     "start_time": "2022-02-27T05:16:02.083707",
     "status": "completed"
    },
    "tags": []
   },
   "outputs": [
    {
     "name": "stdout",
     "output_type": "stream",
     "text": [
      "CPU times: user 2.95 ms, sys: 0 ns, total: 2.95 ms\n",
      "Wall time: 2.93 ms\n"
     ]
    }
   ],
   "source": [
    "%%time\n",
    "trn_data = total_billed(trn_data)\n",
    "tst_data = total_billed(tst_data)"
   ]
  },
  {
   "cell_type": "code",
   "execution_count": 23,
   "id": "a8e5ce4f",
   "metadata": {
    "execution": {
     "iopub.execute_input": "2022-02-27T05:16:02.324161Z",
     "iopub.status.busy": "2022-02-27T05:16:02.323494Z",
     "iopub.status.idle": "2022-02-27T05:16:02.326235Z",
     "shell.execute_reply": "2022-02-27T05:16:02.325596Z",
     "shell.execute_reply.started": "2022-02-27T05:12:06.999245Z"
    },
    "papermill": {
     "duration": 0.08231,
     "end_time": "2022-02-27T05:16:02.326382",
     "exception": false,
     "start_time": "2022-02-27T05:16:02.244072",
     "status": "completed"
    },
    "tags": []
   },
   "outputs": [],
   "source": [
    "def name_ext(df):\n",
    "    '''\n",
    "    '''\n",
    "    df['FirstName'] = df['Name'].str.split(' ', expand=True)[0]\n",
    "    df['FamilyName'] = df['Name'].str.split(' ', expand=True)[1]\n",
    "    df.drop(columns = ['Name'], inplace = True)\n",
    "    return df"
   ]
  },
  {
   "cell_type": "code",
   "execution_count": 24,
   "id": "7122da8b",
   "metadata": {
    "execution": {
     "iopub.execute_input": "2022-02-27T05:16:02.477564Z",
     "iopub.status.busy": "2022-02-27T05:16:02.476826Z",
     "iopub.status.idle": "2022-02-27T05:16:02.640315Z",
     "shell.execute_reply": "2022-02-27T05:16:02.640854Z",
     "shell.execute_reply.started": "2022-02-27T05:12:07.008570Z"
    },
    "papermill": {
     "duration": 0.240991,
     "end_time": "2022-02-27T05:16:02.641038",
     "exception": false,
     "start_time": "2022-02-27T05:16:02.400047",
     "status": "completed"
    },
    "tags": []
   },
   "outputs": [
    {
     "name": "stdout",
     "output_type": "stream",
     "text": [
      "CPU times: user 152 ms, sys: 3.94 ms, total: 156 ms\n",
      "Wall time: 156 ms\n"
     ]
    }
   ],
   "source": [
    "%%time\n",
    "trn_data = name_ext(trn_data)\n",
    "tst_data = name_ext(tst_data)"
   ]
  },
  {
   "cell_type": "code",
   "execution_count": 25,
   "id": "4e59da17",
   "metadata": {
    "execution": {
     "iopub.execute_input": "2022-02-27T05:16:02.797322Z",
     "iopub.status.busy": "2022-02-27T05:16:02.796651Z",
     "iopub.status.idle": "2022-02-27T05:16:02.802123Z",
     "shell.execute_reply": "2022-02-27T05:16:02.802753Z",
     "shell.execute_reply.started": "2022-02-27T05:12:07.075826Z"
    },
    "papermill": {
     "duration": 0.08705,
     "end_time": "2022-02-27T05:16:02.802929",
     "exception": false,
     "start_time": "2022-02-27T05:16:02.715879",
     "status": "completed"
    },
    "tags": []
   },
   "outputs": [],
   "source": [
    "def cabin_separation(df):\n",
    "    '''\n",
    "    '''\n",
    "    df['CabinDeck'] = df['Cabin'].str.split('/', expand=True)[0]\n",
    "    df['CabinNum'] = df['Cabin'].str.split('/', expand=True)[1]\n",
    "    df['CabinSide'] = df['Cabin'].str.split('/', expand=True)[2]\n",
    "    df.drop(columns = ['Cabin'], inplace = True)\n",
    "    return df"
   ]
  },
  {
   "cell_type": "code",
   "execution_count": 26,
   "id": "a2d1be7b",
   "metadata": {
    "execution": {
     "iopub.execute_input": "2022-02-27T05:16:02.957001Z",
     "iopub.status.busy": "2022-02-27T05:16:02.956108Z",
     "iopub.status.idle": "2022-02-27T05:16:03.037186Z",
     "shell.execute_reply": "2022-02-27T05:16:03.036524Z",
     "shell.execute_reply.started": "2022-02-27T05:12:07.083624Z"
    },
    "papermill": {
     "duration": 0.158637,
     "end_time": "2022-02-27T05:16:03.037341",
     "exception": false,
     "start_time": "2022-02-27T05:16:02.878704",
     "status": "completed"
    },
    "tags": []
   },
   "outputs": [
    {
     "name": "stdout",
     "output_type": "stream",
     "text": [
      "CPU times: user 73.3 ms, sys: 932 µs, total: 74.2 ms\n",
      "Wall time: 74.4 ms\n"
     ]
    }
   ],
   "source": [
    "%%time\n",
    "trn_data = cabin_separation(trn_data)\n",
    "tst_data = cabin_separation(tst_data)"
   ]
  },
  {
   "cell_type": "code",
   "execution_count": 27,
   "id": "9ad44f49",
   "metadata": {
    "execution": {
     "iopub.execute_input": "2022-02-27T05:16:03.194202Z",
     "iopub.status.busy": "2022-02-27T05:16:03.193163Z",
     "iopub.status.idle": "2022-02-27T05:16:03.197384Z",
     "shell.execute_reply": "2022-02-27T05:16:03.197881Z",
     "shell.execute_reply.started": "2022-02-27T05:12:07.424967Z"
    },
    "papermill": {
     "duration": 0.084888,
     "end_time": "2022-02-27T05:16:03.198067",
     "exception": false,
     "start_time": "2022-02-27T05:16:03.113179",
     "status": "completed"
    },
    "tags": []
   },
   "outputs": [],
   "source": [
    "def route(df):\n",
    "    '''\n",
    "    \n",
    "    '''\n",
    "    df['Route'] = df['HomePlanet'] + df['Destination']\n",
    "    return df"
   ]
  },
  {
   "cell_type": "code",
   "execution_count": 28,
   "id": "7d6d63cd",
   "metadata": {
    "execution": {
     "iopub.execute_input": "2022-02-27T05:16:03.354314Z",
     "iopub.status.busy": "2022-02-27T05:16:03.353270Z",
     "iopub.status.idle": "2022-02-27T05:16:03.363804Z",
     "shell.execute_reply": "2022-02-27T05:16:03.362938Z",
     "shell.execute_reply.started": "2022-02-27T05:12:07.430241Z"
    },
    "papermill": {
     "duration": 0.089181,
     "end_time": "2022-02-27T05:16:03.363994",
     "exception": false,
     "start_time": "2022-02-27T05:16:03.274813",
     "status": "completed"
    },
    "tags": []
   },
   "outputs": [
    {
     "name": "stdout",
     "output_type": "stream",
     "text": [
      "CPU times: user 3.25 ms, sys: 0 ns, total: 3.25 ms\n",
      "Wall time: 3.27 ms\n"
     ]
    }
   ],
   "source": [
    "%%time\n",
    "trn_data = route(trn_data)\n",
    "tst_data = route(tst_data)"
   ]
  },
  {
   "cell_type": "markdown",
   "id": "82d13528",
   "metadata": {
    "papermill": {
     "duration": 0.075305,
     "end_time": "2022-02-27T05:16:03.514666",
     "exception": false,
     "start_time": "2022-02-27T05:16:03.439361",
     "status": "completed"
    },
    "tags": []
   },
   "source": [
    "# Pre-Processing for Training"
   ]
  },
  {
   "cell_type": "code",
   "execution_count": 29,
   "id": "856b9a1b",
   "metadata": {
    "execution": {
     "iopub.execute_input": "2022-02-27T05:16:03.672125Z",
     "iopub.status.busy": "2022-02-27T05:16:03.671427Z",
     "iopub.status.idle": "2022-02-27T05:16:03.674176Z",
     "shell.execute_reply": "2022-02-27T05:16:03.674658Z",
     "shell.execute_reply.started": "2022-02-27T05:12:07.445195Z"
    },
    "papermill": {
     "duration": 0.084905,
     "end_time": "2022-02-27T05:16:03.674840",
     "exception": false,
     "start_time": "2022-02-27T05:16:03.589935",
     "status": "completed"
    },
    "tags": []
   },
   "outputs": [
    {
     "name": "stdout",
     "output_type": "stream",
     "text": [
      "CPU times: user 5 µs, sys: 0 ns, total: 5 µs\n",
      "Wall time: 7.87 µs\n"
     ]
    }
   ],
   "source": [
    "%%time\n",
    "numerical_features = ['Age', 'RoomService', 'FoodCourt', 'ShoppingMall', 'Spa', 'VRDeck', 'total_billed']\n",
    "\n",
    "categorical_features = [\n",
    "                        #'PassengerId',\n",
    "                        'HomePlanet',\n",
    "                        'CryoSleep',\n",
    "                        'CabinDeck',\n",
    "                        'CabinNum',\n",
    "                        'CabinSide',\n",
    "                        'Destination',\n",
    "                        'VIP',\n",
    "                        'FirstName',\n",
    "                        'FamilyName',\n",
    "                        'Route',\n",
    "                        ]\n",
    "\n",
    "target_feature = 'Transported'"
   ]
  },
  {
   "cell_type": "code",
   "execution_count": 30,
   "id": "c9e1385d",
   "metadata": {
    "execution": {
     "iopub.execute_input": "2022-02-27T05:16:03.832956Z",
     "iopub.status.busy": "2022-02-27T05:16:03.832234Z",
     "iopub.status.idle": "2022-02-27T05:16:04.762822Z",
     "shell.execute_reply": "2022-02-27T05:16:04.763653Z",
     "shell.execute_reply.started": "2022-02-27T05:12:07.456716Z"
    },
    "papermill": {
     "duration": 1.013971,
     "end_time": "2022-02-27T05:16:04.763933",
     "exception": false,
     "start_time": "2022-02-27T05:16:03.749962",
     "status": "completed"
    },
    "tags": []
   },
   "outputs": [
    {
     "name": "stdout",
     "output_type": "stream",
     "text": [
      "CPU times: user 489 ms, sys: 327 ms, total: 816 ms\n",
      "Wall time: 925 ms\n"
     ]
    }
   ],
   "source": [
    "%%time\n",
    "from sklearn.preprocessing import LabelEncoder \n",
    "\n",
    "def encode_categorical(train_df, test_df, categ_feat = categorical_features):\n",
    "    '''\n",
    "    \n",
    "    '''\n",
    "    encoder_dict = {}\n",
    "    \n",
    "    concat_data = pd.concat([trn_data[categ_feat], tst_data[categ_feat]])\n",
    "    \n",
    "    for col in concat_data.columns:\n",
    "        print('Processing: ', col)\n",
    "        encoder = LabelEncoder()\n",
    "        encoder.fit(concat_data[col])\n",
    "        encoder_dict[col] = encoder\n",
    "\n",
    "        train_df[col + '_Enc'] = encoder.transform(train_df[col])\n",
    "        test_df[col + '_Enc'] = encoder.transform(test_df[col])\n",
    "    \n",
    "    train_df = train_df.drop(columns = categ_feat, axis = 1)\n",
    "    test_df = test_df.drop(columns = categ_feat, axis = 1)\n",
    "\n",
    "    return train_df, test_df"
   ]
  },
  {
   "cell_type": "code",
   "execution_count": 31,
   "id": "59ef23fc",
   "metadata": {
    "execution": {
     "iopub.execute_input": "2022-02-27T05:16:04.927853Z",
     "iopub.status.busy": "2022-02-27T05:16:04.926967Z",
     "iopub.status.idle": "2022-02-27T05:16:05.013814Z",
     "shell.execute_reply": "2022-02-27T05:16:05.013245Z",
     "shell.execute_reply.started": "2022-02-27T05:12:07.467905Z"
    },
    "papermill": {
     "duration": 0.173937,
     "end_time": "2022-02-27T05:16:05.013954",
     "exception": false,
     "start_time": "2022-02-27T05:16:04.840017",
     "status": "completed"
    },
    "tags": []
   },
   "outputs": [
    {
     "name": "stdout",
     "output_type": "stream",
     "text": [
      "Processing:  HomePlanet\n",
      "Processing:  CryoSleep\n",
      "Processing:  CabinDeck\n",
      "Processing:  CabinNum\n",
      "Processing:  CabinSide\n",
      "Processing:  Destination\n",
      "Processing:  VIP\n",
      "Processing:  FirstName\n",
      "Processing:  FamilyName\n",
      "Processing:  Route\n",
      "CPU times: user 81.4 ms, sys: 8.38 ms, total: 89.8 ms\n",
      "Wall time: 85.5 ms\n"
     ]
    }
   ],
   "source": [
    "%%time\n",
    "trn_data, tst_data = encode_categorical(trn_data, tst_data, categorical_features)"
   ]
  },
  {
   "cell_type": "markdown",
   "id": "aa5ce7e0",
   "metadata": {
    "papermill": {
     "duration": 0.078253,
     "end_time": "2022-02-27T05:16:05.168768",
     "exception": false,
     "start_time": "2022-02-27T05:16:05.090515",
     "status": "completed"
    },
    "tags": []
   },
   "source": [
    "# Simple CV Sttrategy 80/20 Split"
   ]
  },
  {
   "cell_type": "code",
   "execution_count": 32,
   "id": "690ecf47",
   "metadata": {
    "execution": {
     "iopub.execute_input": "2022-02-27T05:16:05.327480Z",
     "iopub.status.busy": "2022-02-27T05:16:05.326779Z",
     "iopub.status.idle": "2022-02-27T05:16:05.332625Z",
     "shell.execute_reply": "2022-02-27T05:16:05.331989Z",
     "shell.execute_reply.started": "2022-02-27T05:12:07.552801Z"
    },
    "papermill": {
     "duration": 0.087424,
     "end_time": "2022-02-27T05:16:05.332787",
     "exception": false,
     "start_time": "2022-02-27T05:16:05.245363",
     "status": "completed"
    },
    "tags": []
   },
   "outputs": [
    {
     "data": {
      "text/plain": [
       "Index(['PassengerId', 'Age', 'RoomService', 'FoodCourt', 'ShoppingMall', 'Spa',\n",
       "       'VRDeck', 'Transported', 'Total_Billed', 'HomePlanet_Enc',\n",
       "       'CryoSleep_Enc', 'CabinDeck_Enc', 'CabinNum_Enc', 'CabinSide_Enc',\n",
       "       'Destination_Enc', 'VIP_Enc', 'FirstName_Enc', 'FamilyName_Enc',\n",
       "       'Route_Enc'],\n",
       "      dtype='object')"
      ]
     },
     "execution_count": 32,
     "metadata": {},
     "output_type": "execute_result"
    }
   ],
   "source": [
    "trn_data.columns"
   ]
  },
  {
   "cell_type": "code",
   "execution_count": 33,
   "id": "3f37f743",
   "metadata": {
    "execution": {
     "iopub.execute_input": "2022-02-27T05:16:05.490454Z",
     "iopub.status.busy": "2022-02-27T05:16:05.489778Z",
     "iopub.status.idle": "2022-02-27T05:16:05.494747Z",
     "shell.execute_reply": "2022-02-27T05:16:05.495278Z",
     "shell.execute_reply.started": "2022-02-27T05:12:07.561665Z"
    },
    "papermill": {
     "duration": 0.0859,
     "end_time": "2022-02-27T05:16:05.495462",
     "exception": false,
     "start_time": "2022-02-27T05:16:05.409562",
     "status": "completed"
    },
    "tags": []
   },
   "outputs": [],
   "source": [
    "features = ['Age',\n",
    "            'RoomService',\n",
    "            'FoodCourt',\n",
    "            'ShoppingMall',\n",
    "            'Spa',\n",
    "            'VRDeck',\n",
    "            'FamilyName_Enc',\n",
    "            'FirstName_Enc',\n",
    "            'VIP_Enc',\n",
    "            'Total_Billed',\n",
    "            'HomePlanet_Enc',\n",
    "            'CryoSleep_Enc',\n",
    "            'CabinNum_Enc',\n",
    "            'CabinSide_Enc',\n",
    "            'CabinDeck_Enc',\n",
    "            'Destination_Enc',\n",
    "            'Route_Enc']"
   ]
  },
  {
   "cell_type": "code",
   "execution_count": 34,
   "id": "74b09465",
   "metadata": {
    "execution": {
     "iopub.execute_input": "2022-02-27T05:16:05.674924Z",
     "iopub.status.busy": "2022-02-27T05:16:05.674166Z",
     "iopub.status.idle": "2022-02-27T05:16:05.730011Z",
     "shell.execute_reply": "2022-02-27T05:16:05.730582Z",
     "shell.execute_reply.started": "2022-02-27T05:12:07.570351Z"
    },
    "papermill": {
     "duration": 0.15709,
     "end_time": "2022-02-27T05:16:05.730775",
     "exception": false,
     "start_time": "2022-02-27T05:16:05.573685",
     "status": "completed"
    },
    "tags": []
   },
   "outputs": [],
   "source": [
    "from sklearn.model_selection import train_test_split\n",
    "X_train, X_val, y_train, y_val = train_test_split(trn_data[features], trn_data[target_feature], test_size = 0.15, random_state = 42)"
   ]
  },
  {
   "cell_type": "markdown",
   "id": "6c9fae0b",
   "metadata": {
    "papermill": {
     "duration": 0.07753,
     "end_time": "2022-02-27T05:16:05.886863",
     "exception": false,
     "start_time": "2022-02-27T05:16:05.809333",
     "status": "completed"
    },
    "tags": []
   },
   "source": [
    "fit(X, y, *, sample_weight=None, base_margin=None, eval_set=None, eval_metric=None, early_stopping_rounds=None, verbose=True, xgb_model=None, sample_weight_eval_set=None, base_margin_eval_set=None, feature_weights=None, callbacks=None)"
   ]
  },
  {
   "cell_type": "code",
   "execution_count": 35,
   "id": "3ece1386",
   "metadata": {
    "execution": {
     "iopub.execute_input": "2022-02-27T05:16:06.049574Z",
     "iopub.status.busy": "2022-02-27T05:16:06.048896Z",
     "iopub.status.idle": "2022-02-27T05:16:07.071332Z",
     "shell.execute_reply": "2022-02-27T05:16:07.071873Z",
     "shell.execute_reply.started": "2022-02-27T05:12:07.583755Z"
    },
    "papermill": {
     "duration": 1.105476,
     "end_time": "2022-02-27T05:16:07.072065",
     "exception": false,
     "start_time": "2022-02-27T05:16:05.966589",
     "status": "completed"
    },
    "tags": []
   },
   "outputs": [
    {
     "name": "stdout",
     "output_type": "stream",
     "text": [
      "[0]\tvalidation_0-logloss:0.58481\n",
      "[10]\tvalidation_0-logloss:0.41797\n",
      "[20]\tvalidation_0-logloss:0.41558\n",
      "[30]\tvalidation_0-logloss:0.41448\n",
      "[40]\tvalidation_0-logloss:0.41666\n",
      "[50]\tvalidation_0-logloss:0.41778\n",
      "[60]\tvalidation_0-logloss:0.42037\n",
      "[70]\tvalidation_0-logloss:0.42197\n",
      "[79]\tvalidation_0-logloss:0.42442\n"
     ]
    },
    {
     "data": {
      "text/plain": [
       "XGBClassifier(base_score=0.5, booster='gbtree', colsample_bylevel=1,\n",
       "              colsample_bynode=1, colsample_bytree=1, enable_categorical=False,\n",
       "              gamma=0, gpu_id=-1, importance_type=None,\n",
       "              interaction_constraints='', learning_rate=0.300000012,\n",
       "              max_delta_step=0, max_depth=6, min_child_weight=1, missing=nan,\n",
       "              monotone_constraints='()', n_estimators=100, n_jobs=4,\n",
       "              num_parallel_tree=1, predictor='auto', random_state=0,\n",
       "              reg_alpha=0, reg_lambda=1, scale_pos_weight=1, subsample=1,\n",
       "              tree_method='exact', validate_parameters=1, verbosity=None)"
      ]
     },
     "execution_count": 35,
     "metadata": {},
     "output_type": "execute_result"
    }
   ],
   "source": [
    "from xgboost import XGBClassifier\n",
    "# cls = XGBClassifier(\n",
    "#                     learning_rate = 0.1,\n",
    "#                     n_estimators = 2048,\n",
    "#                     n_jobs = -1)\n",
    "\n",
    "cls = XGBClassifier()\n",
    "cls.fit(X_train, y_train, eval_set = [(X_val, y_val)], eval_metric=['logloss'], early_stopping_rounds = 50, verbose = 10)"
   ]
  },
  {
   "cell_type": "code",
   "execution_count": 36,
   "id": "6af3761c",
   "metadata": {
    "execution": {
     "iopub.execute_input": "2022-02-27T05:16:07.238927Z",
     "iopub.status.busy": "2022-02-27T05:16:07.238281Z",
     "iopub.status.idle": "2022-02-27T05:16:07.243968Z",
     "shell.execute_reply": "2022-02-27T05:16:07.244591Z",
     "shell.execute_reply.started": "2022-02-27T05:12:08.409730Z"
    },
    "papermill": {
     "duration": 0.090433,
     "end_time": "2022-02-27T05:16:07.244767",
     "exception": false,
     "start_time": "2022-02-27T05:16:07.154334",
     "status": "completed"
    },
    "tags": []
   },
   "outputs": [],
   "source": [
    "import matplotlib.pyplot as plt\n",
    "\n",
    "def feature_importance(clf):\n",
    "    importances = clf.feature_importances_\n",
    "    i = np.argsort(importances)\n",
    "    features = X_train.columns\n",
    "    plt.title('Feature Importance')\n",
    "    plt.barh(range(len(i)), importances[i], align='center')\n",
    "    plt.yticks(range(len(i)), [features[x] for x in i])\n",
    "    plt.xlabel('Scale')\n",
    "    plt.show()"
   ]
  },
  {
   "cell_type": "code",
   "execution_count": 37,
   "id": "196f8d7a",
   "metadata": {
    "execution": {
     "iopub.execute_input": "2022-02-27T05:16:07.413669Z",
     "iopub.status.busy": "2022-02-27T05:16:07.412991Z",
     "iopub.status.idle": "2022-02-27T05:16:07.653842Z",
     "shell.execute_reply": "2022-02-27T05:16:07.654641Z",
     "shell.execute_reply.started": "2022-02-27T05:12:08.417822Z"
    },
    "papermill": {
     "duration": 0.326465,
     "end_time": "2022-02-27T05:16:07.654827",
     "exception": false,
     "start_time": "2022-02-27T05:16:07.328362",
     "status": "completed"
    },
    "tags": []
   },
   "outputs": [
    {
     "data": {
      "image/png": "[encoded data removed]",
      "text/plain": [
       "<Figure size 432x288 with 1 Axes>"
      ]
     },
     "metadata": {
      "needs_background": "light"
     },
     "output_type": "display_data"
    }
   ],
   "source": [
    "feature_importance(cls)"
   ]
  },
  {
   "cell_type": "code",
   "execution_count": 38,
   "id": "462714ec",
   "metadata": {
    "execution": {
     "iopub.execute_input": "2022-02-27T05:16:07.839796Z",
     "iopub.status.busy": "2022-02-27T05:16:07.838757Z",
     "iopub.status.idle": "2022-02-27T05:16:07.861002Z",
     "shell.execute_reply": "2022-02-27T05:16:07.862015Z",
     "shell.execute_reply.started": "2022-02-27T05:12:08.628541Z"
    },
    "papermill": {
     "duration": 0.112286,
     "end_time": "2022-02-27T05:16:07.862250",
     "exception": false,
     "start_time": "2022-02-27T05:16:07.749964",
     "status": "completed"
    },
    "tags": []
   },
   "outputs": [],
   "source": [
    "from sklearn.metrics import accuracy_score\n",
    "val_preds = cls.predict(X_val[features])\n",
    "accuracy = accuracy_score(val_preds, y_val)"
   ]
  },
  {
   "cell_type": "code",
   "execution_count": 39,
   "id": "7f4948f1",
   "metadata": {
    "execution": {
     "iopub.execute_input": "2022-02-27T05:16:08.034073Z",
     "iopub.status.busy": "2022-02-27T05:16:08.033124Z",
     "iopub.status.idle": "2022-02-27T05:16:08.037495Z",
     "shell.execute_reply": "2022-02-27T05:16:08.036723Z",
     "shell.execute_reply.started": "2022-02-27T05:12:08.642227Z"
    },
    "papermill": {
     "duration": 0.093178,
     "end_time": "2022-02-27T05:16:08.037680",
     "exception": false,
     "start_time": "2022-02-27T05:16:07.944502",
     "status": "completed"
    },
    "tags": []
   },
   "outputs": [
    {
     "data": {
      "text/plain": [
       "0.8006134969325154"
      ]
     },
     "execution_count": 39,
     "metadata": {},
     "output_type": "execute_result"
    }
   ],
   "source": [
    "accuracy"
   ]
  },
  {
   "cell_type": "code",
   "execution_count": 40,
   "id": "aa7fa3a7",
   "metadata": {
    "execution": {
     "iopub.execute_input": "2022-02-27T05:16:08.212709Z",
     "iopub.status.busy": "2022-02-27T05:16:08.211966Z",
     "iopub.status.idle": "2022-02-27T05:16:08.213696Z",
     "shell.execute_reply": "2022-02-27T05:16:08.214220Z",
     "shell.execute_reply.started": "2022-02-27T05:12:08.656667Z"
    },
    "papermill": {
     "duration": 0.090042,
     "end_time": "2022-02-27T05:16:08.214389",
     "exception": false,
     "start_time": "2022-02-27T05:16:08.124347",
     "status": "completed"
    },
    "tags": []
   },
   "outputs": [],
   "source": [
    "# 0.7875766871165644\n",
    "# 0.7883435582822086\n",
    "# 0.7944785276073619\n",
    "# 0.7998466257668712\n",
    "# 0.8006134969325154"
   ]
  },
  {
   "cell_type": "code",
   "execution_count": 41,
   "id": "5787bc96",
   "metadata": {
    "execution": {
     "iopub.execute_input": "2022-02-27T05:16:08.382663Z",
     "iopub.status.busy": "2022-02-27T05:16:08.381927Z",
     "iopub.status.idle": "2022-02-27T05:16:08.386240Z",
     "shell.execute_reply": "2022-02-27T05:16:08.386732Z",
     "shell.execute_reply.started": "2022-02-27T05:12:08.661996Z"
    },
    "papermill": {
     "duration": 0.0895,
     "end_time": "2022-02-27T05:16:08.386899",
     "exception": false,
     "start_time": "2022-02-27T05:16:08.297399",
     "status": "completed"
    },
    "tags": []
   },
   "outputs": [
    {
     "data": {
      "text/plain": [
       "(4277, 18)"
      ]
     },
     "execution_count": 41,
     "metadata": {},
     "output_type": "execute_result"
    }
   ],
   "source": [
    "tst_data.shape"
   ]
  },
  {
   "cell_type": "code",
   "execution_count": 42,
   "id": "24eac199",
   "metadata": {
    "execution": {
     "iopub.execute_input": "2022-02-27T05:16:08.555521Z",
     "iopub.status.busy": "2022-02-27T05:16:08.554833Z",
     "iopub.status.idle": "2022-02-27T05:16:08.558766Z",
     "shell.execute_reply": "2022-02-27T05:16:08.559291Z",
     "shell.execute_reply.started": "2022-02-27T05:12:08.672879Z"
    },
    "papermill": {
     "duration": 0.089907,
     "end_time": "2022-02-27T05:16:08.559469",
     "exception": false,
     "start_time": "2022-02-27T05:16:08.469562",
     "status": "completed"
    },
    "tags": []
   },
   "outputs": [
    {
     "data": {
      "text/plain": [
       "1304"
      ]
     },
     "execution_count": 42,
     "metadata": {},
     "output_type": "execute_result"
    }
   ],
   "source": [
    "len(val_preds)"
   ]
  },
  {
   "cell_type": "code",
   "execution_count": 43,
   "id": "486abfae",
   "metadata": {
    "execution": {
     "iopub.execute_input": "2022-02-27T05:16:08.740397Z",
     "iopub.status.busy": "2022-02-27T05:16:08.739658Z",
     "iopub.status.idle": "2022-02-27T05:16:08.742529Z",
     "shell.execute_reply": "2022-02-27T05:16:08.743015Z",
     "shell.execute_reply.started": "2022-02-27T05:12:08.682587Z"
    },
    "papermill": {
     "duration": 0.098098,
     "end_time": "2022-02-27T05:16:08.743206",
     "exception": false,
     "start_time": "2022-02-27T05:16:08.645108",
     "status": "completed"
    },
    "tags": []
   },
   "outputs": [
    {
     "data": {
      "text/plain": [
       "(4277, 2)"
      ]
     },
     "execution_count": 43,
     "metadata": {},
     "output_type": "execute_result"
    }
   ],
   "source": [
    "sub.shape"
   ]
  },
  {
   "cell_type": "code",
   "execution_count": 44,
   "id": "4652c9da",
   "metadata": {
    "execution": {
     "iopub.execute_input": "2022-02-27T05:16:08.919508Z",
     "iopub.status.busy": "2022-02-27T05:16:08.918754Z",
     "iopub.status.idle": "2022-02-27T05:16:08.940093Z",
     "shell.execute_reply": "2022-02-27T05:16:08.942254Z",
     "shell.execute_reply.started": "2022-02-27T05:12:08.691221Z"
    },
    "papermill": {
     "duration": 0.114619,
     "end_time": "2022-02-27T05:16:08.942528",
     "exception": false,
     "start_time": "2022-02-27T05:16:08.827909",
     "status": "completed"
    },
    "tags": []
   },
   "outputs": [],
   "source": [
    "preds = cls.predict(tst_data[features])"
   ]
  },
  {
   "cell_type": "code",
   "execution_count": 45,
   "id": "dbba0cc2",
   "metadata": {
    "execution": {
     "iopub.execute_input": "2022-02-27T05:16:09.115403Z",
     "iopub.status.busy": "2022-02-27T05:16:09.114330Z",
     "iopub.status.idle": "2022-02-27T05:16:09.126866Z",
     "shell.execute_reply": "2022-02-27T05:16:09.127453Z",
     "shell.execute_reply.started": "2022-02-27T05:12:08.708682Z"
    },
    "papermill": {
     "duration": 0.100632,
     "end_time": "2022-02-27T05:16:09.127633",
     "exception": false,
     "start_time": "2022-02-27T05:16:09.027001",
     "status": "completed"
    },
    "tags": []
   },
   "outputs": [
    {
     "data": {
      "text/html": [
       "<div>\n",
       "<style scoped>\n",
       "    .dataframe tbody tr th:only-of-type {\n",
       "        vertical-align: middle;\n",
       "    }\n",
       "\n",
       "    .dataframe tbody tr th {\n",
       "        vertical-align: top;\n",
       "    }\n",
       "\n",
       "    .dataframe thead th {\n",
       "        text-align: right;\n",
       "    }\n",
       "</style>\n",
       "<table border=\"1\" class=\"dataframe\">\n",
       "  <thead>\n",
       "    <tr style=\"text-align: right;\">\n",
       "      <th></th>\n",
       "      <th>PassengerId</th>\n",
       "      <th>Transported</th>\n",
       "    </tr>\n",
       "  </thead>\n",
       "  <tbody>\n",
       "    <tr>\n",
       "      <th>0</th>\n",
       "      <td>0013_01</td>\n",
       "      <td>False</td>\n",
       "    </tr>\n",
       "    <tr>\n",
       "      <th>1</th>\n",
       "      <td>0018_01</td>\n",
       "      <td>False</td>\n",
       "    </tr>\n",
       "    <tr>\n",
       "      <th>2</th>\n",
       "      <td>0019_01</td>\n",
       "      <td>True</td>\n",
       "    </tr>\n",
       "    <tr>\n",
       "      <th>3</th>\n",
       "      <td>0021_01</td>\n",
       "      <td>True</td>\n",
       "    </tr>\n",
       "    <tr>\n",
       "      <th>4</th>\n",
       "      <td>0023_01</td>\n",
       "      <td>True</td>\n",
       "    </tr>\n",
       "    <tr>\n",
       "      <th>...</th>\n",
       "      <td>...</td>\n",
       "      <td>...</td>\n",
       "    </tr>\n",
       "    <tr>\n",
       "      <th>4272</th>\n",
       "      <td>9266_02</td>\n",
       "      <td>True</td>\n",
       "    </tr>\n",
       "    <tr>\n",
       "      <th>4273</th>\n",
       "      <td>9269_01</td>\n",
       "      <td>False</td>\n",
       "    </tr>\n",
       "    <tr>\n",
       "      <th>4274</th>\n",
       "      <td>9271_01</td>\n",
       "      <td>True</td>\n",
       "    </tr>\n",
       "    <tr>\n",
       "      <th>4275</th>\n",
       "      <td>9273_01</td>\n",
       "      <td>True</td>\n",
       "    </tr>\n",
       "    <tr>\n",
       "      <th>4276</th>\n",
       "      <td>9277_01</td>\n",
       "      <td>True</td>\n",
       "    </tr>\n",
       "  </tbody>\n",
       "</table>\n",
       "<p>4277 rows × 2 columns</p>\n",
       "</div>"
      ],
      "text/plain": [
       "     PassengerId  Transported\n",
       "0        0013_01        False\n",
       "1        0018_01        False\n",
       "2        0019_01         True\n",
       "3        0021_01         True\n",
       "4        0023_01         True\n",
       "...          ...          ...\n",
       "4272     9266_02         True\n",
       "4273     9269_01        False\n",
       "4274     9271_01         True\n",
       "4275     9273_01         True\n",
       "4276     9277_01         True\n",
       "\n",
       "[4277 rows x 2 columns]"
      ]
     },
     "execution_count": 45,
     "metadata": {},
     "output_type": "execute_result"
    }
   ],
   "source": [
    "sub['Transported'] = preds\n",
    "sub"
   ]
  },
  {
   "cell_type": "code",
   "execution_count": 46,
   "id": "61e17e47",
   "metadata": {
    "execution": {
     "iopub.execute_input": "2022-02-27T05:16:09.308799Z",
     "iopub.status.busy": "2022-02-27T05:16:09.307729Z",
     "iopub.status.idle": "2022-02-27T05:16:09.324392Z",
     "shell.execute_reply": "2022-02-27T05:16:09.323758Z",
     "shell.execute_reply.started": "2022-02-27T05:12:08.723867Z"
    },
    "papermill": {
     "duration": 0.106249,
     "end_time": "2022-02-27T05:16:09.324548",
     "exception": false,
     "start_time": "2022-02-27T05:16:09.218299",
     "status": "completed"
    },
    "tags": []
   },
   "outputs": [],
   "source": [
    "sub.to_csv('submission.csv', index=False)"
   ]
  },
  {
   "cell_type": "code",
   "execution_count": 47,
   "id": "ef62f7b5",
   "metadata": {
    "execution": {
     "iopub.execute_input": "2022-02-27T05:16:09.501178Z",
     "iopub.status.busy": "2022-02-27T05:16:09.500296Z",
     "iopub.status.idle": "2022-02-27T05:16:09.503631Z",
     "shell.execute_reply": "2022-02-27T05:16:09.504194Z",
     "shell.execute_reply.started": "2022-02-27T05:12:08.738137Z"
    },
    "papermill": {
     "duration": 0.095074,
     "end_time": "2022-02-27T05:16:09.504380",
     "exception": false,
     "start_time": "2022-02-27T05:16:09.409306",
     "status": "completed"
    },
    "tags": []
   },
   "outputs": [
    {
     "name": "stdout",
     "output_type": "stream",
     "text": [
      "CPU times: user 11 µs, sys: 1 µs, total: 12 µs\n",
      "Wall time: 16.2 µs\n"
     ]
    }
   ],
   "source": [
    "%%time\n",
    "from sklearn.preprocessing import MinMaxScaler"
   ]
  },
  {
   "cell_type": "code",
   "execution_count": 48,
   "id": "4ec37d47",
   "metadata": {
    "execution": {
     "iopub.execute_input": "2022-02-27T05:16:09.687977Z",
     "iopub.status.busy": "2022-02-27T05:16:09.687100Z",
     "iopub.status.idle": "2022-02-27T05:16:10.613187Z",
     "shell.execute_reply": "2022-02-27T05:16:10.612531Z",
     "shell.execute_reply.started": "2022-02-27T05:12:08.744569Z"
    },
    "papermill": {
     "duration": 1.022468,
     "end_time": "2022-02-27T05:16:10.613342",
     "exception": false,
     "start_time": "2022-02-27T05:16:09.590874",
     "status": "completed"
    },
    "tags": []
   },
   "outputs": [
    {
     "name": "stdout",
     "output_type": "stream",
     "text": [
      "CPU times: user 504 ms, sys: 70.9 ms, total: 575 ms\n",
      "Wall time: 921 ms\n"
     ]
    }
   ],
   "source": [
    "%%time\n",
    "import optuna\n",
    "from sklearn.ensemble import ExtraTreesClassifier\n",
    "from sklearn.metrics import accuracy_score\n",
    "from sklearn.model_selection import StratifiedKFold\n",
    "from sklearn.model_selection import train_test_split"
   ]
  },
  {
   "cell_type": "code",
   "execution_count": 49,
   "id": "c9cb4db4",
   "metadata": {
    "execution": {
     "iopub.execute_input": "2022-02-27T05:16:10.790079Z",
     "iopub.status.busy": "2022-02-27T05:16:10.789204Z",
     "iopub.status.idle": "2022-02-27T05:16:10.792307Z",
     "shell.execute_reply": "2022-02-27T05:16:10.792832Z",
     "shell.execute_reply.started": "2022-02-27T05:12:08.754830Z"
    },
    "papermill": {
     "duration": 0.094589,
     "end_time": "2022-02-27T05:16:10.793012",
     "exception": false,
     "start_time": "2022-02-27T05:16:10.698423",
     "status": "completed"
    },
    "tags": []
   },
   "outputs": [
    {
     "name": "stdout",
     "output_type": "stream",
     "text": [
      "CPU times: user 40 µs, sys: 4 µs, total: 44 µs\n",
      "Wall time: 49.1 µs\n"
     ]
    }
   ],
   "source": [
    "%%time\n",
    "N_SPLITS = 5\n",
    "folds = StratifiedKFold(n_splits = N_SPLITS, shuffle = True)"
   ]
  },
  {
   "cell_type": "code",
   "execution_count": null,
   "id": "b12cc871",
   "metadata": {
    "papermill": {
     "duration": 0.088227,
     "end_time": "2022-02-27T05:16:10.969804",
     "exception": false,
     "start_time": "2022-02-27T05:16:10.881577",
     "status": "completed"
    },
    "tags": []
   },
   "outputs": [],
   "source": []
  },
  {
   "cell_type": "code",
   "execution_count": 50,
   "id": "89fb83e0",
   "metadata": {
    "execution": {
     "iopub.execute_input": "2022-02-27T05:16:11.152742Z",
     "iopub.status.busy": "2022-02-27T05:16:11.151982Z",
     "iopub.status.idle": "2022-02-27T05:16:16.249871Z",
     "shell.execute_reply": "2022-02-27T05:16:16.251061Z",
     "shell.execute_reply.started": "2022-02-27T05:12:08.767223Z"
    },
    "papermill": {
     "duration": 5.195106,
     "end_time": "2022-02-27T05:16:16.251480",
     "exception": false,
     "start_time": "2022-02-27T05:16:11.056374",
     "status": "completed"
    },
    "tags": []
   },
   "outputs": [
    {
     "name": "stdout",
     "output_type": "stream",
     "text": [
      "[05:16:11] WARNING: ../src/learner.cc:1115: Starting in XGBoost 1.3.0, the default evaluation metric used with the objective 'binary:logistic' was changed from 'error' to 'logloss'. Explicitly set eval_metric if you'd like to restore the old behavior.\n",
      "Fold: 0 Accuracy: 0.8090856814261069\n",
      "[05:16:12] WARNING: ../src/learner.cc:1115: Starting in XGBoost 1.3.0, the default evaluation metric used with the objective 'binary:logistic' was changed from 'error' to 'logloss'. Explicitly set eval_metric if you'd like to restore the old behavior.\n",
      "Fold: 1 Accuracy: 0.8016101207590569\n",
      "[05:16:13] WARNING: ../src/learner.cc:1115: Starting in XGBoost 1.3.0, the default evaluation metric used with the objective 'binary:logistic' was changed from 'error' to 'logloss'. Explicitly set eval_metric if you'd like to restore the old behavior.\n",
      "Fold: 2 Accuracy: 0.81196089706728\n",
      "[05:16:14] WARNING: ../src/learner.cc:1115: Starting in XGBoost 1.3.0, the default evaluation metric used with the objective 'binary:logistic' was changed from 'error' to 'logloss'. Explicitly set eval_metric if you'd like to restore the old behavior.\n",
      "Fold: 3 Accuracy: 0.807825086306099\n",
      "[05:16:15] WARNING: ../src/learner.cc:1115: Starting in XGBoost 1.3.0, the default evaluation metric used with the objective 'binary:logistic' was changed from 'error' to 'logloss'. Explicitly set eval_metric if you'd like to restore the old behavior.\n",
      "Fold: 4 Accuracy: 0.7951668584579977\n",
      "CPU times: user 19.7 s, sys: 54 ms, total: 19.8 s\n",
      "Wall time: 5.09 s\n"
     ]
    }
   ],
   "source": [
    "%%time\n",
    "\n",
    "n_estimators = 2373\n",
    "max_depth = 3691\n",
    "min_samples_split = 3\n",
    "min_samples_leaf = 1\n",
    "criterion = 'gini'\n",
    "\n",
    "scores  = []\n",
    "y_probs = []\n",
    "\n",
    "for fold, (trn_id, val_id) in enumerate(folds.split(trn_data[features], trn_data[target_feature])):  \n",
    "    X_train, y_train = trn_data[features].iloc[trn_id], trn_data[target_feature].iloc[trn_id]\n",
    "    X_valid, y_valid = trn_data[features].iloc[val_id], trn_data[target_feature].iloc[val_id]\n",
    "    \n",
    "    scaler = MinMaxScaler()\n",
    "    X_train = scaler.fit_transform(X_train)\n",
    "    X_valid = scaler.transform(X_valid)\n",
    "    \n",
    "    \n",
    "#     model = ExtraTreesClassifier(n_estimators = n_estimators,\n",
    "#                                  max_depth = max_depth,\n",
    "#                                  min_samples_split = min_samples_split,\n",
    "#                                  min_samples_leaf = min_samples_leaf,\n",
    "#                                  criterion = criterion,\n",
    "#                                  random_state = 69,\n",
    "#                                  n_jobs = -1)\n",
    "    \n",
    "    model = XGBClassifier()\n",
    "    \n",
    "    \n",
    "    model.fit(X_train, y_train)\n",
    "    \n",
    "    valid_pred = model.predict(X_valid)\n",
    "    valid_score = accuracy_score(y_valid, valid_pred)\n",
    "    \n",
    "    print(\"Fold:\", fold, \"Accuracy:\", valid_score)\n",
    "    scores.append(valid_score)\n",
    "    y_probs.append(model.predict_proba(tst_data[features]))"
   ]
  },
  {
   "cell_type": "code",
   "execution_count": 51,
   "id": "595e3c95",
   "metadata": {
    "execution": {
     "iopub.execute_input": "2022-02-27T05:16:16.437169Z",
     "iopub.status.busy": "2022-02-27T05:16:16.436440Z",
     "iopub.status.idle": "2022-02-27T05:16:16.440804Z",
     "shell.execute_reply": "2022-02-27T05:16:16.440310Z",
     "shell.execute_reply.started": "2022-02-27T05:12:13.474589Z"
    },
    "papermill": {
     "duration": 0.098031,
     "end_time": "2022-02-27T05:16:16.440948",
     "exception": false,
     "start_time": "2022-02-27T05:16:16.342917",
     "status": "completed"
    },
    "tags": []
   },
   "outputs": [
    {
     "name": "stdout",
     "output_type": "stream",
     "text": [
      "Mean accuracy score: 0.8051297288033081\n",
      "CPU times: user 832 µs, sys: 0 ns, total: 832 µs\n",
      "Wall time: 732 µs\n"
     ]
    }
   ],
   "source": [
    "%%time\n",
    "print(\"Mean accuracy score:\", np.array(scores).mean())"
   ]
  },
  {
   "cell_type": "code",
   "execution_count": 52,
   "id": "cc5f2503",
   "metadata": {
    "execution": {
     "iopub.execute_input": "2022-02-27T05:16:16.648660Z",
     "iopub.status.busy": "2022-02-27T05:16:16.647586Z",
     "iopub.status.idle": "2022-02-27T05:16:16.650043Z",
     "shell.execute_reply": "2022-02-27T05:16:16.650699Z",
     "shell.execute_reply.started": "2022-02-27T05:13:48.254738Z"
    },
    "papermill": {
     "duration": 0.11739,
     "end_time": "2022-02-27T05:16:16.650878",
     "exception": false,
     "start_time": "2022-02-27T05:16:16.533488",
     "status": "completed"
    },
    "tags": []
   },
   "outputs": [],
   "source": [
    "y_prob = sum(y_probs) / len(y_probs)"
   ]
  },
  {
   "cell_type": "code",
   "execution_count": 53,
   "id": "8c549cd5",
   "metadata": {
    "execution": {
     "iopub.execute_input": "2022-02-27T05:16:16.832240Z",
     "iopub.status.busy": "2022-02-27T05:16:16.831211Z",
     "iopub.status.idle": "2022-02-27T05:16:16.838263Z",
     "shell.execute_reply": "2022-02-27T05:16:16.837688Z",
     "shell.execute_reply.started": "2022-02-27T05:15:06.258073Z"
    },
    "papermill": {
     "duration": 0.09848,
     "end_time": "2022-02-27T05:16:16.838403",
     "exception": false,
     "start_time": "2022-02-27T05:16:16.739923",
     "status": "completed"
    },
    "tags": []
   },
   "outputs": [
    {
     "data": {
      "text/plain": [
       "array([1, 0, 1, ..., 1, 1, 1])"
      ]
     },
     "execution_count": 53,
     "metadata": {},
     "output_type": "execute_result"
    }
   ],
   "source": [
    "y_prob_results = np.argmax(y_prob, axis = 1)\n",
    "y_prob_results"
   ]
  },
  {
   "cell_type": "code",
   "execution_count": 54,
   "id": "1ff30812",
   "metadata": {
    "execution": {
     "iopub.execute_input": "2022-02-27T05:16:17.032421Z",
     "iopub.status.busy": "2022-02-27T05:16:17.031374Z",
     "iopub.status.idle": "2022-02-27T05:16:17.042548Z",
     "shell.execute_reply": "2022-02-27T05:16:17.043159Z"
    },
    "papermill": {
     "duration": 0.116152,
     "end_time": "2022-02-27T05:16:17.043370",
     "exception": false,
     "start_time": "2022-02-27T05:16:16.927218",
     "status": "completed"
    },
    "tags": []
   },
   "outputs": [],
   "source": [
    "sub['Transported'] = y_prob_results\n",
    "sub.to_csv('submission_cv_loop.csv', index=False)"
   ]
  },
  {
   "cell_type": "code",
   "execution_count": null,
   "id": "12d973ef",
   "metadata": {
    "papermill": {
     "duration": 0.089194,
     "end_time": "2022-02-27T05:16:17.221943",
     "exception": false,
     "start_time": "2022-02-27T05:16:17.132749",
     "status": "completed"
    },
    "tags": []
   },
   "outputs": [],
   "source": []
  },
  {
   "cell_type": "code",
   "execution_count": null,
   "id": "d4c2a617",
   "metadata": {
    "papermill": {
     "duration": 0.090457,
     "end_time": "2022-02-27T05:16:17.400557",
     "exception": false,
     "start_time": "2022-02-27T05:16:17.310100",
     "status": "completed"
    },
    "tags": []
   },
   "outputs": [],
   "source": []
  },
  {
   "cell_type": "code",
   "execution_count": null,
   "id": "f5116cad",
   "metadata": {
    "papermill": {
     "duration": 0.087911,
     "end_time": "2022-02-27T05:16:17.578279",
     "exception": false,
     "start_time": "2022-02-27T05:16:17.490368",
     "status": "completed"
    },
    "tags": []
   },
   "outputs": [],
   "source": []
  },
  {
   "cell_type": "code",
   "execution_count": null,
   "id": "ea37bf91",
   "metadata": {
    "papermill": {
     "duration": 0.088809,
     "end_time": "2022-02-27T05:16:17.757335",
     "exception": false,
     "start_time": "2022-02-27T05:16:17.668526",
     "status": "completed"
    },
    "tags": []
   },
   "outputs": [],
   "source": []
  }
 ],
 "metadata": {
  "kernelspec": {
   "display_name": "Python 3",
   "language": "python",
   "name": "python3"
  },
  "language_info": {
   "codemirror_mode": {
    "name": "ipython",
    "version": 3
   },
   "file_extension": ".py",
   "mimetype": "text/x-python",
   "name": "python",
   "nbconvert_exporter": "python",
   "pygments_lexer": "ipython3",
   "version": "3.7.12"
  },
  "papermill": {
   "default_parameters": {},
   "duration": 31.158085,
   "end_time": "2022-02-27T05:16:18.657728",
   "environment_variables": {},
   "exception": null,
   "input_path": "__notebook__.ipynb",
   "output_path": "__notebook__.ipynb",
   "parameters": {},
   "start_time": "2022-02-27T05:15:47.499643",
   "version": "2.3.3"
  }
 },
 "nbformat": 4,
 "nbformat_minor": 5
}
