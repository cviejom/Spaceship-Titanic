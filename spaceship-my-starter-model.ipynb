{
 "cells": [
  {
   "cell_type": "markdown",
   "id": "cbd1b1f3",
   "metadata": {
    "papermill": {
     "duration": 0.049568,
     "end_time": "2022-02-26T21:43:20.458842",
     "exception": false,
     "start_time": "2022-02-26T21:43:20.409274",
     "status": "completed"
    },
    "tags": []
   },
   "source": [
    "# 🌌 Spaceship My Starter Model\n",
    "\n",
    "Hello... "
   ]
  },
  {
   "cell_type": "markdown",
   "id": "1a88a57d",
   "metadata": {
    "papermill": {
     "duration": 0.051267,
     "end_time": "2022-02-26T21:43:20.559009",
     "exception": false,
     "start_time": "2022-02-26T21:43:20.507742",
     "status": "completed"
    },
    "tags": []
   },
   "source": [
    "### File and Data Field Descriptions\n",
    "\n",
    "**train.csv** - Personal records for about two-thirds (~8700) of the passengers, to be used as training data.\n",
    "* PassengerId - A unique Id for each passenger. Each Id takes the form gggg_pp where gggg indicates a group the passenger is travelling with and pp is their number within the group. People in a group are often family members, but not always.\n",
    "* HomePlanet - The planet the passenger departed from, typically their planet of permanent residence.\n",
    "* CryoSleep - Indicates whether the passenger elected to be put into suspended animation for the duration of the voyage. Passengers in cryosleep are confined to their cabins.\n",
    "* Cabin - The cabin number where the passenger is staying. Takes the form deck/num/side, where side can be either P for Port or S for Starboard.\n",
    "* Destination - The planet the passenger will be debarking to.\n",
    "* Age - The age of the passenger.\n",
    "* VIP - Whether the passenger has paid for special VIP service during the voyage.\n",
    "* RoomService, FoodCourt, ShoppingMall, Spa, VRDeck - Amount the passenger has billed at each of the Spaceship Titanic's many luxury amenities.\n",
    "* Name - The first and last names of the passenger.\n",
    "* Transported - Whether the passenger was transported to another dimension. This is the target, the column you are trying to predict.\n",
    "\n",
    "**test.csv** - Personal records for the remaining one-third (~4300) of the passengers, to be used as test data. Your task is to predict the value of Transported for the passengers in this set.\n",
    "\n",
    "**sample_submission.csv** - A submission file in the correct format.\n",
    "\n",
    "* PassengerId - Id for each passenger in the test set.\n",
    "* Transported - The target. For each passenger, predict either True or False."
   ]
  },
  {
   "cell_type": "markdown",
   "id": "5ceff902",
   "metadata": {
    "papermill": {
     "duration": 0.046021,
     "end_time": "2022-02-26T21:43:20.653365",
     "exception": false,
     "start_time": "2022-02-26T21:43:20.607344",
     "status": "completed"
    },
    "tags": []
   },
   "source": [
    "# Loading Libraries..."
   ]
  },
  {
   "cell_type": "code",
   "execution_count": 1,
   "id": "33a3353a",
   "metadata": {
    "_cell_guid": "b1076dfc-b9ad-4769-8c92-a6c4dae69d19",
    "_uuid": "8f2839f25d086af736a60e9eeb907d3b93b6e0e5",
    "execution": {
     "iopub.execute_input": "2022-02-26T21:43:20.757936Z",
     "iopub.status.busy": "2022-02-26T21:43:20.756720Z",
     "iopub.status.idle": "2022-02-26T21:43:20.768607Z",
     "shell.execute_reply": "2022-02-26T21:43:20.769365Z",
     "shell.execute_reply.started": "2022-02-26T21:37:06.421546Z"
    },
    "papermill": {
     "duration": 0.067051,
     "end_time": "2022-02-26T21:43:20.769750",
     "exception": false,
     "start_time": "2022-02-26T21:43:20.702699",
     "status": "completed"
    },
    "tags": []
   },
   "outputs": [
    {
     "name": "stdout",
     "output_type": "stream",
     "text": [
      "/kaggle/input/spaceship-titanic/sample_submission.csv\n",
      "/kaggle/input/spaceship-titanic/train.csv\n",
      "/kaggle/input/spaceship-titanic/test.csv\n"
     ]
    }
   ],
   "source": [
    "# This Python 3 environment comes with many helpful analytics libraries installed\n",
    "# It is defined by the kaggle/python Docker image: https://github.com/kaggle/docker-python\n",
    "# For example, here's several helpful packages to load\n",
    "\n",
    "import numpy as np # linear algebra\n",
    "import pandas as pd # data processing, CSV file I/O (e.g. pd.read_csv)\n",
    "\n",
    "# Input data files are available in the read-only \"../input/\" directory\n",
    "# For example, running this (by clicking run or pressing Shift+Enter) will list all files under the input directory\n",
    "\n",
    "import os\n",
    "for dirname, _, filenames in os.walk('/kaggle/input'):\n",
    "    for filename in filenames:\n",
    "        print(os.path.join(dirname, filename))\n",
    "\n",
    "# You can write up to 20GB to the current directory (/kaggle/working/) that gets preserved as output when you create a version using \"Save & Run All\" \n",
    "# You can also write temporary files to /kaggle/temp/, but they won't be saved outside of the current session"
   ]
  },
  {
   "cell_type": "markdown",
   "id": "51156214",
   "metadata": {
    "papermill": {
     "duration": 0.050624,
     "end_time": "2022-02-26T21:43:20.873467",
     "exception": false,
     "start_time": "2022-02-26T21:43:20.822843",
     "status": "completed"
    },
    "tags": []
   },
   "source": [
    "# Seeting Notebook Parameters..."
   ]
  },
  {
   "cell_type": "code",
   "execution_count": 2,
   "id": "695b89f8",
   "metadata": {
    "execution": {
     "iopub.execute_input": "2022-02-26T21:43:20.981819Z",
     "iopub.status.busy": "2022-02-26T21:43:20.981146Z",
     "iopub.status.idle": "2022-02-26T21:43:20.986101Z",
     "shell.execute_reply": "2022-02-26T21:43:20.986811Z",
     "shell.execute_reply.started": "2022-02-26T21:37:06.431931Z"
    },
    "papermill": {
     "duration": 0.061121,
     "end_time": "2022-02-26T21:43:20.987050",
     "exception": false,
     "start_time": "2022-02-26T21:43:20.925929",
     "status": "completed"
    },
    "tags": []
   },
   "outputs": [
    {
     "name": "stdout",
     "output_type": "stream",
     "text": [
      "CPU times: user 28 µs, sys: 3 µs, total: 31 µs\n",
      "Wall time: 36 µs\n"
     ]
    }
   ],
   "source": [
    "%%time\n",
    "# I like to disable my Notebook Warnings.\n",
    "import warnings\n",
    "warnings.filterwarnings('ignore')"
   ]
  },
  {
   "cell_type": "code",
   "execution_count": 3,
   "id": "1747c411",
   "metadata": {
    "execution": {
     "iopub.execute_input": "2022-02-26T21:43:21.101828Z",
     "iopub.status.busy": "2022-02-26T21:43:21.100805Z",
     "iopub.status.idle": "2022-02-26T21:43:21.106812Z",
     "shell.execute_reply": "2022-02-26T21:43:21.108322Z",
     "shell.execute_reply.started": "2022-02-26T21:37:06.439488Z"
    },
    "papermill": {
     "duration": 0.066849,
     "end_time": "2022-02-26T21:43:21.108504",
     "exception": false,
     "start_time": "2022-02-26T21:43:21.041655",
     "status": "completed"
    },
    "tags": []
   },
   "outputs": [
    {
     "name": "stdout",
     "output_type": "stream",
     "text": [
      "CPU times: user 4 µs, sys: 0 ns, total: 4 µs\n",
      "Wall time: 8.58 µs\n"
     ]
    }
   ],
   "source": [
    "%%time\n",
    "# Notebook Configuration...\n",
    "\n",
    "# Amount of data we want to load into the Model...\n",
    "DATA_ROWS = None\n",
    "# Dataframe, the amount of rows and cols to visualize...\n",
    "NROWS = 50\n",
    "NCOLS = 15\n",
    "# Main data location path...\n",
    "BASE_PATH = '...'"
   ]
  },
  {
   "cell_type": "code",
   "execution_count": 4,
   "id": "0a78e8b8",
   "metadata": {
    "execution": {
     "iopub.execute_input": "2022-02-26T21:43:21.224143Z",
     "iopub.status.busy": "2022-02-26T21:43:21.223185Z",
     "iopub.status.idle": "2022-02-26T21:43:21.229822Z",
     "shell.execute_reply": "2022-02-26T21:43:21.229317Z",
     "shell.execute_reply.started": "2022-02-26T21:37:06.452016Z"
    },
    "papermill": {
     "duration": 0.059933,
     "end_time": "2022-02-26T21:43:21.230034",
     "exception": false,
     "start_time": "2022-02-26T21:43:21.170101",
     "status": "completed"
    },
    "tags": []
   },
   "outputs": [
    {
     "name": "stdout",
     "output_type": "stream",
     "text": [
      "CPU times: user 98 µs, sys: 0 ns, total: 98 µs\n",
      "Wall time: 103 µs\n"
     ]
    }
   ],
   "source": [
    "%%time\n",
    "# Configure notebook display settings to only use 2 decimal places, tables look nicer.\n",
    "pd.options.display.float_format = '{:,.2f}'.format\n",
    "pd.set_option('display.max_columns', NCOLS) \n",
    "pd.set_option('display.max_rows', NROWS)"
   ]
  },
  {
   "cell_type": "markdown",
   "id": "4fc9fbae",
   "metadata": {
    "papermill": {
     "duration": 0.048788,
     "end_time": "2022-02-26T21:43:21.332595",
     "exception": false,
     "start_time": "2022-02-26T21:43:21.283807",
     "status": "completed"
    },
    "tags": []
   },
   "source": [
    "# Loading Information from CSV..."
   ]
  },
  {
   "cell_type": "code",
   "execution_count": 5,
   "id": "28b1b16e",
   "metadata": {
    "execution": {
     "iopub.execute_input": "2022-02-26T21:43:21.433191Z",
     "iopub.status.busy": "2022-02-26T21:43:21.432493Z",
     "iopub.status.idle": "2022-02-26T21:43:21.523856Z",
     "shell.execute_reply": "2022-02-26T21:43:21.524368Z",
     "shell.execute_reply.started": "2022-02-26T21:37:06.464002Z"
    },
    "papermill": {
     "duration": 0.143511,
     "end_time": "2022-02-26T21:43:21.524525",
     "exception": false,
     "start_time": "2022-02-26T21:43:21.381014",
     "status": "completed"
    },
    "tags": []
   },
   "outputs": [
    {
     "name": "stdout",
     "output_type": "stream",
     "text": [
      "CPU times: user 42.3 ms, sys: 10.3 ms, total: 52.6 ms\n",
      "Wall time: 85.1 ms\n"
     ]
    }
   ],
   "source": [
    "%%time\n",
    "trn_data = pd.read_csv('/kaggle/input/spaceship-titanic/train.csv')\n",
    "tst_data = pd.read_csv('/kaggle/input/spaceship-titanic/test.csv')\n",
    "\n",
    "sub = pd.read_csv('/kaggle/input/spaceship-titanic/sample_submission.csv')"
   ]
  },
  {
   "cell_type": "markdown",
   "id": "a446b7fd",
   "metadata": {
    "papermill": {
     "duration": 0.049877,
     "end_time": "2022-02-26T21:43:21.625199",
     "exception": false,
     "start_time": "2022-02-26T21:43:21.575322",
     "status": "completed"
    },
    "tags": []
   },
   "source": [
    "# Exploring the Information Available..."
   ]
  },
  {
   "cell_type": "code",
   "execution_count": 6,
   "id": "18e7dae7",
   "metadata": {
    "execution": {
     "iopub.execute_input": "2022-02-26T21:43:21.739364Z",
     "iopub.status.busy": "2022-02-26T21:43:21.738380Z",
     "iopub.status.idle": "2022-02-26T21:43:21.768288Z",
     "shell.execute_reply": "2022-02-26T21:43:21.768971Z",
     "shell.execute_reply.started": "2022-02-26T21:37:06.519297Z"
    },
    "papermill": {
     "duration": 0.092815,
     "end_time": "2022-02-26T21:43:21.769156",
     "exception": false,
     "start_time": "2022-02-26T21:43:21.676341",
     "status": "completed"
    },
    "tags": []
   },
   "outputs": [
    {
     "name": "stdout",
     "output_type": "stream",
     "text": [
      "<class 'pandas.core.frame.DataFrame'>\n",
      "RangeIndex: 8693 entries, 0 to 8692\n",
      "Data columns (total 14 columns):\n",
      " #   Column        Non-Null Count  Dtype  \n",
      "---  ------        --------------  -----  \n",
      " 0   PassengerId   8693 non-null   object \n",
      " 1   HomePlanet    8492 non-null   object \n",
      " 2   CryoSleep     8476 non-null   object \n",
      " 3   Cabin         8494 non-null   object \n",
      " 4   Destination   8511 non-null   object \n",
      " 5   Age           8514 non-null   float64\n",
      " 6   VIP           8490 non-null   object \n",
      " 7   RoomService   8512 non-null   float64\n",
      " 8   FoodCourt     8510 non-null   float64\n",
      " 9   ShoppingMall  8485 non-null   float64\n",
      " 10  Spa           8510 non-null   float64\n",
      " 11  VRDeck        8505 non-null   float64\n",
      " 12  Name          8493 non-null   object \n",
      " 13  Transported   8693 non-null   bool   \n",
      "dtypes: bool(1), float64(6), object(7)\n",
      "memory usage: 891.5+ KB\n",
      "CPU times: user 16.5 ms, sys: 2.06 ms, total: 18.5 ms\n",
      "Wall time: 29.5 ms\n"
     ]
    }
   ],
   "source": [
    "%%time\n",
    "trn_data.info()"
   ]
  },
  {
   "cell_type": "code",
   "execution_count": 7,
   "id": "26b699f6",
   "metadata": {
    "execution": {
     "iopub.execute_input": "2022-02-26T21:43:21.876502Z",
     "iopub.status.busy": "2022-02-26T21:43:21.875616Z",
     "iopub.status.idle": "2022-02-26T21:43:21.895731Z",
     "shell.execute_reply": "2022-02-26T21:43:21.896261Z",
     "shell.execute_reply.started": "2022-02-26T21:37:06.537284Z"
    },
    "papermill": {
     "duration": 0.077513,
     "end_time": "2022-02-26T21:43:21.896432",
     "exception": false,
     "start_time": "2022-02-26T21:43:21.818919",
     "status": "completed"
    },
    "tags": []
   },
   "outputs": [
    {
     "name": "stdout",
     "output_type": "stream",
     "text": [
      "CPU times: user 140 µs, sys: 0 ns, total: 140 µs\n",
      "Wall time: 145 µs\n"
     ]
    },
    {
     "data": {
      "text/html": [
       "<div>\n",
       "<style scoped>\n",
       "    .dataframe tbody tr th:only-of-type {\n",
       "        vertical-align: middle;\n",
       "    }\n",
       "\n",
       "    .dataframe tbody tr th {\n",
       "        vertical-align: top;\n",
       "    }\n",
       "\n",
       "    .dataframe thead th {\n",
       "        text-align: right;\n",
       "    }\n",
       "</style>\n",
       "<table border=\"1\" class=\"dataframe\">\n",
       "  <thead>\n",
       "    <tr style=\"text-align: right;\">\n",
       "      <th></th>\n",
       "      <th>PassengerId</th>\n",
       "      <th>HomePlanet</th>\n",
       "      <th>CryoSleep</th>\n",
       "      <th>Cabin</th>\n",
       "      <th>Destination</th>\n",
       "      <th>Age</th>\n",
       "      <th>VIP</th>\n",
       "      <th>RoomService</th>\n",
       "      <th>FoodCourt</th>\n",
       "      <th>ShoppingMall</th>\n",
       "      <th>Spa</th>\n",
       "      <th>VRDeck</th>\n",
       "      <th>Name</th>\n",
       "      <th>Transported</th>\n",
       "    </tr>\n",
       "  </thead>\n",
       "  <tbody>\n",
       "    <tr>\n",
       "      <th>0</th>\n",
       "      <td>0001_01</td>\n",
       "      <td>Europa</td>\n",
       "      <td>False</td>\n",
       "      <td>B/0/P</td>\n",
       "      <td>TRAPPIST-1e</td>\n",
       "      <td>39.00</td>\n",
       "      <td>False</td>\n",
       "      <td>0.00</td>\n",
       "      <td>0.00</td>\n",
       "      <td>0.00</td>\n",
       "      <td>0.00</td>\n",
       "      <td>0.00</td>\n",
       "      <td>Maham Ofracculy</td>\n",
       "      <td>False</td>\n",
       "    </tr>\n",
       "    <tr>\n",
       "      <th>1</th>\n",
       "      <td>0002_01</td>\n",
       "      <td>Earth</td>\n",
       "      <td>False</td>\n",
       "      <td>F/0/S</td>\n",
       "      <td>TRAPPIST-1e</td>\n",
       "      <td>24.00</td>\n",
       "      <td>False</td>\n",
       "      <td>109.00</td>\n",
       "      <td>9.00</td>\n",
       "      <td>25.00</td>\n",
       "      <td>549.00</td>\n",
       "      <td>44.00</td>\n",
       "      <td>Juanna Vines</td>\n",
       "      <td>True</td>\n",
       "    </tr>\n",
       "    <tr>\n",
       "      <th>2</th>\n",
       "      <td>0003_01</td>\n",
       "      <td>Europa</td>\n",
       "      <td>False</td>\n",
       "      <td>A/0/S</td>\n",
       "      <td>TRAPPIST-1e</td>\n",
       "      <td>58.00</td>\n",
       "      <td>True</td>\n",
       "      <td>43.00</td>\n",
       "      <td>3,576.00</td>\n",
       "      <td>0.00</td>\n",
       "      <td>6,715.00</td>\n",
       "      <td>49.00</td>\n",
       "      <td>Altark Susent</td>\n",
       "      <td>False</td>\n",
       "    </tr>\n",
       "    <tr>\n",
       "      <th>3</th>\n",
       "      <td>0003_02</td>\n",
       "      <td>Europa</td>\n",
       "      <td>False</td>\n",
       "      <td>A/0/S</td>\n",
       "      <td>TRAPPIST-1e</td>\n",
       "      <td>33.00</td>\n",
       "      <td>False</td>\n",
       "      <td>0.00</td>\n",
       "      <td>1,283.00</td>\n",
       "      <td>371.00</td>\n",
       "      <td>3,329.00</td>\n",
       "      <td>193.00</td>\n",
       "      <td>Solam Susent</td>\n",
       "      <td>False</td>\n",
       "    </tr>\n",
       "    <tr>\n",
       "      <th>4</th>\n",
       "      <td>0004_01</td>\n",
       "      <td>Earth</td>\n",
       "      <td>False</td>\n",
       "      <td>F/1/S</td>\n",
       "      <td>TRAPPIST-1e</td>\n",
       "      <td>16.00</td>\n",
       "      <td>False</td>\n",
       "      <td>303.00</td>\n",
       "      <td>70.00</td>\n",
       "      <td>151.00</td>\n",
       "      <td>565.00</td>\n",
       "      <td>2.00</td>\n",
       "      <td>Willy Santantines</td>\n",
       "      <td>True</td>\n",
       "    </tr>\n",
       "  </tbody>\n",
       "</table>\n",
       "</div>"
      ],
      "text/plain": [
       "  PassengerId HomePlanet CryoSleep  Cabin  Destination   Age    VIP  \\\n",
       "0     0001_01     Europa     False  B/0/P  TRAPPIST-1e 39.00  False   \n",
       "1     0002_01      Earth     False  F/0/S  TRAPPIST-1e 24.00  False   \n",
       "2     0003_01     Europa     False  A/0/S  TRAPPIST-1e 58.00   True   \n",
       "3     0003_02     Europa     False  A/0/S  TRAPPIST-1e 33.00  False   \n",
       "4     0004_01      Earth     False  F/1/S  TRAPPIST-1e 16.00  False   \n",
       "\n",
       "   RoomService  FoodCourt  ShoppingMall      Spa  VRDeck               Name  \\\n",
       "0         0.00       0.00          0.00     0.00    0.00    Maham Ofracculy   \n",
       "1       109.00       9.00         25.00   549.00   44.00       Juanna Vines   \n",
       "2        43.00   3,576.00          0.00 6,715.00   49.00      Altark Susent   \n",
       "3         0.00   1,283.00        371.00 3,329.00  193.00       Solam Susent   \n",
       "4       303.00      70.00        151.00   565.00    2.00  Willy Santantines   \n",
       "\n",
       "   Transported  \n",
       "0        False  \n",
       "1         True  \n",
       "2        False  \n",
       "3        False  \n",
       "4         True  "
      ]
     },
     "execution_count": 7,
     "metadata": {},
     "output_type": "execute_result"
    }
   ],
   "source": [
    "%%time\n",
    "trn_data.head()"
   ]
  },
  {
   "cell_type": "code",
   "execution_count": 8,
   "id": "d119972e",
   "metadata": {
    "execution": {
     "iopub.execute_input": "2022-02-26T21:43:22.003541Z",
     "iopub.status.busy": "2022-02-26T21:43:22.002560Z",
     "iopub.status.idle": "2022-02-26T21:43:22.036547Z",
     "shell.execute_reply": "2022-02-26T21:43:22.037051Z",
     "shell.execute_reply.started": "2022-02-26T21:37:06.556278Z"
    },
    "papermill": {
     "duration": 0.089806,
     "end_time": "2022-02-26T21:43:22.037265",
     "exception": false,
     "start_time": "2022-02-26T21:43:21.947459",
     "status": "completed"
    },
    "tags": []
   },
   "outputs": [
    {
     "name": "stdout",
     "output_type": "stream",
     "text": [
      "CPU times: user 18 ms, sys: 0 ns, total: 18 ms\n",
      "Wall time: 20.5 ms\n"
     ]
    },
    {
     "data": {
      "text/html": [
       "<div>\n",
       "<style scoped>\n",
       "    .dataframe tbody tr th:only-of-type {\n",
       "        vertical-align: middle;\n",
       "    }\n",
       "\n",
       "    .dataframe tbody tr th {\n",
       "        vertical-align: top;\n",
       "    }\n",
       "\n",
       "    .dataframe thead th {\n",
       "        text-align: right;\n",
       "    }\n",
       "</style>\n",
       "<table border=\"1\" class=\"dataframe\">\n",
       "  <thead>\n",
       "    <tr style=\"text-align: right;\">\n",
       "      <th></th>\n",
       "      <th>Age</th>\n",
       "      <th>RoomService</th>\n",
       "      <th>FoodCourt</th>\n",
       "      <th>ShoppingMall</th>\n",
       "      <th>Spa</th>\n",
       "      <th>VRDeck</th>\n",
       "    </tr>\n",
       "  </thead>\n",
       "  <tbody>\n",
       "    <tr>\n",
       "      <th>count</th>\n",
       "      <td>8,514.00</td>\n",
       "      <td>8,512.00</td>\n",
       "      <td>8,510.00</td>\n",
       "      <td>8,485.00</td>\n",
       "      <td>8,510.00</td>\n",
       "      <td>8,505.00</td>\n",
       "    </tr>\n",
       "    <tr>\n",
       "      <th>mean</th>\n",
       "      <td>28.83</td>\n",
       "      <td>224.69</td>\n",
       "      <td>458.08</td>\n",
       "      <td>173.73</td>\n",
       "      <td>311.14</td>\n",
       "      <td>304.85</td>\n",
       "    </tr>\n",
       "    <tr>\n",
       "      <th>std</th>\n",
       "      <td>14.49</td>\n",
       "      <td>666.72</td>\n",
       "      <td>1,611.49</td>\n",
       "      <td>604.70</td>\n",
       "      <td>1,136.71</td>\n",
       "      <td>1,145.72</td>\n",
       "    </tr>\n",
       "    <tr>\n",
       "      <th>min</th>\n",
       "      <td>0.00</td>\n",
       "      <td>0.00</td>\n",
       "      <td>0.00</td>\n",
       "      <td>0.00</td>\n",
       "      <td>0.00</td>\n",
       "      <td>0.00</td>\n",
       "    </tr>\n",
       "    <tr>\n",
       "      <th>25%</th>\n",
       "      <td>19.00</td>\n",
       "      <td>0.00</td>\n",
       "      <td>0.00</td>\n",
       "      <td>0.00</td>\n",
       "      <td>0.00</td>\n",
       "      <td>0.00</td>\n",
       "    </tr>\n",
       "    <tr>\n",
       "      <th>50%</th>\n",
       "      <td>27.00</td>\n",
       "      <td>0.00</td>\n",
       "      <td>0.00</td>\n",
       "      <td>0.00</td>\n",
       "      <td>0.00</td>\n",
       "      <td>0.00</td>\n",
       "    </tr>\n",
       "    <tr>\n",
       "      <th>75%</th>\n",
       "      <td>38.00</td>\n",
       "      <td>47.00</td>\n",
       "      <td>76.00</td>\n",
       "      <td>27.00</td>\n",
       "      <td>59.00</td>\n",
       "      <td>46.00</td>\n",
       "    </tr>\n",
       "    <tr>\n",
       "      <th>max</th>\n",
       "      <td>79.00</td>\n",
       "      <td>14,327.00</td>\n",
       "      <td>29,813.00</td>\n",
       "      <td>23,492.00</td>\n",
       "      <td>22,408.00</td>\n",
       "      <td>24,133.00</td>\n",
       "    </tr>\n",
       "  </tbody>\n",
       "</table>\n",
       "</div>"
      ],
      "text/plain": [
       "           Age  RoomService  FoodCourt  ShoppingMall       Spa    VRDeck\n",
       "count 8,514.00     8,512.00   8,510.00      8,485.00  8,510.00  8,505.00\n",
       "mean     28.83       224.69     458.08        173.73    311.14    304.85\n",
       "std      14.49       666.72   1,611.49        604.70  1,136.71  1,145.72\n",
       "min       0.00         0.00       0.00          0.00      0.00      0.00\n",
       "25%      19.00         0.00       0.00          0.00      0.00      0.00\n",
       "50%      27.00         0.00       0.00          0.00      0.00      0.00\n",
       "75%      38.00        47.00      76.00         27.00     59.00     46.00\n",
       "max      79.00    14,327.00  29,813.00     23,492.00 22,408.00 24,133.00"
      ]
     },
     "execution_count": 8,
     "metadata": {},
     "output_type": "execute_result"
    }
   ],
   "source": [
    "%%time\n",
    "trn_data.describe()"
   ]
  },
  {
   "cell_type": "code",
   "execution_count": 9,
   "id": "f20e2693",
   "metadata": {
    "execution": {
     "iopub.execute_input": "2022-02-26T21:43:22.150206Z",
     "iopub.status.busy": "2022-02-26T21:43:22.149429Z",
     "iopub.status.idle": "2022-02-26T21:43:22.155508Z",
     "shell.execute_reply": "2022-02-26T21:43:22.156101Z",
     "shell.execute_reply.started": "2022-02-26T21:37:06.584134Z"
    },
    "papermill": {
     "duration": 0.065455,
     "end_time": "2022-02-26T21:43:22.156304",
     "exception": false,
     "start_time": "2022-02-26T21:43:22.090849",
     "status": "completed"
    },
    "tags": []
   },
   "outputs": [
    {
     "name": "stdout",
     "output_type": "stream",
     "text": [
      "CPU times: user 0 ns, sys: 5 µs, total: 5 µs\n",
      "Wall time: 9.06 µs\n"
     ]
    }
   ],
   "source": [
    "%%time\n",
    "def describe_categ(df):\n",
    "    for col in df.columns:\n",
    "        unique_samples = list(df[col].unique())\n",
    "        unique_values = df[col].nunique()\n",
    "\n",
    "        print(f' {col}: {unique_values} Unique Values,  Data Sample >> {unique_samples[:5]}')\n",
    "    print(' ...')\n",
    "    return None"
   ]
  },
  {
   "cell_type": "code",
   "execution_count": 10,
   "id": "b0be94b7",
   "metadata": {
    "execution": {
     "iopub.execute_input": "2022-02-26T21:43:22.267071Z",
     "iopub.status.busy": "2022-02-26T21:43:22.266449Z",
     "iopub.status.idle": "2022-02-26T21:43:22.305588Z",
     "shell.execute_reply": "2022-02-26T21:43:22.304918Z",
     "shell.execute_reply.started": "2022-02-26T21:37:06.591568Z"
    },
    "papermill": {
     "duration": 0.09514,
     "end_time": "2022-02-26T21:43:22.305737",
     "exception": false,
     "start_time": "2022-02-26T21:43:22.210597",
     "status": "completed"
    },
    "tags": []
   },
   "outputs": [
    {
     "name": "stdout",
     "output_type": "stream",
     "text": [
      " PassengerId: 8693 Unique Values,  Data Sample >> ['0001_01', '0002_01', '0003_01', '0003_02', '0004_01']\n",
      " HomePlanet: 3 Unique Values,  Data Sample >> ['Europa', 'Earth', 'Mars', nan]\n",
      " CryoSleep: 2 Unique Values,  Data Sample >> [False, True, nan]\n",
      " Cabin: 6560 Unique Values,  Data Sample >> ['B/0/P', 'F/0/S', 'A/0/S', 'F/1/S', 'F/0/P']\n",
      " Destination: 3 Unique Values,  Data Sample >> ['TRAPPIST-1e', 'PSO J318.5-22', '55 Cancri e', nan]\n",
      " Age: 80 Unique Values,  Data Sample >> [39.0, 24.0, 58.0, 33.0, 16.0]\n",
      " VIP: 2 Unique Values,  Data Sample >> [False, True, nan]\n",
      " RoomService: 1273 Unique Values,  Data Sample >> [0.0, 109.0, 43.0, 303.0, 42.0]\n",
      " FoodCourt: 1507 Unique Values,  Data Sample >> [0.0, 9.0, 3576.0, 1283.0, 70.0]\n",
      " ShoppingMall: 1115 Unique Values,  Data Sample >> [0.0, 25.0, 371.0, 151.0, 3.0]\n",
      " Spa: 1327 Unique Values,  Data Sample >> [0.0, 549.0, 6715.0, 3329.0, 565.0]\n",
      " VRDeck: 1306 Unique Values,  Data Sample >> [0.0, 44.0, 49.0, 193.0, 2.0]\n",
      " Name: 8473 Unique Values,  Data Sample >> ['Maham Ofracculy', 'Juanna Vines', 'Altark Susent', 'Solam Susent', 'Willy Santantines']\n",
      " Transported: 2 Unique Values,  Data Sample >> [False, True]\n",
      " ...\n",
      "CPU times: user 27.9 ms, sys: 0 ns, total: 27.9 ms\n",
      "Wall time: 32 ms\n"
     ]
    }
   ],
   "source": [
    "%%time\n",
    "describe_categ(trn_data)"
   ]
  },
  {
   "cell_type": "code",
   "execution_count": 11,
   "id": "ecc8503b",
   "metadata": {
    "execution": {
     "iopub.execute_input": "2022-02-26T21:43:22.421165Z",
     "iopub.status.busy": "2022-02-26T21:43:22.420504Z",
     "iopub.status.idle": "2022-02-26T21:43:22.440120Z",
     "shell.execute_reply": "2022-02-26T21:43:22.439413Z",
     "shell.execute_reply.started": "2022-02-26T21:37:06.621750Z"
    },
    "papermill": {
     "duration": 0.080221,
     "end_time": "2022-02-26T21:43:22.440266",
     "exception": false,
     "start_time": "2022-02-26T21:43:22.360045",
     "status": "completed"
    },
    "tags": []
   },
   "outputs": [
    {
     "name": "stdout",
     "output_type": "stream",
     "text": [
      " PassengerId: 4277 Unique Values,  Data Sample >> ['0013_01', '0018_01', '0019_01', '0021_01', '0023_01']\n",
      " HomePlanet: 3 Unique Values,  Data Sample >> ['Earth', 'Europa', 'Mars', nan]\n",
      " CryoSleep: 2 Unique Values,  Data Sample >> [True, False, nan]\n",
      " Cabin: 3265 Unique Values,  Data Sample >> ['G/3/S', 'F/4/S', 'C/0/S', 'C/1/S', 'F/5/S']\n",
      " Destination: 3 Unique Values,  Data Sample >> ['TRAPPIST-1e', '55 Cancri e', 'PSO J318.5-22', nan]\n",
      " Age: 79 Unique Values,  Data Sample >> [27.0, 19.0, 31.0, 38.0, 20.0]\n",
      " VIP: 2 Unique Values,  Data Sample >> [False, nan, True]\n",
      " RoomService: 842 Unique Values,  Data Sample >> [0.0, 10.0, 339.0, 932.0, 2.0]\n",
      " FoodCourt: 902 Unique Values,  Data Sample >> [0.0, 9.0, 6652.0, 1615.0, nan]\n",
      " ShoppingMall: 715 Unique Values,  Data Sample >> [0.0, 635.0, 263.0, 136.0, nan]\n",
      " Spa: 833 Unique Values,  Data Sample >> [0.0, 2823.0, 181.0, 113.0, 237.0]\n",
      " VRDeck: 796 Unique Values,  Data Sample >> [0.0, 585.0, 60.0, 1010.0, 224.0]\n",
      " Name: 4176 Unique Values,  Data Sample >> ['Nelly Carsoning', 'Lerome Peckers', 'Sabih Unhearfus', 'Meratz Caltilter', 'Brence Harperez']\n",
      " ...\n",
      "CPU times: user 14.9 ms, sys: 2.12 ms, total: 17 ms\n",
      "Wall time: 16.4 ms\n"
     ]
    }
   ],
   "source": [
    "%%time\n",
    "describe_categ(tst_data)"
   ]
  },
  {
   "cell_type": "code",
   "execution_count": 12,
   "id": "efaf60dc",
   "metadata": {
    "execution": {
     "iopub.execute_input": "2022-02-26T21:43:22.552471Z",
     "iopub.status.busy": "2022-02-26T21:43:22.551723Z",
     "iopub.status.idle": "2022-02-26T21:43:22.565828Z",
     "shell.execute_reply": "2022-02-26T21:43:22.566363Z",
     "shell.execute_reply.started": "2022-02-26T21:37:06.642762Z"
    },
    "papermill": {
     "duration": 0.070991,
     "end_time": "2022-02-26T21:43:22.566576",
     "exception": false,
     "start_time": "2022-02-26T21:43:22.495585",
     "status": "completed"
    },
    "tags": []
   },
   "outputs": [
    {
     "data": {
      "text/plain": [
       "PassengerId       0\n",
       "HomePlanet      201\n",
       "CryoSleep       217\n",
       "Cabin           199\n",
       "Destination     182\n",
       "Age             179\n",
       "VIP             203\n",
       "RoomService     181\n",
       "FoodCourt       183\n",
       "ShoppingMall    208\n",
       "Spa             183\n",
       "VRDeck          188\n",
       "Name            200\n",
       "Transported       0\n",
       "dtype: int64"
      ]
     },
     "execution_count": 12,
     "metadata": {},
     "output_type": "execute_result"
    }
   ],
   "source": [
    "trn_data.isnull().sum()"
   ]
  },
  {
   "cell_type": "code",
   "execution_count": 13,
   "id": "d8a461d5",
   "metadata": {
    "execution": {
     "iopub.execute_input": "2022-02-26T21:43:22.680300Z",
     "iopub.status.busy": "2022-02-26T21:43:22.679604Z",
     "iopub.status.idle": "2022-02-26T21:43:22.694299Z",
     "shell.execute_reply": "2022-02-26T21:43:22.694895Z",
     "shell.execute_reply.started": "2022-02-26T21:37:06.656795Z"
    },
    "papermill": {
     "duration": 0.072891,
     "end_time": "2022-02-26T21:43:22.695063",
     "exception": false,
     "start_time": "2022-02-26T21:43:22.622172",
     "status": "completed"
    },
    "tags": []
   },
   "outputs": [
    {
     "data": {
      "text/html": [
       "<div>\n",
       "<style scoped>\n",
       "    .dataframe tbody tr th:only-of-type {\n",
       "        vertical-align: middle;\n",
       "    }\n",
       "\n",
       "    .dataframe tbody tr th {\n",
       "        vertical-align: top;\n",
       "    }\n",
       "\n",
       "    .dataframe thead th {\n",
       "        text-align: right;\n",
       "    }\n",
       "</style>\n",
       "<table border=\"1\" class=\"dataframe\">\n",
       "  <thead>\n",
       "    <tr style=\"text-align: right;\">\n",
       "      <th></th>\n",
       "      <th>PassengerId</th>\n",
       "      <th>HomePlanet</th>\n",
       "      <th>CryoSleep</th>\n",
       "      <th>Cabin</th>\n",
       "      <th>Destination</th>\n",
       "      <th>Age</th>\n",
       "      <th>VIP</th>\n",
       "      <th>RoomService</th>\n",
       "      <th>FoodCourt</th>\n",
       "      <th>ShoppingMall</th>\n",
       "      <th>Spa</th>\n",
       "      <th>VRDeck</th>\n",
       "      <th>Name</th>\n",
       "    </tr>\n",
       "  </thead>\n",
       "  <tbody>\n",
       "    <tr>\n",
       "      <th>0</th>\n",
       "      <td>0013_01</td>\n",
       "      <td>Earth</td>\n",
       "      <td>True</td>\n",
       "      <td>G/3/S</td>\n",
       "      <td>TRAPPIST-1e</td>\n",
       "      <td>27.00</td>\n",
       "      <td>False</td>\n",
       "      <td>0.00</td>\n",
       "      <td>0.00</td>\n",
       "      <td>0.00</td>\n",
       "      <td>0.00</td>\n",
       "      <td>0.00</td>\n",
       "      <td>Nelly Carsoning</td>\n",
       "    </tr>\n",
       "    <tr>\n",
       "      <th>1</th>\n",
       "      <td>0018_01</td>\n",
       "      <td>Earth</td>\n",
       "      <td>False</td>\n",
       "      <td>F/4/S</td>\n",
       "      <td>TRAPPIST-1e</td>\n",
       "      <td>19.00</td>\n",
       "      <td>False</td>\n",
       "      <td>0.00</td>\n",
       "      <td>9.00</td>\n",
       "      <td>0.00</td>\n",
       "      <td>2,823.00</td>\n",
       "      <td>0.00</td>\n",
       "      <td>Lerome Peckers</td>\n",
       "    </tr>\n",
       "    <tr>\n",
       "      <th>2</th>\n",
       "      <td>0019_01</td>\n",
       "      <td>Europa</td>\n",
       "      <td>True</td>\n",
       "      <td>C/0/S</td>\n",
       "      <td>55 Cancri e</td>\n",
       "      <td>31.00</td>\n",
       "      <td>False</td>\n",
       "      <td>0.00</td>\n",
       "      <td>0.00</td>\n",
       "      <td>0.00</td>\n",
       "      <td>0.00</td>\n",
       "      <td>0.00</td>\n",
       "      <td>Sabih Unhearfus</td>\n",
       "    </tr>\n",
       "    <tr>\n",
       "      <th>3</th>\n",
       "      <td>0021_01</td>\n",
       "      <td>Europa</td>\n",
       "      <td>False</td>\n",
       "      <td>C/1/S</td>\n",
       "      <td>TRAPPIST-1e</td>\n",
       "      <td>38.00</td>\n",
       "      <td>False</td>\n",
       "      <td>0.00</td>\n",
       "      <td>6,652.00</td>\n",
       "      <td>0.00</td>\n",
       "      <td>181.00</td>\n",
       "      <td>585.00</td>\n",
       "      <td>Meratz Caltilter</td>\n",
       "    </tr>\n",
       "    <tr>\n",
       "      <th>4</th>\n",
       "      <td>0023_01</td>\n",
       "      <td>Earth</td>\n",
       "      <td>False</td>\n",
       "      <td>F/5/S</td>\n",
       "      <td>TRAPPIST-1e</td>\n",
       "      <td>20.00</td>\n",
       "      <td>False</td>\n",
       "      <td>10.00</td>\n",
       "      <td>0.00</td>\n",
       "      <td>635.00</td>\n",
       "      <td>0.00</td>\n",
       "      <td>0.00</td>\n",
       "      <td>Brence Harperez</td>\n",
       "    </tr>\n",
       "  </tbody>\n",
       "</table>\n",
       "</div>"
      ],
      "text/plain": [
       "  PassengerId HomePlanet CryoSleep  Cabin  Destination   Age    VIP  \\\n",
       "0     0013_01      Earth      True  G/3/S  TRAPPIST-1e 27.00  False   \n",
       "1     0018_01      Earth     False  F/4/S  TRAPPIST-1e 19.00  False   \n",
       "2     0019_01     Europa      True  C/0/S  55 Cancri e 31.00  False   \n",
       "3     0021_01     Europa     False  C/1/S  TRAPPIST-1e 38.00  False   \n",
       "4     0023_01      Earth     False  F/5/S  TRAPPIST-1e 20.00  False   \n",
       "\n",
       "   RoomService  FoodCourt  ShoppingMall      Spa  VRDeck              Name  \n",
       "0         0.00       0.00          0.00     0.00    0.00   Nelly Carsoning  \n",
       "1         0.00       9.00          0.00 2,823.00    0.00    Lerome Peckers  \n",
       "2         0.00       0.00          0.00     0.00    0.00   Sabih Unhearfus  \n",
       "3         0.00   6,652.00          0.00   181.00  585.00  Meratz Caltilter  \n",
       "4        10.00       0.00        635.00     0.00    0.00   Brence Harperez  "
      ]
     },
     "execution_count": 13,
     "metadata": {},
     "output_type": "execute_result"
    }
   ],
   "source": [
    "tst_data.head()"
   ]
  },
  {
   "cell_type": "code",
   "execution_count": 14,
   "id": "c3f646e9",
   "metadata": {
    "execution": {
     "iopub.execute_input": "2022-02-26T21:43:22.809192Z",
     "iopub.status.busy": "2022-02-26T21:43:22.808492Z",
     "iopub.status.idle": "2022-02-26T21:43:22.819425Z",
     "shell.execute_reply": "2022-02-26T21:43:22.820098Z",
     "shell.execute_reply.started": "2022-02-26T21:37:06.673726Z"
    },
    "papermill": {
     "duration": 0.069604,
     "end_time": "2022-02-26T21:43:22.820274",
     "exception": false,
     "start_time": "2022-02-26T21:43:22.750670",
     "status": "completed"
    },
    "tags": []
   },
   "outputs": [
    {
     "data": {
      "text/plain": [
       "PassengerId       0\n",
       "HomePlanet       87\n",
       "CryoSleep        93\n",
       "Cabin           100\n",
       "Destination      92\n",
       "Age              91\n",
       "VIP              93\n",
       "RoomService      82\n",
       "FoodCourt       106\n",
       "ShoppingMall     98\n",
       "Spa             101\n",
       "VRDeck           80\n",
       "Name             94\n",
       "dtype: int64"
      ]
     },
     "execution_count": 14,
     "metadata": {},
     "output_type": "execute_result"
    }
   ],
   "source": [
    "tst_data.isnull().sum()"
   ]
  },
  {
   "cell_type": "code",
   "execution_count": 15,
   "id": "edf49d3d",
   "metadata": {
    "execution": {
     "iopub.execute_input": "2022-02-26T21:43:22.936924Z",
     "iopub.status.busy": "2022-02-26T21:43:22.936093Z",
     "iopub.status.idle": "2022-02-26T21:43:22.943992Z",
     "shell.execute_reply": "2022-02-26T21:43:22.944475Z",
     "shell.execute_reply.started": "2022-02-26T21:37:06.685670Z"
    },
    "papermill": {
     "duration": 0.068027,
     "end_time": "2022-02-26T21:43:22.944649",
     "exception": false,
     "start_time": "2022-02-26T21:43:22.876622",
     "status": "completed"
    },
    "tags": []
   },
   "outputs": [
    {
     "data": {
      "text/html": [
       "<div>\n",
       "<style scoped>\n",
       "    .dataframe tbody tr th:only-of-type {\n",
       "        vertical-align: middle;\n",
       "    }\n",
       "\n",
       "    .dataframe tbody tr th {\n",
       "        vertical-align: top;\n",
       "    }\n",
       "\n",
       "    .dataframe thead th {\n",
       "        text-align: right;\n",
       "    }\n",
       "</style>\n",
       "<table border=\"1\" class=\"dataframe\">\n",
       "  <thead>\n",
       "    <tr style=\"text-align: right;\">\n",
       "      <th></th>\n",
       "      <th>PassengerId</th>\n",
       "      <th>Transported</th>\n",
       "    </tr>\n",
       "  </thead>\n",
       "  <tbody>\n",
       "    <tr>\n",
       "      <th>0</th>\n",
       "      <td>0013_01</td>\n",
       "      <td>False</td>\n",
       "    </tr>\n",
       "    <tr>\n",
       "      <th>1</th>\n",
       "      <td>0018_01</td>\n",
       "      <td>False</td>\n",
       "    </tr>\n",
       "    <tr>\n",
       "      <th>2</th>\n",
       "      <td>0019_01</td>\n",
       "      <td>False</td>\n",
       "    </tr>\n",
       "    <tr>\n",
       "      <th>3</th>\n",
       "      <td>0021_01</td>\n",
       "      <td>False</td>\n",
       "    </tr>\n",
       "    <tr>\n",
       "      <th>4</th>\n",
       "      <td>0023_01</td>\n",
       "      <td>False</td>\n",
       "    </tr>\n",
       "  </tbody>\n",
       "</table>\n",
       "</div>"
      ],
      "text/plain": [
       "  PassengerId  Transported\n",
       "0     0013_01        False\n",
       "1     0018_01        False\n",
       "2     0019_01        False\n",
       "3     0021_01        False\n",
       "4     0023_01        False"
      ]
     },
     "execution_count": 15,
     "metadata": {},
     "output_type": "execute_result"
    }
   ],
   "source": [
    "sub.head()"
   ]
  },
  {
   "cell_type": "markdown",
   "id": "fa63ad12",
   "metadata": {
    "papermill": {
     "duration": 0.057512,
     "end_time": "2022-02-26T21:43:23.058352",
     "exception": false,
     "start_time": "2022-02-26T21:43:23.000840",
     "status": "completed"
    },
    "tags": []
   },
   "source": [
    "# Exploring the Target Variable..."
   ]
  },
  {
   "cell_type": "code",
   "execution_count": 16,
   "id": "86115048",
   "metadata": {
    "execution": {
     "iopub.execute_input": "2022-02-26T21:43:23.174692Z",
     "iopub.status.busy": "2022-02-26T21:43:23.173761Z",
     "iopub.status.idle": "2022-02-26T21:43:23.179934Z",
     "shell.execute_reply": "2022-02-26T21:43:23.180419Z",
     "shell.execute_reply.started": "2022-02-26T21:37:06.695616Z"
    },
    "papermill": {
     "duration": 0.066069,
     "end_time": "2022-02-26T21:43:23.180578",
     "exception": false,
     "start_time": "2022-02-26T21:43:23.114509",
     "status": "completed"
    },
    "tags": []
   },
   "outputs": [
    {
     "name": "stdout",
     "output_type": "stream",
     "text": [
      "CPU times: user 4 µs, sys: 0 ns, total: 4 µs\n",
      "Wall time: 8.11 µs\n"
     ]
    }
   ],
   "source": [
    "%%time\n",
    "def analyze_categ_target(df, target = 'Transported'):\n",
    "    \n",
    "    transported = df[df[target] == True].shape[0]\n",
    "    not_transported = df[df[target] == False].shape[0]\n",
    "    total = transported + not_transported\n",
    "    \n",
    "    print(f'Transported     : {transported / total:.2f} %')\n",
    "    print(f'Not Transported : {not_transported / total:.2f} %')\n",
    "    print(f'Total Passengers: {total}')\n",
    "    print('...')"
   ]
  },
  {
   "cell_type": "code",
   "execution_count": 17,
   "id": "3dee23d2",
   "metadata": {
    "execution": {
     "iopub.execute_input": "2022-02-26T21:43:23.295741Z",
     "iopub.status.busy": "2022-02-26T21:43:23.295105Z",
     "iopub.status.idle": "2022-02-26T21:43:23.303040Z",
     "shell.execute_reply": "2022-02-26T21:43:23.303771Z",
     "shell.execute_reply.started": "2022-02-26T21:37:06.704678Z"
    },
    "papermill": {
     "duration": 0.068211,
     "end_time": "2022-02-26T21:43:23.304004",
     "exception": false,
     "start_time": "2022-02-26T21:43:23.235793",
     "status": "completed"
    },
    "tags": []
   },
   "outputs": [
    {
     "name": "stdout",
     "output_type": "stream",
     "text": [
      "Transported     : 0.50 %\n",
      "Not Transported : 0.50 %\n",
      "Total Passengers: 8693\n",
      "...\n",
      "CPU times: user 4.2 ms, sys: 163 µs, total: 4.37 ms\n",
      "Wall time: 5.19 ms\n"
     ]
    }
   ],
   "source": [
    "%%time\n",
    "analyze_categ_target(trn_data)"
   ]
  },
  {
   "cell_type": "code",
   "execution_count": 18,
   "id": "8797efd2",
   "metadata": {
    "execution": {
     "iopub.execute_input": "2022-02-26T21:43:23.417811Z",
     "iopub.status.busy": "2022-02-26T21:43:23.417224Z",
     "iopub.status.idle": "2022-02-26T21:43:23.426418Z",
     "shell.execute_reply": "2022-02-26T21:43:23.426940Z",
     "shell.execute_reply.started": "2022-02-26T21:37:06.717891Z"
    },
    "papermill": {
     "duration": 0.06747,
     "end_time": "2022-02-26T21:43:23.427105",
     "exception": false,
     "start_time": "2022-02-26T21:43:23.359635",
     "status": "completed"
    },
    "tags": []
   },
   "outputs": [
    {
     "name": "stdout",
     "output_type": "stream",
     "text": [
      "Overlapped Passengers: 0\n",
      "CPU times: user 4.27 ms, sys: 35 µs, total: 4.3 ms\n",
      "Wall time: 4.32 ms\n"
     ]
    }
   ],
   "source": [
    "%%time\n",
    "trn_passenger_ids = set(trn_data['PassengerId'].unique())\n",
    "tst_passenger_ids = set(tst_data['PassengerId'].unique())\n",
    "intersection = trn_passenger_ids.intersection(tst_passenger_ids)\n",
    "print('Overlapped Passengers:', len(intersection))"
   ]
  },
  {
   "cell_type": "markdown",
   "id": "e7c5fba6",
   "metadata": {
    "papermill": {
     "duration": 0.05385,
     "end_time": "2022-02-26T21:43:23.535491",
     "exception": false,
     "start_time": "2022-02-26T21:43:23.481641",
     "status": "completed"
    },
    "tags": []
   },
   "source": [
    "# Feature Engineering"
   ]
  },
  {
   "cell_type": "code",
   "execution_count": 19,
   "id": "4ad6e58d",
   "metadata": {
    "execution": {
     "iopub.execute_input": "2022-02-26T21:43:23.648592Z",
     "iopub.status.busy": "2022-02-26T21:43:23.647941Z",
     "iopub.status.idle": "2022-02-26T21:43:23.654045Z",
     "shell.execute_reply": "2022-02-26T21:43:23.654534Z",
     "shell.execute_reply.started": "2022-02-26T21:37:06.728454Z"
    },
    "papermill": {
     "duration": 0.063987,
     "end_time": "2022-02-26T21:43:23.654691",
     "exception": false,
     "start_time": "2022-02-26T21:43:23.590704",
     "status": "completed"
    },
    "tags": []
   },
   "outputs": [],
   "source": [
    "def fill_missing(df):\n",
    "    numerics = ['int16', 'int32', 'int64', 'float16', 'float32', 'float64']\n",
    "    numeric_tmp = df.select_dtypes(include = numerics)\n",
    "    categ_tmp = df.select_dtypes(exclude = numerics)\n",
    "\n",
    "    for col in numeric_tmp.columns:\n",
    "        print(col)\n",
    "        df[col] = df[col].fillna(value = df[col].mean())\n",
    "        \n",
    "    for col in categ_tmp.columns:\n",
    "        print(col)\n",
    "        df[col] = df[col].fillna(value = df[col].mode()[0])\n",
    "        \n",
    "    print('...')\n",
    "    return df"
   ]
  },
  {
   "cell_type": "code",
   "execution_count": 20,
   "id": "24dc9f7a",
   "metadata": {
    "execution": {
     "iopub.execute_input": "2022-02-26T21:43:23.768517Z",
     "iopub.status.busy": "2022-02-26T21:43:23.767789Z",
     "iopub.status.idle": "2022-02-26T21:43:23.848391Z",
     "shell.execute_reply": "2022-02-26T21:43:23.849038Z",
     "shell.execute_reply.started": "2022-02-26T21:37:06.735694Z"
    },
    "papermill": {
     "duration": 0.139087,
     "end_time": "2022-02-26T21:43:23.849250",
     "exception": false,
     "start_time": "2022-02-26T21:43:23.710163",
     "status": "completed"
    },
    "tags": []
   },
   "outputs": [
    {
     "name": "stdout",
     "output_type": "stream",
     "text": [
      "Age\n",
      "RoomService\n",
      "FoodCourt\n",
      "ShoppingMall\n",
      "Spa\n",
      "VRDeck\n",
      "PassengerId\n",
      "HomePlanet\n",
      "CryoSleep\n",
      "Cabin\n",
      "Destination\n",
      "VIP\n",
      "Name\n",
      "Transported\n",
      "...\n",
      "Age\n",
      "RoomService\n",
      "FoodCourt\n",
      "ShoppingMall\n",
      "Spa\n",
      "VRDeck\n",
      "PassengerId\n",
      "HomePlanet\n",
      "CryoSleep\n",
      "Cabin\n",
      "Destination\n",
      "VIP\n",
      "Name\n",
      "...\n"
     ]
    }
   ],
   "source": [
    "trn_data =  fill_missing(trn_data)\n",
    "tst_data =  fill_missing(tst_data)"
   ]
  },
  {
   "cell_type": "code",
   "execution_count": 21,
   "id": "07228e11",
   "metadata": {
    "execution": {
     "iopub.execute_input": "2022-02-26T21:43:23.974160Z",
     "iopub.status.busy": "2022-02-26T21:43:23.973491Z",
     "iopub.status.idle": "2022-02-26T21:43:23.976670Z",
     "shell.execute_reply": "2022-02-26T21:43:23.977159Z",
     "shell.execute_reply.started": "2022-02-26T21:37:06.802839Z"
    },
    "papermill": {
     "duration": 0.072048,
     "end_time": "2022-02-26T21:43:23.977351",
     "exception": false,
     "start_time": "2022-02-26T21:43:23.905303",
     "status": "completed"
    },
    "tags": []
   },
   "outputs": [
    {
     "data": {
      "text/plain": [
       "PassengerId     0\n",
       "HomePlanet      0\n",
       "CryoSleep       0\n",
       "Cabin           0\n",
       "Destination     0\n",
       "Age             0\n",
       "VIP             0\n",
       "RoomService     0\n",
       "FoodCourt       0\n",
       "ShoppingMall    0\n",
       "Spa             0\n",
       "VRDeck          0\n",
       "Name            0\n",
       "Transported     0\n",
       "dtype: int64"
      ]
     },
     "execution_count": 21,
     "metadata": {},
     "output_type": "execute_result"
    }
   ],
   "source": [
    "trn_data.isnull().sum()"
   ]
  },
  {
   "cell_type": "code",
   "execution_count": 22,
   "id": "013cfd9e",
   "metadata": {
    "execution": {
     "iopub.execute_input": "2022-02-26T21:43:24.101610Z",
     "iopub.status.busy": "2022-02-26T21:43:24.099426Z",
     "iopub.status.idle": "2022-02-26T21:43:24.104885Z",
     "shell.execute_reply": "2022-02-26T21:43:24.105345Z",
     "shell.execute_reply.started": "2022-02-26T21:37:06.816582Z"
    },
    "papermill": {
     "duration": 0.070577,
     "end_time": "2022-02-26T21:43:24.105516",
     "exception": false,
     "start_time": "2022-02-26T21:43:24.034939",
     "status": "completed"
    },
    "tags": []
   },
   "outputs": [
    {
     "data": {
      "text/plain": [
       "PassengerId     0\n",
       "HomePlanet      0\n",
       "CryoSleep       0\n",
       "Cabin           0\n",
       "Destination     0\n",
       "Age             0\n",
       "VIP             0\n",
       "RoomService     0\n",
       "FoodCourt       0\n",
       "ShoppingMall    0\n",
       "Spa             0\n",
       "VRDeck          0\n",
       "Name            0\n",
       "dtype: int64"
      ]
     },
     "execution_count": 22,
     "metadata": {},
     "output_type": "execute_result"
    }
   ],
   "source": [
    "tst_data.isnull().sum()"
   ]
  },
  {
   "cell_type": "code",
   "execution_count": 23,
   "id": "fc44db57",
   "metadata": {
    "execution": {
     "iopub.execute_input": "2022-02-26T21:43:24.226481Z",
     "iopub.status.busy": "2022-02-26T21:43:24.225806Z",
     "iopub.status.idle": "2022-02-26T21:43:24.228462Z",
     "shell.execute_reply": "2022-02-26T21:43:24.228965Z",
     "shell.execute_reply.started": "2022-02-26T21:37:06.826474Z"
    },
    "papermill": {
     "duration": 0.065471,
     "end_time": "2022-02-26T21:43:24.229124",
     "exception": false,
     "start_time": "2022-02-26T21:43:24.163653",
     "status": "completed"
    },
    "tags": []
   },
   "outputs": [
    {
     "name": "stdout",
     "output_type": "stream",
     "text": [
      "CPU times: user 3 µs, sys: 0 ns, total: 3 µs\n",
      "Wall time: 8.58 µs\n"
     ]
    }
   ],
   "source": [
    "%%time\n",
    "def total_billed(df):\n",
    "    '''\n",
    "    Calculates total amount billed in the trip to the passenger... \n",
    "    \n",
    "    '''\n",
    "    \n",
    "    df['Total_Billed'] = df['RoomService'] + df['FoodCourt'] + df['ShoppingMall'] + df['Spa'] + df['VRDeck']\n",
    "    return df"
   ]
  },
  {
   "cell_type": "code",
   "execution_count": 24,
   "id": "ccef9593",
   "metadata": {
    "execution": {
     "iopub.execute_input": "2022-02-26T21:43:24.350643Z",
     "iopub.status.busy": "2022-02-26T21:43:24.349109Z",
     "iopub.status.idle": "2022-02-26T21:43:24.354214Z",
     "shell.execute_reply": "2022-02-26T21:43:24.353345Z",
     "shell.execute_reply.started": "2022-02-26T21:37:06.835641Z"
    },
    "papermill": {
     "duration": 0.068202,
     "end_time": "2022-02-26T21:43:24.354387",
     "exception": false,
     "start_time": "2022-02-26T21:43:24.286185",
     "status": "completed"
    },
    "tags": []
   },
   "outputs": [
    {
     "name": "stdout",
     "output_type": "stream",
     "text": [
      "CPU times: user 2.37 ms, sys: 1.92 ms, total: 4.29 ms\n",
      "Wall time: 3.71 ms\n"
     ]
    }
   ],
   "source": [
    "%%time\n",
    "trn_data = total_billed(trn_data)\n",
    "tst_data = total_billed(tst_data)"
   ]
  },
  {
   "cell_type": "markdown",
   "id": "b3469a2f",
   "metadata": {
    "papermill": {
     "duration": 0.057452,
     "end_time": "2022-02-26T21:43:24.469772",
     "exception": false,
     "start_time": "2022-02-26T21:43:24.412320",
     "status": "completed"
    },
    "tags": []
   },
   "source": [
    "# Pre-Processing for Training"
   ]
  },
  {
   "cell_type": "code",
   "execution_count": 25,
   "id": "59cf868a",
   "metadata": {
    "execution": {
     "iopub.execute_input": "2022-02-26T21:43:24.591819Z",
     "iopub.status.busy": "2022-02-26T21:43:24.591180Z",
     "iopub.status.idle": "2022-02-26T21:43:24.594209Z",
     "shell.execute_reply": "2022-02-26T21:43:24.594652Z",
     "shell.execute_reply.started": "2022-02-26T21:37:06.863700Z"
    },
    "papermill": {
     "duration": 0.067363,
     "end_time": "2022-02-26T21:43:24.594813",
     "exception": false,
     "start_time": "2022-02-26T21:43:24.527450",
     "status": "completed"
    },
    "tags": []
   },
   "outputs": [
    {
     "name": "stdout",
     "output_type": "stream",
     "text": [
      "CPU times: user 4 µs, sys: 1 µs, total: 5 µs\n",
      "Wall time: 8.58 µs\n"
     ]
    }
   ],
   "source": [
    "%%time\n",
    "numerical_features = ['Age', 'RoomService', 'FoodCourt', 'ShoppingMall', 'Spa', 'VRDeck', 'total_billed']\n",
    "\n",
    "categorical_features = [\n",
    "                        #'PassengerId',\n",
    "                        'HomePlanet',\n",
    "                        'CryoSleep',\n",
    "                        'Cabin',\n",
    "                        'Destination',\n",
    "                        'VIP',\n",
    "                        'Name']\n",
    "\n",
    "target_feature = 'Transported'"
   ]
  },
  {
   "cell_type": "code",
   "execution_count": 26,
   "id": "fae460e3",
   "metadata": {
    "execution": {
     "iopub.execute_input": "2022-02-26T21:43:24.716260Z",
     "iopub.status.busy": "2022-02-26T21:43:24.715555Z",
     "iopub.status.idle": "2022-02-26T21:43:25.742713Z",
     "shell.execute_reply": "2022-02-26T21:43:25.741894Z",
     "shell.execute_reply.started": "2022-02-26T21:37:06.872054Z"
    },
    "papermill": {
     "duration": 1.09097,
     "end_time": "2022-02-26T21:43:25.742851",
     "exception": false,
     "start_time": "2022-02-26T21:43:24.651881",
     "status": "completed"
    },
    "tags": []
   },
   "outputs": [
    {
     "name": "stdout",
     "output_type": "stream",
     "text": [
      "CPU times: user 547 ms, sys: 311 ms, total: 858 ms\n",
      "Wall time: 1.02 s\n"
     ]
    }
   ],
   "source": [
    "%%time\n",
    "from sklearn.preprocessing import LabelEncoder \n",
    "\n",
    "def encode_categorical(train_df, test_df, categ_feat = categorical_features):\n",
    "    '''\n",
    "    \n",
    "    '''\n",
    "    encoder_dict = {}\n",
    "    \n",
    "    concat_data = pd.concat([trn_data[categ_feat], tst_data[categ_feat]])\n",
    "    \n",
    "    for col in concat_data.columns:\n",
    "        print('Processing: ', col)\n",
    "        encoder = LabelEncoder()\n",
    "        encoder.fit(concat_data[col])\n",
    "        encoder_dict[col] = encoder\n",
    "\n",
    "        train_df[col + '_Enc'] = encoder.transform(train_df[col])\n",
    "        test_df[col + '_Enc'] = encoder.transform(test_df[col])\n",
    "    \n",
    "    train_df = train_df.drop(columns = categ_feat, axis = 1)\n",
    "    test_df = test_df.drop(columns = categ_feat, axis = 1)\n",
    "\n",
    "    return train_df, test_df"
   ]
  },
  {
   "cell_type": "code",
   "execution_count": 27,
   "id": "d4d5fd1e",
   "metadata": {
    "execution": {
     "iopub.execute_input": "2022-02-26T21:43:25.865005Z",
     "iopub.status.busy": "2022-02-26T21:43:25.864025Z",
     "iopub.status.idle": "2022-02-26T21:43:25.927434Z",
     "shell.execute_reply": "2022-02-26T21:43:25.926841Z",
     "shell.execute_reply.started": "2022-02-26T21:37:06.885576Z"
    },
    "papermill": {
     "duration": 0.126574,
     "end_time": "2022-02-26T21:43:25.927561",
     "exception": false,
     "start_time": "2022-02-26T21:43:25.800987",
     "status": "completed"
    },
    "tags": []
   },
   "outputs": [
    {
     "name": "stdout",
     "output_type": "stream",
     "text": [
      "Processing:  HomePlanet\n",
      "Processing:  CryoSleep\n",
      "Processing:  Cabin\n",
      "Processing:  Destination\n",
      "Processing:  VIP\n",
      "Processing:  Name\n",
      "CPU times: user 54.7 ms, sys: 3.28 ms, total: 58 ms\n",
      "Wall time: 56.3 ms\n"
     ]
    }
   ],
   "source": [
    "%%time\n",
    "trn_data, tst_data = encode_categorical(trn_data, tst_data, categorical_features)"
   ]
  },
  {
   "cell_type": "markdown",
   "id": "d36c4a34",
   "metadata": {
    "papermill": {
     "duration": 0.057703,
     "end_time": "2022-02-26T21:43:26.043237",
     "exception": false,
     "start_time": "2022-02-26T21:43:25.985534",
     "status": "completed"
    },
    "tags": []
   },
   "source": [
    "# Simple CV Sttrategy 80/20 Split"
   ]
  },
  {
   "cell_type": "code",
   "execution_count": 28,
   "id": "abd69153",
   "metadata": {
    "execution": {
     "iopub.execute_input": "2022-02-26T21:43:26.166461Z",
     "iopub.status.busy": "2022-02-26T21:43:26.165745Z",
     "iopub.status.idle": "2022-02-26T21:43:26.169084Z",
     "shell.execute_reply": "2022-02-26T21:43:26.168581Z",
     "shell.execute_reply.started": "2022-02-26T21:37:06.948092Z"
    },
    "papermill": {
     "duration": 0.06591,
     "end_time": "2022-02-26T21:43:26.169224",
     "exception": false,
     "start_time": "2022-02-26T21:43:26.103314",
     "status": "completed"
    },
    "tags": []
   },
   "outputs": [
    {
     "data": {
      "text/plain": [
       "Index(['PassengerId', 'Age', 'RoomService', 'FoodCourt', 'ShoppingMall', 'Spa',\n",
       "       'VRDeck', 'Transported', 'Total_Billed', 'HomePlanet_Enc',\n",
       "       'CryoSleep_Enc', 'Cabin_Enc', 'Destination_Enc', 'VIP_Enc', 'Name_Enc'],\n",
       "      dtype='object')"
      ]
     },
     "execution_count": 28,
     "metadata": {},
     "output_type": "execute_result"
    }
   ],
   "source": [
    "trn_data.columns"
   ]
  },
  {
   "cell_type": "code",
   "execution_count": 29,
   "id": "57fa2bce",
   "metadata": {
    "execution": {
     "iopub.execute_input": "2022-02-26T21:43:26.292389Z",
     "iopub.status.busy": "2022-02-26T21:43:26.291686Z",
     "iopub.status.idle": "2022-02-26T21:43:26.293927Z",
     "shell.execute_reply": "2022-02-26T21:43:26.293400Z",
     "shell.execute_reply.started": "2022-02-26T21:37:06.954429Z"
    },
    "papermill": {
     "duration": 0.065986,
     "end_time": "2022-02-26T21:43:26.294050",
     "exception": false,
     "start_time": "2022-02-26T21:43:26.228064",
     "status": "completed"
    },
    "tags": []
   },
   "outputs": [],
   "source": [
    "features = ['Age',\n",
    "            'RoomService',\n",
    "            'FoodCourt',\n",
    "            'ShoppingMall',\n",
    "            'Spa',\n",
    "            'VRDeck',\n",
    "            'Name_Enc',\n",
    "            'VIP_Enc',\n",
    "            'Total_Billed',\n",
    "            'HomePlanet_Enc',\n",
    "            'CryoSleep_Enc',\n",
    "            'Cabin_Enc',\n",
    "            'Destination_Enc']"
   ]
  },
  {
   "cell_type": "code",
   "execution_count": 30,
   "id": "ee09b0fe",
   "metadata": {
    "execution": {
     "iopub.execute_input": "2022-02-26T21:43:26.414307Z",
     "iopub.status.busy": "2022-02-26T21:43:26.413695Z",
     "iopub.status.idle": "2022-02-26T21:43:26.467910Z",
     "shell.execute_reply": "2022-02-26T21:43:26.468484Z",
     "shell.execute_reply.started": "2022-02-26T21:37:06.963497Z"
    },
    "papermill": {
     "duration": 0.11564,
     "end_time": "2022-02-26T21:43:26.468665",
     "exception": false,
     "start_time": "2022-02-26T21:43:26.353025",
     "status": "completed"
    },
    "tags": []
   },
   "outputs": [],
   "source": [
    "from sklearn.model_selection import train_test_split\n",
    "X_train, X_val, y_train, y_val = train_test_split(trn_data[features], trn_data[target_feature], test_size = 0.15, random_state = 42)"
   ]
  },
  {
   "cell_type": "markdown",
   "id": "eab8a39a",
   "metadata": {
    "papermill": {
     "duration": 0.05807,
     "end_time": "2022-02-26T21:43:26.584888",
     "exception": false,
     "start_time": "2022-02-26T21:43:26.526818",
     "status": "completed"
    },
    "tags": []
   },
   "source": [
    "fit(X, y, *, sample_weight=None, base_margin=None, eval_set=None, eval_metric=None, early_stopping_rounds=None, verbose=True, xgb_model=None, sample_weight_eval_set=None, base_margin_eval_set=None, feature_weights=None, callbacks=None)"
   ]
  },
  {
   "cell_type": "code",
   "execution_count": 31,
   "id": "635da12d",
   "metadata": {
    "execution": {
     "iopub.execute_input": "2022-02-26T21:43:26.706913Z",
     "iopub.status.busy": "2022-02-26T21:43:26.706290Z",
     "iopub.status.idle": "2022-02-26T21:43:28.136465Z",
     "shell.execute_reply": "2022-02-26T21:43:28.136922Z",
     "shell.execute_reply.started": "2022-02-26T21:37:06.977971Z"
    },
    "papermill": {
     "duration": 1.492247,
     "end_time": "2022-02-26T21:43:28.137091",
     "exception": false,
     "start_time": "2022-02-26T21:43:26.644844",
     "status": "completed"
    },
    "tags": []
   },
   "outputs": [
    {
     "name": "stdout",
     "output_type": "stream",
     "text": [
      "[0]\tvalidation_0-logloss:0.58799\n",
      "[1]\tvalidation_0-logloss:0.53017\n",
      "[2]\tvalidation_0-logloss:0.49723\n",
      "[3]\tvalidation_0-logloss:0.47423\n",
      "[4]\tvalidation_0-logloss:0.45927\n",
      "[5]\tvalidation_0-logloss:0.45032\n",
      "[6]\tvalidation_0-logloss:0.44217\n",
      "[7]\tvalidation_0-logloss:0.43658\n",
      "[8]\tvalidation_0-logloss:0.43378\n",
      "[9]\tvalidation_0-logloss:0.43382\n",
      "[10]\tvalidation_0-logloss:0.43390\n",
      "[11]\tvalidation_0-logloss:0.43399\n",
      "[12]\tvalidation_0-logloss:0.43379\n",
      "[13]\tvalidation_0-logloss:0.43304\n",
      "[14]\tvalidation_0-logloss:0.43304\n",
      "[15]\tvalidation_0-logloss:0.43330\n",
      "[16]\tvalidation_0-logloss:0.43281\n",
      "[17]\tvalidation_0-logloss:0.43244\n",
      "[18]\tvalidation_0-logloss:0.43313\n",
      "[19]\tvalidation_0-logloss:0.43382\n",
      "[20]\tvalidation_0-logloss:0.43365\n",
      "[21]\tvalidation_0-logloss:0.43376\n",
      "[22]\tvalidation_0-logloss:0.43468\n",
      "[23]\tvalidation_0-logloss:0.43441\n",
      "[24]\tvalidation_0-logloss:0.43426\n",
      "[25]\tvalidation_0-logloss:0.43445\n",
      "[26]\tvalidation_0-logloss:0.43472\n",
      "[27]\tvalidation_0-logloss:0.43207\n",
      "[28]\tvalidation_0-logloss:0.43336\n",
      "[29]\tvalidation_0-logloss:0.43347\n",
      "[30]\tvalidation_0-logloss:0.43372\n",
      "[31]\tvalidation_0-logloss:0.43500\n",
      "[32]\tvalidation_0-logloss:0.43416\n",
      "[33]\tvalidation_0-logloss:0.43606\n",
      "[34]\tvalidation_0-logloss:0.43638\n",
      "[35]\tvalidation_0-logloss:0.43677\n",
      "[36]\tvalidation_0-logloss:0.43596\n",
      "[37]\tvalidation_0-logloss:0.43619\n",
      "[38]\tvalidation_0-logloss:0.43658\n",
      "[39]\tvalidation_0-logloss:0.43674\n",
      "[40]\tvalidation_0-logloss:0.43773\n",
      "[41]\tvalidation_0-logloss:0.43803\n",
      "[42]\tvalidation_0-logloss:0.43806\n",
      "[43]\tvalidation_0-logloss:0.43793\n",
      "[44]\tvalidation_0-logloss:0.43646\n",
      "[45]\tvalidation_0-logloss:0.43527\n",
      "[46]\tvalidation_0-logloss:0.43557\n",
      "[47]\tvalidation_0-logloss:0.43677\n",
      "[48]\tvalidation_0-logloss:0.43812\n",
      "[49]\tvalidation_0-logloss:0.43834\n",
      "[50]\tvalidation_0-logloss:0.43792\n",
      "[51]\tvalidation_0-logloss:0.43819\n",
      "[52]\tvalidation_0-logloss:0.43928\n",
      "[53]\tvalidation_0-logloss:0.43882\n",
      "[54]\tvalidation_0-logloss:0.43912\n",
      "[55]\tvalidation_0-logloss:0.43990\n",
      "[56]\tvalidation_0-logloss:0.43993\n",
      "[57]\tvalidation_0-logloss:0.44152\n",
      "[58]\tvalidation_0-logloss:0.44196\n",
      "[59]\tvalidation_0-logloss:0.44288\n",
      "[60]\tvalidation_0-logloss:0.44420\n",
      "[61]\tvalidation_0-logloss:0.44493\n",
      "[62]\tvalidation_0-logloss:0.44551\n",
      "[63]\tvalidation_0-logloss:0.44520\n",
      "[64]\tvalidation_0-logloss:0.44606\n",
      "[65]\tvalidation_0-logloss:0.44681\n",
      "[66]\tvalidation_0-logloss:0.44723\n",
      "[67]\tvalidation_0-logloss:0.44775\n",
      "[68]\tvalidation_0-logloss:0.44737\n",
      "[69]\tvalidation_0-logloss:0.44732\n",
      "[70]\tvalidation_0-logloss:0.44773\n",
      "[71]\tvalidation_0-logloss:0.44795\n",
      "[72]\tvalidation_0-logloss:0.44841\n",
      "[73]\tvalidation_0-logloss:0.44775\n",
      "[74]\tvalidation_0-logloss:0.44747\n",
      "[75]\tvalidation_0-logloss:0.44710\n",
      "[76]\tvalidation_0-logloss:0.44696\n",
      "[77]\tvalidation_0-logloss:0.44697\n",
      "[78]\tvalidation_0-logloss:0.44688\n",
      "[79]\tvalidation_0-logloss:0.44818\n",
      "[80]\tvalidation_0-logloss:0.44895\n",
      "[81]\tvalidation_0-logloss:0.44921\n",
      "[82]\tvalidation_0-logloss:0.44948\n",
      "[83]\tvalidation_0-logloss:0.45010\n",
      "[84]\tvalidation_0-logloss:0.45034\n",
      "[85]\tvalidation_0-logloss:0.45106\n",
      "[86]\tvalidation_0-logloss:0.45230\n",
      "[87]\tvalidation_0-logloss:0.45472\n",
      "[88]\tvalidation_0-logloss:0.45525\n",
      "[89]\tvalidation_0-logloss:0.45588\n",
      "[90]\tvalidation_0-logloss:0.45592\n",
      "[91]\tvalidation_0-logloss:0.45664\n",
      "[92]\tvalidation_0-logloss:0.45634\n",
      "[93]\tvalidation_0-logloss:0.45673\n",
      "[94]\tvalidation_0-logloss:0.45712\n",
      "[95]\tvalidation_0-logloss:0.45755\n",
      "[96]\tvalidation_0-logloss:0.45711\n",
      "[97]\tvalidation_0-logloss:0.45735\n",
      "[98]\tvalidation_0-logloss:0.45714\n",
      "[99]\tvalidation_0-logloss:0.45823\n"
     ]
    },
    {
     "data": {
      "text/plain": [
       "XGBClassifier(base_score=0.5, booster='gbtree', colsample_bylevel=1,\n",
       "              colsample_bynode=1, colsample_bytree=1, enable_categorical=False,\n",
       "              gamma=0, gpu_id=-1, importance_type=None,\n",
       "              interaction_constraints='', learning_rate=0.300000012,\n",
       "              max_delta_step=0, max_depth=6, min_child_weight=1, missing=nan,\n",
       "              monotone_constraints='()', n_estimators=100, n_jobs=4,\n",
       "              num_parallel_tree=1, predictor='auto', random_state=0,\n",
       "              reg_alpha=0, reg_lambda=1, scale_pos_weight=1, subsample=1,\n",
       "              tree_method='exact', validate_parameters=1, verbosity=None)"
      ]
     },
     "execution_count": 31,
     "metadata": {},
     "output_type": "execute_result"
    }
   ],
   "source": [
    "from xgboost import XGBClassifier\n",
    "cls = XGBClassifier()\n",
    "cls.fit(X_train, y_train, eval_set=[(X_val, y_val)], eval_metric='logloss', early_stopping_rounds=150, verbose=True)"
   ]
  },
  {
   "cell_type": "code",
   "execution_count": 32,
   "id": "3ba53154",
   "metadata": {
    "execution": {
     "iopub.execute_input": "2022-02-26T21:43:28.351409Z",
     "iopub.status.busy": "2022-02-26T21:43:28.350685Z",
     "iopub.status.idle": "2022-02-26T21:43:28.357558Z",
     "shell.execute_reply": "2022-02-26T21:43:28.357015Z",
     "shell.execute_reply.started": "2022-02-26T21:37:38.916778Z"
    },
    "papermill": {
     "duration": 0.118128,
     "end_time": "2022-02-26T21:43:28.357689",
     "exception": false,
     "start_time": "2022-02-26T21:43:28.239561",
     "status": "completed"
    },
    "tags": []
   },
   "outputs": [
    {
     "data": {
      "text/html": [
       "<div>\n",
       "<style scoped>\n",
       "    .dataframe tbody tr th:only-of-type {\n",
       "        vertical-align: middle;\n",
       "    }\n",
       "\n",
       "    .dataframe tbody tr th {\n",
       "        vertical-align: top;\n",
       "    }\n",
       "\n",
       "    .dataframe thead th {\n",
       "        text-align: right;\n",
       "    }\n",
       "</style>\n",
       "<table border=\"1\" class=\"dataframe\">\n",
       "  <thead>\n",
       "    <tr style=\"text-align: right;\">\n",
       "      <th></th>\n",
       "      <th>Age</th>\n",
       "      <th>RoomService</th>\n",
       "      <th>FoodCourt</th>\n",
       "      <th>ShoppingMall</th>\n",
       "      <th>Spa</th>\n",
       "      <th>VRDeck</th>\n",
       "      <th>Name_Enc</th>\n",
       "      <th>VIP_Enc</th>\n",
       "      <th>Total_Billed</th>\n",
       "      <th>HomePlanet_Enc</th>\n",
       "      <th>CryoSleep_Enc</th>\n",
       "      <th>Cabin_Enc</th>\n",
       "      <th>Destination_Enc</th>\n",
       "    </tr>\n",
       "  </thead>\n",
       "  <tbody>\n",
       "    <tr>\n",
       "      <th>0</th>\n",
       "      <td>27.00</td>\n",
       "      <td>0.00</td>\n",
       "      <td>0.00</td>\n",
       "      <td>0.00</td>\n",
       "      <td>0.00</td>\n",
       "      <td>0.00</td>\n",
       "      <td>8814</td>\n",
       "      <td>0</td>\n",
       "      <td>0.00</td>\n",
       "      <td>0</td>\n",
       "      <td>1</td>\n",
       "      <td>8298</td>\n",
       "      <td>2</td>\n",
       "    </tr>\n",
       "    <tr>\n",
       "      <th>1</th>\n",
       "      <td>19.00</td>\n",
       "      <td>0.00</td>\n",
       "      <td>9.00</td>\n",
       "      <td>0.00</td>\n",
       "      <td>2,823.00</td>\n",
       "      <td>0.00</td>\n",
       "      <td>7310</td>\n",
       "      <td>0</td>\n",
       "      <td>2,832.00</td>\n",
       "      <td>0</td>\n",
       "      <td>0</td>\n",
       "      <td>5564</td>\n",
       "      <td>2</td>\n",
       "    </tr>\n",
       "    <tr>\n",
       "      <th>2</th>\n",
       "      <td>31.00</td>\n",
       "      <td>0.00</td>\n",
       "      <td>0.00</td>\n",
       "      <td>0.00</td>\n",
       "      <td>0.00</td>\n",
       "      <td>0.00</td>\n",
       "      <td>10131</td>\n",
       "      <td>0</td>\n",
       "      <td>0.00</td>\n",
       "      <td>1</td>\n",
       "      <td>1</td>\n",
       "      <td>856</td>\n",
       "      <td>0</td>\n",
       "    </tr>\n",
       "    <tr>\n",
       "      <th>3</th>\n",
       "      <td>38.00</td>\n",
       "      <td>0.00</td>\n",
       "      <td>6,652.00</td>\n",
       "      <td>0.00</td>\n",
       "      <td>181.00</td>\n",
       "      <td>585.00</td>\n",
       "      <td>8202</td>\n",
       "      <td>0</td>\n",
       "      <td>7,418.00</td>\n",
       "      <td>1</td>\n",
       "      <td>0</td>\n",
       "      <td>858</td>\n",
       "      <td>2</td>\n",
       "    </tr>\n",
       "    <tr>\n",
       "      <th>4</th>\n",
       "      <td>20.00</td>\n",
       "      <td>10.00</td>\n",
       "      <td>0.00</td>\n",
       "      <td>635.00</td>\n",
       "      <td>0.00</td>\n",
       "      <td>0.00</td>\n",
       "      <td>1996</td>\n",
       "      <td>0</td>\n",
       "      <td>645.00</td>\n",
       "      <td>0</td>\n",
       "      <td>0</td>\n",
       "      <td>5785</td>\n",
       "      <td>2</td>\n",
       "    </tr>\n",
       "  </tbody>\n",
       "</table>\n",
       "</div>"
      ],
      "text/plain": [
       "    Age  RoomService  FoodCourt  ShoppingMall      Spa  VRDeck  Name_Enc  \\\n",
       "0 27.00         0.00       0.00          0.00     0.00    0.00      8814   \n",
       "1 19.00         0.00       9.00          0.00 2,823.00    0.00      7310   \n",
       "2 31.00         0.00       0.00          0.00     0.00    0.00     10131   \n",
       "3 38.00         0.00   6,652.00          0.00   181.00  585.00      8202   \n",
       "4 20.00        10.00       0.00        635.00     0.00    0.00      1996   \n",
       "\n",
       "   VIP_Enc  Total_Billed  HomePlanet_Enc  CryoSleep_Enc  Cabin_Enc  \\\n",
       "0        0          0.00               0              1       8298   \n",
       "1        0      2,832.00               0              0       5564   \n",
       "2        0          0.00               1              1        856   \n",
       "3        0      7,418.00               1              0        858   \n",
       "4        0        645.00               0              0       5785   \n",
       "\n",
       "   Destination_Enc  \n",
       "0                2  \n",
       "1                2  \n",
       "2                0  \n",
       "3                2  \n",
       "4                2  "
      ]
     },
     "execution_count": 32,
     "metadata": {},
     "output_type": "execute_result"
    }
   ],
   "source": [
    "tst_data[features].head()"
   ]
  },
  {
   "cell_type": "code",
   "execution_count": 33,
   "id": "ee550c98",
   "metadata": {
    "execution": {
     "iopub.execute_input": "2022-02-26T21:43:28.564671Z",
     "iopub.status.busy": "2022-02-26T21:43:28.564039Z",
     "iopub.status.idle": "2022-02-26T21:43:28.579875Z",
     "shell.execute_reply": "2022-02-26T21:43:28.580422Z",
     "shell.execute_reply.started": "2022-02-26T21:40:00.117655Z"
    },
    "papermill": {
     "duration": 0.12072,
     "end_time": "2022-02-26T21:43:28.580620",
     "exception": false,
     "start_time": "2022-02-26T21:43:28.459900",
     "status": "completed"
    },
    "tags": []
   },
   "outputs": [],
   "source": [
    "from sklearn.metrics import accuracy_score\n",
    "val_preds = cls.predict(X_val[features])\n",
    "accuracy = accuracy_score(val_preds, y_val)"
   ]
  },
  {
   "cell_type": "code",
   "execution_count": 34,
   "id": "871e2e72",
   "metadata": {
    "execution": {
     "iopub.execute_input": "2022-02-26T21:43:28.786993Z",
     "iopub.status.busy": "2022-02-26T21:43:28.786342Z",
     "iopub.status.idle": "2022-02-26T21:43:28.788788Z",
     "shell.execute_reply": "2022-02-26T21:43:28.789295Z",
     "shell.execute_reply.started": "2022-02-26T21:41:41.198722Z"
    },
    "papermill": {
     "duration": 0.107389,
     "end_time": "2022-02-26T21:43:28.789451",
     "exception": false,
     "start_time": "2022-02-26T21:43:28.682062",
     "status": "completed"
    },
    "tags": []
   },
   "outputs": [
    {
     "data": {
      "text/plain": [
       "(4277, 14)"
      ]
     },
     "execution_count": 34,
     "metadata": {},
     "output_type": "execute_result"
    }
   ],
   "source": [
    "tst_data.shape"
   ]
  },
  {
   "cell_type": "code",
   "execution_count": 35,
   "id": "4b23c76d",
   "metadata": {
    "execution": {
     "iopub.execute_input": "2022-02-26T21:43:28.992930Z",
     "iopub.status.busy": "2022-02-26T21:43:28.992306Z",
     "iopub.status.idle": "2022-02-26T21:43:28.997268Z",
     "shell.execute_reply": "2022-02-26T21:43:28.997809Z",
     "shell.execute_reply.started": "2022-02-26T21:41:21.189969Z"
    },
    "papermill": {
     "duration": 0.107006,
     "end_time": "2022-02-26T21:43:28.997988",
     "exception": false,
     "start_time": "2022-02-26T21:43:28.890982",
     "status": "completed"
    },
    "tags": []
   },
   "outputs": [
    {
     "data": {
      "text/plain": [
       "1304"
      ]
     },
     "execution_count": 35,
     "metadata": {},
     "output_type": "execute_result"
    }
   ],
   "source": [
    "len(val_preds)"
   ]
  },
  {
   "cell_type": "code",
   "execution_count": 36,
   "id": "cf24b5c8",
   "metadata": {
    "execution": {
     "iopub.execute_input": "2022-02-26T21:43:29.204383Z",
     "iopub.status.busy": "2022-02-26T21:43:29.203709Z",
     "iopub.status.idle": "2022-02-26T21:43:29.209547Z",
     "shell.execute_reply": "2022-02-26T21:43:29.208956Z",
     "shell.execute_reply.started": "2022-02-26T21:41:31.583003Z"
    },
    "papermill": {
     "duration": 0.107635,
     "end_time": "2022-02-26T21:43:29.209678",
     "exception": false,
     "start_time": "2022-02-26T21:43:29.102043",
     "status": "completed"
    },
    "tags": []
   },
   "outputs": [
    {
     "data": {
      "text/plain": [
       "(4277, 2)"
      ]
     },
     "execution_count": 36,
     "metadata": {},
     "output_type": "execute_result"
    }
   ],
   "source": [
    "sub.shape"
   ]
  },
  {
   "cell_type": "code",
   "execution_count": 37,
   "id": "c1897fc8",
   "metadata": {
    "execution": {
     "iopub.execute_input": "2022-02-26T21:43:29.411720Z",
     "iopub.status.busy": "2022-02-26T21:43:29.410752Z",
     "iopub.status.idle": "2022-02-26T21:43:29.426376Z",
     "shell.execute_reply": "2022-02-26T21:43:29.426993Z",
     "shell.execute_reply.started": "2022-02-26T21:42:00.613826Z"
    },
    "papermill": {
     "duration": 0.117982,
     "end_time": "2022-02-26T21:43:29.427182",
     "exception": false,
     "start_time": "2022-02-26T21:43:29.309200",
     "status": "completed"
    },
    "tags": []
   },
   "outputs": [],
   "source": [
    "preds = cls.predict(tst_data[features])"
   ]
  },
  {
   "cell_type": "code",
   "execution_count": 38,
   "id": "9fe9a751",
   "metadata": {
    "execution": {
     "iopub.execute_input": "2022-02-26T21:43:29.633601Z",
     "iopub.status.busy": "2022-02-26T21:43:29.632620Z",
     "iopub.status.idle": "2022-02-26T21:43:29.641389Z",
     "shell.execute_reply": "2022-02-26T21:43:29.641964Z",
     "shell.execute_reply.started": "2022-02-26T21:42:05.764540Z"
    },
    "papermill": {
     "duration": 0.113752,
     "end_time": "2022-02-26T21:43:29.642117",
     "exception": false,
     "start_time": "2022-02-26T21:43:29.528365",
     "status": "completed"
    },
    "tags": []
   },
   "outputs": [
    {
     "data": {
      "text/html": [
       "<div>\n",
       "<style scoped>\n",
       "    .dataframe tbody tr th:only-of-type {\n",
       "        vertical-align: middle;\n",
       "    }\n",
       "\n",
       "    .dataframe tbody tr th {\n",
       "        vertical-align: top;\n",
       "    }\n",
       "\n",
       "    .dataframe thead th {\n",
       "        text-align: right;\n",
       "    }\n",
       "</style>\n",
       "<table border=\"1\" class=\"dataframe\">\n",
       "  <thead>\n",
       "    <tr style=\"text-align: right;\">\n",
       "      <th></th>\n",
       "      <th>PassengerId</th>\n",
       "      <th>Transported</th>\n",
       "    </tr>\n",
       "  </thead>\n",
       "  <tbody>\n",
       "    <tr>\n",
       "      <th>0</th>\n",
       "      <td>0013_01</td>\n",
       "      <td>False</td>\n",
       "    </tr>\n",
       "    <tr>\n",
       "      <th>1</th>\n",
       "      <td>0018_01</td>\n",
       "      <td>False</td>\n",
       "    </tr>\n",
       "    <tr>\n",
       "      <th>2</th>\n",
       "      <td>0019_01</td>\n",
       "      <td>True</td>\n",
       "    </tr>\n",
       "    <tr>\n",
       "      <th>3</th>\n",
       "      <td>0021_01</td>\n",
       "      <td>True</td>\n",
       "    </tr>\n",
       "    <tr>\n",
       "      <th>4</th>\n",
       "      <td>0023_01</td>\n",
       "      <td>True</td>\n",
       "    </tr>\n",
       "    <tr>\n",
       "      <th>...</th>\n",
       "      <td>...</td>\n",
       "      <td>...</td>\n",
       "    </tr>\n",
       "    <tr>\n",
       "      <th>4272</th>\n",
       "      <td>9266_02</td>\n",
       "      <td>True</td>\n",
       "    </tr>\n",
       "    <tr>\n",
       "      <th>4273</th>\n",
       "      <td>9269_01</td>\n",
       "      <td>False</td>\n",
       "    </tr>\n",
       "    <tr>\n",
       "      <th>4274</th>\n",
       "      <td>9271_01</td>\n",
       "      <td>True</td>\n",
       "    </tr>\n",
       "    <tr>\n",
       "      <th>4275</th>\n",
       "      <td>9273_01</td>\n",
       "      <td>True</td>\n",
       "    </tr>\n",
       "    <tr>\n",
       "      <th>4276</th>\n",
       "      <td>9277_01</td>\n",
       "      <td>True</td>\n",
       "    </tr>\n",
       "  </tbody>\n",
       "</table>\n",
       "<p>4277 rows × 2 columns</p>\n",
       "</div>"
      ],
      "text/plain": [
       "     PassengerId  Transported\n",
       "0        0013_01        False\n",
       "1        0018_01        False\n",
       "2        0019_01         True\n",
       "3        0021_01         True\n",
       "4        0023_01         True\n",
       "...          ...          ...\n",
       "4272     9266_02         True\n",
       "4273     9269_01        False\n",
       "4274     9271_01         True\n",
       "4275     9273_01         True\n",
       "4276     9277_01         True\n",
       "\n",
       "[4277 rows x 2 columns]"
      ]
     },
     "execution_count": 38,
     "metadata": {},
     "output_type": "execute_result"
    }
   ],
   "source": [
    "sub['Transported'] = preds\n",
    "sub"
   ]
  },
  {
   "cell_type": "code",
   "execution_count": 39,
   "id": "0003bc94",
   "metadata": {
    "execution": {
     "iopub.execute_input": "2022-02-26T21:43:29.845656Z",
     "iopub.status.busy": "2022-02-26T21:43:29.844590Z",
     "iopub.status.idle": "2022-02-26T21:43:29.859296Z",
     "shell.execute_reply": "2022-02-26T21:43:29.859838Z",
     "shell.execute_reply.started": "2022-02-26T21:42:44.077414Z"
    },
    "papermill": {
     "duration": 0.118459,
     "end_time": "2022-02-26T21:43:29.860010",
     "exception": false,
     "start_time": "2022-02-26T21:43:29.741551",
     "status": "completed"
    },
    "tags": []
   },
   "outputs": [],
   "source": [
    "sub.to_csv('submission.csv', index=False)"
   ]
  },
  {
   "cell_type": "markdown",
   "id": "5dfc3f90",
   "metadata": {
    "papermill": {
     "duration": 0.101,
     "end_time": "2022-02-26T21:43:30.060174",
     "exception": false,
     "start_time": "2022-02-26T21:43:29.959174",
     "status": "completed"
    },
    "tags": []
   },
   "source": [
    "# Baseline Model"
   ]
  },
  {
   "cell_type": "code",
   "execution_count": null,
   "id": "de757390",
   "metadata": {
    "papermill": {
     "duration": 0.100909,
     "end_time": "2022-02-26T21:43:30.263249",
     "exception": false,
     "start_time": "2022-02-26T21:43:30.162340",
     "status": "completed"
    },
    "tags": []
   },
   "outputs": [],
   "source": []
  }
 ],
 "metadata": {
  "kernelspec": {
   "display_name": "Python 3",
   "language": "python",
   "name": "python3"
  },
  "language_info": {
   "codemirror_mode": {
    "name": "ipython",
    "version": 3
   },
   "file_extension": ".py",
   "mimetype": "text/x-python",
   "name": "python",
   "nbconvert_exporter": "python",
   "pygments_lexer": "ipython3",
   "version": "3.7.12"
  },
  "papermill": {
   "default_parameters": {},
   "duration": 20.16344,
   "end_time": "2022-02-26T21:43:31.074007",
   "environment_variables": {},
   "exception": null,
   "input_path": "__notebook__.ipynb",
   "output_path": "__notebook__.ipynb",
   "parameters": {},
   "start_time": "2022-02-26T21:43:10.910567",
   "version": "2.3.3"
  }
 },
 "nbformat": 4,
 "nbformat_minor": 5
}
