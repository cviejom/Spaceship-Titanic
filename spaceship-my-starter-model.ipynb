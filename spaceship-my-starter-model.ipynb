{
 "cells": [
  {
   "cell_type": "markdown",
   "id": "e863f773",
   "metadata": {
    "papermill": {
     "duration": 0.047854,
     "end_time": "2022-02-27T05:22:07.115012",
     "exception": false,
     "start_time": "2022-02-27T05:22:07.067158",
     "status": "completed"
    },
    "tags": []
   },
   "source": [
    "# 🌌 Spaceship My Starter Model\n",
    "\n",
    "Hello... "
   ]
  },
  {
   "cell_type": "markdown",
   "id": "61051c67",
   "metadata": {
    "papermill": {
     "duration": 0.046316,
     "end_time": "2022-02-27T05:22:07.212248",
     "exception": false,
     "start_time": "2022-02-27T05:22:07.165932",
     "status": "completed"
    },
    "tags": []
   },
   "source": [
    "### File and Data Field Descriptions\n",
    "\n",
    "**train.csv** - Personal records for about two-thirds (~8700) of the passengers, to be used as training data.\n",
    "* PassengerId - A unique Id for each passenger. Each Id takes the form gggg_pp where gggg indicates a group the passenger is travelling with and pp is their number within the group. People in a group are often family members, but not always.\n",
    "* HomePlanet - The planet the passenger departed from, typically their planet of permanent residence.\n",
    "* CryoSleep - Indicates whether the passenger elected to be put into suspended animation for the duration of the voyage. Passengers in cryosleep are confined to their cabins.\n",
    "* Cabin - The cabin number where the passenger is staying. Takes the form deck/num/side, where side can be either P for Port or S for Starboard.\n",
    "* Destination - The planet the passenger will be debarking to.\n",
    "* Age - The age of the passenger.\n",
    "* VIP - Whether the passenger has paid for special VIP service during the voyage.\n",
    "* RoomService, FoodCourt, ShoppingMall, Spa, VRDeck - Amount the passenger has billed at each of the Spaceship Titanic's many luxury amenities.\n",
    "* Name - The first and last names of the passenger.\n",
    "* Transported - Whether the passenger was transported to another dimension. This is the target, the column you are trying to predict.\n",
    "\n",
    "**test.csv** - Personal records for the remaining one-third (~4300) of the passengers, to be used as test data. Your task is to predict the value of Transported for the passengers in this set.\n",
    "\n",
    "**sample_submission.csv** - A submission file in the correct format.\n",
    "\n",
    "* PassengerId - Id for each passenger in the test set.\n",
    "* Transported - The target. For each passenger, predict either True or False."
   ]
  },
  {
   "cell_type": "markdown",
   "id": "ae79005e",
   "metadata": {
    "papermill": {
     "duration": 0.058898,
     "end_time": "2022-02-27T05:22:07.317208",
     "exception": false,
     "start_time": "2022-02-27T05:22:07.258310",
     "status": "completed"
    },
    "tags": []
   },
   "source": [
    "# Loading Libraries..."
   ]
  },
  {
   "cell_type": "code",
   "execution_count": 1,
   "id": "6af82810",
   "metadata": {
    "_cell_guid": "b1076dfc-b9ad-4769-8c92-a6c4dae69d19",
    "_uuid": "8f2839f25d086af736a60e9eeb907d3b93b6e0e5",
    "execution": {
     "iopub.execute_input": "2022-02-27T05:22:07.425060Z",
     "iopub.status.busy": "2022-02-27T05:22:07.423997Z",
     "iopub.status.idle": "2022-02-27T05:22:07.434220Z",
     "shell.execute_reply": "2022-02-27T05:22:07.435028Z",
     "shell.execute_reply.started": "2022-02-27T05:12:06.525096Z"
    },
    "papermill": {
     "duration": 0.065729,
     "end_time": "2022-02-27T05:22:07.435381",
     "exception": false,
     "start_time": "2022-02-27T05:22:07.369652",
     "status": "completed"
    },
    "tags": []
   },
   "outputs": [
    {
     "name": "stdout",
     "output_type": "stream",
     "text": [
      "/kaggle/input/spaceship-titanic/sample_submission.csv\n",
      "/kaggle/input/spaceship-titanic/train.csv\n",
      "/kaggle/input/spaceship-titanic/test.csv\n"
     ]
    }
   ],
   "source": [
    "# This Python 3 environment comes with many helpful analytics libraries installed\n",
    "# It is defined by the kaggle/python Docker image: https://github.com/kaggle/docker-python\n",
    "# For example, here's several helpful packages to load\n",
    "\n",
    "import numpy as np # linear algebra\n",
    "import pandas as pd # data processing, CSV file I/O (e.g. pd.read_csv)\n",
    "\n",
    "# Input data files are available in the read-only \"../input/\" directory\n",
    "# For example, running this (by clicking run or pressing Shift+Enter) will list all files under the input directory\n",
    "\n",
    "import os\n",
    "for dirname, _, filenames in os.walk('/kaggle/input'):\n",
    "    for filename in filenames:\n",
    "        print(os.path.join(dirname, filename))\n",
    "\n",
    "# You can write up to 20GB to the current directory (/kaggle/working/) that gets preserved as output when you create a version using \"Save & Run All\" \n",
    "# You can also write temporary files to /kaggle/temp/, but they won't be saved outside of the current session"
   ]
  },
  {
   "cell_type": "markdown",
   "id": "01874d8e",
   "metadata": {
    "papermill": {
     "duration": 0.046048,
     "end_time": "2022-02-27T05:22:07.530574",
     "exception": false,
     "start_time": "2022-02-27T05:22:07.484526",
     "status": "completed"
    },
    "tags": []
   },
   "source": [
    "# Seeting Notebook Parameters..."
   ]
  },
  {
   "cell_type": "code",
   "execution_count": 2,
   "id": "34a5a1f8",
   "metadata": {
    "execution": {
     "iopub.execute_input": "2022-02-27T05:22:07.626549Z",
     "iopub.status.busy": "2022-02-27T05:22:07.625929Z",
     "iopub.status.idle": "2022-02-27T05:22:07.630549Z",
     "shell.execute_reply": "2022-02-27T05:22:07.630959Z",
     "shell.execute_reply.started": "2022-02-27T05:12:06.535590Z"
    },
    "papermill": {
     "duration": 0.054112,
     "end_time": "2022-02-27T05:22:07.631139",
     "exception": false,
     "start_time": "2022-02-27T05:22:07.577027",
     "status": "completed"
    },
    "tags": []
   },
   "outputs": [
    {
     "name": "stdout",
     "output_type": "stream",
     "text": [
      "CPU times: user 31 µs, sys: 5 µs, total: 36 µs\n",
      "Wall time: 39.1 µs\n"
     ]
    }
   ],
   "source": [
    "%%time\n",
    "# I like to disable my Notebook Warnings.\n",
    "import warnings\n",
    "warnings.filterwarnings('ignore')"
   ]
  },
  {
   "cell_type": "code",
   "execution_count": 3,
   "id": "90e689dc",
   "metadata": {
    "execution": {
     "iopub.execute_input": "2022-02-27T05:22:07.730498Z",
     "iopub.status.busy": "2022-02-27T05:22:07.729698Z",
     "iopub.status.idle": "2022-02-27T05:22:07.732902Z",
     "shell.execute_reply": "2022-02-27T05:22:07.733571Z",
     "shell.execute_reply.started": "2022-02-27T05:12:06.551249Z"
    },
    "papermill": {
     "duration": 0.05562,
     "end_time": "2022-02-27T05:22:07.733785",
     "exception": false,
     "start_time": "2022-02-27T05:22:07.678165",
     "status": "completed"
    },
    "tags": []
   },
   "outputs": [
    {
     "name": "stdout",
     "output_type": "stream",
     "text": [
      "CPU times: user 3 µs, sys: 1e+03 ns, total: 4 µs\n",
      "Wall time: 6.91 µs\n"
     ]
    }
   ],
   "source": [
    "%%time\n",
    "# Notebook Configuration...\n",
    "\n",
    "# Amount of data we want to load into the Model...\n",
    "DATA_ROWS = None\n",
    "# Dataframe, the amount of rows and cols to visualize...\n",
    "NROWS = 50\n",
    "NCOLS = 15\n",
    "# Main data location path...\n",
    "BASE_PATH = '...'"
   ]
  },
  {
   "cell_type": "code",
   "execution_count": 4,
   "id": "f9bc51b8",
   "metadata": {
    "execution": {
     "iopub.execute_input": "2022-02-27T05:22:07.842232Z",
     "iopub.status.busy": "2022-02-27T05:22:07.841303Z",
     "iopub.status.idle": "2022-02-27T05:22:07.848093Z",
     "shell.execute_reply": "2022-02-27T05:22:07.847561Z",
     "shell.execute_reply.started": "2022-02-27T05:12:06.563493Z"
    },
    "papermill": {
     "duration": 0.06344,
     "end_time": "2022-02-27T05:22:07.848235",
     "exception": false,
     "start_time": "2022-02-27T05:22:07.784795",
     "status": "completed"
    },
    "tags": []
   },
   "outputs": [
    {
     "name": "stdout",
     "output_type": "stream",
     "text": [
      "CPU times: user 81 µs, sys: 13 µs, total: 94 µs\n",
      "Wall time: 98.5 µs\n"
     ]
    }
   ],
   "source": [
    "%%time\n",
    "# Configure notebook display settings to only use 2 decimal places, tables look nicer.\n",
    "pd.options.display.float_format = '{:,.2f}'.format\n",
    "pd.set_option('display.max_columns', NCOLS) \n",
    "pd.set_option('display.max_rows', NROWS)"
   ]
  },
  {
   "cell_type": "markdown",
   "id": "451050ce",
   "metadata": {
    "papermill": {
     "duration": 0.04889,
     "end_time": "2022-02-27T05:22:07.948544",
     "exception": false,
     "start_time": "2022-02-27T05:22:07.899654",
     "status": "completed"
    },
    "tags": []
   },
   "source": [
    "# Loading Information from CSV..."
   ]
  },
  {
   "cell_type": "code",
   "execution_count": 5,
   "id": "55e52c54",
   "metadata": {
    "execution": {
     "iopub.execute_input": "2022-02-27T05:22:08.046710Z",
     "iopub.status.busy": "2022-02-27T05:22:08.046139Z",
     "iopub.status.idle": "2022-02-27T05:22:08.149584Z",
     "shell.execute_reply": "2022-02-27T05:22:08.150091Z",
     "shell.execute_reply.started": "2022-02-27T05:12:06.572710Z"
    },
    "papermill": {
     "duration": 0.153955,
     "end_time": "2022-02-27T05:22:08.150261",
     "exception": false,
     "start_time": "2022-02-27T05:22:07.996306",
     "status": "completed"
    },
    "tags": []
   },
   "outputs": [
    {
     "name": "stdout",
     "output_type": "stream",
     "text": [
      "CPU times: user 36.7 ms, sys: 9.41 ms, total: 46.1 ms\n",
      "Wall time: 98.5 ms\n"
     ]
    }
   ],
   "source": [
    "%%time\n",
    "trn_data = pd.read_csv('/kaggle/input/spaceship-titanic/train.csv')\n",
    "tst_data = pd.read_csv('/kaggle/input/spaceship-titanic/test.csv')\n",
    "\n",
    "sub = pd.read_csv('/kaggle/input/spaceship-titanic/sample_submission.csv')"
   ]
  },
  {
   "cell_type": "markdown",
   "id": "aa826b37",
   "metadata": {
    "papermill": {
     "duration": 0.047833,
     "end_time": "2022-02-27T05:22:08.246812",
     "exception": false,
     "start_time": "2022-02-27T05:22:08.198979",
     "status": "completed"
    },
    "tags": []
   },
   "source": [
    "# Exploring the Information Available..."
   ]
  },
  {
   "cell_type": "code",
   "execution_count": 6,
   "id": "fa3aa428",
   "metadata": {
    "execution": {
     "iopub.execute_input": "2022-02-27T05:22:08.355597Z",
     "iopub.status.busy": "2022-02-27T05:22:08.354648Z",
     "iopub.status.idle": "2022-02-27T05:22:08.379581Z",
     "shell.execute_reply": "2022-02-27T05:22:08.378876Z",
     "shell.execute_reply.started": "2022-02-27T05:12:06.635153Z"
    },
    "papermill": {
     "duration": 0.08291,
     "end_time": "2022-02-27T05:22:08.379737",
     "exception": false,
     "start_time": "2022-02-27T05:22:08.296827",
     "status": "completed"
    },
    "tags": []
   },
   "outputs": [
    {
     "name": "stdout",
     "output_type": "stream",
     "text": [
      "<class 'pandas.core.frame.DataFrame'>\n",
      "RangeIndex: 8693 entries, 0 to 8692\n",
      "Data columns (total 14 columns):\n",
      " #   Column        Non-Null Count  Dtype  \n",
      "---  ------        --------------  -----  \n",
      " 0   PassengerId   8693 non-null   object \n",
      " 1   HomePlanet    8492 non-null   object \n",
      " 2   CryoSleep     8476 non-null   object \n",
      " 3   Cabin         8494 non-null   object \n",
      " 4   Destination   8511 non-null   object \n",
      " 5   Age           8514 non-null   float64\n",
      " 6   VIP           8490 non-null   object \n",
      " 7   RoomService   8512 non-null   float64\n",
      " 8   FoodCourt     8510 non-null   float64\n",
      " 9   ShoppingMall  8485 non-null   float64\n",
      " 10  Spa           8510 non-null   float64\n",
      " 11  VRDeck        8505 non-null   float64\n",
      " 12  Name          8493 non-null   object \n",
      " 13  Transported   8693 non-null   bool   \n",
      "dtypes: bool(1), float64(6), object(7)\n",
      "memory usage: 891.5+ KB\n",
      "CPU times: user 15 ms, sys: 0 ns, total: 15 ms\n",
      "Wall time: 24.5 ms\n"
     ]
    }
   ],
   "source": [
    "%%time\n",
    "trn_data.info()"
   ]
  },
  {
   "cell_type": "code",
   "execution_count": 7,
   "id": "f93dbfe7",
   "metadata": {
    "execution": {
     "iopub.execute_input": "2022-02-27T05:22:08.481134Z",
     "iopub.status.busy": "2022-02-27T05:22:08.480536Z",
     "iopub.status.idle": "2022-02-27T05:22:08.502608Z",
     "shell.execute_reply": "2022-02-27T05:22:08.503097Z",
     "shell.execute_reply.started": "2022-02-27T05:12:06.658258Z"
    },
    "papermill": {
     "duration": 0.073956,
     "end_time": "2022-02-27T05:22:08.503274",
     "exception": false,
     "start_time": "2022-02-27T05:22:08.429318",
     "status": "completed"
    },
    "tags": []
   },
   "outputs": [
    {
     "name": "stdout",
     "output_type": "stream",
     "text": [
      "CPU times: user 111 µs, sys: 19 µs, total: 130 µs\n",
      "Wall time: 134 µs\n"
     ]
    },
    {
     "data": {
      "text/html": [
       "<div>\n",
       "<style scoped>\n",
       "    .dataframe tbody tr th:only-of-type {\n",
       "        vertical-align: middle;\n",
       "    }\n",
       "\n",
       "    .dataframe tbody tr th {\n",
       "        vertical-align: top;\n",
       "    }\n",
       "\n",
       "    .dataframe thead th {\n",
       "        text-align: right;\n",
       "    }\n",
       "</style>\n",
       "<table border=\"1\" class=\"dataframe\">\n",
       "  <thead>\n",
       "    <tr style=\"text-align: right;\">\n",
       "      <th></th>\n",
       "      <th>PassengerId</th>\n",
       "      <th>HomePlanet</th>\n",
       "      <th>CryoSleep</th>\n",
       "      <th>Cabin</th>\n",
       "      <th>Destination</th>\n",
       "      <th>Age</th>\n",
       "      <th>VIP</th>\n",
       "      <th>RoomService</th>\n",
       "      <th>FoodCourt</th>\n",
       "      <th>ShoppingMall</th>\n",
       "      <th>Spa</th>\n",
       "      <th>VRDeck</th>\n",
       "      <th>Name</th>\n",
       "      <th>Transported</th>\n",
       "    </tr>\n",
       "  </thead>\n",
       "  <tbody>\n",
       "    <tr>\n",
       "      <th>0</th>\n",
       "      <td>0001_01</td>\n",
       "      <td>Europa</td>\n",
       "      <td>False</td>\n",
       "      <td>B/0/P</td>\n",
       "      <td>TRAPPIST-1e</td>\n",
       "      <td>39.00</td>\n",
       "      <td>False</td>\n",
       "      <td>0.00</td>\n",
       "      <td>0.00</td>\n",
       "      <td>0.00</td>\n",
       "      <td>0.00</td>\n",
       "      <td>0.00</td>\n",
       "      <td>Maham Ofracculy</td>\n",
       "      <td>False</td>\n",
       "    </tr>\n",
       "    <tr>\n",
       "      <th>1</th>\n",
       "      <td>0002_01</td>\n",
       "      <td>Earth</td>\n",
       "      <td>False</td>\n",
       "      <td>F/0/S</td>\n",
       "      <td>TRAPPIST-1e</td>\n",
       "      <td>24.00</td>\n",
       "      <td>False</td>\n",
       "      <td>109.00</td>\n",
       "      <td>9.00</td>\n",
       "      <td>25.00</td>\n",
       "      <td>549.00</td>\n",
       "      <td>44.00</td>\n",
       "      <td>Juanna Vines</td>\n",
       "      <td>True</td>\n",
       "    </tr>\n",
       "    <tr>\n",
       "      <th>2</th>\n",
       "      <td>0003_01</td>\n",
       "      <td>Europa</td>\n",
       "      <td>False</td>\n",
       "      <td>A/0/S</td>\n",
       "      <td>TRAPPIST-1e</td>\n",
       "      <td>58.00</td>\n",
       "      <td>True</td>\n",
       "      <td>43.00</td>\n",
       "      <td>3,576.00</td>\n",
       "      <td>0.00</td>\n",
       "      <td>6,715.00</td>\n",
       "      <td>49.00</td>\n",
       "      <td>Altark Susent</td>\n",
       "      <td>False</td>\n",
       "    </tr>\n",
       "    <tr>\n",
       "      <th>3</th>\n",
       "      <td>0003_02</td>\n",
       "      <td>Europa</td>\n",
       "      <td>False</td>\n",
       "      <td>A/0/S</td>\n",
       "      <td>TRAPPIST-1e</td>\n",
       "      <td>33.00</td>\n",
       "      <td>False</td>\n",
       "      <td>0.00</td>\n",
       "      <td>1,283.00</td>\n",
       "      <td>371.00</td>\n",
       "      <td>3,329.00</td>\n",
       "      <td>193.00</td>\n",
       "      <td>Solam Susent</td>\n",
       "      <td>False</td>\n",
       "    </tr>\n",
       "    <tr>\n",
       "      <th>4</th>\n",
       "      <td>0004_01</td>\n",
       "      <td>Earth</td>\n",
       "      <td>False</td>\n",
       "      <td>F/1/S</td>\n",
       "      <td>TRAPPIST-1e</td>\n",
       "      <td>16.00</td>\n",
       "      <td>False</td>\n",
       "      <td>303.00</td>\n",
       "      <td>70.00</td>\n",
       "      <td>151.00</td>\n",
       "      <td>565.00</td>\n",
       "      <td>2.00</td>\n",
       "      <td>Willy Santantines</td>\n",
       "      <td>True</td>\n",
       "    </tr>\n",
       "  </tbody>\n",
       "</table>\n",
       "</div>"
      ],
      "text/plain": [
       "  PassengerId HomePlanet CryoSleep  Cabin  Destination   Age    VIP  \\\n",
       "0     0001_01     Europa     False  B/0/P  TRAPPIST-1e 39.00  False   \n",
       "1     0002_01      Earth     False  F/0/S  TRAPPIST-1e 24.00  False   \n",
       "2     0003_01     Europa     False  A/0/S  TRAPPIST-1e 58.00   True   \n",
       "3     0003_02     Europa     False  A/0/S  TRAPPIST-1e 33.00  False   \n",
       "4     0004_01      Earth     False  F/1/S  TRAPPIST-1e 16.00  False   \n",
       "\n",
       "   RoomService  FoodCourt  ShoppingMall      Spa  VRDeck               Name  \\\n",
       "0         0.00       0.00          0.00     0.00    0.00    Maham Ofracculy   \n",
       "1       109.00       9.00         25.00   549.00   44.00       Juanna Vines   \n",
       "2        43.00   3,576.00          0.00 6,715.00   49.00      Altark Susent   \n",
       "3         0.00   1,283.00        371.00 3,329.00  193.00       Solam Susent   \n",
       "4       303.00      70.00        151.00   565.00    2.00  Willy Santantines   \n",
       "\n",
       "   Transported  \n",
       "0        False  \n",
       "1         True  \n",
       "2        False  \n",
       "3        False  \n",
       "4         True  "
      ]
     },
     "execution_count": 7,
     "metadata": {},
     "output_type": "execute_result"
    }
   ],
   "source": [
    "%%time\n",
    "trn_data.head()"
   ]
  },
  {
   "cell_type": "code",
   "execution_count": 8,
   "id": "a203c4e6",
   "metadata": {
    "execution": {
     "iopub.execute_input": "2022-02-27T05:22:08.611687Z",
     "iopub.status.busy": "2022-02-27T05:22:08.611021Z",
     "iopub.status.idle": "2022-02-27T05:22:08.635326Z",
     "shell.execute_reply": "2022-02-27T05:22:08.634821Z",
     "shell.execute_reply.started": "2022-02-27T05:12:06.680384Z"
    },
    "papermill": {
     "duration": 0.081419,
     "end_time": "2022-02-27T05:22:08.635474",
     "exception": false,
     "start_time": "2022-02-27T05:22:08.554055",
     "status": "completed"
    },
    "tags": []
   },
   "outputs": [
    {
     "name": "stdout",
     "output_type": "stream",
     "text": [
      "CPU times: user 16 ms, sys: 0 ns, total: 16 ms\n",
      "Wall time: 17.7 ms\n"
     ]
    },
    {
     "data": {
      "text/html": [
       "<div>\n",
       "<style scoped>\n",
       "    .dataframe tbody tr th:only-of-type {\n",
       "        vertical-align: middle;\n",
       "    }\n",
       "\n",
       "    .dataframe tbody tr th {\n",
       "        vertical-align: top;\n",
       "    }\n",
       "\n",
       "    .dataframe thead th {\n",
       "        text-align: right;\n",
       "    }\n",
       "</style>\n",
       "<table border=\"1\" class=\"dataframe\">\n",
       "  <thead>\n",
       "    <tr style=\"text-align: right;\">\n",
       "      <th></th>\n",
       "      <th>Age</th>\n",
       "      <th>RoomService</th>\n",
       "      <th>FoodCourt</th>\n",
       "      <th>ShoppingMall</th>\n",
       "      <th>Spa</th>\n",
       "      <th>VRDeck</th>\n",
       "    </tr>\n",
       "  </thead>\n",
       "  <tbody>\n",
       "    <tr>\n",
       "      <th>count</th>\n",
       "      <td>8,514.00</td>\n",
       "      <td>8,512.00</td>\n",
       "      <td>8,510.00</td>\n",
       "      <td>8,485.00</td>\n",
       "      <td>8,510.00</td>\n",
       "      <td>8,505.00</td>\n",
       "    </tr>\n",
       "    <tr>\n",
       "      <th>mean</th>\n",
       "      <td>28.83</td>\n",
       "      <td>224.69</td>\n",
       "      <td>458.08</td>\n",
       "      <td>173.73</td>\n",
       "      <td>311.14</td>\n",
       "      <td>304.85</td>\n",
       "    </tr>\n",
       "    <tr>\n",
       "      <th>std</th>\n",
       "      <td>14.49</td>\n",
       "      <td>666.72</td>\n",
       "      <td>1,611.49</td>\n",
       "      <td>604.70</td>\n",
       "      <td>1,136.71</td>\n",
       "      <td>1,145.72</td>\n",
       "    </tr>\n",
       "    <tr>\n",
       "      <th>min</th>\n",
       "      <td>0.00</td>\n",
       "      <td>0.00</td>\n",
       "      <td>0.00</td>\n",
       "      <td>0.00</td>\n",
       "      <td>0.00</td>\n",
       "      <td>0.00</td>\n",
       "    </tr>\n",
       "    <tr>\n",
       "      <th>25%</th>\n",
       "      <td>19.00</td>\n",
       "      <td>0.00</td>\n",
       "      <td>0.00</td>\n",
       "      <td>0.00</td>\n",
       "      <td>0.00</td>\n",
       "      <td>0.00</td>\n",
       "    </tr>\n",
       "    <tr>\n",
       "      <th>50%</th>\n",
       "      <td>27.00</td>\n",
       "      <td>0.00</td>\n",
       "      <td>0.00</td>\n",
       "      <td>0.00</td>\n",
       "      <td>0.00</td>\n",
       "      <td>0.00</td>\n",
       "    </tr>\n",
       "    <tr>\n",
       "      <th>75%</th>\n",
       "      <td>38.00</td>\n",
       "      <td>47.00</td>\n",
       "      <td>76.00</td>\n",
       "      <td>27.00</td>\n",
       "      <td>59.00</td>\n",
       "      <td>46.00</td>\n",
       "    </tr>\n",
       "    <tr>\n",
       "      <th>max</th>\n",
       "      <td>79.00</td>\n",
       "      <td>14,327.00</td>\n",
       "      <td>29,813.00</td>\n",
       "      <td>23,492.00</td>\n",
       "      <td>22,408.00</td>\n",
       "      <td>24,133.00</td>\n",
       "    </tr>\n",
       "  </tbody>\n",
       "</table>\n",
       "</div>"
      ],
      "text/plain": [
       "           Age  RoomService  FoodCourt  ShoppingMall       Spa    VRDeck\n",
       "count 8,514.00     8,512.00   8,510.00      8,485.00  8,510.00  8,505.00\n",
       "mean     28.83       224.69     458.08        173.73    311.14    304.85\n",
       "std      14.49       666.72   1,611.49        604.70  1,136.71  1,145.72\n",
       "min       0.00         0.00       0.00          0.00      0.00      0.00\n",
       "25%      19.00         0.00       0.00          0.00      0.00      0.00\n",
       "50%      27.00         0.00       0.00          0.00      0.00      0.00\n",
       "75%      38.00        47.00      76.00         27.00     59.00     46.00\n",
       "max      79.00    14,327.00  29,813.00     23,492.00 22,408.00 24,133.00"
      ]
     },
     "execution_count": 8,
     "metadata": {},
     "output_type": "execute_result"
    }
   ],
   "source": [
    "%%time\n",
    "trn_data.describe()"
   ]
  },
  {
   "cell_type": "code",
   "execution_count": 9,
   "id": "d1a061cc",
   "metadata": {
    "execution": {
     "iopub.execute_input": "2022-02-27T05:22:08.741651Z",
     "iopub.status.busy": "2022-02-27T05:22:08.741006Z",
     "iopub.status.idle": "2022-02-27T05:22:08.743657Z",
     "shell.execute_reply": "2022-02-27T05:22:08.744381Z",
     "shell.execute_reply.started": "2022-02-27T05:12:06.712089Z"
    },
    "papermill": {
     "duration": 0.059148,
     "end_time": "2022-02-27T05:22:08.744593",
     "exception": false,
     "start_time": "2022-02-27T05:22:08.685445",
     "status": "completed"
    },
    "tags": []
   },
   "outputs": [
    {
     "name": "stdout",
     "output_type": "stream",
     "text": [
      "CPU times: user 6 µs, sys: 0 ns, total: 6 µs\n",
      "Wall time: 8.82 µs\n"
     ]
    }
   ],
   "source": [
    "%%time\n",
    "def describe_categ(df):\n",
    "    for col in df.columns:\n",
    "        unique_samples = list(df[col].unique())\n",
    "        unique_values = df[col].nunique()\n",
    "\n",
    "        print(f' {col}: {unique_values} Unique Values,  Data Sample >> {unique_samples[:5]}')\n",
    "    print(' ...')\n",
    "    return None"
   ]
  },
  {
   "cell_type": "code",
   "execution_count": 10,
   "id": "121a9428",
   "metadata": {
    "execution": {
     "iopub.execute_input": "2022-02-27T05:22:08.874787Z",
     "iopub.status.busy": "2022-02-27T05:22:08.874161Z",
     "iopub.status.idle": "2022-02-27T05:22:08.901335Z",
     "shell.execute_reply": "2022-02-27T05:22:08.901804Z",
     "shell.execute_reply.started": "2022-02-27T05:12:06.721275Z"
    },
    "papermill": {
     "duration": 0.095453,
     "end_time": "2022-02-27T05:22:08.901995",
     "exception": false,
     "start_time": "2022-02-27T05:22:08.806542",
     "status": "completed"
    },
    "tags": []
   },
   "outputs": [
    {
     "name": "stdout",
     "output_type": "stream",
     "text": [
      " PassengerId: 8693 Unique Values,  Data Sample >> ['0001_01', '0002_01', '0003_01', '0003_02', '0004_01']\n",
      " HomePlanet: 3 Unique Values,  Data Sample >> ['Europa', 'Earth', 'Mars', nan]\n",
      " CryoSleep: 2 Unique Values,  Data Sample >> [False, True, nan]\n",
      " Cabin: 6560 Unique Values,  Data Sample >> ['B/0/P', 'F/0/S', 'A/0/S', 'F/1/S', 'F/0/P']\n",
      " Destination: 3 Unique Values,  Data Sample >> ['TRAPPIST-1e', 'PSO J318.5-22', '55 Cancri e', nan]\n",
      " Age: 80 Unique Values,  Data Sample >> [39.0, 24.0, 58.0, 33.0, 16.0]\n",
      " VIP: 2 Unique Values,  Data Sample >> [False, True, nan]\n",
      " RoomService: 1273 Unique Values,  Data Sample >> [0.0, 109.0, 43.0, 303.0, 42.0]\n",
      " FoodCourt: 1507 Unique Values,  Data Sample >> [0.0, 9.0, 3576.0, 1283.0, 70.0]\n",
      " ShoppingMall: 1115 Unique Values,  Data Sample >> [0.0, 25.0, 371.0, 151.0, 3.0]\n",
      " Spa: 1327 Unique Values,  Data Sample >> [0.0, 549.0, 6715.0, 3329.0, 565.0]\n",
      " VRDeck: 1306 Unique Values,  Data Sample >> [0.0, 44.0, 49.0, 193.0, 2.0]\n",
      " Name: 8473 Unique Values,  Data Sample >> ['Maham Ofracculy', 'Juanna Vines', 'Altark Susent', 'Solam Susent', 'Willy Santantines']\n",
      " Transported: 2 Unique Values,  Data Sample >> [False, True]\n",
      " ...\n",
      "CPU times: user 17.9 ms, sys: 968 µs, total: 18.8 ms\n",
      "Wall time: 21.9 ms\n"
     ]
    }
   ],
   "source": [
    "%%time\n",
    "describe_categ(trn_data)"
   ]
  },
  {
   "cell_type": "code",
   "execution_count": 11,
   "id": "d5f45434",
   "metadata": {
    "execution": {
     "iopub.execute_input": "2022-02-27T05:22:09.009824Z",
     "iopub.status.busy": "2022-02-27T05:22:09.008832Z",
     "iopub.status.idle": "2022-02-27T05:22:09.026039Z",
     "shell.execute_reply": "2022-02-27T05:22:09.026512Z",
     "shell.execute_reply.started": "2022-02-27T05:12:06.761740Z"
    },
    "papermill": {
     "duration": 0.072837,
     "end_time": "2022-02-27T05:22:09.026673",
     "exception": false,
     "start_time": "2022-02-27T05:22:08.953836",
     "status": "completed"
    },
    "tags": []
   },
   "outputs": [
    {
     "name": "stdout",
     "output_type": "stream",
     "text": [
      " PassengerId: 4277 Unique Values,  Data Sample >> ['0013_01', '0018_01', '0019_01', '0021_01', '0023_01']\n",
      " HomePlanet: 3 Unique Values,  Data Sample >> ['Earth', 'Europa', 'Mars', nan]\n",
      " CryoSleep: 2 Unique Values,  Data Sample >> [True, False, nan]\n",
      " Cabin: 3265 Unique Values,  Data Sample >> ['G/3/S', 'F/4/S', 'C/0/S', 'C/1/S', 'F/5/S']\n",
      " Destination: 3 Unique Values,  Data Sample >> ['TRAPPIST-1e', '55 Cancri e', 'PSO J318.5-22', nan]\n",
      " Age: 79 Unique Values,  Data Sample >> [27.0, 19.0, 31.0, 38.0, 20.0]\n",
      " VIP: 2 Unique Values,  Data Sample >> [False, nan, True]\n",
      " RoomService: 842 Unique Values,  Data Sample >> [0.0, 10.0, 339.0, 932.0, 2.0]\n",
      " FoodCourt: 902 Unique Values,  Data Sample >> [0.0, 9.0, 6652.0, 1615.0, nan]\n",
      " ShoppingMall: 715 Unique Values,  Data Sample >> [0.0, 635.0, 263.0, 136.0, nan]\n",
      " Spa: 833 Unique Values,  Data Sample >> [0.0, 2823.0, 181.0, 113.0, 237.0]\n",
      " VRDeck: 796 Unique Values,  Data Sample >> [0.0, 585.0, 60.0, 1010.0, 224.0]\n",
      " Name: 4176 Unique Values,  Data Sample >> ['Nelly Carsoning', 'Lerome Peckers', 'Sabih Unhearfus', 'Meratz Caltilter', 'Brence Harperez']\n",
      " ...\n",
      "CPU times: user 14 ms, sys: 2.14 ms, total: 16.2 ms\n",
      "Wall time: 14 ms\n"
     ]
    }
   ],
   "source": [
    "%%time\n",
    "describe_categ(tst_data)"
   ]
  },
  {
   "cell_type": "code",
   "execution_count": 12,
   "id": "511dbf60",
   "metadata": {
    "execution": {
     "iopub.execute_input": "2022-02-27T05:22:09.132599Z",
     "iopub.status.busy": "2022-02-27T05:22:09.132016Z",
     "iopub.status.idle": "2022-02-27T05:22:09.141377Z",
     "shell.execute_reply": "2022-02-27T05:22:09.141814Z",
     "shell.execute_reply.started": "2022-02-27T05:12:06.786011Z"
    },
    "papermill": {
     "duration": 0.063587,
     "end_time": "2022-02-27T05:22:09.141986",
     "exception": false,
     "start_time": "2022-02-27T05:22:09.078399",
     "status": "completed"
    },
    "tags": []
   },
   "outputs": [
    {
     "data": {
      "text/plain": [
       "PassengerId       0\n",
       "HomePlanet      201\n",
       "CryoSleep       217\n",
       "Cabin           199\n",
       "Destination     182\n",
       "Age             179\n",
       "VIP             203\n",
       "RoomService     181\n",
       "FoodCourt       183\n",
       "ShoppingMall    208\n",
       "Spa             183\n",
       "VRDeck          188\n",
       "Name            200\n",
       "Transported       0\n",
       "dtype: int64"
      ]
     },
     "execution_count": 12,
     "metadata": {},
     "output_type": "execute_result"
    }
   ],
   "source": [
    "trn_data.isnull().sum()"
   ]
  },
  {
   "cell_type": "code",
   "execution_count": 13,
   "id": "67d5c9d4",
   "metadata": {
    "execution": {
     "iopub.execute_input": "2022-02-27T05:22:09.247758Z",
     "iopub.status.busy": "2022-02-27T05:22:09.247180Z",
     "iopub.status.idle": "2022-02-27T05:22:09.259923Z",
     "shell.execute_reply": "2022-02-27T05:22:09.260400Z",
     "shell.execute_reply.started": "2022-02-27T05:12:06.801670Z"
    },
    "papermill": {
     "duration": 0.066914,
     "end_time": "2022-02-27T05:22:09.260566",
     "exception": false,
     "start_time": "2022-02-27T05:22:09.193652",
     "status": "completed"
    },
    "tags": []
   },
   "outputs": [
    {
     "data": {
      "text/html": [
       "<div>\n",
       "<style scoped>\n",
       "    .dataframe tbody tr th:only-of-type {\n",
       "        vertical-align: middle;\n",
       "    }\n",
       "\n",
       "    .dataframe tbody tr th {\n",
       "        vertical-align: top;\n",
       "    }\n",
       "\n",
       "    .dataframe thead th {\n",
       "        text-align: right;\n",
       "    }\n",
       "</style>\n",
       "<table border=\"1\" class=\"dataframe\">\n",
       "  <thead>\n",
       "    <tr style=\"text-align: right;\">\n",
       "      <th></th>\n",
       "      <th>PassengerId</th>\n",
       "      <th>HomePlanet</th>\n",
       "      <th>CryoSleep</th>\n",
       "      <th>Cabin</th>\n",
       "      <th>Destination</th>\n",
       "      <th>Age</th>\n",
       "      <th>VIP</th>\n",
       "      <th>RoomService</th>\n",
       "      <th>FoodCourt</th>\n",
       "      <th>ShoppingMall</th>\n",
       "      <th>Spa</th>\n",
       "      <th>VRDeck</th>\n",
       "      <th>Name</th>\n",
       "    </tr>\n",
       "  </thead>\n",
       "  <tbody>\n",
       "    <tr>\n",
       "      <th>0</th>\n",
       "      <td>0013_01</td>\n",
       "      <td>Earth</td>\n",
       "      <td>True</td>\n",
       "      <td>G/3/S</td>\n",
       "      <td>TRAPPIST-1e</td>\n",
       "      <td>27.00</td>\n",
       "      <td>False</td>\n",
       "      <td>0.00</td>\n",
       "      <td>0.00</td>\n",
       "      <td>0.00</td>\n",
       "      <td>0.00</td>\n",
       "      <td>0.00</td>\n",
       "      <td>Nelly Carsoning</td>\n",
       "    </tr>\n",
       "    <tr>\n",
       "      <th>1</th>\n",
       "      <td>0018_01</td>\n",
       "      <td>Earth</td>\n",
       "      <td>False</td>\n",
       "      <td>F/4/S</td>\n",
       "      <td>TRAPPIST-1e</td>\n",
       "      <td>19.00</td>\n",
       "      <td>False</td>\n",
       "      <td>0.00</td>\n",
       "      <td>9.00</td>\n",
       "      <td>0.00</td>\n",
       "      <td>2,823.00</td>\n",
       "      <td>0.00</td>\n",
       "      <td>Lerome Peckers</td>\n",
       "    </tr>\n",
       "    <tr>\n",
       "      <th>2</th>\n",
       "      <td>0019_01</td>\n",
       "      <td>Europa</td>\n",
       "      <td>True</td>\n",
       "      <td>C/0/S</td>\n",
       "      <td>55 Cancri e</td>\n",
       "      <td>31.00</td>\n",
       "      <td>False</td>\n",
       "      <td>0.00</td>\n",
       "      <td>0.00</td>\n",
       "      <td>0.00</td>\n",
       "      <td>0.00</td>\n",
       "      <td>0.00</td>\n",
       "      <td>Sabih Unhearfus</td>\n",
       "    </tr>\n",
       "    <tr>\n",
       "      <th>3</th>\n",
       "      <td>0021_01</td>\n",
       "      <td>Europa</td>\n",
       "      <td>False</td>\n",
       "      <td>C/1/S</td>\n",
       "      <td>TRAPPIST-1e</td>\n",
       "      <td>38.00</td>\n",
       "      <td>False</td>\n",
       "      <td>0.00</td>\n",
       "      <td>6,652.00</td>\n",
       "      <td>0.00</td>\n",
       "      <td>181.00</td>\n",
       "      <td>585.00</td>\n",
       "      <td>Meratz Caltilter</td>\n",
       "    </tr>\n",
       "    <tr>\n",
       "      <th>4</th>\n",
       "      <td>0023_01</td>\n",
       "      <td>Earth</td>\n",
       "      <td>False</td>\n",
       "      <td>F/5/S</td>\n",
       "      <td>TRAPPIST-1e</td>\n",
       "      <td>20.00</td>\n",
       "      <td>False</td>\n",
       "      <td>10.00</td>\n",
       "      <td>0.00</td>\n",
       "      <td>635.00</td>\n",
       "      <td>0.00</td>\n",
       "      <td>0.00</td>\n",
       "      <td>Brence Harperez</td>\n",
       "    </tr>\n",
       "  </tbody>\n",
       "</table>\n",
       "</div>"
      ],
      "text/plain": [
       "  PassengerId HomePlanet CryoSleep  Cabin  Destination   Age    VIP  \\\n",
       "0     0013_01      Earth      True  G/3/S  TRAPPIST-1e 27.00  False   \n",
       "1     0018_01      Earth     False  F/4/S  TRAPPIST-1e 19.00  False   \n",
       "2     0019_01     Europa      True  C/0/S  55 Cancri e 31.00  False   \n",
       "3     0021_01     Europa     False  C/1/S  TRAPPIST-1e 38.00  False   \n",
       "4     0023_01      Earth     False  F/5/S  TRAPPIST-1e 20.00  False   \n",
       "\n",
       "   RoomService  FoodCourt  ShoppingMall      Spa  VRDeck              Name  \n",
       "0         0.00       0.00          0.00     0.00    0.00   Nelly Carsoning  \n",
       "1         0.00       9.00          0.00 2,823.00    0.00    Lerome Peckers  \n",
       "2         0.00       0.00          0.00     0.00    0.00   Sabih Unhearfus  \n",
       "3         0.00   6,652.00          0.00   181.00  585.00  Meratz Caltilter  \n",
       "4        10.00       0.00        635.00     0.00    0.00   Brence Harperez  "
      ]
     },
     "execution_count": 13,
     "metadata": {},
     "output_type": "execute_result"
    }
   ],
   "source": [
    "tst_data.head()"
   ]
  },
  {
   "cell_type": "code",
   "execution_count": 14,
   "id": "3b7e3aed",
   "metadata": {
    "execution": {
     "iopub.execute_input": "2022-02-27T05:22:09.368371Z",
     "iopub.status.busy": "2022-02-27T05:22:09.367721Z",
     "iopub.status.idle": "2022-02-27T05:22:09.376016Z",
     "shell.execute_reply": "2022-02-27T05:22:09.376500Z",
     "shell.execute_reply.started": "2022-02-27T05:12:06.821553Z"
    },
    "papermill": {
     "duration": 0.064,
     "end_time": "2022-02-27T05:22:09.376682",
     "exception": false,
     "start_time": "2022-02-27T05:22:09.312682",
     "status": "completed"
    },
    "tags": []
   },
   "outputs": [
    {
     "data": {
      "text/plain": [
       "PassengerId       0\n",
       "HomePlanet       87\n",
       "CryoSleep        93\n",
       "Cabin           100\n",
       "Destination      92\n",
       "Age              91\n",
       "VIP              93\n",
       "RoomService      82\n",
       "FoodCourt       106\n",
       "ShoppingMall     98\n",
       "Spa             101\n",
       "VRDeck           80\n",
       "Name             94\n",
       "dtype: int64"
      ]
     },
     "execution_count": 14,
     "metadata": {},
     "output_type": "execute_result"
    }
   ],
   "source": [
    "tst_data.isnull().sum()"
   ]
  },
  {
   "cell_type": "code",
   "execution_count": 15,
   "id": "34406bce",
   "metadata": {
    "execution": {
     "iopub.execute_input": "2022-02-27T05:22:09.492242Z",
     "iopub.status.busy": "2022-02-27T05:22:09.491470Z",
     "iopub.status.idle": "2022-02-27T05:22:09.494652Z",
     "shell.execute_reply": "2022-02-27T05:22:09.495112Z",
     "shell.execute_reply.started": "2022-02-27T05:12:06.835249Z"
    },
    "papermill": {
     "duration": 0.064985,
     "end_time": "2022-02-27T05:22:09.495276",
     "exception": false,
     "start_time": "2022-02-27T05:22:09.430291",
     "status": "completed"
    },
    "tags": []
   },
   "outputs": [
    {
     "data": {
      "text/html": [
       "<div>\n",
       "<style scoped>\n",
       "    .dataframe tbody tr th:only-of-type {\n",
       "        vertical-align: middle;\n",
       "    }\n",
       "\n",
       "    .dataframe tbody tr th {\n",
       "        vertical-align: top;\n",
       "    }\n",
       "\n",
       "    .dataframe thead th {\n",
       "        text-align: right;\n",
       "    }\n",
       "</style>\n",
       "<table border=\"1\" class=\"dataframe\">\n",
       "  <thead>\n",
       "    <tr style=\"text-align: right;\">\n",
       "      <th></th>\n",
       "      <th>PassengerId</th>\n",
       "      <th>Transported</th>\n",
       "    </tr>\n",
       "  </thead>\n",
       "  <tbody>\n",
       "    <tr>\n",
       "      <th>0</th>\n",
       "      <td>0013_01</td>\n",
       "      <td>False</td>\n",
       "    </tr>\n",
       "    <tr>\n",
       "      <th>1</th>\n",
       "      <td>0018_01</td>\n",
       "      <td>False</td>\n",
       "    </tr>\n",
       "    <tr>\n",
       "      <th>2</th>\n",
       "      <td>0019_01</td>\n",
       "      <td>False</td>\n",
       "    </tr>\n",
       "    <tr>\n",
       "      <th>3</th>\n",
       "      <td>0021_01</td>\n",
       "      <td>False</td>\n",
       "    </tr>\n",
       "    <tr>\n",
       "      <th>4</th>\n",
       "      <td>0023_01</td>\n",
       "      <td>False</td>\n",
       "    </tr>\n",
       "  </tbody>\n",
       "</table>\n",
       "</div>"
      ],
      "text/plain": [
       "  PassengerId  Transported\n",
       "0     0013_01        False\n",
       "1     0018_01        False\n",
       "2     0019_01        False\n",
       "3     0021_01        False\n",
       "4     0023_01        False"
      ]
     },
     "execution_count": 15,
     "metadata": {},
     "output_type": "execute_result"
    }
   ],
   "source": [
    "sub.head()"
   ]
  },
  {
   "cell_type": "markdown",
   "id": "65073a04",
   "metadata": {
    "papermill": {
     "duration": 0.05195,
     "end_time": "2022-02-27T05:22:09.600740",
     "exception": false,
     "start_time": "2022-02-27T05:22:09.548790",
     "status": "completed"
    },
    "tags": []
   },
   "source": [
    "# Exploring the Target Variable..."
   ]
  },
  {
   "cell_type": "code",
   "execution_count": 16,
   "id": "575faf40",
   "metadata": {
    "execution": {
     "iopub.execute_input": "2022-02-27T05:22:09.711341Z",
     "iopub.status.busy": "2022-02-27T05:22:09.710667Z",
     "iopub.status.idle": "2022-02-27T05:22:09.714611Z",
     "shell.execute_reply": "2022-02-27T05:22:09.713847Z",
     "shell.execute_reply.started": "2022-02-27T05:12:06.845703Z"
    },
    "papermill": {
     "duration": 0.061804,
     "end_time": "2022-02-27T05:22:09.714797",
     "exception": false,
     "start_time": "2022-02-27T05:22:09.652993",
     "status": "completed"
    },
    "tags": []
   },
   "outputs": [
    {
     "name": "stdout",
     "output_type": "stream",
     "text": [
      "CPU times: user 3 µs, sys: 0 ns, total: 3 µs\n",
      "Wall time: 7.63 µs\n"
     ]
    }
   ],
   "source": [
    "%%time\n",
    "def analyze_categ_target(df, target = 'Transported'):\n",
    "    \n",
    "    transported = df[df[target] == True].shape[0]\n",
    "    not_transported = df[df[target] == False].shape[0]\n",
    "    total = transported + not_transported\n",
    "    \n",
    "    print(f'Transported     : {transported / total:.2f} %')\n",
    "    print(f'Not Transported : {not_transported / total:.2f} %')\n",
    "    print(f'Total Passengers: {total}')\n",
    "    print('...')"
   ]
  },
  {
   "cell_type": "code",
   "execution_count": 17,
   "id": "d6431ae0",
   "metadata": {
    "execution": {
     "iopub.execute_input": "2022-02-27T05:22:09.829410Z",
     "iopub.status.busy": "2022-02-27T05:22:09.827672Z",
     "iopub.status.idle": "2022-02-27T05:22:09.835130Z",
     "shell.execute_reply": "2022-02-27T05:22:09.835583Z",
     "shell.execute_reply.started": "2022-02-27T05:12:06.854329Z"
    },
    "papermill": {
     "duration": 0.066094,
     "end_time": "2022-02-27T05:22:09.835747",
     "exception": false,
     "start_time": "2022-02-27T05:22:09.769653",
     "status": "completed"
    },
    "tags": []
   },
   "outputs": [
    {
     "name": "stdout",
     "output_type": "stream",
     "text": [
      "Transported     : 0.50 %\n",
      "Not Transported : 0.50 %\n",
      "Total Passengers: 8693\n",
      "...\n",
      "CPU times: user 5.06 ms, sys: 4 µs, total: 5.06 ms\n",
      "Wall time: 5.78 ms\n"
     ]
    }
   ],
   "source": [
    "%%time\n",
    "analyze_categ_target(trn_data)"
   ]
  },
  {
   "cell_type": "code",
   "execution_count": 18,
   "id": "9514bc33",
   "metadata": {
    "execution": {
     "iopub.execute_input": "2022-02-27T05:22:09.946094Z",
     "iopub.status.busy": "2022-02-27T05:22:09.945487Z",
     "iopub.status.idle": "2022-02-27T05:22:09.954881Z",
     "shell.execute_reply": "2022-02-27T05:22:09.955613Z",
     "shell.execute_reply.started": "2022-02-27T05:12:06.868252Z"
    },
    "papermill": {
     "duration": 0.066474,
     "end_time": "2022-02-27T05:22:09.955834",
     "exception": false,
     "start_time": "2022-02-27T05:22:09.889360",
     "status": "completed"
    },
    "tags": []
   },
   "outputs": [
    {
     "name": "stdout",
     "output_type": "stream",
     "text": [
      "Overlapped Passengers: 0\n",
      "CPU times: user 3.82 ms, sys: 0 ns, total: 3.82 ms\n",
      "Wall time: 3.79 ms\n"
     ]
    }
   ],
   "source": [
    "%%time\n",
    "trn_passenger_ids = set(trn_data['PassengerId'].unique())\n",
    "tst_passenger_ids = set(tst_data['PassengerId'].unique())\n",
    "intersection = trn_passenger_ids.intersection(tst_passenger_ids)\n",
    "print('Overlapped Passengers:', len(intersection))"
   ]
  },
  {
   "cell_type": "markdown",
   "id": "fb6f5614",
   "metadata": {
    "papermill": {
     "duration": 0.053295,
     "end_time": "2022-02-27T05:22:10.064031",
     "exception": false,
     "start_time": "2022-02-27T05:22:10.010736",
     "status": "completed"
    },
    "tags": []
   },
   "source": [
    "# Feature Engineering"
   ]
  },
  {
   "cell_type": "code",
   "execution_count": 19,
   "id": "dbab401d",
   "metadata": {
    "execution": {
     "iopub.execute_input": "2022-02-27T05:22:10.182164Z",
     "iopub.status.busy": "2022-02-27T05:22:10.181190Z",
     "iopub.status.idle": "2022-02-27T05:22:10.183478Z",
     "shell.execute_reply": "2022-02-27T05:22:10.183864Z",
     "shell.execute_reply.started": "2022-02-27T05:12:06.880088Z"
    },
    "papermill": {
     "duration": 0.064988,
     "end_time": "2022-02-27T05:22:10.184047",
     "exception": false,
     "start_time": "2022-02-27T05:22:10.119059",
     "status": "completed"
    },
    "tags": []
   },
   "outputs": [],
   "source": [
    "def fill_missing(df):\n",
    "    '''\n",
    "    \n",
    "    '''\n",
    "    \n",
    "    numerics = ['int16', 'int32', 'int64', 'float16', 'float32', 'float64']\n",
    "    numeric_tmp = df.select_dtypes(include = numerics)\n",
    "    categ_tmp = df.select_dtypes(exclude = numerics)\n",
    "\n",
    "    for col in numeric_tmp.columns:\n",
    "        print(col)\n",
    "        df[col] = df[col].fillna(value = df[col].mean())\n",
    "        \n",
    "    for col in categ_tmp.columns:\n",
    "        print(col)\n",
    "        df[col] = df[col].fillna(value = df[col].mode()[0])\n",
    "        \n",
    "    print('...')\n",
    "    \n",
    "    return df"
   ]
  },
  {
   "cell_type": "code",
   "execution_count": 20,
   "id": "91ae52ef",
   "metadata": {
    "execution": {
     "iopub.execute_input": "2022-02-27T05:22:10.294466Z",
     "iopub.status.busy": "2022-02-27T05:22:10.293588Z",
     "iopub.status.idle": "2022-02-27T05:22:10.350686Z",
     "shell.execute_reply": "2022-02-27T05:22:10.350216Z",
     "shell.execute_reply.started": "2022-02-27T05:12:06.889453Z"
    },
    "papermill": {
     "duration": 0.113412,
     "end_time": "2022-02-27T05:22:10.350826",
     "exception": false,
     "start_time": "2022-02-27T05:22:10.237414",
     "status": "completed"
    },
    "tags": []
   },
   "outputs": [
    {
     "name": "stdout",
     "output_type": "stream",
     "text": [
      "Age\n",
      "RoomService\n",
      "FoodCourt\n",
      "ShoppingMall\n",
      "Spa\n",
      "VRDeck\n",
      "PassengerId\n",
      "HomePlanet\n",
      "CryoSleep\n",
      "Cabin\n",
      "Destination\n",
      "VIP\n",
      "Name\n",
      "Transported\n",
      "...\n",
      "Age\n",
      "RoomService\n",
      "FoodCourt\n",
      "ShoppingMall\n",
      "Spa\n",
      "VRDeck\n",
      "PassengerId\n",
      "HomePlanet\n",
      "CryoSleep\n",
      "Cabin\n",
      "Destination\n",
      "VIP\n",
      "Name\n",
      "...\n"
     ]
    }
   ],
   "source": [
    "trn_data =  fill_missing(trn_data)\n",
    "tst_data =  fill_missing(tst_data)"
   ]
  },
  {
   "cell_type": "code",
   "execution_count": 21,
   "id": "1af5a212",
   "metadata": {
    "execution": {
     "iopub.execute_input": "2022-02-27T05:22:10.463774Z",
     "iopub.status.busy": "2022-02-27T05:22:10.463129Z",
     "iopub.status.idle": "2022-02-27T05:22:10.466471Z",
     "shell.execute_reply": "2022-02-27T05:22:10.465975Z",
     "shell.execute_reply.started": "2022-02-27T05:12:06.975807Z"
    },
    "papermill": {
     "duration": 0.061756,
     "end_time": "2022-02-27T05:22:10.466601",
     "exception": false,
     "start_time": "2022-02-27T05:22:10.404845",
     "status": "completed"
    },
    "tags": []
   },
   "outputs": [
    {
     "name": "stdout",
     "output_type": "stream",
     "text": [
      "CPU times: user 4 µs, sys: 1e+03 ns, total: 5 µs\n",
      "Wall time: 8.34 µs\n"
     ]
    }
   ],
   "source": [
    "%%time\n",
    "def total_billed(df):\n",
    "    '''\n",
    "    Calculates total amount billed in the trip to the passenger... \n",
    "    \n",
    "    '''\n",
    "    \n",
    "    df['Total_Billed'] = df['RoomService'] + df['FoodCourt'] + df['ShoppingMall'] + df['Spa'] + df['VRDeck']\n",
    "    return df"
   ]
  },
  {
   "cell_type": "code",
   "execution_count": 22,
   "id": "3a833e72",
   "metadata": {
    "execution": {
     "iopub.execute_input": "2022-02-27T05:22:10.582503Z",
     "iopub.status.busy": "2022-02-27T05:22:10.581553Z",
     "iopub.status.idle": "2022-02-27T05:22:10.587836Z",
     "shell.execute_reply": "2022-02-27T05:22:10.587008Z",
     "shell.execute_reply.started": "2022-02-27T05:12:06.983322Z"
    },
    "papermill": {
     "duration": 0.066881,
     "end_time": "2022-02-27T05:22:10.588052",
     "exception": false,
     "start_time": "2022-02-27T05:22:10.521171",
     "status": "completed"
    },
    "tags": []
   },
   "outputs": [
    {
     "name": "stdout",
     "output_type": "stream",
     "text": [
      "CPU times: user 4.24 ms, sys: 34 µs, total: 4.28 ms\n",
      "Wall time: 3.87 ms\n"
     ]
    }
   ],
   "source": [
    "%%time\n",
    "trn_data = total_billed(trn_data)\n",
    "tst_data = total_billed(tst_data)"
   ]
  },
  {
   "cell_type": "code",
   "execution_count": 23,
   "id": "3cb9da9f",
   "metadata": {
    "execution": {
     "iopub.execute_input": "2022-02-27T05:22:10.703580Z",
     "iopub.status.busy": "2022-02-27T05:22:10.702659Z",
     "iopub.status.idle": "2022-02-27T05:22:10.705509Z",
     "shell.execute_reply": "2022-02-27T05:22:10.704933Z",
     "shell.execute_reply.started": "2022-02-27T05:12:06.999245Z"
    },
    "papermill": {
     "duration": 0.062753,
     "end_time": "2022-02-27T05:22:10.705638",
     "exception": false,
     "start_time": "2022-02-27T05:22:10.642885",
     "status": "completed"
    },
    "tags": []
   },
   "outputs": [],
   "source": [
    "def name_ext(df):\n",
    "    '''\n",
    "    '''\n",
    "    df['FirstName'] = df['Name'].str.split(' ', expand=True)[0]\n",
    "    df['FamilyName'] = df['Name'].str.split(' ', expand=True)[1]\n",
    "    df.drop(columns = ['Name'], inplace = True)\n",
    "    return df"
   ]
  },
  {
   "cell_type": "code",
   "execution_count": 24,
   "id": "a114a831",
   "metadata": {
    "execution": {
     "iopub.execute_input": "2022-02-27T05:22:10.944662Z",
     "iopub.status.busy": "2022-02-27T05:22:10.944057Z",
     "iopub.status.idle": "2022-02-27T05:22:10.969338Z",
     "shell.execute_reply": "2022-02-27T05:22:10.968474Z",
     "shell.execute_reply.started": "2022-02-27T05:12:07.008570Z"
    },
    "papermill": {
     "duration": 0.208576,
     "end_time": "2022-02-27T05:22:10.969576",
     "exception": false,
     "start_time": "2022-02-27T05:22:10.761000",
     "status": "completed"
    },
    "tags": []
   },
   "outputs": [
    {
     "name": "stdout",
     "output_type": "stream",
     "text": [
      "CPU times: user 140 ms, sys: 3.86 ms, total: 144 ms\n",
      "Wall time: 143 ms\n"
     ]
    }
   ],
   "source": [
    "%%time\n",
    "trn_data = name_ext(trn_data)\n",
    "tst_data = name_ext(tst_data)"
   ]
  },
  {
   "cell_type": "code",
   "execution_count": 25,
   "id": "71b49fa0",
   "metadata": {
    "execution": {
     "iopub.execute_input": "2022-02-27T05:22:11.083451Z",
     "iopub.status.busy": "2022-02-27T05:22:11.082828Z",
     "iopub.status.idle": "2022-02-27T05:22:11.087420Z",
     "shell.execute_reply": "2022-02-27T05:22:11.087837Z",
     "shell.execute_reply.started": "2022-02-27T05:12:07.075826Z"
    },
    "papermill": {
     "duration": 0.062327,
     "end_time": "2022-02-27T05:22:11.088038",
     "exception": false,
     "start_time": "2022-02-27T05:22:11.025711",
     "status": "completed"
    },
    "tags": []
   },
   "outputs": [],
   "source": [
    "def cabin_separation(df):\n",
    "    '''\n",
    "    '''\n",
    "    df['CabinDeck'] = df['Cabin'].str.split('/', expand=True)[0]\n",
    "    df['CabinNum'] = df['Cabin'].str.split('/', expand=True)[1]\n",
    "    df['CabinSide'] = df['Cabin'].str.split('/', expand=True)[2]\n",
    "    df.drop(columns = ['Cabin'], inplace = True)\n",
    "    return df"
   ]
  },
  {
   "cell_type": "code",
   "execution_count": 26,
   "id": "6fdd7a90",
   "metadata": {
    "execution": {
     "iopub.execute_input": "2022-02-27T05:22:11.199832Z",
     "iopub.status.busy": "2022-02-27T05:22:11.199265Z",
     "iopub.status.idle": "2022-02-27T05:22:11.257114Z",
     "shell.execute_reply": "2022-02-27T05:22:11.257601Z",
     "shell.execute_reply.started": "2022-02-27T05:12:07.083624Z"
    },
    "papermill": {
     "duration": 0.115311,
     "end_time": "2022-02-27T05:22:11.257766",
     "exception": false,
     "start_time": "2022-02-27T05:22:11.142455",
     "status": "completed"
    },
    "tags": []
   },
   "outputs": [
    {
     "name": "stdout",
     "output_type": "stream",
     "text": [
      "CPU times: user 52.8 ms, sys: 0 ns, total: 52.8 ms\n",
      "Wall time: 52.8 ms\n"
     ]
    }
   ],
   "source": [
    "%%time\n",
    "trn_data = cabin_separation(trn_data)\n",
    "tst_data = cabin_separation(tst_data)"
   ]
  },
  {
   "cell_type": "code",
   "execution_count": 27,
   "id": "10dbdc4c",
   "metadata": {
    "execution": {
     "iopub.execute_input": "2022-02-27T05:22:11.373326Z",
     "iopub.status.busy": "2022-02-27T05:22:11.372584Z",
     "iopub.status.idle": "2022-02-27T05:22:11.375369Z",
     "shell.execute_reply": "2022-02-27T05:22:11.374848Z",
     "shell.execute_reply.started": "2022-02-27T05:12:07.424967Z"
    },
    "papermill": {
     "duration": 0.062596,
     "end_time": "2022-02-27T05:22:11.375508",
     "exception": false,
     "start_time": "2022-02-27T05:22:11.312912",
     "status": "completed"
    },
    "tags": []
   },
   "outputs": [],
   "source": [
    "def route(df):\n",
    "    '''\n",
    "    \n",
    "    '''\n",
    "    df['Route'] = df['HomePlanet'] + df['Destination']\n",
    "    return df"
   ]
  },
  {
   "cell_type": "code",
   "execution_count": 28,
   "id": "bf7d84ae",
   "metadata": {
    "execution": {
     "iopub.execute_input": "2022-02-27T05:22:11.493622Z",
     "iopub.status.busy": "2022-02-27T05:22:11.491492Z",
     "iopub.status.idle": "2022-02-27T05:22:11.498400Z",
     "shell.execute_reply": "2022-02-27T05:22:11.499024Z",
     "shell.execute_reply.started": "2022-02-27T05:12:07.430241Z"
    },
    "papermill": {
     "duration": 0.067172,
     "end_time": "2022-02-27T05:22:11.499246",
     "exception": false,
     "start_time": "2022-02-27T05:22:11.432074",
     "status": "completed"
    },
    "tags": []
   },
   "outputs": [
    {
     "name": "stdout",
     "output_type": "stream",
     "text": [
      "CPU times: user 4.89 ms, sys: 0 ns, total: 4.89 ms\n",
      "Wall time: 4.24 ms\n"
     ]
    }
   ],
   "source": [
    "%%time\n",
    "trn_data = route(trn_data)\n",
    "tst_data = route(tst_data)"
   ]
  },
  {
   "cell_type": "markdown",
   "id": "5695a2d0",
   "metadata": {
    "papermill": {
     "duration": 0.054628,
     "end_time": "2022-02-27T05:22:11.609894",
     "exception": false,
     "start_time": "2022-02-27T05:22:11.555266",
     "status": "completed"
    },
    "tags": []
   },
   "source": [
    "# Pre-Processing for Training"
   ]
  },
  {
   "cell_type": "code",
   "execution_count": 29,
   "id": "e3d3a30d",
   "metadata": {
    "execution": {
     "iopub.execute_input": "2022-02-27T05:22:11.725634Z",
     "iopub.status.busy": "2022-02-27T05:22:11.725012Z",
     "iopub.status.idle": "2022-02-27T05:22:11.727456Z",
     "shell.execute_reply": "2022-02-27T05:22:11.727891Z",
     "shell.execute_reply.started": "2022-02-27T05:12:07.445195Z"
    },
    "papermill": {
     "duration": 0.062971,
     "end_time": "2022-02-27T05:22:11.728083",
     "exception": false,
     "start_time": "2022-02-27T05:22:11.665112",
     "status": "completed"
    },
    "tags": []
   },
   "outputs": [
    {
     "name": "stdout",
     "output_type": "stream",
     "text": [
      "CPU times: user 0 ns, sys: 5 µs, total: 5 µs\n",
      "Wall time: 8.11 µs\n"
     ]
    }
   ],
   "source": [
    "%%time\n",
    "numerical_features = ['Age', 'RoomService', 'FoodCourt', 'ShoppingMall', 'Spa', 'VRDeck', 'total_billed']\n",
    "\n",
    "categorical_features = [\n",
    "                        #'PassengerId',\n",
    "                        'HomePlanet',\n",
    "                        'CryoSleep',\n",
    "                        'CabinDeck',\n",
    "                        'CabinNum',\n",
    "                        'CabinSide',\n",
    "                        'Destination',\n",
    "                        'VIP',\n",
    "                        'FirstName',\n",
    "                        'FamilyName',\n",
    "                        'Route',\n",
    "                        ]\n",
    "\n",
    "target_feature = 'Transported'"
   ]
  },
  {
   "cell_type": "code",
   "execution_count": 30,
   "id": "945f4273",
   "metadata": {
    "execution": {
     "iopub.execute_input": "2022-02-27T05:22:11.844759Z",
     "iopub.status.busy": "2022-02-27T05:22:11.844130Z",
     "iopub.status.idle": "2022-02-27T05:22:12.710730Z",
     "shell.execute_reply": "2022-02-27T05:22:12.711365Z",
     "shell.execute_reply.started": "2022-02-27T05:12:07.456716Z"
    },
    "papermill": {
     "duration": 0.928438,
     "end_time": "2022-02-27T05:22:12.711605",
     "exception": false,
     "start_time": "2022-02-27T05:22:11.783167",
     "status": "completed"
    },
    "tags": []
   },
   "outputs": [
    {
     "name": "stdout",
     "output_type": "stream",
     "text": [
      "CPU times: user 414 ms, sys: 341 ms, total: 755 ms\n",
      "Wall time: 863 ms\n"
     ]
    }
   ],
   "source": [
    "%%time\n",
    "from sklearn.preprocessing import LabelEncoder \n",
    "\n",
    "def encode_categorical(train_df, test_df, categ_feat = categorical_features):\n",
    "    '''\n",
    "    \n",
    "    '''\n",
    "    encoder_dict = {}\n",
    "    \n",
    "    concat_data = pd.concat([trn_data[categ_feat], tst_data[categ_feat]])\n",
    "    \n",
    "    for col in concat_data.columns:\n",
    "        print('Processing: ', col)\n",
    "        encoder = LabelEncoder()\n",
    "        encoder.fit(concat_data[col])\n",
    "        encoder_dict[col] = encoder\n",
    "\n",
    "        train_df[col + '_Enc'] = encoder.transform(train_df[col])\n",
    "        test_df[col + '_Enc'] = encoder.transform(test_df[col])\n",
    "    \n",
    "    train_df = train_df.drop(columns = categ_feat, axis = 1)\n",
    "    test_df = test_df.drop(columns = categ_feat, axis = 1)\n",
    "\n",
    "    return train_df, test_df"
   ]
  },
  {
   "cell_type": "code",
   "execution_count": 31,
   "id": "41a93e64",
   "metadata": {
    "execution": {
     "iopub.execute_input": "2022-02-27T05:22:12.834532Z",
     "iopub.status.busy": "2022-02-27T05:22:12.833891Z",
     "iopub.status.idle": "2022-02-27T05:22:12.893674Z",
     "shell.execute_reply": "2022-02-27T05:22:12.894136Z",
     "shell.execute_reply.started": "2022-02-27T05:12:07.467905Z"
    },
    "papermill": {
     "duration": 0.126624,
     "end_time": "2022-02-27T05:22:12.894301",
     "exception": false,
     "start_time": "2022-02-27T05:22:12.767677",
     "status": "completed"
    },
    "tags": []
   },
   "outputs": [
    {
     "name": "stdout",
     "output_type": "stream",
     "text": [
      "Processing:  HomePlanet\n",
      "Processing:  CryoSleep\n",
      "Processing:  CabinDeck\n",
      "Processing:  CabinNum\n",
      "Processing:  CabinSide\n",
      "Processing:  Destination\n",
      "Processing:  VIP\n",
      "Processing:  FirstName\n",
      "Processing:  FamilyName\n",
      "Processing:  Route\n",
      "CPU times: user 55.5 ms, sys: 5.87 ms, total: 61.4 ms\n",
      "Wall time: 59.7 ms\n"
     ]
    }
   ],
   "source": [
    "%%time\n",
    "trn_data, tst_data = encode_categorical(trn_data, tst_data, categorical_features)"
   ]
  },
  {
   "cell_type": "markdown",
   "id": "b8f8999d",
   "metadata": {
    "papermill": {
     "duration": 0.055834,
     "end_time": "2022-02-27T05:22:13.008254",
     "exception": false,
     "start_time": "2022-02-27T05:22:12.952420",
     "status": "completed"
    },
    "tags": []
   },
   "source": [
    "# Simple CV Sttrategy 80/20 Split"
   ]
  },
  {
   "cell_type": "code",
   "execution_count": 32,
   "id": "28845e47",
   "metadata": {
    "execution": {
     "iopub.execute_input": "2022-02-27T05:22:13.124414Z",
     "iopub.status.busy": "2022-02-27T05:22:13.123480Z",
     "iopub.status.idle": "2022-02-27T05:22:13.128807Z",
     "shell.execute_reply": "2022-02-27T05:22:13.129277Z",
     "shell.execute_reply.started": "2022-02-27T05:12:07.552801Z"
    },
    "papermill": {
     "duration": 0.065679,
     "end_time": "2022-02-27T05:22:13.129434",
     "exception": false,
     "start_time": "2022-02-27T05:22:13.063755",
     "status": "completed"
    },
    "tags": []
   },
   "outputs": [
    {
     "data": {
      "text/plain": [
       "Index(['PassengerId', 'Age', 'RoomService', 'FoodCourt', 'ShoppingMall', 'Spa',\n",
       "       'VRDeck', 'Transported', 'Total_Billed', 'HomePlanet_Enc',\n",
       "       'CryoSleep_Enc', 'CabinDeck_Enc', 'CabinNum_Enc', 'CabinSide_Enc',\n",
       "       'Destination_Enc', 'VIP_Enc', 'FirstName_Enc', 'FamilyName_Enc',\n",
       "       'Route_Enc'],\n",
       "      dtype='object')"
      ]
     },
     "execution_count": 32,
     "metadata": {},
     "output_type": "execute_result"
    }
   ],
   "source": [
    "trn_data.columns"
   ]
  },
  {
   "cell_type": "code",
   "execution_count": 33,
   "id": "bea391be",
   "metadata": {
    "execution": {
     "iopub.execute_input": "2022-02-27T05:22:13.246143Z",
     "iopub.status.busy": "2022-02-27T05:22:13.245212Z",
     "iopub.status.idle": "2022-02-27T05:22:13.249635Z",
     "shell.execute_reply": "2022-02-27T05:22:13.250135Z",
     "shell.execute_reply.started": "2022-02-27T05:12:07.561665Z"
    },
    "papermill": {
     "duration": 0.064679,
     "end_time": "2022-02-27T05:22:13.250299",
     "exception": false,
     "start_time": "2022-02-27T05:22:13.185620",
     "status": "completed"
    },
    "tags": []
   },
   "outputs": [],
   "source": [
    "features = ['Age',\n",
    "            'RoomService',\n",
    "            'FoodCourt',\n",
    "            'ShoppingMall',\n",
    "            'Spa',\n",
    "            'VRDeck',\n",
    "            'FamilyName_Enc',\n",
    "            'FirstName_Enc',\n",
    "            'VIP_Enc',\n",
    "            'Total_Billed',\n",
    "            'HomePlanet_Enc',\n",
    "            'CryoSleep_Enc',\n",
    "            'CabinNum_Enc',\n",
    "            'CabinSide_Enc',\n",
    "            'CabinDeck_Enc',\n",
    "            'Destination_Enc',\n",
    "            'Route_Enc']"
   ]
  },
  {
   "cell_type": "code",
   "execution_count": 34,
   "id": "9caccb16",
   "metadata": {
    "execution": {
     "iopub.execute_input": "2022-02-27T05:22:13.366095Z",
     "iopub.status.busy": "2022-02-27T05:22:13.365169Z",
     "iopub.status.idle": "2022-02-27T05:22:13.419598Z",
     "shell.execute_reply": "2022-02-27T05:22:13.418958Z",
     "shell.execute_reply.started": "2022-02-27T05:12:07.570351Z"
    },
    "papermill": {
     "duration": 0.1133,
     "end_time": "2022-02-27T05:22:13.419732",
     "exception": false,
     "start_time": "2022-02-27T05:22:13.306432",
     "status": "completed"
    },
    "tags": []
   },
   "outputs": [],
   "source": [
    "from sklearn.model_selection import train_test_split\n",
    "X_train, X_val, y_train, y_val = train_test_split(trn_data[features], trn_data[target_feature], test_size = 0.15, random_state = 42)"
   ]
  },
  {
   "cell_type": "markdown",
   "id": "84ab34b4",
   "metadata": {
    "papermill": {
     "duration": 0.056086,
     "end_time": "2022-02-27T05:22:13.532333",
     "exception": false,
     "start_time": "2022-02-27T05:22:13.476247",
     "status": "completed"
    },
    "tags": []
   },
   "source": [
    "fit(X, y, *, sample_weight=None, base_margin=None, eval_set=None, eval_metric=None, early_stopping_rounds=None, verbose=True, xgb_model=None, sample_weight_eval_set=None, base_margin_eval_set=None, feature_weights=None, callbacks=None)"
   ]
  },
  {
   "cell_type": "code",
   "execution_count": 35,
   "id": "07192056",
   "metadata": {
    "execution": {
     "iopub.execute_input": "2022-02-27T05:22:13.649079Z",
     "iopub.status.busy": "2022-02-27T05:22:13.648394Z",
     "iopub.status.idle": "2022-02-27T05:22:14.636316Z",
     "shell.execute_reply": "2022-02-27T05:22:14.635803Z",
     "shell.execute_reply.started": "2022-02-27T05:12:07.583755Z"
    },
    "papermill": {
     "duration": 1.04811,
     "end_time": "2022-02-27T05:22:14.636465",
     "exception": false,
     "start_time": "2022-02-27T05:22:13.588355",
     "status": "completed"
    },
    "tags": []
   },
   "outputs": [
    {
     "name": "stdout",
     "output_type": "stream",
     "text": [
      "[0]\tvalidation_0-logloss:0.58481\n",
      "[10]\tvalidation_0-logloss:0.41797\n",
      "[20]\tvalidation_0-logloss:0.41558\n",
      "[30]\tvalidation_0-logloss:0.41448\n",
      "[40]\tvalidation_0-logloss:0.41666\n",
      "[50]\tvalidation_0-logloss:0.41778\n",
      "[60]\tvalidation_0-logloss:0.42037\n",
      "[70]\tvalidation_0-logloss:0.42197\n",
      "[79]\tvalidation_0-logloss:0.42442\n"
     ]
    },
    {
     "data": {
      "text/plain": [
       "XGBClassifier(base_score=0.5, booster='gbtree', colsample_bylevel=1,\n",
       "              colsample_bynode=1, colsample_bytree=1, enable_categorical=False,\n",
       "              gamma=0, gpu_id=-1, importance_type=None,\n",
       "              interaction_constraints='', learning_rate=0.300000012,\n",
       "              max_delta_step=0, max_depth=6, min_child_weight=1, missing=nan,\n",
       "              monotone_constraints='()', n_estimators=100, n_jobs=4,\n",
       "              num_parallel_tree=1, predictor='auto', random_state=0,\n",
       "              reg_alpha=0, reg_lambda=1, scale_pos_weight=1, subsample=1,\n",
       "              tree_method='exact', validate_parameters=1, verbosity=None)"
      ]
     },
     "execution_count": 35,
     "metadata": {},
     "output_type": "execute_result"
    }
   ],
   "source": [
    "from xgboost import XGBClassifier\n",
    "# cls = XGBClassifier(\n",
    "#                     learning_rate = 0.1,\n",
    "#                     n_estimators = 2048,\n",
    "#                     n_jobs = -1)\n",
    "\n",
    "cls = XGBClassifier()\n",
    "cls.fit(X_train, y_train, eval_set = [(X_val, y_val)], eval_metric=['logloss'], early_stopping_rounds = 50, verbose = 10)"
   ]
  },
  {
   "cell_type": "code",
   "execution_count": 36,
   "id": "45246884",
   "metadata": {
    "execution": {
     "iopub.execute_input": "2022-02-27T05:22:14.760452Z",
     "iopub.status.busy": "2022-02-27T05:22:14.759792Z",
     "iopub.status.idle": "2022-02-27T05:22:14.761540Z",
     "shell.execute_reply": "2022-02-27T05:22:14.761982Z",
     "shell.execute_reply.started": "2022-02-27T05:12:08.409730Z"
    },
    "papermill": {
     "duration": 0.066959,
     "end_time": "2022-02-27T05:22:14.762148",
     "exception": false,
     "start_time": "2022-02-27T05:22:14.695189",
     "status": "completed"
    },
    "tags": []
   },
   "outputs": [],
   "source": [
    "import matplotlib.pyplot as plt\n",
    "\n",
    "def feature_importance(clf):\n",
    "    importances = clf.feature_importances_\n",
    "    i = np.argsort(importances)\n",
    "    features = X_train.columns\n",
    "    plt.title('Feature Importance')\n",
    "    plt.barh(range(len(i)), importances[i], align='center')\n",
    "    plt.yticks(range(len(i)), [features[x] for x in i])\n",
    "    plt.xlabel('Scale')\n",
    "    plt.show()"
   ]
  },
  {
   "cell_type": "code",
   "execution_count": 37,
   "id": "362f9c6c",
   "metadata": {
    "execution": {
     "iopub.execute_input": "2022-02-27T05:22:14.884250Z",
     "iopub.status.busy": "2022-02-27T05:22:14.882806Z",
     "iopub.status.idle": "2022-02-27T05:22:15.150640Z",
     "shell.execute_reply": "2022-02-27T05:22:15.151123Z",
     "shell.execute_reply.started": "2022-02-27T05:12:08.417822Z"
    },
    "papermill": {
     "duration": 0.329906,
     "end_time": "2022-02-27T05:22:15.151305",
     "exception": false,
     "start_time": "2022-02-27T05:22:14.821399",
     "status": "completed"
    },
    "tags": []
   },
   "outputs": [
    {
     "data": {
      "image/png": "[encoded data removed]",
      "text/plain": [
       "<Figure size 432x288 with 1 Axes>"
      ]
     },
     "metadata": {
      "needs_background": "light"
     },
     "output_type": "display_data"
    }
   ],
   "source": [
    "feature_importance(cls)"
   ]
  },
  {
   "cell_type": "code",
   "execution_count": 38,
   "id": "70466e7c",
   "metadata": {
    "execution": {
     "iopub.execute_input": "2022-02-27T05:22:15.278029Z",
     "iopub.status.busy": "2022-02-27T05:22:15.277096Z",
     "iopub.status.idle": "2022-02-27T05:22:15.297382Z",
     "shell.execute_reply": "2022-02-27T05:22:15.297859Z",
     "shell.execute_reply.started": "2022-02-27T05:12:08.628541Z"
    },
    "papermill": {
     "duration": 0.083921,
     "end_time": "2022-02-27T05:22:15.298043",
     "exception": false,
     "start_time": "2022-02-27T05:22:15.214122",
     "status": "completed"
    },
    "tags": []
   },
   "outputs": [],
   "source": [
    "from sklearn.metrics import accuracy_score\n",
    "val_preds = cls.predict(X_val[features])\n",
    "accuracy = accuracy_score(val_preds, y_val)"
   ]
  },
  {
   "cell_type": "code",
   "execution_count": 39,
   "id": "86de8d0c",
   "metadata": {
    "execution": {
     "iopub.execute_input": "2022-02-27T05:22:15.422098Z",
     "iopub.status.busy": "2022-02-27T05:22:15.421186Z",
     "iopub.status.idle": "2022-02-27T05:22:15.426198Z",
     "shell.execute_reply": "2022-02-27T05:22:15.426675Z",
     "shell.execute_reply.started": "2022-02-27T05:12:08.642227Z"
    },
    "papermill": {
     "duration": 0.068918,
     "end_time": "2022-02-27T05:22:15.426834",
     "exception": false,
     "start_time": "2022-02-27T05:22:15.357916",
     "status": "completed"
    },
    "tags": []
   },
   "outputs": [
    {
     "data": {
      "text/plain": [
       "0.8006134969325154"
      ]
     },
     "execution_count": 39,
     "metadata": {},
     "output_type": "execute_result"
    }
   ],
   "source": [
    "accuracy"
   ]
  },
  {
   "cell_type": "code",
   "execution_count": 40,
   "id": "1c1ea85e",
   "metadata": {
    "execution": {
     "iopub.execute_input": "2022-02-27T05:22:15.550580Z",
     "iopub.status.busy": "2022-02-27T05:22:15.549662Z",
     "iopub.status.idle": "2022-02-27T05:22:15.552736Z",
     "shell.execute_reply": "2022-02-27T05:22:15.553301Z",
     "shell.execute_reply.started": "2022-02-27T05:12:08.656667Z"
    },
    "papermill": {
     "duration": 0.066711,
     "end_time": "2022-02-27T05:22:15.553466",
     "exception": false,
     "start_time": "2022-02-27T05:22:15.486755",
     "status": "completed"
    },
    "tags": []
   },
   "outputs": [],
   "source": [
    "# 0.7875766871165644\n",
    "# 0.7883435582822086\n",
    "# 0.7944785276073619\n",
    "# 0.7998466257668712\n",
    "# 0.8006134969325154"
   ]
  },
  {
   "cell_type": "code",
   "execution_count": 41,
   "id": "11cce284",
   "metadata": {
    "execution": {
     "iopub.execute_input": "2022-02-27T05:22:15.677100Z",
     "iopub.status.busy": "2022-02-27T05:22:15.676224Z",
     "iopub.status.idle": "2022-02-27T05:22:15.681063Z",
     "shell.execute_reply": "2022-02-27T05:22:15.681562Z",
     "shell.execute_reply.started": "2022-02-27T05:12:08.661996Z"
    },
    "papermill": {
     "duration": 0.068336,
     "end_time": "2022-02-27T05:22:15.681720",
     "exception": false,
     "start_time": "2022-02-27T05:22:15.613384",
     "status": "completed"
    },
    "tags": []
   },
   "outputs": [
    {
     "data": {
      "text/plain": [
       "(4277, 18)"
      ]
     },
     "execution_count": 41,
     "metadata": {},
     "output_type": "execute_result"
    }
   ],
   "source": [
    "tst_data.shape"
   ]
  },
  {
   "cell_type": "code",
   "execution_count": 42,
   "id": "d218ec85",
   "metadata": {
    "execution": {
     "iopub.execute_input": "2022-02-27T05:22:15.808609Z",
     "iopub.status.busy": "2022-02-27T05:22:15.807958Z",
     "iopub.status.idle": "2022-02-27T05:22:15.810410Z",
     "shell.execute_reply": "2022-02-27T05:22:15.810932Z",
     "shell.execute_reply.started": "2022-02-27T05:12:08.672879Z"
    },
    "papermill": {
     "duration": 0.069049,
     "end_time": "2022-02-27T05:22:15.811113",
     "exception": false,
     "start_time": "2022-02-27T05:22:15.742064",
     "status": "completed"
    },
    "tags": []
   },
   "outputs": [
    {
     "data": {
      "text/plain": [
       "1304"
      ]
     },
     "execution_count": 42,
     "metadata": {},
     "output_type": "execute_result"
    }
   ],
   "source": [
    "len(val_preds)"
   ]
  },
  {
   "cell_type": "code",
   "execution_count": 43,
   "id": "02d75a95",
   "metadata": {
    "execution": {
     "iopub.execute_input": "2022-02-27T05:22:15.937658Z",
     "iopub.status.busy": "2022-02-27T05:22:15.936700Z",
     "iopub.status.idle": "2022-02-27T05:22:15.941793Z",
     "shell.execute_reply": "2022-02-27T05:22:15.942248Z",
     "shell.execute_reply.started": "2022-02-27T05:12:08.682587Z"
    },
    "papermill": {
     "duration": 0.07026,
     "end_time": "2022-02-27T05:22:15.942421",
     "exception": false,
     "start_time": "2022-02-27T05:22:15.872161",
     "status": "completed"
    },
    "tags": []
   },
   "outputs": [
    {
     "data": {
      "text/plain": [
       "(4277, 2)"
      ]
     },
     "execution_count": 43,
     "metadata": {},
     "output_type": "execute_result"
    }
   ],
   "source": [
    "sub.shape"
   ]
  },
  {
   "cell_type": "code",
   "execution_count": 44,
   "id": "99e39029",
   "metadata": {
    "execution": {
     "iopub.execute_input": "2022-02-27T05:22:16.069185Z",
     "iopub.status.busy": "2022-02-27T05:22:16.068292Z",
     "iopub.status.idle": "2022-02-27T05:22:16.089070Z",
     "shell.execute_reply": "2022-02-27T05:22:16.088493Z",
     "shell.execute_reply.started": "2022-02-27T05:12:08.691221Z"
    },
    "papermill": {
     "duration": 0.084619,
     "end_time": "2022-02-27T05:22:16.089215",
     "exception": false,
     "start_time": "2022-02-27T05:22:16.004596",
     "status": "completed"
    },
    "tags": []
   },
   "outputs": [],
   "source": [
    "preds = cls.predict(tst_data[features])"
   ]
  },
  {
   "cell_type": "code",
   "execution_count": 45,
   "id": "b73a915b",
   "metadata": {
    "execution": {
     "iopub.execute_input": "2022-02-27T05:22:16.223708Z",
     "iopub.status.busy": "2022-02-27T05:22:16.218322Z",
     "iopub.status.idle": "2022-02-27T05:22:16.226629Z",
     "shell.execute_reply": "2022-02-27T05:22:16.227077Z",
     "shell.execute_reply.started": "2022-02-27T05:12:08.708682Z"
    },
    "papermill": {
     "duration": 0.076741,
     "end_time": "2022-02-27T05:22:16.227252",
     "exception": false,
     "start_time": "2022-02-27T05:22:16.150511",
     "status": "completed"
    },
    "tags": []
   },
   "outputs": [
    {
     "data": {
      "text/html": [
       "<div>\n",
       "<style scoped>\n",
       "    .dataframe tbody tr th:only-of-type {\n",
       "        vertical-align: middle;\n",
       "    }\n",
       "\n",
       "    .dataframe tbody tr th {\n",
       "        vertical-align: top;\n",
       "    }\n",
       "\n",
       "    .dataframe thead th {\n",
       "        text-align: right;\n",
       "    }\n",
       "</style>\n",
       "<table border=\"1\" class=\"dataframe\">\n",
       "  <thead>\n",
       "    <tr style=\"text-align: right;\">\n",
       "      <th></th>\n",
       "      <th>PassengerId</th>\n",
       "      <th>Transported</th>\n",
       "    </tr>\n",
       "  </thead>\n",
       "  <tbody>\n",
       "    <tr>\n",
       "      <th>0</th>\n",
       "      <td>0013_01</td>\n",
       "      <td>False</td>\n",
       "    </tr>\n",
       "    <tr>\n",
       "      <th>1</th>\n",
       "      <td>0018_01</td>\n",
       "      <td>False</td>\n",
       "    </tr>\n",
       "    <tr>\n",
       "      <th>2</th>\n",
       "      <td>0019_01</td>\n",
       "      <td>True</td>\n",
       "    </tr>\n",
       "    <tr>\n",
       "      <th>3</th>\n",
       "      <td>0021_01</td>\n",
       "      <td>True</td>\n",
       "    </tr>\n",
       "    <tr>\n",
       "      <th>4</th>\n",
       "      <td>0023_01</td>\n",
       "      <td>True</td>\n",
       "    </tr>\n",
       "    <tr>\n",
       "      <th>...</th>\n",
       "      <td>...</td>\n",
       "      <td>...</td>\n",
       "    </tr>\n",
       "    <tr>\n",
       "      <th>4272</th>\n",
       "      <td>9266_02</td>\n",
       "      <td>True</td>\n",
       "    </tr>\n",
       "    <tr>\n",
       "      <th>4273</th>\n",
       "      <td>9269_01</td>\n",
       "      <td>False</td>\n",
       "    </tr>\n",
       "    <tr>\n",
       "      <th>4274</th>\n",
       "      <td>9271_01</td>\n",
       "      <td>True</td>\n",
       "    </tr>\n",
       "    <tr>\n",
       "      <th>4275</th>\n",
       "      <td>9273_01</td>\n",
       "      <td>True</td>\n",
       "    </tr>\n",
       "    <tr>\n",
       "      <th>4276</th>\n",
       "      <td>9277_01</td>\n",
       "      <td>True</td>\n",
       "    </tr>\n",
       "  </tbody>\n",
       "</table>\n",
       "<p>4277 rows × 2 columns</p>\n",
       "</div>"
      ],
      "text/plain": [
       "     PassengerId  Transported\n",
       "0        0013_01        False\n",
       "1        0018_01        False\n",
       "2        0019_01         True\n",
       "3        0021_01         True\n",
       "4        0023_01         True\n",
       "...          ...          ...\n",
       "4272     9266_02         True\n",
       "4273     9269_01        False\n",
       "4274     9271_01         True\n",
       "4275     9273_01         True\n",
       "4276     9277_01         True\n",
       "\n",
       "[4277 rows x 2 columns]"
      ]
     },
     "execution_count": 45,
     "metadata": {},
     "output_type": "execute_result"
    }
   ],
   "source": [
    "sub['Transported'] = preds\n",
    "sub"
   ]
  },
  {
   "cell_type": "code",
   "execution_count": 46,
   "id": "533e345b",
   "metadata": {
    "execution": {
     "iopub.execute_input": "2022-02-27T05:22:16.354910Z",
     "iopub.status.busy": "2022-02-27T05:22:16.354328Z",
     "iopub.status.idle": "2022-02-27T05:22:16.364253Z",
     "shell.execute_reply": "2022-02-27T05:22:16.363628Z",
     "shell.execute_reply.started": "2022-02-27T05:12:08.723867Z"
    },
    "papermill": {
     "duration": 0.075279,
     "end_time": "2022-02-27T05:22:16.364393",
     "exception": false,
     "start_time": "2022-02-27T05:22:16.289114",
     "status": "completed"
    },
    "tags": []
   },
   "outputs": [],
   "source": [
    "sub.to_csv('submission.csv', index=False)"
   ]
  },
  {
   "cell_type": "code",
   "execution_count": 47,
   "id": "2b0aa2e2",
   "metadata": {
    "execution": {
     "iopub.execute_input": "2022-02-27T05:22:16.493339Z",
     "iopub.status.busy": "2022-02-27T05:22:16.492559Z",
     "iopub.status.idle": "2022-02-27T05:22:16.495688Z",
     "shell.execute_reply": "2022-02-27T05:22:16.496258Z",
     "shell.execute_reply.started": "2022-02-27T05:12:08.738137Z"
    },
    "papermill": {
     "duration": 0.069828,
     "end_time": "2022-02-27T05:22:16.496420",
     "exception": false,
     "start_time": "2022-02-27T05:22:16.426592",
     "status": "completed"
    },
    "tags": []
   },
   "outputs": [
    {
     "name": "stdout",
     "output_type": "stream",
     "text": [
      "CPU times: user 9 µs, sys: 1 µs, total: 10 µs\n",
      "Wall time: 14.3 µs\n"
     ]
    }
   ],
   "source": [
    "%%time\n",
    "from sklearn.preprocessing import MinMaxScaler"
   ]
  },
  {
   "cell_type": "code",
   "execution_count": 48,
   "id": "9489ee11",
   "metadata": {
    "execution": {
     "iopub.execute_input": "2022-02-27T05:22:16.625195Z",
     "iopub.status.busy": "2022-02-27T05:22:16.624543Z",
     "iopub.status.idle": "2022-02-27T05:22:17.485814Z",
     "shell.execute_reply": "2022-02-27T05:22:17.486309Z",
     "shell.execute_reply.started": "2022-02-27T05:12:08.744569Z"
    },
    "papermill": {
     "duration": 0.928153,
     "end_time": "2022-02-27T05:22:17.486474",
     "exception": false,
     "start_time": "2022-02-27T05:22:16.558321",
     "status": "completed"
    },
    "tags": []
   },
   "outputs": [
    {
     "name": "stdout",
     "output_type": "stream",
     "text": [
      "CPU times: user 442 ms, sys: 64.8 ms, total: 507 ms\n",
      "Wall time: 858 ms\n"
     ]
    }
   ],
   "source": [
    "%%time\n",
    "import optuna\n",
    "from sklearn.ensemble import ExtraTreesClassifier\n",
    "from sklearn.metrics import accuracy_score\n",
    "from sklearn.model_selection import StratifiedKFold\n",
    "from sklearn.model_selection import train_test_split"
   ]
  },
  {
   "cell_type": "code",
   "execution_count": 49,
   "id": "fa94a2e8",
   "metadata": {
    "execution": {
     "iopub.execute_input": "2022-02-27T05:22:17.615003Z",
     "iopub.status.busy": "2022-02-27T05:22:17.614379Z",
     "iopub.status.idle": "2022-02-27T05:22:17.619918Z",
     "shell.execute_reply": "2022-02-27T05:22:17.620771Z",
     "shell.execute_reply.started": "2022-02-27T05:12:08.754830Z"
    },
    "papermill": {
     "duration": 0.072397,
     "end_time": "2022-02-27T05:22:17.621092",
     "exception": false,
     "start_time": "2022-02-27T05:22:17.548695",
     "status": "completed"
    },
    "tags": []
   },
   "outputs": [
    {
     "name": "stdout",
     "output_type": "stream",
     "text": [
      "CPU times: user 37 µs, sys: 5 µs, total: 42 µs\n",
      "Wall time: 46.5 µs\n"
     ]
    }
   ],
   "source": [
    "%%time\n",
    "N_SPLITS = 5\n",
    "folds = StratifiedKFold(n_splits = N_SPLITS, shuffle = True)"
   ]
  },
  {
   "cell_type": "code",
   "execution_count": null,
   "id": "746746a0",
   "metadata": {
    "papermill": {
     "duration": 0.062284,
     "end_time": "2022-02-27T05:22:17.746719",
     "exception": false,
     "start_time": "2022-02-27T05:22:17.684435",
     "status": "completed"
    },
    "tags": []
   },
   "outputs": [],
   "source": []
  },
  {
   "cell_type": "code",
   "execution_count": 50,
   "id": "ae537d73",
   "metadata": {
    "execution": {
     "iopub.execute_input": "2022-02-27T05:22:17.876434Z",
     "iopub.status.busy": "2022-02-27T05:22:17.875430Z",
     "iopub.status.idle": "2022-02-27T05:22:22.987872Z",
     "shell.execute_reply": "2022-02-27T05:22:22.988383Z",
     "shell.execute_reply.started": "2022-02-27T05:12:08.767223Z"
    },
    "papermill": {
     "duration": 5.179103,
     "end_time": "2022-02-27T05:22:22.988564",
     "exception": false,
     "start_time": "2022-02-27T05:22:17.809461",
     "status": "completed"
    },
    "tags": []
   },
   "outputs": [
    {
     "name": "stdout",
     "output_type": "stream",
     "text": [
      "[05:22:17] WARNING: ../src/learner.cc:1115: Starting in XGBoost 1.3.0, the default evaluation metric used with the objective 'binary:logistic' was changed from 'error' to 'logloss'. Explicitly set eval_metric if you'd like to restore the old behavior.\n",
      "Fold: 0 Accuracy: 0.7872340425531915\n",
      "[05:22:18] WARNING: ../src/learner.cc:1115: Starting in XGBoost 1.3.0, the default evaluation metric used with the objective 'binary:logistic' was changed from 'error' to 'logloss'. Explicitly set eval_metric if you'd like to restore the old behavior.\n",
      "Fold: 1 Accuracy: 0.7975848188614146\n",
      "[05:22:19] WARNING: ../src/learner.cc:1115: Starting in XGBoost 1.3.0, the default evaluation metric used with the objective 'binary:logistic' was changed from 'error' to 'logloss'. Explicitly set eval_metric if you'd like to restore the old behavior.\n",
      "Fold: 2 Accuracy: 0.7975848188614146\n",
      "[05:22:21] WARNING: ../src/learner.cc:1115: Starting in XGBoost 1.3.0, the default evaluation metric used with the objective 'binary:logistic' was changed from 'error' to 'logloss'. Explicitly set eval_metric if you'd like to restore the old behavior.\n",
      "Fold: 3 Accuracy: 0.7761795166858458\n",
      "[05:22:22] WARNING: ../src/learner.cc:1115: Starting in XGBoost 1.3.0, the default evaluation metric used with the objective 'binary:logistic' was changed from 'error' to 'logloss'. Explicitly set eval_metric if you'd like to restore the old behavior.\n",
      "Fold: 4 Accuracy: 0.8009205983889528\n",
      "CPU times: user 19.4 s, sys: 55.4 ms, total: 19.5 s\n",
      "Wall time: 5.1 s\n"
     ]
    }
   ],
   "source": [
    "%%time\n",
    "\n",
    "n_estimators = 2373\n",
    "max_depth = 3691\n",
    "min_samples_split = 3\n",
    "min_samples_leaf = 1\n",
    "criterion = 'gini'\n",
    "\n",
    "scores  = []\n",
    "y_probs = []\n",
    "\n",
    "for fold, (trn_id, val_id) in enumerate(folds.split(trn_data[features], trn_data[target_feature])):  \n",
    "    X_train, y_train = trn_data[features].iloc[trn_id], trn_data[target_feature].iloc[trn_id]\n",
    "    X_valid, y_valid = trn_data[features].iloc[val_id], trn_data[target_feature].iloc[val_id]\n",
    "    \n",
    "    scaler = MinMaxScaler()\n",
    "    X_train = scaler.fit_transform(X_train)\n",
    "    X_valid = scaler.transform(X_valid)\n",
    "    \n",
    "    \n",
    "#     model = ExtraTreesClassifier(n_estimators = n_estimators,\n",
    "#                                  max_depth = max_depth,\n",
    "#                                  min_samples_split = min_samples_split,\n",
    "#                                  min_samples_leaf = min_samples_leaf,\n",
    "#                                  criterion = criterion,\n",
    "#                                  random_state = 69,\n",
    "#                                  n_jobs = -1)\n",
    "    \n",
    "    model = XGBClassifier()\n",
    "    \n",
    "    \n",
    "    model.fit(X_train, y_train)\n",
    "    \n",
    "    valid_pred = model.predict(X_valid)\n",
    "    valid_score = accuracy_score(y_valid, valid_pred)\n",
    "    \n",
    "    print(\"Fold:\", fold, \"Accuracy:\", valid_score)\n",
    "    scores.append(valid_score)\n",
    "    y_probs.append(model.predict_proba(tst_data[features]))"
   ]
  },
  {
   "cell_type": "code",
   "execution_count": 51,
   "id": "d193d955",
   "metadata": {
    "execution": {
     "iopub.execute_input": "2022-02-27T05:22:23.125675Z",
     "iopub.status.busy": "2022-02-27T05:22:23.124912Z",
     "iopub.status.idle": "2022-02-27T05:22:23.128261Z",
     "shell.execute_reply": "2022-02-27T05:22:23.128667Z",
     "shell.execute_reply.started": "2022-02-27T05:12:13.474589Z"
    },
    "papermill": {
     "duration": 0.075402,
     "end_time": "2022-02-27T05:22:23.128828",
     "exception": false,
     "start_time": "2022-02-27T05:22:23.053426",
     "status": "completed"
    },
    "tags": []
   },
   "outputs": [
    {
     "name": "stdout",
     "output_type": "stream",
     "text": [
      "Mean accuracy score: 0.7919007590701639\n",
      "CPU times: user 255 µs, sys: 13 µs, total: 268 µs\n",
      "Wall time: 242 µs\n"
     ]
    }
   ],
   "source": [
    "%%time\n",
    "print(\"Mean accuracy score:\", np.array(scores).mean())"
   ]
  },
  {
   "cell_type": "code",
   "execution_count": 52,
   "id": "fdc2320f",
   "metadata": {
    "execution": {
     "iopub.execute_input": "2022-02-27T05:22:23.263410Z",
     "iopub.status.busy": "2022-02-27T05:22:23.262775Z",
     "iopub.status.idle": "2022-02-27T05:22:23.265698Z",
     "shell.execute_reply": "2022-02-27T05:22:23.265160Z",
     "shell.execute_reply.started": "2022-02-27T05:13:48.254738Z"
    },
    "papermill": {
     "duration": 0.071731,
     "end_time": "2022-02-27T05:22:23.265827",
     "exception": false,
     "start_time": "2022-02-27T05:22:23.194096",
     "status": "completed"
    },
    "tags": []
   },
   "outputs": [],
   "source": [
    "y_prob = sum(y_probs) / len(y_probs)"
   ]
  },
  {
   "cell_type": "code",
   "execution_count": 53,
   "id": "9a8ab31b",
   "metadata": {
    "execution": {
     "iopub.execute_input": "2022-02-27T05:22:23.401335Z",
     "iopub.status.busy": "2022-02-27T05:22:23.400465Z",
     "iopub.status.idle": "2022-02-27T05:22:23.404335Z",
     "shell.execute_reply": "2022-02-27T05:22:23.403855Z",
     "shell.execute_reply.started": "2022-02-27T05:21:07.527855Z"
    },
    "papermill": {
     "duration": 0.073549,
     "end_time": "2022-02-27T05:22:23.404481",
     "exception": false,
     "start_time": "2022-02-27T05:22:23.330932",
     "status": "completed"
    },
    "tags": []
   },
   "outputs": [
    {
     "data": {
      "text/plain": [
       "array([[0.05033205, 0.94966793],\n",
       "       [0.93528014, 0.06471992],\n",
       "       [0.00371441, 0.9962856 ],\n",
       "       ...,\n",
       "       [0.06906126, 0.9309387 ],\n",
       "       [0.62652695, 0.3734731 ],\n",
       "       [0.05033205, 0.94966793]], dtype=float32)"
      ]
     },
     "execution_count": 53,
     "metadata": {},
     "output_type": "execute_result"
    }
   ],
   "source": [
    "y_prob"
   ]
  },
  {
   "cell_type": "code",
   "execution_count": 54,
   "id": "5b521839",
   "metadata": {
    "execution": {
     "iopub.execute_input": "2022-02-27T05:22:23.540095Z",
     "iopub.status.busy": "2022-02-27T05:22:23.539450Z",
     "iopub.status.idle": "2022-02-27T05:22:23.541781Z",
     "shell.execute_reply": "2022-02-27T05:22:23.542220Z",
     "shell.execute_reply.started": "2022-02-27T05:21:39.913733Z"
    },
    "papermill": {
     "duration": 0.072893,
     "end_time": "2022-02-27T05:22:23.542385",
     "exception": false,
     "start_time": "2022-02-27T05:22:23.469492",
     "status": "completed"
    },
    "tags": []
   },
   "outputs": [
    {
     "data": {
      "text/plain": [
       "array([ True, False,  True, ...,  True, False,  True])"
      ]
     },
     "execution_count": 54,
     "metadata": {},
     "output_type": "execute_result"
    }
   ],
   "source": [
    "y_prob_results = np.argmax(y_prob, axis = 1)\n",
    "y_prob_results = y_prob_results.astype('bool')\n",
    "y_prob_results"
   ]
  },
  {
   "cell_type": "code",
   "execution_count": 55,
   "id": "195d3695",
   "metadata": {
    "execution": {
     "iopub.execute_input": "2022-02-27T05:22:23.676230Z",
     "iopub.status.busy": "2022-02-27T05:22:23.675658Z",
     "iopub.status.idle": "2022-02-27T05:22:23.685190Z",
     "shell.execute_reply": "2022-02-27T05:22:23.685671Z",
     "shell.execute_reply.started": "2022-02-27T05:21:43.057465Z"
    },
    "papermill": {
     "duration": 0.078053,
     "end_time": "2022-02-27T05:22:23.685836",
     "exception": false,
     "start_time": "2022-02-27T05:22:23.607783",
     "status": "completed"
    },
    "tags": []
   },
   "outputs": [],
   "source": [
    "sub['Transported'] = y_prob_results\n",
    "sub.to_csv('submission_cv_loop.csv', index=False)"
   ]
  },
  {
   "cell_type": "code",
   "execution_count": null,
   "id": "6bb7cee0",
   "metadata": {
    "papermill": {
     "duration": 0.064678,
     "end_time": "2022-02-27T05:22:23.815283",
     "exception": false,
     "start_time": "2022-02-27T05:22:23.750605",
     "status": "completed"
    },
    "tags": []
   },
   "outputs": [],
   "source": []
  },
  {
   "cell_type": "code",
   "execution_count": null,
   "id": "57fdd4df",
   "metadata": {
    "papermill": {
     "duration": 0.065356,
     "end_time": "2022-02-27T05:22:23.945864",
     "exception": false,
     "start_time": "2022-02-27T05:22:23.880508",
     "status": "completed"
    },
    "tags": []
   },
   "outputs": [],
   "source": []
  },
  {
   "cell_type": "code",
   "execution_count": null,
   "id": "022dfd3b",
   "metadata": {
    "papermill": {
     "duration": 0.065046,
     "end_time": "2022-02-27T05:22:24.077290",
     "exception": false,
     "start_time": "2022-02-27T05:22:24.012244",
     "status": "completed"
    },
    "tags": []
   },
   "outputs": [],
   "source": []
  },
  {
   "cell_type": "code",
   "execution_count": null,
   "id": "c6cc1828",
   "metadata": {
    "papermill": {
     "duration": 0.064621,
     "end_time": "2022-02-27T05:22:24.206525",
     "exception": false,
     "start_time": "2022-02-27T05:22:24.141904",
     "status": "completed"
    },
    "tags": []
   },
   "outputs": [],
   "source": []
  }
 ],
 "metadata": {
  "kernelspec": {
   "display_name": "Python 3",
   "language": "python",
   "name": "python3"
  },
  "language_info": {
   "codemirror_mode": {
    "name": "ipython",
    "version": 3
   },
   "file_extension": ".py",
   "mimetype": "text/x-python",
   "name": "python",
   "nbconvert_exporter": "python",
   "pygments_lexer": "ipython3",
   "version": "3.7.12"
  },
  "papermill": {
   "default_parameters": {},
   "duration": 26.730981,
   "end_time": "2022-02-27T05:22:25.081909",
   "environment_variables": {},
   "exception": null,
   "input_path": "__notebook__.ipynb",
   "output_path": "__notebook__.ipynb",
   "parameters": {},
   "start_time": "2022-02-27T05:21:58.350928",
   "version": "2.3.3"
  }
 },
 "nbformat": 4,
 "nbformat_minor": 5
}
