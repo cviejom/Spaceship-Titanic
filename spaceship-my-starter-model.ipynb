{
 "cells": [
  {
   "cell_type": "markdown",
   "id": "45a369e0",
   "metadata": {
    "papermill": {
     "duration": 0.052967,
     "end_time": "2022-02-26T22:14:43.825289",
     "exception": false,
     "start_time": "2022-02-26T22:14:43.772322",
     "status": "completed"
    },
    "tags": []
   },
   "source": [
    "# 🌌 Spaceship My Starter Model\n",
    "\n",
    "Hello... "
   ]
  },
  {
   "cell_type": "markdown",
   "id": "ad7ab8f3",
   "metadata": {
    "papermill": {
     "duration": 0.052002,
     "end_time": "2022-02-26T22:14:43.928619",
     "exception": false,
     "start_time": "2022-02-26T22:14:43.876617",
     "status": "completed"
    },
    "tags": []
   },
   "source": [
    "### File and Data Field Descriptions\n",
    "\n",
    "**train.csv** - Personal records for about two-thirds (~8700) of the passengers, to be used as training data.\n",
    "* PassengerId - A unique Id for each passenger. Each Id takes the form gggg_pp where gggg indicates a group the passenger is travelling with and pp is their number within the group. People in a group are often family members, but not always.\n",
    "* HomePlanet - The planet the passenger departed from, typically their planet of permanent residence.\n",
    "* CryoSleep - Indicates whether the passenger elected to be put into suspended animation for the duration of the voyage. Passengers in cryosleep are confined to their cabins.\n",
    "* Cabin - The cabin number where the passenger is staying. Takes the form deck/num/side, where side can be either P for Port or S for Starboard.\n",
    "* Destination - The planet the passenger will be debarking to.\n",
    "* Age - The age of the passenger.\n",
    "* VIP - Whether the passenger has paid for special VIP service during the voyage.\n",
    "* RoomService, FoodCourt, ShoppingMall, Spa, VRDeck - Amount the passenger has billed at each of the Spaceship Titanic's many luxury amenities.\n",
    "* Name - The first and last names of the passenger.\n",
    "* Transported - Whether the passenger was transported to another dimension. This is the target, the column you are trying to predict.\n",
    "\n",
    "**test.csv** - Personal records for the remaining one-third (~4300) of the passengers, to be used as test data. Your task is to predict the value of Transported for the passengers in this set.\n",
    "\n",
    "**sample_submission.csv** - A submission file in the correct format.\n",
    "\n",
    "* PassengerId - Id for each passenger in the test set.\n",
    "* Transported - The target. For each passenger, predict either True or False."
   ]
  },
  {
   "cell_type": "markdown",
   "id": "c7567c0b",
   "metadata": {
    "papermill": {
     "duration": 0.05169,
     "end_time": "2022-02-26T22:14:44.031392",
     "exception": false,
     "start_time": "2022-02-26T22:14:43.979702",
     "status": "completed"
    },
    "tags": []
   },
   "source": [
    "# Loading Libraries..."
   ]
  },
  {
   "cell_type": "code",
   "execution_count": 1,
   "id": "6e63f436",
   "metadata": {
    "_cell_guid": "b1076dfc-b9ad-4769-8c92-a6c4dae69d19",
    "_uuid": "8f2839f25d086af736a60e9eeb907d3b93b6e0e5",
    "execution": {
     "iopub.execute_input": "2022-02-26T22:14:44.138158Z",
     "iopub.status.busy": "2022-02-26T22:14:44.136948Z",
     "iopub.status.idle": "2022-02-26T22:14:44.151565Z",
     "shell.execute_reply": "2022-02-26T22:14:44.150878Z",
     "shell.execute_reply.started": "2022-02-26T22:13:24.279899Z"
    },
    "papermill": {
     "duration": 0.069095,
     "end_time": "2022-02-26T22:14:44.151730",
     "exception": false,
     "start_time": "2022-02-26T22:14:44.082635",
     "status": "completed"
    },
    "tags": []
   },
   "outputs": [
    {
     "name": "stdout",
     "output_type": "stream",
     "text": [
      "/kaggle/input/spaceship-titanic/sample_submission.csv\n",
      "/kaggle/input/spaceship-titanic/train.csv\n",
      "/kaggle/input/spaceship-titanic/test.csv\n"
     ]
    }
   ],
   "source": [
    "# This Python 3 environment comes with many helpful analytics libraries installed\n",
    "# It is defined by the kaggle/python Docker image: https://github.com/kaggle/docker-python\n",
    "# For example, here's several helpful packages to load\n",
    "\n",
    "import numpy as np # linear algebra\n",
    "import pandas as pd # data processing, CSV file I/O (e.g. pd.read_csv)\n",
    "\n",
    "# Input data files are available in the read-only \"../input/\" directory\n",
    "# For example, running this (by clicking run or pressing Shift+Enter) will list all files under the input directory\n",
    "\n",
    "import os\n",
    "for dirname, _, filenames in os.walk('/kaggle/input'):\n",
    "    for filename in filenames:\n",
    "        print(os.path.join(dirname, filename))\n",
    "\n",
    "# You can write up to 20GB to the current directory (/kaggle/working/) that gets preserved as output when you create a version using \"Save & Run All\" \n",
    "# You can also write temporary files to /kaggle/temp/, but they won't be saved outside of the current session"
   ]
  },
  {
   "cell_type": "markdown",
   "id": "844ddb20",
   "metadata": {
    "papermill": {
     "duration": 0.050814,
     "end_time": "2022-02-26T22:14:44.254949",
     "exception": false,
     "start_time": "2022-02-26T22:14:44.204135",
     "status": "completed"
    },
    "tags": []
   },
   "source": [
    "# Seeting Notebook Parameters..."
   ]
  },
  {
   "cell_type": "code",
   "execution_count": 2,
   "id": "be1b6af7",
   "metadata": {
    "execution": {
     "iopub.execute_input": "2022-02-26T22:14:44.363442Z",
     "iopub.status.busy": "2022-02-26T22:14:44.362348Z",
     "iopub.status.idle": "2022-02-26T22:14:44.368487Z",
     "shell.execute_reply": "2022-02-26T22:14:44.369028Z",
     "shell.execute_reply.started": "2022-02-26T22:13:24.291028Z"
    },
    "papermill": {
     "duration": 0.063318,
     "end_time": "2022-02-26T22:14:44.369220",
     "exception": false,
     "start_time": "2022-02-26T22:14:44.305902",
     "status": "completed"
    },
    "tags": []
   },
   "outputs": [
    {
     "name": "stdout",
     "output_type": "stream",
     "text": [
      "CPU times: user 33 µs, sys: 4 µs, total: 37 µs\n",
      "Wall time: 41.5 µs\n"
     ]
    }
   ],
   "source": [
    "%%time\n",
    "# I like to disable my Notebook Warnings.\n",
    "import warnings\n",
    "warnings.filterwarnings('ignore')"
   ]
  },
  {
   "cell_type": "code",
   "execution_count": 3,
   "id": "ac9ea63a",
   "metadata": {
    "execution": {
     "iopub.execute_input": "2022-02-26T22:14:44.476653Z",
     "iopub.status.busy": "2022-02-26T22:14:44.475741Z",
     "iopub.status.idle": "2022-02-26T22:14:44.482228Z",
     "shell.execute_reply": "2022-02-26T22:14:44.481546Z",
     "shell.execute_reply.started": "2022-02-26T22:13:24.304191Z"
    },
    "papermill": {
     "duration": 0.060844,
     "end_time": "2022-02-26T22:14:44.482402",
     "exception": false,
     "start_time": "2022-02-26T22:14:44.421558",
     "status": "completed"
    },
    "tags": []
   },
   "outputs": [
    {
     "name": "stdout",
     "output_type": "stream",
     "text": [
      "CPU times: user 5 µs, sys: 0 ns, total: 5 µs\n",
      "Wall time: 7.87 µs\n"
     ]
    }
   ],
   "source": [
    "%%time\n",
    "# Notebook Configuration...\n",
    "\n",
    "# Amount of data we want to load into the Model...\n",
    "DATA_ROWS = None\n",
    "# Dataframe, the amount of rows and cols to visualize...\n",
    "NROWS = 50\n",
    "NCOLS = 15\n",
    "# Main data location path...\n",
    "BASE_PATH = '...'"
   ]
  },
  {
   "cell_type": "code",
   "execution_count": 4,
   "id": "03f6ae1a",
   "metadata": {
    "execution": {
     "iopub.execute_input": "2022-02-26T22:14:44.592264Z",
     "iopub.status.busy": "2022-02-26T22:14:44.591567Z",
     "iopub.status.idle": "2022-02-26T22:14:44.594331Z",
     "shell.execute_reply": "2022-02-26T22:14:44.595167Z",
     "shell.execute_reply.started": "2022-02-26T22:13:24.317070Z"
    },
    "papermill": {
     "duration": 0.060785,
     "end_time": "2022-02-26T22:14:44.595368",
     "exception": false,
     "start_time": "2022-02-26T22:14:44.534583",
     "status": "completed"
    },
    "tags": []
   },
   "outputs": [
    {
     "name": "stdout",
     "output_type": "stream",
     "text": [
      "CPU times: user 75 µs, sys: 10 µs, total: 85 µs\n",
      "Wall time: 88.7 µs\n"
     ]
    }
   ],
   "source": [
    "%%time\n",
    "# Configure notebook display settings to only use 2 decimal places, tables look nicer.\n",
    "pd.options.display.float_format = '{:,.2f}'.format\n",
    "pd.set_option('display.max_columns', NCOLS) \n",
    "pd.set_option('display.max_rows', NROWS)"
   ]
  },
  {
   "cell_type": "markdown",
   "id": "4946955b",
   "metadata": {
    "papermill": {
     "duration": 0.052646,
     "end_time": "2022-02-26T22:14:44.700645",
     "exception": false,
     "start_time": "2022-02-26T22:14:44.647999",
     "status": "completed"
    },
    "tags": []
   },
   "source": [
    "# Loading Information from CSV..."
   ]
  },
  {
   "cell_type": "code",
   "execution_count": 5,
   "id": "2860056e",
   "metadata": {
    "execution": {
     "iopub.execute_input": "2022-02-26T22:14:44.810552Z",
     "iopub.status.busy": "2022-02-26T22:14:44.809602Z",
     "iopub.status.idle": "2022-02-26T22:14:44.904028Z",
     "shell.execute_reply": "2022-02-26T22:14:44.904891Z",
     "shell.execute_reply.started": "2022-02-26T22:13:24.330367Z"
    },
    "papermill": {
     "duration": 0.152662,
     "end_time": "2022-02-26T22:14:44.905097",
     "exception": false,
     "start_time": "2022-02-26T22:14:44.752435",
     "status": "completed"
    },
    "tags": []
   },
   "outputs": [
    {
     "name": "stdout",
     "output_type": "stream",
     "text": [
      "CPU times: user 49 ms, sys: 9.29 ms, total: 58.3 ms\n",
      "Wall time: 92.5 ms\n"
     ]
    }
   ],
   "source": [
    "%%time\n",
    "trn_data = pd.read_csv('/kaggle/input/spaceship-titanic/train.csv')\n",
    "tst_data = pd.read_csv('/kaggle/input/spaceship-titanic/test.csv')\n",
    "\n",
    "sub = pd.read_csv('/kaggle/input/spaceship-titanic/sample_submission.csv')"
   ]
  },
  {
   "cell_type": "markdown",
   "id": "fe7e4854",
   "metadata": {
    "papermill": {
     "duration": 0.054183,
     "end_time": "2022-02-26T22:14:45.014713",
     "exception": false,
     "start_time": "2022-02-26T22:14:44.960530",
     "status": "completed"
    },
    "tags": []
   },
   "source": [
    "# Exploring the Information Available..."
   ]
  },
  {
   "cell_type": "code",
   "execution_count": 6,
   "id": "528cfffe",
   "metadata": {
    "execution": {
     "iopub.execute_input": "2022-02-26T22:14:45.124294Z",
     "iopub.status.busy": "2022-02-26T22:14:45.123213Z",
     "iopub.status.idle": "2022-02-26T22:14:45.165075Z",
     "shell.execute_reply": "2022-02-26T22:14:45.165813Z",
     "shell.execute_reply.started": "2022-02-26T22:13:24.384140Z"
    },
    "papermill": {
     "duration": 0.097721,
     "end_time": "2022-02-26T22:14:45.166001",
     "exception": false,
     "start_time": "2022-02-26T22:14:45.068280",
     "status": "completed"
    },
    "tags": []
   },
   "outputs": [
    {
     "name": "stdout",
     "output_type": "stream",
     "text": [
      "<class 'pandas.core.frame.DataFrame'>\n",
      "RangeIndex: 8693 entries, 0 to 8692\n",
      "Data columns (total 14 columns):\n",
      " #   Column        Non-Null Count  Dtype  \n",
      "---  ------        --------------  -----  \n",
      " 0   PassengerId   8693 non-null   object \n",
      " 1   HomePlanet    8492 non-null   object \n",
      " 2   CryoSleep     8476 non-null   object \n",
      " 3   Cabin         8494 non-null   object \n",
      " 4   Destination   8511 non-null   object \n",
      " 5   Age           8514 non-null   float64\n",
      " 6   VIP           8490 non-null   object \n",
      " 7   RoomService   8512 non-null   float64\n",
      " 8   FoodCourt     8510 non-null   float64\n",
      " 9   ShoppingMall  8485 non-null   float64\n",
      " 10  Spa           8510 non-null   float64\n",
      " 11  VRDeck        8505 non-null   float64\n",
      " 12  Name          8493 non-null   object \n",
      " 13  Transported   8693 non-null   bool   \n",
      "dtypes: bool(1), float64(6), object(7)\n",
      "memory usage: 891.5+ KB\n",
      "CPU times: user 19.9 ms, sys: 990 µs, total: 20.9 ms\n",
      "Wall time: 35.2 ms\n"
     ]
    }
   ],
   "source": [
    "%%time\n",
    "trn_data.info()"
   ]
  },
  {
   "cell_type": "code",
   "execution_count": 7,
   "id": "0dc2af4d",
   "metadata": {
    "execution": {
     "iopub.execute_input": "2022-02-26T22:14:45.280043Z",
     "iopub.status.busy": "2022-02-26T22:14:45.279331Z",
     "iopub.status.idle": "2022-02-26T22:14:45.306629Z",
     "shell.execute_reply": "2022-02-26T22:14:45.307207Z",
     "shell.execute_reply.started": "2022-02-26T22:13:24.403990Z"
    },
    "papermill": {
     "duration": 0.087101,
     "end_time": "2022-02-26T22:14:45.307400",
     "exception": false,
     "start_time": "2022-02-26T22:14:45.220299",
     "status": "completed"
    },
    "tags": []
   },
   "outputs": [
    {
     "name": "stdout",
     "output_type": "stream",
     "text": [
      "CPU times: user 116 µs, sys: 16 µs, total: 132 µs\n",
      "Wall time: 137 µs\n"
     ]
    },
    {
     "data": {
      "text/html": [
       "<div>\n",
       "<style scoped>\n",
       "    .dataframe tbody tr th:only-of-type {\n",
       "        vertical-align: middle;\n",
       "    }\n",
       "\n",
       "    .dataframe tbody tr th {\n",
       "        vertical-align: top;\n",
       "    }\n",
       "\n",
       "    .dataframe thead th {\n",
       "        text-align: right;\n",
       "    }\n",
       "</style>\n",
       "<table border=\"1\" class=\"dataframe\">\n",
       "  <thead>\n",
       "    <tr style=\"text-align: right;\">\n",
       "      <th></th>\n",
       "      <th>PassengerId</th>\n",
       "      <th>HomePlanet</th>\n",
       "      <th>CryoSleep</th>\n",
       "      <th>Cabin</th>\n",
       "      <th>Destination</th>\n",
       "      <th>Age</th>\n",
       "      <th>VIP</th>\n",
       "      <th>RoomService</th>\n",
       "      <th>FoodCourt</th>\n",
       "      <th>ShoppingMall</th>\n",
       "      <th>Spa</th>\n",
       "      <th>VRDeck</th>\n",
       "      <th>Name</th>\n",
       "      <th>Transported</th>\n",
       "    </tr>\n",
       "  </thead>\n",
       "  <tbody>\n",
       "    <tr>\n",
       "      <th>0</th>\n",
       "      <td>0001_01</td>\n",
       "      <td>Europa</td>\n",
       "      <td>False</td>\n",
       "      <td>B/0/P</td>\n",
       "      <td>TRAPPIST-1e</td>\n",
       "      <td>39.00</td>\n",
       "      <td>False</td>\n",
       "      <td>0.00</td>\n",
       "      <td>0.00</td>\n",
       "      <td>0.00</td>\n",
       "      <td>0.00</td>\n",
       "      <td>0.00</td>\n",
       "      <td>Maham Ofracculy</td>\n",
       "      <td>False</td>\n",
       "    </tr>\n",
       "    <tr>\n",
       "      <th>1</th>\n",
       "      <td>0002_01</td>\n",
       "      <td>Earth</td>\n",
       "      <td>False</td>\n",
       "      <td>F/0/S</td>\n",
       "      <td>TRAPPIST-1e</td>\n",
       "      <td>24.00</td>\n",
       "      <td>False</td>\n",
       "      <td>109.00</td>\n",
       "      <td>9.00</td>\n",
       "      <td>25.00</td>\n",
       "      <td>549.00</td>\n",
       "      <td>44.00</td>\n",
       "      <td>Juanna Vines</td>\n",
       "      <td>True</td>\n",
       "    </tr>\n",
       "    <tr>\n",
       "      <th>2</th>\n",
       "      <td>0003_01</td>\n",
       "      <td>Europa</td>\n",
       "      <td>False</td>\n",
       "      <td>A/0/S</td>\n",
       "      <td>TRAPPIST-1e</td>\n",
       "      <td>58.00</td>\n",
       "      <td>True</td>\n",
       "      <td>43.00</td>\n",
       "      <td>3,576.00</td>\n",
       "      <td>0.00</td>\n",
       "      <td>6,715.00</td>\n",
       "      <td>49.00</td>\n",
       "      <td>Altark Susent</td>\n",
       "      <td>False</td>\n",
       "    </tr>\n",
       "    <tr>\n",
       "      <th>3</th>\n",
       "      <td>0003_02</td>\n",
       "      <td>Europa</td>\n",
       "      <td>False</td>\n",
       "      <td>A/0/S</td>\n",
       "      <td>TRAPPIST-1e</td>\n",
       "      <td>33.00</td>\n",
       "      <td>False</td>\n",
       "      <td>0.00</td>\n",
       "      <td>1,283.00</td>\n",
       "      <td>371.00</td>\n",
       "      <td>3,329.00</td>\n",
       "      <td>193.00</td>\n",
       "      <td>Solam Susent</td>\n",
       "      <td>False</td>\n",
       "    </tr>\n",
       "    <tr>\n",
       "      <th>4</th>\n",
       "      <td>0004_01</td>\n",
       "      <td>Earth</td>\n",
       "      <td>False</td>\n",
       "      <td>F/1/S</td>\n",
       "      <td>TRAPPIST-1e</td>\n",
       "      <td>16.00</td>\n",
       "      <td>False</td>\n",
       "      <td>303.00</td>\n",
       "      <td>70.00</td>\n",
       "      <td>151.00</td>\n",
       "      <td>565.00</td>\n",
       "      <td>2.00</td>\n",
       "      <td>Willy Santantines</td>\n",
       "      <td>True</td>\n",
       "    </tr>\n",
       "  </tbody>\n",
       "</table>\n",
       "</div>"
      ],
      "text/plain": [
       "  PassengerId HomePlanet CryoSleep  Cabin  Destination   Age    VIP  \\\n",
       "0     0001_01     Europa     False  B/0/P  TRAPPIST-1e 39.00  False   \n",
       "1     0002_01      Earth     False  F/0/S  TRAPPIST-1e 24.00  False   \n",
       "2     0003_01     Europa     False  A/0/S  TRAPPIST-1e 58.00   True   \n",
       "3     0003_02     Europa     False  A/0/S  TRAPPIST-1e 33.00  False   \n",
       "4     0004_01      Earth     False  F/1/S  TRAPPIST-1e 16.00  False   \n",
       "\n",
       "   RoomService  FoodCourt  ShoppingMall      Spa  VRDeck               Name  \\\n",
       "0         0.00       0.00          0.00     0.00    0.00    Maham Ofracculy   \n",
       "1       109.00       9.00         25.00   549.00   44.00       Juanna Vines   \n",
       "2        43.00   3,576.00          0.00 6,715.00   49.00      Altark Susent   \n",
       "3         0.00   1,283.00        371.00 3,329.00  193.00       Solam Susent   \n",
       "4       303.00      70.00        151.00   565.00    2.00  Willy Santantines   \n",
       "\n",
       "   Transported  \n",
       "0        False  \n",
       "1         True  \n",
       "2        False  \n",
       "3        False  \n",
       "4         True  "
      ]
     },
     "execution_count": 7,
     "metadata": {},
     "output_type": "execute_result"
    }
   ],
   "source": [
    "%%time\n",
    "trn_data.head()"
   ]
  },
  {
   "cell_type": "code",
   "execution_count": 8,
   "id": "f4c33633",
   "metadata": {
    "execution": {
     "iopub.execute_input": "2022-02-26T22:14:45.436874Z",
     "iopub.status.busy": "2022-02-26T22:14:45.435723Z",
     "iopub.status.idle": "2022-02-26T22:14:45.465904Z",
     "shell.execute_reply": "2022-02-26T22:14:45.465117Z",
     "shell.execute_reply.started": "2022-02-26T22:13:24.423624Z"
    },
    "papermill": {
     "duration": 0.098477,
     "end_time": "2022-02-26T22:14:45.466069",
     "exception": false,
     "start_time": "2022-02-26T22:14:45.367592",
     "status": "completed"
    },
    "tags": []
   },
   "outputs": [
    {
     "name": "stdout",
     "output_type": "stream",
     "text": [
      "CPU times: user 19 ms, sys: 1.12 ms, total: 20.1 ms\n",
      "Wall time: 22 ms\n"
     ]
    },
    {
     "data": {
      "text/html": [
       "<div>\n",
       "<style scoped>\n",
       "    .dataframe tbody tr th:only-of-type {\n",
       "        vertical-align: middle;\n",
       "    }\n",
       "\n",
       "    .dataframe tbody tr th {\n",
       "        vertical-align: top;\n",
       "    }\n",
       "\n",
       "    .dataframe thead th {\n",
       "        text-align: right;\n",
       "    }\n",
       "</style>\n",
       "<table border=\"1\" class=\"dataframe\">\n",
       "  <thead>\n",
       "    <tr style=\"text-align: right;\">\n",
       "      <th></th>\n",
       "      <th>Age</th>\n",
       "      <th>RoomService</th>\n",
       "      <th>FoodCourt</th>\n",
       "      <th>ShoppingMall</th>\n",
       "      <th>Spa</th>\n",
       "      <th>VRDeck</th>\n",
       "    </tr>\n",
       "  </thead>\n",
       "  <tbody>\n",
       "    <tr>\n",
       "      <th>count</th>\n",
       "      <td>8,514.00</td>\n",
       "      <td>8,512.00</td>\n",
       "      <td>8,510.00</td>\n",
       "      <td>8,485.00</td>\n",
       "      <td>8,510.00</td>\n",
       "      <td>8,505.00</td>\n",
       "    </tr>\n",
       "    <tr>\n",
       "      <th>mean</th>\n",
       "      <td>28.83</td>\n",
       "      <td>224.69</td>\n",
       "      <td>458.08</td>\n",
       "      <td>173.73</td>\n",
       "      <td>311.14</td>\n",
       "      <td>304.85</td>\n",
       "    </tr>\n",
       "    <tr>\n",
       "      <th>std</th>\n",
       "      <td>14.49</td>\n",
       "      <td>666.72</td>\n",
       "      <td>1,611.49</td>\n",
       "      <td>604.70</td>\n",
       "      <td>1,136.71</td>\n",
       "      <td>1,145.72</td>\n",
       "    </tr>\n",
       "    <tr>\n",
       "      <th>min</th>\n",
       "      <td>0.00</td>\n",
       "      <td>0.00</td>\n",
       "      <td>0.00</td>\n",
       "      <td>0.00</td>\n",
       "      <td>0.00</td>\n",
       "      <td>0.00</td>\n",
       "    </tr>\n",
       "    <tr>\n",
       "      <th>25%</th>\n",
       "      <td>19.00</td>\n",
       "      <td>0.00</td>\n",
       "      <td>0.00</td>\n",
       "      <td>0.00</td>\n",
       "      <td>0.00</td>\n",
       "      <td>0.00</td>\n",
       "    </tr>\n",
       "    <tr>\n",
       "      <th>50%</th>\n",
       "      <td>27.00</td>\n",
       "      <td>0.00</td>\n",
       "      <td>0.00</td>\n",
       "      <td>0.00</td>\n",
       "      <td>0.00</td>\n",
       "      <td>0.00</td>\n",
       "    </tr>\n",
       "    <tr>\n",
       "      <th>75%</th>\n",
       "      <td>38.00</td>\n",
       "      <td>47.00</td>\n",
       "      <td>76.00</td>\n",
       "      <td>27.00</td>\n",
       "      <td>59.00</td>\n",
       "      <td>46.00</td>\n",
       "    </tr>\n",
       "    <tr>\n",
       "      <th>max</th>\n",
       "      <td>79.00</td>\n",
       "      <td>14,327.00</td>\n",
       "      <td>29,813.00</td>\n",
       "      <td>23,492.00</td>\n",
       "      <td>22,408.00</td>\n",
       "      <td>24,133.00</td>\n",
       "    </tr>\n",
       "  </tbody>\n",
       "</table>\n",
       "</div>"
      ],
      "text/plain": [
       "           Age  RoomService  FoodCourt  ShoppingMall       Spa    VRDeck\n",
       "count 8,514.00     8,512.00   8,510.00      8,485.00  8,510.00  8,505.00\n",
       "mean     28.83       224.69     458.08        173.73    311.14    304.85\n",
       "std      14.49       666.72   1,611.49        604.70  1,136.71  1,145.72\n",
       "min       0.00         0.00       0.00          0.00      0.00      0.00\n",
       "25%      19.00         0.00       0.00          0.00      0.00      0.00\n",
       "50%      27.00         0.00       0.00          0.00      0.00      0.00\n",
       "75%      38.00        47.00      76.00         27.00     59.00     46.00\n",
       "max      79.00    14,327.00  29,813.00     23,492.00 22,408.00 24,133.00"
      ]
     },
     "execution_count": 8,
     "metadata": {},
     "output_type": "execute_result"
    }
   ],
   "source": [
    "%%time\n",
    "trn_data.describe()"
   ]
  },
  {
   "cell_type": "code",
   "execution_count": 9,
   "id": "d18c1811",
   "metadata": {
    "execution": {
     "iopub.execute_input": "2022-02-26T22:14:45.588691Z",
     "iopub.status.busy": "2022-02-26T22:14:45.587980Z",
     "iopub.status.idle": "2022-02-26T22:14:45.590760Z",
     "shell.execute_reply": "2022-02-26T22:14:45.591286Z",
     "shell.execute_reply.started": "2022-02-26T22:13:24.456802Z"
    },
    "papermill": {
     "duration": 0.06664,
     "end_time": "2022-02-26T22:14:45.591469",
     "exception": false,
     "start_time": "2022-02-26T22:14:45.524829",
     "status": "completed"
    },
    "tags": []
   },
   "outputs": [
    {
     "name": "stdout",
     "output_type": "stream",
     "text": [
      "CPU times: user 4 µs, sys: 0 ns, total: 4 µs\n",
      "Wall time: 8.58 µs\n"
     ]
    }
   ],
   "source": [
    "%%time\n",
    "def describe_categ(df):\n",
    "    for col in df.columns:\n",
    "        unique_samples = list(df[col].unique())\n",
    "        unique_values = df[col].nunique()\n",
    "\n",
    "        print(f' {col}: {unique_values} Unique Values,  Data Sample >> {unique_samples[:5]}')\n",
    "    print(' ...')\n",
    "    return None"
   ]
  },
  {
   "cell_type": "code",
   "execution_count": 10,
   "id": "37b12099",
   "metadata": {
    "execution": {
     "iopub.execute_input": "2022-02-26T22:14:45.712879Z",
     "iopub.status.busy": "2022-02-26T22:14:45.711780Z",
     "iopub.status.idle": "2022-02-26T22:14:45.745547Z",
     "shell.execute_reply": "2022-02-26T22:14:45.744878Z",
     "shell.execute_reply.started": "2022-02-26T22:13:24.465954Z"
    },
    "papermill": {
     "duration": 0.095409,
     "end_time": "2022-02-26T22:14:45.745704",
     "exception": false,
     "start_time": "2022-02-26T22:14:45.650295",
     "status": "completed"
    },
    "tags": []
   },
   "outputs": [
    {
     "name": "stdout",
     "output_type": "stream",
     "text": [
      " PassengerId: 8693 Unique Values,  Data Sample >> ['0001_01', '0002_01', '0003_01', '0003_02', '0004_01']\n",
      " HomePlanet: 3 Unique Values,  Data Sample >> ['Europa', 'Earth', 'Mars', nan]\n",
      " CryoSleep: 2 Unique Values,  Data Sample >> [False, True, nan]\n",
      " Cabin: 6560 Unique Values,  Data Sample >> ['B/0/P', 'F/0/S', 'A/0/S', 'F/1/S', 'F/0/P']\n",
      " Destination: 3 Unique Values,  Data Sample >> ['TRAPPIST-1e', 'PSO J318.5-22', '55 Cancri e', nan]\n",
      " Age: 80 Unique Values,  Data Sample >> [39.0, 24.0, 58.0, 33.0, 16.0]\n",
      " VIP: 2 Unique Values,  Data Sample >> [False, True, nan]\n",
      " RoomService: 1273 Unique Values,  Data Sample >> [0.0, 109.0, 43.0, 303.0, 42.0]\n",
      " FoodCourt: 1507 Unique Values,  Data Sample >> [0.0, 9.0, 3576.0, 1283.0, 70.0]\n",
      " ShoppingMall: 1115 Unique Values,  Data Sample >> [0.0, 25.0, 371.0, 151.0, 3.0]\n",
      " Spa: 1327 Unique Values,  Data Sample >> [0.0, 549.0, 6715.0, 3329.0, 565.0]\n",
      " VRDeck: 1306 Unique Values,  Data Sample >> [0.0, 44.0, 49.0, 193.0, 2.0]\n",
      " Name: 8473 Unique Values,  Data Sample >> ['Maham Ofracculy', 'Juanna Vines', 'Altark Susent', 'Solam Susent', 'Willy Santantines']\n",
      " Transported: 2 Unique Values,  Data Sample >> [False, True]\n",
      " ...\n",
      "CPU times: user 26.7 ms, sys: 2.23 ms, total: 29 ms\n",
      "Wall time: 30.2 ms\n"
     ]
    }
   ],
   "source": [
    "%%time\n",
    "describe_categ(trn_data)"
   ]
  },
  {
   "cell_type": "code",
   "execution_count": 11,
   "id": "3c6214fa",
   "metadata": {
    "execution": {
     "iopub.execute_input": "2022-02-26T22:14:45.866777Z",
     "iopub.status.busy": "2022-02-26T22:14:45.866093Z",
     "iopub.status.idle": "2022-02-26T22:14:45.890265Z",
     "shell.execute_reply": "2022-02-26T22:14:45.889525Z",
     "shell.execute_reply.started": "2022-02-26T22:13:24.502316Z"
    },
    "papermill": {
     "duration": 0.084494,
     "end_time": "2022-02-26T22:14:45.890414",
     "exception": false,
     "start_time": "2022-02-26T22:14:45.805920",
     "status": "completed"
    },
    "tags": []
   },
   "outputs": [
    {
     "name": "stdout",
     "output_type": "stream",
     "text": [
      " PassengerId: 4277 Unique Values,  Data Sample >> ['0013_01', '0018_01', '0019_01', '0021_01', '0023_01']\n",
      " HomePlanet: 3 Unique Values,  Data Sample >> ['Earth', 'Europa', 'Mars', nan]\n",
      " CryoSleep: 2 Unique Values,  Data Sample >> [True, False, nan]\n",
      " Cabin: 3265 Unique Values,  Data Sample >> ['G/3/S', 'F/4/S', 'C/0/S', 'C/1/S', 'F/5/S']\n",
      " Destination: 3 Unique Values,  Data Sample >> ['TRAPPIST-1e', '55 Cancri e', 'PSO J318.5-22', nan]\n",
      " Age: 79 Unique Values,  Data Sample >> [27.0, 19.0, 31.0, 38.0, 20.0]\n",
      " VIP: 2 Unique Values,  Data Sample >> [False, nan, True]\n",
      " RoomService: 842 Unique Values,  Data Sample >> [0.0, 10.0, 339.0, 932.0, 2.0]\n",
      " FoodCourt: 902 Unique Values,  Data Sample >> [0.0, 9.0, 6652.0, 1615.0, nan]\n",
      " ShoppingMall: 715 Unique Values,  Data Sample >> [0.0, 635.0, 263.0, 136.0, nan]\n",
      " Spa: 833 Unique Values,  Data Sample >> [0.0, 2823.0, 181.0, 113.0, 237.0]\n",
      " VRDeck: 796 Unique Values,  Data Sample >> [0.0, 585.0, 60.0, 1010.0, 224.0]\n",
      " Name: 4176 Unique Values,  Data Sample >> ['Nelly Carsoning', 'Lerome Peckers', 'Sabih Unhearfus', 'Meratz Caltilter', 'Brence Harperez']\n",
      " ...\n",
      "CPU times: user 18.2 ms, sys: 140 µs, total: 18.3 ms\n",
      "Wall time: 16.6 ms\n"
     ]
    }
   ],
   "source": [
    "%%time\n",
    "describe_categ(tst_data)"
   ]
  },
  {
   "cell_type": "code",
   "execution_count": 12,
   "id": "a7f39ab7",
   "metadata": {
    "execution": {
     "iopub.execute_input": "2022-02-26T22:14:46.018693Z",
     "iopub.status.busy": "2022-02-26T22:14:46.015697Z",
     "iopub.status.idle": "2022-02-26T22:14:46.023530Z",
     "shell.execute_reply": "2022-02-26T22:14:46.022907Z",
     "shell.execute_reply.started": "2022-02-26T22:13:24.523033Z"
    },
    "papermill": {
     "duration": 0.077392,
     "end_time": "2022-02-26T22:14:46.023686",
     "exception": false,
     "start_time": "2022-02-26T22:14:45.946294",
     "status": "completed"
    },
    "tags": []
   },
   "outputs": [
    {
     "data": {
      "text/plain": [
       "PassengerId       0\n",
       "HomePlanet      201\n",
       "CryoSleep       217\n",
       "Cabin           199\n",
       "Destination     182\n",
       "Age             179\n",
       "VIP             203\n",
       "RoomService     181\n",
       "FoodCourt       183\n",
       "ShoppingMall    208\n",
       "Spa             183\n",
       "VRDeck          188\n",
       "Name            200\n",
       "Transported       0\n",
       "dtype: int64"
      ]
     },
     "execution_count": 12,
     "metadata": {},
     "output_type": "execute_result"
    }
   ],
   "source": [
    "trn_data.isnull().sum()"
   ]
  },
  {
   "cell_type": "code",
   "execution_count": 13,
   "id": "2727f271",
   "metadata": {
    "execution": {
     "iopub.execute_input": "2022-02-26T22:14:46.161161Z",
     "iopub.status.busy": "2022-02-26T22:14:46.160289Z",
     "iopub.status.idle": "2022-02-26T22:14:46.164291Z",
     "shell.execute_reply": "2022-02-26T22:14:46.163720Z",
     "shell.execute_reply.started": "2022-02-26T22:13:24.537906Z"
    },
    "papermill": {
     "duration": 0.079287,
     "end_time": "2022-02-26T22:14:46.164436",
     "exception": false,
     "start_time": "2022-02-26T22:14:46.085149",
     "status": "completed"
    },
    "tags": []
   },
   "outputs": [
    {
     "data": {
      "text/html": [
       "<div>\n",
       "<style scoped>\n",
       "    .dataframe tbody tr th:only-of-type {\n",
       "        vertical-align: middle;\n",
       "    }\n",
       "\n",
       "    .dataframe tbody tr th {\n",
       "        vertical-align: top;\n",
       "    }\n",
       "\n",
       "    .dataframe thead th {\n",
       "        text-align: right;\n",
       "    }\n",
       "</style>\n",
       "<table border=\"1\" class=\"dataframe\">\n",
       "  <thead>\n",
       "    <tr style=\"text-align: right;\">\n",
       "      <th></th>\n",
       "      <th>PassengerId</th>\n",
       "      <th>HomePlanet</th>\n",
       "      <th>CryoSleep</th>\n",
       "      <th>Cabin</th>\n",
       "      <th>Destination</th>\n",
       "      <th>Age</th>\n",
       "      <th>VIP</th>\n",
       "      <th>RoomService</th>\n",
       "      <th>FoodCourt</th>\n",
       "      <th>ShoppingMall</th>\n",
       "      <th>Spa</th>\n",
       "      <th>VRDeck</th>\n",
       "      <th>Name</th>\n",
       "    </tr>\n",
       "  </thead>\n",
       "  <tbody>\n",
       "    <tr>\n",
       "      <th>0</th>\n",
       "      <td>0013_01</td>\n",
       "      <td>Earth</td>\n",
       "      <td>True</td>\n",
       "      <td>G/3/S</td>\n",
       "      <td>TRAPPIST-1e</td>\n",
       "      <td>27.00</td>\n",
       "      <td>False</td>\n",
       "      <td>0.00</td>\n",
       "      <td>0.00</td>\n",
       "      <td>0.00</td>\n",
       "      <td>0.00</td>\n",
       "      <td>0.00</td>\n",
       "      <td>Nelly Carsoning</td>\n",
       "    </tr>\n",
       "    <tr>\n",
       "      <th>1</th>\n",
       "      <td>0018_01</td>\n",
       "      <td>Earth</td>\n",
       "      <td>False</td>\n",
       "      <td>F/4/S</td>\n",
       "      <td>TRAPPIST-1e</td>\n",
       "      <td>19.00</td>\n",
       "      <td>False</td>\n",
       "      <td>0.00</td>\n",
       "      <td>9.00</td>\n",
       "      <td>0.00</td>\n",
       "      <td>2,823.00</td>\n",
       "      <td>0.00</td>\n",
       "      <td>Lerome Peckers</td>\n",
       "    </tr>\n",
       "    <tr>\n",
       "      <th>2</th>\n",
       "      <td>0019_01</td>\n",
       "      <td>Europa</td>\n",
       "      <td>True</td>\n",
       "      <td>C/0/S</td>\n",
       "      <td>55 Cancri e</td>\n",
       "      <td>31.00</td>\n",
       "      <td>False</td>\n",
       "      <td>0.00</td>\n",
       "      <td>0.00</td>\n",
       "      <td>0.00</td>\n",
       "      <td>0.00</td>\n",
       "      <td>0.00</td>\n",
       "      <td>Sabih Unhearfus</td>\n",
       "    </tr>\n",
       "    <tr>\n",
       "      <th>3</th>\n",
       "      <td>0021_01</td>\n",
       "      <td>Europa</td>\n",
       "      <td>False</td>\n",
       "      <td>C/1/S</td>\n",
       "      <td>TRAPPIST-1e</td>\n",
       "      <td>38.00</td>\n",
       "      <td>False</td>\n",
       "      <td>0.00</td>\n",
       "      <td>6,652.00</td>\n",
       "      <td>0.00</td>\n",
       "      <td>181.00</td>\n",
       "      <td>585.00</td>\n",
       "      <td>Meratz Caltilter</td>\n",
       "    </tr>\n",
       "    <tr>\n",
       "      <th>4</th>\n",
       "      <td>0023_01</td>\n",
       "      <td>Earth</td>\n",
       "      <td>False</td>\n",
       "      <td>F/5/S</td>\n",
       "      <td>TRAPPIST-1e</td>\n",
       "      <td>20.00</td>\n",
       "      <td>False</td>\n",
       "      <td>10.00</td>\n",
       "      <td>0.00</td>\n",
       "      <td>635.00</td>\n",
       "      <td>0.00</td>\n",
       "      <td>0.00</td>\n",
       "      <td>Brence Harperez</td>\n",
       "    </tr>\n",
       "  </tbody>\n",
       "</table>\n",
       "</div>"
      ],
      "text/plain": [
       "  PassengerId HomePlanet CryoSleep  Cabin  Destination   Age    VIP  \\\n",
       "0     0013_01      Earth      True  G/3/S  TRAPPIST-1e 27.00  False   \n",
       "1     0018_01      Earth     False  F/4/S  TRAPPIST-1e 19.00  False   \n",
       "2     0019_01     Europa      True  C/0/S  55 Cancri e 31.00  False   \n",
       "3     0021_01     Europa     False  C/1/S  TRAPPIST-1e 38.00  False   \n",
       "4     0023_01      Earth     False  F/5/S  TRAPPIST-1e 20.00  False   \n",
       "\n",
       "   RoomService  FoodCourt  ShoppingMall      Spa  VRDeck              Name  \n",
       "0         0.00       0.00          0.00     0.00    0.00   Nelly Carsoning  \n",
       "1         0.00       9.00          0.00 2,823.00    0.00    Lerome Peckers  \n",
       "2         0.00       0.00          0.00     0.00    0.00   Sabih Unhearfus  \n",
       "3         0.00   6,652.00          0.00   181.00  585.00  Meratz Caltilter  \n",
       "4        10.00       0.00        635.00     0.00    0.00   Brence Harperez  "
      ]
     },
     "execution_count": 13,
     "metadata": {},
     "output_type": "execute_result"
    }
   ],
   "source": [
    "tst_data.head()"
   ]
  },
  {
   "cell_type": "code",
   "execution_count": 14,
   "id": "6180bab7",
   "metadata": {
    "execution": {
     "iopub.execute_input": "2022-02-26T22:14:46.290869Z",
     "iopub.status.busy": "2022-02-26T22:14:46.288365Z",
     "iopub.status.idle": "2022-02-26T22:14:46.294391Z",
     "shell.execute_reply": "2022-02-26T22:14:46.293727Z",
     "shell.execute_reply.started": "2022-02-26T22:13:24.558081Z"
    },
    "papermill": {
     "duration": 0.072495,
     "end_time": "2022-02-26T22:14:46.294543",
     "exception": false,
     "start_time": "2022-02-26T22:14:46.222048",
     "status": "completed"
    },
    "tags": []
   },
   "outputs": [
    {
     "data": {
      "text/plain": [
       "PassengerId       0\n",
       "HomePlanet       87\n",
       "CryoSleep        93\n",
       "Cabin           100\n",
       "Destination      92\n",
       "Age              91\n",
       "VIP              93\n",
       "RoomService      82\n",
       "FoodCourt       106\n",
       "ShoppingMall     98\n",
       "Spa             101\n",
       "VRDeck           80\n",
       "Name             94\n",
       "dtype: int64"
      ]
     },
     "execution_count": 14,
     "metadata": {},
     "output_type": "execute_result"
    }
   ],
   "source": [
    "tst_data.isnull().sum()"
   ]
  },
  {
   "cell_type": "code",
   "execution_count": 15,
   "id": "3e8f0184",
   "metadata": {
    "execution": {
     "iopub.execute_input": "2022-02-26T22:14:46.422139Z",
     "iopub.status.busy": "2022-02-26T22:14:46.421406Z",
     "iopub.status.idle": "2022-02-26T22:14:46.426714Z",
     "shell.execute_reply": "2022-02-26T22:14:46.426078Z",
     "shell.execute_reply.started": "2022-02-26T22:13:24.571248Z"
    },
    "papermill": {
     "duration": 0.074495,
     "end_time": "2022-02-26T22:14:46.426871",
     "exception": false,
     "start_time": "2022-02-26T22:14:46.352376",
     "status": "completed"
    },
    "tags": []
   },
   "outputs": [
    {
     "data": {
      "text/html": [
       "<div>\n",
       "<style scoped>\n",
       "    .dataframe tbody tr th:only-of-type {\n",
       "        vertical-align: middle;\n",
       "    }\n",
       "\n",
       "    .dataframe tbody tr th {\n",
       "        vertical-align: top;\n",
       "    }\n",
       "\n",
       "    .dataframe thead th {\n",
       "        text-align: right;\n",
       "    }\n",
       "</style>\n",
       "<table border=\"1\" class=\"dataframe\">\n",
       "  <thead>\n",
       "    <tr style=\"text-align: right;\">\n",
       "      <th></th>\n",
       "      <th>PassengerId</th>\n",
       "      <th>Transported</th>\n",
       "    </tr>\n",
       "  </thead>\n",
       "  <tbody>\n",
       "    <tr>\n",
       "      <th>0</th>\n",
       "      <td>0013_01</td>\n",
       "      <td>False</td>\n",
       "    </tr>\n",
       "    <tr>\n",
       "      <th>1</th>\n",
       "      <td>0018_01</td>\n",
       "      <td>False</td>\n",
       "    </tr>\n",
       "    <tr>\n",
       "      <th>2</th>\n",
       "      <td>0019_01</td>\n",
       "      <td>False</td>\n",
       "    </tr>\n",
       "    <tr>\n",
       "      <th>3</th>\n",
       "      <td>0021_01</td>\n",
       "      <td>False</td>\n",
       "    </tr>\n",
       "    <tr>\n",
       "      <th>4</th>\n",
       "      <td>0023_01</td>\n",
       "      <td>False</td>\n",
       "    </tr>\n",
       "  </tbody>\n",
       "</table>\n",
       "</div>"
      ],
      "text/plain": [
       "  PassengerId  Transported\n",
       "0     0013_01        False\n",
       "1     0018_01        False\n",
       "2     0019_01        False\n",
       "3     0021_01        False\n",
       "4     0023_01        False"
      ]
     },
     "execution_count": 15,
     "metadata": {},
     "output_type": "execute_result"
    }
   ],
   "source": [
    "sub.head()"
   ]
  },
  {
   "cell_type": "markdown",
   "id": "4700fd11",
   "metadata": {
    "papermill": {
     "duration": 0.057949,
     "end_time": "2022-02-26T22:14:46.544227",
     "exception": false,
     "start_time": "2022-02-26T22:14:46.486278",
     "status": "completed"
    },
    "tags": []
   },
   "source": [
    "# Exploring the Target Variable..."
   ]
  },
  {
   "cell_type": "code",
   "execution_count": 16,
   "id": "377cc46d",
   "metadata": {
    "execution": {
     "iopub.execute_input": "2022-02-26T22:14:46.672528Z",
     "iopub.status.busy": "2022-02-26T22:14:46.671813Z",
     "iopub.status.idle": "2022-02-26T22:14:46.675043Z",
     "shell.execute_reply": "2022-02-26T22:14:46.675594Z",
     "shell.execute_reply.started": "2022-02-26T22:13:24.581441Z"
    },
    "papermill": {
     "duration": 0.069232,
     "end_time": "2022-02-26T22:14:46.675771",
     "exception": false,
     "start_time": "2022-02-26T22:14:46.606539",
     "status": "completed"
    },
    "tags": []
   },
   "outputs": [
    {
     "name": "stdout",
     "output_type": "stream",
     "text": [
      "CPU times: user 4 µs, sys: 0 ns, total: 4 µs\n",
      "Wall time: 9.3 µs\n"
     ]
    }
   ],
   "source": [
    "%%time\n",
    "def analyze_categ_target(df, target = 'Transported'):\n",
    "    \n",
    "    transported = df[df[target] == True].shape[0]\n",
    "    not_transported = df[df[target] == False].shape[0]\n",
    "    total = transported + not_transported\n",
    "    \n",
    "    print(f'Transported     : {transported / total:.2f} %')\n",
    "    print(f'Not Transported : {not_transported / total:.2f} %')\n",
    "    print(f'Total Passengers: {total}')\n",
    "    print('...')"
   ]
  },
  {
   "cell_type": "code",
   "execution_count": 17,
   "id": "d3bf7bc4",
   "metadata": {
    "execution": {
     "iopub.execute_input": "2022-02-26T22:14:46.798695Z",
     "iopub.status.busy": "2022-02-26T22:14:46.797632Z",
     "iopub.status.idle": "2022-02-26T22:14:46.809611Z",
     "shell.execute_reply": "2022-02-26T22:14:46.810170Z",
     "shell.execute_reply.started": "2022-02-26T22:13:24.590309Z"
    },
    "papermill": {
     "duration": 0.074903,
     "end_time": "2022-02-26T22:14:46.810366",
     "exception": false,
     "start_time": "2022-02-26T22:14:46.735463",
     "status": "completed"
    },
    "tags": []
   },
   "outputs": [
    {
     "name": "stdout",
     "output_type": "stream",
     "text": [
      "Transported     : 0.50 %\n",
      "Not Transported : 0.50 %\n",
      "Total Passengers: 8693\n",
      "...\n",
      "CPU times: user 4.46 ms, sys: 0 ns, total: 4.46 ms\n",
      "Wall time: 6.02 ms\n"
     ]
    }
   ],
   "source": [
    "%%time\n",
    "analyze_categ_target(trn_data)"
   ]
  },
  {
   "cell_type": "code",
   "execution_count": 18,
   "id": "29dbc1cd",
   "metadata": {
    "execution": {
     "iopub.execute_input": "2022-02-26T22:14:46.938306Z",
     "iopub.status.busy": "2022-02-26T22:14:46.937613Z",
     "iopub.status.idle": "2022-02-26T22:14:46.942250Z",
     "shell.execute_reply": "2022-02-26T22:14:46.943180Z",
     "shell.execute_reply.started": "2022-02-26T22:13:24.604564Z"
    },
    "papermill": {
     "duration": 0.072876,
     "end_time": "2022-02-26T22:14:46.943433",
     "exception": false,
     "start_time": "2022-02-26T22:14:46.870557",
     "status": "completed"
    },
    "tags": []
   },
   "outputs": [
    {
     "name": "stdout",
     "output_type": "stream",
     "text": [
      "Overlapped Passengers: 0\n",
      "CPU times: user 4.53 ms, sys: 0 ns, total: 4.53 ms\n",
      "Wall time: 4.59 ms\n"
     ]
    }
   ],
   "source": [
    "%%time\n",
    "trn_passenger_ids = set(trn_data['PassengerId'].unique())\n",
    "tst_passenger_ids = set(tst_data['PassengerId'].unique())\n",
    "intersection = trn_passenger_ids.intersection(tst_passenger_ids)\n",
    "print('Overlapped Passengers:', len(intersection))"
   ]
  },
  {
   "cell_type": "markdown",
   "id": "e48450ed",
   "metadata": {
    "papermill": {
     "duration": 0.059725,
     "end_time": "2022-02-26T22:14:47.063636",
     "exception": false,
     "start_time": "2022-02-26T22:14:47.003911",
     "status": "completed"
    },
    "tags": []
   },
   "source": [
    "# Feature Engineering"
   ]
  },
  {
   "cell_type": "code",
   "execution_count": 19,
   "id": "d462bf14",
   "metadata": {
    "execution": {
     "iopub.execute_input": "2022-02-26T22:14:47.193954Z",
     "iopub.status.busy": "2022-02-26T22:14:47.192810Z",
     "iopub.status.idle": "2022-02-26T22:14:47.194747Z",
     "shell.execute_reply": "2022-02-26T22:14:47.195259Z",
     "shell.execute_reply.started": "2022-02-26T22:13:24.616912Z"
    },
    "papermill": {
     "duration": 0.072099,
     "end_time": "2022-02-26T22:14:47.195437",
     "exception": false,
     "start_time": "2022-02-26T22:14:47.123338",
     "status": "completed"
    },
    "tags": []
   },
   "outputs": [],
   "source": [
    "def fill_missing(df):\n",
    "    '''\n",
    "    \n",
    "    '''\n",
    "    \n",
    "    numerics = ['int16', 'int32', 'int64', 'float16', 'float32', 'float64']\n",
    "    numeric_tmp = df.select_dtypes(include = numerics)\n",
    "    categ_tmp = df.select_dtypes(exclude = numerics)\n",
    "\n",
    "    for col in numeric_tmp.columns:\n",
    "        print(col)\n",
    "        df[col] = df[col].fillna(value = df[col].mean())\n",
    "        \n",
    "    for col in categ_tmp.columns:\n",
    "        print(col)\n",
    "        df[col] = df[col].fillna(value = df[col].mode()[0])\n",
    "        \n",
    "    print('...')\n",
    "    \n",
    "    return df"
   ]
  },
  {
   "cell_type": "code",
   "execution_count": 20,
   "id": "7c6d8e44",
   "metadata": {
    "execution": {
     "iopub.execute_input": "2022-02-26T22:14:47.326174Z",
     "iopub.status.busy": "2022-02-26T22:14:47.321295Z",
     "iopub.status.idle": "2022-02-26T22:14:47.402634Z",
     "shell.execute_reply": "2022-02-26T22:14:47.403462Z",
     "shell.execute_reply.started": "2022-02-26T22:13:24.626707Z"
    },
    "papermill": {
     "duration": 0.147078,
     "end_time": "2022-02-26T22:14:47.403702",
     "exception": false,
     "start_time": "2022-02-26T22:14:47.256624",
     "status": "completed"
    },
    "tags": []
   },
   "outputs": [
    {
     "name": "stdout",
     "output_type": "stream",
     "text": [
      "Age\n",
      "RoomService\n",
      "FoodCourt\n",
      "ShoppingMall\n",
      "Spa\n",
      "VRDeck\n",
      "PassengerId\n",
      "HomePlanet\n",
      "CryoSleep\n",
      "Cabin\n",
      "Destination\n",
      "VIP\n",
      "Name\n",
      "Transported\n",
      "...\n",
      "Age\n",
      "RoomService\n",
      "FoodCourt\n",
      "ShoppingMall\n",
      "Spa\n",
      "VRDeck\n",
      "PassengerId\n",
      "HomePlanet\n",
      "CryoSleep\n",
      "Cabin\n",
      "Destination\n",
      "VIP\n",
      "Name\n",
      "...\n"
     ]
    }
   ],
   "source": [
    "trn_data =  fill_missing(trn_data)\n",
    "tst_data =  fill_missing(tst_data)"
   ]
  },
  {
   "cell_type": "code",
   "execution_count": 21,
   "id": "9fde55e6",
   "metadata": {
    "execution": {
     "iopub.execute_input": "2022-02-26T22:14:47.537817Z",
     "iopub.status.busy": "2022-02-26T22:14:47.537082Z",
     "iopub.status.idle": "2022-02-26T22:14:47.540318Z",
     "shell.execute_reply": "2022-02-26T22:14:47.541052Z",
     "shell.execute_reply.started": "2022-02-26T22:13:24.689919Z"
    },
    "papermill": {
     "duration": 0.073587,
     "end_time": "2022-02-26T22:14:47.541279",
     "exception": false,
     "start_time": "2022-02-26T22:14:47.467692",
     "status": "completed"
    },
    "tags": []
   },
   "outputs": [
    {
     "name": "stdout",
     "output_type": "stream",
     "text": [
      "CPU times: user 5 µs, sys: 0 ns, total: 5 µs\n",
      "Wall time: 8.82 µs\n"
     ]
    }
   ],
   "source": [
    "%%time\n",
    "def total_billed(df):\n",
    "    '''\n",
    "    Calculates total amount billed in the trip to the passenger... \n",
    "    \n",
    "    '''\n",
    "    \n",
    "    df['Total_Billed'] = df['RoomService'] + df['FoodCourt'] + df['ShoppingMall'] + df['Spa'] + df['VRDeck']\n",
    "    return df"
   ]
  },
  {
   "cell_type": "code",
   "execution_count": 22,
   "id": "0e6ac592",
   "metadata": {
    "execution": {
     "iopub.execute_input": "2022-02-26T22:14:47.671488Z",
     "iopub.status.busy": "2022-02-26T22:14:47.670611Z",
     "iopub.status.idle": "2022-02-26T22:14:47.674877Z",
     "shell.execute_reply": "2022-02-26T22:14:47.675607Z",
     "shell.execute_reply.started": "2022-02-26T22:13:24.697477Z"
    },
    "papermill": {
     "duration": 0.073351,
     "end_time": "2022-02-26T22:14:47.675857",
     "exception": false,
     "start_time": "2022-02-26T22:14:47.602506",
     "status": "completed"
    },
    "tags": []
   },
   "outputs": [
    {
     "name": "stdout",
     "output_type": "stream",
     "text": [
      "CPU times: user 2.11 ms, sys: 2.03 ms, total: 4.14 ms\n",
      "Wall time: 3.53 ms\n"
     ]
    }
   ],
   "source": [
    "%%time\n",
    "trn_data = total_billed(trn_data)\n",
    "tst_data = total_billed(tst_data)"
   ]
  },
  {
   "cell_type": "code",
   "execution_count": 23,
   "id": "0845ebeb",
   "metadata": {
    "execution": {
     "iopub.execute_input": "2022-02-26T22:14:47.807532Z",
     "iopub.status.busy": "2022-02-26T22:14:47.806819Z",
     "iopub.status.idle": "2022-02-26T22:14:47.810084Z",
     "shell.execute_reply": "2022-02-26T22:14:47.809448Z",
     "shell.execute_reply.started": "2022-02-26T22:13:24.714192Z"
    },
    "papermill": {
     "duration": 0.072665,
     "end_time": "2022-02-26T22:14:47.810228",
     "exception": false,
     "start_time": "2022-02-26T22:14:47.737563",
     "status": "completed"
    },
    "tags": []
   },
   "outputs": [],
   "source": [
    "def name_ext(df):\n",
    "    '''\n",
    "    '''\n",
    "    df['FirstName'] = df['Name'].str.split(' ', expand=True)[0]\n",
    "    df['FamilyName'] = df['Name'].str.split(' ', expand=True)[1]\n",
    "    df.drop(columns = ['Name'], inplace = True)\n",
    "    return df"
   ]
  },
  {
   "cell_type": "code",
   "execution_count": 24,
   "id": "92cc3cd3",
   "metadata": {
    "execution": {
     "iopub.execute_input": "2022-02-26T22:14:48.079232Z",
     "iopub.status.busy": "2022-02-26T22:14:48.065352Z",
     "iopub.status.idle": "2022-02-26T22:14:48.106039Z",
     "shell.execute_reply": "2022-02-26T22:14:48.106536Z",
     "shell.execute_reply.started": "2022-02-26T22:13:24.722367Z"
    },
    "papermill": {
     "duration": 0.23177,
     "end_time": "2022-02-26T22:14:48.106726",
     "exception": false,
     "start_time": "2022-02-26T22:14:47.874956",
     "status": "completed"
    },
    "tags": []
   },
   "outputs": [
    {
     "name": "stdout",
     "output_type": "stream",
     "text": [
      "CPU times: user 160 ms, sys: 5.16 ms, total: 166 ms\n",
      "Wall time: 163 ms\n"
     ]
    }
   ],
   "source": [
    "%%time\n",
    "trn_data = name_ext(trn_data)\n",
    "tst_data = name_ext(tst_data)"
   ]
  },
  {
   "cell_type": "code",
   "execution_count": 25,
   "id": "4bcbdabb",
   "metadata": {
    "execution": {
     "iopub.execute_input": "2022-02-26T22:14:48.239950Z",
     "iopub.status.busy": "2022-02-26T22:14:48.239234Z",
     "iopub.status.idle": "2022-02-26T22:14:48.242072Z",
     "shell.execute_reply": "2022-02-26T22:14:48.241481Z",
     "shell.execute_reply.started": "2022-02-26T22:13:50.765545Z"
    },
    "papermill": {
     "duration": 0.072539,
     "end_time": "2022-02-26T22:14:48.242297",
     "exception": false,
     "start_time": "2022-02-26T22:14:48.169758",
     "status": "completed"
    },
    "tags": []
   },
   "outputs": [],
   "source": [
    "def cabin_separation(df):\n",
    "    '''\n",
    "    '''\n",
    "    df['CabinDeck'] = df['Cabin'].str.split('/', expand=True)[0]\n",
    "    df['CabinNum'] = df['Cabin'].str.split('/', expand=True)[1]\n",
    "    df['CabinSide'] = df['Cabin'].str.split('/', expand=True)[2]\n",
    "    df.drop(columns = ['Cabin'], inplace = True)\n",
    "    return df"
   ]
  },
  {
   "cell_type": "code",
   "execution_count": 26,
   "id": "892a76dd",
   "metadata": {
    "execution": {
     "iopub.execute_input": "2022-02-26T22:14:48.373202Z",
     "iopub.status.busy": "2022-02-26T22:14:48.372418Z",
     "iopub.status.idle": "2022-02-26T22:14:48.448098Z",
     "shell.execute_reply": "2022-02-26T22:14:48.448895Z",
     "shell.execute_reply.started": "2022-02-26T22:13:51.126590Z"
    },
    "papermill": {
     "duration": 0.145037,
     "end_time": "2022-02-26T22:14:48.449088",
     "exception": false,
     "start_time": "2022-02-26T22:14:48.304051",
     "status": "completed"
    },
    "tags": []
   },
   "outputs": [
    {
     "name": "stdout",
     "output_type": "stream",
     "text": [
      "CPU times: user 73.5 ms, sys: 2 ms, total: 75.5 ms\n",
      "Wall time: 75.3 ms\n"
     ]
    }
   ],
   "source": [
    "%%time\n",
    "trn_data = cabin_separation(trn_data)\n",
    "tst_data = cabin_separation(tst_data)"
   ]
  },
  {
   "cell_type": "markdown",
   "id": "1d3d2cac",
   "metadata": {
    "papermill": {
     "duration": 0.060803,
     "end_time": "2022-02-26T22:14:48.570855",
     "exception": false,
     "start_time": "2022-02-26T22:14:48.510052",
     "status": "completed"
    },
    "tags": []
   },
   "source": [
    "# Pre-Processing for Training"
   ]
  },
  {
   "cell_type": "code",
   "execution_count": 27,
   "id": "5c8c5abd",
   "metadata": {
    "execution": {
     "iopub.execute_input": "2022-02-26T22:14:48.700884Z",
     "iopub.status.busy": "2022-02-26T22:14:48.697829Z",
     "iopub.status.idle": "2022-02-26T22:14:48.704979Z",
     "shell.execute_reply": "2022-02-26T22:14:48.704377Z",
     "shell.execute_reply.started": "2022-02-26T22:13:51.965269Z"
    },
    "papermill": {
     "duration": 0.073598,
     "end_time": "2022-02-26T22:14:48.705122",
     "exception": false,
     "start_time": "2022-02-26T22:14:48.631524",
     "status": "completed"
    },
    "tags": []
   },
   "outputs": [
    {
     "name": "stdout",
     "output_type": "stream",
     "text": [
      "CPU times: user 5 µs, sys: 1 µs, total: 6 µs\n",
      "Wall time: 9.54 µs\n"
     ]
    }
   ],
   "source": [
    "%%time\n",
    "numerical_features = ['Age', 'RoomService', 'FoodCourt', 'ShoppingMall', 'Spa', 'VRDeck', 'total_billed']\n",
    "\n",
    "categorical_features = [\n",
    "                        #'PassengerId',\n",
    "                        'HomePlanet',\n",
    "                        'CryoSleep',\n",
    "                        'CabinDeck',\n",
    "                        'CabinNum',\n",
    "                        'CabinSide',\n",
    "                        'Destination',\n",
    "                        'VIP',\n",
    "                        'FirstName',\n",
    "                        'FamilyName',\n",
    "                        ]\n",
    "\n",
    "target_feature = 'Transported'"
   ]
  },
  {
   "cell_type": "code",
   "execution_count": 28,
   "id": "da9a654b",
   "metadata": {
    "execution": {
     "iopub.execute_input": "2022-02-26T22:14:48.836536Z",
     "iopub.status.busy": "2022-02-26T22:14:48.835751Z",
     "iopub.status.idle": "2022-02-26T22:14:49.867568Z",
     "shell.execute_reply": "2022-02-26T22:14:49.866520Z",
     "shell.execute_reply.started": "2022-02-26T22:13:52.125631Z"
    },
    "papermill": {
     "duration": 1.098826,
     "end_time": "2022-02-26T22:14:49.867782",
     "exception": false,
     "start_time": "2022-02-26T22:14:48.768956",
     "status": "completed"
    },
    "tags": []
   },
   "outputs": [
    {
     "name": "stdout",
     "output_type": "stream",
     "text": [
      "CPU times: user 478 ms, sys: 360 ms, total: 839 ms\n",
      "Wall time: 1.02 s\n"
     ]
    }
   ],
   "source": [
    "%%time\n",
    "from sklearn.preprocessing import LabelEncoder \n",
    "\n",
    "def encode_categorical(train_df, test_df, categ_feat = categorical_features):\n",
    "    '''\n",
    "    \n",
    "    '''\n",
    "    encoder_dict = {}\n",
    "    \n",
    "    concat_data = pd.concat([trn_data[categ_feat], tst_data[categ_feat]])\n",
    "    \n",
    "    for col in concat_data.columns:\n",
    "        print('Processing: ', col)\n",
    "        encoder = LabelEncoder()\n",
    "        encoder.fit(concat_data[col])\n",
    "        encoder_dict[col] = encoder\n",
    "\n",
    "        train_df[col + '_Enc'] = encoder.transform(train_df[col])\n",
    "        test_df[col + '_Enc'] = encoder.transform(test_df[col])\n",
    "    \n",
    "    train_df = train_df.drop(columns = categ_feat, axis = 1)\n",
    "    test_df = test_df.drop(columns = categ_feat, axis = 1)\n",
    "\n",
    "    return train_df, test_df"
   ]
  },
  {
   "cell_type": "code",
   "execution_count": 29,
   "id": "4b5412f5",
   "metadata": {
    "execution": {
     "iopub.execute_input": "2022-02-26T22:14:50.001673Z",
     "iopub.status.busy": "2022-02-26T22:14:50.000708Z",
     "iopub.status.idle": "2022-02-26T22:14:50.076520Z",
     "shell.execute_reply": "2022-02-26T22:14:50.077035Z",
     "shell.execute_reply.started": "2022-02-26T22:13:52.501400Z"
    },
    "papermill": {
     "duration": 0.145652,
     "end_time": "2022-02-26T22:14:50.077223",
     "exception": false,
     "start_time": "2022-02-26T22:14:49.931571",
     "status": "completed"
    },
    "tags": []
   },
   "outputs": [
    {
     "name": "stdout",
     "output_type": "stream",
     "text": [
      "Processing:  HomePlanet\n",
      "Processing:  CryoSleep\n",
      "Processing:  CabinDeck\n",
      "Processing:  CabinNum\n",
      "Processing:  CabinSide\n",
      "Processing:  Destination\n",
      "Processing:  VIP\n",
      "Processing:  FirstName\n",
      "Processing:  FamilyName\n",
      "CPU times: user 68 ms, sys: 8.3 ms, total: 76.3 ms\n",
      "Wall time: 73 ms\n"
     ]
    }
   ],
   "source": [
    "%%time\n",
    "trn_data, tst_data = encode_categorical(trn_data, tst_data, categorical_features)"
   ]
  },
  {
   "cell_type": "markdown",
   "id": "f5523ce1",
   "metadata": {
    "papermill": {
     "duration": 0.062251,
     "end_time": "2022-02-26T22:14:50.202949",
     "exception": false,
     "start_time": "2022-02-26T22:14:50.140698",
     "status": "completed"
    },
    "tags": []
   },
   "source": [
    "# Simple CV Sttrategy 80/20 Split"
   ]
  },
  {
   "cell_type": "code",
   "execution_count": 30,
   "id": "b1787ea8",
   "metadata": {
    "execution": {
     "iopub.execute_input": "2022-02-26T22:14:50.334955Z",
     "iopub.status.busy": "2022-02-26T22:14:50.334231Z",
     "iopub.status.idle": "2022-02-26T22:14:50.339953Z",
     "shell.execute_reply": "2022-02-26T22:14:50.339354Z",
     "shell.execute_reply.started": "2022-02-26T22:13:53.396757Z"
    },
    "papermill": {
     "duration": 0.072226,
     "end_time": "2022-02-26T22:14:50.340113",
     "exception": false,
     "start_time": "2022-02-26T22:14:50.267887",
     "status": "completed"
    },
    "tags": []
   },
   "outputs": [
    {
     "data": {
      "text/plain": [
       "Index(['PassengerId', 'Age', 'RoomService', 'FoodCourt', 'ShoppingMall', 'Spa',\n",
       "       'VRDeck', 'Transported', 'Total_Billed', 'HomePlanet_Enc',\n",
       "       'CryoSleep_Enc', 'CabinDeck_Enc', 'CabinNum_Enc', 'CabinSide_Enc',\n",
       "       'Destination_Enc', 'VIP_Enc', 'FirstName_Enc', 'FamilyName_Enc'],\n",
       "      dtype='object')"
      ]
     },
     "execution_count": 30,
     "metadata": {},
     "output_type": "execute_result"
    }
   ],
   "source": [
    "trn_data.columns"
   ]
  },
  {
   "cell_type": "code",
   "execution_count": 31,
   "id": "d80d5923",
   "metadata": {
    "execution": {
     "iopub.execute_input": "2022-02-26T22:14:50.473680Z",
     "iopub.status.busy": "2022-02-26T22:14:50.472998Z",
     "iopub.status.idle": "2022-02-26T22:14:50.475156Z",
     "shell.execute_reply": "2022-02-26T22:14:50.475608Z",
     "shell.execute_reply.started": "2022-02-26T22:14:08.887433Z"
    },
    "papermill": {
     "duration": 0.072436,
     "end_time": "2022-02-26T22:14:50.475781",
     "exception": false,
     "start_time": "2022-02-26T22:14:50.403345",
     "status": "completed"
    },
    "tags": []
   },
   "outputs": [],
   "source": [
    "features = ['Age',\n",
    "            'RoomService',\n",
    "            'FoodCourt',\n",
    "            'ShoppingMall',\n",
    "            'Spa',\n",
    "            'VRDeck',\n",
    "            'FamilyName_Enc',\n",
    "            'FirstName_Enc',\n",
    "            'VIP_Enc',\n",
    "            'Total_Billed',\n",
    "            'HomePlanet_Enc',\n",
    "            'CryoSleep_Enc',\n",
    "            'CabinNum_Enc',\n",
    "            'CabinSide_Enc',\n",
    "            'CabinDeck_Enc',\n",
    "            'Destination_Enc']"
   ]
  },
  {
   "cell_type": "code",
   "execution_count": 32,
   "id": "debf6884",
   "metadata": {
    "execution": {
     "iopub.execute_input": "2022-02-26T22:14:50.608384Z",
     "iopub.status.busy": "2022-02-26T22:14:50.607584Z",
     "iopub.status.idle": "2022-02-26T22:14:50.667698Z",
     "shell.execute_reply": "2022-02-26T22:14:50.667020Z",
     "shell.execute_reply.started": "2022-02-26T22:14:09.372735Z"
    },
    "papermill": {
     "duration": 0.129026,
     "end_time": "2022-02-26T22:14:50.667872",
     "exception": false,
     "start_time": "2022-02-26T22:14:50.538846",
     "status": "completed"
    },
    "tags": []
   },
   "outputs": [],
   "source": [
    "from sklearn.model_selection import train_test_split\n",
    "X_train, X_val, y_train, y_val = train_test_split(trn_data[features], trn_data[target_feature], test_size = 0.15, random_state = 42)"
   ]
  },
  {
   "cell_type": "markdown",
   "id": "14cfbe82",
   "metadata": {
    "papermill": {
     "duration": 0.065735,
     "end_time": "2022-02-26T22:14:50.796873",
     "exception": false,
     "start_time": "2022-02-26T22:14:50.731138",
     "status": "completed"
    },
    "tags": []
   },
   "source": [
    "fit(X, y, *, sample_weight=None, base_margin=None, eval_set=None, eval_metric=None, early_stopping_rounds=None, verbose=True, xgb_model=None, sample_weight_eval_set=None, base_margin_eval_set=None, feature_weights=None, callbacks=None)"
   ]
  },
  {
   "cell_type": "code",
   "execution_count": 33,
   "id": "d23663e6",
   "metadata": {
    "execution": {
     "iopub.execute_input": "2022-02-26T22:14:50.933049Z",
     "iopub.status.busy": "2022-02-26T22:14:50.932359Z",
     "iopub.status.idle": "2022-02-26T22:14:52.179375Z",
     "shell.execute_reply": "2022-02-26T22:14:52.179887Z",
     "shell.execute_reply.started": "2022-02-26T22:14:10.989194Z"
    },
    "papermill": {
     "duration": 1.314825,
     "end_time": "2022-02-26T22:14:52.180082",
     "exception": false,
     "start_time": "2022-02-26T22:14:50.865257",
     "status": "completed"
    },
    "tags": []
   },
   "outputs": [
    {
     "name": "stdout",
     "output_type": "stream",
     "text": [
      "[0]\tvalidation_0-logloss:0.58539\n",
      "[10]\tvalidation_0-logloss:0.41591\n",
      "[20]\tvalidation_0-logloss:0.41506\n",
      "[30]\tvalidation_0-logloss:0.41740\n",
      "[40]\tvalidation_0-logloss:0.42273\n",
      "[50]\tvalidation_0-logloss:0.42444\n",
      "[60]\tvalidation_0-logloss:0.42894\n",
      "[70]\tvalidation_0-logloss:0.43441\n",
      "[80]\tvalidation_0-logloss:0.43541\n",
      "[90]\tvalidation_0-logloss:0.44216\n",
      "[99]\tvalidation_0-logloss:0.44704\n"
     ]
    },
    {
     "data": {
      "text/plain": [
       "XGBClassifier(base_score=0.5, booster='gbtree', colsample_bylevel=1,\n",
       "              colsample_bynode=1, colsample_bytree=1, enable_categorical=False,\n",
       "              gamma=0, gpu_id=-1, importance_type=None,\n",
       "              interaction_constraints='', learning_rate=0.300000012,\n",
       "              max_delta_step=0, max_depth=6, min_child_weight=1, missing=nan,\n",
       "              monotone_constraints='()', n_estimators=100, n_jobs=4,\n",
       "              num_parallel_tree=1, predictor='auto', random_state=0,\n",
       "              reg_alpha=0, reg_lambda=1, scale_pos_weight=1, subsample=1,\n",
       "              tree_method='exact', validate_parameters=1, verbosity=None)"
      ]
     },
     "execution_count": 33,
     "metadata": {},
     "output_type": "execute_result"
    }
   ],
   "source": [
    "from xgboost import XGBClassifier\n",
    "cls = XGBClassifier()\n",
    "cls.fit(X_train, y_train, eval_set=[(X_val, y_val)], eval_metric=['logloss'], early_stopping_rounds=150, verbose=10)"
   ]
  },
  {
   "cell_type": "code",
   "execution_count": 34,
   "id": "be030b4a",
   "metadata": {
    "execution": {
     "iopub.execute_input": "2022-02-26T22:14:52.321111Z",
     "iopub.status.busy": "2022-02-26T22:14:52.320084Z",
     "iopub.status.idle": "2022-02-26T22:14:52.338006Z",
     "shell.execute_reply": "2022-02-26T22:14:52.338545Z",
     "shell.execute_reply.started": "2022-02-26T22:14:12.174564Z"
    },
    "papermill": {
     "duration": 0.090196,
     "end_time": "2022-02-26T22:14:52.338724",
     "exception": false,
     "start_time": "2022-02-26T22:14:52.248528",
     "status": "completed"
    },
    "tags": []
   },
   "outputs": [
    {
     "data": {
      "text/html": [
       "<div>\n",
       "<style scoped>\n",
       "    .dataframe tbody tr th:only-of-type {\n",
       "        vertical-align: middle;\n",
       "    }\n",
       "\n",
       "    .dataframe tbody tr th {\n",
       "        vertical-align: top;\n",
       "    }\n",
       "\n",
       "    .dataframe thead th {\n",
       "        text-align: right;\n",
       "    }\n",
       "</style>\n",
       "<table border=\"1\" class=\"dataframe\">\n",
       "  <thead>\n",
       "    <tr style=\"text-align: right;\">\n",
       "      <th></th>\n",
       "      <th>Age</th>\n",
       "      <th>RoomService</th>\n",
       "      <th>FoodCourt</th>\n",
       "      <th>ShoppingMall</th>\n",
       "      <th>Spa</th>\n",
       "      <th>VRDeck</th>\n",
       "      <th>FamilyName_Enc</th>\n",
       "      <th>...</th>\n",
       "      <th>Total_Billed</th>\n",
       "      <th>HomePlanet_Enc</th>\n",
       "      <th>CryoSleep_Enc</th>\n",
       "      <th>CabinNum_Enc</th>\n",
       "      <th>CabinSide_Enc</th>\n",
       "      <th>CabinDeck_Enc</th>\n",
       "      <th>Destination_Enc</th>\n",
       "    </tr>\n",
       "  </thead>\n",
       "  <tbody>\n",
       "    <tr>\n",
       "      <th>0</th>\n",
       "      <td>27.00</td>\n",
       "      <td>0.00</td>\n",
       "      <td>0.00</td>\n",
       "      <td>0.00</td>\n",
       "      <td>0.00</td>\n",
       "      <td>0.00</td>\n",
       "      <td>373</td>\n",
       "      <td>...</td>\n",
       "      <td>0.00</td>\n",
       "      <td>0</td>\n",
       "      <td>1</td>\n",
       "      <td>1117</td>\n",
       "      <td>1</td>\n",
       "      <td>6</td>\n",
       "      <td>2</td>\n",
       "    </tr>\n",
       "    <tr>\n",
       "      <th>1</th>\n",
       "      <td>19.00</td>\n",
       "      <td>0.00</td>\n",
       "      <td>9.00</td>\n",
       "      <td>0.00</td>\n",
       "      <td>2,823.00</td>\n",
       "      <td>0.00</td>\n",
       "      <td>1628</td>\n",
       "      <td>...</td>\n",
       "      <td>2,832.00</td>\n",
       "      <td>0</td>\n",
       "      <td>0</td>\n",
       "      <td>1228</td>\n",
       "      <td>1</td>\n",
       "      <td>5</td>\n",
       "      <td>2</td>\n",
       "    </tr>\n",
       "    <tr>\n",
       "      <th>2</th>\n",
       "      <td>31.00</td>\n",
       "      <td>0.00</td>\n",
       "      <td>0.00</td>\n",
       "      <td>0.00</td>\n",
       "      <td>0.00</td>\n",
       "      <td>0.00</td>\n",
       "      <td>2244</td>\n",
       "      <td>...</td>\n",
       "      <td>0.00</td>\n",
       "      <td>1</td>\n",
       "      <td>1</td>\n",
       "      <td>0</td>\n",
       "      <td>1</td>\n",
       "      <td>2</td>\n",
       "      <td>0</td>\n",
       "    </tr>\n",
       "    <tr>\n",
       "      <th>3</th>\n",
       "      <td>38.00</td>\n",
       "      <td>0.00</td>\n",
       "      <td>6,652.00</td>\n",
       "      <td>0.00</td>\n",
       "      <td>181.00</td>\n",
       "      <td>585.00</td>\n",
       "      <td>350</td>\n",
       "      <td>...</td>\n",
       "      <td>7,418.00</td>\n",
       "      <td>1</td>\n",
       "      <td>0</td>\n",
       "      <td>1</td>\n",
       "      <td>1</td>\n",
       "      <td>2</td>\n",
       "      <td>2</td>\n",
       "    </tr>\n",
       "    <tr>\n",
       "      <th>4</th>\n",
       "      <td>20.00</td>\n",
       "      <td>10.00</td>\n",
       "      <td>0.00</td>\n",
       "      <td>635.00</td>\n",
       "      <td>0.00</td>\n",
       "      <td>0.00</td>\n",
       "      <td>1016</td>\n",
       "      <td>...</td>\n",
       "      <td>645.00</td>\n",
       "      <td>0</td>\n",
       "      <td>0</td>\n",
       "      <td>1339</td>\n",
       "      <td>1</td>\n",
       "      <td>5</td>\n",
       "      <td>2</td>\n",
       "    </tr>\n",
       "  </tbody>\n",
       "</table>\n",
       "<p>5 rows × 16 columns</p>\n",
       "</div>"
      ],
      "text/plain": [
       "    Age  RoomService  FoodCourt  ShoppingMall      Spa  VRDeck  \\\n",
       "0 27.00         0.00       0.00          0.00     0.00    0.00   \n",
       "1 19.00         0.00       9.00          0.00 2,823.00    0.00   \n",
       "2 31.00         0.00       0.00          0.00     0.00    0.00   \n",
       "3 38.00         0.00   6,652.00          0.00   181.00  585.00   \n",
       "4 20.00        10.00       0.00        635.00     0.00    0.00   \n",
       "\n",
       "   FamilyName_Enc  ...  Total_Billed  HomePlanet_Enc  CryoSleep_Enc  \\\n",
       "0             373  ...          0.00               0              1   \n",
       "1            1628  ...      2,832.00               0              0   \n",
       "2            2244  ...          0.00               1              1   \n",
       "3             350  ...      7,418.00               1              0   \n",
       "4            1016  ...        645.00               0              0   \n",
       "\n",
       "   CabinNum_Enc  CabinSide_Enc  CabinDeck_Enc  Destination_Enc  \n",
       "0          1117              1              6                2  \n",
       "1          1228              1              5                2  \n",
       "2             0              1              2                0  \n",
       "3             1              1              2                2  \n",
       "4          1339              1              5                2  \n",
       "\n",
       "[5 rows x 16 columns]"
      ]
     },
     "execution_count": 34,
     "metadata": {},
     "output_type": "execute_result"
    }
   ],
   "source": [
    "tst_data[features].head()"
   ]
  },
  {
   "cell_type": "code",
   "execution_count": 35,
   "id": "09c8f513",
   "metadata": {
    "execution": {
     "iopub.execute_input": "2022-02-26T22:14:52.491693Z",
     "iopub.status.busy": "2022-02-26T22:14:52.490604Z",
     "iopub.status.idle": "2022-02-26T22:14:52.514211Z",
     "shell.execute_reply": "2022-02-26T22:14:52.514742Z",
     "shell.execute_reply.started": "2022-02-26T22:14:13.191286Z"
    },
    "papermill": {
     "duration": 0.103817,
     "end_time": "2022-02-26T22:14:52.514961",
     "exception": false,
     "start_time": "2022-02-26T22:14:52.411144",
     "status": "completed"
    },
    "tags": []
   },
   "outputs": [],
   "source": [
    "from sklearn.metrics import accuracy_score\n",
    "val_preds = cls.predict(X_val[features])\n",
    "accuracy = accuracy_score(val_preds, y_val)"
   ]
  },
  {
   "cell_type": "code",
   "execution_count": 36,
   "id": "d60f3763",
   "metadata": {
    "execution": {
     "iopub.execute_input": "2022-02-26T22:14:52.660188Z",
     "iopub.status.busy": "2022-02-26T22:14:52.659423Z",
     "iopub.status.idle": "2022-02-26T22:14:52.662136Z",
     "shell.execute_reply": "2022-02-26T22:14:52.662630Z",
     "shell.execute_reply.started": "2022-02-26T22:14:14.206152Z"
    },
    "papermill": {
     "duration": 0.078595,
     "end_time": "2022-02-26T22:14:52.662824",
     "exception": false,
     "start_time": "2022-02-26T22:14:52.584229",
     "status": "completed"
    },
    "tags": []
   },
   "outputs": [
    {
     "data": {
      "text/plain": [
       "0.7944785276073619"
      ]
     },
     "execution_count": 36,
     "metadata": {},
     "output_type": "execute_result"
    }
   ],
   "source": [
    "accuracy"
   ]
  },
  {
   "cell_type": "code",
   "execution_count": 37,
   "id": "f9d128d5",
   "metadata": {
    "execution": {
     "iopub.execute_input": "2022-02-26T22:14:52.813106Z",
     "iopub.status.busy": "2022-02-26T22:14:52.812187Z",
     "iopub.status.idle": "2022-02-26T22:14:52.815036Z",
     "shell.execute_reply": "2022-02-26T22:14:52.815616Z",
     "shell.execute_reply.started": "2022-02-26T22:13:24.823314Z"
    },
    "papermill": {
     "duration": 0.07973,
     "end_time": "2022-02-26T22:14:52.815809",
     "exception": false,
     "start_time": "2022-02-26T22:14:52.736079",
     "status": "completed"
    },
    "tags": []
   },
   "outputs": [],
   "source": [
    "# 0.7875766871165644\n",
    "# 0.7883435582822086\n",
    "# 0.7944785276073619"
   ]
  },
  {
   "cell_type": "code",
   "execution_count": 38,
   "id": "7b3efeea",
   "metadata": {
    "execution": {
     "iopub.execute_input": "2022-02-26T22:14:52.960876Z",
     "iopub.status.busy": "2022-02-26T22:14:52.960132Z",
     "iopub.status.idle": "2022-02-26T22:14:52.964767Z",
     "shell.execute_reply": "2022-02-26T22:14:52.965386Z",
     "shell.execute_reply.started": "2022-02-26T22:13:24.825557Z"
    },
    "papermill": {
     "duration": 0.077491,
     "end_time": "2022-02-26T22:14:52.965567",
     "exception": false,
     "start_time": "2022-02-26T22:14:52.888076",
     "status": "completed"
    },
    "tags": []
   },
   "outputs": [
    {
     "data": {
      "text/plain": [
       "(4277, 17)"
      ]
     },
     "execution_count": 38,
     "metadata": {},
     "output_type": "execute_result"
    }
   ],
   "source": [
    "tst_data.shape"
   ]
  },
  {
   "cell_type": "code",
   "execution_count": 39,
   "id": "ccac3669",
   "metadata": {
    "execution": {
     "iopub.execute_input": "2022-02-26T22:14:53.131224Z",
     "iopub.status.busy": "2022-02-26T22:14:53.130468Z",
     "iopub.status.idle": "2022-02-26T22:14:53.135304Z",
     "shell.execute_reply": "2022-02-26T22:14:53.135931Z",
     "shell.execute_reply.started": "2022-02-26T22:13:24.827390Z"
    },
    "papermill": {
     "duration": 0.092909,
     "end_time": "2022-02-26T22:14:53.136113",
     "exception": false,
     "start_time": "2022-02-26T22:14:53.043204",
     "status": "completed"
    },
    "tags": []
   },
   "outputs": [
    {
     "data": {
      "text/plain": [
       "1304"
      ]
     },
     "execution_count": 39,
     "metadata": {},
     "output_type": "execute_result"
    }
   ],
   "source": [
    "len(val_preds)"
   ]
  },
  {
   "cell_type": "code",
   "execution_count": 40,
   "id": "72b85c37",
   "metadata": {
    "execution": {
     "iopub.execute_input": "2022-02-26T22:14:53.280901Z",
     "iopub.status.busy": "2022-02-26T22:14:53.280185Z",
     "iopub.status.idle": "2022-02-26T22:14:53.285076Z",
     "shell.execute_reply": "2022-02-26T22:14:53.285577Z",
     "shell.execute_reply.started": "2022-02-26T22:13:24.829258Z"
    },
    "papermill": {
     "duration": 0.078054,
     "end_time": "2022-02-26T22:14:53.285745",
     "exception": false,
     "start_time": "2022-02-26T22:14:53.207691",
     "status": "completed"
    },
    "tags": []
   },
   "outputs": [
    {
     "data": {
      "text/plain": [
       "(4277, 2)"
      ]
     },
     "execution_count": 40,
     "metadata": {},
     "output_type": "execute_result"
    }
   ],
   "source": [
    "sub.shape"
   ]
  },
  {
   "cell_type": "code",
   "execution_count": 41,
   "id": "0f96464c",
   "metadata": {
    "execution": {
     "iopub.execute_input": "2022-02-26T22:14:53.429363Z",
     "iopub.status.busy": "2022-02-26T22:14:53.428713Z",
     "iopub.status.idle": "2022-02-26T22:14:53.458264Z",
     "shell.execute_reply": "2022-02-26T22:14:53.458898Z",
     "shell.execute_reply.started": "2022-02-26T22:13:24.830922Z"
    },
    "papermill": {
     "duration": 0.102965,
     "end_time": "2022-02-26T22:14:53.459101",
     "exception": false,
     "start_time": "2022-02-26T22:14:53.356136",
     "status": "completed"
    },
    "tags": []
   },
   "outputs": [],
   "source": [
    "preds = cls.predict(tst_data[features])"
   ]
  },
  {
   "cell_type": "code",
   "execution_count": 42,
   "id": "fa8835b4",
   "metadata": {
    "execution": {
     "iopub.execute_input": "2022-02-26T22:14:53.607613Z",
     "iopub.status.busy": "2022-02-26T22:14:53.606984Z",
     "iopub.status.idle": "2022-02-26T22:14:53.619647Z",
     "shell.execute_reply": "2022-02-26T22:14:53.619052Z",
     "shell.execute_reply.started": "2022-02-26T22:13:24.833171Z"
    },
    "papermill": {
     "duration": 0.086448,
     "end_time": "2022-02-26T22:14:53.619812",
     "exception": false,
     "start_time": "2022-02-26T22:14:53.533364",
     "status": "completed"
    },
    "tags": []
   },
   "outputs": [
    {
     "data": {
      "text/html": [
       "<div>\n",
       "<style scoped>\n",
       "    .dataframe tbody tr th:only-of-type {\n",
       "        vertical-align: middle;\n",
       "    }\n",
       "\n",
       "    .dataframe tbody tr th {\n",
       "        vertical-align: top;\n",
       "    }\n",
       "\n",
       "    .dataframe thead th {\n",
       "        text-align: right;\n",
       "    }\n",
       "</style>\n",
       "<table border=\"1\" class=\"dataframe\">\n",
       "  <thead>\n",
       "    <tr style=\"text-align: right;\">\n",
       "      <th></th>\n",
       "      <th>PassengerId</th>\n",
       "      <th>Transported</th>\n",
       "    </tr>\n",
       "  </thead>\n",
       "  <tbody>\n",
       "    <tr>\n",
       "      <th>0</th>\n",
       "      <td>0013_01</td>\n",
       "      <td>False</td>\n",
       "    </tr>\n",
       "    <tr>\n",
       "      <th>1</th>\n",
       "      <td>0018_01</td>\n",
       "      <td>False</td>\n",
       "    </tr>\n",
       "    <tr>\n",
       "      <th>2</th>\n",
       "      <td>0019_01</td>\n",
       "      <td>True</td>\n",
       "    </tr>\n",
       "    <tr>\n",
       "      <th>3</th>\n",
       "      <td>0021_01</td>\n",
       "      <td>True</td>\n",
       "    </tr>\n",
       "    <tr>\n",
       "      <th>4</th>\n",
       "      <td>0023_01</td>\n",
       "      <td>True</td>\n",
       "    </tr>\n",
       "    <tr>\n",
       "      <th>...</th>\n",
       "      <td>...</td>\n",
       "      <td>...</td>\n",
       "    </tr>\n",
       "    <tr>\n",
       "      <th>4272</th>\n",
       "      <td>9266_02</td>\n",
       "      <td>True</td>\n",
       "    </tr>\n",
       "    <tr>\n",
       "      <th>4273</th>\n",
       "      <td>9269_01</td>\n",
       "      <td>False</td>\n",
       "    </tr>\n",
       "    <tr>\n",
       "      <th>4274</th>\n",
       "      <td>9271_01</td>\n",
       "      <td>True</td>\n",
       "    </tr>\n",
       "    <tr>\n",
       "      <th>4275</th>\n",
       "      <td>9273_01</td>\n",
       "      <td>True</td>\n",
       "    </tr>\n",
       "    <tr>\n",
       "      <th>4276</th>\n",
       "      <td>9277_01</td>\n",
       "      <td>True</td>\n",
       "    </tr>\n",
       "  </tbody>\n",
       "</table>\n",
       "<p>4277 rows × 2 columns</p>\n",
       "</div>"
      ],
      "text/plain": [
       "     PassengerId  Transported\n",
       "0        0013_01        False\n",
       "1        0018_01        False\n",
       "2        0019_01         True\n",
       "3        0021_01         True\n",
       "4        0023_01         True\n",
       "...          ...          ...\n",
       "4272     9266_02         True\n",
       "4273     9269_01        False\n",
       "4274     9271_01         True\n",
       "4275     9273_01         True\n",
       "4276     9277_01         True\n",
       "\n",
       "[4277 rows x 2 columns]"
      ]
     },
     "execution_count": 42,
     "metadata": {},
     "output_type": "execute_result"
    }
   ],
   "source": [
    "sub['Transported'] = preds\n",
    "sub"
   ]
  },
  {
   "cell_type": "code",
   "execution_count": 43,
   "id": "d11e09be",
   "metadata": {
    "execution": {
     "iopub.execute_input": "2022-02-26T22:14:53.764678Z",
     "iopub.status.busy": "2022-02-26T22:14:53.764025Z",
     "iopub.status.idle": "2022-02-26T22:14:53.781134Z",
     "shell.execute_reply": "2022-02-26T22:14:53.780472Z",
     "shell.execute_reply.started": "2022-02-26T22:13:24.834894Z"
    },
    "papermill": {
     "duration": 0.090575,
     "end_time": "2022-02-26T22:14:53.781292",
     "exception": false,
     "start_time": "2022-02-26T22:14:53.690717",
     "status": "completed"
    },
    "tags": []
   },
   "outputs": [],
   "source": [
    "sub.to_csv('submission.csv', index=False)"
   ]
  },
  {
   "cell_type": "markdown",
   "id": "187fed5b",
   "metadata": {
    "papermill": {
     "duration": 0.072878,
     "end_time": "2022-02-26T22:14:53.925838",
     "exception": false,
     "start_time": "2022-02-26T22:14:53.852960",
     "status": "completed"
    },
    "tags": []
   },
   "source": [
    "# Baseline Model"
   ]
  },
  {
   "cell_type": "code",
   "execution_count": null,
   "id": "9d4c6903",
   "metadata": {
    "papermill": {
     "duration": 0.071884,
     "end_time": "2022-02-26T22:14:54.069359",
     "exception": false,
     "start_time": "2022-02-26T22:14:53.997475",
     "status": "completed"
    },
    "tags": []
   },
   "outputs": [],
   "source": []
  }
 ],
 "metadata": {
  "kernelspec": {
   "display_name": "Python 3",
   "language": "python",
   "name": "python3"
  },
  "language_info": {
   "codemirror_mode": {
    "name": "ipython",
    "version": 3
   },
   "file_extension": ".py",
   "mimetype": "text/x-python",
   "name": "python",
   "nbconvert_exporter": "python",
   "pygments_lexer": "ipython3",
   "version": "3.7.12"
  },
  "papermill": {
   "default_parameters": {},
   "duration": 21.81035,
   "end_time": "2022-02-26T22:14:54.853698",
   "environment_variables": {},
   "exception": null,
   "input_path": "__notebook__.ipynb",
   "output_path": "__notebook__.ipynb",
   "parameters": {},
   "start_time": "2022-02-26T22:14:33.043348",
   "version": "2.3.3"
  }
 },
 "nbformat": 4,
 "nbformat_minor": 5
}
