{
 "cells": [
  {
   "cell_type": "markdown",
   "id": "e8b1e764",
   "metadata": {
    "papermill": {
     "duration": 0.058372,
     "end_time": "2022-02-26T22:33:09.818076",
     "exception": false,
     "start_time": "2022-02-26T22:33:09.759704",
     "status": "completed"
    },
    "tags": []
   },
   "source": [
    "# 🌌 Spaceship My Starter Model\n",
    "\n",
    "Hello... "
   ]
  },
  {
   "cell_type": "markdown",
   "id": "8d05f0b9",
   "metadata": {
    "papermill": {
     "duration": 0.066026,
     "end_time": "2022-02-26T22:33:09.954449",
     "exception": false,
     "start_time": "2022-02-26T22:33:09.888423",
     "status": "completed"
    },
    "tags": []
   },
   "source": [
    "### File and Data Field Descriptions\n",
    "\n",
    "**train.csv** - Personal records for about two-thirds (~8700) of the passengers, to be used as training data.\n",
    "* PassengerId - A unique Id for each passenger. Each Id takes the form gggg_pp where gggg indicates a group the passenger is travelling with and pp is their number within the group. People in a group are often family members, but not always.\n",
    "* HomePlanet - The planet the passenger departed from, typically their planet of permanent residence.\n",
    "* CryoSleep - Indicates whether the passenger elected to be put into suspended animation for the duration of the voyage. Passengers in cryosleep are confined to their cabins.\n",
    "* Cabin - The cabin number where the passenger is staying. Takes the form deck/num/side, where side can be either P for Port or S for Starboard.\n",
    "* Destination - The planet the passenger will be debarking to.\n",
    "* Age - The age of the passenger.\n",
    "* VIP - Whether the passenger has paid for special VIP service during the voyage.\n",
    "* RoomService, FoodCourt, ShoppingMall, Spa, VRDeck - Amount the passenger has billed at each of the Spaceship Titanic's many luxury amenities.\n",
    "* Name - The first and last names of the passenger.\n",
    "* Transported - Whether the passenger was transported to another dimension. This is the target, the column you are trying to predict.\n",
    "\n",
    "**test.csv** - Personal records for the remaining one-third (~4300) of the passengers, to be used as test data. Your task is to predict the value of Transported for the passengers in this set.\n",
    "\n",
    "**sample_submission.csv** - A submission file in the correct format.\n",
    "\n",
    "* PassengerId - Id for each passenger in the test set.\n",
    "* Transported - The target. For each passenger, predict either True or False."
   ]
  },
  {
   "cell_type": "markdown",
   "id": "68f1ec22",
   "metadata": {
    "papermill": {
     "duration": 0.054211,
     "end_time": "2022-02-26T22:33:10.063729",
     "exception": false,
     "start_time": "2022-02-26T22:33:10.009518",
     "status": "completed"
    },
    "tags": []
   },
   "source": [
    "# Loading Libraries..."
   ]
  },
  {
   "cell_type": "code",
   "execution_count": 1,
   "id": "8262281c",
   "metadata": {
    "_cell_guid": "b1076dfc-b9ad-4769-8c92-a6c4dae69d19",
    "_uuid": "8f2839f25d086af736a60e9eeb907d3b93b6e0e5",
    "execution": {
     "iopub.execute_input": "2022-02-26T22:33:10.175134Z",
     "iopub.status.busy": "2022-02-26T22:33:10.173976Z",
     "iopub.status.idle": "2022-02-26T22:33:10.186951Z",
     "shell.execute_reply": "2022-02-26T22:33:10.187713Z",
     "shell.execute_reply.started": "2022-02-26T22:32:29.157051Z"
    },
    "papermill": {
     "duration": 0.070764,
     "end_time": "2022-02-26T22:33:10.188162",
     "exception": false,
     "start_time": "2022-02-26T22:33:10.117398",
     "status": "completed"
    },
    "tags": []
   },
   "outputs": [
    {
     "name": "stdout",
     "output_type": "stream",
     "text": [
      "/kaggle/input/spaceship-titanic/sample_submission.csv\n",
      "/kaggle/input/spaceship-titanic/train.csv\n",
      "/kaggle/input/spaceship-titanic/test.csv\n"
     ]
    }
   ],
   "source": [
    "# This Python 3 environment comes with many helpful analytics libraries installed\n",
    "# It is defined by the kaggle/python Docker image: https://github.com/kaggle/docker-python\n",
    "# For example, here's several helpful packages to load\n",
    "\n",
    "import numpy as np # linear algebra\n",
    "import pandas as pd # data processing, CSV file I/O (e.g. pd.read_csv)\n",
    "\n",
    "# Input data files are available in the read-only \"../input/\" directory\n",
    "# For example, running this (by clicking run or pressing Shift+Enter) will list all files under the input directory\n",
    "\n",
    "import os\n",
    "for dirname, _, filenames in os.walk('/kaggle/input'):\n",
    "    for filename in filenames:\n",
    "        print(os.path.join(dirname, filename))\n",
    "\n",
    "# You can write up to 20GB to the current directory (/kaggle/working/) that gets preserved as output when you create a version using \"Save & Run All\" \n",
    "# You can also write temporary files to /kaggle/temp/, but they won't be saved outside of the current session"
   ]
  },
  {
   "cell_type": "markdown",
   "id": "b334463f",
   "metadata": {
    "papermill": {
     "duration": 0.054095,
     "end_time": "2022-02-26T22:33:10.298354",
     "exception": false,
     "start_time": "2022-02-26T22:33:10.244259",
     "status": "completed"
    },
    "tags": []
   },
   "source": [
    "# Seeting Notebook Parameters..."
   ]
  },
  {
   "cell_type": "code",
   "execution_count": 2,
   "id": "29d97d6b",
   "metadata": {
    "execution": {
     "iopub.execute_input": "2022-02-26T22:33:10.409463Z",
     "iopub.status.busy": "2022-02-26T22:33:10.408795Z",
     "iopub.status.idle": "2022-02-26T22:33:10.414680Z",
     "shell.execute_reply": "2022-02-26T22:33:10.415180Z",
     "shell.execute_reply.started": "2022-02-26T22:32:29.167293Z"
    },
    "papermill": {
     "duration": 0.063032,
     "end_time": "2022-02-26T22:33:10.415370",
     "exception": false,
     "start_time": "2022-02-26T22:33:10.352338",
     "status": "completed"
    },
    "tags": []
   },
   "outputs": [
    {
     "name": "stdout",
     "output_type": "stream",
     "text": [
      "CPU times: user 30 µs, sys: 4 µs, total: 34 µs\n",
      "Wall time: 38.6 µs\n"
     ]
    }
   ],
   "source": [
    "%%time\n",
    "# I like to disable my Notebook Warnings.\n",
    "import warnings\n",
    "warnings.filterwarnings('ignore')"
   ]
  },
  {
   "cell_type": "code",
   "execution_count": 3,
   "id": "b804424d",
   "metadata": {
    "execution": {
     "iopub.execute_input": "2022-02-26T22:33:10.527977Z",
     "iopub.status.busy": "2022-02-26T22:33:10.527280Z",
     "iopub.status.idle": "2022-02-26T22:33:10.532336Z",
     "shell.execute_reply": "2022-02-26T22:33:10.532939Z",
     "shell.execute_reply.started": "2022-02-26T22:32:29.181555Z"
    },
    "papermill": {
     "duration": 0.06303,
     "end_time": "2022-02-26T22:33:10.533138",
     "exception": false,
     "start_time": "2022-02-26T22:33:10.470108",
     "status": "completed"
    },
    "tags": []
   },
   "outputs": [
    {
     "name": "stdout",
     "output_type": "stream",
     "text": [
      "CPU times: user 4 µs, sys: 1 µs, total: 5 µs\n",
      "Wall time: 7.87 µs\n"
     ]
    }
   ],
   "source": [
    "%%time\n",
    "# Notebook Configuration...\n",
    "\n",
    "# Amount of data we want to load into the Model...\n",
    "DATA_ROWS = None\n",
    "# Dataframe, the amount of rows and cols to visualize...\n",
    "NROWS = 50\n",
    "NCOLS = 15\n",
    "# Main data location path...\n",
    "BASE_PATH = '...'"
   ]
  },
  {
   "cell_type": "code",
   "execution_count": 4,
   "id": "90f209d5",
   "metadata": {
    "execution": {
     "iopub.execute_input": "2022-02-26T22:33:10.648868Z",
     "iopub.status.busy": "2022-02-26T22:33:10.648105Z",
     "iopub.status.idle": "2022-02-26T22:33:10.653227Z",
     "shell.execute_reply": "2022-02-26T22:33:10.653837Z",
     "shell.execute_reply.started": "2022-02-26T22:32:29.192746Z"
    },
    "papermill": {
     "duration": 0.064582,
     "end_time": "2022-02-26T22:33:10.654041",
     "exception": false,
     "start_time": "2022-02-26T22:33:10.589459",
     "status": "completed"
    },
    "tags": []
   },
   "outputs": [
    {
     "name": "stdout",
     "output_type": "stream",
     "text": [
      "CPU times: user 80 µs, sys: 11 µs, total: 91 µs\n",
      "Wall time: 94.2 µs\n"
     ]
    }
   ],
   "source": [
    "%%time\n",
    "# Configure notebook display settings to only use 2 decimal places, tables look nicer.\n",
    "pd.options.display.float_format = '{:,.2f}'.format\n",
    "pd.set_option('display.max_columns', NCOLS) \n",
    "pd.set_option('display.max_rows', NROWS)"
   ]
  },
  {
   "cell_type": "markdown",
   "id": "69c62f19",
   "metadata": {
    "papermill": {
     "duration": 0.055524,
     "end_time": "2022-02-26T22:33:10.765485",
     "exception": false,
     "start_time": "2022-02-26T22:33:10.709961",
     "status": "completed"
    },
    "tags": []
   },
   "source": [
    "# Loading Information from CSV..."
   ]
  },
  {
   "cell_type": "code",
   "execution_count": 5,
   "id": "39de1671",
   "metadata": {
    "execution": {
     "iopub.execute_input": "2022-02-26T22:33:10.882145Z",
     "iopub.status.busy": "2022-02-26T22:33:10.881467Z",
     "iopub.status.idle": "2022-02-26T22:33:10.976440Z",
     "shell.execute_reply": "2022-02-26T22:33:10.977195Z",
     "shell.execute_reply.started": "2022-02-26T22:32:29.205074Z"
    },
    "papermill": {
     "duration": 0.156539,
     "end_time": "2022-02-26T22:33:10.977395",
     "exception": false,
     "start_time": "2022-02-26T22:33:10.820856",
     "status": "completed"
    },
    "tags": []
   },
   "outputs": [
    {
     "name": "stdout",
     "output_type": "stream",
     "text": [
      "CPU times: user 46 ms, sys: 12.9 ms, total: 58.9 ms\n",
      "Wall time: 92.9 ms\n"
     ]
    }
   ],
   "source": [
    "%%time\n",
    "trn_data = pd.read_csv('/kaggle/input/spaceship-titanic/train.csv')\n",
    "tst_data = pd.read_csv('/kaggle/input/spaceship-titanic/test.csv')\n",
    "\n",
    "sub = pd.read_csv('/kaggle/input/spaceship-titanic/sample_submission.csv')"
   ]
  },
  {
   "cell_type": "markdown",
   "id": "5565a84c",
   "metadata": {
    "papermill": {
     "duration": 0.057072,
     "end_time": "2022-02-26T22:33:11.090870",
     "exception": false,
     "start_time": "2022-02-26T22:33:11.033798",
     "status": "completed"
    },
    "tags": []
   },
   "source": [
    "# Exploring the Information Available..."
   ]
  },
  {
   "cell_type": "code",
   "execution_count": 6,
   "id": "8958059b",
   "metadata": {
    "execution": {
     "iopub.execute_input": "2022-02-26T22:33:11.206709Z",
     "iopub.status.busy": "2022-02-26T22:33:11.206072Z",
     "iopub.status.idle": "2022-02-26T22:33:11.238772Z",
     "shell.execute_reply": "2022-02-26T22:33:11.239257Z",
     "shell.execute_reply.started": "2022-02-26T22:32:29.258973Z"
    },
    "papermill": {
     "duration": 0.093855,
     "end_time": "2022-02-26T22:33:11.239438",
     "exception": false,
     "start_time": "2022-02-26T22:33:11.145583",
     "status": "completed"
    },
    "tags": []
   },
   "outputs": [
    {
     "name": "stdout",
     "output_type": "stream",
     "text": [
      "<class 'pandas.core.frame.DataFrame'>\n",
      "RangeIndex: 8693 entries, 0 to 8692\n",
      "Data columns (total 14 columns):\n",
      " #   Column        Non-Null Count  Dtype  \n",
      "---  ------        --------------  -----  \n",
      " 0   PassengerId   8693 non-null   object \n",
      " 1   HomePlanet    8492 non-null   object \n",
      " 2   CryoSleep     8476 non-null   object \n",
      " 3   Cabin         8494 non-null   object \n",
      " 4   Destination   8511 non-null   object \n",
      " 5   Age           8514 non-null   float64\n",
      " 6   VIP           8490 non-null   object \n",
      " 7   RoomService   8512 non-null   float64\n",
      " 8   FoodCourt     8510 non-null   float64\n",
      " 9   ShoppingMall  8485 non-null   float64\n",
      " 10  Spa           8510 non-null   float64\n",
      " 11  VRDeck        8505 non-null   float64\n",
      " 12  Name          8493 non-null   object \n",
      " 13  Transported   8693 non-null   bool   \n",
      "dtypes: bool(1), float64(6), object(7)\n",
      "memory usage: 891.5+ KB\n",
      "CPU times: user 18.7 ms, sys: 1.25 ms, total: 20 ms\n",
      "Wall time: 29.7 ms\n"
     ]
    }
   ],
   "source": [
    "%%time\n",
    "trn_data.info()"
   ]
  },
  {
   "cell_type": "code",
   "execution_count": 7,
   "id": "b08f818a",
   "metadata": {
    "execution": {
     "iopub.execute_input": "2022-02-26T22:33:11.355973Z",
     "iopub.status.busy": "2022-02-26T22:33:11.355283Z",
     "iopub.status.idle": "2022-02-26T22:33:11.378692Z",
     "shell.execute_reply": "2022-02-26T22:33:11.377867Z",
     "shell.execute_reply.started": "2022-02-26T22:32:29.275603Z"
    },
    "papermill": {
     "duration": 0.084136,
     "end_time": "2022-02-26T22:33:11.378901",
     "exception": false,
     "start_time": "2022-02-26T22:33:11.294765",
     "status": "completed"
    },
    "tags": []
   },
   "outputs": [
    {
     "name": "stdout",
     "output_type": "stream",
     "text": [
      "CPU times: user 149 µs, sys: 22 µs, total: 171 µs\n",
      "Wall time: 175 µs\n"
     ]
    },
    {
     "data": {
      "text/html": [
       "<div>\n",
       "<style scoped>\n",
       "    .dataframe tbody tr th:only-of-type {\n",
       "        vertical-align: middle;\n",
       "    }\n",
       "\n",
       "    .dataframe tbody tr th {\n",
       "        vertical-align: top;\n",
       "    }\n",
       "\n",
       "    .dataframe thead th {\n",
       "        text-align: right;\n",
       "    }\n",
       "</style>\n",
       "<table border=\"1\" class=\"dataframe\">\n",
       "  <thead>\n",
       "    <tr style=\"text-align: right;\">\n",
       "      <th></th>\n",
       "      <th>PassengerId</th>\n",
       "      <th>HomePlanet</th>\n",
       "      <th>CryoSleep</th>\n",
       "      <th>Cabin</th>\n",
       "      <th>Destination</th>\n",
       "      <th>Age</th>\n",
       "      <th>VIP</th>\n",
       "      <th>RoomService</th>\n",
       "      <th>FoodCourt</th>\n",
       "      <th>ShoppingMall</th>\n",
       "      <th>Spa</th>\n",
       "      <th>VRDeck</th>\n",
       "      <th>Name</th>\n",
       "      <th>Transported</th>\n",
       "    </tr>\n",
       "  </thead>\n",
       "  <tbody>\n",
       "    <tr>\n",
       "      <th>0</th>\n",
       "      <td>0001_01</td>\n",
       "      <td>Europa</td>\n",
       "      <td>False</td>\n",
       "      <td>B/0/P</td>\n",
       "      <td>TRAPPIST-1e</td>\n",
       "      <td>39.00</td>\n",
       "      <td>False</td>\n",
       "      <td>0.00</td>\n",
       "      <td>0.00</td>\n",
       "      <td>0.00</td>\n",
       "      <td>0.00</td>\n",
       "      <td>0.00</td>\n",
       "      <td>Maham Ofracculy</td>\n",
       "      <td>False</td>\n",
       "    </tr>\n",
       "    <tr>\n",
       "      <th>1</th>\n",
       "      <td>0002_01</td>\n",
       "      <td>Earth</td>\n",
       "      <td>False</td>\n",
       "      <td>F/0/S</td>\n",
       "      <td>TRAPPIST-1e</td>\n",
       "      <td>24.00</td>\n",
       "      <td>False</td>\n",
       "      <td>109.00</td>\n",
       "      <td>9.00</td>\n",
       "      <td>25.00</td>\n",
       "      <td>549.00</td>\n",
       "      <td>44.00</td>\n",
       "      <td>Juanna Vines</td>\n",
       "      <td>True</td>\n",
       "    </tr>\n",
       "    <tr>\n",
       "      <th>2</th>\n",
       "      <td>0003_01</td>\n",
       "      <td>Europa</td>\n",
       "      <td>False</td>\n",
       "      <td>A/0/S</td>\n",
       "      <td>TRAPPIST-1e</td>\n",
       "      <td>58.00</td>\n",
       "      <td>True</td>\n",
       "      <td>43.00</td>\n",
       "      <td>3,576.00</td>\n",
       "      <td>0.00</td>\n",
       "      <td>6,715.00</td>\n",
       "      <td>49.00</td>\n",
       "      <td>Altark Susent</td>\n",
       "      <td>False</td>\n",
       "    </tr>\n",
       "    <tr>\n",
       "      <th>3</th>\n",
       "      <td>0003_02</td>\n",
       "      <td>Europa</td>\n",
       "      <td>False</td>\n",
       "      <td>A/0/S</td>\n",
       "      <td>TRAPPIST-1e</td>\n",
       "      <td>33.00</td>\n",
       "      <td>False</td>\n",
       "      <td>0.00</td>\n",
       "      <td>1,283.00</td>\n",
       "      <td>371.00</td>\n",
       "      <td>3,329.00</td>\n",
       "      <td>193.00</td>\n",
       "      <td>Solam Susent</td>\n",
       "      <td>False</td>\n",
       "    </tr>\n",
       "    <tr>\n",
       "      <th>4</th>\n",
       "      <td>0004_01</td>\n",
       "      <td>Earth</td>\n",
       "      <td>False</td>\n",
       "      <td>F/1/S</td>\n",
       "      <td>TRAPPIST-1e</td>\n",
       "      <td>16.00</td>\n",
       "      <td>False</td>\n",
       "      <td>303.00</td>\n",
       "      <td>70.00</td>\n",
       "      <td>151.00</td>\n",
       "      <td>565.00</td>\n",
       "      <td>2.00</td>\n",
       "      <td>Willy Santantines</td>\n",
       "      <td>True</td>\n",
       "    </tr>\n",
       "  </tbody>\n",
       "</table>\n",
       "</div>"
      ],
      "text/plain": [
       "  PassengerId HomePlanet CryoSleep  Cabin  Destination   Age    VIP  \\\n",
       "0     0001_01     Europa     False  B/0/P  TRAPPIST-1e 39.00  False   \n",
       "1     0002_01      Earth     False  F/0/S  TRAPPIST-1e 24.00  False   \n",
       "2     0003_01     Europa     False  A/0/S  TRAPPIST-1e 58.00   True   \n",
       "3     0003_02     Europa     False  A/0/S  TRAPPIST-1e 33.00  False   \n",
       "4     0004_01      Earth     False  F/1/S  TRAPPIST-1e 16.00  False   \n",
       "\n",
       "   RoomService  FoodCourt  ShoppingMall      Spa  VRDeck               Name  \\\n",
       "0         0.00       0.00          0.00     0.00    0.00    Maham Ofracculy   \n",
       "1       109.00       9.00         25.00   549.00   44.00       Juanna Vines   \n",
       "2        43.00   3,576.00          0.00 6,715.00   49.00      Altark Susent   \n",
       "3         0.00   1,283.00        371.00 3,329.00  193.00       Solam Susent   \n",
       "4       303.00      70.00        151.00   565.00    2.00  Willy Santantines   \n",
       "\n",
       "   Transported  \n",
       "0        False  \n",
       "1         True  \n",
       "2        False  \n",
       "3        False  \n",
       "4         True  "
      ]
     },
     "execution_count": 7,
     "metadata": {},
     "output_type": "execute_result"
    }
   ],
   "source": [
    "%%time\n",
    "trn_data.head()"
   ]
  },
  {
   "cell_type": "code",
   "execution_count": 8,
   "id": "cf1edd4c",
   "metadata": {
    "execution": {
     "iopub.execute_input": "2022-02-26T22:33:11.501962Z",
     "iopub.status.busy": "2022-02-26T22:33:11.501273Z",
     "iopub.status.idle": "2022-02-26T22:33:11.531016Z",
     "shell.execute_reply": "2022-02-26T22:33:11.530440Z",
     "shell.execute_reply.started": "2022-02-26T22:32:29.293675Z"
    },
    "papermill": {
     "duration": 0.095012,
     "end_time": "2022-02-26T22:33:11.531160",
     "exception": false,
     "start_time": "2022-02-26T22:33:11.436148",
     "status": "completed"
    },
    "tags": []
   },
   "outputs": [
    {
     "name": "stdout",
     "output_type": "stream",
     "text": [
      "CPU times: user 17.9 ms, sys: 132 µs, total: 18.1 ms\n",
      "Wall time: 20.1 ms\n"
     ]
    },
    {
     "data": {
      "text/html": [
       "<div>\n",
       "<style scoped>\n",
       "    .dataframe tbody tr th:only-of-type {\n",
       "        vertical-align: middle;\n",
       "    }\n",
       "\n",
       "    .dataframe tbody tr th {\n",
       "        vertical-align: top;\n",
       "    }\n",
       "\n",
       "    .dataframe thead th {\n",
       "        text-align: right;\n",
       "    }\n",
       "</style>\n",
       "<table border=\"1\" class=\"dataframe\">\n",
       "  <thead>\n",
       "    <tr style=\"text-align: right;\">\n",
       "      <th></th>\n",
       "      <th>Age</th>\n",
       "      <th>RoomService</th>\n",
       "      <th>FoodCourt</th>\n",
       "      <th>ShoppingMall</th>\n",
       "      <th>Spa</th>\n",
       "      <th>VRDeck</th>\n",
       "    </tr>\n",
       "  </thead>\n",
       "  <tbody>\n",
       "    <tr>\n",
       "      <th>count</th>\n",
       "      <td>8,514.00</td>\n",
       "      <td>8,512.00</td>\n",
       "      <td>8,510.00</td>\n",
       "      <td>8,485.00</td>\n",
       "      <td>8,510.00</td>\n",
       "      <td>8,505.00</td>\n",
       "    </tr>\n",
       "    <tr>\n",
       "      <th>mean</th>\n",
       "      <td>28.83</td>\n",
       "      <td>224.69</td>\n",
       "      <td>458.08</td>\n",
       "      <td>173.73</td>\n",
       "      <td>311.14</td>\n",
       "      <td>304.85</td>\n",
       "    </tr>\n",
       "    <tr>\n",
       "      <th>std</th>\n",
       "      <td>14.49</td>\n",
       "      <td>666.72</td>\n",
       "      <td>1,611.49</td>\n",
       "      <td>604.70</td>\n",
       "      <td>1,136.71</td>\n",
       "      <td>1,145.72</td>\n",
       "    </tr>\n",
       "    <tr>\n",
       "      <th>min</th>\n",
       "      <td>0.00</td>\n",
       "      <td>0.00</td>\n",
       "      <td>0.00</td>\n",
       "      <td>0.00</td>\n",
       "      <td>0.00</td>\n",
       "      <td>0.00</td>\n",
       "    </tr>\n",
       "    <tr>\n",
       "      <th>25%</th>\n",
       "      <td>19.00</td>\n",
       "      <td>0.00</td>\n",
       "      <td>0.00</td>\n",
       "      <td>0.00</td>\n",
       "      <td>0.00</td>\n",
       "      <td>0.00</td>\n",
       "    </tr>\n",
       "    <tr>\n",
       "      <th>50%</th>\n",
       "      <td>27.00</td>\n",
       "      <td>0.00</td>\n",
       "      <td>0.00</td>\n",
       "      <td>0.00</td>\n",
       "      <td>0.00</td>\n",
       "      <td>0.00</td>\n",
       "    </tr>\n",
       "    <tr>\n",
       "      <th>75%</th>\n",
       "      <td>38.00</td>\n",
       "      <td>47.00</td>\n",
       "      <td>76.00</td>\n",
       "      <td>27.00</td>\n",
       "      <td>59.00</td>\n",
       "      <td>46.00</td>\n",
       "    </tr>\n",
       "    <tr>\n",
       "      <th>max</th>\n",
       "      <td>79.00</td>\n",
       "      <td>14,327.00</td>\n",
       "      <td>29,813.00</td>\n",
       "      <td>23,492.00</td>\n",
       "      <td>22,408.00</td>\n",
       "      <td>24,133.00</td>\n",
       "    </tr>\n",
       "  </tbody>\n",
       "</table>\n",
       "</div>"
      ],
      "text/plain": [
       "           Age  RoomService  FoodCourt  ShoppingMall       Spa    VRDeck\n",
       "count 8,514.00     8,512.00   8,510.00      8,485.00  8,510.00  8,505.00\n",
       "mean     28.83       224.69     458.08        173.73    311.14    304.85\n",
       "std      14.49       666.72   1,611.49        604.70  1,136.71  1,145.72\n",
       "min       0.00         0.00       0.00          0.00      0.00      0.00\n",
       "25%      19.00         0.00       0.00          0.00      0.00      0.00\n",
       "50%      27.00         0.00       0.00          0.00      0.00      0.00\n",
       "75%      38.00        47.00      76.00         27.00     59.00     46.00\n",
       "max      79.00    14,327.00  29,813.00     23,492.00 22,408.00 24,133.00"
      ]
     },
     "execution_count": 8,
     "metadata": {},
     "output_type": "execute_result"
    }
   ],
   "source": [
    "%%time\n",
    "trn_data.describe()"
   ]
  },
  {
   "cell_type": "code",
   "execution_count": 9,
   "id": "670966fc",
   "metadata": {
    "execution": {
     "iopub.execute_input": "2022-02-26T22:33:11.650820Z",
     "iopub.status.busy": "2022-02-26T22:33:11.649891Z",
     "iopub.status.idle": "2022-02-26T22:33:11.657020Z",
     "shell.execute_reply": "2022-02-26T22:33:11.656340Z",
     "shell.execute_reply.started": "2022-02-26T22:32:29.327118Z"
    },
    "papermill": {
     "duration": 0.068234,
     "end_time": "2022-02-26T22:33:11.657178",
     "exception": false,
     "start_time": "2022-02-26T22:33:11.588944",
     "status": "completed"
    },
    "tags": []
   },
   "outputs": [
    {
     "name": "stdout",
     "output_type": "stream",
     "text": [
      "CPU times: user 5 µs, sys: 1e+03 ns, total: 6 µs\n",
      "Wall time: 9.54 µs\n"
     ]
    }
   ],
   "source": [
    "%%time\n",
    "def describe_categ(df):\n",
    "    for col in df.columns:\n",
    "        unique_samples = list(df[col].unique())\n",
    "        unique_values = df[col].nunique()\n",
    "\n",
    "        print(f' {col}: {unique_values} Unique Values,  Data Sample >> {unique_samples[:5]}')\n",
    "    print(' ...')\n",
    "    return None"
   ]
  },
  {
   "cell_type": "code",
   "execution_count": 10,
   "id": "ff645622",
   "metadata": {
    "execution": {
     "iopub.execute_input": "2022-02-26T22:33:11.777969Z",
     "iopub.status.busy": "2022-02-26T22:33:11.777019Z",
     "iopub.status.idle": "2022-02-26T22:33:11.811660Z",
     "shell.execute_reply": "2022-02-26T22:33:11.812324Z",
     "shell.execute_reply.started": "2022-02-26T22:32:29.334137Z"
    },
    "papermill": {
     "duration": 0.096755,
     "end_time": "2022-02-26T22:33:11.812522",
     "exception": false,
     "start_time": "2022-02-26T22:33:11.715767",
     "status": "completed"
    },
    "tags": []
   },
   "outputs": [
    {
     "name": "stdout",
     "output_type": "stream",
     "text": [
      " PassengerId: 8693 Unique Values,  Data Sample >> ['0001_01', '0002_01', '0003_01', '0003_02', '0004_01']\n",
      " HomePlanet: 3 Unique Values,  Data Sample >> ['Europa', 'Earth', 'Mars', nan]\n",
      " CryoSleep: 2 Unique Values,  Data Sample >> [False, True, nan]\n",
      " Cabin: 6560 Unique Values,  Data Sample >> ['B/0/P', 'F/0/S', 'A/0/S', 'F/1/S', 'F/0/P']\n",
      " Destination: 3 Unique Values,  Data Sample >> ['TRAPPIST-1e', 'PSO J318.5-22', '55 Cancri e', nan]\n",
      " Age: 80 Unique Values,  Data Sample >> [39.0, 24.0, 58.0, 33.0, 16.0]\n",
      " VIP: 2 Unique Values,  Data Sample >> [False, True, nan]\n",
      " RoomService: 1273 Unique Values,  Data Sample >> [0.0, 109.0, 43.0, 303.0, 42.0]\n",
      " FoodCourt: 1507 Unique Values,  Data Sample >> [0.0, 9.0, 3576.0, 1283.0, 70.0]\n",
      " ShoppingMall: 1115 Unique Values,  Data Sample >> [0.0, 25.0, 371.0, 151.0, 3.0]\n",
      " Spa: 1327 Unique Values,  Data Sample >> [0.0, 549.0, 6715.0, 3329.0, 565.0]\n",
      " VRDeck: 1306 Unique Values,  Data Sample >> [0.0, 44.0, 49.0, 193.0, 2.0]\n",
      " Name: 8473 Unique Values,  Data Sample >> ['Maham Ofracculy', 'Juanna Vines', 'Altark Susent', 'Solam Susent', 'Willy Santantines']\n",
      " Transported: 2 Unique Values,  Data Sample >> [False, True]\n",
      " ...\n",
      "CPU times: user 24.4 ms, sys: 1.2 ms, total: 25.6 ms\n",
      "Wall time: 28.2 ms\n"
     ]
    }
   ],
   "source": [
    "%%time\n",
    "describe_categ(trn_data)"
   ]
  },
  {
   "cell_type": "code",
   "execution_count": 11,
   "id": "051b83c1",
   "metadata": {
    "execution": {
     "iopub.execute_input": "2022-02-26T22:33:11.937930Z",
     "iopub.status.busy": "2022-02-26T22:33:11.936962Z",
     "iopub.status.idle": "2022-02-26T22:33:11.956965Z",
     "shell.execute_reply": "2022-02-26T22:33:11.956183Z",
     "shell.execute_reply.started": "2022-02-26T22:32:29.370857Z"
    },
    "papermill": {
     "duration": 0.085603,
     "end_time": "2022-02-26T22:33:11.957121",
     "exception": false,
     "start_time": "2022-02-26T22:33:11.871518",
     "status": "completed"
    },
    "tags": []
   },
   "outputs": [
    {
     "name": "stdout",
     "output_type": "stream",
     "text": [
      " PassengerId: 4277 Unique Values,  Data Sample >> ['0013_01', '0018_01', '0019_01', '0021_01', '0023_01']\n",
      " HomePlanet: 3 Unique Values,  Data Sample >> ['Earth', 'Europa', 'Mars', nan]\n",
      " CryoSleep: 2 Unique Values,  Data Sample >> [True, False, nan]\n",
      " Cabin: 3265 Unique Values,  Data Sample >> ['G/3/S', 'F/4/S', 'C/0/S', 'C/1/S', 'F/5/S']\n",
      " Destination: 3 Unique Values,  Data Sample >> ['TRAPPIST-1e', '55 Cancri e', 'PSO J318.5-22', nan]\n",
      " Age: 79 Unique Values,  Data Sample >> [27.0, 19.0, 31.0, 38.0, 20.0]\n",
      " VIP: 2 Unique Values,  Data Sample >> [False, nan, True]\n",
      " RoomService: 842 Unique Values,  Data Sample >> [0.0, 10.0, 339.0, 932.0, 2.0]\n",
      " FoodCourt: 902 Unique Values,  Data Sample >> [0.0, 9.0, 6652.0, 1615.0, nan]\n",
      " ShoppingMall: 715 Unique Values,  Data Sample >> [0.0, 635.0, 263.0, 136.0, nan]\n",
      " Spa: 833 Unique Values,  Data Sample >> [0.0, 2823.0, 181.0, 113.0, 237.0]\n",
      " VRDeck: 796 Unique Values,  Data Sample >> [0.0, 585.0, 60.0, 1010.0, 224.0]\n",
      " Name: 4176 Unique Values,  Data Sample >> ['Nelly Carsoning', 'Lerome Peckers', 'Sabih Unhearfus', 'Meratz Caltilter', 'Brence Harperez']\n",
      " ...\n",
      "CPU times: user 19.4 ms, sys: 191 µs, total: 19.6 ms\n",
      "Wall time: 17.1 ms\n"
     ]
    }
   ],
   "source": [
    "%%time\n",
    "describe_categ(tst_data)"
   ]
  },
  {
   "cell_type": "code",
   "execution_count": 12,
   "id": "3ac58b45",
   "metadata": {
    "execution": {
     "iopub.execute_input": "2022-02-26T22:33:12.080950Z",
     "iopub.status.busy": "2022-02-26T22:33:12.080297Z",
     "iopub.status.idle": "2022-02-26T22:33:12.095291Z",
     "shell.execute_reply": "2022-02-26T22:33:12.095905Z",
     "shell.execute_reply.started": "2022-02-26T22:32:29.391997Z"
    },
    "papermill": {
     "duration": 0.078937,
     "end_time": "2022-02-26T22:33:12.096071",
     "exception": false,
     "start_time": "2022-02-26T22:33:12.017134",
     "status": "completed"
    },
    "tags": []
   },
   "outputs": [
    {
     "data": {
      "text/plain": [
       "PassengerId       0\n",
       "HomePlanet      201\n",
       "CryoSleep       217\n",
       "Cabin           199\n",
       "Destination     182\n",
       "Age             179\n",
       "VIP             203\n",
       "RoomService     181\n",
       "FoodCourt       183\n",
       "ShoppingMall    208\n",
       "Spa             183\n",
       "VRDeck          188\n",
       "Name            200\n",
       "Transported       0\n",
       "dtype: int64"
      ]
     },
     "execution_count": 12,
     "metadata": {},
     "output_type": "execute_result"
    }
   ],
   "source": [
    "trn_data.isnull().sum()"
   ]
  },
  {
   "cell_type": "code",
   "execution_count": 13,
   "id": "029b64f4",
   "metadata": {
    "execution": {
     "iopub.execute_input": "2022-02-26T22:33:12.219158Z",
     "iopub.status.busy": "2022-02-26T22:33:12.218313Z",
     "iopub.status.idle": "2022-02-26T22:33:12.234017Z",
     "shell.execute_reply": "2022-02-26T22:33:12.234634Z",
     "shell.execute_reply.started": "2022-02-26T22:32:29.406033Z"
    },
    "papermill": {
     "duration": 0.079544,
     "end_time": "2022-02-26T22:33:12.234804",
     "exception": false,
     "start_time": "2022-02-26T22:33:12.155260",
     "status": "completed"
    },
    "tags": []
   },
   "outputs": [
    {
     "data": {
      "text/html": [
       "<div>\n",
       "<style scoped>\n",
       "    .dataframe tbody tr th:only-of-type {\n",
       "        vertical-align: middle;\n",
       "    }\n",
       "\n",
       "    .dataframe tbody tr th {\n",
       "        vertical-align: top;\n",
       "    }\n",
       "\n",
       "    .dataframe thead th {\n",
       "        text-align: right;\n",
       "    }\n",
       "</style>\n",
       "<table border=\"1\" class=\"dataframe\">\n",
       "  <thead>\n",
       "    <tr style=\"text-align: right;\">\n",
       "      <th></th>\n",
       "      <th>PassengerId</th>\n",
       "      <th>HomePlanet</th>\n",
       "      <th>CryoSleep</th>\n",
       "      <th>Cabin</th>\n",
       "      <th>Destination</th>\n",
       "      <th>Age</th>\n",
       "      <th>VIP</th>\n",
       "      <th>RoomService</th>\n",
       "      <th>FoodCourt</th>\n",
       "      <th>ShoppingMall</th>\n",
       "      <th>Spa</th>\n",
       "      <th>VRDeck</th>\n",
       "      <th>Name</th>\n",
       "    </tr>\n",
       "  </thead>\n",
       "  <tbody>\n",
       "    <tr>\n",
       "      <th>0</th>\n",
       "      <td>0013_01</td>\n",
       "      <td>Earth</td>\n",
       "      <td>True</td>\n",
       "      <td>G/3/S</td>\n",
       "      <td>TRAPPIST-1e</td>\n",
       "      <td>27.00</td>\n",
       "      <td>False</td>\n",
       "      <td>0.00</td>\n",
       "      <td>0.00</td>\n",
       "      <td>0.00</td>\n",
       "      <td>0.00</td>\n",
       "      <td>0.00</td>\n",
       "      <td>Nelly Carsoning</td>\n",
       "    </tr>\n",
       "    <tr>\n",
       "      <th>1</th>\n",
       "      <td>0018_01</td>\n",
       "      <td>Earth</td>\n",
       "      <td>False</td>\n",
       "      <td>F/4/S</td>\n",
       "      <td>TRAPPIST-1e</td>\n",
       "      <td>19.00</td>\n",
       "      <td>False</td>\n",
       "      <td>0.00</td>\n",
       "      <td>9.00</td>\n",
       "      <td>0.00</td>\n",
       "      <td>2,823.00</td>\n",
       "      <td>0.00</td>\n",
       "      <td>Lerome Peckers</td>\n",
       "    </tr>\n",
       "    <tr>\n",
       "      <th>2</th>\n",
       "      <td>0019_01</td>\n",
       "      <td>Europa</td>\n",
       "      <td>True</td>\n",
       "      <td>C/0/S</td>\n",
       "      <td>55 Cancri e</td>\n",
       "      <td>31.00</td>\n",
       "      <td>False</td>\n",
       "      <td>0.00</td>\n",
       "      <td>0.00</td>\n",
       "      <td>0.00</td>\n",
       "      <td>0.00</td>\n",
       "      <td>0.00</td>\n",
       "      <td>Sabih Unhearfus</td>\n",
       "    </tr>\n",
       "    <tr>\n",
       "      <th>3</th>\n",
       "      <td>0021_01</td>\n",
       "      <td>Europa</td>\n",
       "      <td>False</td>\n",
       "      <td>C/1/S</td>\n",
       "      <td>TRAPPIST-1e</td>\n",
       "      <td>38.00</td>\n",
       "      <td>False</td>\n",
       "      <td>0.00</td>\n",
       "      <td>6,652.00</td>\n",
       "      <td>0.00</td>\n",
       "      <td>181.00</td>\n",
       "      <td>585.00</td>\n",
       "      <td>Meratz Caltilter</td>\n",
       "    </tr>\n",
       "    <tr>\n",
       "      <th>4</th>\n",
       "      <td>0023_01</td>\n",
       "      <td>Earth</td>\n",
       "      <td>False</td>\n",
       "      <td>F/5/S</td>\n",
       "      <td>TRAPPIST-1e</td>\n",
       "      <td>20.00</td>\n",
       "      <td>False</td>\n",
       "      <td>10.00</td>\n",
       "      <td>0.00</td>\n",
       "      <td>635.00</td>\n",
       "      <td>0.00</td>\n",
       "      <td>0.00</td>\n",
       "      <td>Brence Harperez</td>\n",
       "    </tr>\n",
       "  </tbody>\n",
       "</table>\n",
       "</div>"
      ],
      "text/plain": [
       "  PassengerId HomePlanet CryoSleep  Cabin  Destination   Age    VIP  \\\n",
       "0     0013_01      Earth      True  G/3/S  TRAPPIST-1e 27.00  False   \n",
       "1     0018_01      Earth     False  F/4/S  TRAPPIST-1e 19.00  False   \n",
       "2     0019_01     Europa      True  C/0/S  55 Cancri e 31.00  False   \n",
       "3     0021_01     Europa     False  C/1/S  TRAPPIST-1e 38.00  False   \n",
       "4     0023_01      Earth     False  F/5/S  TRAPPIST-1e 20.00  False   \n",
       "\n",
       "   RoomService  FoodCourt  ShoppingMall      Spa  VRDeck              Name  \n",
       "0         0.00       0.00          0.00     0.00    0.00   Nelly Carsoning  \n",
       "1         0.00       9.00          0.00 2,823.00    0.00    Lerome Peckers  \n",
       "2         0.00       0.00          0.00     0.00    0.00   Sabih Unhearfus  \n",
       "3         0.00   6,652.00          0.00   181.00  585.00  Meratz Caltilter  \n",
       "4        10.00       0.00        635.00     0.00    0.00   Brence Harperez  "
      ]
     },
     "execution_count": 13,
     "metadata": {},
     "output_type": "execute_result"
    }
   ],
   "source": [
    "tst_data.head()"
   ]
  },
  {
   "cell_type": "code",
   "execution_count": 14,
   "id": "2e47fc9a",
   "metadata": {
    "execution": {
     "iopub.execute_input": "2022-02-26T22:33:12.363834Z",
     "iopub.status.busy": "2022-02-26T22:33:12.359843Z",
     "iopub.status.idle": "2022-02-26T22:33:12.369081Z",
     "shell.execute_reply": "2022-02-26T22:33:12.369698Z",
     "shell.execute_reply.started": "2022-02-26T22:32:29.424568Z"
    },
    "papermill": {
     "duration": 0.074714,
     "end_time": "2022-02-26T22:33:12.369865",
     "exception": false,
     "start_time": "2022-02-26T22:33:12.295151",
     "status": "completed"
    },
    "tags": []
   },
   "outputs": [
    {
     "data": {
      "text/plain": [
       "PassengerId       0\n",
       "HomePlanet       87\n",
       "CryoSleep        93\n",
       "Cabin           100\n",
       "Destination      92\n",
       "Age              91\n",
       "VIP              93\n",
       "RoomService      82\n",
       "FoodCourt       106\n",
       "ShoppingMall     98\n",
       "Spa             101\n",
       "VRDeck           80\n",
       "Name             94\n",
       "dtype: int64"
      ]
     },
     "execution_count": 14,
     "metadata": {},
     "output_type": "execute_result"
    }
   ],
   "source": [
    "tst_data.isnull().sum()"
   ]
  },
  {
   "cell_type": "code",
   "execution_count": 15,
   "id": "6ccdc697",
   "metadata": {
    "execution": {
     "iopub.execute_input": "2022-02-26T22:33:12.495693Z",
     "iopub.status.busy": "2022-02-26T22:33:12.495063Z",
     "iopub.status.idle": "2022-02-26T22:33:12.503486Z",
     "shell.execute_reply": "2022-02-26T22:33:12.503988Z",
     "shell.execute_reply.started": "2022-02-26T22:32:29.438420Z"
    },
    "papermill": {
     "duration": 0.074144,
     "end_time": "2022-02-26T22:33:12.504151",
     "exception": false,
     "start_time": "2022-02-26T22:33:12.430007",
     "status": "completed"
    },
    "tags": []
   },
   "outputs": [
    {
     "data": {
      "text/html": [
       "<div>\n",
       "<style scoped>\n",
       "    .dataframe tbody tr th:only-of-type {\n",
       "        vertical-align: middle;\n",
       "    }\n",
       "\n",
       "    .dataframe tbody tr th {\n",
       "        vertical-align: top;\n",
       "    }\n",
       "\n",
       "    .dataframe thead th {\n",
       "        text-align: right;\n",
       "    }\n",
       "</style>\n",
       "<table border=\"1\" class=\"dataframe\">\n",
       "  <thead>\n",
       "    <tr style=\"text-align: right;\">\n",
       "      <th></th>\n",
       "      <th>PassengerId</th>\n",
       "      <th>Transported</th>\n",
       "    </tr>\n",
       "  </thead>\n",
       "  <tbody>\n",
       "    <tr>\n",
       "      <th>0</th>\n",
       "      <td>0013_01</td>\n",
       "      <td>False</td>\n",
       "    </tr>\n",
       "    <tr>\n",
       "      <th>1</th>\n",
       "      <td>0018_01</td>\n",
       "      <td>False</td>\n",
       "    </tr>\n",
       "    <tr>\n",
       "      <th>2</th>\n",
       "      <td>0019_01</td>\n",
       "      <td>False</td>\n",
       "    </tr>\n",
       "    <tr>\n",
       "      <th>3</th>\n",
       "      <td>0021_01</td>\n",
       "      <td>False</td>\n",
       "    </tr>\n",
       "    <tr>\n",
       "      <th>4</th>\n",
       "      <td>0023_01</td>\n",
       "      <td>False</td>\n",
       "    </tr>\n",
       "  </tbody>\n",
       "</table>\n",
       "</div>"
      ],
      "text/plain": [
       "  PassengerId  Transported\n",
       "0     0013_01        False\n",
       "1     0018_01        False\n",
       "2     0019_01        False\n",
       "3     0021_01        False\n",
       "4     0023_01        False"
      ]
     },
     "execution_count": 15,
     "metadata": {},
     "output_type": "execute_result"
    }
   ],
   "source": [
    "sub.head()"
   ]
  },
  {
   "cell_type": "markdown",
   "id": "62960c18",
   "metadata": {
    "papermill": {
     "duration": 0.060198,
     "end_time": "2022-02-26T22:33:12.624952",
     "exception": false,
     "start_time": "2022-02-26T22:33:12.564754",
     "status": "completed"
    },
    "tags": []
   },
   "source": [
    "# Exploring the Target Variable..."
   ]
  },
  {
   "cell_type": "code",
   "execution_count": 16,
   "id": "8828e6fb",
   "metadata": {
    "execution": {
     "iopub.execute_input": "2022-02-26T22:33:12.750806Z",
     "iopub.status.busy": "2022-02-26T22:33:12.749800Z",
     "iopub.status.idle": "2022-02-26T22:33:12.757449Z",
     "shell.execute_reply": "2022-02-26T22:33:12.756809Z",
     "shell.execute_reply.started": "2022-02-26T22:32:29.450192Z"
    },
    "papermill": {
     "duration": 0.072139,
     "end_time": "2022-02-26T22:33:12.757600",
     "exception": false,
     "start_time": "2022-02-26T22:33:12.685461",
     "status": "completed"
    },
    "tags": []
   },
   "outputs": [
    {
     "name": "stdout",
     "output_type": "stream",
     "text": [
      "CPU times: user 4 µs, sys: 0 ns, total: 4 µs\n",
      "Wall time: 8.58 µs\n"
     ]
    }
   ],
   "source": [
    "%%time\n",
    "def analyze_categ_target(df, target = 'Transported'):\n",
    "    \n",
    "    transported = df[df[target] == True].shape[0]\n",
    "    not_transported = df[df[target] == False].shape[0]\n",
    "    total = transported + not_transported\n",
    "    \n",
    "    print(f'Transported     : {transported / total:.2f} %')\n",
    "    print(f'Not Transported : {not_transported / total:.2f} %')\n",
    "    print(f'Total Passengers: {total}')\n",
    "    print('...')"
   ]
  },
  {
   "cell_type": "code",
   "execution_count": 17,
   "id": "7964e7d6",
   "metadata": {
    "execution": {
     "iopub.execute_input": "2022-02-26T22:33:12.887001Z",
     "iopub.status.busy": "2022-02-26T22:33:12.886043Z",
     "iopub.status.idle": "2022-02-26T22:33:12.899561Z",
     "shell.execute_reply": "2022-02-26T22:33:12.900238Z",
     "shell.execute_reply.started": "2022-02-26T22:32:29.460040Z"
    },
    "papermill": {
     "duration": 0.079251,
     "end_time": "2022-02-26T22:33:12.900619",
     "exception": false,
     "start_time": "2022-02-26T22:33:12.821368",
     "status": "completed"
    },
    "tags": []
   },
   "outputs": [
    {
     "name": "stdout",
     "output_type": "stream",
     "text": [
      "Transported     : 0.50 %\n",
      "Not Transported : 0.50 %\n",
      "Total Passengers: 8693\n",
      "...\n",
      "CPU times: user 4.39 ms, sys: 0 ns, total: 4.39 ms\n",
      "Wall time: 5.8 ms\n"
     ]
    }
   ],
   "source": [
    "%%time\n",
    "analyze_categ_target(trn_data)"
   ]
  },
  {
   "cell_type": "code",
   "execution_count": 18,
   "id": "4d062a66",
   "metadata": {
    "execution": {
     "iopub.execute_input": "2022-02-26T22:33:13.036460Z",
     "iopub.status.busy": "2022-02-26T22:33:13.035837Z",
     "iopub.status.idle": "2022-02-26T22:33:13.042236Z",
     "shell.execute_reply": "2022-02-26T22:33:13.042964Z",
     "shell.execute_reply.started": "2022-02-26T22:32:29.472997Z"
    },
    "papermill": {
     "duration": 0.078814,
     "end_time": "2022-02-26T22:33:13.043164",
     "exception": false,
     "start_time": "2022-02-26T22:33:12.964350",
     "status": "completed"
    },
    "tags": []
   },
   "outputs": [
    {
     "name": "stdout",
     "output_type": "stream",
     "text": [
      "Overlapped Passengers: 0\n",
      "CPU times: user 4.51 ms, sys: 1.04 ms, total: 5.56 ms\n",
      "Wall time: 4.85 ms\n"
     ]
    }
   ],
   "source": [
    "%%time\n",
    "trn_passenger_ids = set(trn_data['PassengerId'].unique())\n",
    "tst_passenger_ids = set(tst_data['PassengerId'].unique())\n",
    "intersection = trn_passenger_ids.intersection(tst_passenger_ids)\n",
    "print('Overlapped Passengers:', len(intersection))"
   ]
  },
  {
   "cell_type": "markdown",
   "id": "a0e48775",
   "metadata": {
    "papermill": {
     "duration": 0.061308,
     "end_time": "2022-02-26T22:33:13.167054",
     "exception": false,
     "start_time": "2022-02-26T22:33:13.105746",
     "status": "completed"
    },
    "tags": []
   },
   "source": [
    "# Feature Engineering"
   ]
  },
  {
   "cell_type": "code",
   "execution_count": 19,
   "id": "32345263",
   "metadata": {
    "execution": {
     "iopub.execute_input": "2022-02-26T22:33:13.298376Z",
     "iopub.status.busy": "2022-02-26T22:33:13.297356Z",
     "iopub.status.idle": "2022-02-26T22:33:13.305020Z",
     "shell.execute_reply": "2022-02-26T22:33:13.305628Z",
     "shell.execute_reply.started": "2022-02-26T22:32:29.483316Z"
    },
    "papermill": {
     "duration": 0.075476,
     "end_time": "2022-02-26T22:33:13.305831",
     "exception": false,
     "start_time": "2022-02-26T22:33:13.230355",
     "status": "completed"
    },
    "tags": []
   },
   "outputs": [],
   "source": [
    "def fill_missing(df):\n",
    "    '''\n",
    "    \n",
    "    '''\n",
    "    \n",
    "    numerics = ['int16', 'int32', 'int64', 'float16', 'float32', 'float64']\n",
    "    numeric_tmp = df.select_dtypes(include = numerics)\n",
    "    categ_tmp = df.select_dtypes(exclude = numerics)\n",
    "\n",
    "    for col in numeric_tmp.columns:\n",
    "        print(col)\n",
    "        df[col] = df[col].fillna(value = df[col].mean())\n",
    "        \n",
    "    for col in categ_tmp.columns:\n",
    "        print(col)\n",
    "        df[col] = df[col].fillna(value = df[col].mode()[0])\n",
    "        \n",
    "    print('...')\n",
    "    \n",
    "    return df"
   ]
  },
  {
   "cell_type": "code",
   "execution_count": 20,
   "id": "3efb3362",
   "metadata": {
    "execution": {
     "iopub.execute_input": "2022-02-26T22:33:13.434988Z",
     "iopub.status.busy": "2022-02-26T22:33:13.434004Z",
     "iopub.status.idle": "2022-02-26T22:33:13.511982Z",
     "shell.execute_reply": "2022-02-26T22:33:13.511215Z",
     "shell.execute_reply.started": "2022-02-26T22:32:29.491777Z"
    },
    "papermill": {
     "duration": 0.143503,
     "end_time": "2022-02-26T22:33:13.512128",
     "exception": false,
     "start_time": "2022-02-26T22:33:13.368625",
     "status": "completed"
    },
    "tags": []
   },
   "outputs": [
    {
     "name": "stdout",
     "output_type": "stream",
     "text": [
      "Age\n",
      "RoomService\n",
      "FoodCourt\n",
      "ShoppingMall\n",
      "Spa\n",
      "VRDeck\n",
      "PassengerId\n",
      "HomePlanet\n",
      "CryoSleep\n",
      "Cabin\n",
      "Destination\n",
      "VIP\n",
      "Name\n",
      "Transported\n",
      "...\n",
      "Age\n",
      "RoomService\n",
      "FoodCourt\n",
      "ShoppingMall\n",
      "Spa\n",
      "VRDeck\n",
      "PassengerId\n",
      "HomePlanet\n",
      "CryoSleep\n",
      "Cabin\n",
      "Destination\n",
      "VIP\n",
      "Name\n",
      "...\n"
     ]
    }
   ],
   "source": [
    "trn_data =  fill_missing(trn_data)\n",
    "tst_data =  fill_missing(tst_data)"
   ]
  },
  {
   "cell_type": "code",
   "execution_count": 21,
   "id": "b034e0de",
   "metadata": {
    "execution": {
     "iopub.execute_input": "2022-02-26T22:33:13.642368Z",
     "iopub.status.busy": "2022-02-26T22:33:13.641368Z",
     "iopub.status.idle": "2022-02-26T22:33:13.649962Z",
     "shell.execute_reply": "2022-02-26T22:33:13.649351Z",
     "shell.execute_reply.started": "2022-02-26T22:32:29.557287Z"
    },
    "papermill": {
     "duration": 0.074347,
     "end_time": "2022-02-26T22:33:13.650116",
     "exception": false,
     "start_time": "2022-02-26T22:33:13.575769",
     "status": "completed"
    },
    "tags": []
   },
   "outputs": [
    {
     "name": "stdout",
     "output_type": "stream",
     "text": [
      "CPU times: user 3 µs, sys: 0 ns, total: 3 µs\n",
      "Wall time: 8.11 µs\n"
     ]
    }
   ],
   "source": [
    "%%time\n",
    "def total_billed(df):\n",
    "    '''\n",
    "    Calculates total amount billed in the trip to the passenger... \n",
    "    \n",
    "    '''\n",
    "    \n",
    "    df['Total_Billed'] = df['RoomService'] + df['FoodCourt'] + df['ShoppingMall'] + df['Spa'] + df['VRDeck']\n",
    "    return df"
   ]
  },
  {
   "cell_type": "code",
   "execution_count": 22,
   "id": "b9f8aa21",
   "metadata": {
    "execution": {
     "iopub.execute_input": "2022-02-26T22:33:13.780015Z",
     "iopub.status.busy": "2022-02-26T22:33:13.779196Z",
     "iopub.status.idle": "2022-02-26T22:33:13.788363Z",
     "shell.execute_reply": "2022-02-26T22:33:13.787826Z",
     "shell.execute_reply.started": "2022-02-26T22:32:29.565037Z"
    },
    "papermill": {
     "duration": 0.075378,
     "end_time": "2022-02-26T22:33:13.788520",
     "exception": false,
     "start_time": "2022-02-26T22:33:13.713142",
     "status": "completed"
    },
    "tags": []
   },
   "outputs": [
    {
     "name": "stdout",
     "output_type": "stream",
     "text": [
      "CPU times: user 2.64 ms, sys: 0 ns, total: 2.64 ms\n",
      "Wall time: 2.66 ms\n"
     ]
    }
   ],
   "source": [
    "%%time\n",
    "trn_data = total_billed(trn_data)\n",
    "tst_data = total_billed(tst_data)"
   ]
  },
  {
   "cell_type": "code",
   "execution_count": 23,
   "id": "9c7c3c19",
   "metadata": {
    "execution": {
     "iopub.execute_input": "2022-02-26T22:33:13.926146Z",
     "iopub.status.busy": "2022-02-26T22:33:13.925453Z",
     "iopub.status.idle": "2022-02-26T22:33:13.928259Z",
     "shell.execute_reply": "2022-02-26T22:33:13.927705Z",
     "shell.execute_reply.started": "2022-02-26T22:32:29.583103Z"
    },
    "papermill": {
     "duration": 0.074897,
     "end_time": "2022-02-26T22:33:13.928403",
     "exception": false,
     "start_time": "2022-02-26T22:33:13.853506",
     "status": "completed"
    },
    "tags": []
   },
   "outputs": [],
   "source": [
    "def name_ext(df):\n",
    "    '''\n",
    "    '''\n",
    "    df['FirstName'] = df['Name'].str.split(' ', expand=True)[0]\n",
    "    df['FamilyName'] = df['Name'].str.split(' ', expand=True)[1]\n",
    "    df.drop(columns = ['Name'], inplace = True)\n",
    "    return df"
   ]
  },
  {
   "cell_type": "code",
   "execution_count": 24,
   "id": "3042d5b7",
   "metadata": {
    "execution": {
     "iopub.execute_input": "2022-02-26T22:33:14.240590Z",
     "iopub.status.busy": "2022-02-26T22:33:14.081162Z",
     "iopub.status.idle": "2022-02-26T22:33:14.275506Z",
     "shell.execute_reply": "2022-02-26T22:33:14.276110Z",
     "shell.execute_reply.started": "2022-02-26T22:32:29.589604Z"
    },
    "papermill": {
     "duration": 0.282828,
     "end_time": "2022-02-26T22:33:14.276286",
     "exception": false,
     "start_time": "2022-02-26T22:33:13.993458",
     "status": "completed"
    },
    "tags": []
   },
   "outputs": [
    {
     "name": "stdout",
     "output_type": "stream",
     "text": [
      "CPU times: user 203 ms, sys: 6.9 ms, total: 210 ms\n",
      "Wall time: 207 ms\n"
     ]
    }
   ],
   "source": [
    "%%time\n",
    "trn_data = name_ext(trn_data)\n",
    "tst_data = name_ext(tst_data)"
   ]
  },
  {
   "cell_type": "code",
   "execution_count": 25,
   "id": "ddc01bf7",
   "metadata": {
    "execution": {
     "iopub.execute_input": "2022-02-26T22:33:14.413827Z",
     "iopub.status.busy": "2022-02-26T22:33:14.413145Z",
     "iopub.status.idle": "2022-02-26T22:33:14.415811Z",
     "shell.execute_reply": "2022-02-26T22:33:14.415209Z",
     "shell.execute_reply.started": "2022-02-26T22:32:29.646761Z"
    },
    "papermill": {
     "duration": 0.073653,
     "end_time": "2022-02-26T22:33:14.415955",
     "exception": false,
     "start_time": "2022-02-26T22:33:14.342302",
     "status": "completed"
    },
    "tags": []
   },
   "outputs": [],
   "source": [
    "def cabin_separation(df):\n",
    "    '''\n",
    "    '''\n",
    "    df['CabinDeck'] = df['Cabin'].str.split('/', expand=True)[0]\n",
    "    df['CabinNum'] = df['Cabin'].str.split('/', expand=True)[1]\n",
    "    df['CabinSide'] = df['Cabin'].str.split('/', expand=True)[2]\n",
    "    df.drop(columns = ['Cabin'], inplace = True)\n",
    "    return df"
   ]
  },
  {
   "cell_type": "code",
   "execution_count": 26,
   "id": "320e7261",
   "metadata": {
    "execution": {
     "iopub.execute_input": "2022-02-26T22:33:14.592645Z",
     "iopub.status.busy": "2022-02-26T22:33:14.571230Z",
     "iopub.status.idle": "2022-02-26T22:33:14.638878Z",
     "shell.execute_reply": "2022-02-26T22:33:14.638350Z",
     "shell.execute_reply.started": "2022-02-26T22:32:29.653321Z"
    },
    "papermill": {
     "duration": 0.15887,
     "end_time": "2022-02-26T22:33:14.639021",
     "exception": false,
     "start_time": "2022-02-26T22:33:14.480151",
     "status": "completed"
    },
    "tags": []
   },
   "outputs": [
    {
     "name": "stdout",
     "output_type": "stream",
     "text": [
      "CPU times: user 83.1 ms, sys: 3.16 ms, total: 86.2 ms\n",
      "Wall time: 84.5 ms\n"
     ]
    }
   ],
   "source": [
    "%%time\n",
    "trn_data = cabin_separation(trn_data)\n",
    "tst_data = cabin_separation(tst_data)"
   ]
  },
  {
   "cell_type": "code",
   "execution_count": 27,
   "id": "a4b5d49a",
   "metadata": {
    "execution": {
     "iopub.execute_input": "2022-02-26T22:33:14.771904Z",
     "iopub.status.busy": "2022-02-26T22:33:14.771220Z",
     "iopub.status.idle": "2022-02-26T22:33:14.775492Z",
     "shell.execute_reply": "2022-02-26T22:33:14.776049Z",
     "shell.execute_reply.started": "2022-02-26T22:32:29.721946Z"
    },
    "papermill": {
     "duration": 0.073013,
     "end_time": "2022-02-26T22:33:14.776216",
     "exception": false,
     "start_time": "2022-02-26T22:33:14.703203",
     "status": "completed"
    },
    "tags": []
   },
   "outputs": [],
   "source": [
    "def route(df):\n",
    "    '''\n",
    "    \n",
    "    '''\n",
    "    df['Route'] = df['HomePlanet'] + df['Destination']\n",
    "    return df"
   ]
  },
  {
   "cell_type": "code",
   "execution_count": 28,
   "id": "172b4345",
   "metadata": {
    "execution": {
     "iopub.execute_input": "2022-02-26T22:33:14.912359Z",
     "iopub.status.busy": "2022-02-26T22:33:14.911693Z",
     "iopub.status.idle": "2022-02-26T22:33:14.921350Z",
     "shell.execute_reply": "2022-02-26T22:33:14.921881Z",
     "shell.execute_reply.started": "2022-02-26T22:32:29.727441Z"
    },
    "papermill": {
     "duration": 0.081661,
     "end_time": "2022-02-26T22:33:14.922063",
     "exception": false,
     "start_time": "2022-02-26T22:33:14.840402",
     "status": "completed"
    },
    "tags": []
   },
   "outputs": [
    {
     "name": "stdout",
     "output_type": "stream",
     "text": [
      "CPU times: user 3.54 ms, sys: 0 ns, total: 3.54 ms\n",
      "Wall time: 3.56 ms\n"
     ]
    }
   ],
   "source": [
    "%%time\n",
    "trn_data = route(trn_data)\n",
    "tst_data = route(tst_data)"
   ]
  },
  {
   "cell_type": "markdown",
   "id": "8b4586ae",
   "metadata": {
    "papermill": {
     "duration": 0.065332,
     "end_time": "2022-02-26T22:33:15.052097",
     "exception": false,
     "start_time": "2022-02-26T22:33:14.986765",
     "status": "completed"
    },
    "tags": []
   },
   "source": [
    "# Pre-Processing for Training"
   ]
  },
  {
   "cell_type": "code",
   "execution_count": 29,
   "id": "2456bdbf",
   "metadata": {
    "execution": {
     "iopub.execute_input": "2022-02-26T22:33:15.187878Z",
     "iopub.status.busy": "2022-02-26T22:33:15.187134Z",
     "iopub.status.idle": "2022-02-26T22:33:15.193516Z",
     "shell.execute_reply": "2022-02-26T22:33:15.194106Z",
     "shell.execute_reply.started": "2022-02-26T22:32:29.745070Z"
    },
    "papermill": {
     "duration": 0.075289,
     "end_time": "2022-02-26T22:33:15.194286",
     "exception": false,
     "start_time": "2022-02-26T22:33:15.118997",
     "status": "completed"
    },
    "tags": []
   },
   "outputs": [
    {
     "name": "stdout",
     "output_type": "stream",
     "text": [
      "CPU times: user 5 µs, sys: 1 µs, total: 6 µs\n",
      "Wall time: 9.54 µs\n"
     ]
    }
   ],
   "source": [
    "%%time\n",
    "numerical_features = ['Age', 'RoomService', 'FoodCourt', 'ShoppingMall', 'Spa', 'VRDeck', 'total_billed']\n",
    "\n",
    "categorical_features = [\n",
    "                        #'PassengerId',\n",
    "                        'HomePlanet',\n",
    "                        'CryoSleep',\n",
    "                        'CabinDeck',\n",
    "                        'CabinNum',\n",
    "                        'CabinSide',\n",
    "                        'Destination',\n",
    "                        'VIP',\n",
    "                        'FirstName',\n",
    "                        'FamilyName',\n",
    "                        'Route',\n",
    "                        ]\n",
    "\n",
    "target_feature = 'Transported'"
   ]
  },
  {
   "cell_type": "code",
   "execution_count": 30,
   "id": "1607db06",
   "metadata": {
    "execution": {
     "iopub.execute_input": "2022-02-26T22:33:15.331232Z",
     "iopub.status.busy": "2022-02-26T22:33:15.330591Z",
     "iopub.status.idle": "2022-02-26T22:33:16.274988Z",
     "shell.execute_reply": "2022-02-26T22:33:16.274187Z",
     "shell.execute_reply.started": "2022-02-26T22:32:29.756576Z"
    },
    "papermill": {
     "duration": 1.014321,
     "end_time": "2022-02-26T22:33:16.275146",
     "exception": false,
     "start_time": "2022-02-26T22:33:15.260825",
     "status": "completed"
    },
    "tags": []
   },
   "outputs": [
    {
     "name": "stdout",
     "output_type": "stream",
     "text": [
      "CPU times: user 492 ms, sys: 320 ms, total: 813 ms\n",
      "Wall time: 933 ms\n"
     ]
    }
   ],
   "source": [
    "%%time\n",
    "from sklearn.preprocessing import LabelEncoder \n",
    "\n",
    "def encode_categorical(train_df, test_df, categ_feat = categorical_features):\n",
    "    '''\n",
    "    \n",
    "    '''\n",
    "    encoder_dict = {}\n",
    "    \n",
    "    concat_data = pd.concat([trn_data[categ_feat], tst_data[categ_feat]])\n",
    "    \n",
    "    for col in concat_data.columns:\n",
    "        print('Processing: ', col)\n",
    "        encoder = LabelEncoder()\n",
    "        encoder.fit(concat_data[col])\n",
    "        encoder_dict[col] = encoder\n",
    "\n",
    "        train_df[col + '_Enc'] = encoder.transform(train_df[col])\n",
    "        test_df[col + '_Enc'] = encoder.transform(test_df[col])\n",
    "    \n",
    "    train_df = train_df.drop(columns = categ_feat, axis = 1)\n",
    "    test_df = test_df.drop(columns = categ_feat, axis = 1)\n",
    "\n",
    "    return train_df, test_df"
   ]
  },
  {
   "cell_type": "code",
   "execution_count": 31,
   "id": "04134b88",
   "metadata": {
    "execution": {
     "iopub.execute_input": "2022-02-26T22:33:16.414552Z",
     "iopub.status.busy": "2022-02-26T22:33:16.413896Z",
     "iopub.status.idle": "2022-02-26T22:33:16.509348Z",
     "shell.execute_reply": "2022-02-26T22:33:16.508811Z",
     "shell.execute_reply.started": "2022-02-26T22:32:29.767647Z"
    },
    "papermill": {
     "duration": 0.167309,
     "end_time": "2022-02-26T22:33:16.509484",
     "exception": false,
     "start_time": "2022-02-26T22:33:16.342175",
     "status": "completed"
    },
    "tags": []
   },
   "outputs": [
    {
     "name": "stdout",
     "output_type": "stream",
     "text": [
      "Processing:  HomePlanet\n",
      "Processing:  CryoSleep\n",
      "Processing:  CabinDeck\n",
      "Processing:  CabinNum\n",
      "Processing:  CabinSide\n",
      "Processing:  Destination\n",
      "Processing:  VIP\n",
      "Processing:  FirstName\n",
      "Processing:  FamilyName\n",
      "Processing:  Route\n",
      "CPU times: user 89.7 ms, sys: 7.26 ms, total: 96.9 ms\n",
      "Wall time: 91.8 ms\n"
     ]
    }
   ],
   "source": [
    "%%time\n",
    "trn_data, tst_data = encode_categorical(trn_data, tst_data, categorical_features)"
   ]
  },
  {
   "cell_type": "markdown",
   "id": "a41ae131",
   "metadata": {
    "papermill": {
     "duration": 0.068225,
     "end_time": "2022-02-26T22:33:16.645802",
     "exception": false,
     "start_time": "2022-02-26T22:33:16.577577",
     "status": "completed"
    },
    "tags": []
   },
   "source": [
    "# Simple CV Sttrategy 80/20 Split"
   ]
  },
  {
   "cell_type": "code",
   "execution_count": 32,
   "id": "76845690",
   "metadata": {
    "execution": {
     "iopub.execute_input": "2022-02-26T22:33:16.786386Z",
     "iopub.status.busy": "2022-02-26T22:33:16.785084Z",
     "iopub.status.idle": "2022-02-26T22:33:16.790001Z",
     "shell.execute_reply": "2022-02-26T22:33:16.789347Z",
     "shell.execute_reply.started": "2022-02-26T22:32:29.842252Z"
    },
    "papermill": {
     "duration": 0.078119,
     "end_time": "2022-02-26T22:33:16.790154",
     "exception": false,
     "start_time": "2022-02-26T22:33:16.712035",
     "status": "completed"
    },
    "tags": []
   },
   "outputs": [
    {
     "data": {
      "text/plain": [
       "Index(['PassengerId', 'Age', 'RoomService', 'FoodCourt', 'ShoppingMall', 'Spa',\n",
       "       'VRDeck', 'Transported', 'Total_Billed', 'HomePlanet_Enc',\n",
       "       'CryoSleep_Enc', 'CabinDeck_Enc', 'CabinNum_Enc', 'CabinSide_Enc',\n",
       "       'Destination_Enc', 'VIP_Enc', 'FirstName_Enc', 'FamilyName_Enc',\n",
       "       'Route_Enc'],\n",
       "      dtype='object')"
      ]
     },
     "execution_count": 32,
     "metadata": {},
     "output_type": "execute_result"
    }
   ],
   "source": [
    "trn_data.columns"
   ]
  },
  {
   "cell_type": "code",
   "execution_count": 33,
   "id": "0b2bd9b5",
   "metadata": {
    "execution": {
     "iopub.execute_input": "2022-02-26T22:33:16.931010Z",
     "iopub.status.busy": "2022-02-26T22:33:16.927675Z",
     "iopub.status.idle": "2022-02-26T22:33:16.934236Z",
     "shell.execute_reply": "2022-02-26T22:33:16.933590Z",
     "shell.execute_reply.started": "2022-02-26T22:32:29.849438Z"
    },
    "papermill": {
     "duration": 0.076014,
     "end_time": "2022-02-26T22:33:16.934375",
     "exception": false,
     "start_time": "2022-02-26T22:33:16.858361",
     "status": "completed"
    },
    "tags": []
   },
   "outputs": [],
   "source": [
    "features = ['Age',\n",
    "            'RoomService',\n",
    "            'FoodCourt',\n",
    "            'ShoppingMall',\n",
    "            'Spa',\n",
    "            'VRDeck',\n",
    "            'FamilyName_Enc',\n",
    "            'FirstName_Enc',\n",
    "            'VIP_Enc',\n",
    "            'Total_Billed',\n",
    "            'HomePlanet_Enc',\n",
    "            'CryoSleep_Enc',\n",
    "            'CabinNum_Enc',\n",
    "            'CabinSide_Enc',\n",
    "            'CabinDeck_Enc',\n",
    "            'Destination_Enc',\n",
    "            'Route_Enc']"
   ]
  },
  {
   "cell_type": "code",
   "execution_count": 34,
   "id": "e29f2e8f",
   "metadata": {
    "execution": {
     "iopub.execute_input": "2022-02-26T22:33:17.073615Z",
     "iopub.status.busy": "2022-02-26T22:33:17.072799Z",
     "iopub.status.idle": "2022-02-26T22:33:17.132214Z",
     "shell.execute_reply": "2022-02-26T22:33:17.131625Z",
     "shell.execute_reply.started": "2022-02-26T22:32:29.860463Z"
    },
    "papermill": {
     "duration": 0.131629,
     "end_time": "2022-02-26T22:33:17.132367",
     "exception": false,
     "start_time": "2022-02-26T22:33:17.000738",
     "status": "completed"
    },
    "tags": []
   },
   "outputs": [],
   "source": [
    "from sklearn.model_selection import train_test_split\n",
    "X_train, X_val, y_train, y_val = train_test_split(trn_data[features], trn_data[target_feature], test_size = 0.15, random_state = 42)"
   ]
  },
  {
   "cell_type": "markdown",
   "id": "b9c08bb5",
   "metadata": {
    "papermill": {
     "duration": 0.066705,
     "end_time": "2022-02-26T22:33:17.266164",
     "exception": false,
     "start_time": "2022-02-26T22:33:17.199459",
     "status": "completed"
    },
    "tags": []
   },
   "source": [
    "fit(X, y, *, sample_weight=None, base_margin=None, eval_set=None, eval_metric=None, early_stopping_rounds=None, verbose=True, xgb_model=None, sample_weight_eval_set=None, base_margin_eval_set=None, feature_weights=None, callbacks=None)"
   ]
  },
  {
   "cell_type": "code",
   "execution_count": 35,
   "id": "ca5269ea",
   "metadata": {
    "execution": {
     "iopub.execute_input": "2022-02-26T22:33:17.406717Z",
     "iopub.status.busy": "2022-02-26T22:33:17.405647Z",
     "iopub.status.idle": "2022-02-26T22:33:19.513351Z",
     "shell.execute_reply": "2022-02-26T22:33:19.512642Z",
     "shell.execute_reply.started": "2022-02-26T22:32:29.876332Z"
    },
    "papermill": {
     "duration": 2.178663,
     "end_time": "2022-02-26T22:33:19.513508",
     "exception": false,
     "start_time": "2022-02-26T22:33:17.334845",
     "status": "completed"
    },
    "tags": []
   },
   "outputs": [
    {
     "name": "stdout",
     "output_type": "stream",
     "text": [
      "[0]\tvalidation_0-logloss:0.65247\n",
      "[10]\tvalidation_0-logloss:0.47625\n",
      "[20]\tvalidation_0-logloss:0.43256\n",
      "[30]\tvalidation_0-logloss:0.41960\n",
      "[40]\tvalidation_0-logloss:0.41315\n",
      "[50]\tvalidation_0-logloss:0.41209\n",
      "[60]\tvalidation_0-logloss:0.41053\n",
      "[70]\tvalidation_0-logloss:0.40863\n",
      "[80]\tvalidation_0-logloss:0.40804\n",
      "[90]\tvalidation_0-logloss:0.40785\n",
      "[100]\tvalidation_0-logloss:0.40752\n",
      "[110]\tvalidation_0-logloss:0.40698\n",
      "[120]\tvalidation_0-logloss:0.40748\n",
      "[130]\tvalidation_0-logloss:0.40788\n",
      "[140]\tvalidation_0-logloss:0.40892\n",
      "[150]\tvalidation_0-logloss:0.41002\n",
      "[157]\tvalidation_0-logloss:0.41032\n"
     ]
    },
    {
     "data": {
      "text/plain": [
       "XGBClassifier(base_score=0.5, booster='gbtree', colsample_bylevel=1,\n",
       "              colsample_bynode=1, colsample_bytree=1, enable_categorical=False,\n",
       "              gamma=0, gpu_id=-1, importance_type=None,\n",
       "              interaction_constraints='', learning_rate=0.1, max_delta_step=0,\n",
       "              max_depth=6, min_child_weight=1, missing=nan,\n",
       "              monotone_constraints='()', n_estimators=2048, n_jobs=-1,\n",
       "              num_parallel_tree=1, predictor='auto', random_state=0,\n",
       "              reg_alpha=0, reg_lambda=1, scale_pos_weight=1, subsample=1,\n",
       "              tree_method='exact', validate_parameters=1, verbosity=None)"
      ]
     },
     "execution_count": 35,
     "metadata": {},
     "output_type": "execute_result"
    }
   ],
   "source": [
    "from xgboost import XGBClassifier\n",
    "cls = XGBClassifier(\n",
    "                    learning_rate = 0.1,\n",
    "                    n_estimators = 2048,\n",
    "                    n_jobs = -1)\n",
    "cls.fit(X_train, y_train, eval_set = [(X_val, y_val)], eval_metric=['logloss'], early_stopping_rounds = 50, verbose = 10)"
   ]
  },
  {
   "cell_type": "code",
   "execution_count": 36,
   "id": "f6d35331",
   "metadata": {
    "execution": {
     "iopub.execute_input": "2022-02-26T22:33:19.674379Z",
     "iopub.status.busy": "2022-02-26T22:33:19.673390Z",
     "iopub.status.idle": "2022-02-26T22:33:19.676277Z",
     "shell.execute_reply": "2022-02-26T22:33:19.675617Z",
     "shell.execute_reply.started": "2022-02-26T22:32:31.625582Z"
    },
    "papermill": {
     "duration": 0.086301,
     "end_time": "2022-02-26T22:33:19.676431",
     "exception": false,
     "start_time": "2022-02-26T22:33:19.590130",
     "status": "completed"
    },
    "tags": []
   },
   "outputs": [],
   "source": [
    "import matplotlib.pyplot as plt\n",
    "\n",
    "def feature_importance(clf):\n",
    "    importances = clf.feature_importances_\n",
    "    i = np.argsort(importances)\n",
    "    features = X_train.columns\n",
    "    plt.title('Feature Importance')\n",
    "    plt.barh(range(len(i)), importances[i], align='center')\n",
    "    plt.yticks(range(len(i)), [features[x] for x in i])\n",
    "    plt.xlabel('Scale')\n",
    "    plt.show()"
   ]
  },
  {
   "cell_type": "code",
   "execution_count": 37,
   "id": "9414e8a1",
   "metadata": {
    "execution": {
     "iopub.execute_input": "2022-02-26T22:33:19.834319Z",
     "iopub.status.busy": "2022-02-26T22:33:19.833273Z",
     "iopub.status.idle": "2022-02-26T22:33:20.128780Z",
     "shell.execute_reply": "2022-02-26T22:33:20.128074Z",
     "shell.execute_reply.started": "2022-02-26T22:32:31.635618Z"
    },
    "papermill": {
     "duration": 0.37762,
     "end_time": "2022-02-26T22:33:20.128934",
     "exception": false,
     "start_time": "2022-02-26T22:33:19.751314",
     "status": "completed"
    },
    "tags": []
   },
   "outputs": [
    {
     "data": {
      "image/png": "[encoded data removed]",
      "text/plain": [
       "<Figure size 432x288 with 1 Axes>"
      ]
     },
     "metadata": {
      "needs_background": "light"
     },
     "output_type": "display_data"
    }
   ],
   "source": [
    "feature_importance(cls)"
   ]
  },
  {
   "cell_type": "code",
   "execution_count": 38,
   "id": "750d480b",
   "metadata": {
    "execution": {
     "iopub.execute_input": "2022-02-26T22:33:20.288134Z",
     "iopub.status.busy": "2022-02-26T22:33:20.287340Z",
     "iopub.status.idle": "2022-02-26T22:33:20.313665Z",
     "shell.execute_reply": "2022-02-26T22:33:20.314659Z",
     "shell.execute_reply.started": "2022-02-26T22:32:31.890691Z"
    },
    "papermill": {
     "duration": 0.111391,
     "end_time": "2022-02-26T22:33:20.314839",
     "exception": false,
     "start_time": "2022-02-26T22:33:20.203448",
     "status": "completed"
    },
    "tags": []
   },
   "outputs": [],
   "source": [
    "from sklearn.metrics import accuracy_score\n",
    "val_preds = cls.predict(X_val[features])\n",
    "accuracy = accuracy_score(val_preds, y_val)"
   ]
  },
  {
   "cell_type": "code",
   "execution_count": 39,
   "id": "f6311536",
   "metadata": {
    "execution": {
     "iopub.execute_input": "2022-02-26T22:33:20.471397Z",
     "iopub.status.busy": "2022-02-26T22:33:20.470719Z",
     "iopub.status.idle": "2022-02-26T22:33:20.474776Z",
     "shell.execute_reply": "2022-02-26T22:33:20.474255Z",
     "shell.execute_reply.started": "2022-02-26T22:32:31.911341Z"
    },
    "papermill": {
     "duration": 0.086311,
     "end_time": "2022-02-26T22:33:20.474928",
     "exception": false,
     "start_time": "2022-02-26T22:33:20.388617",
     "status": "completed"
    },
    "tags": []
   },
   "outputs": [
    {
     "data": {
      "text/plain": [
       "0.7998466257668712"
      ]
     },
     "execution_count": 39,
     "metadata": {},
     "output_type": "execute_result"
    }
   ],
   "source": [
    "accuracy"
   ]
  },
  {
   "cell_type": "code",
   "execution_count": 40,
   "id": "221b16fb",
   "metadata": {
    "execution": {
     "iopub.execute_input": "2022-02-26T22:33:20.636269Z",
     "iopub.status.busy": "2022-02-26T22:33:20.635657Z",
     "iopub.status.idle": "2022-02-26T22:33:20.638630Z",
     "shell.execute_reply": "2022-02-26T22:33:20.638044Z",
     "shell.execute_reply.started": "2022-02-26T22:32:31.921188Z"
    },
    "papermill": {
     "duration": 0.08401,
     "end_time": "2022-02-26T22:33:20.638776",
     "exception": false,
     "start_time": "2022-02-26T22:33:20.554766",
     "status": "completed"
    },
    "tags": []
   },
   "outputs": [],
   "source": [
    "# 0.7875766871165644\n",
    "# 0.7883435582822086\n",
    "# 0.7944785276073619\n",
    "# 0.7998466257668712"
   ]
  },
  {
   "cell_type": "code",
   "execution_count": 41,
   "id": "7990997f",
   "metadata": {
    "execution": {
     "iopub.execute_input": "2022-02-26T22:33:20.795705Z",
     "iopub.status.busy": "2022-02-26T22:33:20.795048Z",
     "iopub.status.idle": "2022-02-26T22:33:20.799206Z",
     "shell.execute_reply": "2022-02-26T22:33:20.798646Z",
     "shell.execute_reply.started": "2022-02-26T22:32:31.926754Z"
    },
    "papermill": {
     "duration": 0.085055,
     "end_time": "2022-02-26T22:33:20.799340",
     "exception": false,
     "start_time": "2022-02-26T22:33:20.714285",
     "status": "completed"
    },
    "tags": []
   },
   "outputs": [
    {
     "data": {
      "text/plain": [
       "(4277, 18)"
      ]
     },
     "execution_count": 41,
     "metadata": {},
     "output_type": "execute_result"
    }
   ],
   "source": [
    "tst_data.shape"
   ]
  },
  {
   "cell_type": "code",
   "execution_count": 42,
   "id": "1a646ffb",
   "metadata": {
    "execution": {
     "iopub.execute_input": "2022-02-26T22:33:20.980694Z",
     "iopub.status.busy": "2022-02-26T22:33:20.979999Z",
     "iopub.status.idle": "2022-02-26T22:33:20.982559Z",
     "shell.execute_reply": "2022-02-26T22:33:20.983049Z",
     "shell.execute_reply.started": "2022-02-26T22:32:31.939130Z"
    },
    "papermill": {
     "duration": 0.095347,
     "end_time": "2022-02-26T22:33:20.983208",
     "exception": false,
     "start_time": "2022-02-26T22:33:20.887861",
     "status": "completed"
    },
    "tags": []
   },
   "outputs": [
    {
     "data": {
      "text/plain": [
       "1304"
      ]
     },
     "execution_count": 42,
     "metadata": {},
     "output_type": "execute_result"
    }
   ],
   "source": [
    "len(val_preds)"
   ]
  },
  {
   "cell_type": "code",
   "execution_count": 43,
   "id": "b6e9a2ee",
   "metadata": {
    "execution": {
     "iopub.execute_input": "2022-02-26T22:33:21.143591Z",
     "iopub.status.busy": "2022-02-26T22:33:21.142945Z",
     "iopub.status.idle": "2022-02-26T22:33:21.147260Z",
     "shell.execute_reply": "2022-02-26T22:33:21.146687Z",
     "shell.execute_reply.started": "2022-02-26T22:32:31.948745Z"
    },
    "papermill": {
     "duration": 0.086637,
     "end_time": "2022-02-26T22:33:21.147394",
     "exception": false,
     "start_time": "2022-02-26T22:33:21.060757",
     "status": "completed"
    },
    "tags": []
   },
   "outputs": [
    {
     "data": {
      "text/plain": [
       "(4277, 2)"
      ]
     },
     "execution_count": 43,
     "metadata": {},
     "output_type": "execute_result"
    }
   ],
   "source": [
    "sub.shape"
   ]
  },
  {
   "cell_type": "code",
   "execution_count": 44,
   "id": "dab372fb",
   "metadata": {
    "execution": {
     "iopub.execute_input": "2022-02-26T22:33:21.307749Z",
     "iopub.status.busy": "2022-02-26T22:33:21.307101Z",
     "iopub.status.idle": "2022-02-26T22:33:21.335092Z",
     "shell.execute_reply": "2022-02-26T22:33:21.335663Z",
     "shell.execute_reply.started": "2022-02-26T22:32:31.958883Z"
    },
    "papermill": {
     "duration": 0.111853,
     "end_time": "2022-02-26T22:33:21.335872",
     "exception": false,
     "start_time": "2022-02-26T22:33:21.224019",
     "status": "completed"
    },
    "tags": []
   },
   "outputs": [],
   "source": [
    "preds = cls.predict(tst_data[features])"
   ]
  },
  {
   "cell_type": "code",
   "execution_count": 45,
   "id": "567c300f",
   "metadata": {
    "execution": {
     "iopub.execute_input": "2022-02-26T22:33:21.496618Z",
     "iopub.status.busy": "2022-02-26T22:33:21.495957Z",
     "iopub.status.idle": "2022-02-26T22:33:21.506109Z",
     "shell.execute_reply": "2022-02-26T22:33:21.506674Z",
     "shell.execute_reply.started": "2022-02-26T22:32:31.982283Z"
    },
    "papermill": {
     "duration": 0.093712,
     "end_time": "2022-02-26T22:33:21.506850",
     "exception": false,
     "start_time": "2022-02-26T22:33:21.413138",
     "status": "completed"
    },
    "tags": []
   },
   "outputs": [
    {
     "data": {
      "text/html": [
       "<div>\n",
       "<style scoped>\n",
       "    .dataframe tbody tr th:only-of-type {\n",
       "        vertical-align: middle;\n",
       "    }\n",
       "\n",
       "    .dataframe tbody tr th {\n",
       "        vertical-align: top;\n",
       "    }\n",
       "\n",
       "    .dataframe thead th {\n",
       "        text-align: right;\n",
       "    }\n",
       "</style>\n",
       "<table border=\"1\" class=\"dataframe\">\n",
       "  <thead>\n",
       "    <tr style=\"text-align: right;\">\n",
       "      <th></th>\n",
       "      <th>PassengerId</th>\n",
       "      <th>Transported</th>\n",
       "    </tr>\n",
       "  </thead>\n",
       "  <tbody>\n",
       "    <tr>\n",
       "      <th>0</th>\n",
       "      <td>0013_01</td>\n",
       "      <td>False</td>\n",
       "    </tr>\n",
       "    <tr>\n",
       "      <th>1</th>\n",
       "      <td>0018_01</td>\n",
       "      <td>False</td>\n",
       "    </tr>\n",
       "    <tr>\n",
       "      <th>2</th>\n",
       "      <td>0019_01</td>\n",
       "      <td>True</td>\n",
       "    </tr>\n",
       "    <tr>\n",
       "      <th>3</th>\n",
       "      <td>0021_01</td>\n",
       "      <td>True</td>\n",
       "    </tr>\n",
       "    <tr>\n",
       "      <th>4</th>\n",
       "      <td>0023_01</td>\n",
       "      <td>True</td>\n",
       "    </tr>\n",
       "    <tr>\n",
       "      <th>...</th>\n",
       "      <td>...</td>\n",
       "      <td>...</td>\n",
       "    </tr>\n",
       "    <tr>\n",
       "      <th>4272</th>\n",
       "      <td>9266_02</td>\n",
       "      <td>True</td>\n",
       "    </tr>\n",
       "    <tr>\n",
       "      <th>4273</th>\n",
       "      <td>9269_01</td>\n",
       "      <td>False</td>\n",
       "    </tr>\n",
       "    <tr>\n",
       "      <th>4274</th>\n",
       "      <td>9271_01</td>\n",
       "      <td>True</td>\n",
       "    </tr>\n",
       "    <tr>\n",
       "      <th>4275</th>\n",
       "      <td>9273_01</td>\n",
       "      <td>True</td>\n",
       "    </tr>\n",
       "    <tr>\n",
       "      <th>4276</th>\n",
       "      <td>9277_01</td>\n",
       "      <td>True</td>\n",
       "    </tr>\n",
       "  </tbody>\n",
       "</table>\n",
       "<p>4277 rows × 2 columns</p>\n",
       "</div>"
      ],
      "text/plain": [
       "     PassengerId  Transported\n",
       "0        0013_01        False\n",
       "1        0018_01        False\n",
       "2        0019_01         True\n",
       "3        0021_01         True\n",
       "4        0023_01         True\n",
       "...          ...          ...\n",
       "4272     9266_02         True\n",
       "4273     9269_01        False\n",
       "4274     9271_01         True\n",
       "4275     9273_01         True\n",
       "4276     9277_01         True\n",
       "\n",
       "[4277 rows x 2 columns]"
      ]
     },
     "execution_count": 45,
     "metadata": {},
     "output_type": "execute_result"
    }
   ],
   "source": [
    "sub['Transported'] = preds\n",
    "sub"
   ]
  },
  {
   "cell_type": "code",
   "execution_count": 46,
   "id": "3928e402",
   "metadata": {
    "execution": {
     "iopub.execute_input": "2022-02-26T22:33:21.667069Z",
     "iopub.status.busy": "2022-02-26T22:33:21.666388Z",
     "iopub.status.idle": "2022-02-26T22:33:21.683243Z",
     "shell.execute_reply": "2022-02-26T22:33:21.682574Z",
     "shell.execute_reply.started": "2022-02-26T22:32:31.996594Z"
    },
    "papermill": {
     "duration": 0.096424,
     "end_time": "2022-02-26T22:33:21.683382",
     "exception": false,
     "start_time": "2022-02-26T22:33:21.586958",
     "status": "completed"
    },
    "tags": []
   },
   "outputs": [],
   "source": [
    "sub.to_csv('submission.csv', index=False)"
   ]
  },
  {
   "cell_type": "markdown",
   "id": "28ceaa1a",
   "metadata": {
    "papermill": {
     "duration": 0.075663,
     "end_time": "2022-02-26T22:33:21.837411",
     "exception": false,
     "start_time": "2022-02-26T22:33:21.761748",
     "status": "completed"
    },
    "tags": []
   },
   "source": [
    "# Baseline Model"
   ]
  },
  {
   "cell_type": "code",
   "execution_count": null,
   "id": "8485e27a",
   "metadata": {
    "papermill": {
     "duration": 0.077191,
     "end_time": "2022-02-26T22:33:21.991153",
     "exception": false,
     "start_time": "2022-02-26T22:33:21.913962",
     "status": "completed"
    },
    "tags": []
   },
   "outputs": [],
   "source": []
  }
 ],
 "metadata": {
  "kernelspec": {
   "display_name": "Python 3",
   "language": "python",
   "name": "python3"
  },
  "language_info": {
   "codemirror_mode": {
    "name": "ipython",
    "version": 3
   },
   "file_extension": ".py",
   "mimetype": "text/x-python",
   "name": "python",
   "nbconvert_exporter": "python",
   "pygments_lexer": "ipython3",
   "version": "3.7.12"
  },
  "papermill": {
   "default_parameters": {},
   "duration": 23.567082,
   "end_time": "2022-02-26T22:33:22.980751",
   "environment_variables": {},
   "exception": null,
   "input_path": "__notebook__.ipynb",
   "output_path": "__notebook__.ipynb",
   "parameters": {},
   "start_time": "2022-02-26T22:32:59.413669",
   "version": "2.3.3"
  }
 },
 "nbformat": 4,
 "nbformat_minor": 5
}
