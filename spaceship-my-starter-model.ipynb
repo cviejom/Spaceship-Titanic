{
 "cells": [
  {
   "cell_type": "markdown",
   "id": "30bfda40",
   "metadata": {
    "papermill": {
     "duration": 0.073595,
     "end_time": "2022-02-27T05:39:29.092903",
     "exception": false,
     "start_time": "2022-02-27T05:39:29.019308",
     "status": "completed"
    },
    "tags": []
   },
   "source": [
    "# 🌌 Spaceship My Starter Model\n",
    "\n",
    "Hello... "
   ]
  },
  {
   "cell_type": "markdown",
   "id": "3dd489cc",
   "metadata": {
    "papermill": {
     "duration": 0.072492,
     "end_time": "2022-02-27T05:39:29.239139",
     "exception": false,
     "start_time": "2022-02-27T05:39:29.166647",
     "status": "completed"
    },
    "tags": []
   },
   "source": [
    "### File and Data Field Descriptions\n",
    "\n",
    "**train.csv** - Personal records for about two-thirds (~8700) of the passengers, to be used as training data.\n",
    "* PassengerId - A unique Id for each passenger. Each Id takes the form gggg_pp where gggg indicates a group the passenger is travelling with and pp is their number within the group. People in a group are often family members, but not always.\n",
    "* HomePlanet - The planet the passenger departed from, typically their planet of permanent residence.\n",
    "* CryoSleep - Indicates whether the passenger elected to be put into suspended animation for the duration of the voyage. Passengers in cryosleep are confined to their cabins.\n",
    "* Cabin - The cabin number where the passenger is staying. Takes the form deck/num/side, where side can be either P for Port or S for Starboard.\n",
    "* Destination - The planet the passenger will be debarking to.\n",
    "* Age - The age of the passenger.\n",
    "* VIP - Whether the passenger has paid for special VIP service during the voyage.\n",
    "* RoomService, FoodCourt, ShoppingMall, Spa, VRDeck - Amount the passenger has billed at each of the Spaceship Titanic's many luxury amenities.\n",
    "* Name - The first and last names of the passenger.\n",
    "* Transported - Whether the passenger was transported to another dimension. This is the target, the column you are trying to predict.\n",
    "\n",
    "**test.csv** - Personal records for the remaining one-third (~4300) of the passengers, to be used as test data. Your task is to predict the value of Transported for the passengers in this set.\n",
    "\n",
    "**sample_submission.csv** - A submission file in the correct format.\n",
    "\n",
    "* PassengerId - Id for each passenger in the test set.\n",
    "* Transported - The target. For each passenger, predict either True or False."
   ]
  },
  {
   "cell_type": "markdown",
   "id": "b8149818",
   "metadata": {
    "papermill": {
     "duration": 0.071145,
     "end_time": "2022-02-27T05:39:29.384534",
     "exception": false,
     "start_time": "2022-02-27T05:39:29.313389",
     "status": "completed"
    },
    "tags": []
   },
   "source": [
    "# Loading Libraries..."
   ]
  },
  {
   "cell_type": "code",
   "execution_count": 1,
   "id": "34643049",
   "metadata": {
    "_cell_guid": "b1076dfc-b9ad-4769-8c92-a6c4dae69d19",
    "_uuid": "8f2839f25d086af736a60e9eeb907d3b93b6e0e5",
    "execution": {
     "iopub.execute_input": "2022-02-27T05:39:29.533481Z",
     "iopub.status.busy": "2022-02-27T05:39:29.532581Z",
     "iopub.status.idle": "2022-02-27T05:39:29.538794Z",
     "shell.execute_reply": "2022-02-27T05:39:29.539355Z",
     "shell.execute_reply.started": "2022-02-27T05:37:44.145281Z"
    },
    "papermill": {
     "duration": 0.086642,
     "end_time": "2022-02-27T05:39:29.539834",
     "exception": false,
     "start_time": "2022-02-27T05:39:29.453192",
     "status": "completed"
    },
    "tags": []
   },
   "outputs": [
    {
     "name": "stdout",
     "output_type": "stream",
     "text": [
      "/kaggle/input/spaceship-titanic/sample_submission.csv\n",
      "/kaggle/input/spaceship-titanic/train.csv\n",
      "/kaggle/input/spaceship-titanic/test.csv\n"
     ]
    }
   ],
   "source": [
    "# This Python 3 environment comes with many helpful analytics libraries installed\n",
    "# It is defined by the kaggle/python Docker image: https://github.com/kaggle/docker-python\n",
    "# For example, here's several helpful packages to load\n",
    "\n",
    "import numpy as np # linear algebra\n",
    "import pandas as pd # data processing, CSV file I/O (e.g. pd.read_csv)\n",
    "\n",
    "# Input data files are available in the read-only \"../input/\" directory\n",
    "# For example, running this (by clicking run or pressing Shift+Enter) will list all files under the input directory\n",
    "\n",
    "import os\n",
    "for dirname, _, filenames in os.walk('/kaggle/input'):\n",
    "    for filename in filenames:\n",
    "        print(os.path.join(dirname, filename))\n",
    "\n",
    "# You can write up to 20GB to the current directory (/kaggle/working/) that gets preserved as output when you create a version using \"Save & Run All\" \n",
    "# You can also write temporary files to /kaggle/temp/, but they won't be saved outside of the current session"
   ]
  },
  {
   "cell_type": "markdown",
   "id": "66ab03ac",
   "metadata": {
    "papermill": {
     "duration": 0.069898,
     "end_time": "2022-02-27T05:39:29.681077",
     "exception": false,
     "start_time": "2022-02-27T05:39:29.611179",
     "status": "completed"
    },
    "tags": []
   },
   "source": [
    "# Seeting Notebook Parameters..."
   ]
  },
  {
   "cell_type": "code",
   "execution_count": 2,
   "id": "03730285",
   "metadata": {
    "execution": {
     "iopub.execute_input": "2022-02-27T05:39:29.831764Z",
     "iopub.status.busy": "2022-02-27T05:39:29.831009Z",
     "iopub.status.idle": "2022-02-27T05:39:29.834318Z",
     "shell.execute_reply": "2022-02-27T05:39:29.834867Z",
     "shell.execute_reply.started": "2022-02-27T05:37:44.175134Z"
    },
    "papermill": {
     "duration": 0.079574,
     "end_time": "2022-02-27T05:39:29.835049",
     "exception": false,
     "start_time": "2022-02-27T05:39:29.755475",
     "status": "completed"
    },
    "tags": []
   },
   "outputs": [
    {
     "name": "stdout",
     "output_type": "stream",
     "text": [
      "CPU times: user 33 µs, sys: 4 µs, total: 37 µs\n",
      "Wall time: 41.5 µs\n"
     ]
    }
   ],
   "source": [
    "%%time\n",
    "# I like to disable my Notebook Warnings.\n",
    "import warnings\n",
    "warnings.filterwarnings('ignore')"
   ]
  },
  {
   "cell_type": "code",
   "execution_count": 3,
   "id": "c2c9dc52",
   "metadata": {
    "execution": {
     "iopub.execute_input": "2022-02-27T05:39:29.979221Z",
     "iopub.status.busy": "2022-02-27T05:39:29.976141Z",
     "iopub.status.idle": "2022-02-27T05:39:29.984001Z",
     "shell.execute_reply": "2022-02-27T05:39:29.984632Z",
     "shell.execute_reply.started": "2022-02-27T05:37:44.199805Z"
    },
    "papermill": {
     "duration": 0.079621,
     "end_time": "2022-02-27T05:39:29.984864",
     "exception": false,
     "start_time": "2022-02-27T05:39:29.905243",
     "status": "completed"
    },
    "tags": []
   },
   "outputs": [
    {
     "name": "stdout",
     "output_type": "stream",
     "text": [
      "CPU times: user 5 µs, sys: 0 ns, total: 5 µs\n",
      "Wall time: 8.34 µs\n"
     ]
    }
   ],
   "source": [
    "%%time\n",
    "# Notebook Configuration...\n",
    "\n",
    "# Amount of data we want to load into the Model...\n",
    "DATA_ROWS = None\n",
    "# Dataframe, the amount of rows and cols to visualize...\n",
    "NROWS = 50\n",
    "NCOLS = 15\n",
    "# Main data location path...\n",
    "BASE_PATH = '...'"
   ]
  },
  {
   "cell_type": "code",
   "execution_count": 4,
   "id": "9ed4ead0",
   "metadata": {
    "execution": {
     "iopub.execute_input": "2022-02-27T05:39:30.132421Z",
     "iopub.status.busy": "2022-02-27T05:39:30.131691Z",
     "iopub.status.idle": "2022-02-27T05:39:30.135534Z",
     "shell.execute_reply": "2022-02-27T05:39:30.134906Z",
     "shell.execute_reply.started": "2022-02-27T05:37:44.231563Z"
    },
    "papermill": {
     "duration": 0.08041,
     "end_time": "2022-02-27T05:39:30.135698",
     "exception": false,
     "start_time": "2022-02-27T05:39:30.055288",
     "status": "completed"
    },
    "tags": []
   },
   "outputs": [
    {
     "name": "stdout",
     "output_type": "stream",
     "text": [
      "CPU times: user 79 µs, sys: 10 µs, total: 89 µs\n",
      "Wall time: 93.2 µs\n"
     ]
    }
   ],
   "source": [
    "%%time\n",
    "# Configure notebook display settings to only use 2 decimal places, tables look nicer.\n",
    "pd.options.display.float_format = '{:,.2f}'.format\n",
    "pd.set_option('display.max_columns', NCOLS) \n",
    "pd.set_option('display.max_rows', NROWS)"
   ]
  },
  {
   "cell_type": "markdown",
   "id": "069640d5",
   "metadata": {
    "papermill": {
     "duration": 0.07015,
     "end_time": "2022-02-27T05:39:30.275672",
     "exception": false,
     "start_time": "2022-02-27T05:39:30.205522",
     "status": "completed"
    },
    "tags": []
   },
   "source": [
    "# Loading Information from CSV..."
   ]
  },
  {
   "cell_type": "code",
   "execution_count": 5,
   "id": "8eb16233",
   "metadata": {
    "execution": {
     "iopub.execute_input": "2022-02-27T05:39:30.423041Z",
     "iopub.status.busy": "2022-02-27T05:39:30.422200Z",
     "iopub.status.idle": "2022-02-27T05:39:30.513466Z",
     "shell.execute_reply": "2022-02-27T05:39:30.514377Z",
     "shell.execute_reply.started": "2022-02-27T05:37:44.271839Z"
    },
    "papermill": {
     "duration": 0.167963,
     "end_time": "2022-02-27T05:39:30.514575",
     "exception": false,
     "start_time": "2022-02-27T05:39:30.346612",
     "status": "completed"
    },
    "tags": []
   },
   "outputs": [
    {
     "name": "stdout",
     "output_type": "stream",
     "text": [
      "CPU times: user 45.5 ms, sys: 13.1 ms, total: 58.6 ms\n",
      "Wall time: 88.2 ms\n"
     ]
    }
   ],
   "source": [
    "%%time\n",
    "trn_data = pd.read_csv('/kaggle/input/spaceship-titanic/train.csv')\n",
    "tst_data = pd.read_csv('/kaggle/input/spaceship-titanic/test.csv')\n",
    "\n",
    "sub = pd.read_csv('/kaggle/input/spaceship-titanic/sample_submission.csv')"
   ]
  },
  {
   "cell_type": "markdown",
   "id": "a02f9b55",
   "metadata": {
    "papermill": {
     "duration": 0.070575,
     "end_time": "2022-02-27T05:39:30.658598",
     "exception": false,
     "start_time": "2022-02-27T05:39:30.588023",
     "status": "completed"
    },
    "tags": []
   },
   "source": [
    "# Exploring the Information Available..."
   ]
  },
  {
   "cell_type": "code",
   "execution_count": 6,
   "id": "5ebfd920",
   "metadata": {
    "execution": {
     "iopub.execute_input": "2022-02-27T05:39:30.805793Z",
     "iopub.status.busy": "2022-02-27T05:39:30.804873Z",
     "iopub.status.idle": "2022-02-27T05:39:30.835336Z",
     "shell.execute_reply": "2022-02-27T05:39:30.836070Z",
     "shell.execute_reply.started": "2022-02-27T05:37:44.333899Z"
    },
    "papermill": {
     "duration": 0.107893,
     "end_time": "2022-02-27T05:39:30.836402",
     "exception": false,
     "start_time": "2022-02-27T05:39:30.728509",
     "status": "completed"
    },
    "tags": []
   },
   "outputs": [
    {
     "name": "stdout",
     "output_type": "stream",
     "text": [
      "<class 'pandas.core.frame.DataFrame'>\n",
      "RangeIndex: 8693 entries, 0 to 8692\n",
      "Data columns (total 14 columns):\n",
      " #   Column        Non-Null Count  Dtype  \n",
      "---  ------        --------------  -----  \n",
      " 0   PassengerId   8693 non-null   object \n",
      " 1   HomePlanet    8492 non-null   object \n",
      " 2   CryoSleep     8476 non-null   object \n",
      " 3   Cabin         8494 non-null   object \n",
      " 4   Destination   8511 non-null   object \n",
      " 5   Age           8514 non-null   float64\n",
      " 6   VIP           8490 non-null   object \n",
      " 7   RoomService   8512 non-null   float64\n",
      " 8   FoodCourt     8510 non-null   float64\n",
      " 9   ShoppingMall  8485 non-null   float64\n",
      " 10  Spa           8510 non-null   float64\n",
      " 11  VRDeck        8505 non-null   float64\n",
      " 12  Name          8493 non-null   object \n",
      " 13  Transported   8693 non-null   bool   \n",
      "dtypes: bool(1), float64(6), object(7)\n",
      "memory usage: 891.5+ KB\n",
      "CPU times: user 19.4 ms, sys: 184 µs, total: 19.6 ms\n",
      "Wall time: 28 ms\n"
     ]
    }
   ],
   "source": [
    "%%time\n",
    "trn_data.info()"
   ]
  },
  {
   "cell_type": "code",
   "execution_count": 7,
   "id": "ae2eb70a",
   "metadata": {
    "execution": {
     "iopub.execute_input": "2022-02-27T05:39:30.981499Z",
     "iopub.status.busy": "2022-02-27T05:39:30.980795Z",
     "iopub.status.idle": "2022-02-27T05:39:31.006934Z",
     "shell.execute_reply": "2022-02-27T05:39:31.007521Z",
     "shell.execute_reply.started": "2022-02-27T05:37:44.357053Z"
    },
    "papermill": {
     "duration": 0.099655,
     "end_time": "2022-02-27T05:39:31.007728",
     "exception": false,
     "start_time": "2022-02-27T05:39:30.908073",
     "status": "completed"
    },
    "tags": []
   },
   "outputs": [
    {
     "name": "stdout",
     "output_type": "stream",
     "text": [
      "CPU times: user 118 µs, sys: 15 µs, total: 133 µs\n",
      "Wall time: 138 µs\n"
     ]
    },
    {
     "data": {
      "text/html": [
       "<div>\n",
       "<style scoped>\n",
       "    .dataframe tbody tr th:only-of-type {\n",
       "        vertical-align: middle;\n",
       "    }\n",
       "\n",
       "    .dataframe tbody tr th {\n",
       "        vertical-align: top;\n",
       "    }\n",
       "\n",
       "    .dataframe thead th {\n",
       "        text-align: right;\n",
       "    }\n",
       "</style>\n",
       "<table border=\"1\" class=\"dataframe\">\n",
       "  <thead>\n",
       "    <tr style=\"text-align: right;\">\n",
       "      <th></th>\n",
       "      <th>PassengerId</th>\n",
       "      <th>HomePlanet</th>\n",
       "      <th>CryoSleep</th>\n",
       "      <th>Cabin</th>\n",
       "      <th>Destination</th>\n",
       "      <th>Age</th>\n",
       "      <th>VIP</th>\n",
       "      <th>RoomService</th>\n",
       "      <th>FoodCourt</th>\n",
       "      <th>ShoppingMall</th>\n",
       "      <th>Spa</th>\n",
       "      <th>VRDeck</th>\n",
       "      <th>Name</th>\n",
       "      <th>Transported</th>\n",
       "    </tr>\n",
       "  </thead>\n",
       "  <tbody>\n",
       "    <tr>\n",
       "      <th>0</th>\n",
       "      <td>0001_01</td>\n",
       "      <td>Europa</td>\n",
       "      <td>False</td>\n",
       "      <td>B/0/P</td>\n",
       "      <td>TRAPPIST-1e</td>\n",
       "      <td>39.00</td>\n",
       "      <td>False</td>\n",
       "      <td>0.00</td>\n",
       "      <td>0.00</td>\n",
       "      <td>0.00</td>\n",
       "      <td>0.00</td>\n",
       "      <td>0.00</td>\n",
       "      <td>Maham Ofracculy</td>\n",
       "      <td>False</td>\n",
       "    </tr>\n",
       "    <tr>\n",
       "      <th>1</th>\n",
       "      <td>0002_01</td>\n",
       "      <td>Earth</td>\n",
       "      <td>False</td>\n",
       "      <td>F/0/S</td>\n",
       "      <td>TRAPPIST-1e</td>\n",
       "      <td>24.00</td>\n",
       "      <td>False</td>\n",
       "      <td>109.00</td>\n",
       "      <td>9.00</td>\n",
       "      <td>25.00</td>\n",
       "      <td>549.00</td>\n",
       "      <td>44.00</td>\n",
       "      <td>Juanna Vines</td>\n",
       "      <td>True</td>\n",
       "    </tr>\n",
       "    <tr>\n",
       "      <th>2</th>\n",
       "      <td>0003_01</td>\n",
       "      <td>Europa</td>\n",
       "      <td>False</td>\n",
       "      <td>A/0/S</td>\n",
       "      <td>TRAPPIST-1e</td>\n",
       "      <td>58.00</td>\n",
       "      <td>True</td>\n",
       "      <td>43.00</td>\n",
       "      <td>3,576.00</td>\n",
       "      <td>0.00</td>\n",
       "      <td>6,715.00</td>\n",
       "      <td>49.00</td>\n",
       "      <td>Altark Susent</td>\n",
       "      <td>False</td>\n",
       "    </tr>\n",
       "    <tr>\n",
       "      <th>3</th>\n",
       "      <td>0003_02</td>\n",
       "      <td>Europa</td>\n",
       "      <td>False</td>\n",
       "      <td>A/0/S</td>\n",
       "      <td>TRAPPIST-1e</td>\n",
       "      <td>33.00</td>\n",
       "      <td>False</td>\n",
       "      <td>0.00</td>\n",
       "      <td>1,283.00</td>\n",
       "      <td>371.00</td>\n",
       "      <td>3,329.00</td>\n",
       "      <td>193.00</td>\n",
       "      <td>Solam Susent</td>\n",
       "      <td>False</td>\n",
       "    </tr>\n",
       "    <tr>\n",
       "      <th>4</th>\n",
       "      <td>0004_01</td>\n",
       "      <td>Earth</td>\n",
       "      <td>False</td>\n",
       "      <td>F/1/S</td>\n",
       "      <td>TRAPPIST-1e</td>\n",
       "      <td>16.00</td>\n",
       "      <td>False</td>\n",
       "      <td>303.00</td>\n",
       "      <td>70.00</td>\n",
       "      <td>151.00</td>\n",
       "      <td>565.00</td>\n",
       "      <td>2.00</td>\n",
       "      <td>Willy Santantines</td>\n",
       "      <td>True</td>\n",
       "    </tr>\n",
       "  </tbody>\n",
       "</table>\n",
       "</div>"
      ],
      "text/plain": [
       "  PassengerId HomePlanet CryoSleep  Cabin  Destination   Age    VIP  \\\n",
       "0     0001_01     Europa     False  B/0/P  TRAPPIST-1e 39.00  False   \n",
       "1     0002_01      Earth     False  F/0/S  TRAPPIST-1e 24.00  False   \n",
       "2     0003_01     Europa     False  A/0/S  TRAPPIST-1e 58.00   True   \n",
       "3     0003_02     Europa     False  A/0/S  TRAPPIST-1e 33.00  False   \n",
       "4     0004_01      Earth     False  F/1/S  TRAPPIST-1e 16.00  False   \n",
       "\n",
       "   RoomService  FoodCourt  ShoppingMall      Spa  VRDeck               Name  \\\n",
       "0         0.00       0.00          0.00     0.00    0.00    Maham Ofracculy   \n",
       "1       109.00       9.00         25.00   549.00   44.00       Juanna Vines   \n",
       "2        43.00   3,576.00          0.00 6,715.00   49.00      Altark Susent   \n",
       "3         0.00   1,283.00        371.00 3,329.00  193.00       Solam Susent   \n",
       "4       303.00      70.00        151.00   565.00    2.00  Willy Santantines   \n",
       "\n",
       "   Transported  \n",
       "0        False  \n",
       "1         True  \n",
       "2        False  \n",
       "3        False  \n",
       "4         True  "
      ]
     },
     "execution_count": 7,
     "metadata": {},
     "output_type": "execute_result"
    }
   ],
   "source": [
    "%%time\n",
    "trn_data.head()"
   ]
  },
  {
   "cell_type": "code",
   "execution_count": 8,
   "id": "31019233",
   "metadata": {
    "execution": {
     "iopub.execute_input": "2022-02-27T05:39:31.159246Z",
     "iopub.status.busy": "2022-02-27T05:39:31.158241Z",
     "iopub.status.idle": "2022-02-27T05:39:31.188909Z",
     "shell.execute_reply": "2022-02-27T05:39:31.188325Z",
     "shell.execute_reply.started": "2022-02-27T05:37:44.380589Z"
    },
    "papermill": {
     "duration": 0.109749,
     "end_time": "2022-02-27T05:39:31.189054",
     "exception": false,
     "start_time": "2022-02-27T05:39:31.079305",
     "status": "completed"
    },
    "tags": []
   },
   "outputs": [
    {
     "name": "stdout",
     "output_type": "stream",
     "text": [
      "CPU times: user 17.6 ms, sys: 0 ns, total: 17.6 ms\n",
      "Wall time: 19.7 ms\n"
     ]
    },
    {
     "data": {
      "text/html": [
       "<div>\n",
       "<style scoped>\n",
       "    .dataframe tbody tr th:only-of-type {\n",
       "        vertical-align: middle;\n",
       "    }\n",
       "\n",
       "    .dataframe tbody tr th {\n",
       "        vertical-align: top;\n",
       "    }\n",
       "\n",
       "    .dataframe thead th {\n",
       "        text-align: right;\n",
       "    }\n",
       "</style>\n",
       "<table border=\"1\" class=\"dataframe\">\n",
       "  <thead>\n",
       "    <tr style=\"text-align: right;\">\n",
       "      <th></th>\n",
       "      <th>Age</th>\n",
       "      <th>RoomService</th>\n",
       "      <th>FoodCourt</th>\n",
       "      <th>ShoppingMall</th>\n",
       "      <th>Spa</th>\n",
       "      <th>VRDeck</th>\n",
       "    </tr>\n",
       "  </thead>\n",
       "  <tbody>\n",
       "    <tr>\n",
       "      <th>count</th>\n",
       "      <td>8,514.00</td>\n",
       "      <td>8,512.00</td>\n",
       "      <td>8,510.00</td>\n",
       "      <td>8,485.00</td>\n",
       "      <td>8,510.00</td>\n",
       "      <td>8,505.00</td>\n",
       "    </tr>\n",
       "    <tr>\n",
       "      <th>mean</th>\n",
       "      <td>28.83</td>\n",
       "      <td>224.69</td>\n",
       "      <td>458.08</td>\n",
       "      <td>173.73</td>\n",
       "      <td>311.14</td>\n",
       "      <td>304.85</td>\n",
       "    </tr>\n",
       "    <tr>\n",
       "      <th>std</th>\n",
       "      <td>14.49</td>\n",
       "      <td>666.72</td>\n",
       "      <td>1,611.49</td>\n",
       "      <td>604.70</td>\n",
       "      <td>1,136.71</td>\n",
       "      <td>1,145.72</td>\n",
       "    </tr>\n",
       "    <tr>\n",
       "      <th>min</th>\n",
       "      <td>0.00</td>\n",
       "      <td>0.00</td>\n",
       "      <td>0.00</td>\n",
       "      <td>0.00</td>\n",
       "      <td>0.00</td>\n",
       "      <td>0.00</td>\n",
       "    </tr>\n",
       "    <tr>\n",
       "      <th>25%</th>\n",
       "      <td>19.00</td>\n",
       "      <td>0.00</td>\n",
       "      <td>0.00</td>\n",
       "      <td>0.00</td>\n",
       "      <td>0.00</td>\n",
       "      <td>0.00</td>\n",
       "    </tr>\n",
       "    <tr>\n",
       "      <th>50%</th>\n",
       "      <td>27.00</td>\n",
       "      <td>0.00</td>\n",
       "      <td>0.00</td>\n",
       "      <td>0.00</td>\n",
       "      <td>0.00</td>\n",
       "      <td>0.00</td>\n",
       "    </tr>\n",
       "    <tr>\n",
       "      <th>75%</th>\n",
       "      <td>38.00</td>\n",
       "      <td>47.00</td>\n",
       "      <td>76.00</td>\n",
       "      <td>27.00</td>\n",
       "      <td>59.00</td>\n",
       "      <td>46.00</td>\n",
       "    </tr>\n",
       "    <tr>\n",
       "      <th>max</th>\n",
       "      <td>79.00</td>\n",
       "      <td>14,327.00</td>\n",
       "      <td>29,813.00</td>\n",
       "      <td>23,492.00</td>\n",
       "      <td>22,408.00</td>\n",
       "      <td>24,133.00</td>\n",
       "    </tr>\n",
       "  </tbody>\n",
       "</table>\n",
       "</div>"
      ],
      "text/plain": [
       "           Age  RoomService  FoodCourt  ShoppingMall       Spa    VRDeck\n",
       "count 8,514.00     8,512.00   8,510.00      8,485.00  8,510.00  8,505.00\n",
       "mean     28.83       224.69     458.08        173.73    311.14    304.85\n",
       "std      14.49       666.72   1,611.49        604.70  1,136.71  1,145.72\n",
       "min       0.00         0.00       0.00          0.00      0.00      0.00\n",
       "25%      19.00         0.00       0.00          0.00      0.00      0.00\n",
       "50%      27.00         0.00       0.00          0.00      0.00      0.00\n",
       "75%      38.00        47.00      76.00         27.00     59.00     46.00\n",
       "max      79.00    14,327.00  29,813.00     23,492.00 22,408.00 24,133.00"
      ]
     },
     "execution_count": 8,
     "metadata": {},
     "output_type": "execute_result"
    }
   ],
   "source": [
    "%%time\n",
    "trn_data.describe()"
   ]
  },
  {
   "cell_type": "code",
   "execution_count": 9,
   "id": "73856cd3",
   "metadata": {
    "execution": {
     "iopub.execute_input": "2022-02-27T05:39:31.345671Z",
     "iopub.status.busy": "2022-02-27T05:39:31.345029Z",
     "iopub.status.idle": "2022-02-27T05:39:31.350913Z",
     "shell.execute_reply": "2022-02-27T05:39:31.351504Z",
     "shell.execute_reply.started": "2022-02-27T05:37:44.413963Z"
    },
    "papermill": {
     "duration": 0.084341,
     "end_time": "2022-02-27T05:39:31.351705",
     "exception": false,
     "start_time": "2022-02-27T05:39:31.267364",
     "status": "completed"
    },
    "tags": []
   },
   "outputs": [
    {
     "name": "stdout",
     "output_type": "stream",
     "text": [
      "CPU times: user 4 µs, sys: 0 ns, total: 4 µs\n",
      "Wall time: 9.3 µs\n"
     ]
    }
   ],
   "source": [
    "%%time\n",
    "def describe_categ(df):\n",
    "    for col in df.columns:\n",
    "        unique_samples = list(df[col].unique())\n",
    "        unique_values = df[col].nunique()\n",
    "\n",
    "        print(f' {col}: {unique_values} Unique Values,  Data Sample >> {unique_samples[:5]}')\n",
    "    print(' ...')\n",
    "    return None"
   ]
  },
  {
   "cell_type": "code",
   "execution_count": 10,
   "id": "97729702",
   "metadata": {
    "execution": {
     "iopub.execute_input": "2022-02-27T05:39:31.502753Z",
     "iopub.status.busy": "2022-02-27T05:39:31.502074Z",
     "iopub.status.idle": "2022-02-27T05:39:31.536157Z",
     "shell.execute_reply": "2022-02-27T05:39:31.536696Z",
     "shell.execute_reply.started": "2022-02-27T05:37:44.422381Z"
    },
    "papermill": {
     "duration": 0.109536,
     "end_time": "2022-02-27T05:39:31.536882",
     "exception": false,
     "start_time": "2022-02-27T05:39:31.427346",
     "status": "completed"
    },
    "tags": []
   },
   "outputs": [
    {
     "name": "stdout",
     "output_type": "stream",
     "text": [
      " PassengerId: 8693 Unique Values,  Data Sample >> ['0001_01', '0002_01', '0003_01', '0003_02', '0004_01']\n",
      " HomePlanet: 3 Unique Values,  Data Sample >> ['Europa', 'Earth', 'Mars', nan]\n",
      " CryoSleep: 2 Unique Values,  Data Sample >> [False, True, nan]\n",
      " Cabin: 6560 Unique Values,  Data Sample >> ['B/0/P', 'F/0/S', 'A/0/S', 'F/1/S', 'F/0/P']\n",
      " Destination: 3 Unique Values,  Data Sample >> ['TRAPPIST-1e', 'PSO J318.5-22', '55 Cancri e', nan]\n",
      " Age: 80 Unique Values,  Data Sample >> [39.0, 24.0, 58.0, 33.0, 16.0]\n",
      " VIP: 2 Unique Values,  Data Sample >> [False, True, nan]\n",
      " RoomService: 1273 Unique Values,  Data Sample >> [0.0, 109.0, 43.0, 303.0, 42.0]\n",
      " FoodCourt: 1507 Unique Values,  Data Sample >> [0.0, 9.0, 3576.0, 1283.0, 70.0]\n",
      " ShoppingMall: 1115 Unique Values,  Data Sample >> [0.0, 25.0, 371.0, 151.0, 3.0]\n",
      " Spa: 1327 Unique Values,  Data Sample >> [0.0, 549.0, 6715.0, 3329.0, 565.0]\n",
      " VRDeck: 1306 Unique Values,  Data Sample >> [0.0, 44.0, 49.0, 193.0, 2.0]\n",
      " Name: 8473 Unique Values,  Data Sample >> ['Maham Ofracculy', 'Juanna Vines', 'Altark Susent', 'Solam Susent', 'Willy Santantines']\n",
      " Transported: 2 Unique Values,  Data Sample >> [False, True]\n",
      " ...\n",
      "CPU times: user 22.9 ms, sys: 4.13 ms, total: 27 ms\n",
      "Wall time: 28.3 ms\n"
     ]
    }
   ],
   "source": [
    "%%time\n",
    "describe_categ(trn_data)"
   ]
  },
  {
   "cell_type": "code",
   "execution_count": 11,
   "id": "dc693d45",
   "metadata": {
    "execution": {
     "iopub.execute_input": "2022-02-27T05:39:31.696292Z",
     "iopub.status.busy": "2022-02-27T05:39:31.695346Z",
     "iopub.status.idle": "2022-02-27T05:39:31.719451Z",
     "shell.execute_reply": "2022-02-27T05:39:31.718744Z",
     "shell.execute_reply.started": "2022-02-27T05:37:44.461318Z"
    },
    "papermill": {
     "duration": 0.103411,
     "end_time": "2022-02-27T05:39:31.719614",
     "exception": false,
     "start_time": "2022-02-27T05:39:31.616203",
     "status": "completed"
    },
    "tags": []
   },
   "outputs": [
    {
     "name": "stdout",
     "output_type": "stream",
     "text": [
      " PassengerId: 4277 Unique Values,  Data Sample >> ['0013_01', '0018_01', '0019_01', '0021_01', '0023_01']\n",
      " HomePlanet: 3 Unique Values,  Data Sample >> ['Earth', 'Europa', 'Mars', nan]\n",
      " CryoSleep: 2 Unique Values,  Data Sample >> [True, False, nan]\n",
      " Cabin: 3265 Unique Values,  Data Sample >> ['G/3/S', 'F/4/S', 'C/0/S', 'C/1/S', 'F/5/S']\n",
      " Destination: 3 Unique Values,  Data Sample >> ['TRAPPIST-1e', '55 Cancri e', 'PSO J318.5-22', nan]\n",
      " Age: 79 Unique Values,  Data Sample >> [27.0, 19.0, 31.0, 38.0, 20.0]\n",
      " VIP: 2 Unique Values,  Data Sample >> [False, nan, True]\n",
      " RoomService: 842 Unique Values,  Data Sample >> [0.0, 10.0, 339.0, 932.0, 2.0]\n",
      " FoodCourt: 902 Unique Values,  Data Sample >> [0.0, 9.0, 6652.0, 1615.0, nan]\n",
      " ShoppingMall: 715 Unique Values,  Data Sample >> [0.0, 635.0, 263.0, 136.0, nan]\n",
      " Spa: 833 Unique Values,  Data Sample >> [0.0, 2823.0, 181.0, 113.0, 237.0]\n",
      " VRDeck: 796 Unique Values,  Data Sample >> [0.0, 585.0, 60.0, 1010.0, 224.0]\n",
      " Name: 4176 Unique Values,  Data Sample >> ['Nelly Carsoning', 'Lerome Peckers', 'Sabih Unhearfus', 'Meratz Caltilter', 'Brence Harperez']\n",
      " ...\n",
      "CPU times: user 20.1 ms, sys: 2.28 ms, total: 22.4 ms\n",
      "Wall time: 19.8 ms\n"
     ]
    }
   ],
   "source": [
    "%%time\n",
    "describe_categ(tst_data)"
   ]
  },
  {
   "cell_type": "code",
   "execution_count": 12,
   "id": "ff445721",
   "metadata": {
    "execution": {
     "iopub.execute_input": "2022-02-27T05:39:31.883418Z",
     "iopub.status.busy": "2022-02-27T05:39:31.882757Z",
     "iopub.status.idle": "2022-02-27T05:39:31.889631Z",
     "shell.execute_reply": "2022-02-27T05:39:31.889025Z",
     "shell.execute_reply.started": "2022-02-27T05:37:44.485943Z"
    },
    "papermill": {
     "duration": 0.092243,
     "end_time": "2022-02-27T05:39:31.889782",
     "exception": false,
     "start_time": "2022-02-27T05:39:31.797539",
     "status": "completed"
    },
    "tags": []
   },
   "outputs": [
    {
     "data": {
      "text/plain": [
       "PassengerId       0\n",
       "HomePlanet      201\n",
       "CryoSleep       217\n",
       "Cabin           199\n",
       "Destination     182\n",
       "Age             179\n",
       "VIP             203\n",
       "RoomService     181\n",
       "FoodCourt       183\n",
       "ShoppingMall    208\n",
       "Spa             183\n",
       "VRDeck          188\n",
       "Name            200\n",
       "Transported       0\n",
       "dtype: int64"
      ]
     },
     "execution_count": 12,
     "metadata": {},
     "output_type": "execute_result"
    }
   ],
   "source": [
    "trn_data.isnull().sum()"
   ]
  },
  {
   "cell_type": "code",
   "execution_count": 13,
   "id": "96ae3a9a",
   "metadata": {
    "execution": {
     "iopub.execute_input": "2022-02-27T05:39:32.068132Z",
     "iopub.status.busy": "2022-02-27T05:39:32.067384Z",
     "iopub.status.idle": "2022-02-27T05:39:32.073855Z",
     "shell.execute_reply": "2022-02-27T05:39:32.073223Z",
     "shell.execute_reply.started": "2022-02-27T05:37:44.504597Z"
    },
    "papermill": {
     "duration": 0.108756,
     "end_time": "2022-02-27T05:39:32.074024",
     "exception": false,
     "start_time": "2022-02-27T05:39:31.965268",
     "status": "completed"
    },
    "tags": []
   },
   "outputs": [
    {
     "data": {
      "text/html": [
       "<div>\n",
       "<style scoped>\n",
       "    .dataframe tbody tr th:only-of-type {\n",
       "        vertical-align: middle;\n",
       "    }\n",
       "\n",
       "    .dataframe tbody tr th {\n",
       "        vertical-align: top;\n",
       "    }\n",
       "\n",
       "    .dataframe thead th {\n",
       "        text-align: right;\n",
       "    }\n",
       "</style>\n",
       "<table border=\"1\" class=\"dataframe\">\n",
       "  <thead>\n",
       "    <tr style=\"text-align: right;\">\n",
       "      <th></th>\n",
       "      <th>PassengerId</th>\n",
       "      <th>HomePlanet</th>\n",
       "      <th>CryoSleep</th>\n",
       "      <th>Cabin</th>\n",
       "      <th>Destination</th>\n",
       "      <th>Age</th>\n",
       "      <th>VIP</th>\n",
       "      <th>RoomService</th>\n",
       "      <th>FoodCourt</th>\n",
       "      <th>ShoppingMall</th>\n",
       "      <th>Spa</th>\n",
       "      <th>VRDeck</th>\n",
       "      <th>Name</th>\n",
       "    </tr>\n",
       "  </thead>\n",
       "  <tbody>\n",
       "    <tr>\n",
       "      <th>0</th>\n",
       "      <td>0013_01</td>\n",
       "      <td>Earth</td>\n",
       "      <td>True</td>\n",
       "      <td>G/3/S</td>\n",
       "      <td>TRAPPIST-1e</td>\n",
       "      <td>27.00</td>\n",
       "      <td>False</td>\n",
       "      <td>0.00</td>\n",
       "      <td>0.00</td>\n",
       "      <td>0.00</td>\n",
       "      <td>0.00</td>\n",
       "      <td>0.00</td>\n",
       "      <td>Nelly Carsoning</td>\n",
       "    </tr>\n",
       "    <tr>\n",
       "      <th>1</th>\n",
       "      <td>0018_01</td>\n",
       "      <td>Earth</td>\n",
       "      <td>False</td>\n",
       "      <td>F/4/S</td>\n",
       "      <td>TRAPPIST-1e</td>\n",
       "      <td>19.00</td>\n",
       "      <td>False</td>\n",
       "      <td>0.00</td>\n",
       "      <td>9.00</td>\n",
       "      <td>0.00</td>\n",
       "      <td>2,823.00</td>\n",
       "      <td>0.00</td>\n",
       "      <td>Lerome Peckers</td>\n",
       "    </tr>\n",
       "    <tr>\n",
       "      <th>2</th>\n",
       "      <td>0019_01</td>\n",
       "      <td>Europa</td>\n",
       "      <td>True</td>\n",
       "      <td>C/0/S</td>\n",
       "      <td>55 Cancri e</td>\n",
       "      <td>31.00</td>\n",
       "      <td>False</td>\n",
       "      <td>0.00</td>\n",
       "      <td>0.00</td>\n",
       "      <td>0.00</td>\n",
       "      <td>0.00</td>\n",
       "      <td>0.00</td>\n",
       "      <td>Sabih Unhearfus</td>\n",
       "    </tr>\n",
       "    <tr>\n",
       "      <th>3</th>\n",
       "      <td>0021_01</td>\n",
       "      <td>Europa</td>\n",
       "      <td>False</td>\n",
       "      <td>C/1/S</td>\n",
       "      <td>TRAPPIST-1e</td>\n",
       "      <td>38.00</td>\n",
       "      <td>False</td>\n",
       "      <td>0.00</td>\n",
       "      <td>6,652.00</td>\n",
       "      <td>0.00</td>\n",
       "      <td>181.00</td>\n",
       "      <td>585.00</td>\n",
       "      <td>Meratz Caltilter</td>\n",
       "    </tr>\n",
       "    <tr>\n",
       "      <th>4</th>\n",
       "      <td>0023_01</td>\n",
       "      <td>Earth</td>\n",
       "      <td>False</td>\n",
       "      <td>F/5/S</td>\n",
       "      <td>TRAPPIST-1e</td>\n",
       "      <td>20.00</td>\n",
       "      <td>False</td>\n",
       "      <td>10.00</td>\n",
       "      <td>0.00</td>\n",
       "      <td>635.00</td>\n",
       "      <td>0.00</td>\n",
       "      <td>0.00</td>\n",
       "      <td>Brence Harperez</td>\n",
       "    </tr>\n",
       "  </tbody>\n",
       "</table>\n",
       "</div>"
      ],
      "text/plain": [
       "  PassengerId HomePlanet CryoSleep  Cabin  Destination   Age    VIP  \\\n",
       "0     0013_01      Earth      True  G/3/S  TRAPPIST-1e 27.00  False   \n",
       "1     0018_01      Earth     False  F/4/S  TRAPPIST-1e 19.00  False   \n",
       "2     0019_01     Europa      True  C/0/S  55 Cancri e 31.00  False   \n",
       "3     0021_01     Europa     False  C/1/S  TRAPPIST-1e 38.00  False   \n",
       "4     0023_01      Earth     False  F/5/S  TRAPPIST-1e 20.00  False   \n",
       "\n",
       "   RoomService  FoodCourt  ShoppingMall      Spa  VRDeck              Name  \n",
       "0         0.00       0.00          0.00     0.00    0.00   Nelly Carsoning  \n",
       "1         0.00       9.00          0.00 2,823.00    0.00    Lerome Peckers  \n",
       "2         0.00       0.00          0.00     0.00    0.00   Sabih Unhearfus  \n",
       "3         0.00   6,652.00          0.00   181.00  585.00  Meratz Caltilter  \n",
       "4        10.00       0.00        635.00     0.00    0.00   Brence Harperez  "
      ]
     },
     "execution_count": 13,
     "metadata": {},
     "output_type": "execute_result"
    }
   ],
   "source": [
    "tst_data.head()"
   ]
  },
  {
   "cell_type": "code",
   "execution_count": 14,
   "id": "d868f5d3",
   "metadata": {
    "execution": {
     "iopub.execute_input": "2022-02-27T05:39:32.244347Z",
     "iopub.status.busy": "2022-02-27T05:39:32.243412Z",
     "iopub.status.idle": "2022-02-27T05:39:32.247861Z",
     "shell.execute_reply": "2022-02-27T05:39:32.247310Z",
     "shell.execute_reply.started": "2022-02-27T05:37:44.520983Z"
    },
    "papermill": {
     "duration": 0.09348,
     "end_time": "2022-02-27T05:39:32.248024",
     "exception": false,
     "start_time": "2022-02-27T05:39:32.154544",
     "status": "completed"
    },
    "tags": []
   },
   "outputs": [
    {
     "data": {
      "text/plain": [
       "PassengerId       0\n",
       "HomePlanet       87\n",
       "CryoSleep        93\n",
       "Cabin           100\n",
       "Destination      92\n",
       "Age              91\n",
       "VIP              93\n",
       "RoomService      82\n",
       "FoodCourt       106\n",
       "ShoppingMall     98\n",
       "Spa             101\n",
       "VRDeck           80\n",
       "Name             94\n",
       "dtype: int64"
      ]
     },
     "execution_count": 14,
     "metadata": {},
     "output_type": "execute_result"
    }
   ],
   "source": [
    "tst_data.isnull().sum()"
   ]
  },
  {
   "cell_type": "code",
   "execution_count": 15,
   "id": "9da7a57c",
   "metadata": {
    "execution": {
     "iopub.execute_input": "2022-02-27T05:39:32.416216Z",
     "iopub.status.busy": "2022-02-27T05:39:32.415289Z",
     "iopub.status.idle": "2022-02-27T05:39:32.418448Z",
     "shell.execute_reply": "2022-02-27T05:39:32.419132Z",
     "shell.execute_reply.started": "2022-02-27T05:37:44.535558Z"
    },
    "papermill": {
     "duration": 0.089521,
     "end_time": "2022-02-27T05:39:32.419324",
     "exception": false,
     "start_time": "2022-02-27T05:39:32.329803",
     "status": "completed"
    },
    "tags": []
   },
   "outputs": [
    {
     "data": {
      "text/html": [
       "<div>\n",
       "<style scoped>\n",
       "    .dataframe tbody tr th:only-of-type {\n",
       "        vertical-align: middle;\n",
       "    }\n",
       "\n",
       "    .dataframe tbody tr th {\n",
       "        vertical-align: top;\n",
       "    }\n",
       "\n",
       "    .dataframe thead th {\n",
       "        text-align: right;\n",
       "    }\n",
       "</style>\n",
       "<table border=\"1\" class=\"dataframe\">\n",
       "  <thead>\n",
       "    <tr style=\"text-align: right;\">\n",
       "      <th></th>\n",
       "      <th>PassengerId</th>\n",
       "      <th>Transported</th>\n",
       "    </tr>\n",
       "  </thead>\n",
       "  <tbody>\n",
       "    <tr>\n",
       "      <th>0</th>\n",
       "      <td>0013_01</td>\n",
       "      <td>False</td>\n",
       "    </tr>\n",
       "    <tr>\n",
       "      <th>1</th>\n",
       "      <td>0018_01</td>\n",
       "      <td>False</td>\n",
       "    </tr>\n",
       "    <tr>\n",
       "      <th>2</th>\n",
       "      <td>0019_01</td>\n",
       "      <td>False</td>\n",
       "    </tr>\n",
       "    <tr>\n",
       "      <th>3</th>\n",
       "      <td>0021_01</td>\n",
       "      <td>False</td>\n",
       "    </tr>\n",
       "    <tr>\n",
       "      <th>4</th>\n",
       "      <td>0023_01</td>\n",
       "      <td>False</td>\n",
       "    </tr>\n",
       "  </tbody>\n",
       "</table>\n",
       "</div>"
      ],
      "text/plain": [
       "  PassengerId  Transported\n",
       "0     0013_01        False\n",
       "1     0018_01        False\n",
       "2     0019_01        False\n",
       "3     0021_01        False\n",
       "4     0023_01        False"
      ]
     },
     "execution_count": 15,
     "metadata": {},
     "output_type": "execute_result"
    }
   ],
   "source": [
    "sub.head()"
   ]
  },
  {
   "cell_type": "markdown",
   "id": "9315d183",
   "metadata": {
    "papermill": {
     "duration": 0.081327,
     "end_time": "2022-02-27T05:39:32.576588",
     "exception": false,
     "start_time": "2022-02-27T05:39:32.495261",
     "status": "completed"
    },
    "tags": []
   },
   "source": [
    "# Exploring the Target Variable..."
   ]
  },
  {
   "cell_type": "code",
   "execution_count": 16,
   "id": "01589c75",
   "metadata": {
    "execution": {
     "iopub.execute_input": "2022-02-27T05:39:32.742453Z",
     "iopub.status.busy": "2022-02-27T05:39:32.741652Z",
     "iopub.status.idle": "2022-02-27T05:39:32.745917Z",
     "shell.execute_reply": "2022-02-27T05:39:32.745108Z",
     "shell.execute_reply.started": "2022-02-27T05:37:44.546707Z"
    },
    "papermill": {
     "duration": 0.089856,
     "end_time": "2022-02-27T05:39:32.746105",
     "exception": false,
     "start_time": "2022-02-27T05:39:32.656249",
     "status": "completed"
    },
    "tags": []
   },
   "outputs": [
    {
     "name": "stdout",
     "output_type": "stream",
     "text": [
      "CPU times: user 5 µs, sys: 0 ns, total: 5 µs\n",
      "Wall time: 8.34 µs\n"
     ]
    }
   ],
   "source": [
    "%%time\n",
    "def analyze_categ_target(df, target = 'Transported'):\n",
    "    \n",
    "    transported = df[df[target] == True].shape[0]\n",
    "    not_transported = df[df[target] == False].shape[0]\n",
    "    total = transported + not_transported\n",
    "    \n",
    "    print(f'Transported     : {transported / total:.2f} %')\n",
    "    print(f'Not Transported : {not_transported / total:.2f} %')\n",
    "    print(f'Total Passengers: {total}')\n",
    "    print('...')"
   ]
  },
  {
   "cell_type": "code",
   "execution_count": 17,
   "id": "364c42ce",
   "metadata": {
    "execution": {
     "iopub.execute_input": "2022-02-27T05:39:32.910032Z",
     "iopub.status.busy": "2022-02-27T05:39:32.906285Z",
     "iopub.status.idle": "2022-02-27T05:39:32.916508Z",
     "shell.execute_reply": "2022-02-27T05:39:32.915933Z",
     "shell.execute_reply.started": "2022-02-27T05:37:44.555255Z"
    },
    "papermill": {
     "duration": 0.091932,
     "end_time": "2022-02-27T05:39:32.916657",
     "exception": false,
     "start_time": "2022-02-27T05:39:32.824725",
     "status": "completed"
    },
    "tags": []
   },
   "outputs": [
    {
     "name": "stdout",
     "output_type": "stream",
     "text": [
      "Transported     : 0.50 %\n",
      "Not Transported : 0.50 %\n",
      "Total Passengers: 8693\n",
      "...\n",
      "CPU times: user 6.29 ms, sys: 167 µs, total: 6.46 ms\n",
      "Wall time: 6.47 ms\n"
     ]
    }
   ],
   "source": [
    "%%time\n",
    "analyze_categ_target(trn_data)"
   ]
  },
  {
   "cell_type": "code",
   "execution_count": 18,
   "id": "5ddcd7a1",
   "metadata": {
    "execution": {
     "iopub.execute_input": "2022-02-27T05:39:33.084131Z",
     "iopub.status.busy": "2022-02-27T05:39:33.083405Z",
     "iopub.status.idle": "2022-02-27T05:39:33.089951Z",
     "shell.execute_reply": "2022-02-27T05:39:33.089291Z",
     "shell.execute_reply.started": "2022-02-27T05:37:44.571545Z"
    },
    "papermill": {
     "duration": 0.093178,
     "end_time": "2022-02-27T05:39:33.090111",
     "exception": false,
     "start_time": "2022-02-27T05:39:32.996933",
     "status": "completed"
    },
    "tags": []
   },
   "outputs": [
    {
     "name": "stdout",
     "output_type": "stream",
     "text": [
      "Overlapped Passengers: 0\n",
      "CPU times: user 3.61 ms, sys: 1.08 ms, total: 4.69 ms\n",
      "Wall time: 4 ms\n"
     ]
    }
   ],
   "source": [
    "%%time\n",
    "trn_passenger_ids = set(trn_data['PassengerId'].unique())\n",
    "tst_passenger_ids = set(tst_data['PassengerId'].unique())\n",
    "intersection = trn_passenger_ids.intersection(tst_passenger_ids)\n",
    "print('Overlapped Passengers:', len(intersection))"
   ]
  },
  {
   "cell_type": "markdown",
   "id": "dae47a15",
   "metadata": {
    "papermill": {
     "duration": 0.080345,
     "end_time": "2022-02-27T05:39:33.250886",
     "exception": false,
     "start_time": "2022-02-27T05:39:33.170541",
     "status": "completed"
    },
    "tags": []
   },
   "source": [
    "# Feature Engineering"
   ]
  },
  {
   "cell_type": "code",
   "execution_count": 19,
   "id": "baccb58a",
   "metadata": {
    "execution": {
     "iopub.execute_input": "2022-02-27T05:39:33.421217Z",
     "iopub.status.busy": "2022-02-27T05:39:33.420121Z",
     "iopub.status.idle": "2022-02-27T05:39:33.423316Z",
     "shell.execute_reply": "2022-02-27T05:39:33.422621Z",
     "shell.execute_reply.started": "2022-02-27T05:37:44.585335Z"
    },
    "papermill": {
     "duration": 0.092617,
     "end_time": "2022-02-27T05:39:33.423463",
     "exception": false,
     "start_time": "2022-02-27T05:39:33.330846",
     "status": "completed"
    },
    "tags": []
   },
   "outputs": [],
   "source": [
    "def fill_missing(df):\n",
    "    '''\n",
    "    \n",
    "    '''\n",
    "    \n",
    "    numerics = ['int16', 'int32', 'int64', 'float16', 'float32', 'float64']\n",
    "    numeric_tmp = df.select_dtypes(include = numerics)\n",
    "    categ_tmp = df.select_dtypes(exclude = numerics)\n",
    "\n",
    "    for col in numeric_tmp.columns:\n",
    "        print(col)\n",
    "        df[col] = df[col].fillna(value = df[col].mean())\n",
    "        \n",
    "    for col in categ_tmp.columns:\n",
    "        print(col)\n",
    "        df[col] = df[col].fillna(value = df[col].mode()[0])\n",
    "        \n",
    "    print('...')\n",
    "    \n",
    "    return df"
   ]
  },
  {
   "cell_type": "code",
   "execution_count": 20,
   "id": "67b1a17d",
   "metadata": {
    "execution": {
     "iopub.execute_input": "2022-02-27T05:39:33.613459Z",
     "iopub.status.busy": "2022-02-27T05:39:33.612369Z",
     "iopub.status.idle": "2022-02-27T05:39:33.690930Z",
     "shell.execute_reply": "2022-02-27T05:39:33.691455Z",
     "shell.execute_reply.started": "2022-02-27T05:37:44.594885Z"
    },
    "papermill": {
     "duration": 0.173802,
     "end_time": "2022-02-27T05:39:33.691637",
     "exception": false,
     "start_time": "2022-02-27T05:39:33.517835",
     "status": "completed"
    },
    "tags": []
   },
   "outputs": [
    {
     "name": "stdout",
     "output_type": "stream",
     "text": [
      "Age\n",
      "RoomService\n",
      "FoodCourt\n",
      "ShoppingMall\n",
      "Spa\n",
      "VRDeck\n",
      "PassengerId\n",
      "HomePlanet\n",
      "CryoSleep\n",
      "Cabin\n",
      "Destination\n",
      "VIP\n",
      "Name\n",
      "Transported\n",
      "...\n",
      "Age\n",
      "RoomService\n",
      "FoodCourt\n",
      "ShoppingMall\n",
      "Spa\n",
      "VRDeck\n",
      "PassengerId\n",
      "HomePlanet\n",
      "CryoSleep\n",
      "Cabin\n",
      "Destination\n",
      "VIP\n",
      "Name\n",
      "...\n"
     ]
    }
   ],
   "source": [
    "trn_data =  fill_missing(trn_data)\n",
    "tst_data =  fill_missing(tst_data)"
   ]
  },
  {
   "cell_type": "code",
   "execution_count": 21,
   "id": "2cbf15ef",
   "metadata": {
    "execution": {
     "iopub.execute_input": "2022-02-27T05:39:33.871638Z",
     "iopub.status.busy": "2022-02-27T05:39:33.870612Z",
     "iopub.status.idle": "2022-02-27T05:39:33.877118Z",
     "shell.execute_reply": "2022-02-27T05:39:33.877873Z",
     "shell.execute_reply.started": "2022-02-27T05:37:44.680387Z"
    },
    "papermill": {
     "duration": 0.093454,
     "end_time": "2022-02-27T05:39:33.878076",
     "exception": false,
     "start_time": "2022-02-27T05:39:33.784622",
     "status": "completed"
    },
    "tags": []
   },
   "outputs": [
    {
     "name": "stdout",
     "output_type": "stream",
     "text": [
      "CPU times: user 4 µs, sys: 0 ns, total: 4 µs\n",
      "Wall time: 8.82 µs\n"
     ]
    }
   ],
   "source": [
    "%%time\n",
    "def total_billed(df):\n",
    "    '''\n",
    "    Calculates total amount billed in the trip to the passenger... \n",
    "    \n",
    "    '''\n",
    "    \n",
    "    df['Total_Billed'] = df['RoomService'] + df['FoodCourt'] + df['ShoppingMall'] + df['Spa'] + df['VRDeck']\n",
    "    return df"
   ]
  },
  {
   "cell_type": "code",
   "execution_count": 22,
   "id": "4960d534",
   "metadata": {
    "execution": {
     "iopub.execute_input": "2022-02-27T05:39:34.045380Z",
     "iopub.status.busy": "2022-02-27T05:39:34.044333Z",
     "iopub.status.idle": "2022-02-27T05:39:34.053200Z",
     "shell.execute_reply": "2022-02-27T05:39:34.053652Z",
     "shell.execute_reply.started": "2022-02-27T05:37:44.689270Z"
    },
    "papermill": {
     "duration": 0.097872,
     "end_time": "2022-02-27T05:39:34.053848",
     "exception": false,
     "start_time": "2022-02-27T05:39:33.955976",
     "status": "completed"
    },
    "tags": []
   },
   "outputs": [
    {
     "name": "stdout",
     "output_type": "stream",
     "text": [
      "CPU times: user 2.6 ms, sys: 77 µs, total: 2.67 ms\n",
      "Wall time: 2.7 ms\n"
     ]
    }
   ],
   "source": [
    "%%time\n",
    "trn_data = total_billed(trn_data)\n",
    "tst_data = total_billed(tst_data)"
   ]
  },
  {
   "cell_type": "code",
   "execution_count": 23,
   "id": "67d54048",
   "metadata": {
    "execution": {
     "iopub.execute_input": "2022-02-27T05:39:34.225352Z",
     "iopub.status.busy": "2022-02-27T05:39:34.224648Z",
     "iopub.status.idle": "2022-02-27T05:39:34.230170Z",
     "shell.execute_reply": "2022-02-27T05:39:34.230661Z",
     "shell.execute_reply.started": "2022-02-27T05:37:44.704214Z"
    },
    "papermill": {
     "duration": 0.092186,
     "end_time": "2022-02-27T05:39:34.230931",
     "exception": false,
     "start_time": "2022-02-27T05:39:34.138745",
     "status": "completed"
    },
    "tags": []
   },
   "outputs": [],
   "source": [
    "def name_ext(df):\n",
    "    '''\n",
    "    '''\n",
    "    df['FirstName'] = df['Name'].str.split(' ', expand=True)[0]\n",
    "    df['FamilyName'] = df['Name'].str.split(' ', expand=True)[1]\n",
    "    df.drop(columns = ['Name'], inplace = True)\n",
    "    return df"
   ]
  },
  {
   "cell_type": "code",
   "execution_count": 24,
   "id": "4b7dae3e",
   "metadata": {
    "execution": {
     "iopub.execute_input": "2022-02-27T05:39:34.391360Z",
     "iopub.status.busy": "2022-02-27T05:39:34.390385Z",
     "iopub.status.idle": "2022-02-27T05:39:34.557189Z",
     "shell.execute_reply": "2022-02-27T05:39:34.556605Z",
     "shell.execute_reply.started": "2022-02-27T05:37:44.712307Z"
    },
    "papermill": {
     "duration": 0.246968,
     "end_time": "2022-02-27T05:39:34.557345",
     "exception": false,
     "start_time": "2022-02-27T05:39:34.310377",
     "status": "completed"
    },
    "tags": []
   },
   "outputs": [
    {
     "name": "stdout",
     "output_type": "stream",
     "text": [
      "CPU times: user 155 ms, sys: 2.02 ms, total: 157 ms\n",
      "Wall time: 158 ms\n"
     ]
    }
   ],
   "source": [
    "%%time\n",
    "trn_data = name_ext(trn_data)\n",
    "tst_data = name_ext(tst_data)"
   ]
  },
  {
   "cell_type": "code",
   "execution_count": 25,
   "id": "0258d840",
   "metadata": {
    "execution": {
     "iopub.execute_input": "2022-02-27T05:39:34.723409Z",
     "iopub.status.busy": "2022-02-27T05:39:34.718990Z",
     "iopub.status.idle": "2022-02-27T05:39:34.726031Z",
     "shell.execute_reply": "2022-02-27T05:39:34.725339Z",
     "shell.execute_reply.started": "2022-02-27T05:37:44.775951Z"
    },
    "papermill": {
     "duration": 0.088363,
     "end_time": "2022-02-27T05:39:34.726181",
     "exception": false,
     "start_time": "2022-02-27T05:39:34.637818",
     "status": "completed"
    },
    "tags": []
   },
   "outputs": [],
   "source": [
    "def cabin_separation(df):\n",
    "    '''\n",
    "    '''\n",
    "    df['CabinDeck'] = df['Cabin'].str.split('/', expand=True)[0]\n",
    "    df['CabinNum'] = df['Cabin'].str.split('/', expand=True)[1]\n",
    "    df['CabinSide'] = df['Cabin'].str.split('/', expand=True)[2]\n",
    "    df.drop(columns = ['Cabin'], inplace = True)\n",
    "    return df"
   ]
  },
  {
   "cell_type": "code",
   "execution_count": 26,
   "id": "c75c99f3",
   "metadata": {
    "execution": {
     "iopub.execute_input": "2022-02-27T05:39:34.890236Z",
     "iopub.status.busy": "2022-02-27T05:39:34.889574Z",
     "iopub.status.idle": "2022-02-27T05:39:34.968838Z",
     "shell.execute_reply": "2022-02-27T05:39:34.969376Z",
     "shell.execute_reply.started": "2022-02-27T05:37:44.783366Z"
    },
    "papermill": {
     "duration": 0.16208,
     "end_time": "2022-02-27T05:39:34.969560",
     "exception": false,
     "start_time": "2022-02-27T05:39:34.807480",
     "status": "completed"
    },
    "tags": []
   },
   "outputs": [
    {
     "name": "stdout",
     "output_type": "stream",
     "text": [
      "CPU times: user 73.1 ms, sys: 0 ns, total: 73.1 ms\n",
      "Wall time: 73.3 ms\n"
     ]
    }
   ],
   "source": [
    "%%time\n",
    "trn_data = cabin_separation(trn_data)\n",
    "tst_data = cabin_separation(tst_data)"
   ]
  },
  {
   "cell_type": "code",
   "execution_count": 27,
   "id": "6d7aea67",
   "metadata": {
    "execution": {
     "iopub.execute_input": "2022-02-27T05:39:35.136601Z",
     "iopub.status.busy": "2022-02-27T05:39:35.135934Z",
     "iopub.status.idle": "2022-02-27T05:39:35.140064Z",
     "shell.execute_reply": "2022-02-27T05:39:35.140690Z",
     "shell.execute_reply.started": "2022-02-27T05:37:44.865942Z"
    },
    "papermill": {
     "duration": 0.088483,
     "end_time": "2022-02-27T05:39:35.140879",
     "exception": false,
     "start_time": "2022-02-27T05:39:35.052396",
     "status": "completed"
    },
    "tags": []
   },
   "outputs": [],
   "source": [
    "def route(df):\n",
    "    '''\n",
    "    \n",
    "    '''\n",
    "    df['Route'] = df['HomePlanet'] + df['Destination']\n",
    "    return df"
   ]
  },
  {
   "cell_type": "code",
   "execution_count": 28,
   "id": "1077f2ee",
   "metadata": {
    "execution": {
     "iopub.execute_input": "2022-02-27T05:39:35.306512Z",
     "iopub.status.busy": "2022-02-27T05:39:35.305836Z",
     "iopub.status.idle": "2022-02-27T05:39:35.314391Z",
     "shell.execute_reply": "2022-02-27T05:39:35.314913Z",
     "shell.execute_reply.started": "2022-02-27T05:37:44.871591Z"
    },
    "papermill": {
     "duration": 0.092114,
     "end_time": "2022-02-27T05:39:35.315081",
     "exception": false,
     "start_time": "2022-02-27T05:39:35.222967",
     "status": "completed"
    },
    "tags": []
   },
   "outputs": [
    {
     "name": "stdout",
     "output_type": "stream",
     "text": [
      "CPU times: user 3.29 ms, sys: 0 ns, total: 3.29 ms\n",
      "Wall time: 3.32 ms\n"
     ]
    }
   ],
   "source": [
    "%%time\n",
    "trn_data = route(trn_data)\n",
    "tst_data = route(tst_data)"
   ]
  },
  {
   "cell_type": "markdown",
   "id": "6185ac40",
   "metadata": {
    "papermill": {
     "duration": 0.079069,
     "end_time": "2022-02-27T05:39:35.474482",
     "exception": false,
     "start_time": "2022-02-27T05:39:35.395413",
     "status": "completed"
    },
    "tags": []
   },
   "source": [
    "# Pre-Processing for Training"
   ]
  },
  {
   "cell_type": "code",
   "execution_count": 29,
   "id": "dd160e44",
   "metadata": {
    "execution": {
     "iopub.execute_input": "2022-02-27T05:39:35.643313Z",
     "iopub.status.busy": "2022-02-27T05:39:35.642208Z",
     "iopub.status.idle": "2022-02-27T05:39:35.648627Z",
     "shell.execute_reply": "2022-02-27T05:39:35.649213Z",
     "shell.execute_reply.started": "2022-02-27T05:37:44.888380Z"
    },
    "papermill": {
     "duration": 0.094029,
     "end_time": "2022-02-27T05:39:35.649411",
     "exception": false,
     "start_time": "2022-02-27T05:39:35.555382",
     "status": "completed"
    },
    "tags": []
   },
   "outputs": [
    {
     "name": "stdout",
     "output_type": "stream",
     "text": [
      "CPU times: user 5 µs, sys: 1 µs, total: 6 µs\n",
      "Wall time: 8.82 µs\n"
     ]
    }
   ],
   "source": [
    "%%time\n",
    "numerical_features = ['Age', 'RoomService', 'FoodCourt', 'ShoppingMall', 'Spa', 'VRDeck', 'total_billed']\n",
    "\n",
    "categorical_features = [\n",
    "                        #'PassengerId',\n",
    "                        'HomePlanet',\n",
    "                        'CryoSleep',\n",
    "                        'CabinDeck',\n",
    "                        'CabinNum',\n",
    "                        'CabinSide',\n",
    "                        'Destination',\n",
    "                        'VIP',\n",
    "                        'FirstName',\n",
    "                        'FamilyName',\n",
    "                        'Route',\n",
    "                        ]\n",
    "\n",
    "target_feature = 'Transported'"
   ]
  },
  {
   "cell_type": "code",
   "execution_count": 30,
   "id": "d998f6d2",
   "metadata": {
    "execution": {
     "iopub.execute_input": "2022-02-27T05:39:35.816024Z",
     "iopub.status.busy": "2022-02-27T05:39:35.815258Z",
     "iopub.status.idle": "2022-02-27T05:39:36.786552Z",
     "shell.execute_reply": "2022-02-27T05:39:36.785801Z",
     "shell.execute_reply.started": "2022-02-27T05:37:44.896319Z"
    },
    "papermill": {
     "duration": 1.058658,
     "end_time": "2022-02-27T05:39:36.786734",
     "exception": false,
     "start_time": "2022-02-27T05:39:35.728076",
     "status": "completed"
    },
    "tags": []
   },
   "outputs": [
    {
     "name": "stdout",
     "output_type": "stream",
     "text": [
      "CPU times: user 533 ms, sys: 330 ms, total: 864 ms\n",
      "Wall time: 963 ms\n"
     ]
    }
   ],
   "source": [
    "%%time\n",
    "from sklearn.preprocessing import LabelEncoder \n",
    "\n",
    "def encode_categorical(train_df, test_df, categ_feat = categorical_features):\n",
    "    '''\n",
    "    \n",
    "    '''\n",
    "    encoder_dict = {}\n",
    "    \n",
    "    concat_data = pd.concat([trn_data[categ_feat], tst_data[categ_feat]])\n",
    "    \n",
    "    for col in concat_data.columns:\n",
    "        print('Processing: ', col)\n",
    "        encoder = LabelEncoder()\n",
    "        encoder.fit(concat_data[col])\n",
    "        encoder_dict[col] = encoder\n",
    "\n",
    "        train_df[col + '_Enc'] = encoder.transform(train_df[col])\n",
    "        test_df[col + '_Enc'] = encoder.transform(test_df[col])\n",
    "    \n",
    "    train_df = train_df.drop(columns = categ_feat, axis = 1)\n",
    "    test_df = test_df.drop(columns = categ_feat, axis = 1)\n",
    "\n",
    "    return train_df, test_df"
   ]
  },
  {
   "cell_type": "code",
   "execution_count": 31,
   "id": "36d119cf",
   "metadata": {
    "execution": {
     "iopub.execute_input": "2022-02-27T05:39:36.965231Z",
     "iopub.status.busy": "2022-02-27T05:39:36.959701Z",
     "iopub.status.idle": "2022-02-27T05:39:37.042766Z",
     "shell.execute_reply": "2022-02-27T05:39:37.041825Z",
     "shell.execute_reply.started": "2022-02-27T05:37:44.909143Z"
    },
    "papermill": {
     "duration": 0.173903,
     "end_time": "2022-02-27T05:39:37.042978",
     "exception": false,
     "start_time": "2022-02-27T05:39:36.869075",
     "status": "completed"
    },
    "tags": []
   },
   "outputs": [
    {
     "name": "stdout",
     "output_type": "stream",
     "text": [
      "Processing:  HomePlanet\n",
      "Processing:  CryoSleep\n",
      "Processing:  CabinDeck\n",
      "Processing:  CabinNum\n",
      "Processing:  CabinSide\n",
      "Processing:  Destination\n",
      "Processing:  VIP\n",
      "Processing:  FirstName\n",
      "Processing:  FamilyName\n",
      "Processing:  Route\n",
      "CPU times: user 80.6 ms, sys: 9.42 ms, total: 90 ms\n",
      "Wall time: 84.2 ms\n"
     ]
    }
   ],
   "source": [
    "%%time\n",
    "trn_data, tst_data = encode_categorical(trn_data, tst_data, categorical_features)"
   ]
  },
  {
   "cell_type": "markdown",
   "id": "3fd74b69",
   "metadata": {
    "papermill": {
     "duration": 0.080351,
     "end_time": "2022-02-27T05:39:37.205064",
     "exception": false,
     "start_time": "2022-02-27T05:39:37.124713",
     "status": "completed"
    },
    "tags": []
   },
   "source": [
    "# Simple CV Sttrategy 80/20 Split"
   ]
  },
  {
   "cell_type": "code",
   "execution_count": 32,
   "id": "35547364",
   "metadata": {
    "execution": {
     "iopub.execute_input": "2022-02-27T05:39:37.374788Z",
     "iopub.status.busy": "2022-02-27T05:39:37.373976Z",
     "iopub.status.idle": "2022-02-27T05:39:37.377285Z",
     "shell.execute_reply": "2022-02-27T05:39:37.377790Z",
     "shell.execute_reply.started": "2022-02-27T05:37:44.992427Z"
    },
    "papermill": {
     "duration": 0.088708,
     "end_time": "2022-02-27T05:39:37.377967",
     "exception": false,
     "start_time": "2022-02-27T05:39:37.289259",
     "status": "completed"
    },
    "tags": []
   },
   "outputs": [
    {
     "data": {
      "text/plain": [
       "Index(['PassengerId', 'Age', 'RoomService', 'FoodCourt', 'ShoppingMall', 'Spa',\n",
       "       'VRDeck', 'Transported', 'Total_Billed', 'HomePlanet_Enc',\n",
       "       'CryoSleep_Enc', 'CabinDeck_Enc', 'CabinNum_Enc', 'CabinSide_Enc',\n",
       "       'Destination_Enc', 'VIP_Enc', 'FirstName_Enc', 'FamilyName_Enc',\n",
       "       'Route_Enc'],\n",
       "      dtype='object')"
      ]
     },
     "execution_count": 32,
     "metadata": {},
     "output_type": "execute_result"
    }
   ],
   "source": [
    "trn_data.columns"
   ]
  },
  {
   "cell_type": "code",
   "execution_count": 33,
   "id": "13214b73",
   "metadata": {
    "execution": {
     "iopub.execute_input": "2022-02-27T05:39:37.547091Z",
     "iopub.status.busy": "2022-02-27T05:39:37.546404Z",
     "iopub.status.idle": "2022-02-27T05:39:37.549120Z",
     "shell.execute_reply": "2022-02-27T05:39:37.548480Z",
     "shell.execute_reply.started": "2022-02-27T05:37:45.000079Z"
    },
    "papermill": {
     "duration": 0.088173,
     "end_time": "2022-02-27T05:39:37.549257",
     "exception": false,
     "start_time": "2022-02-27T05:39:37.461084",
     "status": "completed"
    },
    "tags": []
   },
   "outputs": [],
   "source": [
    "features = ['Age',\n",
    "            'RoomService',\n",
    "            'FoodCourt',\n",
    "            'ShoppingMall',\n",
    "            'Spa',\n",
    "            'VRDeck',\n",
    "            'FamilyName_Enc',\n",
    "            'FirstName_Enc',\n",
    "            'VIP_Enc',\n",
    "            'Total_Billed',\n",
    "            'HomePlanet_Enc',\n",
    "            'CryoSleep_Enc',\n",
    "            'CabinNum_Enc',\n",
    "            'CabinSide_Enc',\n",
    "            'CabinDeck_Enc',\n",
    "            'Destination_Enc',\n",
    "            'Route_Enc']"
   ]
  },
  {
   "cell_type": "code",
   "execution_count": 34,
   "id": "c6e5f9cb",
   "metadata": {
    "execution": {
     "iopub.execute_input": "2022-02-27T05:39:37.721420Z",
     "iopub.status.busy": "2022-02-27T05:39:37.720237Z",
     "iopub.status.idle": "2022-02-27T05:39:37.785234Z",
     "shell.execute_reply": "2022-02-27T05:39:37.784617Z",
     "shell.execute_reply.started": "2022-02-27T05:37:45.009418Z"
    },
    "papermill": {
     "duration": 0.152679,
     "end_time": "2022-02-27T05:39:37.785387",
     "exception": false,
     "start_time": "2022-02-27T05:39:37.632708",
     "status": "completed"
    },
    "tags": []
   },
   "outputs": [],
   "source": [
    "from sklearn.model_selection import train_test_split\n",
    "X_train, X_val, y_train, y_val = train_test_split(trn_data[features], trn_data[target_feature], test_size = 0.15, random_state = 42)"
   ]
  },
  {
   "cell_type": "markdown",
   "id": "81da4460",
   "metadata": {
    "papermill": {
     "duration": 0.080925,
     "end_time": "2022-02-27T05:39:37.946177",
     "exception": false,
     "start_time": "2022-02-27T05:39:37.865252",
     "status": "completed"
    },
    "tags": []
   },
   "source": [
    "fit(X, y, *, sample_weight=None, base_margin=None, eval_set=None, eval_metric=None, early_stopping_rounds=None, verbose=True, xgb_model=None, sample_weight_eval_set=None, base_margin_eval_set=None, feature_weights=None, callbacks=None)"
   ]
  },
  {
   "cell_type": "code",
   "execution_count": 35,
   "id": "f67f40c2",
   "metadata": {
    "execution": {
     "iopub.execute_input": "2022-02-27T05:39:38.128890Z",
     "iopub.status.busy": "2022-02-27T05:39:38.128038Z",
     "iopub.status.idle": "2022-02-27T05:39:39.315061Z",
     "shell.execute_reply": "2022-02-27T05:39:39.315542Z",
     "shell.execute_reply.started": "2022-02-27T05:37:45.023654Z"
    },
    "papermill": {
     "duration": 1.284373,
     "end_time": "2022-02-27T05:39:39.315759",
     "exception": false,
     "start_time": "2022-02-27T05:39:38.031386",
     "status": "completed"
    },
    "tags": []
   },
   "outputs": [
    {
     "name": "stdout",
     "output_type": "stream",
     "text": [
      "[0]\tvalidation_0-logloss:0.58481\n",
      "[10]\tvalidation_0-logloss:0.41797\n",
      "[20]\tvalidation_0-logloss:0.41558\n",
      "[30]\tvalidation_0-logloss:0.41448\n",
      "[40]\tvalidation_0-logloss:0.41666\n",
      "[50]\tvalidation_0-logloss:0.41778\n",
      "[60]\tvalidation_0-logloss:0.42037\n",
      "[70]\tvalidation_0-logloss:0.42197\n",
      "[79]\tvalidation_0-logloss:0.42442\n"
     ]
    },
    {
     "data": {
      "text/plain": [
       "XGBClassifier(base_score=0.5, booster='gbtree', colsample_bylevel=1,\n",
       "              colsample_bynode=1, colsample_bytree=1, enable_categorical=False,\n",
       "              gamma=0, gpu_id=-1, importance_type=None,\n",
       "              interaction_constraints='', learning_rate=0.300000012,\n",
       "              max_delta_step=0, max_depth=6, min_child_weight=1, missing=nan,\n",
       "              monotone_constraints='()', n_estimators=100, n_jobs=4,\n",
       "              num_parallel_tree=1, predictor='auto', random_state=0,\n",
       "              reg_alpha=0, reg_lambda=1, scale_pos_weight=1, subsample=1,\n",
       "              tree_method='exact', validate_parameters=1, verbosity=None)"
      ]
     },
     "execution_count": 35,
     "metadata": {},
     "output_type": "execute_result"
    }
   ],
   "source": [
    "from xgboost import XGBClassifier\n",
    "# cls = XGBClassifier(\n",
    "#                     learning_rate = 0.1,\n",
    "#                     n_estimators = 2048,\n",
    "#                     n_jobs = -1)\n",
    "\n",
    "cls = XGBClassifier()\n",
    "cls.fit(X_train, y_train, eval_set = [(X_val, y_val)], eval_metric=['logloss'], early_stopping_rounds = 50, verbose = 10)"
   ]
  },
  {
   "cell_type": "code",
   "execution_count": 36,
   "id": "9952c8ed",
   "metadata": {
    "execution": {
     "iopub.execute_input": "2022-02-27T05:39:39.497304Z",
     "iopub.status.busy": "2022-02-27T05:39:39.496609Z",
     "iopub.status.idle": "2022-02-27T05:39:39.501969Z",
     "shell.execute_reply": "2022-02-27T05:39:39.501214Z",
     "shell.execute_reply.started": "2022-02-27T05:37:45.861706Z"
    },
    "papermill": {
     "duration": 0.102324,
     "end_time": "2022-02-27T05:39:39.502126",
     "exception": false,
     "start_time": "2022-02-27T05:39:39.399802",
     "status": "completed"
    },
    "tags": []
   },
   "outputs": [],
   "source": [
    "import matplotlib.pyplot as plt\n",
    "\n",
    "def feature_importance(clf):\n",
    "    importances = clf.feature_importances_\n",
    "    i = np.argsort(importances)\n",
    "    features = X_train.columns\n",
    "    plt.title('Feature Importance')\n",
    "    plt.barh(range(len(i)), importances[i], align='center')\n",
    "    plt.yticks(range(len(i)), [features[x] for x in i])\n",
    "    plt.xlabel('Scale')\n",
    "    plt.show()"
   ]
  },
  {
   "cell_type": "code",
   "execution_count": 37,
   "id": "b1cdc7a1",
   "metadata": {
    "execution": {
     "iopub.execute_input": "2022-02-27T05:39:39.680257Z",
     "iopub.status.busy": "2022-02-27T05:39:39.679560Z",
     "iopub.status.idle": "2022-02-27T05:39:39.923657Z",
     "shell.execute_reply": "2022-02-27T05:39:39.924182Z",
     "shell.execute_reply.started": "2022-02-27T05:37:45.869690Z"
    },
    "papermill": {
     "duration": 0.336129,
     "end_time": "2022-02-27T05:39:39.924352",
     "exception": false,
     "start_time": "2022-02-27T05:39:39.588223",
     "status": "completed"
    },
    "tags": []
   },
   "outputs": [
    {
     "data": {
      "image/png": "[encoded data removed]",
      "text/plain": [
       "<Figure size 432x288 with 1 Axes>"
      ]
     },
     "metadata": {
      "needs_background": "light"
     },
     "output_type": "display_data"
    }
   ],
   "source": [
    "feature_importance(cls)"
   ]
  },
  {
   "cell_type": "code",
   "execution_count": 38,
   "id": "a072b20d",
   "metadata": {
    "execution": {
     "iopub.execute_input": "2022-02-27T05:39:40.110169Z",
     "iopub.status.busy": "2022-02-27T05:39:40.109487Z",
     "iopub.status.idle": "2022-02-27T05:39:40.119556Z",
     "shell.execute_reply": "2022-02-27T05:39:40.120138Z",
     "shell.execute_reply.started": "2022-02-27T05:37:46.084850Z"
    },
    "papermill": {
     "duration": 0.106821,
     "end_time": "2022-02-27T05:39:40.120355",
     "exception": false,
     "start_time": "2022-02-27T05:39:40.013534",
     "status": "completed"
    },
    "tags": []
   },
   "outputs": [],
   "source": [
    "from sklearn.metrics import accuracy_score\n",
    "val_preds = cls.predict(X_val[features])\n",
    "accuracy = accuracy_score(val_preds, y_val)"
   ]
  },
  {
   "cell_type": "code",
   "execution_count": 39,
   "id": "996eb8c9",
   "metadata": {
    "execution": {
     "iopub.execute_input": "2022-02-27T05:39:40.304418Z",
     "iopub.status.busy": "2022-02-27T05:39:40.303351Z",
     "iopub.status.idle": "2022-02-27T05:39:40.307819Z",
     "shell.execute_reply": "2022-02-27T05:39:40.308350Z",
     "shell.execute_reply.started": "2022-02-27T05:37:46.097890Z"
    },
    "papermill": {
     "duration": 0.097656,
     "end_time": "2022-02-27T05:39:40.308539",
     "exception": false,
     "start_time": "2022-02-27T05:39:40.210883",
     "status": "completed"
    },
    "tags": []
   },
   "outputs": [
    {
     "data": {
      "text/plain": [
       "0.8006134969325154"
      ]
     },
     "execution_count": 39,
     "metadata": {},
     "output_type": "execute_result"
    }
   ],
   "source": [
    "accuracy"
   ]
  },
  {
   "cell_type": "code",
   "execution_count": 40,
   "id": "2ea2f4eb",
   "metadata": {
    "execution": {
     "iopub.execute_input": "2022-02-27T05:39:40.493090Z",
     "iopub.status.busy": "2022-02-27T05:39:40.492310Z",
     "iopub.status.idle": "2022-02-27T05:39:40.494978Z",
     "shell.execute_reply": "2022-02-27T05:39:40.494302Z",
     "shell.execute_reply.started": "2022-02-27T05:37:46.113841Z"
    },
    "papermill": {
     "duration": 0.095104,
     "end_time": "2022-02-27T05:39:40.495131",
     "exception": false,
     "start_time": "2022-02-27T05:39:40.400027",
     "status": "completed"
    },
    "tags": []
   },
   "outputs": [],
   "source": [
    "# 0.7875766871165644\n",
    "# 0.7883435582822086\n",
    "# 0.7944785276073619\n",
    "# 0.7998466257668712\n",
    "# 0.8006134969325154"
   ]
  },
  {
   "cell_type": "code",
   "execution_count": 41,
   "id": "8db764f0",
   "metadata": {
    "execution": {
     "iopub.execute_input": "2022-02-27T05:39:40.688902Z",
     "iopub.status.busy": "2022-02-27T05:39:40.688183Z",
     "iopub.status.idle": "2022-02-27T05:39:40.692300Z",
     "shell.execute_reply": "2022-02-27T05:39:40.691752Z",
     "shell.execute_reply.started": "2022-02-27T05:37:46.118165Z"
    },
    "papermill": {
     "duration": 0.10446,
     "end_time": "2022-02-27T05:39:40.692440",
     "exception": false,
     "start_time": "2022-02-27T05:39:40.587980",
     "status": "completed"
    },
    "tags": []
   },
   "outputs": [
    {
     "data": {
      "text/plain": [
       "(4277, 18)"
      ]
     },
     "execution_count": 41,
     "metadata": {},
     "output_type": "execute_result"
    }
   ],
   "source": [
    "tst_data.shape"
   ]
  },
  {
   "cell_type": "code",
   "execution_count": 42,
   "id": "bebd6703",
   "metadata": {
    "execution": {
     "iopub.execute_input": "2022-02-27T05:39:40.887398Z",
     "iopub.status.busy": "2022-02-27T05:39:40.886713Z",
     "iopub.status.idle": "2022-02-27T05:39:40.892878Z",
     "shell.execute_reply": "2022-02-27T05:39:40.893424Z",
     "shell.execute_reply.started": "2022-02-27T05:37:46.129479Z"
    },
    "papermill": {
     "duration": 0.104115,
     "end_time": "2022-02-27T05:39:40.893611",
     "exception": false,
     "start_time": "2022-02-27T05:39:40.789496",
     "status": "completed"
    },
    "tags": []
   },
   "outputs": [
    {
     "data": {
      "text/plain": [
       "1304"
      ]
     },
     "execution_count": 42,
     "metadata": {},
     "output_type": "execute_result"
    }
   ],
   "source": [
    "len(val_preds)"
   ]
  },
  {
   "cell_type": "code",
   "execution_count": 43,
   "id": "cd38b9d2",
   "metadata": {
    "execution": {
     "iopub.execute_input": "2022-02-27T05:39:41.083224Z",
     "iopub.status.busy": "2022-02-27T05:39:41.082325Z",
     "iopub.status.idle": "2022-02-27T05:39:41.085190Z",
     "shell.execute_reply": "2022-02-27T05:39:41.085704Z",
     "shell.execute_reply.started": "2022-02-27T05:37:46.138406Z"
    },
    "papermill": {
     "duration": 0.101236,
     "end_time": "2022-02-27T05:39:41.085879",
     "exception": false,
     "start_time": "2022-02-27T05:39:40.984643",
     "status": "completed"
    },
    "tags": []
   },
   "outputs": [
    {
     "data": {
      "text/plain": [
       "(4277, 2)"
      ]
     },
     "execution_count": 43,
     "metadata": {},
     "output_type": "execute_result"
    }
   ],
   "source": [
    "sub.shape"
   ]
  },
  {
   "cell_type": "code",
   "execution_count": 44,
   "id": "d71d87ac",
   "metadata": {
    "execution": {
     "iopub.execute_input": "2022-02-27T05:39:41.271311Z",
     "iopub.status.busy": "2022-02-27T05:39:41.270632Z",
     "iopub.status.idle": "2022-02-27T05:39:41.284873Z",
     "shell.execute_reply": "2022-02-27T05:39:41.285397Z",
     "shell.execute_reply.started": "2022-02-27T05:37:46.148016Z"
    },
    "papermill": {
     "duration": 0.111066,
     "end_time": "2022-02-27T05:39:41.285602",
     "exception": false,
     "start_time": "2022-02-27T05:39:41.174536",
     "status": "completed"
    },
    "tags": []
   },
   "outputs": [],
   "source": [
    "preds = cls.predict(tst_data[features])"
   ]
  },
  {
   "cell_type": "code",
   "execution_count": 45,
   "id": "cbe7d747",
   "metadata": {
    "execution": {
     "iopub.execute_input": "2022-02-27T05:39:41.483538Z",
     "iopub.status.busy": "2022-02-27T05:39:41.482537Z",
     "iopub.status.idle": "2022-02-27T05:39:41.486322Z",
     "shell.execute_reply": "2022-02-27T05:39:41.486886Z",
     "shell.execute_reply.started": "2022-02-27T05:37:46.175288Z"
    },
    "papermill": {
     "duration": 0.111582,
     "end_time": "2022-02-27T05:39:41.487070",
     "exception": false,
     "start_time": "2022-02-27T05:39:41.375488",
     "status": "completed"
    },
    "tags": []
   },
   "outputs": [
    {
     "data": {
      "text/html": [
       "<div>\n",
       "<style scoped>\n",
       "    .dataframe tbody tr th:only-of-type {\n",
       "        vertical-align: middle;\n",
       "    }\n",
       "\n",
       "    .dataframe tbody tr th {\n",
       "        vertical-align: top;\n",
       "    }\n",
       "\n",
       "    .dataframe thead th {\n",
       "        text-align: right;\n",
       "    }\n",
       "</style>\n",
       "<table border=\"1\" class=\"dataframe\">\n",
       "  <thead>\n",
       "    <tr style=\"text-align: right;\">\n",
       "      <th></th>\n",
       "      <th>PassengerId</th>\n",
       "      <th>Transported</th>\n",
       "    </tr>\n",
       "  </thead>\n",
       "  <tbody>\n",
       "    <tr>\n",
       "      <th>0</th>\n",
       "      <td>0013_01</td>\n",
       "      <td>False</td>\n",
       "    </tr>\n",
       "    <tr>\n",
       "      <th>1</th>\n",
       "      <td>0018_01</td>\n",
       "      <td>False</td>\n",
       "    </tr>\n",
       "    <tr>\n",
       "      <th>2</th>\n",
       "      <td>0019_01</td>\n",
       "      <td>True</td>\n",
       "    </tr>\n",
       "    <tr>\n",
       "      <th>3</th>\n",
       "      <td>0021_01</td>\n",
       "      <td>True</td>\n",
       "    </tr>\n",
       "    <tr>\n",
       "      <th>4</th>\n",
       "      <td>0023_01</td>\n",
       "      <td>True</td>\n",
       "    </tr>\n",
       "    <tr>\n",
       "      <th>...</th>\n",
       "      <td>...</td>\n",
       "      <td>...</td>\n",
       "    </tr>\n",
       "    <tr>\n",
       "      <th>4272</th>\n",
       "      <td>9266_02</td>\n",
       "      <td>True</td>\n",
       "    </tr>\n",
       "    <tr>\n",
       "      <th>4273</th>\n",
       "      <td>9269_01</td>\n",
       "      <td>False</td>\n",
       "    </tr>\n",
       "    <tr>\n",
       "      <th>4274</th>\n",
       "      <td>9271_01</td>\n",
       "      <td>True</td>\n",
       "    </tr>\n",
       "    <tr>\n",
       "      <th>4275</th>\n",
       "      <td>9273_01</td>\n",
       "      <td>True</td>\n",
       "    </tr>\n",
       "    <tr>\n",
       "      <th>4276</th>\n",
       "      <td>9277_01</td>\n",
       "      <td>True</td>\n",
       "    </tr>\n",
       "  </tbody>\n",
       "</table>\n",
       "<p>4277 rows × 2 columns</p>\n",
       "</div>"
      ],
      "text/plain": [
       "     PassengerId  Transported\n",
       "0        0013_01        False\n",
       "1        0018_01        False\n",
       "2        0019_01         True\n",
       "3        0021_01         True\n",
       "4        0023_01         True\n",
       "...          ...          ...\n",
       "4272     9266_02         True\n",
       "4273     9269_01        False\n",
       "4274     9271_01         True\n",
       "4275     9273_01         True\n",
       "4276     9277_01         True\n",
       "\n",
       "[4277 rows x 2 columns]"
      ]
     },
     "execution_count": 45,
     "metadata": {},
     "output_type": "execute_result"
    }
   ],
   "source": [
    "sub['Transported'] = preds\n",
    "sub"
   ]
  },
  {
   "cell_type": "code",
   "execution_count": 46,
   "id": "1f22dd21",
   "metadata": {
    "execution": {
     "iopub.execute_input": "2022-02-27T05:39:41.670260Z",
     "iopub.status.busy": "2022-02-27T05:39:41.669517Z",
     "iopub.status.idle": "2022-02-27T05:39:41.685647Z",
     "shell.execute_reply": "2022-02-27T05:39:41.685006Z",
     "shell.execute_reply.started": "2022-02-27T05:37:46.191970Z"
    },
    "papermill": {
     "duration": 0.108666,
     "end_time": "2022-02-27T05:39:41.685847",
     "exception": false,
     "start_time": "2022-02-27T05:39:41.577181",
     "status": "completed"
    },
    "tags": []
   },
   "outputs": [],
   "source": [
    "sub.to_csv('submission.csv', index=False)"
   ]
  },
  {
   "cell_type": "code",
   "execution_count": 47,
   "id": "15c4447c",
   "metadata": {
    "execution": {
     "iopub.execute_input": "2022-02-27T05:39:41.876422Z",
     "iopub.status.busy": "2022-02-27T05:39:41.875637Z",
     "iopub.status.idle": "2022-02-27T05:39:41.880024Z",
     "shell.execute_reply": "2022-02-27T05:39:41.879132Z",
     "shell.execute_reply.started": "2022-02-27T05:37:46.208736Z"
    },
    "papermill": {
     "duration": 0.102878,
     "end_time": "2022-02-27T05:39:41.880216",
     "exception": false,
     "start_time": "2022-02-27T05:39:41.777338",
     "status": "completed"
    },
    "tags": []
   },
   "outputs": [
    {
     "name": "stdout",
     "output_type": "stream",
     "text": [
      "CPU times: user 11 µs, sys: 1e+03 ns, total: 12 µs\n",
      "Wall time: 15.7 µs\n"
     ]
    }
   ],
   "source": [
    "%%time\n",
    "from sklearn.preprocessing import MinMaxScaler"
   ]
  },
  {
   "cell_type": "code",
   "execution_count": 48,
   "id": "a4fce2d0",
   "metadata": {
    "execution": {
     "iopub.execute_input": "2022-02-27T05:39:42.070603Z",
     "iopub.status.busy": "2022-02-27T05:39:42.069740Z",
     "iopub.status.idle": "2022-02-27T05:39:43.064408Z",
     "shell.execute_reply": "2022-02-27T05:39:43.063805Z",
     "shell.execute_reply.started": "2022-02-27T05:37:46.214817Z"
    },
    "papermill": {
     "duration": 1.094521,
     "end_time": "2022-02-27T05:39:43.064569",
     "exception": false,
     "start_time": "2022-02-27T05:39:41.970048",
     "status": "completed"
    },
    "tags": []
   },
   "outputs": [
    {
     "name": "stdout",
     "output_type": "stream",
     "text": [
      "CPU times: user 532 ms, sys: 79.7 ms, total: 612 ms\n",
      "Wall time: 991 ms\n"
     ]
    }
   ],
   "source": [
    "%%time\n",
    "import optuna\n",
    "from sklearn.ensemble import ExtraTreesClassifier\n",
    "from sklearn.metrics import accuracy_score\n",
    "from sklearn.model_selection import StratifiedKFold\n",
    "from sklearn.model_selection import train_test_split"
   ]
  },
  {
   "cell_type": "code",
   "execution_count": 49,
   "id": "1a66c44f",
   "metadata": {
    "execution": {
     "iopub.execute_input": "2022-02-27T05:39:43.255507Z",
     "iopub.status.busy": "2022-02-27T05:39:43.254533Z",
     "iopub.status.idle": "2022-02-27T05:39:43.257858Z",
     "shell.execute_reply": "2022-02-27T05:39:43.258366Z",
     "shell.execute_reply.started": "2022-02-27T05:37:46.226059Z"
    },
    "papermill": {
     "duration": 0.098607,
     "end_time": "2022-02-27T05:39:43.258551",
     "exception": false,
     "start_time": "2022-02-27T05:39:43.159944",
     "status": "completed"
    },
    "tags": []
   },
   "outputs": [
    {
     "name": "stdout",
     "output_type": "stream",
     "text": [
      "CPU times: user 39 µs, sys: 5 µs, total: 44 µs\n",
      "Wall time: 47.7 µs\n"
     ]
    }
   ],
   "source": [
    "%%time\n",
    "N_SPLITS = 10\n",
    "folds = StratifiedKFold(n_splits = N_SPLITS, shuffle = True)"
   ]
  },
  {
   "cell_type": "code",
   "execution_count": null,
   "id": "eaa31a8b",
   "metadata": {
    "papermill": {
     "duration": 0.087568,
     "end_time": "2022-02-27T05:39:43.434291",
     "exception": false,
     "start_time": "2022-02-27T05:39:43.346723",
     "status": "completed"
    },
    "tags": []
   },
   "outputs": [],
   "source": []
  },
  {
   "cell_type": "code",
   "execution_count": 50,
   "id": "141301bb",
   "metadata": {
    "execution": {
     "iopub.execute_input": "2022-02-27T05:39:43.622883Z",
     "iopub.status.busy": "2022-02-27T05:39:43.622169Z",
     "iopub.status.idle": "2022-02-27T05:39:55.958413Z",
     "shell.execute_reply": "2022-02-27T05:39:55.959486Z",
     "shell.execute_reply.started": "2022-02-27T05:37:46.236007Z"
    },
    "papermill": {
     "duration": 12.436756,
     "end_time": "2022-02-27T05:39:55.959884",
     "exception": false,
     "start_time": "2022-02-27T05:39:43.523128",
     "status": "completed"
    },
    "tags": []
   },
   "outputs": [
    {
     "name": "stdout",
     "output_type": "stream",
     "text": [
      "[0]\tvalidation_0-logloss:0.57951\n",
      "[10]\tvalidation_0-logloss:0.38908\n",
      "[20]\tvalidation_0-logloss:0.37512\n",
      "[30]\tvalidation_0-logloss:0.37722\n",
      "[40]\tvalidation_0-logloss:0.37974\n",
      "[50]\tvalidation_0-logloss:0.38481\n",
      "[60]\tvalidation_0-logloss:0.38995\n",
      "[70]\tvalidation_0-logloss:0.39088\n",
      "[72]\tvalidation_0-logloss:0.38953\n",
      "Fold: 0 Accuracy: 0.8080459770114943\n",
      "[0]\tvalidation_0-logloss:0.59002\n",
      "[10]\tvalidation_0-logloss:0.42380\n",
      "[20]\tvalidation_0-logloss:0.42332\n",
      "[30]\tvalidation_0-logloss:0.41955\n",
      "[40]\tvalidation_0-logloss:0.41899\n",
      "[50]\tvalidation_0-logloss:0.42581\n",
      "[60]\tvalidation_0-logloss:0.42769\n",
      "[70]\tvalidation_0-logloss:0.43010\n",
      "[80]\tvalidation_0-logloss:0.43727\n",
      "[85]\tvalidation_0-logloss:0.43541\n",
      "Fold: 1 Accuracy: 0.7977011494252874\n",
      "[0]\tvalidation_0-logloss:0.57611\n",
      "[10]\tvalidation_0-logloss:0.39436\n",
      "[20]\tvalidation_0-logloss:0.38099\n",
      "[30]\tvalidation_0-logloss:0.37816\n",
      "[40]\tvalidation_0-logloss:0.37361\n",
      "[50]\tvalidation_0-logloss:0.37365\n",
      "[60]\tvalidation_0-logloss:0.38331\n",
      "[70]\tvalidation_0-logloss:0.38548\n",
      "[80]\tvalidation_0-logloss:0.38474\n",
      "[90]\tvalidation_0-logloss:0.38918\n",
      "[98]\tvalidation_0-logloss:0.39376\n",
      "Fold: 2 Accuracy: 0.8298850574712644\n",
      "[0]\tvalidation_0-logloss:0.58416\n",
      "[10]\tvalidation_0-logloss:0.40438\n",
      "[20]\tvalidation_0-logloss:0.39470\n",
      "[30]\tvalidation_0-logloss:0.39702\n",
      "[40]\tvalidation_0-logloss:0.39441\n",
      "[50]\tvalidation_0-logloss:0.39584\n",
      "[60]\tvalidation_0-logloss:0.40161\n",
      "[70]\tvalidation_0-logloss:0.40259\n",
      "[80]\tvalidation_0-logloss:0.40724\n",
      "[90]\tvalidation_0-logloss:0.40846\n",
      "[91]\tvalidation_0-logloss:0.40849\n",
      "Fold: 3 Accuracy: 0.810126582278481\n",
      "[0]\tvalidation_0-logloss:0.57455\n",
      "[10]\tvalidation_0-logloss:0.37220\n",
      "[20]\tvalidation_0-logloss:0.36106\n",
      "[30]\tvalidation_0-logloss:0.35997\n",
      "[40]\tvalidation_0-logloss:0.35687\n",
      "[50]\tvalidation_0-logloss:0.35979\n",
      "[60]\tvalidation_0-logloss:0.36283\n",
      "[70]\tvalidation_0-logloss:0.36720\n",
      "[80]\tvalidation_0-logloss:0.36728\n",
      "[90]\tvalidation_0-logloss:0.36760\n",
      "[91]\tvalidation_0-logloss:0.36786\n",
      "Fold: 4 Accuracy: 0.8262370540851554\n",
      "[0]\tvalidation_0-logloss:0.59776\n",
      "[10]\tvalidation_0-logloss:0.45950\n",
      "[20]\tvalidation_0-logloss:0.45818\n",
      "[30]\tvalidation_0-logloss:0.46093\n",
      "[40]\tvalidation_0-logloss:0.46599\n",
      "[50]\tvalidation_0-logloss:0.46875\n",
      "[60]\tvalidation_0-logloss:0.47347\n",
      "[65]\tvalidation_0-logloss:0.47555\n",
      "Fold: 5 Accuracy: 0.7756041426927502\n",
      "[0]\tvalidation_0-logloss:0.58647\n",
      "[10]\tvalidation_0-logloss:0.40206\n",
      "[20]\tvalidation_0-logloss:0.39645\n",
      "[30]\tvalidation_0-logloss:0.39491\n",
      "[40]\tvalidation_0-logloss:0.39288\n",
      "[50]\tvalidation_0-logloss:0.39786\n",
      "[60]\tvalidation_0-logloss:0.39978\n",
      "[70]\tvalidation_0-logloss:0.40211\n",
      "[80]\tvalidation_0-logloss:0.40438\n",
      "[90]\tvalidation_0-logloss:0.40700\n",
      "[91]\tvalidation_0-logloss:0.40830\n",
      "Fold: 6 Accuracy: 0.807825086306099\n",
      "[0]\tvalidation_0-logloss:0.58273\n",
      "[10]\tvalidation_0-logloss:0.40275\n",
      "[20]\tvalidation_0-logloss:0.39531\n",
      "[30]\tvalidation_0-logloss:0.39844\n",
      "[40]\tvalidation_0-logloss:0.40095\n",
      "[50]\tvalidation_0-logloss:0.40225\n",
      "[60]\tvalidation_0-logloss:0.40660\n",
      "[70]\tvalidation_0-logloss:0.41160\n",
      "[71]\tvalidation_0-logloss:0.41366\n",
      "Fold: 7 Accuracy: 0.8204833141542003\n",
      "[0]\tvalidation_0-logloss:0.57903\n",
      "[10]\tvalidation_0-logloss:0.37978\n",
      "[20]\tvalidation_0-logloss:0.37809\n",
      "[30]\tvalidation_0-logloss:0.37143\n",
      "[40]\tvalidation_0-logloss:0.37811\n",
      "[50]\tvalidation_0-logloss:0.37811\n",
      "[60]\tvalidation_0-logloss:0.37724\n",
      "[70]\tvalidation_0-logloss:0.37838\n",
      "[80]\tvalidation_0-logloss:0.38089\n",
      "[81]\tvalidation_0-logloss:0.38174\n",
      "Fold: 8 Accuracy: 0.8239355581127733\n",
      "[0]\tvalidation_0-logloss:0.58386\n",
      "[10]\tvalidation_0-logloss:0.42521\n",
      "[20]\tvalidation_0-logloss:0.42582\n",
      "[30]\tvalidation_0-logloss:0.42682\n",
      "[40]\tvalidation_0-logloss:0.42710\n",
      "[50]\tvalidation_0-logloss:0.42967\n",
      "[60]\tvalidation_0-logloss:0.42848\n",
      "[70]\tvalidation_0-logloss:0.42723\n",
      "[77]\tvalidation_0-logloss:0.42716\n",
      "Fold: 9 Accuracy: 0.7974683544303798\n",
      "CPU times: user 47.6 s, sys: 149 ms, total: 47.8 s\n",
      "Wall time: 12.3 s\n"
     ]
    }
   ],
   "source": [
    "%%time\n",
    "\n",
    "n_estimators = 2373\n",
    "max_depth = 3691\n",
    "min_samples_split = 3\n",
    "min_samples_leaf = 1\n",
    "criterion = 'gini'\n",
    "\n",
    "scores  = []\n",
    "y_probs = []\n",
    "\n",
    "for fold, (trn_id, val_id) in enumerate(folds.split(trn_data[features], trn_data[target_feature])):  \n",
    "    X_train, y_train = trn_data[features].iloc[trn_id], trn_data[target_feature].iloc[trn_id]\n",
    "    X_valid, y_valid = trn_data[features].iloc[val_id], trn_data[target_feature].iloc[val_id]\n",
    "    \n",
    "    scaler = MinMaxScaler()\n",
    "    X_train = scaler.fit_transform(X_train)\n",
    "    X_valid = scaler.transform(X_valid)\n",
    "    \n",
    "    \n",
    "#     model = ExtraTreesClassifier(n_estimators = n_estimators,\n",
    "#                                  max_depth = max_depth,\n",
    "#                                  min_samples_split = min_samples_split,\n",
    "#                                  min_samples_leaf = min_samples_leaf,\n",
    "#                                  criterion = criterion,\n",
    "#                                  random_state = 69,\n",
    "#                                  n_jobs = -1)\n",
    "    \n",
    "    model = XGBClassifier()\n",
    "    model.fit(X_train, y_train, eval_set = [(X_valid, y_valid)], eval_metric=['logloss'], early_stopping_rounds = 50, verbose = 10)\n",
    "    \n",
    "    valid_pred = model.predict(X_valid)\n",
    "    valid_score = accuracy_score(y_valid, valid_pred)\n",
    "    \n",
    "    print(\"Fold:\", fold, \"Accuracy:\", valid_score)\n",
    "    scores.append(valid_score)\n",
    "    y_probs.append(model.predict_proba(tst_data[features]))"
   ]
  },
  {
   "cell_type": "code",
   "execution_count": 51,
   "id": "ba887efe",
   "metadata": {
    "execution": {
     "iopub.execute_input": "2022-02-27T05:39:56.237585Z",
     "iopub.status.busy": "2022-02-27T05:39:56.236326Z",
     "iopub.status.idle": "2022-02-27T05:39:56.243615Z",
     "shell.execute_reply": "2022-02-27T05:39:56.242910Z",
     "shell.execute_reply.started": "2022-02-27T05:38:51.015133Z"
    },
    "papermill": {
     "duration": 0.144132,
     "end_time": "2022-02-27T05:39:56.243787",
     "exception": false,
     "start_time": "2022-02-27T05:39:56.099655",
     "status": "completed"
    },
    "tags": []
   },
   "outputs": [
    {
     "name": "stdout",
     "output_type": "stream",
     "text": [
      "Mean accuracy score: 0.8097312275967885\n",
      "CPU times: user 917 µs, sys: 0 ns, total: 917 µs\n",
      "Wall time: 767 µs\n"
     ]
    }
   ],
   "source": [
    "%%time\n",
    "print(\"Mean accuracy score:\", np.array(scores).mean())"
   ]
  },
  {
   "cell_type": "code",
   "execution_count": 52,
   "id": "41e9c658",
   "metadata": {
    "execution": {
     "iopub.execute_input": "2022-02-27T05:39:56.518458Z",
     "iopub.status.busy": "2022-02-27T05:39:56.517667Z",
     "iopub.status.idle": "2022-02-27T05:39:56.522631Z",
     "shell.execute_reply": "2022-02-27T05:39:56.523396Z",
     "shell.execute_reply.started": "2022-02-27T05:38:52.727788Z"
    },
    "papermill": {
     "duration": 0.144928,
     "end_time": "2022-02-27T05:39:56.523632",
     "exception": false,
     "start_time": "2022-02-27T05:39:56.378704",
     "status": "completed"
    },
    "tags": []
   },
   "outputs": [],
   "source": [
    "y_prob = sum(y_probs) / len(y_probs)"
   ]
  },
  {
   "cell_type": "code",
   "execution_count": 53,
   "id": "c5d809e9",
   "metadata": {
    "execution": {
     "iopub.execute_input": "2022-02-27T05:39:56.795221Z",
     "iopub.status.busy": "2022-02-27T05:39:56.794496Z",
     "iopub.status.idle": "2022-02-27T05:39:56.798985Z",
     "shell.execute_reply": "2022-02-27T05:39:56.798305Z",
     "shell.execute_reply.started": "2022-02-27T05:38:53.467675Z"
    },
    "papermill": {
     "duration": 0.140496,
     "end_time": "2022-02-27T05:39:56.799138",
     "exception": false,
     "start_time": "2022-02-27T05:39:56.658642",
     "status": "completed"
    },
    "tags": []
   },
   "outputs": [
    {
     "data": {
      "text/plain": [
       "array([[0.06836235, 0.93163764],\n",
       "       [0.8815756 , 0.11842436],\n",
       "       [0.03596313, 0.96403694],\n",
       "       ...,\n",
       "       [0.06382699, 0.93617296],\n",
       "       [0.6359198 , 0.36408022],\n",
       "       [0.06836235, 0.93163764]], dtype=float32)"
      ]
     },
     "execution_count": 53,
     "metadata": {},
     "output_type": "execute_result"
    }
   ],
   "source": [
    "y_prob"
   ]
  },
  {
   "cell_type": "code",
   "execution_count": 54,
   "id": "f0342b23",
   "metadata": {
    "execution": {
     "iopub.execute_input": "2022-02-27T05:39:57.073413Z",
     "iopub.status.busy": "2022-02-27T05:39:57.072745Z",
     "iopub.status.idle": "2022-02-27T05:39:57.074260Z",
     "shell.execute_reply": "2022-02-27T05:39:57.074836Z",
     "shell.execute_reply.started": "2022-02-27T05:38:54.041633Z"
    },
    "papermill": {
     "duration": 0.141146,
     "end_time": "2022-02-27T05:39:57.075016",
     "exception": false,
     "start_time": "2022-02-27T05:39:56.933870",
     "status": "completed"
    },
    "tags": []
   },
   "outputs": [],
   "source": [
    "y_prob_inv = 1 - y_prob"
   ]
  },
  {
   "cell_type": "code",
   "execution_count": 55,
   "id": "605ff25b",
   "metadata": {
    "execution": {
     "iopub.execute_input": "2022-02-27T05:39:57.343983Z",
     "iopub.status.busy": "2022-02-27T05:39:57.343249Z",
     "iopub.status.idle": "2022-02-27T05:39:57.349660Z",
     "shell.execute_reply": "2022-02-27T05:39:57.349143Z",
     "shell.execute_reply.started": "2022-02-27T05:38:55.094200Z"
    },
    "papermill": {
     "duration": 0.143844,
     "end_time": "2022-02-27T05:39:57.349871",
     "exception": false,
     "start_time": "2022-02-27T05:39:57.206027",
     "status": "completed"
    },
    "tags": []
   },
   "outputs": [
    {
     "data": {
      "text/plain": [
       "array([[0.93163764, 0.06836236],\n",
       "       [0.11842442, 0.88157564],\n",
       "       [0.9640369 , 0.03596306],\n",
       "       ...,\n",
       "       [0.936173  , 0.06382704],\n",
       "       [0.3640802 , 0.6359198 ],\n",
       "       [0.93163764, 0.06836236]], dtype=float32)"
      ]
     },
     "execution_count": 55,
     "metadata": {},
     "output_type": "execute_result"
    }
   ],
   "source": [
    "y_prob_inv"
   ]
  },
  {
   "cell_type": "code",
   "execution_count": 56,
   "id": "ebdaa9a6",
   "metadata": {
    "execution": {
     "iopub.execute_input": "2022-02-27T05:39:57.625783Z",
     "iopub.status.busy": "2022-02-27T05:39:57.625058Z",
     "iopub.status.idle": "2022-02-27T05:39:57.631339Z",
     "shell.execute_reply": "2022-02-27T05:39:57.632000Z",
     "shell.execute_reply.started": "2022-02-27T05:38:55.982054Z"
    },
    "papermill": {
     "duration": 0.14592,
     "end_time": "2022-02-27T05:39:57.632192",
     "exception": false,
     "start_time": "2022-02-27T05:39:57.486272",
     "status": "completed"
    },
    "tags": []
   },
   "outputs": [
    {
     "data": {
      "text/plain": [
       "array([ True, False,  True, ...,  True, False,  True])"
      ]
     },
     "execution_count": 56,
     "metadata": {},
     "output_type": "execute_result"
    }
   ],
   "source": [
    "y_prob_results = np.argmax(y_prob, axis = 1)\n",
    "#y_prob_results = (y_prob_results - 1) * - 1 \n",
    "y_prob_results = y_prob_results.astype('bool')\n",
    "y_prob_results"
   ]
  },
  {
   "cell_type": "code",
   "execution_count": 57,
   "id": "28631a73",
   "metadata": {
    "execution": {
     "iopub.execute_input": "2022-02-27T05:39:57.902864Z",
     "iopub.status.busy": "2022-02-27T05:39:57.902162Z",
     "iopub.status.idle": "2022-02-27T05:39:57.915309Z",
     "shell.execute_reply": "2022-02-27T05:39:57.915863Z",
     "shell.execute_reply.started": "2022-02-27T05:38:56.641746Z"
    },
    "papermill": {
     "duration": 0.151261,
     "end_time": "2022-02-27T05:39:57.916043",
     "exception": false,
     "start_time": "2022-02-27T05:39:57.764782",
     "status": "completed"
    },
    "tags": []
   },
   "outputs": [],
   "source": [
    "sub['Transported'] = y_prob_results\n",
    "sub.to_csv('submission_cv_loop.csv', index=False)"
   ]
  },
  {
   "cell_type": "code",
   "execution_count": null,
   "id": "802aa193",
   "metadata": {
    "papermill": {
     "duration": 0.135541,
     "end_time": "2022-02-27T05:39:58.186748",
     "exception": false,
     "start_time": "2022-02-27T05:39:58.051207",
     "status": "completed"
    },
    "tags": []
   },
   "outputs": [],
   "source": []
  },
  {
   "cell_type": "code",
   "execution_count": null,
   "id": "fef0fca7",
   "metadata": {
    "papermill": {
     "duration": 0.136592,
     "end_time": "2022-02-27T05:39:58.453724",
     "exception": false,
     "start_time": "2022-02-27T05:39:58.317132",
     "status": "completed"
    },
    "tags": []
   },
   "outputs": [],
   "source": []
  },
  {
   "cell_type": "code",
   "execution_count": null,
   "id": "63bbbc09",
   "metadata": {
    "papermill": {
     "duration": 0.131554,
     "end_time": "2022-02-27T05:39:58.714270",
     "exception": false,
     "start_time": "2022-02-27T05:39:58.582716",
     "status": "completed"
    },
    "tags": []
   },
   "outputs": [],
   "source": []
  },
  {
   "cell_type": "code",
   "execution_count": null,
   "id": "354c819c",
   "metadata": {
    "papermill": {
     "duration": 0.138886,
     "end_time": "2022-02-27T05:39:58.986201",
     "exception": false,
     "start_time": "2022-02-27T05:39:58.847315",
     "status": "completed"
    },
    "tags": []
   },
   "outputs": [],
   "source": []
  }
 ],
 "metadata": {
  "kernelspec": {
   "display_name": "Python 3",
   "language": "python",
   "name": "python3"
  },
  "language_info": {
   "codemirror_mode": {
    "name": "ipython",
    "version": 3
   },
   "file_extension": ".py",
   "mimetype": "text/x-python",
   "name": "python",
   "nbconvert_exporter": "python",
   "pygments_lexer": "ipython3",
   "version": "3.7.12"
  },
  "papermill": {
   "default_parameters": {},
   "duration": 42.196609,
   "end_time": "2022-02-27T05:39:59.935777",
   "environment_variables": {},
   "exception": null,
   "input_path": "__notebook__.ipynb",
   "output_path": "__notebook__.ipynb",
   "parameters": {},
   "start_time": "2022-02-27T05:39:17.739168",
   "version": "2.3.3"
  }
 },
 "nbformat": 4,
 "nbformat_minor": 5
}
