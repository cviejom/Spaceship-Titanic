{
 "cells": [
  {
   "cell_type": "markdown",
   "id": "636ad1c6",
   "metadata": {
    "papermill": {
     "duration": 0.052045,
     "end_time": "2022-02-27T05:30:47.543301",
     "exception": false,
     "start_time": "2022-02-27T05:30:47.491256",
     "status": "completed"
    },
    "tags": []
   },
   "source": [
    "# 🌌 Spaceship My Starter Model\n",
    "\n",
    "Hello... "
   ]
  },
  {
   "cell_type": "markdown",
   "id": "d55d71d9",
   "metadata": {
    "papermill": {
     "duration": 0.047683,
     "end_time": "2022-02-27T05:30:47.639959",
     "exception": false,
     "start_time": "2022-02-27T05:30:47.592276",
     "status": "completed"
    },
    "tags": []
   },
   "source": [
    "### File and Data Field Descriptions\n",
    "\n",
    "**train.csv** - Personal records for about two-thirds (~8700) of the passengers, to be used as training data.\n",
    "* PassengerId - A unique Id for each passenger. Each Id takes the form gggg_pp where gggg indicates a group the passenger is travelling with and pp is their number within the group. People in a group are often family members, but not always.\n",
    "* HomePlanet - The planet the passenger departed from, typically their planet of permanent residence.\n",
    "* CryoSleep - Indicates whether the passenger elected to be put into suspended animation for the duration of the voyage. Passengers in cryosleep are confined to their cabins.\n",
    "* Cabin - The cabin number where the passenger is staying. Takes the form deck/num/side, where side can be either P for Port or S for Starboard.\n",
    "* Destination - The planet the passenger will be debarking to.\n",
    "* Age - The age of the passenger.\n",
    "* VIP - Whether the passenger has paid for special VIP service during the voyage.\n",
    "* RoomService, FoodCourt, ShoppingMall, Spa, VRDeck - Amount the passenger has billed at each of the Spaceship Titanic's many luxury amenities.\n",
    "* Name - The first and last names of the passenger.\n",
    "* Transported - Whether the passenger was transported to another dimension. This is the target, the column you are trying to predict.\n",
    "\n",
    "**test.csv** - Personal records for the remaining one-third (~4300) of the passengers, to be used as test data. Your task is to predict the value of Transported for the passengers in this set.\n",
    "\n",
    "**sample_submission.csv** - A submission file in the correct format.\n",
    "\n",
    "* PassengerId - Id for each passenger in the test set.\n",
    "* Transported - The target. For each passenger, predict either True or False."
   ]
  },
  {
   "cell_type": "markdown",
   "id": "1bde3afc",
   "metadata": {
    "papermill": {
     "duration": 0.047429,
     "end_time": "2022-02-27T05:30:47.736445",
     "exception": false,
     "start_time": "2022-02-27T05:30:47.689016",
     "status": "completed"
    },
    "tags": []
   },
   "source": [
    "# Loading Libraries..."
   ]
  },
  {
   "cell_type": "code",
   "execution_count": 1,
   "id": "e57f0a56",
   "metadata": {
    "_cell_guid": "b1076dfc-b9ad-4769-8c92-a6c4dae69d19",
    "_uuid": "8f2839f25d086af736a60e9eeb907d3b93b6e0e5",
    "execution": {
     "iopub.execute_input": "2022-02-27T05:30:47.860822Z",
     "iopub.status.busy": "2022-02-27T05:30:47.852915Z",
     "iopub.status.idle": "2022-02-27T05:30:47.864742Z",
     "shell.execute_reply": "2022-02-27T05:30:47.864185Z",
     "shell.execute_reply.started": "2022-02-27T05:12:06.525096Z"
    },
    "papermill": {
     "duration": 0.075955,
     "end_time": "2022-02-27T05:30:47.864978",
     "exception": false,
     "start_time": "2022-02-27T05:30:47.789023",
     "status": "completed"
    },
    "tags": []
   },
   "outputs": [
    {
     "name": "stdout",
     "output_type": "stream",
     "text": [
      "/kaggle/input/spaceship-titanic/sample_submission.csv\n",
      "/kaggle/input/spaceship-titanic/train.csv\n",
      "/kaggle/input/spaceship-titanic/test.csv\n"
     ]
    }
   ],
   "source": [
    "# This Python 3 environment comes with many helpful analytics libraries installed\n",
    "# It is defined by the kaggle/python Docker image: https://github.com/kaggle/docker-python\n",
    "# For example, here's several helpful packages to load\n",
    "\n",
    "import numpy as np # linear algebra\n",
    "import pandas as pd # data processing, CSV file I/O (e.g. pd.read_csv)\n",
    "\n",
    "# Input data files are available in the read-only \"../input/\" directory\n",
    "# For example, running this (by clicking run or pressing Shift+Enter) will list all files under the input directory\n",
    "\n",
    "import os\n",
    "for dirname, _, filenames in os.walk('/kaggle/input'):\n",
    "    for filename in filenames:\n",
    "        print(os.path.join(dirname, filename))\n",
    "\n",
    "# You can write up to 20GB to the current directory (/kaggle/working/) that gets preserved as output when you create a version using \"Save & Run All\" \n",
    "# You can also write temporary files to /kaggle/temp/, but they won't be saved outside of the current session"
   ]
  },
  {
   "cell_type": "markdown",
   "id": "57e4bebf",
   "metadata": {
    "papermill": {
     "duration": 0.048489,
     "end_time": "2022-02-27T05:30:47.971408",
     "exception": false,
     "start_time": "2022-02-27T05:30:47.922919",
     "status": "completed"
    },
    "tags": []
   },
   "source": [
    "# Seeting Notebook Parameters..."
   ]
  },
  {
   "cell_type": "code",
   "execution_count": 2,
   "id": "ae63a190",
   "metadata": {
    "execution": {
     "iopub.execute_input": "2022-02-27T05:30:48.074576Z",
     "iopub.status.busy": "2022-02-27T05:30:48.073957Z",
     "iopub.status.idle": "2022-02-27T05:30:48.076436Z",
     "shell.execute_reply": "2022-02-27T05:30:48.076923Z",
     "shell.execute_reply.started": "2022-02-27T05:12:06.535590Z"
    },
    "papermill": {
     "duration": 0.056575,
     "end_time": "2022-02-27T05:30:48.077087",
     "exception": false,
     "start_time": "2022-02-27T05:30:48.020512",
     "status": "completed"
    },
    "tags": []
   },
   "outputs": [
    {
     "name": "stdout",
     "output_type": "stream",
     "text": [
      "CPU times: user 36 µs, sys: 5 µs, total: 41 µs\n",
      "Wall time: 45.5 µs\n"
     ]
    }
   ],
   "source": [
    "%%time\n",
    "# I like to disable my Notebook Warnings.\n",
    "import warnings\n",
    "warnings.filterwarnings('ignore')"
   ]
  },
  {
   "cell_type": "code",
   "execution_count": 3,
   "id": "080d70b8",
   "metadata": {
    "execution": {
     "iopub.execute_input": "2022-02-27T05:30:48.180426Z",
     "iopub.status.busy": "2022-02-27T05:30:48.179767Z",
     "iopub.status.idle": "2022-02-27T05:30:48.184667Z",
     "shell.execute_reply": "2022-02-27T05:30:48.185199Z",
     "shell.execute_reply.started": "2022-02-27T05:12:06.551249Z"
    },
    "papermill": {
     "duration": 0.059214,
     "end_time": "2022-02-27T05:30:48.185363",
     "exception": false,
     "start_time": "2022-02-27T05:30:48.126149",
     "status": "completed"
    },
    "tags": []
   },
   "outputs": [
    {
     "name": "stdout",
     "output_type": "stream",
     "text": [
      "CPU times: user 3 µs, sys: 0 ns, total: 3 µs\n",
      "Wall time: 7.39 µs\n"
     ]
    }
   ],
   "source": [
    "%%time\n",
    "# Notebook Configuration...\n",
    "\n",
    "# Amount of data we want to load into the Model...\n",
    "DATA_ROWS = None\n",
    "# Dataframe, the amount of rows and cols to visualize...\n",
    "NROWS = 50\n",
    "NCOLS = 15\n",
    "# Main data location path...\n",
    "BASE_PATH = '...'"
   ]
  },
  {
   "cell_type": "code",
   "execution_count": 4,
   "id": "839c9ec6",
   "metadata": {
    "execution": {
     "iopub.execute_input": "2022-02-27T05:30:48.288709Z",
     "iopub.status.busy": "2022-02-27T05:30:48.288094Z",
     "iopub.status.idle": "2022-02-27T05:30:48.293375Z",
     "shell.execute_reply": "2022-02-27T05:30:48.294109Z",
     "shell.execute_reply.started": "2022-02-27T05:12:06.563493Z"
    },
    "papermill": {
     "duration": 0.058138,
     "end_time": "2022-02-27T05:30:48.294340",
     "exception": false,
     "start_time": "2022-02-27T05:30:48.236202",
     "status": "completed"
    },
    "tags": []
   },
   "outputs": [
    {
     "name": "stdout",
     "output_type": "stream",
     "text": [
      "CPU times: user 0 ns, sys: 85 µs, total: 85 µs\n",
      "Wall time: 89.4 µs\n"
     ]
    }
   ],
   "source": [
    "%%time\n",
    "# Configure notebook display settings to only use 2 decimal places, tables look nicer.\n",
    "pd.options.display.float_format = '{:,.2f}'.format\n",
    "pd.set_option('display.max_columns', NCOLS) \n",
    "pd.set_option('display.max_rows', NROWS)"
   ]
  },
  {
   "cell_type": "markdown",
   "id": "e410f671",
   "metadata": {
    "papermill": {
     "duration": 0.049436,
     "end_time": "2022-02-27T05:30:48.395777",
     "exception": false,
     "start_time": "2022-02-27T05:30:48.346341",
     "status": "completed"
    },
    "tags": []
   },
   "source": [
    "# Loading Information from CSV..."
   ]
  },
  {
   "cell_type": "code",
   "execution_count": 5,
   "id": "63ff67a1",
   "metadata": {
    "execution": {
     "iopub.execute_input": "2022-02-27T05:30:48.500445Z",
     "iopub.status.busy": "2022-02-27T05:30:48.499491Z",
     "iopub.status.idle": "2022-02-27T05:30:48.592490Z",
     "shell.execute_reply": "2022-02-27T05:30:48.593154Z",
     "shell.execute_reply.started": "2022-02-27T05:12:06.572710Z"
    },
    "papermill": {
     "duration": 0.148492,
     "end_time": "2022-02-27T05:30:48.593356",
     "exception": false,
     "start_time": "2022-02-27T05:30:48.444864",
     "status": "completed"
    },
    "tags": []
   },
   "outputs": [
    {
     "name": "stdout",
     "output_type": "stream",
     "text": [
      "CPU times: user 43.4 ms, sys: 4.23 ms, total: 47.6 ms\n",
      "Wall time: 86.1 ms\n"
     ]
    }
   ],
   "source": [
    "%%time\n",
    "trn_data = pd.read_csv('/kaggle/input/spaceship-titanic/train.csv')\n",
    "tst_data = pd.read_csv('/kaggle/input/spaceship-titanic/test.csv')\n",
    "\n",
    "sub = pd.read_csv('/kaggle/input/spaceship-titanic/sample_submission.csv')"
   ]
  },
  {
   "cell_type": "markdown",
   "id": "3b71c8b1",
   "metadata": {
    "papermill": {
     "duration": 0.049759,
     "end_time": "2022-02-27T05:30:48.693818",
     "exception": false,
     "start_time": "2022-02-27T05:30:48.644059",
     "status": "completed"
    },
    "tags": []
   },
   "source": [
    "# Exploring the Information Available..."
   ]
  },
  {
   "cell_type": "code",
   "execution_count": 6,
   "id": "88d9aa17",
   "metadata": {
    "execution": {
     "iopub.execute_input": "2022-02-27T05:30:48.796471Z",
     "iopub.status.busy": "2022-02-27T05:30:48.795886Z",
     "iopub.status.idle": "2022-02-27T05:30:48.826049Z",
     "shell.execute_reply": "2022-02-27T05:30:48.826493Z",
     "shell.execute_reply.started": "2022-02-27T05:12:06.635153Z"
    },
    "papermill": {
     "duration": 0.083113,
     "end_time": "2022-02-27T05:30:48.826651",
     "exception": false,
     "start_time": "2022-02-27T05:30:48.743538",
     "status": "completed"
    },
    "tags": []
   },
   "outputs": [
    {
     "name": "stdout",
     "output_type": "stream",
     "text": [
      "<class 'pandas.core.frame.DataFrame'>\n",
      "RangeIndex: 8693 entries, 0 to 8692\n",
      "Data columns (total 14 columns):\n",
      " #   Column        Non-Null Count  Dtype  \n",
      "---  ------        --------------  -----  \n",
      " 0   PassengerId   8693 non-null   object \n",
      " 1   HomePlanet    8492 non-null   object \n",
      " 2   CryoSleep     8476 non-null   object \n",
      " 3   Cabin         8494 non-null   object \n",
      " 4   Destination   8511 non-null   object \n",
      " 5   Age           8514 non-null   float64\n",
      " 6   VIP           8490 non-null   object \n",
      " 7   RoomService   8512 non-null   float64\n",
      " 8   FoodCourt     8510 non-null   float64\n",
      " 9   ShoppingMall  8485 non-null   float64\n",
      " 10  Spa           8510 non-null   float64\n",
      " 11  VRDeck        8505 non-null   float64\n",
      " 12  Name          8493 non-null   object \n",
      " 13  Transported   8693 non-null   bool   \n",
      "dtypes: bool(1), float64(6), object(7)\n",
      "memory usage: 891.5+ KB\n",
      "CPU times: user 14.2 ms, sys: 28 µs, total: 14.2 ms\n",
      "Wall time: 24.9 ms\n"
     ]
    }
   ],
   "source": [
    "%%time\n",
    "trn_data.info()"
   ]
  },
  {
   "cell_type": "code",
   "execution_count": 7,
   "id": "95ab639c",
   "metadata": {
    "execution": {
     "iopub.execute_input": "2022-02-27T05:30:48.934819Z",
     "iopub.status.busy": "2022-02-27T05:30:48.930650Z",
     "iopub.status.idle": "2022-02-27T05:30:48.953282Z",
     "shell.execute_reply": "2022-02-27T05:30:48.953755Z",
     "shell.execute_reply.started": "2022-02-27T05:12:06.658258Z"
    },
    "papermill": {
     "duration": 0.077574,
     "end_time": "2022-02-27T05:30:48.953967",
     "exception": false,
     "start_time": "2022-02-27T05:30:48.876393",
     "status": "completed"
    },
    "tags": []
   },
   "outputs": [
    {
     "name": "stdout",
     "output_type": "stream",
     "text": [
      "CPU times: user 108 µs, sys: 18 µs, total: 126 µs\n",
      "Wall time: 130 µs\n"
     ]
    },
    {
     "data": {
      "text/html": [
       "<div>\n",
       "<style scoped>\n",
       "    .dataframe tbody tr th:only-of-type {\n",
       "        vertical-align: middle;\n",
       "    }\n",
       "\n",
       "    .dataframe tbody tr th {\n",
       "        vertical-align: top;\n",
       "    }\n",
       "\n",
       "    .dataframe thead th {\n",
       "        text-align: right;\n",
       "    }\n",
       "</style>\n",
       "<table border=\"1\" class=\"dataframe\">\n",
       "  <thead>\n",
       "    <tr style=\"text-align: right;\">\n",
       "      <th></th>\n",
       "      <th>PassengerId</th>\n",
       "      <th>HomePlanet</th>\n",
       "      <th>CryoSleep</th>\n",
       "      <th>Cabin</th>\n",
       "      <th>Destination</th>\n",
       "      <th>Age</th>\n",
       "      <th>VIP</th>\n",
       "      <th>RoomService</th>\n",
       "      <th>FoodCourt</th>\n",
       "      <th>ShoppingMall</th>\n",
       "      <th>Spa</th>\n",
       "      <th>VRDeck</th>\n",
       "      <th>Name</th>\n",
       "      <th>Transported</th>\n",
       "    </tr>\n",
       "  </thead>\n",
       "  <tbody>\n",
       "    <tr>\n",
       "      <th>0</th>\n",
       "      <td>0001_01</td>\n",
       "      <td>Europa</td>\n",
       "      <td>False</td>\n",
       "      <td>B/0/P</td>\n",
       "      <td>TRAPPIST-1e</td>\n",
       "      <td>39.00</td>\n",
       "      <td>False</td>\n",
       "      <td>0.00</td>\n",
       "      <td>0.00</td>\n",
       "      <td>0.00</td>\n",
       "      <td>0.00</td>\n",
       "      <td>0.00</td>\n",
       "      <td>Maham Ofracculy</td>\n",
       "      <td>False</td>\n",
       "    </tr>\n",
       "    <tr>\n",
       "      <th>1</th>\n",
       "      <td>0002_01</td>\n",
       "      <td>Earth</td>\n",
       "      <td>False</td>\n",
       "      <td>F/0/S</td>\n",
       "      <td>TRAPPIST-1e</td>\n",
       "      <td>24.00</td>\n",
       "      <td>False</td>\n",
       "      <td>109.00</td>\n",
       "      <td>9.00</td>\n",
       "      <td>25.00</td>\n",
       "      <td>549.00</td>\n",
       "      <td>44.00</td>\n",
       "      <td>Juanna Vines</td>\n",
       "      <td>True</td>\n",
       "    </tr>\n",
       "    <tr>\n",
       "      <th>2</th>\n",
       "      <td>0003_01</td>\n",
       "      <td>Europa</td>\n",
       "      <td>False</td>\n",
       "      <td>A/0/S</td>\n",
       "      <td>TRAPPIST-1e</td>\n",
       "      <td>58.00</td>\n",
       "      <td>True</td>\n",
       "      <td>43.00</td>\n",
       "      <td>3,576.00</td>\n",
       "      <td>0.00</td>\n",
       "      <td>6,715.00</td>\n",
       "      <td>49.00</td>\n",
       "      <td>Altark Susent</td>\n",
       "      <td>False</td>\n",
       "    </tr>\n",
       "    <tr>\n",
       "      <th>3</th>\n",
       "      <td>0003_02</td>\n",
       "      <td>Europa</td>\n",
       "      <td>False</td>\n",
       "      <td>A/0/S</td>\n",
       "      <td>TRAPPIST-1e</td>\n",
       "      <td>33.00</td>\n",
       "      <td>False</td>\n",
       "      <td>0.00</td>\n",
       "      <td>1,283.00</td>\n",
       "      <td>371.00</td>\n",
       "      <td>3,329.00</td>\n",
       "      <td>193.00</td>\n",
       "      <td>Solam Susent</td>\n",
       "      <td>False</td>\n",
       "    </tr>\n",
       "    <tr>\n",
       "      <th>4</th>\n",
       "      <td>0004_01</td>\n",
       "      <td>Earth</td>\n",
       "      <td>False</td>\n",
       "      <td>F/1/S</td>\n",
       "      <td>TRAPPIST-1e</td>\n",
       "      <td>16.00</td>\n",
       "      <td>False</td>\n",
       "      <td>303.00</td>\n",
       "      <td>70.00</td>\n",
       "      <td>151.00</td>\n",
       "      <td>565.00</td>\n",
       "      <td>2.00</td>\n",
       "      <td>Willy Santantines</td>\n",
       "      <td>True</td>\n",
       "    </tr>\n",
       "  </tbody>\n",
       "</table>\n",
       "</div>"
      ],
      "text/plain": [
       "  PassengerId HomePlanet CryoSleep  Cabin  Destination   Age    VIP  \\\n",
       "0     0001_01     Europa     False  B/0/P  TRAPPIST-1e 39.00  False   \n",
       "1     0002_01      Earth     False  F/0/S  TRAPPIST-1e 24.00  False   \n",
       "2     0003_01     Europa     False  A/0/S  TRAPPIST-1e 58.00   True   \n",
       "3     0003_02     Europa     False  A/0/S  TRAPPIST-1e 33.00  False   \n",
       "4     0004_01      Earth     False  F/1/S  TRAPPIST-1e 16.00  False   \n",
       "\n",
       "   RoomService  FoodCourt  ShoppingMall      Spa  VRDeck               Name  \\\n",
       "0         0.00       0.00          0.00     0.00    0.00    Maham Ofracculy   \n",
       "1       109.00       9.00         25.00   549.00   44.00       Juanna Vines   \n",
       "2        43.00   3,576.00          0.00 6,715.00   49.00      Altark Susent   \n",
       "3         0.00   1,283.00        371.00 3,329.00  193.00       Solam Susent   \n",
       "4       303.00      70.00        151.00   565.00    2.00  Willy Santantines   \n",
       "\n",
       "   Transported  \n",
       "0        False  \n",
       "1         True  \n",
       "2        False  \n",
       "3        False  \n",
       "4         True  "
      ]
     },
     "execution_count": 7,
     "metadata": {},
     "output_type": "execute_result"
    }
   ],
   "source": [
    "%%time\n",
    "trn_data.head()"
   ]
  },
  {
   "cell_type": "code",
   "execution_count": 8,
   "id": "b9ca6308",
   "metadata": {
    "execution": {
     "iopub.execute_input": "2022-02-27T05:30:49.065771Z",
     "iopub.status.busy": "2022-02-27T05:30:49.065160Z",
     "iopub.status.idle": "2022-02-27T05:30:49.089164Z",
     "shell.execute_reply": "2022-02-27T05:30:49.089637Z",
     "shell.execute_reply.started": "2022-02-27T05:12:06.680384Z"
    },
    "papermill": {
     "duration": 0.084624,
     "end_time": "2022-02-27T05:30:49.089811",
     "exception": false,
     "start_time": "2022-02-27T05:30:49.005187",
     "status": "completed"
    },
    "tags": []
   },
   "outputs": [
    {
     "name": "stdout",
     "output_type": "stream",
     "text": [
      "CPU times: user 16.2 ms, sys: 1.03 ms, total: 17.2 ms\n",
      "Wall time: 18.9 ms\n"
     ]
    },
    {
     "data": {
      "text/html": [
       "<div>\n",
       "<style scoped>\n",
       "    .dataframe tbody tr th:only-of-type {\n",
       "        vertical-align: middle;\n",
       "    }\n",
       "\n",
       "    .dataframe tbody tr th {\n",
       "        vertical-align: top;\n",
       "    }\n",
       "\n",
       "    .dataframe thead th {\n",
       "        text-align: right;\n",
       "    }\n",
       "</style>\n",
       "<table border=\"1\" class=\"dataframe\">\n",
       "  <thead>\n",
       "    <tr style=\"text-align: right;\">\n",
       "      <th></th>\n",
       "      <th>Age</th>\n",
       "      <th>RoomService</th>\n",
       "      <th>FoodCourt</th>\n",
       "      <th>ShoppingMall</th>\n",
       "      <th>Spa</th>\n",
       "      <th>VRDeck</th>\n",
       "    </tr>\n",
       "  </thead>\n",
       "  <tbody>\n",
       "    <tr>\n",
       "      <th>count</th>\n",
       "      <td>8,514.00</td>\n",
       "      <td>8,512.00</td>\n",
       "      <td>8,510.00</td>\n",
       "      <td>8,485.00</td>\n",
       "      <td>8,510.00</td>\n",
       "      <td>8,505.00</td>\n",
       "    </tr>\n",
       "    <tr>\n",
       "      <th>mean</th>\n",
       "      <td>28.83</td>\n",
       "      <td>224.69</td>\n",
       "      <td>458.08</td>\n",
       "      <td>173.73</td>\n",
       "      <td>311.14</td>\n",
       "      <td>304.85</td>\n",
       "    </tr>\n",
       "    <tr>\n",
       "      <th>std</th>\n",
       "      <td>14.49</td>\n",
       "      <td>666.72</td>\n",
       "      <td>1,611.49</td>\n",
       "      <td>604.70</td>\n",
       "      <td>1,136.71</td>\n",
       "      <td>1,145.72</td>\n",
       "    </tr>\n",
       "    <tr>\n",
       "      <th>min</th>\n",
       "      <td>0.00</td>\n",
       "      <td>0.00</td>\n",
       "      <td>0.00</td>\n",
       "      <td>0.00</td>\n",
       "      <td>0.00</td>\n",
       "      <td>0.00</td>\n",
       "    </tr>\n",
       "    <tr>\n",
       "      <th>25%</th>\n",
       "      <td>19.00</td>\n",
       "      <td>0.00</td>\n",
       "      <td>0.00</td>\n",
       "      <td>0.00</td>\n",
       "      <td>0.00</td>\n",
       "      <td>0.00</td>\n",
       "    </tr>\n",
       "    <tr>\n",
       "      <th>50%</th>\n",
       "      <td>27.00</td>\n",
       "      <td>0.00</td>\n",
       "      <td>0.00</td>\n",
       "      <td>0.00</td>\n",
       "      <td>0.00</td>\n",
       "      <td>0.00</td>\n",
       "    </tr>\n",
       "    <tr>\n",
       "      <th>75%</th>\n",
       "      <td>38.00</td>\n",
       "      <td>47.00</td>\n",
       "      <td>76.00</td>\n",
       "      <td>27.00</td>\n",
       "      <td>59.00</td>\n",
       "      <td>46.00</td>\n",
       "    </tr>\n",
       "    <tr>\n",
       "      <th>max</th>\n",
       "      <td>79.00</td>\n",
       "      <td>14,327.00</td>\n",
       "      <td>29,813.00</td>\n",
       "      <td>23,492.00</td>\n",
       "      <td>22,408.00</td>\n",
       "      <td>24,133.00</td>\n",
       "    </tr>\n",
       "  </tbody>\n",
       "</table>\n",
       "</div>"
      ],
      "text/plain": [
       "           Age  RoomService  FoodCourt  ShoppingMall       Spa    VRDeck\n",
       "count 8,514.00     8,512.00   8,510.00      8,485.00  8,510.00  8,505.00\n",
       "mean     28.83       224.69     458.08        173.73    311.14    304.85\n",
       "std      14.49       666.72   1,611.49        604.70  1,136.71  1,145.72\n",
       "min       0.00         0.00       0.00          0.00      0.00      0.00\n",
       "25%      19.00         0.00       0.00          0.00      0.00      0.00\n",
       "50%      27.00         0.00       0.00          0.00      0.00      0.00\n",
       "75%      38.00        47.00      76.00         27.00     59.00     46.00\n",
       "max      79.00    14,327.00  29,813.00     23,492.00 22,408.00 24,133.00"
      ]
     },
     "execution_count": 8,
     "metadata": {},
     "output_type": "execute_result"
    }
   ],
   "source": [
    "%%time\n",
    "trn_data.describe()"
   ]
  },
  {
   "cell_type": "code",
   "execution_count": 9,
   "id": "4a4f02ae",
   "metadata": {
    "execution": {
     "iopub.execute_input": "2022-02-27T05:30:49.201478Z",
     "iopub.status.busy": "2022-02-27T05:30:49.200776Z",
     "iopub.status.idle": "2022-02-27T05:30:49.203147Z",
     "shell.execute_reply": "2022-02-27T05:30:49.203595Z",
     "shell.execute_reply.started": "2022-02-27T05:12:06.712089Z"
    },
    "papermill": {
     "duration": 0.061628,
     "end_time": "2022-02-27T05:30:49.203762",
     "exception": false,
     "start_time": "2022-02-27T05:30:49.142134",
     "status": "completed"
    },
    "tags": []
   },
   "outputs": [
    {
     "name": "stdout",
     "output_type": "stream",
     "text": [
      "CPU times: user 4 µs, sys: 1 µs, total: 5 µs\n",
      "Wall time: 7.63 µs\n"
     ]
    }
   ],
   "source": [
    "%%time\n",
    "def describe_categ(df):\n",
    "    for col in df.columns:\n",
    "        unique_samples = list(df[col].unique())\n",
    "        unique_values = df[col].nunique()\n",
    "\n",
    "        print(f' {col}: {unique_values} Unique Values,  Data Sample >> {unique_samples[:5]}')\n",
    "    print(' ...')\n",
    "    return None"
   ]
  },
  {
   "cell_type": "code",
   "execution_count": 10,
   "id": "83219aab",
   "metadata": {
    "execution": {
     "iopub.execute_input": "2022-02-27T05:30:49.318969Z",
     "iopub.status.busy": "2022-02-27T05:30:49.318265Z",
     "iopub.status.idle": "2022-02-27T05:30:49.344546Z",
     "shell.execute_reply": "2022-02-27T05:30:49.345136Z",
     "shell.execute_reply.started": "2022-02-27T05:12:06.721275Z"
    },
    "papermill": {
     "duration": 0.086658,
     "end_time": "2022-02-27T05:30:49.345305",
     "exception": false,
     "start_time": "2022-02-27T05:30:49.258647",
     "status": "completed"
    },
    "tags": []
   },
   "outputs": [
    {
     "name": "stdout",
     "output_type": "stream",
     "text": [
      " PassengerId: 8693 Unique Values,  Data Sample >> ['0001_01', '0002_01', '0003_01', '0003_02', '0004_01']\n",
      " HomePlanet: 3 Unique Values,  Data Sample >> ['Europa', 'Earth', 'Mars', nan]\n",
      " CryoSleep: 2 Unique Values,  Data Sample >> [False, True, nan]\n",
      " Cabin: 6560 Unique Values,  Data Sample >> ['B/0/P', 'F/0/S', 'A/0/S', 'F/1/S', 'F/0/P']\n",
      " Destination: 3 Unique Values,  Data Sample >> ['TRAPPIST-1e', 'PSO J318.5-22', '55 Cancri e', nan]\n",
      " Age: 80 Unique Values,  Data Sample >> [39.0, 24.0, 58.0, 33.0, 16.0]\n",
      " VIP: 2 Unique Values,  Data Sample >> [False, True, nan]\n",
      " RoomService: 1273 Unique Values,  Data Sample >> [0.0, 109.0, 43.0, 303.0, 42.0]\n",
      " FoodCourt: 1507 Unique Values,  Data Sample >> [0.0, 9.0, 3576.0, 1283.0, 70.0]\n",
      " ShoppingMall: 1115 Unique Values,  Data Sample >> [0.0, 25.0, 371.0, 151.0, 3.0]\n",
      " Spa: 1327 Unique Values,  Data Sample >> [0.0, 549.0, 6715.0, 3329.0, 565.0]\n",
      " VRDeck: 1306 Unique Values,  Data Sample >> [0.0, 44.0, 49.0, 193.0, 2.0]\n",
      " Name: 8473 Unique Values,  Data Sample >> ['Maham Ofracculy', 'Juanna Vines', 'Altark Susent', 'Solam Susent', 'Willy Santantines']\n",
      " Transported: 2 Unique Values,  Data Sample >> [False, True]\n",
      " ...\n",
      "CPU times: user 19 ms, sys: 1.99 ms, total: 21 ms\n",
      "Wall time: 23.1 ms\n"
     ]
    }
   ],
   "source": [
    "%%time\n",
    "describe_categ(trn_data)"
   ]
  },
  {
   "cell_type": "code",
   "execution_count": 11,
   "id": "8acced42",
   "metadata": {
    "execution": {
     "iopub.execute_input": "2022-02-27T05:30:49.459133Z",
     "iopub.status.busy": "2022-02-27T05:30:49.458446Z",
     "iopub.status.idle": "2022-02-27T05:30:49.475516Z",
     "shell.execute_reply": "2022-02-27T05:30:49.474977Z",
     "shell.execute_reply.started": "2022-02-27T05:12:06.761740Z"
    },
    "papermill": {
     "duration": 0.076924,
     "end_time": "2022-02-27T05:30:49.475658",
     "exception": false,
     "start_time": "2022-02-27T05:30:49.398734",
     "status": "completed"
    },
    "tags": []
   },
   "outputs": [
    {
     "name": "stdout",
     "output_type": "stream",
     "text": [
      " PassengerId: 4277 Unique Values,  Data Sample >> ['0013_01', '0018_01', '0019_01', '0021_01', '0023_01']\n",
      " HomePlanet: 3 Unique Values,  Data Sample >> ['Earth', 'Europa', 'Mars', nan]\n",
      " CryoSleep: 2 Unique Values,  Data Sample >> [True, False, nan]\n",
      " Cabin: 3265 Unique Values,  Data Sample >> ['G/3/S', 'F/4/S', 'C/0/S', 'C/1/S', 'F/5/S']\n",
      " Destination: 3 Unique Values,  Data Sample >> ['TRAPPIST-1e', '55 Cancri e', 'PSO J318.5-22', nan]\n",
      " Age: 79 Unique Values,  Data Sample >> [27.0, 19.0, 31.0, 38.0, 20.0]\n",
      " VIP: 2 Unique Values,  Data Sample >> [False, nan, True]\n",
      " RoomService: 842 Unique Values,  Data Sample >> [0.0, 10.0, 339.0, 932.0, 2.0]\n",
      " FoodCourt: 902 Unique Values,  Data Sample >> [0.0, 9.0, 6652.0, 1615.0, nan]\n",
      " ShoppingMall: 715 Unique Values,  Data Sample >> [0.0, 635.0, 263.0, 136.0, nan]\n",
      " Spa: 833 Unique Values,  Data Sample >> [0.0, 2823.0, 181.0, 113.0, 237.0]\n",
      " VRDeck: 796 Unique Values,  Data Sample >> [0.0, 585.0, 60.0, 1010.0, 224.0]\n",
      " Name: 4176 Unique Values,  Data Sample >> ['Nelly Carsoning', 'Lerome Peckers', 'Sabih Unhearfus', 'Meratz Caltilter', 'Brence Harperez']\n",
      " ...\n",
      "CPU times: user 14.3 ms, sys: 46 µs, total: 14.3 ms\n",
      "Wall time: 13.6 ms\n"
     ]
    }
   ],
   "source": [
    "%%time\n",
    "describe_categ(tst_data)"
   ]
  },
  {
   "cell_type": "code",
   "execution_count": 12,
   "id": "79357f36",
   "metadata": {
    "execution": {
     "iopub.execute_input": "2022-02-27T05:30:49.589354Z",
     "iopub.status.busy": "2022-02-27T05:30:49.585500Z",
     "iopub.status.idle": "2022-02-27T05:30:49.594729Z",
     "shell.execute_reply": "2022-02-27T05:30:49.595186Z",
     "shell.execute_reply.started": "2022-02-27T05:12:06.786011Z"
    },
    "papermill": {
     "duration": 0.066306,
     "end_time": "2022-02-27T05:30:49.595345",
     "exception": false,
     "start_time": "2022-02-27T05:30:49.529039",
     "status": "completed"
    },
    "tags": []
   },
   "outputs": [
    {
     "data": {
      "text/plain": [
       "PassengerId       0\n",
       "HomePlanet      201\n",
       "CryoSleep       217\n",
       "Cabin           199\n",
       "Destination     182\n",
       "Age             179\n",
       "VIP             203\n",
       "RoomService     181\n",
       "FoodCourt       183\n",
       "ShoppingMall    208\n",
       "Spa             183\n",
       "VRDeck          188\n",
       "Name            200\n",
       "Transported       0\n",
       "dtype: int64"
      ]
     },
     "execution_count": 12,
     "metadata": {},
     "output_type": "execute_result"
    }
   ],
   "source": [
    "trn_data.isnull().sum()"
   ]
  },
  {
   "cell_type": "code",
   "execution_count": 13,
   "id": "e583c48c",
   "metadata": {
    "execution": {
     "iopub.execute_input": "2022-02-27T05:30:49.718662Z",
     "iopub.status.busy": "2022-02-27T05:30:49.718039Z",
     "iopub.status.idle": "2022-02-27T05:30:49.722143Z",
     "shell.execute_reply": "2022-02-27T05:30:49.721626Z",
     "shell.execute_reply.started": "2022-02-27T05:12:06.801670Z"
    },
    "papermill": {
     "duration": 0.073859,
     "end_time": "2022-02-27T05:30:49.722297",
     "exception": false,
     "start_time": "2022-02-27T05:30:49.648438",
     "status": "completed"
    },
    "tags": []
   },
   "outputs": [
    {
     "data": {
      "text/html": [
       "<div>\n",
       "<style scoped>\n",
       "    .dataframe tbody tr th:only-of-type {\n",
       "        vertical-align: middle;\n",
       "    }\n",
       "\n",
       "    .dataframe tbody tr th {\n",
       "        vertical-align: top;\n",
       "    }\n",
       "\n",
       "    .dataframe thead th {\n",
       "        text-align: right;\n",
       "    }\n",
       "</style>\n",
       "<table border=\"1\" class=\"dataframe\">\n",
       "  <thead>\n",
       "    <tr style=\"text-align: right;\">\n",
       "      <th></th>\n",
       "      <th>PassengerId</th>\n",
       "      <th>HomePlanet</th>\n",
       "      <th>CryoSleep</th>\n",
       "      <th>Cabin</th>\n",
       "      <th>Destination</th>\n",
       "      <th>Age</th>\n",
       "      <th>VIP</th>\n",
       "      <th>RoomService</th>\n",
       "      <th>FoodCourt</th>\n",
       "      <th>ShoppingMall</th>\n",
       "      <th>Spa</th>\n",
       "      <th>VRDeck</th>\n",
       "      <th>Name</th>\n",
       "    </tr>\n",
       "  </thead>\n",
       "  <tbody>\n",
       "    <tr>\n",
       "      <th>0</th>\n",
       "      <td>0013_01</td>\n",
       "      <td>Earth</td>\n",
       "      <td>True</td>\n",
       "      <td>G/3/S</td>\n",
       "      <td>TRAPPIST-1e</td>\n",
       "      <td>27.00</td>\n",
       "      <td>False</td>\n",
       "      <td>0.00</td>\n",
       "      <td>0.00</td>\n",
       "      <td>0.00</td>\n",
       "      <td>0.00</td>\n",
       "      <td>0.00</td>\n",
       "      <td>Nelly Carsoning</td>\n",
       "    </tr>\n",
       "    <tr>\n",
       "      <th>1</th>\n",
       "      <td>0018_01</td>\n",
       "      <td>Earth</td>\n",
       "      <td>False</td>\n",
       "      <td>F/4/S</td>\n",
       "      <td>TRAPPIST-1e</td>\n",
       "      <td>19.00</td>\n",
       "      <td>False</td>\n",
       "      <td>0.00</td>\n",
       "      <td>9.00</td>\n",
       "      <td>0.00</td>\n",
       "      <td>2,823.00</td>\n",
       "      <td>0.00</td>\n",
       "      <td>Lerome Peckers</td>\n",
       "    </tr>\n",
       "    <tr>\n",
       "      <th>2</th>\n",
       "      <td>0019_01</td>\n",
       "      <td>Europa</td>\n",
       "      <td>True</td>\n",
       "      <td>C/0/S</td>\n",
       "      <td>55 Cancri e</td>\n",
       "      <td>31.00</td>\n",
       "      <td>False</td>\n",
       "      <td>0.00</td>\n",
       "      <td>0.00</td>\n",
       "      <td>0.00</td>\n",
       "      <td>0.00</td>\n",
       "      <td>0.00</td>\n",
       "      <td>Sabih Unhearfus</td>\n",
       "    </tr>\n",
       "    <tr>\n",
       "      <th>3</th>\n",
       "      <td>0021_01</td>\n",
       "      <td>Europa</td>\n",
       "      <td>False</td>\n",
       "      <td>C/1/S</td>\n",
       "      <td>TRAPPIST-1e</td>\n",
       "      <td>38.00</td>\n",
       "      <td>False</td>\n",
       "      <td>0.00</td>\n",
       "      <td>6,652.00</td>\n",
       "      <td>0.00</td>\n",
       "      <td>181.00</td>\n",
       "      <td>585.00</td>\n",
       "      <td>Meratz Caltilter</td>\n",
       "    </tr>\n",
       "    <tr>\n",
       "      <th>4</th>\n",
       "      <td>0023_01</td>\n",
       "      <td>Earth</td>\n",
       "      <td>False</td>\n",
       "      <td>F/5/S</td>\n",
       "      <td>TRAPPIST-1e</td>\n",
       "      <td>20.00</td>\n",
       "      <td>False</td>\n",
       "      <td>10.00</td>\n",
       "      <td>0.00</td>\n",
       "      <td>635.00</td>\n",
       "      <td>0.00</td>\n",
       "      <td>0.00</td>\n",
       "      <td>Brence Harperez</td>\n",
       "    </tr>\n",
       "  </tbody>\n",
       "</table>\n",
       "</div>"
      ],
      "text/plain": [
       "  PassengerId HomePlanet CryoSleep  Cabin  Destination   Age    VIP  \\\n",
       "0     0013_01      Earth      True  G/3/S  TRAPPIST-1e 27.00  False   \n",
       "1     0018_01      Earth     False  F/4/S  TRAPPIST-1e 19.00  False   \n",
       "2     0019_01     Europa      True  C/0/S  55 Cancri e 31.00  False   \n",
       "3     0021_01     Europa     False  C/1/S  TRAPPIST-1e 38.00  False   \n",
       "4     0023_01      Earth     False  F/5/S  TRAPPIST-1e 20.00  False   \n",
       "\n",
       "   RoomService  FoodCourt  ShoppingMall      Spa  VRDeck              Name  \n",
       "0         0.00       0.00          0.00     0.00    0.00   Nelly Carsoning  \n",
       "1         0.00       9.00          0.00 2,823.00    0.00    Lerome Peckers  \n",
       "2         0.00       0.00          0.00     0.00    0.00   Sabih Unhearfus  \n",
       "3         0.00   6,652.00          0.00   181.00  585.00  Meratz Caltilter  \n",
       "4        10.00       0.00        635.00     0.00    0.00   Brence Harperez  "
      ]
     },
     "execution_count": 13,
     "metadata": {},
     "output_type": "execute_result"
    }
   ],
   "source": [
    "tst_data.head()"
   ]
  },
  {
   "cell_type": "code",
   "execution_count": 14,
   "id": "e4050a13",
   "metadata": {
    "execution": {
     "iopub.execute_input": "2022-02-27T05:30:49.833941Z",
     "iopub.status.busy": "2022-02-27T05:30:49.832969Z",
     "iopub.status.idle": "2022-02-27T05:30:49.842391Z",
     "shell.execute_reply": "2022-02-27T05:30:49.842888Z",
     "shell.execute_reply.started": "2022-02-27T05:12:06.821553Z"
    },
    "papermill": {
     "duration": 0.066425,
     "end_time": "2022-02-27T05:30:49.843061",
     "exception": false,
     "start_time": "2022-02-27T05:30:49.776636",
     "status": "completed"
    },
    "tags": []
   },
   "outputs": [
    {
     "data": {
      "text/plain": [
       "PassengerId       0\n",
       "HomePlanet       87\n",
       "CryoSleep        93\n",
       "Cabin           100\n",
       "Destination      92\n",
       "Age              91\n",
       "VIP              93\n",
       "RoomService      82\n",
       "FoodCourt       106\n",
       "ShoppingMall     98\n",
       "Spa             101\n",
       "VRDeck           80\n",
       "Name             94\n",
       "dtype: int64"
      ]
     },
     "execution_count": 14,
     "metadata": {},
     "output_type": "execute_result"
    }
   ],
   "source": [
    "tst_data.isnull().sum()"
   ]
  },
  {
   "cell_type": "code",
   "execution_count": 15,
   "id": "8530ba98",
   "metadata": {
    "execution": {
     "iopub.execute_input": "2022-02-27T05:30:49.956926Z",
     "iopub.status.busy": "2022-02-27T05:30:49.956238Z",
     "iopub.status.idle": "2022-02-27T05:30:49.963582Z",
     "shell.execute_reply": "2022-02-27T05:30:49.964180Z",
     "shell.execute_reply.started": "2022-02-27T05:12:06.835249Z"
    },
    "papermill": {
     "duration": 0.066946,
     "end_time": "2022-02-27T05:30:49.964354",
     "exception": false,
     "start_time": "2022-02-27T05:30:49.897408",
     "status": "completed"
    },
    "tags": []
   },
   "outputs": [
    {
     "data": {
      "text/html": [
       "<div>\n",
       "<style scoped>\n",
       "    .dataframe tbody tr th:only-of-type {\n",
       "        vertical-align: middle;\n",
       "    }\n",
       "\n",
       "    .dataframe tbody tr th {\n",
       "        vertical-align: top;\n",
       "    }\n",
       "\n",
       "    .dataframe thead th {\n",
       "        text-align: right;\n",
       "    }\n",
       "</style>\n",
       "<table border=\"1\" class=\"dataframe\">\n",
       "  <thead>\n",
       "    <tr style=\"text-align: right;\">\n",
       "      <th></th>\n",
       "      <th>PassengerId</th>\n",
       "      <th>Transported</th>\n",
       "    </tr>\n",
       "  </thead>\n",
       "  <tbody>\n",
       "    <tr>\n",
       "      <th>0</th>\n",
       "      <td>0013_01</td>\n",
       "      <td>False</td>\n",
       "    </tr>\n",
       "    <tr>\n",
       "      <th>1</th>\n",
       "      <td>0018_01</td>\n",
       "      <td>False</td>\n",
       "    </tr>\n",
       "    <tr>\n",
       "      <th>2</th>\n",
       "      <td>0019_01</td>\n",
       "      <td>False</td>\n",
       "    </tr>\n",
       "    <tr>\n",
       "      <th>3</th>\n",
       "      <td>0021_01</td>\n",
       "      <td>False</td>\n",
       "    </tr>\n",
       "    <tr>\n",
       "      <th>4</th>\n",
       "      <td>0023_01</td>\n",
       "      <td>False</td>\n",
       "    </tr>\n",
       "  </tbody>\n",
       "</table>\n",
       "</div>"
      ],
      "text/plain": [
       "  PassengerId  Transported\n",
       "0     0013_01        False\n",
       "1     0018_01        False\n",
       "2     0019_01        False\n",
       "3     0021_01        False\n",
       "4     0023_01        False"
      ]
     },
     "execution_count": 15,
     "metadata": {},
     "output_type": "execute_result"
    }
   ],
   "source": [
    "sub.head()"
   ]
  },
  {
   "cell_type": "markdown",
   "id": "f08b61b4",
   "metadata": {
    "papermill": {
     "duration": 0.055348,
     "end_time": "2022-02-27T05:30:50.074511",
     "exception": false,
     "start_time": "2022-02-27T05:30:50.019163",
     "status": "completed"
    },
    "tags": []
   },
   "source": [
    "# Exploring the Target Variable..."
   ]
  },
  {
   "cell_type": "code",
   "execution_count": 16,
   "id": "d33533fd",
   "metadata": {
    "execution": {
     "iopub.execute_input": "2022-02-27T05:30:50.187391Z",
     "iopub.status.busy": "2022-02-27T05:30:50.186721Z",
     "iopub.status.idle": "2022-02-27T05:30:50.194920Z",
     "shell.execute_reply": "2022-02-27T05:30:50.194004Z",
     "shell.execute_reply.started": "2022-02-27T05:12:06.845703Z"
    },
    "papermill": {
     "duration": 0.066475,
     "end_time": "2022-02-27T05:30:50.195173",
     "exception": false,
     "start_time": "2022-02-27T05:30:50.128698",
     "status": "completed"
    },
    "tags": []
   },
   "outputs": [
    {
     "name": "stdout",
     "output_type": "stream",
     "text": [
      "CPU times: user 5 µs, sys: 1 µs, total: 6 µs\n",
      "Wall time: 9.78 µs\n"
     ]
    }
   ],
   "source": [
    "%%time\n",
    "def analyze_categ_target(df, target = 'Transported'):\n",
    "    \n",
    "    transported = df[df[target] == True].shape[0]\n",
    "    not_transported = df[df[target] == False].shape[0]\n",
    "    total = transported + not_transported\n",
    "    \n",
    "    print(f'Transported     : {transported / total:.2f} %')\n",
    "    print(f'Not Transported : {not_transported / total:.2f} %')\n",
    "    print(f'Total Passengers: {total}')\n",
    "    print('...')"
   ]
  },
  {
   "cell_type": "code",
   "execution_count": 17,
   "id": "67a80904",
   "metadata": {
    "execution": {
     "iopub.execute_input": "2022-02-27T05:30:50.310115Z",
     "iopub.status.busy": "2022-02-27T05:30:50.309418Z",
     "iopub.status.idle": "2022-02-27T05:30:50.321749Z",
     "shell.execute_reply": "2022-02-27T05:30:50.322599Z",
     "shell.execute_reply.started": "2022-02-27T05:12:06.854329Z"
    },
    "papermill": {
     "duration": 0.071447,
     "end_time": "2022-02-27T05:30:50.322935",
     "exception": false,
     "start_time": "2022-02-27T05:30:50.251488",
     "status": "completed"
    },
    "tags": []
   },
   "outputs": [
    {
     "name": "stdout",
     "output_type": "stream",
     "text": [
      "Transported     : 0.50 %\n",
      "Not Transported : 0.50 %\n",
      "Total Passengers: 8693\n",
      "...\n",
      "CPU times: user 3.8 ms, sys: 131 µs, total: 3.93 ms\n",
      "Wall time: 6.07 ms\n"
     ]
    }
   ],
   "source": [
    "%%time\n",
    "analyze_categ_target(trn_data)"
   ]
  },
  {
   "cell_type": "code",
   "execution_count": 18,
   "id": "2512a581",
   "metadata": {
    "execution": {
     "iopub.execute_input": "2022-02-27T05:30:50.436151Z",
     "iopub.status.busy": "2022-02-27T05:30:50.435535Z",
     "iopub.status.idle": "2022-02-27T05:30:50.444022Z",
     "shell.execute_reply": "2022-02-27T05:30:50.444570Z",
     "shell.execute_reply.started": "2022-02-27T05:12:06.868252Z"
    },
    "papermill": {
     "duration": 0.066123,
     "end_time": "2022-02-27T05:30:50.444732",
     "exception": false,
     "start_time": "2022-02-27T05:30:50.378609",
     "status": "completed"
    },
    "tags": []
   },
   "outputs": [
    {
     "name": "stdout",
     "output_type": "stream",
     "text": [
      "Overlapped Passengers: 0\n",
      "CPU times: user 3.47 ms, sys: 0 ns, total: 3.47 ms\n",
      "Wall time: 3.48 ms\n"
     ]
    }
   ],
   "source": [
    "%%time\n",
    "trn_passenger_ids = set(trn_data['PassengerId'].unique())\n",
    "tst_passenger_ids = set(tst_data['PassengerId'].unique())\n",
    "intersection = trn_passenger_ids.intersection(tst_passenger_ids)\n",
    "print('Overlapped Passengers:', len(intersection))"
   ]
  },
  {
   "cell_type": "markdown",
   "id": "20e29818",
   "metadata": {
    "papermill": {
     "duration": 0.05565,
     "end_time": "2022-02-27T05:30:50.555168",
     "exception": false,
     "start_time": "2022-02-27T05:30:50.499518",
     "status": "completed"
    },
    "tags": []
   },
   "source": [
    "# Feature Engineering"
   ]
  },
  {
   "cell_type": "code",
   "execution_count": 19,
   "id": "96d72297",
   "metadata": {
    "execution": {
     "iopub.execute_input": "2022-02-27T05:30:50.669131Z",
     "iopub.status.busy": "2022-02-27T05:30:50.668436Z",
     "iopub.status.idle": "2022-02-27T05:30:50.673963Z",
     "shell.execute_reply": "2022-02-27T05:30:50.674420Z",
     "shell.execute_reply.started": "2022-02-27T05:12:06.880088Z"
    },
    "papermill": {
     "duration": 0.063853,
     "end_time": "2022-02-27T05:30:50.674591",
     "exception": false,
     "start_time": "2022-02-27T05:30:50.610738",
     "status": "completed"
    },
    "tags": []
   },
   "outputs": [],
   "source": [
    "def fill_missing(df):\n",
    "    '''\n",
    "    \n",
    "    '''\n",
    "    \n",
    "    numerics = ['int16', 'int32', 'int64', 'float16', 'float32', 'float64']\n",
    "    numeric_tmp = df.select_dtypes(include = numerics)\n",
    "    categ_tmp = df.select_dtypes(exclude = numerics)\n",
    "\n",
    "    for col in numeric_tmp.columns:\n",
    "        print(col)\n",
    "        df[col] = df[col].fillna(value = df[col].mean())\n",
    "        \n",
    "    for col in categ_tmp.columns:\n",
    "        print(col)\n",
    "        df[col] = df[col].fillna(value = df[col].mode()[0])\n",
    "        \n",
    "    print('...')\n",
    "    \n",
    "    return df"
   ]
  },
  {
   "cell_type": "code",
   "execution_count": 20,
   "id": "903e43ab",
   "metadata": {
    "execution": {
     "iopub.execute_input": "2022-02-27T05:30:50.789548Z",
     "iopub.status.busy": "2022-02-27T05:30:50.788969Z",
     "iopub.status.idle": "2022-02-27T05:30:50.851951Z",
     "shell.execute_reply": "2022-02-27T05:30:50.852774Z",
     "shell.execute_reply.started": "2022-02-27T05:12:06.889453Z"
    },
    "papermill": {
     "duration": 0.121952,
     "end_time": "2022-02-27T05:30:50.853072",
     "exception": false,
     "start_time": "2022-02-27T05:30:50.731120",
     "status": "completed"
    },
    "tags": []
   },
   "outputs": [
    {
     "name": "stdout",
     "output_type": "stream",
     "text": [
      "Age\n",
      "RoomService\n",
      "FoodCourt\n",
      "ShoppingMall\n",
      "Spa\n",
      "VRDeck\n",
      "PassengerId\n",
      "HomePlanet\n",
      "CryoSleep\n",
      "Cabin\n",
      "Destination\n",
      "VIP\n",
      "Name\n",
      "Transported\n",
      "...\n",
      "Age\n",
      "RoomService\n",
      "FoodCourt\n",
      "ShoppingMall\n",
      "Spa\n",
      "VRDeck\n",
      "PassengerId\n",
      "HomePlanet\n",
      "CryoSleep\n",
      "Cabin\n",
      "Destination\n",
      "VIP\n",
      "Name\n",
      "...\n"
     ]
    }
   ],
   "source": [
    "trn_data =  fill_missing(trn_data)\n",
    "tst_data =  fill_missing(tst_data)"
   ]
  },
  {
   "cell_type": "code",
   "execution_count": 21,
   "id": "7c2edebb",
   "metadata": {
    "execution": {
     "iopub.execute_input": "2022-02-27T05:30:50.970907Z",
     "iopub.status.busy": "2022-02-27T05:30:50.969993Z",
     "iopub.status.idle": "2022-02-27T05:30:50.973589Z",
     "shell.execute_reply": "2022-02-27T05:30:50.974288Z",
     "shell.execute_reply.started": "2022-02-27T05:12:06.975807Z"
    },
    "papermill": {
     "duration": 0.064846,
     "end_time": "2022-02-27T05:30:50.974472",
     "exception": false,
     "start_time": "2022-02-27T05:30:50.909626",
     "status": "completed"
    },
    "tags": []
   },
   "outputs": [
    {
     "name": "stdout",
     "output_type": "stream",
     "text": [
      "CPU times: user 3 µs, sys: 1 µs, total: 4 µs\n",
      "Wall time: 7.39 µs\n"
     ]
    }
   ],
   "source": [
    "%%time\n",
    "def total_billed(df):\n",
    "    '''\n",
    "    Calculates total amount billed in the trip to the passenger... \n",
    "    \n",
    "    '''\n",
    "    \n",
    "    df['Total_Billed'] = df['RoomService'] + df['FoodCourt'] + df['ShoppingMall'] + df['Spa'] + df['VRDeck']\n",
    "    return df"
   ]
  },
  {
   "cell_type": "code",
   "execution_count": 22,
   "id": "bab969c9",
   "metadata": {
    "execution": {
     "iopub.execute_input": "2022-02-27T05:30:51.090284Z",
     "iopub.status.busy": "2022-02-27T05:30:51.089652Z",
     "iopub.status.idle": "2022-02-27T05:30:51.098373Z",
     "shell.execute_reply": "2022-02-27T05:30:51.097822Z",
     "shell.execute_reply.started": "2022-02-27T05:12:06.983322Z"
    },
    "papermill": {
     "duration": 0.068147,
     "end_time": "2022-02-27T05:30:51.098500",
     "exception": false,
     "start_time": "2022-02-27T05:30:51.030353",
     "status": "completed"
    },
    "tags": []
   },
   "outputs": [
    {
     "name": "stdout",
     "output_type": "stream",
     "text": [
      "CPU times: user 2.9 ms, sys: 0 ns, total: 2.9 ms\n",
      "Wall time: 2.91 ms\n"
     ]
    }
   ],
   "source": [
    "%%time\n",
    "trn_data = total_billed(trn_data)\n",
    "tst_data = total_billed(tst_data)"
   ]
  },
  {
   "cell_type": "code",
   "execution_count": 23,
   "id": "c6e83751",
   "metadata": {
    "execution": {
     "iopub.execute_input": "2022-02-27T05:30:51.214849Z",
     "iopub.status.busy": "2022-02-27T05:30:51.214254Z",
     "iopub.status.idle": "2022-02-27T05:30:51.218721Z",
     "shell.execute_reply": "2022-02-27T05:30:51.219213Z",
     "shell.execute_reply.started": "2022-02-27T05:12:06.999245Z"
    },
    "papermill": {
     "duration": 0.065115,
     "end_time": "2022-02-27T05:30:51.219366",
     "exception": false,
     "start_time": "2022-02-27T05:30:51.154251",
     "status": "completed"
    },
    "tags": []
   },
   "outputs": [],
   "source": [
    "def name_ext(df):\n",
    "    '''\n",
    "    '''\n",
    "    df['FirstName'] = df['Name'].str.split(' ', expand=True)[0]\n",
    "    df['FamilyName'] = df['Name'].str.split(' ', expand=True)[1]\n",
    "    df.drop(columns = ['Name'], inplace = True)\n",
    "    return df"
   ]
  },
  {
   "cell_type": "code",
   "execution_count": 24,
   "id": "13cf31e8",
   "metadata": {
    "execution": {
     "iopub.execute_input": "2022-02-27T05:30:51.336760Z",
     "iopub.status.busy": "2022-02-27T05:30:51.336140Z",
     "iopub.status.idle": "2022-02-27T05:30:51.480577Z",
     "shell.execute_reply": "2022-02-27T05:30:51.481229Z",
     "shell.execute_reply.started": "2022-02-27T05:12:07.008570Z"
    },
    "papermill": {
     "duration": 0.206336,
     "end_time": "2022-02-27T05:30:51.481404",
     "exception": false,
     "start_time": "2022-02-27T05:30:51.275068",
     "status": "completed"
    },
    "tags": []
   },
   "outputs": [
    {
     "name": "stdout",
     "output_type": "stream",
     "text": [
      "CPU times: user 139 ms, sys: 2.96 ms, total: 142 ms\n",
      "Wall time: 142 ms\n"
     ]
    }
   ],
   "source": [
    "%%time\n",
    "trn_data = name_ext(trn_data)\n",
    "tst_data = name_ext(tst_data)"
   ]
  },
  {
   "cell_type": "code",
   "execution_count": 25,
   "id": "e3446a99",
   "metadata": {
    "execution": {
     "iopub.execute_input": "2022-02-27T05:30:51.602176Z",
     "iopub.status.busy": "2022-02-27T05:30:51.601265Z",
     "iopub.status.idle": "2022-02-27T05:30:51.603989Z",
     "shell.execute_reply": "2022-02-27T05:30:51.604423Z",
     "shell.execute_reply.started": "2022-02-27T05:12:07.075826Z"
    },
    "papermill": {
     "duration": 0.066132,
     "end_time": "2022-02-27T05:30:51.604591",
     "exception": false,
     "start_time": "2022-02-27T05:30:51.538459",
     "status": "completed"
    },
    "tags": []
   },
   "outputs": [],
   "source": [
    "def cabin_separation(df):\n",
    "    '''\n",
    "    '''\n",
    "    df['CabinDeck'] = df['Cabin'].str.split('/', expand=True)[0]\n",
    "    df['CabinNum'] = df['Cabin'].str.split('/', expand=True)[1]\n",
    "    df['CabinSide'] = df['Cabin'].str.split('/', expand=True)[2]\n",
    "    df.drop(columns = ['Cabin'], inplace = True)\n",
    "    return df"
   ]
  },
  {
   "cell_type": "code",
   "execution_count": 26,
   "id": "897af00a",
   "metadata": {
    "execution": {
     "iopub.execute_input": "2022-02-27T05:30:51.720462Z",
     "iopub.status.busy": "2022-02-27T05:30:51.719876Z",
     "iopub.status.idle": "2022-02-27T05:30:51.779247Z",
     "shell.execute_reply": "2022-02-27T05:30:51.778497Z",
     "shell.execute_reply.started": "2022-02-27T05:12:07.083624Z"
    },
    "papermill": {
     "duration": 0.118395,
     "end_time": "2022-02-27T05:30:51.779430",
     "exception": false,
     "start_time": "2022-02-27T05:30:51.661035",
     "status": "completed"
    },
    "tags": []
   },
   "outputs": [
    {
     "name": "stdout",
     "output_type": "stream",
     "text": [
      "CPU times: user 51.3 ms, sys: 1.87 ms, total: 53.1 ms\n",
      "Wall time: 53.2 ms\n"
     ]
    }
   ],
   "source": [
    "%%time\n",
    "trn_data = cabin_separation(trn_data)\n",
    "tst_data = cabin_separation(tst_data)"
   ]
  },
  {
   "cell_type": "code",
   "execution_count": 27,
   "id": "6cf54fb0",
   "metadata": {
    "execution": {
     "iopub.execute_input": "2022-02-27T05:30:51.898337Z",
     "iopub.status.busy": "2022-02-27T05:30:51.897709Z",
     "iopub.status.idle": "2022-02-27T05:30:51.900881Z",
     "shell.execute_reply": "2022-02-27T05:30:51.901347Z",
     "shell.execute_reply.started": "2022-02-27T05:12:07.424967Z"
    },
    "papermill": {
     "duration": 0.063138,
     "end_time": "2022-02-27T05:30:51.901501",
     "exception": false,
     "start_time": "2022-02-27T05:30:51.838363",
     "status": "completed"
    },
    "tags": []
   },
   "outputs": [],
   "source": [
    "def route(df):\n",
    "    '''\n",
    "    \n",
    "    '''\n",
    "    df['Route'] = df['HomePlanet'] + df['Destination']\n",
    "    return df"
   ]
  },
  {
   "cell_type": "code",
   "execution_count": 28,
   "id": "49a05400",
   "metadata": {
    "execution": {
     "iopub.execute_input": "2022-02-27T05:30:52.018153Z",
     "iopub.status.busy": "2022-02-27T05:30:52.017528Z",
     "iopub.status.idle": "2022-02-27T05:30:52.025770Z",
     "shell.execute_reply": "2022-02-27T05:30:52.025164Z",
     "shell.execute_reply.started": "2022-02-27T05:12:07.430241Z"
    },
    "papermill": {
     "duration": 0.067156,
     "end_time": "2022-02-27T05:30:52.025927",
     "exception": false,
     "start_time": "2022-02-27T05:30:51.958771",
     "status": "completed"
    },
    "tags": []
   },
   "outputs": [
    {
     "name": "stdout",
     "output_type": "stream",
     "text": [
      "CPU times: user 2.74 ms, sys: 0 ns, total: 2.74 ms\n",
      "Wall time: 2.76 ms\n"
     ]
    }
   ],
   "source": [
    "%%time\n",
    "trn_data = route(trn_data)\n",
    "tst_data = route(tst_data)"
   ]
  },
  {
   "cell_type": "markdown",
   "id": "c1ba3176",
   "metadata": {
    "papermill": {
     "duration": 0.056846,
     "end_time": "2022-02-27T05:30:52.142153",
     "exception": false,
     "start_time": "2022-02-27T05:30:52.085307",
     "status": "completed"
    },
    "tags": []
   },
   "source": [
    "# Pre-Processing for Training"
   ]
  },
  {
   "cell_type": "code",
   "execution_count": 29,
   "id": "93d24b57",
   "metadata": {
    "execution": {
     "iopub.execute_input": "2022-02-27T05:30:52.260875Z",
     "iopub.status.busy": "2022-02-27T05:30:52.260210Z",
     "iopub.status.idle": "2022-02-27T05:30:52.265860Z",
     "shell.execute_reply": "2022-02-27T05:30:52.266399Z",
     "shell.execute_reply.started": "2022-02-27T05:12:07.445195Z"
    },
    "papermill": {
     "duration": 0.067053,
     "end_time": "2022-02-27T05:30:52.266574",
     "exception": false,
     "start_time": "2022-02-27T05:30:52.199521",
     "status": "completed"
    },
    "tags": []
   },
   "outputs": [
    {
     "name": "stdout",
     "output_type": "stream",
     "text": [
      "CPU times: user 4 µs, sys: 1 µs, total: 5 µs\n",
      "Wall time: 8.34 µs\n"
     ]
    }
   ],
   "source": [
    "%%time\n",
    "numerical_features = ['Age', 'RoomService', 'FoodCourt', 'ShoppingMall', 'Spa', 'VRDeck', 'total_billed']\n",
    "\n",
    "categorical_features = [\n",
    "                        #'PassengerId',\n",
    "                        'HomePlanet',\n",
    "                        'CryoSleep',\n",
    "                        'CabinDeck',\n",
    "                        'CabinNum',\n",
    "                        'CabinSide',\n",
    "                        'Destination',\n",
    "                        'VIP',\n",
    "                        'FirstName',\n",
    "                        'FamilyName',\n",
    "                        'Route',\n",
    "                        ]\n",
    "\n",
    "target_feature = 'Transported'"
   ]
  },
  {
   "cell_type": "code",
   "execution_count": 30,
   "id": "e10c6f4a",
   "metadata": {
    "execution": {
     "iopub.execute_input": "2022-02-27T05:30:52.384840Z",
     "iopub.status.busy": "2022-02-27T05:30:52.384164Z",
     "iopub.status.idle": "2022-02-27T05:30:53.354343Z",
     "shell.execute_reply": "2022-02-27T05:30:53.353776Z",
     "shell.execute_reply.started": "2022-02-27T05:12:07.456716Z"
    },
    "papermill": {
     "duration": 1.030434,
     "end_time": "2022-02-27T05:30:53.354476",
     "exception": false,
     "start_time": "2022-02-27T05:30:52.324042",
     "status": "completed"
    },
    "tags": []
   },
   "outputs": [
    {
     "name": "stdout",
     "output_type": "stream",
     "text": [
      "CPU times: user 459 ms, sys: 337 ms, total: 796 ms\n",
      "Wall time: 961 ms\n"
     ]
    }
   ],
   "source": [
    "%%time\n",
    "from sklearn.preprocessing import LabelEncoder \n",
    "\n",
    "def encode_categorical(train_df, test_df, categ_feat = categorical_features):\n",
    "    '''\n",
    "    \n",
    "    '''\n",
    "    encoder_dict = {}\n",
    "    \n",
    "    concat_data = pd.concat([trn_data[categ_feat], tst_data[categ_feat]])\n",
    "    \n",
    "    for col in concat_data.columns:\n",
    "        print('Processing: ', col)\n",
    "        encoder = LabelEncoder()\n",
    "        encoder.fit(concat_data[col])\n",
    "        encoder_dict[col] = encoder\n",
    "\n",
    "        train_df[col + '_Enc'] = encoder.transform(train_df[col])\n",
    "        test_df[col + '_Enc'] = encoder.transform(test_df[col])\n",
    "    \n",
    "    train_df = train_df.drop(columns = categ_feat, axis = 1)\n",
    "    test_df = test_df.drop(columns = categ_feat, axis = 1)\n",
    "\n",
    "    return train_df, test_df"
   ]
  },
  {
   "cell_type": "code",
   "execution_count": 31,
   "id": "ae219601",
   "metadata": {
    "execution": {
     "iopub.execute_input": "2022-02-27T05:30:53.473680Z",
     "iopub.status.busy": "2022-02-27T05:30:53.472696Z",
     "iopub.status.idle": "2022-02-27T05:30:53.543586Z",
     "shell.execute_reply": "2022-02-27T05:30:53.542532Z",
     "shell.execute_reply.started": "2022-02-27T05:12:07.467905Z"
    },
    "papermill": {
     "duration": 0.131406,
     "end_time": "2022-02-27T05:30:53.543777",
     "exception": false,
     "start_time": "2022-02-27T05:30:53.412371",
     "status": "completed"
    },
    "tags": []
   },
   "outputs": [
    {
     "name": "stdout",
     "output_type": "stream",
     "text": [
      "Processing:  HomePlanet\n",
      "Processing:  CryoSleep\n",
      "Processing:  CabinDeck\n",
      "Processing:  CabinNum\n",
      "Processing:  CabinSide\n",
      "Processing:  Destination\n",
      "Processing:  VIP\n",
      "Processing:  FirstName\n",
      "Processing:  FamilyName\n",
      "Processing:  Route\n",
      "CPU times: user 61.2 ms, sys: 4.05 ms, total: 65.3 ms\n",
      "Wall time: 63.7 ms\n"
     ]
    }
   ],
   "source": [
    "%%time\n",
    "trn_data, tst_data = encode_categorical(trn_data, tst_data, categorical_features)"
   ]
  },
  {
   "cell_type": "markdown",
   "id": "14018f53",
   "metadata": {
    "papermill": {
     "duration": 0.057295,
     "end_time": "2022-02-27T05:30:53.659820",
     "exception": false,
     "start_time": "2022-02-27T05:30:53.602525",
     "status": "completed"
    },
    "tags": []
   },
   "source": [
    "# Simple CV Sttrategy 80/20 Split"
   ]
  },
  {
   "cell_type": "code",
   "execution_count": 32,
   "id": "5bf9a8e4",
   "metadata": {
    "execution": {
     "iopub.execute_input": "2022-02-27T05:30:53.782756Z",
     "iopub.status.busy": "2022-02-27T05:30:53.782126Z",
     "iopub.status.idle": "2022-02-27T05:30:53.785576Z",
     "shell.execute_reply": "2022-02-27T05:30:53.785014Z",
     "shell.execute_reply.started": "2022-02-27T05:12:07.552801Z"
    },
    "papermill": {
     "duration": 0.067471,
     "end_time": "2022-02-27T05:30:53.785720",
     "exception": false,
     "start_time": "2022-02-27T05:30:53.718249",
     "status": "completed"
    },
    "tags": []
   },
   "outputs": [
    {
     "data": {
      "text/plain": [
       "Index(['PassengerId', 'Age', 'RoomService', 'FoodCourt', 'ShoppingMall', 'Spa',\n",
       "       'VRDeck', 'Transported', 'Total_Billed', 'HomePlanet_Enc',\n",
       "       'CryoSleep_Enc', 'CabinDeck_Enc', 'CabinNum_Enc', 'CabinSide_Enc',\n",
       "       'Destination_Enc', 'VIP_Enc', 'FirstName_Enc', 'FamilyName_Enc',\n",
       "       'Route_Enc'],\n",
       "      dtype='object')"
      ]
     },
     "execution_count": 32,
     "metadata": {},
     "output_type": "execute_result"
    }
   ],
   "source": [
    "trn_data.columns"
   ]
  },
  {
   "cell_type": "code",
   "execution_count": 33,
   "id": "94df2b60",
   "metadata": {
    "execution": {
     "iopub.execute_input": "2022-02-27T05:30:53.908393Z",
     "iopub.status.busy": "2022-02-27T05:30:53.907473Z",
     "iopub.status.idle": "2022-02-27T05:30:53.910236Z",
     "shell.execute_reply": "2022-02-27T05:30:53.909599Z",
     "shell.execute_reply.started": "2022-02-27T05:12:07.561665Z"
    },
    "papermill": {
     "duration": 0.066818,
     "end_time": "2022-02-27T05:30:53.910373",
     "exception": false,
     "start_time": "2022-02-27T05:30:53.843555",
     "status": "completed"
    },
    "tags": []
   },
   "outputs": [],
   "source": [
    "features = ['Age',\n",
    "            'RoomService',\n",
    "            'FoodCourt',\n",
    "            'ShoppingMall',\n",
    "            'Spa',\n",
    "            'VRDeck',\n",
    "            'FamilyName_Enc',\n",
    "            'FirstName_Enc',\n",
    "            'VIP_Enc',\n",
    "            'Total_Billed',\n",
    "            'HomePlanet_Enc',\n",
    "            'CryoSleep_Enc',\n",
    "            'CabinNum_Enc',\n",
    "            'CabinSide_Enc',\n",
    "            'CabinDeck_Enc',\n",
    "            'Destination_Enc',\n",
    "            'Route_Enc']"
   ]
  },
  {
   "cell_type": "code",
   "execution_count": 34,
   "id": "77b13fca",
   "metadata": {
    "execution": {
     "iopub.execute_input": "2022-02-27T05:30:54.033532Z",
     "iopub.status.busy": "2022-02-27T05:30:54.032846Z",
     "iopub.status.idle": "2022-02-27T05:30:54.094821Z",
     "shell.execute_reply": "2022-02-27T05:30:54.094205Z",
     "shell.execute_reply.started": "2022-02-27T05:12:07.570351Z"
    },
    "papermill": {
     "duration": 0.12428,
     "end_time": "2022-02-27T05:30:54.094960",
     "exception": false,
     "start_time": "2022-02-27T05:30:53.970680",
     "status": "completed"
    },
    "tags": []
   },
   "outputs": [],
   "source": [
    "from sklearn.model_selection import train_test_split\n",
    "X_train, X_val, y_train, y_val = train_test_split(trn_data[features], trn_data[target_feature], test_size = 0.15, random_state = 42)"
   ]
  },
  {
   "cell_type": "markdown",
   "id": "0cb496a8",
   "metadata": {
    "papermill": {
     "duration": 0.057389,
     "end_time": "2022-02-27T05:30:54.210347",
     "exception": false,
     "start_time": "2022-02-27T05:30:54.152958",
     "status": "completed"
    },
    "tags": []
   },
   "source": [
    "fit(X, y, *, sample_weight=None, base_margin=None, eval_set=None, eval_metric=None, early_stopping_rounds=None, verbose=True, xgb_model=None, sample_weight_eval_set=None, base_margin_eval_set=None, feature_weights=None, callbacks=None)"
   ]
  },
  {
   "cell_type": "code",
   "execution_count": 35,
   "id": "e27a5f7c",
   "metadata": {
    "execution": {
     "iopub.execute_input": "2022-02-27T05:30:54.333336Z",
     "iopub.status.busy": "2022-02-27T05:30:54.332557Z",
     "iopub.status.idle": "2022-02-27T05:30:55.344958Z",
     "shell.execute_reply": "2022-02-27T05:30:55.344242Z",
     "shell.execute_reply.started": "2022-02-27T05:12:07.583755Z"
    },
    "papermill": {
     "duration": 1.074753,
     "end_time": "2022-02-27T05:30:55.345121",
     "exception": false,
     "start_time": "2022-02-27T05:30:54.270368",
     "status": "completed"
    },
    "tags": []
   },
   "outputs": [
    {
     "name": "stdout",
     "output_type": "stream",
     "text": [
      "[0]\tvalidation_0-logloss:0.58481\n",
      "[10]\tvalidation_0-logloss:0.41797\n",
      "[20]\tvalidation_0-logloss:0.41558\n",
      "[30]\tvalidation_0-logloss:0.41448\n",
      "[40]\tvalidation_0-logloss:0.41666\n",
      "[50]\tvalidation_0-logloss:0.41778\n",
      "[60]\tvalidation_0-logloss:0.42037\n",
      "[70]\tvalidation_0-logloss:0.42197\n",
      "[78]\tvalidation_0-logloss:0.42457\n"
     ]
    },
    {
     "data": {
      "text/plain": [
       "XGBClassifier(base_score=0.5, booster='gbtree', colsample_bylevel=1,\n",
       "              colsample_bynode=1, colsample_bytree=1, enable_categorical=False,\n",
       "              gamma=0, gpu_id=-1, importance_type=None,\n",
       "              interaction_constraints='', learning_rate=0.300000012,\n",
       "              max_delta_step=0, max_depth=6, min_child_weight=1, missing=nan,\n",
       "              monotone_constraints='()', n_estimators=100, n_jobs=4,\n",
       "              num_parallel_tree=1, predictor='auto', random_state=0,\n",
       "              reg_alpha=0, reg_lambda=1, scale_pos_weight=1, subsample=1,\n",
       "              tree_method='exact', validate_parameters=1, verbosity=None)"
      ]
     },
     "execution_count": 35,
     "metadata": {},
     "output_type": "execute_result"
    }
   ],
   "source": [
    "from xgboost import XGBClassifier\n",
    "# cls = XGBClassifier(\n",
    "#                     learning_rate = 0.1,\n",
    "#                     n_estimators = 2048,\n",
    "#                     n_jobs = -1)\n",
    "\n",
    "cls = XGBClassifier()\n",
    "cls.fit(X_train, y_train, eval_set = [(X_val, y_val)], eval_metric=['logloss'], early_stopping_rounds = 50, verbose = 10)"
   ]
  },
  {
   "cell_type": "code",
   "execution_count": 36,
   "id": "d9d70826",
   "metadata": {
    "execution": {
     "iopub.execute_input": "2022-02-27T05:30:55.473436Z",
     "iopub.status.busy": "2022-02-27T05:30:55.472862Z",
     "iopub.status.idle": "2022-02-27T05:30:55.477746Z",
     "shell.execute_reply": "2022-02-27T05:30:55.478194Z",
     "shell.execute_reply.started": "2022-02-27T05:12:08.409730Z"
    },
    "papermill": {
     "duration": 0.070878,
     "end_time": "2022-02-27T05:30:55.478364",
     "exception": false,
     "start_time": "2022-02-27T05:30:55.407486",
     "status": "completed"
    },
    "tags": []
   },
   "outputs": [],
   "source": [
    "import matplotlib.pyplot as plt\n",
    "\n",
    "def feature_importance(clf):\n",
    "    importances = clf.feature_importances_\n",
    "    i = np.argsort(importances)\n",
    "    features = X_train.columns\n",
    "    plt.title('Feature Importance')\n",
    "    plt.barh(range(len(i)), importances[i], align='center')\n",
    "    plt.yticks(range(len(i)), [features[x] for x in i])\n",
    "    plt.xlabel('Scale')\n",
    "    plt.show()"
   ]
  },
  {
   "cell_type": "code",
   "execution_count": 37,
   "id": "234c0105",
   "metadata": {
    "execution": {
     "iopub.execute_input": "2022-02-27T05:30:55.603319Z",
     "iopub.status.busy": "2022-02-27T05:30:55.602577Z",
     "iopub.status.idle": "2022-02-27T05:30:55.878686Z",
     "shell.execute_reply": "2022-02-27T05:30:55.879201Z",
     "shell.execute_reply.started": "2022-02-27T05:12:08.417822Z"
    },
    "papermill": {
     "duration": 0.34052,
     "end_time": "2022-02-27T05:30:55.879366",
     "exception": false,
     "start_time": "2022-02-27T05:30:55.538846",
     "status": "completed"
    },
    "tags": []
   },
   "outputs": [
    {
     "data": {
      "image/png": "[encoded data removed]",
      "text/plain": [
       "<Figure size 432x288 with 1 Axes>"
      ]
     },
     "metadata": {
      "needs_background": "light"
     },
     "output_type": "display_data"
    }
   ],
   "source": [
    "feature_importance(cls)"
   ]
  },
  {
   "cell_type": "code",
   "execution_count": 38,
   "id": "5850f718",
   "metadata": {
    "execution": {
     "iopub.execute_input": "2022-02-27T05:30:56.009186Z",
     "iopub.status.busy": "2022-02-27T05:30:56.008528Z",
     "iopub.status.idle": "2022-02-27T05:30:56.025052Z",
     "shell.execute_reply": "2022-02-27T05:30:56.024533Z",
     "shell.execute_reply.started": "2022-02-27T05:12:08.628541Z"
    },
    "papermill": {
     "duration": 0.084343,
     "end_time": "2022-02-27T05:30:56.025211",
     "exception": false,
     "start_time": "2022-02-27T05:30:55.940868",
     "status": "completed"
    },
    "tags": []
   },
   "outputs": [],
   "source": [
    "from sklearn.metrics import accuracy_score\n",
    "val_preds = cls.predict(X_val[features])\n",
    "accuracy = accuracy_score(val_preds, y_val)"
   ]
  },
  {
   "cell_type": "code",
   "execution_count": 39,
   "id": "e0eb19ab",
   "metadata": {
    "execution": {
     "iopub.execute_input": "2022-02-27T05:30:56.155585Z",
     "iopub.status.busy": "2022-02-27T05:30:56.154970Z",
     "iopub.status.idle": "2022-02-27T05:30:56.158315Z",
     "shell.execute_reply": "2022-02-27T05:30:56.157876Z",
     "shell.execute_reply.started": "2022-02-27T05:12:08.642227Z"
    },
    "papermill": {
     "duration": 0.070984,
     "end_time": "2022-02-27T05:30:56.158452",
     "exception": false,
     "start_time": "2022-02-27T05:30:56.087468",
     "status": "completed"
    },
    "tags": []
   },
   "outputs": [
    {
     "data": {
      "text/plain": [
       "0.8006134969325154"
      ]
     },
     "execution_count": 39,
     "metadata": {},
     "output_type": "execute_result"
    }
   ],
   "source": [
    "accuracy"
   ]
  },
  {
   "cell_type": "code",
   "execution_count": 40,
   "id": "697c53e0",
   "metadata": {
    "execution": {
     "iopub.execute_input": "2022-02-27T05:30:56.289916Z",
     "iopub.status.busy": "2022-02-27T05:30:56.289284Z",
     "iopub.status.idle": "2022-02-27T05:30:56.292158Z",
     "shell.execute_reply": "2022-02-27T05:30:56.291690Z",
     "shell.execute_reply.started": "2022-02-27T05:12:08.656667Z"
    },
    "papermill": {
     "duration": 0.070661,
     "end_time": "2022-02-27T05:30:56.292285",
     "exception": false,
     "start_time": "2022-02-27T05:30:56.221624",
     "status": "completed"
    },
    "tags": []
   },
   "outputs": [],
   "source": [
    "# 0.7875766871165644\n",
    "# 0.7883435582822086\n",
    "# 0.7944785276073619\n",
    "# 0.7998466257668712\n",
    "# 0.8006134969325154"
   ]
  },
  {
   "cell_type": "code",
   "execution_count": 41,
   "id": "470de5fb",
   "metadata": {
    "execution": {
     "iopub.execute_input": "2022-02-27T05:30:56.422954Z",
     "iopub.status.busy": "2022-02-27T05:30:56.422307Z",
     "iopub.status.idle": "2022-02-27T05:30:56.424891Z",
     "shell.execute_reply": "2022-02-27T05:30:56.425349Z",
     "shell.execute_reply.started": "2022-02-27T05:12:08.661996Z"
    },
    "papermill": {
     "duration": 0.069845,
     "end_time": "2022-02-27T05:30:56.425503",
     "exception": false,
     "start_time": "2022-02-27T05:30:56.355658",
     "status": "completed"
    },
    "tags": []
   },
   "outputs": [
    {
     "data": {
      "text/plain": [
       "(4277, 18)"
      ]
     },
     "execution_count": 41,
     "metadata": {},
     "output_type": "execute_result"
    }
   ],
   "source": [
    "tst_data.shape"
   ]
  },
  {
   "cell_type": "code",
   "execution_count": 42,
   "id": "ecd57e01",
   "metadata": {
    "execution": {
     "iopub.execute_input": "2022-02-27T05:30:56.553974Z",
     "iopub.status.busy": "2022-02-27T05:30:56.553394Z",
     "iopub.status.idle": "2022-02-27T05:30:56.557338Z",
     "shell.execute_reply": "2022-02-27T05:30:56.557806Z",
     "shell.execute_reply.started": "2022-02-27T05:12:08.672879Z"
    },
    "papermill": {
     "duration": 0.070356,
     "end_time": "2022-02-27T05:30:56.557965",
     "exception": false,
     "start_time": "2022-02-27T05:30:56.487609",
     "status": "completed"
    },
    "tags": []
   },
   "outputs": [
    {
     "data": {
      "text/plain": [
       "1304"
      ]
     },
     "execution_count": 42,
     "metadata": {},
     "output_type": "execute_result"
    }
   ],
   "source": [
    "len(val_preds)"
   ]
  },
  {
   "cell_type": "code",
   "execution_count": 43,
   "id": "0c2cd1d4",
   "metadata": {
    "execution": {
     "iopub.execute_input": "2022-02-27T05:30:56.691304Z",
     "iopub.status.busy": "2022-02-27T05:30:56.690610Z",
     "iopub.status.idle": "2022-02-27T05:30:56.694256Z",
     "shell.execute_reply": "2022-02-27T05:30:56.693826Z",
     "shell.execute_reply.started": "2022-02-27T05:12:08.682587Z"
    },
    "papermill": {
     "duration": 0.070502,
     "end_time": "2022-02-27T05:30:56.694400",
     "exception": false,
     "start_time": "2022-02-27T05:30:56.623898",
     "status": "completed"
    },
    "tags": []
   },
   "outputs": [
    {
     "data": {
      "text/plain": [
       "(4277, 2)"
      ]
     },
     "execution_count": 43,
     "metadata": {},
     "output_type": "execute_result"
    }
   ],
   "source": [
    "sub.shape"
   ]
  },
  {
   "cell_type": "code",
   "execution_count": 44,
   "id": "94960188",
   "metadata": {
    "execution": {
     "iopub.execute_input": "2022-02-27T05:30:56.826992Z",
     "iopub.status.busy": "2022-02-27T05:30:56.825995Z",
     "iopub.status.idle": "2022-02-27T05:30:56.853281Z",
     "shell.execute_reply": "2022-02-27T05:30:56.853869Z",
     "shell.execute_reply.started": "2022-02-27T05:12:08.691221Z"
    },
    "papermill": {
     "duration": 0.09555,
     "end_time": "2022-02-27T05:30:56.854071",
     "exception": false,
     "start_time": "2022-02-27T05:30:56.758521",
     "status": "completed"
    },
    "tags": []
   },
   "outputs": [],
   "source": [
    "preds = cls.predict(tst_data[features])"
   ]
  },
  {
   "cell_type": "code",
   "execution_count": 45,
   "id": "5bfffbac",
   "metadata": {
    "execution": {
     "iopub.execute_input": "2022-02-27T05:30:56.984607Z",
     "iopub.status.busy": "2022-02-27T05:30:56.983639Z",
     "iopub.status.idle": "2022-02-27T05:30:56.995288Z",
     "shell.execute_reply": "2022-02-27T05:30:56.995898Z",
     "shell.execute_reply.started": "2022-02-27T05:12:08.708682Z"
    },
    "papermill": {
     "duration": 0.079042,
     "end_time": "2022-02-27T05:30:56.996083",
     "exception": false,
     "start_time": "2022-02-27T05:30:56.917041",
     "status": "completed"
    },
    "tags": []
   },
   "outputs": [
    {
     "data": {
      "text/html": [
       "<div>\n",
       "<style scoped>\n",
       "    .dataframe tbody tr th:only-of-type {\n",
       "        vertical-align: middle;\n",
       "    }\n",
       "\n",
       "    .dataframe tbody tr th {\n",
       "        vertical-align: top;\n",
       "    }\n",
       "\n",
       "    .dataframe thead th {\n",
       "        text-align: right;\n",
       "    }\n",
       "</style>\n",
       "<table border=\"1\" class=\"dataframe\">\n",
       "  <thead>\n",
       "    <tr style=\"text-align: right;\">\n",
       "      <th></th>\n",
       "      <th>PassengerId</th>\n",
       "      <th>Transported</th>\n",
       "    </tr>\n",
       "  </thead>\n",
       "  <tbody>\n",
       "    <tr>\n",
       "      <th>0</th>\n",
       "      <td>0013_01</td>\n",
       "      <td>False</td>\n",
       "    </tr>\n",
       "    <tr>\n",
       "      <th>1</th>\n",
       "      <td>0018_01</td>\n",
       "      <td>False</td>\n",
       "    </tr>\n",
       "    <tr>\n",
       "      <th>2</th>\n",
       "      <td>0019_01</td>\n",
       "      <td>True</td>\n",
       "    </tr>\n",
       "    <tr>\n",
       "      <th>3</th>\n",
       "      <td>0021_01</td>\n",
       "      <td>True</td>\n",
       "    </tr>\n",
       "    <tr>\n",
       "      <th>4</th>\n",
       "      <td>0023_01</td>\n",
       "      <td>True</td>\n",
       "    </tr>\n",
       "    <tr>\n",
       "      <th>...</th>\n",
       "      <td>...</td>\n",
       "      <td>...</td>\n",
       "    </tr>\n",
       "    <tr>\n",
       "      <th>4272</th>\n",
       "      <td>9266_02</td>\n",
       "      <td>True</td>\n",
       "    </tr>\n",
       "    <tr>\n",
       "      <th>4273</th>\n",
       "      <td>9269_01</td>\n",
       "      <td>False</td>\n",
       "    </tr>\n",
       "    <tr>\n",
       "      <th>4274</th>\n",
       "      <td>9271_01</td>\n",
       "      <td>True</td>\n",
       "    </tr>\n",
       "    <tr>\n",
       "      <th>4275</th>\n",
       "      <td>9273_01</td>\n",
       "      <td>True</td>\n",
       "    </tr>\n",
       "    <tr>\n",
       "      <th>4276</th>\n",
       "      <td>9277_01</td>\n",
       "      <td>True</td>\n",
       "    </tr>\n",
       "  </tbody>\n",
       "</table>\n",
       "<p>4277 rows × 2 columns</p>\n",
       "</div>"
      ],
      "text/plain": [
       "     PassengerId  Transported\n",
       "0        0013_01        False\n",
       "1        0018_01        False\n",
       "2        0019_01         True\n",
       "3        0021_01         True\n",
       "4        0023_01         True\n",
       "...          ...          ...\n",
       "4272     9266_02         True\n",
       "4273     9269_01        False\n",
       "4274     9271_01         True\n",
       "4275     9273_01         True\n",
       "4276     9277_01         True\n",
       "\n",
       "[4277 rows x 2 columns]"
      ]
     },
     "execution_count": 45,
     "metadata": {},
     "output_type": "execute_result"
    }
   ],
   "source": [
    "sub['Transported'] = preds\n",
    "sub"
   ]
  },
  {
   "cell_type": "code",
   "execution_count": 46,
   "id": "164cf12a",
   "metadata": {
    "execution": {
     "iopub.execute_input": "2022-02-27T05:30:57.128291Z",
     "iopub.status.busy": "2022-02-27T05:30:57.127328Z",
     "iopub.status.idle": "2022-02-27T05:30:57.138655Z",
     "shell.execute_reply": "2022-02-27T05:30:57.139242Z",
     "shell.execute_reply.started": "2022-02-27T05:12:08.723867Z"
    },
    "papermill": {
     "duration": 0.077883,
     "end_time": "2022-02-27T05:30:57.139413",
     "exception": false,
     "start_time": "2022-02-27T05:30:57.061530",
     "status": "completed"
    },
    "tags": []
   },
   "outputs": [],
   "source": [
    "sub.to_csv('submission.csv', index=False)"
   ]
  },
  {
   "cell_type": "code",
   "execution_count": 47,
   "id": "526f906a",
   "metadata": {
    "execution": {
     "iopub.execute_input": "2022-02-27T05:30:57.273229Z",
     "iopub.status.busy": "2022-02-27T05:30:57.272320Z",
     "iopub.status.idle": "2022-02-27T05:30:57.278424Z",
     "shell.execute_reply": "2022-02-27T05:30:57.277560Z",
     "shell.execute_reply.started": "2022-02-27T05:12:08.738137Z"
    },
    "papermill": {
     "duration": 0.072629,
     "end_time": "2022-02-27T05:30:57.278613",
     "exception": false,
     "start_time": "2022-02-27T05:30:57.205984",
     "status": "completed"
    },
    "tags": []
   },
   "outputs": [
    {
     "name": "stdout",
     "output_type": "stream",
     "text": [
      "CPU times: user 9 µs, sys: 1e+03 ns, total: 10 µs\n",
      "Wall time: 14.1 µs\n"
     ]
    }
   ],
   "source": [
    "%%time\n",
    "from sklearn.preprocessing import MinMaxScaler"
   ]
  },
  {
   "cell_type": "code",
   "execution_count": 48,
   "id": "d2fb116b",
   "metadata": {
    "execution": {
     "iopub.execute_input": "2022-02-27T05:30:57.412421Z",
     "iopub.status.busy": "2022-02-27T05:30:57.411473Z",
     "iopub.status.idle": "2022-02-27T05:30:58.330841Z",
     "shell.execute_reply": "2022-02-27T05:30:58.330301Z",
     "shell.execute_reply.started": "2022-02-27T05:12:08.744569Z"
    },
    "papermill": {
     "duration": 0.98701,
     "end_time": "2022-02-27T05:30:58.330987",
     "exception": false,
     "start_time": "2022-02-27T05:30:57.343977",
     "status": "completed"
    },
    "tags": []
   },
   "outputs": [
    {
     "name": "stdout",
     "output_type": "stream",
     "text": [
      "CPU times: user 469 ms, sys: 68.4 ms, total: 537 ms\n",
      "Wall time: 913 ms\n"
     ]
    }
   ],
   "source": [
    "%%time\n",
    "import optuna\n",
    "from sklearn.ensemble import ExtraTreesClassifier\n",
    "from sklearn.metrics import accuracy_score\n",
    "from sklearn.model_selection import StratifiedKFold\n",
    "from sklearn.model_selection import train_test_split"
   ]
  },
  {
   "cell_type": "code",
   "execution_count": 49,
   "id": "50a4e44a",
   "metadata": {
    "execution": {
     "iopub.execute_input": "2022-02-27T05:30:58.463472Z",
     "iopub.status.busy": "2022-02-27T05:30:58.462911Z",
     "iopub.status.idle": "2022-02-27T05:30:58.468947Z",
     "shell.execute_reply": "2022-02-27T05:30:58.469607Z",
     "shell.execute_reply.started": "2022-02-27T05:12:08.754830Z"
    },
    "papermill": {
     "duration": 0.073617,
     "end_time": "2022-02-27T05:30:58.469775",
     "exception": false,
     "start_time": "2022-02-27T05:30:58.396158",
     "status": "completed"
    },
    "tags": []
   },
   "outputs": [
    {
     "name": "stdout",
     "output_type": "stream",
     "text": [
      "CPU times: user 36 µs, sys: 5 µs, total: 41 µs\n",
      "Wall time: 45.3 µs\n"
     ]
    }
   ],
   "source": [
    "%%time\n",
    "N_SPLITS = 5\n",
    "folds = StratifiedKFold(n_splits = N_SPLITS, shuffle = True)"
   ]
  },
  {
   "cell_type": "code",
   "execution_count": null,
   "id": "8b9208c6",
   "metadata": {
    "papermill": {
     "duration": 0.064566,
     "end_time": "2022-02-27T05:30:58.599461",
     "exception": false,
     "start_time": "2022-02-27T05:30:58.534895",
     "status": "completed"
    },
    "tags": []
   },
   "outputs": [],
   "source": []
  },
  {
   "cell_type": "code",
   "execution_count": 50,
   "id": "e42eea70",
   "metadata": {
    "execution": {
     "iopub.execute_input": "2022-02-27T05:30:58.732707Z",
     "iopub.status.busy": "2022-02-27T05:30:58.731687Z",
     "iopub.status.idle": "2022-02-27T05:31:04.710950Z",
     "shell.execute_reply": "2022-02-27T05:31:04.712005Z",
     "shell.execute_reply.started": "2022-02-27T05:12:08.767223Z"
    },
    "papermill": {
     "duration": 6.047912,
     "end_time": "2022-02-27T05:31:04.712211",
     "exception": false,
     "start_time": "2022-02-27T05:30:58.664299",
     "status": "completed"
    },
    "tags": []
   },
   "outputs": [
    {
     "name": "stdout",
     "output_type": "stream",
     "text": [
      "[05:30:58] WARNING: ../src/learner.cc:1115: Starting in XGBoost 1.3.0, the default evaluation metric used with the objective 'binary:logistic' was changed from 'error' to 'logloss'. Explicitly set eval_metric if you'd like to restore the old behavior.\n",
      "Fold: 0 Accuracy: 0.8016101207590569\n",
      "[05:31:00] WARNING: ../src/learner.cc:1115: Starting in XGBoost 1.3.0, the default evaluation metric used with the objective 'binary:logistic' was changed from 'error' to 'logloss'. Explicitly set eval_metric if you'd like to restore the old behavior.\n",
      "Fold: 1 Accuracy: 0.7987349051178838\n",
      "[05:31:01] WARNING: ../src/learner.cc:1115: Starting in XGBoost 1.3.0, the default evaluation metric used with the objective 'binary:logistic' was changed from 'error' to 'logloss'. Explicitly set eval_metric if you'd like to restore the old behavior.\n",
      "Fold: 2 Accuracy: 0.7964347326049454\n",
      "[05:31:02] WARNING: ../src/learner.cc:1115: Starting in XGBoost 1.3.0, the default evaluation metric used with the objective 'binary:logistic' was changed from 'error' to 'logloss'. Explicitly set eval_metric if you'd like to restore the old behavior.\n",
      "Fold: 3 Accuracy: 0.8037974683544303\n",
      "[05:31:03] WARNING: ../src/learner.cc:1115: Starting in XGBoost 1.3.0, the default evaluation metric used with the objective 'binary:logistic' was changed from 'error' to 'logloss'. Explicitly set eval_metric if you'd like to restore the old behavior.\n",
      "Fold: 4 Accuracy: 0.7825086306098964\n",
      "CPU times: user 21.9 s, sys: 61.7 ms, total: 22 s\n",
      "Wall time: 5.97 s\n"
     ]
    }
   ],
   "source": [
    "%%time\n",
    "\n",
    "n_estimators = 2373\n",
    "max_depth = 3691\n",
    "min_samples_split = 3\n",
    "min_samples_leaf = 1\n",
    "criterion = 'gini'\n",
    "\n",
    "scores  = []\n",
    "y_probs = []\n",
    "\n",
    "for fold, (trn_id, val_id) in enumerate(folds.split(trn_data[features], trn_data[target_feature])):  \n",
    "    X_train, y_train = trn_data[features].iloc[trn_id], trn_data[target_feature].iloc[trn_id]\n",
    "    X_valid, y_valid = trn_data[features].iloc[val_id], trn_data[target_feature].iloc[val_id]\n",
    "    \n",
    "    scaler = MinMaxScaler()\n",
    "    X_train = scaler.fit_transform(X_train)\n",
    "    X_valid = scaler.transform(X_valid)\n",
    "    \n",
    "    \n",
    "#     model = ExtraTreesClassifier(n_estimators = n_estimators,\n",
    "#                                  max_depth = max_depth,\n",
    "#                                  min_samples_split = min_samples_split,\n",
    "#                                  min_samples_leaf = min_samples_leaf,\n",
    "#                                  criterion = criterion,\n",
    "#                                  random_state = 69,\n",
    "#                                  n_jobs = -1)\n",
    "    \n",
    "    model = XGBClassifier()\n",
    "    \n",
    "    \n",
    "    model.fit(X_train, y_train)\n",
    "    \n",
    "    valid_pred = model.predict(X_valid)\n",
    "    valid_score = accuracy_score(y_valid, valid_pred)\n",
    "    \n",
    "    print(\"Fold:\", fold, \"Accuracy:\", valid_score)\n",
    "    scores.append(valid_score)\n",
    "    y_probs.append(model.predict_proba(tst_data[features]))"
   ]
  },
  {
   "cell_type": "code",
   "execution_count": 51,
   "id": "70691abc",
   "metadata": {
    "execution": {
     "iopub.execute_input": "2022-02-27T05:31:04.850152Z",
     "iopub.status.busy": "2022-02-27T05:31:04.849304Z",
     "iopub.status.idle": "2022-02-27T05:31:04.853234Z",
     "shell.execute_reply": "2022-02-27T05:31:04.852620Z",
     "shell.execute_reply.started": "2022-02-27T05:12:13.474589Z"
    },
    "papermill": {
     "duration": 0.074811,
     "end_time": "2022-02-27T05:31:04.853375",
     "exception": false,
     "start_time": "2022-02-27T05:31:04.778564",
     "status": "completed"
    },
    "tags": []
   },
   "outputs": [
    {
     "name": "stdout",
     "output_type": "stream",
     "text": [
      "Mean accuracy score: 0.7966171714892425\n",
      "CPU times: user 307 µs, sys: 15 µs, total: 322 µs\n",
      "Wall time: 247 µs\n"
     ]
    }
   ],
   "source": [
    "%%time\n",
    "print(\"Mean accuracy score:\", np.array(scores).mean())"
   ]
  },
  {
   "cell_type": "code",
   "execution_count": 52,
   "id": "13d633d5",
   "metadata": {
    "execution": {
     "iopub.execute_input": "2022-02-27T05:31:04.991339Z",
     "iopub.status.busy": "2022-02-27T05:31:04.990635Z",
     "iopub.status.idle": "2022-02-27T05:31:04.992434Z",
     "shell.execute_reply": "2022-02-27T05:31:04.992834Z",
     "shell.execute_reply.started": "2022-02-27T05:13:48.254738Z"
    },
    "papermill": {
     "duration": 0.07361,
     "end_time": "2022-02-27T05:31:04.992999",
     "exception": false,
     "start_time": "2022-02-27T05:31:04.919389",
     "status": "completed"
    },
    "tags": []
   },
   "outputs": [],
   "source": [
    "y_prob = sum(y_probs) / len(y_probs)"
   ]
  },
  {
   "cell_type": "code",
   "execution_count": 53,
   "id": "8cce65dd",
   "metadata": {
    "execution": {
     "iopub.execute_input": "2022-02-27T05:31:05.129459Z",
     "iopub.status.busy": "2022-02-27T05:31:05.128723Z",
     "iopub.status.idle": "2022-02-27T05:31:05.133425Z",
     "shell.execute_reply": "2022-02-27T05:31:05.133852Z",
     "shell.execute_reply.started": "2022-02-27T05:27:55.080106Z"
    },
    "papermill": {
     "duration": 0.075013,
     "end_time": "2022-02-27T05:31:05.134018",
     "exception": false,
     "start_time": "2022-02-27T05:31:05.059005",
     "status": "completed"
    },
    "tags": []
   },
   "outputs": [
    {
     "data": {
      "text/plain": [
       "array([[0.04997068, 0.95002925],\n",
       "       [0.8713997 , 0.12860033],\n",
       "       [0.00910618, 0.99089384],\n",
       "       ...,\n",
       "       [0.0843977 , 0.9156023 ],\n",
       "       [0.74460304, 0.2553969 ],\n",
       "       [0.04997068, 0.95002925]], dtype=float32)"
      ]
     },
     "execution_count": 53,
     "metadata": {},
     "output_type": "execute_result"
    }
   ],
   "source": [
    "y_prob"
   ]
  },
  {
   "cell_type": "code",
   "execution_count": 54,
   "id": "56d31155",
   "metadata": {
    "execution": {
     "iopub.execute_input": "2022-02-27T05:31:05.274119Z",
     "iopub.status.busy": "2022-02-27T05:31:05.273286Z",
     "iopub.status.idle": "2022-02-27T05:31:05.277928Z",
     "shell.execute_reply": "2022-02-27T05:31:05.277318Z",
     "shell.execute_reply.started": "2022-02-27T05:27:02.406082Z"
    },
    "papermill": {
     "duration": 0.076805,
     "end_time": "2022-02-27T05:31:05.278079",
     "exception": false,
     "start_time": "2022-02-27T05:31:05.201274",
     "status": "completed"
    },
    "tags": []
   },
   "outputs": [],
   "source": [
    "y_prob_inv = 1 - y_prob"
   ]
  },
  {
   "cell_type": "code",
   "execution_count": 55,
   "id": "1491ae0c",
   "metadata": {
    "execution": {
     "iopub.execute_input": "2022-02-27T05:31:05.421032Z",
     "iopub.status.busy": "2022-02-27T05:31:05.420152Z",
     "iopub.status.idle": "2022-02-27T05:31:05.423433Z",
     "shell.execute_reply": "2022-02-27T05:31:05.423892Z",
     "shell.execute_reply.started": "2022-02-27T05:27:07.034785Z"
    },
    "papermill": {
     "duration": 0.076842,
     "end_time": "2022-02-27T05:31:05.424073",
     "exception": false,
     "start_time": "2022-02-27T05:31:05.347231",
     "status": "completed"
    },
    "tags": []
   },
   "outputs": [
    {
     "data": {
      "text/plain": [
       "array([[0.9500293 , 0.04997075],\n",
       "       [0.1286003 , 0.87139964],\n",
       "       [0.99089384, 0.00910616],\n",
       "       ...,\n",
       "       [0.9156023 , 0.08439767],\n",
       "       [0.25539696, 0.7446031 ],\n",
       "       [0.9500293 , 0.04997075]], dtype=float32)"
      ]
     },
     "execution_count": 55,
     "metadata": {},
     "output_type": "execute_result"
    }
   ],
   "source": [
    "y_prob_inv"
   ]
  },
  {
   "cell_type": "code",
   "execution_count": 56,
   "id": "a1782930",
   "metadata": {
    "execution": {
     "iopub.execute_input": "2022-02-27T05:31:05.563894Z",
     "iopub.status.busy": "2022-02-27T05:31:05.563234Z",
     "iopub.status.idle": "2022-02-27T05:31:05.569948Z",
     "shell.execute_reply": "2022-02-27T05:31:05.569433Z",
     "shell.execute_reply.started": "2022-02-27T05:30:17.987614Z"
    },
    "papermill": {
     "duration": 0.077764,
     "end_time": "2022-02-27T05:31:05.570110",
     "exception": false,
     "start_time": "2022-02-27T05:31:05.492346",
     "status": "completed"
    },
    "tags": []
   },
   "outputs": [
    {
     "data": {
      "text/plain": [
       "array([False,  True, False, ..., False,  True, False])"
      ]
     },
     "execution_count": 56,
     "metadata": {},
     "output_type": "execute_result"
    }
   ],
   "source": [
    "y_prob_results = np.argmax(y_prob, axis = 1)\n",
    "y_prob_results = (y_prob_results - 1) * - 1 \n",
    "y_prob_results = y_prob_results.astype('bool')\n",
    "y_prob_results"
   ]
  },
  {
   "cell_type": "code",
   "execution_count": 57,
   "id": "43dcdf8b",
   "metadata": {
    "execution": {
     "iopub.execute_input": "2022-02-27T05:31:05.720565Z",
     "iopub.status.busy": "2022-02-27T05:31:05.715680Z",
     "iopub.status.idle": "2022-02-27T05:31:05.723163Z",
     "shell.execute_reply": "2022-02-27T05:31:05.723586Z",
     "shell.execute_reply.started": "2022-02-27T05:21:43.057465Z"
    },
    "papermill": {
     "duration": 0.083574,
     "end_time": "2022-02-27T05:31:05.723759",
     "exception": false,
     "start_time": "2022-02-27T05:31:05.640185",
     "status": "completed"
    },
    "tags": []
   },
   "outputs": [],
   "source": [
    "sub['Transported'] = y_prob_results\n",
    "sub.to_csv('submission_cv_loop.csv', index=False)"
   ]
  },
  {
   "cell_type": "code",
   "execution_count": null,
   "id": "4f1d1185",
   "metadata": {
    "papermill": {
     "duration": 0.068606,
     "end_time": "2022-02-27T05:31:05.867470",
     "exception": false,
     "start_time": "2022-02-27T05:31:05.798864",
     "status": "completed"
    },
    "tags": []
   },
   "outputs": [],
   "source": []
  },
  {
   "cell_type": "code",
   "execution_count": null,
   "id": "9570b387",
   "metadata": {
    "papermill": {
     "duration": 0.066547,
     "end_time": "2022-02-27T05:31:06.000721",
     "exception": false,
     "start_time": "2022-02-27T05:31:05.934174",
     "status": "completed"
    },
    "tags": []
   },
   "outputs": [],
   "source": []
  },
  {
   "cell_type": "code",
   "execution_count": null,
   "id": "139955a8",
   "metadata": {
    "papermill": {
     "duration": 0.070904,
     "end_time": "2022-02-27T05:31:06.141292",
     "exception": false,
     "start_time": "2022-02-27T05:31:06.070388",
     "status": "completed"
    },
    "tags": []
   },
   "outputs": [],
   "source": []
  },
  {
   "cell_type": "code",
   "execution_count": null,
   "id": "a505f73c",
   "metadata": {
    "papermill": {
     "duration": 0.067012,
     "end_time": "2022-02-27T05:31:06.275231",
     "exception": false,
     "start_time": "2022-02-27T05:31:06.208219",
     "status": "completed"
    },
    "tags": []
   },
   "outputs": [],
   "source": []
  }
 ],
 "metadata": {
  "kernelspec": {
   "display_name": "Python 3",
   "language": "python",
   "name": "python3"
  },
  "language_info": {
   "codemirror_mode": {
    "name": "ipython",
    "version": 3
   },
   "file_extension": ".py",
   "mimetype": "text/x-python",
   "name": "python",
   "nbconvert_exporter": "python",
   "pygments_lexer": "ipython3",
   "version": "3.7.12"
  },
  "papermill": {
   "default_parameters": {},
   "duration": 28.501124,
   "end_time": "2022-02-27T05:31:07.153299",
   "environment_variables": {},
   "exception": null,
   "input_path": "__notebook__.ipynb",
   "output_path": "__notebook__.ipynb",
   "parameters": {},
   "start_time": "2022-02-27T05:30:38.652175",
   "version": "2.3.3"
  }
 },
 "nbformat": 4,
 "nbformat_minor": 5
}
