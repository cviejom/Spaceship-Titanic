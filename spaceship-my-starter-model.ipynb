{
 "cells": [
  {
   "cell_type": "markdown",
   "id": "730bb565",
   "metadata": {
    "papermill": {
     "duration": 0.052669,
     "end_time": "2022-02-26T21:56:56.927121",
     "exception": false,
     "start_time": "2022-02-26T21:56:56.874452",
     "status": "completed"
    },
    "tags": []
   },
   "source": [
    "# 🌌 Spaceship My Starter Model\n",
    "\n",
    "Hello... "
   ]
  },
  {
   "cell_type": "markdown",
   "id": "f5fc34ec",
   "metadata": {
    "papermill": {
     "duration": 0.051046,
     "end_time": "2022-02-26T21:56:57.029080",
     "exception": false,
     "start_time": "2022-02-26T21:56:56.978034",
     "status": "completed"
    },
    "tags": []
   },
   "source": [
    "### File and Data Field Descriptions\n",
    "\n",
    "**train.csv** - Personal records for about two-thirds (~8700) of the passengers, to be used as training data.\n",
    "* PassengerId - A unique Id for each passenger. Each Id takes the form gggg_pp where gggg indicates a group the passenger is travelling with and pp is their number within the group. People in a group are often family members, but not always.\n",
    "* HomePlanet - The planet the passenger departed from, typically their planet of permanent residence.\n",
    "* CryoSleep - Indicates whether the passenger elected to be put into suspended animation for the duration of the voyage. Passengers in cryosleep are confined to their cabins.\n",
    "* Cabin - The cabin number where the passenger is staying. Takes the form deck/num/side, where side can be either P for Port or S for Starboard.\n",
    "* Destination - The planet the passenger will be debarking to.\n",
    "* Age - The age of the passenger.\n",
    "* VIP - Whether the passenger has paid for special VIP service during the voyage.\n",
    "* RoomService, FoodCourt, ShoppingMall, Spa, VRDeck - Amount the passenger has billed at each of the Spaceship Titanic's many luxury amenities.\n",
    "* Name - The first and last names of the passenger.\n",
    "* Transported - Whether the passenger was transported to another dimension. This is the target, the column you are trying to predict.\n",
    "\n",
    "**test.csv** - Personal records for the remaining one-third (~4300) of the passengers, to be used as test data. Your task is to predict the value of Transported for the passengers in this set.\n",
    "\n",
    "**sample_submission.csv** - A submission file in the correct format.\n",
    "\n",
    "* PassengerId - Id for each passenger in the test set.\n",
    "* Transported - The target. For each passenger, predict either True or False."
   ]
  },
  {
   "cell_type": "markdown",
   "id": "5591340e",
   "metadata": {
    "papermill": {
     "duration": 0.04784,
     "end_time": "2022-02-26T21:56:57.125697",
     "exception": false,
     "start_time": "2022-02-26T21:56:57.077857",
     "status": "completed"
    },
    "tags": []
   },
   "source": [
    "# Loading Libraries..."
   ]
  },
  {
   "cell_type": "code",
   "execution_count": 1,
   "id": "70f2ca1a",
   "metadata": {
    "_cell_guid": "b1076dfc-b9ad-4769-8c92-a6c4dae69d19",
    "_uuid": "8f2839f25d086af736a60e9eeb907d3b93b6e0e5",
    "execution": {
     "iopub.execute_input": "2022-02-26T21:56:57.233658Z",
     "iopub.status.busy": "2022-02-26T21:56:57.232957Z",
     "iopub.status.idle": "2022-02-26T21:56:57.239655Z",
     "shell.execute_reply": "2022-02-26T21:56:57.238911Z",
     "shell.execute_reply.started": "2022-02-26T21:53:38.268842Z"
    },
    "papermill": {
     "duration": 0.065747,
     "end_time": "2022-02-26T21:56:57.239819",
     "exception": false,
     "start_time": "2022-02-26T21:56:57.174072",
     "status": "completed"
    },
    "tags": []
   },
   "outputs": [
    {
     "name": "stdout",
     "output_type": "stream",
     "text": [
      "/kaggle/input/spaceship-titanic/sample_submission.csv\n",
      "/kaggle/input/spaceship-titanic/train.csv\n",
      "/kaggle/input/spaceship-titanic/test.csv\n"
     ]
    }
   ],
   "source": [
    "# This Python 3 environment comes with many helpful analytics libraries installed\n",
    "# It is defined by the kaggle/python Docker image: https://github.com/kaggle/docker-python\n",
    "# For example, here's several helpful packages to load\n",
    "\n",
    "import numpy as np # linear algebra\n",
    "import pandas as pd # data processing, CSV file I/O (e.g. pd.read_csv)\n",
    "\n",
    "# Input data files are available in the read-only \"../input/\" directory\n",
    "# For example, running this (by clicking run or pressing Shift+Enter) will list all files under the input directory\n",
    "\n",
    "import os\n",
    "for dirname, _, filenames in os.walk('/kaggle/input'):\n",
    "    for filename in filenames:\n",
    "        print(os.path.join(dirname, filename))\n",
    "\n",
    "# You can write up to 20GB to the current directory (/kaggle/working/) that gets preserved as output when you create a version using \"Save & Run All\" \n",
    "# You can also write temporary files to /kaggle/temp/, but they won't be saved outside of the current session"
   ]
  },
  {
   "cell_type": "markdown",
   "id": "394f942b",
   "metadata": {
    "papermill": {
     "duration": 0.048561,
     "end_time": "2022-02-26T21:56:57.338257",
     "exception": false,
     "start_time": "2022-02-26T21:56:57.289696",
     "status": "completed"
    },
    "tags": []
   },
   "source": [
    "# Seeting Notebook Parameters..."
   ]
  },
  {
   "cell_type": "code",
   "execution_count": 2,
   "id": "69e1e69b",
   "metadata": {
    "execution": {
     "iopub.execute_input": "2022-02-26T21:56:57.440295Z",
     "iopub.status.busy": "2022-02-26T21:56:57.439666Z",
     "iopub.status.idle": "2022-02-26T21:56:57.445151Z",
     "shell.execute_reply": "2022-02-26T21:56:57.445983Z",
     "shell.execute_reply.started": "2022-02-26T21:53:38.279074Z"
    },
    "papermill": {
     "duration": 0.058452,
     "end_time": "2022-02-26T21:56:57.446195",
     "exception": false,
     "start_time": "2022-02-26T21:56:57.387743",
     "status": "completed"
    },
    "tags": []
   },
   "outputs": [
    {
     "name": "stdout",
     "output_type": "stream",
     "text": [
      "CPU times: user 36 µs, sys: 4 µs, total: 40 µs\n",
      "Wall time: 44.6 µs\n"
     ]
    }
   ],
   "source": [
    "%%time\n",
    "# I like to disable my Notebook Warnings.\n",
    "import warnings\n",
    "warnings.filterwarnings('ignore')"
   ]
  },
  {
   "cell_type": "code",
   "execution_count": 3,
   "id": "2d4620e1",
   "metadata": {
    "execution": {
     "iopub.execute_input": "2022-02-26T21:56:57.549142Z",
     "iopub.status.busy": "2022-02-26T21:56:57.548435Z",
     "iopub.status.idle": "2022-02-26T21:56:57.554607Z",
     "shell.execute_reply": "2022-02-26T21:56:57.553904Z",
     "shell.execute_reply.started": "2022-02-26T21:53:38.289982Z"
    },
    "papermill": {
     "duration": 0.058514,
     "end_time": "2022-02-26T21:56:57.554769",
     "exception": false,
     "start_time": "2022-02-26T21:56:57.496255",
     "status": "completed"
    },
    "tags": []
   },
   "outputs": [
    {
     "name": "stdout",
     "output_type": "stream",
     "text": [
      "CPU times: user 3 µs, sys: 1e+03 ns, total: 4 µs\n",
      "Wall time: 7.63 µs\n"
     ]
    }
   ],
   "source": [
    "%%time\n",
    "# Notebook Configuration...\n",
    "\n",
    "# Amount of data we want to load into the Model...\n",
    "DATA_ROWS = None\n",
    "# Dataframe, the amount of rows and cols to visualize...\n",
    "NROWS = 50\n",
    "NCOLS = 15\n",
    "# Main data location path...\n",
    "BASE_PATH = '...'"
   ]
  },
  {
   "cell_type": "code",
   "execution_count": 4,
   "id": "9279ed31",
   "metadata": {
    "execution": {
     "iopub.execute_input": "2022-02-26T21:56:57.663410Z",
     "iopub.status.busy": "2022-02-26T21:56:57.660443Z",
     "iopub.status.idle": "2022-02-26T21:56:57.666399Z",
     "shell.execute_reply": "2022-02-26T21:56:57.665883Z",
     "shell.execute_reply.started": "2022-02-26T21:53:38.301501Z"
    },
    "papermill": {
     "duration": 0.059465,
     "end_time": "2022-02-26T21:56:57.666541",
     "exception": false,
     "start_time": "2022-02-26T21:56:57.607076",
     "status": "completed"
    },
    "tags": []
   },
   "outputs": [
    {
     "name": "stdout",
     "output_type": "stream",
     "text": [
      "CPU times: user 86 µs, sys: 11 µs, total: 97 µs\n",
      "Wall time: 101 µs\n"
     ]
    }
   ],
   "source": [
    "%%time\n",
    "# Configure notebook display settings to only use 2 decimal places, tables look nicer.\n",
    "pd.options.display.float_format = '{:,.2f}'.format\n",
    "pd.set_option('display.max_columns', NCOLS) \n",
    "pd.set_option('display.max_rows', NROWS)"
   ]
  },
  {
   "cell_type": "markdown",
   "id": "850ee5f2",
   "metadata": {
    "papermill": {
     "duration": 0.051698,
     "end_time": "2022-02-26T21:56:57.768198",
     "exception": false,
     "start_time": "2022-02-26T21:56:57.716500",
     "status": "completed"
    },
    "tags": []
   },
   "source": [
    "# Loading Information from CSV..."
   ]
  },
  {
   "cell_type": "code",
   "execution_count": 5,
   "id": "0ee79b5c",
   "metadata": {
    "execution": {
     "iopub.execute_input": "2022-02-26T21:56:57.873592Z",
     "iopub.status.busy": "2022-02-26T21:56:57.872905Z",
     "iopub.status.idle": "2022-02-26T21:56:57.961480Z",
     "shell.execute_reply": "2022-02-26T21:56:57.962856Z",
     "shell.execute_reply.started": "2022-02-26T21:53:38.313480Z"
    },
    "papermill": {
     "duration": 0.144116,
     "end_time": "2022-02-26T21:56:57.963190",
     "exception": false,
     "start_time": "2022-02-26T21:56:57.819074",
     "status": "completed"
    },
    "tags": []
   },
   "outputs": [
    {
     "name": "stdout",
     "output_type": "stream",
     "text": [
      "CPU times: user 40.2 ms, sys: 12.9 ms, total: 53.1 ms\n",
      "Wall time: 82.1 ms\n"
     ]
    }
   ],
   "source": [
    "%%time\n",
    "trn_data = pd.read_csv('/kaggle/input/spaceship-titanic/train.csv')\n",
    "tst_data = pd.read_csv('/kaggle/input/spaceship-titanic/test.csv')\n",
    "\n",
    "sub = pd.read_csv('/kaggle/input/spaceship-titanic/sample_submission.csv')"
   ]
  },
  {
   "cell_type": "markdown",
   "id": "4d9063c8",
   "metadata": {
    "papermill": {
     "duration": 0.05158,
     "end_time": "2022-02-26T21:56:58.066463",
     "exception": false,
     "start_time": "2022-02-26T21:56:58.014883",
     "status": "completed"
    },
    "tags": []
   },
   "source": [
    "# Exploring the Information Available..."
   ]
  },
  {
   "cell_type": "code",
   "execution_count": 6,
   "id": "340f6190",
   "metadata": {
    "execution": {
     "iopub.execute_input": "2022-02-26T21:56:58.173319Z",
     "iopub.status.busy": "2022-02-26T21:56:58.172629Z",
     "iopub.status.idle": "2022-02-26T21:56:58.201833Z",
     "shell.execute_reply": "2022-02-26T21:56:58.202394Z",
     "shell.execute_reply.started": "2022-02-26T21:53:38.364392Z"
    },
    "papermill": {
     "duration": 0.085122,
     "end_time": "2022-02-26T21:56:58.202576",
     "exception": false,
     "start_time": "2022-02-26T21:56:58.117454",
     "status": "completed"
    },
    "tags": []
   },
   "outputs": [
    {
     "name": "stdout",
     "output_type": "stream",
     "text": [
      "<class 'pandas.core.frame.DataFrame'>\n",
      "RangeIndex: 8693 entries, 0 to 8692\n",
      "Data columns (total 14 columns):\n",
      " #   Column        Non-Null Count  Dtype  \n",
      "---  ------        --------------  -----  \n",
      " 0   PassengerId   8693 non-null   object \n",
      " 1   HomePlanet    8492 non-null   object \n",
      " 2   CryoSleep     8476 non-null   object \n",
      " 3   Cabin         8494 non-null   object \n",
      " 4   Destination   8511 non-null   object \n",
      " 5   Age           8514 non-null   float64\n",
      " 6   VIP           8490 non-null   object \n",
      " 7   RoomService   8512 non-null   float64\n",
      " 8   FoodCourt     8510 non-null   float64\n",
      " 9   ShoppingMall  8485 non-null   float64\n",
      " 10  Spa           8510 non-null   float64\n",
      " 11  VRDeck        8505 non-null   float64\n",
      " 12  Name          8493 non-null   object \n",
      " 13  Transported   8693 non-null   bool   \n",
      "dtypes: bool(1), float64(6), object(7)\n",
      "memory usage: 891.5+ KB\n",
      "CPU times: user 17.7 ms, sys: 89 µs, total: 17.8 ms\n",
      "Wall time: 26.7 ms\n"
     ]
    }
   ],
   "source": [
    "%%time\n",
    "trn_data.info()"
   ]
  },
  {
   "cell_type": "code",
   "execution_count": 7,
   "id": "7ad03656",
   "metadata": {
    "execution": {
     "iopub.execute_input": "2022-02-26T21:56:58.311923Z",
     "iopub.status.busy": "2022-02-26T21:56:58.307344Z",
     "iopub.status.idle": "2022-02-26T21:56:58.329819Z",
     "shell.execute_reply": "2022-02-26T21:56:58.330464Z",
     "shell.execute_reply.started": "2022-02-26T21:53:38.383858Z"
    },
    "papermill": {
     "duration": 0.076877,
     "end_time": "2022-02-26T21:56:58.330647",
     "exception": false,
     "start_time": "2022-02-26T21:56:58.253770",
     "status": "completed"
    },
    "tags": []
   },
   "outputs": [
    {
     "name": "stdout",
     "output_type": "stream",
     "text": [
      "CPU times: user 113 µs, sys: 15 µs, total: 128 µs\n",
      "Wall time: 132 µs\n"
     ]
    },
    {
     "data": {
      "text/html": [
       "<div>\n",
       "<style scoped>\n",
       "    .dataframe tbody tr th:only-of-type {\n",
       "        vertical-align: middle;\n",
       "    }\n",
       "\n",
       "    .dataframe tbody tr th {\n",
       "        vertical-align: top;\n",
       "    }\n",
       "\n",
       "    .dataframe thead th {\n",
       "        text-align: right;\n",
       "    }\n",
       "</style>\n",
       "<table border=\"1\" class=\"dataframe\">\n",
       "  <thead>\n",
       "    <tr style=\"text-align: right;\">\n",
       "      <th></th>\n",
       "      <th>PassengerId</th>\n",
       "      <th>HomePlanet</th>\n",
       "      <th>CryoSleep</th>\n",
       "      <th>Cabin</th>\n",
       "      <th>Destination</th>\n",
       "      <th>Age</th>\n",
       "      <th>VIP</th>\n",
       "      <th>RoomService</th>\n",
       "      <th>FoodCourt</th>\n",
       "      <th>ShoppingMall</th>\n",
       "      <th>Spa</th>\n",
       "      <th>VRDeck</th>\n",
       "      <th>Name</th>\n",
       "      <th>Transported</th>\n",
       "    </tr>\n",
       "  </thead>\n",
       "  <tbody>\n",
       "    <tr>\n",
       "      <th>0</th>\n",
       "      <td>0001_01</td>\n",
       "      <td>Europa</td>\n",
       "      <td>False</td>\n",
       "      <td>B/0/P</td>\n",
       "      <td>TRAPPIST-1e</td>\n",
       "      <td>39.00</td>\n",
       "      <td>False</td>\n",
       "      <td>0.00</td>\n",
       "      <td>0.00</td>\n",
       "      <td>0.00</td>\n",
       "      <td>0.00</td>\n",
       "      <td>0.00</td>\n",
       "      <td>Maham Ofracculy</td>\n",
       "      <td>False</td>\n",
       "    </tr>\n",
       "    <tr>\n",
       "      <th>1</th>\n",
       "      <td>0002_01</td>\n",
       "      <td>Earth</td>\n",
       "      <td>False</td>\n",
       "      <td>F/0/S</td>\n",
       "      <td>TRAPPIST-1e</td>\n",
       "      <td>24.00</td>\n",
       "      <td>False</td>\n",
       "      <td>109.00</td>\n",
       "      <td>9.00</td>\n",
       "      <td>25.00</td>\n",
       "      <td>549.00</td>\n",
       "      <td>44.00</td>\n",
       "      <td>Juanna Vines</td>\n",
       "      <td>True</td>\n",
       "    </tr>\n",
       "    <tr>\n",
       "      <th>2</th>\n",
       "      <td>0003_01</td>\n",
       "      <td>Europa</td>\n",
       "      <td>False</td>\n",
       "      <td>A/0/S</td>\n",
       "      <td>TRAPPIST-1e</td>\n",
       "      <td>58.00</td>\n",
       "      <td>True</td>\n",
       "      <td>43.00</td>\n",
       "      <td>3,576.00</td>\n",
       "      <td>0.00</td>\n",
       "      <td>6,715.00</td>\n",
       "      <td>49.00</td>\n",
       "      <td>Altark Susent</td>\n",
       "      <td>False</td>\n",
       "    </tr>\n",
       "    <tr>\n",
       "      <th>3</th>\n",
       "      <td>0003_02</td>\n",
       "      <td>Europa</td>\n",
       "      <td>False</td>\n",
       "      <td>A/0/S</td>\n",
       "      <td>TRAPPIST-1e</td>\n",
       "      <td>33.00</td>\n",
       "      <td>False</td>\n",
       "      <td>0.00</td>\n",
       "      <td>1,283.00</td>\n",
       "      <td>371.00</td>\n",
       "      <td>3,329.00</td>\n",
       "      <td>193.00</td>\n",
       "      <td>Solam Susent</td>\n",
       "      <td>False</td>\n",
       "    </tr>\n",
       "    <tr>\n",
       "      <th>4</th>\n",
       "      <td>0004_01</td>\n",
       "      <td>Earth</td>\n",
       "      <td>False</td>\n",
       "      <td>F/1/S</td>\n",
       "      <td>TRAPPIST-1e</td>\n",
       "      <td>16.00</td>\n",
       "      <td>False</td>\n",
       "      <td>303.00</td>\n",
       "      <td>70.00</td>\n",
       "      <td>151.00</td>\n",
       "      <td>565.00</td>\n",
       "      <td>2.00</td>\n",
       "      <td>Willy Santantines</td>\n",
       "      <td>True</td>\n",
       "    </tr>\n",
       "  </tbody>\n",
       "</table>\n",
       "</div>"
      ],
      "text/plain": [
       "  PassengerId HomePlanet CryoSleep  Cabin  Destination   Age    VIP  \\\n",
       "0     0001_01     Europa     False  B/0/P  TRAPPIST-1e 39.00  False   \n",
       "1     0002_01      Earth     False  F/0/S  TRAPPIST-1e 24.00  False   \n",
       "2     0003_01     Europa     False  A/0/S  TRAPPIST-1e 58.00   True   \n",
       "3     0003_02     Europa     False  A/0/S  TRAPPIST-1e 33.00  False   \n",
       "4     0004_01      Earth     False  F/1/S  TRAPPIST-1e 16.00  False   \n",
       "\n",
       "   RoomService  FoodCourt  ShoppingMall      Spa  VRDeck               Name  \\\n",
       "0         0.00       0.00          0.00     0.00    0.00    Maham Ofracculy   \n",
       "1       109.00       9.00         25.00   549.00   44.00       Juanna Vines   \n",
       "2        43.00   3,576.00          0.00 6,715.00   49.00      Altark Susent   \n",
       "3         0.00   1,283.00        371.00 3,329.00  193.00       Solam Susent   \n",
       "4       303.00      70.00        151.00   565.00    2.00  Willy Santantines   \n",
       "\n",
       "   Transported  \n",
       "0        False  \n",
       "1         True  \n",
       "2        False  \n",
       "3        False  \n",
       "4         True  "
      ]
     },
     "execution_count": 7,
     "metadata": {},
     "output_type": "execute_result"
    }
   ],
   "source": [
    "%%time\n",
    "trn_data.head()"
   ]
  },
  {
   "cell_type": "code",
   "execution_count": 8,
   "id": "efd88190",
   "metadata": {
    "execution": {
     "iopub.execute_input": "2022-02-26T21:56:58.437454Z",
     "iopub.status.busy": "2022-02-26T21:56:58.436838Z",
     "iopub.status.idle": "2022-02-26T21:56:58.467146Z",
     "shell.execute_reply": "2022-02-26T21:56:58.466621Z",
     "shell.execute_reply.started": "2022-02-26T21:53:38.402367Z"
    },
    "papermill": {
     "duration": 0.084637,
     "end_time": "2022-02-26T21:56:58.467297",
     "exception": false,
     "start_time": "2022-02-26T21:56:58.382660",
     "status": "completed"
    },
    "tags": []
   },
   "outputs": [
    {
     "name": "stdout",
     "output_type": "stream",
     "text": [
      "CPU times: user 15.5 ms, sys: 59 µs, total: 15.5 ms\n",
      "Wall time: 17.3 ms\n"
     ]
    },
    {
     "data": {
      "text/html": [
       "<div>\n",
       "<style scoped>\n",
       "    .dataframe tbody tr th:only-of-type {\n",
       "        vertical-align: middle;\n",
       "    }\n",
       "\n",
       "    .dataframe tbody tr th {\n",
       "        vertical-align: top;\n",
       "    }\n",
       "\n",
       "    .dataframe thead th {\n",
       "        text-align: right;\n",
       "    }\n",
       "</style>\n",
       "<table border=\"1\" class=\"dataframe\">\n",
       "  <thead>\n",
       "    <tr style=\"text-align: right;\">\n",
       "      <th></th>\n",
       "      <th>Age</th>\n",
       "      <th>RoomService</th>\n",
       "      <th>FoodCourt</th>\n",
       "      <th>ShoppingMall</th>\n",
       "      <th>Spa</th>\n",
       "      <th>VRDeck</th>\n",
       "    </tr>\n",
       "  </thead>\n",
       "  <tbody>\n",
       "    <tr>\n",
       "      <th>count</th>\n",
       "      <td>8,514.00</td>\n",
       "      <td>8,512.00</td>\n",
       "      <td>8,510.00</td>\n",
       "      <td>8,485.00</td>\n",
       "      <td>8,510.00</td>\n",
       "      <td>8,505.00</td>\n",
       "    </tr>\n",
       "    <tr>\n",
       "      <th>mean</th>\n",
       "      <td>28.83</td>\n",
       "      <td>224.69</td>\n",
       "      <td>458.08</td>\n",
       "      <td>173.73</td>\n",
       "      <td>311.14</td>\n",
       "      <td>304.85</td>\n",
       "    </tr>\n",
       "    <tr>\n",
       "      <th>std</th>\n",
       "      <td>14.49</td>\n",
       "      <td>666.72</td>\n",
       "      <td>1,611.49</td>\n",
       "      <td>604.70</td>\n",
       "      <td>1,136.71</td>\n",
       "      <td>1,145.72</td>\n",
       "    </tr>\n",
       "    <tr>\n",
       "      <th>min</th>\n",
       "      <td>0.00</td>\n",
       "      <td>0.00</td>\n",
       "      <td>0.00</td>\n",
       "      <td>0.00</td>\n",
       "      <td>0.00</td>\n",
       "      <td>0.00</td>\n",
       "    </tr>\n",
       "    <tr>\n",
       "      <th>25%</th>\n",
       "      <td>19.00</td>\n",
       "      <td>0.00</td>\n",
       "      <td>0.00</td>\n",
       "      <td>0.00</td>\n",
       "      <td>0.00</td>\n",
       "      <td>0.00</td>\n",
       "    </tr>\n",
       "    <tr>\n",
       "      <th>50%</th>\n",
       "      <td>27.00</td>\n",
       "      <td>0.00</td>\n",
       "      <td>0.00</td>\n",
       "      <td>0.00</td>\n",
       "      <td>0.00</td>\n",
       "      <td>0.00</td>\n",
       "    </tr>\n",
       "    <tr>\n",
       "      <th>75%</th>\n",
       "      <td>38.00</td>\n",
       "      <td>47.00</td>\n",
       "      <td>76.00</td>\n",
       "      <td>27.00</td>\n",
       "      <td>59.00</td>\n",
       "      <td>46.00</td>\n",
       "    </tr>\n",
       "    <tr>\n",
       "      <th>max</th>\n",
       "      <td>79.00</td>\n",
       "      <td>14,327.00</td>\n",
       "      <td>29,813.00</td>\n",
       "      <td>23,492.00</td>\n",
       "      <td>22,408.00</td>\n",
       "      <td>24,133.00</td>\n",
       "    </tr>\n",
       "  </tbody>\n",
       "</table>\n",
       "</div>"
      ],
      "text/plain": [
       "           Age  RoomService  FoodCourt  ShoppingMall       Spa    VRDeck\n",
       "count 8,514.00     8,512.00   8,510.00      8,485.00  8,510.00  8,505.00\n",
       "mean     28.83       224.69     458.08        173.73    311.14    304.85\n",
       "std      14.49       666.72   1,611.49        604.70  1,136.71  1,145.72\n",
       "min       0.00         0.00       0.00          0.00      0.00      0.00\n",
       "25%      19.00         0.00       0.00          0.00      0.00      0.00\n",
       "50%      27.00         0.00       0.00          0.00      0.00      0.00\n",
       "75%      38.00        47.00      76.00         27.00     59.00     46.00\n",
       "max      79.00    14,327.00  29,813.00     23,492.00 22,408.00 24,133.00"
      ]
     },
     "execution_count": 8,
     "metadata": {},
     "output_type": "execute_result"
    }
   ],
   "source": [
    "%%time\n",
    "trn_data.describe()"
   ]
  },
  {
   "cell_type": "code",
   "execution_count": 9,
   "id": "845d790b",
   "metadata": {
    "execution": {
     "iopub.execute_input": "2022-02-26T21:56:58.575990Z",
     "iopub.status.busy": "2022-02-26T21:56:58.575384Z",
     "iopub.status.idle": "2022-02-26T21:56:58.582612Z",
     "shell.execute_reply": "2022-02-26T21:56:58.584001Z",
     "shell.execute_reply.started": "2022-02-26T21:53:38.435161Z"
    },
    "papermill": {
     "duration": 0.06418,
     "end_time": "2022-02-26T21:56:58.584333",
     "exception": false,
     "start_time": "2022-02-26T21:56:58.520153",
     "status": "completed"
    },
    "tags": []
   },
   "outputs": [
    {
     "name": "stdout",
     "output_type": "stream",
     "text": [
      "CPU times: user 4 µs, sys: 0 ns, total: 4 µs\n",
      "Wall time: 8.58 µs\n"
     ]
    }
   ],
   "source": [
    "%%time\n",
    "def describe_categ(df):\n",
    "    for col in df.columns:\n",
    "        unique_samples = list(df[col].unique())\n",
    "        unique_values = df[col].nunique()\n",
    "\n",
    "        print(f' {col}: {unique_values} Unique Values,  Data Sample >> {unique_samples[:5]}')\n",
    "    print(' ...')\n",
    "    return None"
   ]
  },
  {
   "cell_type": "code",
   "execution_count": 10,
   "id": "2bcc47f8",
   "metadata": {
    "execution": {
     "iopub.execute_input": "2022-02-26T21:56:58.705277Z",
     "iopub.status.busy": "2022-02-26T21:56:58.704273Z",
     "iopub.status.idle": "2022-02-26T21:56:58.734932Z",
     "shell.execute_reply": "2022-02-26T21:56:58.735503Z",
     "shell.execute_reply.started": "2022-02-26T21:53:38.443412Z"
    },
    "papermill": {
     "duration": 0.089853,
     "end_time": "2022-02-26T21:56:58.735683",
     "exception": false,
     "start_time": "2022-02-26T21:56:58.645830",
     "status": "completed"
    },
    "tags": []
   },
   "outputs": [
    {
     "name": "stdout",
     "output_type": "stream",
     "text": [
      " PassengerId: 8693 Unique Values,  Data Sample >> ['0001_01', '0002_01', '0003_01', '0003_02', '0004_01']\n",
      " HomePlanet: 3 Unique Values,  Data Sample >> ['Europa', 'Earth', 'Mars', nan]\n",
      " CryoSleep: 2 Unique Values,  Data Sample >> [False, True, nan]\n",
      " Cabin: 6560 Unique Values,  Data Sample >> ['B/0/P', 'F/0/S', 'A/0/S', 'F/1/S', 'F/0/P']\n",
      " Destination: 3 Unique Values,  Data Sample >> ['TRAPPIST-1e', 'PSO J318.5-22', '55 Cancri e', nan]\n",
      " Age: 80 Unique Values,  Data Sample >> [39.0, 24.0, 58.0, 33.0, 16.0]\n",
      " VIP: 2 Unique Values,  Data Sample >> [False, True, nan]\n",
      " RoomService: 1273 Unique Values,  Data Sample >> [0.0, 109.0, 43.0, 303.0, 42.0]\n",
      " FoodCourt: 1507 Unique Values,  Data Sample >> [0.0, 9.0, 3576.0, 1283.0, 70.0]\n",
      " ShoppingMall: 1115 Unique Values,  Data Sample >> [0.0, 25.0, 371.0, 151.0, 3.0]\n",
      " Spa: 1327 Unique Values,  Data Sample >> [0.0, 549.0, 6715.0, 3329.0, 565.0]\n",
      " VRDeck: 1306 Unique Values,  Data Sample >> [0.0, 44.0, 49.0, 193.0, 2.0]\n",
      " Name: 8473 Unique Values,  Data Sample >> ['Maham Ofracculy', 'Juanna Vines', 'Altark Susent', 'Solam Susent', 'Willy Santantines']\n",
      " Transported: 2 Unique Values,  Data Sample >> [False, True]\n",
      " ...\n",
      "CPU times: user 25.6 ms, sys: 773 µs, total: 26.4 ms\n",
      "Wall time: 28.7 ms\n"
     ]
    }
   ],
   "source": [
    "%%time\n",
    "describe_categ(trn_data)"
   ]
  },
  {
   "cell_type": "code",
   "execution_count": 11,
   "id": "27f1a991",
   "metadata": {
    "execution": {
     "iopub.execute_input": "2022-02-26T21:56:58.848957Z",
     "iopub.status.busy": "2022-02-26T21:56:58.847935Z",
     "iopub.status.idle": "2022-02-26T21:56:58.868925Z",
     "shell.execute_reply": "2022-02-26T21:56:58.868374Z",
     "shell.execute_reply.started": "2022-02-26T21:53:38.477492Z"
    },
    "papermill": {
     "duration": 0.079394,
     "end_time": "2022-02-26T21:56:58.869062",
     "exception": false,
     "start_time": "2022-02-26T21:56:58.789668",
     "status": "completed"
    },
    "tags": []
   },
   "outputs": [
    {
     "name": "stdout",
     "output_type": "stream",
     "text": [
      " PassengerId: 4277 Unique Values,  Data Sample >> ['0013_01', '0018_01', '0019_01', '0021_01', '0023_01']\n",
      " HomePlanet: 3 Unique Values,  Data Sample >> ['Earth', 'Europa', 'Mars', nan]\n",
      " CryoSleep: 2 Unique Values,  Data Sample >> [True, False, nan]\n",
      " Cabin: 3265 Unique Values,  Data Sample >> ['G/3/S', 'F/4/S', 'C/0/S', 'C/1/S', 'F/5/S']\n",
      " Destination: 3 Unique Values,  Data Sample >> ['TRAPPIST-1e', '55 Cancri e', 'PSO J318.5-22', nan]\n",
      " Age: 79 Unique Values,  Data Sample >> [27.0, 19.0, 31.0, 38.0, 20.0]\n",
      " VIP: 2 Unique Values,  Data Sample >> [False, nan, True]\n",
      " RoomService: 842 Unique Values,  Data Sample >> [0.0, 10.0, 339.0, 932.0, 2.0]\n",
      " FoodCourt: 902 Unique Values,  Data Sample >> [0.0, 9.0, 6652.0, 1615.0, nan]\n",
      " ShoppingMall: 715 Unique Values,  Data Sample >> [0.0, 635.0, 263.0, 136.0, nan]\n",
      " Spa: 833 Unique Values,  Data Sample >> [0.0, 2823.0, 181.0, 113.0, 237.0]\n",
      " VRDeck: 796 Unique Values,  Data Sample >> [0.0, 585.0, 60.0, 1010.0, 224.0]\n",
      " Name: 4176 Unique Values,  Data Sample >> ['Nelly Carsoning', 'Lerome Peckers', 'Sabih Unhearfus', 'Meratz Caltilter', 'Brence Harperez']\n",
      " ...\n",
      "CPU times: user 14 ms, sys: 1 ms, total: 15 ms\n",
      "Wall time: 15 ms\n"
     ]
    }
   ],
   "source": [
    "%%time\n",
    "describe_categ(tst_data)"
   ]
  },
  {
   "cell_type": "code",
   "execution_count": 12,
   "id": "391969dc",
   "metadata": {
    "execution": {
     "iopub.execute_input": "2022-02-26T21:56:58.986449Z",
     "iopub.status.busy": "2022-02-26T21:56:58.985740Z",
     "iopub.status.idle": "2022-02-26T21:56:58.998814Z",
     "shell.execute_reply": "2022-02-26T21:56:58.999341Z",
     "shell.execute_reply.started": "2022-02-26T21:53:38.500589Z"
    },
    "papermill": {
     "duration": 0.076467,
     "end_time": "2022-02-26T21:56:58.999510",
     "exception": false,
     "start_time": "2022-02-26T21:56:58.923043",
     "status": "completed"
    },
    "tags": []
   },
   "outputs": [
    {
     "data": {
      "text/plain": [
       "PassengerId       0\n",
       "HomePlanet      201\n",
       "CryoSleep       217\n",
       "Cabin           199\n",
       "Destination     182\n",
       "Age             179\n",
       "VIP             203\n",
       "RoomService     181\n",
       "FoodCourt       183\n",
       "ShoppingMall    208\n",
       "Spa             183\n",
       "VRDeck          188\n",
       "Name            200\n",
       "Transported       0\n",
       "dtype: int64"
      ]
     },
     "execution_count": 12,
     "metadata": {},
     "output_type": "execute_result"
    }
   ],
   "source": [
    "trn_data.isnull().sum()"
   ]
  },
  {
   "cell_type": "code",
   "execution_count": 13,
   "id": "e8e02de7",
   "metadata": {
    "execution": {
     "iopub.execute_input": "2022-02-26T21:56:59.111382Z",
     "iopub.status.busy": "2022-02-26T21:56:59.110743Z",
     "iopub.status.idle": "2022-02-26T21:56:59.124487Z",
     "shell.execute_reply": "2022-02-26T21:56:59.124947Z",
     "shell.execute_reply.started": "2022-02-26T21:53:38.515241Z"
    },
    "papermill": {
     "duration": 0.071104,
     "end_time": "2022-02-26T21:56:59.125120",
     "exception": false,
     "start_time": "2022-02-26T21:56:59.054016",
     "status": "completed"
    },
    "tags": []
   },
   "outputs": [
    {
     "data": {
      "text/html": [
       "<div>\n",
       "<style scoped>\n",
       "    .dataframe tbody tr th:only-of-type {\n",
       "        vertical-align: middle;\n",
       "    }\n",
       "\n",
       "    .dataframe tbody tr th {\n",
       "        vertical-align: top;\n",
       "    }\n",
       "\n",
       "    .dataframe thead th {\n",
       "        text-align: right;\n",
       "    }\n",
       "</style>\n",
       "<table border=\"1\" class=\"dataframe\">\n",
       "  <thead>\n",
       "    <tr style=\"text-align: right;\">\n",
       "      <th></th>\n",
       "      <th>PassengerId</th>\n",
       "      <th>HomePlanet</th>\n",
       "      <th>CryoSleep</th>\n",
       "      <th>Cabin</th>\n",
       "      <th>Destination</th>\n",
       "      <th>Age</th>\n",
       "      <th>VIP</th>\n",
       "      <th>RoomService</th>\n",
       "      <th>FoodCourt</th>\n",
       "      <th>ShoppingMall</th>\n",
       "      <th>Spa</th>\n",
       "      <th>VRDeck</th>\n",
       "      <th>Name</th>\n",
       "    </tr>\n",
       "  </thead>\n",
       "  <tbody>\n",
       "    <tr>\n",
       "      <th>0</th>\n",
       "      <td>0013_01</td>\n",
       "      <td>Earth</td>\n",
       "      <td>True</td>\n",
       "      <td>G/3/S</td>\n",
       "      <td>TRAPPIST-1e</td>\n",
       "      <td>27.00</td>\n",
       "      <td>False</td>\n",
       "      <td>0.00</td>\n",
       "      <td>0.00</td>\n",
       "      <td>0.00</td>\n",
       "      <td>0.00</td>\n",
       "      <td>0.00</td>\n",
       "      <td>Nelly Carsoning</td>\n",
       "    </tr>\n",
       "    <tr>\n",
       "      <th>1</th>\n",
       "      <td>0018_01</td>\n",
       "      <td>Earth</td>\n",
       "      <td>False</td>\n",
       "      <td>F/4/S</td>\n",
       "      <td>TRAPPIST-1e</td>\n",
       "      <td>19.00</td>\n",
       "      <td>False</td>\n",
       "      <td>0.00</td>\n",
       "      <td>9.00</td>\n",
       "      <td>0.00</td>\n",
       "      <td>2,823.00</td>\n",
       "      <td>0.00</td>\n",
       "      <td>Lerome Peckers</td>\n",
       "    </tr>\n",
       "    <tr>\n",
       "      <th>2</th>\n",
       "      <td>0019_01</td>\n",
       "      <td>Europa</td>\n",
       "      <td>True</td>\n",
       "      <td>C/0/S</td>\n",
       "      <td>55 Cancri e</td>\n",
       "      <td>31.00</td>\n",
       "      <td>False</td>\n",
       "      <td>0.00</td>\n",
       "      <td>0.00</td>\n",
       "      <td>0.00</td>\n",
       "      <td>0.00</td>\n",
       "      <td>0.00</td>\n",
       "      <td>Sabih Unhearfus</td>\n",
       "    </tr>\n",
       "    <tr>\n",
       "      <th>3</th>\n",
       "      <td>0021_01</td>\n",
       "      <td>Europa</td>\n",
       "      <td>False</td>\n",
       "      <td>C/1/S</td>\n",
       "      <td>TRAPPIST-1e</td>\n",
       "      <td>38.00</td>\n",
       "      <td>False</td>\n",
       "      <td>0.00</td>\n",
       "      <td>6,652.00</td>\n",
       "      <td>0.00</td>\n",
       "      <td>181.00</td>\n",
       "      <td>585.00</td>\n",
       "      <td>Meratz Caltilter</td>\n",
       "    </tr>\n",
       "    <tr>\n",
       "      <th>4</th>\n",
       "      <td>0023_01</td>\n",
       "      <td>Earth</td>\n",
       "      <td>False</td>\n",
       "      <td>F/5/S</td>\n",
       "      <td>TRAPPIST-1e</td>\n",
       "      <td>20.00</td>\n",
       "      <td>False</td>\n",
       "      <td>10.00</td>\n",
       "      <td>0.00</td>\n",
       "      <td>635.00</td>\n",
       "      <td>0.00</td>\n",
       "      <td>0.00</td>\n",
       "      <td>Brence Harperez</td>\n",
       "    </tr>\n",
       "  </tbody>\n",
       "</table>\n",
       "</div>"
      ],
      "text/plain": [
       "  PassengerId HomePlanet CryoSleep  Cabin  Destination   Age    VIP  \\\n",
       "0     0013_01      Earth      True  G/3/S  TRAPPIST-1e 27.00  False   \n",
       "1     0018_01      Earth     False  F/4/S  TRAPPIST-1e 19.00  False   \n",
       "2     0019_01     Europa      True  C/0/S  55 Cancri e 31.00  False   \n",
       "3     0021_01     Europa     False  C/1/S  TRAPPIST-1e 38.00  False   \n",
       "4     0023_01      Earth     False  F/5/S  TRAPPIST-1e 20.00  False   \n",
       "\n",
       "   RoomService  FoodCourt  ShoppingMall      Spa  VRDeck              Name  \n",
       "0         0.00       0.00          0.00     0.00    0.00   Nelly Carsoning  \n",
       "1         0.00       9.00          0.00 2,823.00    0.00    Lerome Peckers  \n",
       "2         0.00       0.00          0.00     0.00    0.00   Sabih Unhearfus  \n",
       "3         0.00   6,652.00          0.00   181.00  585.00  Meratz Caltilter  \n",
       "4        10.00       0.00        635.00     0.00    0.00   Brence Harperez  "
      ]
     },
     "execution_count": 13,
     "metadata": {},
     "output_type": "execute_result"
    }
   ],
   "source": [
    "tst_data.head()"
   ]
  },
  {
   "cell_type": "code",
   "execution_count": 14,
   "id": "54e4cd9c",
   "metadata": {
    "execution": {
     "iopub.execute_input": "2022-02-26T21:56:59.238344Z",
     "iopub.status.busy": "2022-02-26T21:56:59.237703Z",
     "iopub.status.idle": "2022-02-26T21:56:59.248125Z",
     "shell.execute_reply": "2022-02-26T21:56:59.248675Z",
     "shell.execute_reply.started": "2022-02-26T21:53:38.534504Z"
    },
    "papermill": {
     "duration": 0.068671,
     "end_time": "2022-02-26T21:56:59.248849",
     "exception": false,
     "start_time": "2022-02-26T21:56:59.180178",
     "status": "completed"
    },
    "tags": []
   },
   "outputs": [
    {
     "data": {
      "text/plain": [
       "PassengerId       0\n",
       "HomePlanet       87\n",
       "CryoSleep        93\n",
       "Cabin           100\n",
       "Destination      92\n",
       "Age              91\n",
       "VIP              93\n",
       "RoomService      82\n",
       "FoodCourt       106\n",
       "ShoppingMall     98\n",
       "Spa             101\n",
       "VRDeck           80\n",
       "Name             94\n",
       "dtype: int64"
      ]
     },
     "execution_count": 14,
     "metadata": {},
     "output_type": "execute_result"
    }
   ],
   "source": [
    "tst_data.isnull().sum()"
   ]
  },
  {
   "cell_type": "code",
   "execution_count": 15,
   "id": "593088e4",
   "metadata": {
    "execution": {
     "iopub.execute_input": "2022-02-26T21:56:59.369286Z",
     "iopub.status.busy": "2022-02-26T21:56:59.368461Z",
     "iopub.status.idle": "2022-02-26T21:56:59.371792Z",
     "shell.execute_reply": "2022-02-26T21:56:59.372279Z",
     "shell.execute_reply.started": "2022-02-26T21:53:38.547761Z"
    },
    "papermill": {
     "duration": 0.068093,
     "end_time": "2022-02-26T21:56:59.372442",
     "exception": false,
     "start_time": "2022-02-26T21:56:59.304349",
     "status": "completed"
    },
    "tags": []
   },
   "outputs": [
    {
     "data": {
      "text/html": [
       "<div>\n",
       "<style scoped>\n",
       "    .dataframe tbody tr th:only-of-type {\n",
       "        vertical-align: middle;\n",
       "    }\n",
       "\n",
       "    .dataframe tbody tr th {\n",
       "        vertical-align: top;\n",
       "    }\n",
       "\n",
       "    .dataframe thead th {\n",
       "        text-align: right;\n",
       "    }\n",
       "</style>\n",
       "<table border=\"1\" class=\"dataframe\">\n",
       "  <thead>\n",
       "    <tr style=\"text-align: right;\">\n",
       "      <th></th>\n",
       "      <th>PassengerId</th>\n",
       "      <th>Transported</th>\n",
       "    </tr>\n",
       "  </thead>\n",
       "  <tbody>\n",
       "    <tr>\n",
       "      <th>0</th>\n",
       "      <td>0013_01</td>\n",
       "      <td>False</td>\n",
       "    </tr>\n",
       "    <tr>\n",
       "      <th>1</th>\n",
       "      <td>0018_01</td>\n",
       "      <td>False</td>\n",
       "    </tr>\n",
       "    <tr>\n",
       "      <th>2</th>\n",
       "      <td>0019_01</td>\n",
       "      <td>False</td>\n",
       "    </tr>\n",
       "    <tr>\n",
       "      <th>3</th>\n",
       "      <td>0021_01</td>\n",
       "      <td>False</td>\n",
       "    </tr>\n",
       "    <tr>\n",
       "      <th>4</th>\n",
       "      <td>0023_01</td>\n",
       "      <td>False</td>\n",
       "    </tr>\n",
       "  </tbody>\n",
       "</table>\n",
       "</div>"
      ],
      "text/plain": [
       "  PassengerId  Transported\n",
       "0     0013_01        False\n",
       "1     0018_01        False\n",
       "2     0019_01        False\n",
       "3     0021_01        False\n",
       "4     0023_01        False"
      ]
     },
     "execution_count": 15,
     "metadata": {},
     "output_type": "execute_result"
    }
   ],
   "source": [
    "sub.head()"
   ]
  },
  {
   "cell_type": "markdown",
   "id": "a6e87ddb",
   "metadata": {
    "papermill": {
     "duration": 0.060704,
     "end_time": "2022-02-26T21:56:59.496603",
     "exception": false,
     "start_time": "2022-02-26T21:56:59.435899",
     "status": "completed"
    },
    "tags": []
   },
   "source": [
    "# Exploring the Target Variable..."
   ]
  },
  {
   "cell_type": "code",
   "execution_count": 16,
   "id": "6497c967",
   "metadata": {
    "execution": {
     "iopub.execute_input": "2022-02-26T21:56:59.642076Z",
     "iopub.status.busy": "2022-02-26T21:56:59.640985Z",
     "iopub.status.idle": "2022-02-26T21:56:59.648131Z",
     "shell.execute_reply": "2022-02-26T21:56:59.648843Z",
     "shell.execute_reply.started": "2022-02-26T21:53:38.558069Z"
    },
    "papermill": {
     "duration": 0.081818,
     "end_time": "2022-02-26T21:56:59.649091",
     "exception": false,
     "start_time": "2022-02-26T21:56:59.567273",
     "status": "completed"
    },
    "tags": []
   },
   "outputs": [
    {
     "name": "stdout",
     "output_type": "stream",
     "text": [
      "CPU times: user 5 µs, sys: 1e+03 ns, total: 6 µs\n",
      "Wall time: 8.82 µs\n"
     ]
    }
   ],
   "source": [
    "%%time\n",
    "def analyze_categ_target(df, target = 'Transported'):\n",
    "    \n",
    "    transported = df[df[target] == True].shape[0]\n",
    "    not_transported = df[df[target] == False].shape[0]\n",
    "    total = transported + not_transported\n",
    "    \n",
    "    print(f'Transported     : {transported / total:.2f} %')\n",
    "    print(f'Not Transported : {not_transported / total:.2f} %')\n",
    "    print(f'Total Passengers: {total}')\n",
    "    print('...')"
   ]
  },
  {
   "cell_type": "code",
   "execution_count": 17,
   "id": "8c0b6cd8",
   "metadata": {
    "execution": {
     "iopub.execute_input": "2022-02-26T21:56:59.766461Z",
     "iopub.status.busy": "2022-02-26T21:56:59.765827Z",
     "iopub.status.idle": "2022-02-26T21:56:59.775909Z",
     "shell.execute_reply": "2022-02-26T21:56:59.776522Z",
     "shell.execute_reply.started": "2022-02-26T21:53:38.571479Z"
    },
    "papermill": {
     "duration": 0.070142,
     "end_time": "2022-02-26T21:56:59.776713",
     "exception": false,
     "start_time": "2022-02-26T21:56:59.706571",
     "status": "completed"
    },
    "tags": []
   },
   "outputs": [
    {
     "name": "stdout",
     "output_type": "stream",
     "text": [
      "Transported     : 0.50 %\n",
      "Not Transported : 0.50 %\n",
      "Total Passengers: 8693\n",
      "...\n",
      "CPU times: user 2.68 ms, sys: 959 µs, total: 3.64 ms\n",
      "Wall time: 4.84 ms\n"
     ]
    }
   ],
   "source": [
    "%%time\n",
    "analyze_categ_target(trn_data)"
   ]
  },
  {
   "cell_type": "code",
   "execution_count": 18,
   "id": "5500db35",
   "metadata": {
    "execution": {
     "iopub.execute_input": "2022-02-26T21:56:59.894313Z",
     "iopub.status.busy": "2022-02-26T21:56:59.893666Z",
     "iopub.status.idle": "2022-02-26T21:56:59.904643Z",
     "shell.execute_reply": "2022-02-26T21:56:59.903635Z",
     "shell.execute_reply.started": "2022-02-26T21:53:38.587338Z"
    },
    "papermill": {
     "duration": 0.070107,
     "end_time": "2022-02-26T21:56:59.904890",
     "exception": false,
     "start_time": "2022-02-26T21:56:59.834783",
     "status": "completed"
    },
    "tags": []
   },
   "outputs": [
    {
     "name": "stdout",
     "output_type": "stream",
     "text": [
      "Overlapped Passengers: 0\n",
      "CPU times: user 3.49 ms, sys: 64 µs, total: 3.55 ms\n",
      "Wall time: 3.56 ms\n"
     ]
    }
   ],
   "source": [
    "%%time\n",
    "trn_passenger_ids = set(trn_data['PassengerId'].unique())\n",
    "tst_passenger_ids = set(tst_data['PassengerId'].unique())\n",
    "intersection = trn_passenger_ids.intersection(tst_passenger_ids)\n",
    "print('Overlapped Passengers:', len(intersection))"
   ]
  },
  {
   "cell_type": "markdown",
   "id": "7277be24",
   "metadata": {
    "papermill": {
     "duration": 0.06006,
     "end_time": "2022-02-26T21:57:00.024558",
     "exception": false,
     "start_time": "2022-02-26T21:56:59.964498",
     "status": "completed"
    },
    "tags": []
   },
   "source": [
    "# Feature Engineering"
   ]
  },
  {
   "cell_type": "code",
   "execution_count": 19,
   "id": "3af2169e",
   "metadata": {
    "execution": {
     "iopub.execute_input": "2022-02-26T21:57:00.146710Z",
     "iopub.status.busy": "2022-02-26T21:57:00.146013Z",
     "iopub.status.idle": "2022-02-26T21:57:00.148451Z",
     "shell.execute_reply": "2022-02-26T21:57:00.148960Z",
     "shell.execute_reply.started": "2022-02-26T21:53:38.601514Z"
    },
    "papermill": {
     "duration": 0.067211,
     "end_time": "2022-02-26T21:57:00.149123",
     "exception": false,
     "start_time": "2022-02-26T21:57:00.081912",
     "status": "completed"
    },
    "tags": []
   },
   "outputs": [],
   "source": [
    "def fill_missing(df):\n",
    "    numerics = ['int16', 'int32', 'int64', 'float16', 'float32', 'float64']\n",
    "    numeric_tmp = df.select_dtypes(include = numerics)\n",
    "    categ_tmp = df.select_dtypes(exclude = numerics)\n",
    "\n",
    "    for col in numeric_tmp.columns:\n",
    "        print(col)\n",
    "        df[col] = df[col].fillna(value = df[col].mean())\n",
    "        \n",
    "    for col in categ_tmp.columns:\n",
    "        print(col)\n",
    "        df[col] = df[col].fillna(value = df[col].mode()[0])\n",
    "        \n",
    "    print('...')\n",
    "    return df"
   ]
  },
  {
   "cell_type": "code",
   "execution_count": 20,
   "id": "1b659b5f",
   "metadata": {
    "execution": {
     "iopub.execute_input": "2022-02-26T21:57:00.270838Z",
     "iopub.status.busy": "2022-02-26T21:57:00.269861Z",
     "iopub.status.idle": "2022-02-26T21:57:00.349017Z",
     "shell.execute_reply": "2022-02-26T21:57:00.348465Z",
     "shell.execute_reply.started": "2022-02-26T21:53:38.611026Z"
    },
    "papermill": {
     "duration": 0.142117,
     "end_time": "2022-02-26T21:57:00.349153",
     "exception": false,
     "start_time": "2022-02-26T21:57:00.207036",
     "status": "completed"
    },
    "tags": []
   },
   "outputs": [
    {
     "name": "stdout",
     "output_type": "stream",
     "text": [
      "Age\n",
      "RoomService\n",
      "FoodCourt\n",
      "ShoppingMall\n",
      "Spa\n",
      "VRDeck\n",
      "PassengerId\n",
      "HomePlanet\n",
      "CryoSleep\n",
      "Cabin\n",
      "Destination\n",
      "VIP\n",
      "Name\n",
      "Transported\n",
      "...\n",
      "Age\n",
      "RoomService\n",
      "FoodCourt\n",
      "ShoppingMall\n",
      "Spa\n",
      "VRDeck\n",
      "PassengerId\n",
      "HomePlanet\n",
      "CryoSleep\n",
      "Cabin\n",
      "Destination\n",
      "VIP\n",
      "Name\n",
      "...\n"
     ]
    }
   ],
   "source": [
    "trn_data =  fill_missing(trn_data)\n",
    "tst_data =  fill_missing(tst_data)"
   ]
  },
  {
   "cell_type": "code",
   "execution_count": 21,
   "id": "e6589507",
   "metadata": {
    "execution": {
     "iopub.execute_input": "2022-02-26T21:57:00.470518Z",
     "iopub.status.busy": "2022-02-26T21:57:00.467436Z",
     "iopub.status.idle": "2022-02-26T21:57:00.473645Z",
     "shell.execute_reply": "2022-02-26T21:57:00.472844Z",
     "shell.execute_reply.started": "2022-02-26T21:53:38.683235Z"
    },
    "papermill": {
     "duration": 0.066888,
     "end_time": "2022-02-26T21:57:00.473827",
     "exception": false,
     "start_time": "2022-02-26T21:57:00.406939",
     "status": "completed"
    },
    "tags": []
   },
   "outputs": [
    {
     "name": "stdout",
     "output_type": "stream",
     "text": [
      "CPU times: user 4 µs, sys: 0 ns, total: 4 µs\n",
      "Wall time: 7.87 µs\n"
     ]
    }
   ],
   "source": [
    "%%time\n",
    "def total_billed(df):\n",
    "    '''\n",
    "    Calculates total amount billed in the trip to the passenger... \n",
    "    \n",
    "    '''\n",
    "    \n",
    "    df['Total_Billed'] = df['RoomService'] + df['FoodCourt'] + df['ShoppingMall'] + df['Spa'] + df['VRDeck']\n",
    "    return df"
   ]
  },
  {
   "cell_type": "code",
   "execution_count": 22,
   "id": "a12c1b53",
   "metadata": {
    "execution": {
     "iopub.execute_input": "2022-02-26T21:57:00.598559Z",
     "iopub.status.busy": "2022-02-26T21:57:00.597918Z",
     "iopub.status.idle": "2022-02-26T21:57:00.601473Z",
     "shell.execute_reply": "2022-02-26T21:57:00.600739Z",
     "shell.execute_reply.started": "2022-02-26T21:53:38.691866Z"
    },
    "papermill": {
     "duration": 0.068848,
     "end_time": "2022-02-26T21:57:00.601657",
     "exception": false,
     "start_time": "2022-02-26T21:57:00.532809",
     "status": "completed"
    },
    "tags": []
   },
   "outputs": [
    {
     "name": "stdout",
     "output_type": "stream",
     "text": [
      "CPU times: user 2.91 ms, sys: 0 ns, total: 2.91 ms\n",
      "Wall time: 2.87 ms\n"
     ]
    }
   ],
   "source": [
    "%%time\n",
    "trn_data = total_billed(trn_data)\n",
    "tst_data = total_billed(tst_data)"
   ]
  },
  {
   "cell_type": "code",
   "execution_count": 23,
   "id": "9a8d6b7a",
   "metadata": {
    "execution": {
     "iopub.execute_input": "2022-02-26T21:57:00.722567Z",
     "iopub.status.busy": "2022-02-26T21:57:00.721955Z",
     "iopub.status.idle": "2022-02-26T21:57:00.726813Z",
     "shell.execute_reply": "2022-02-26T21:57:00.727303Z",
     "shell.execute_reply.started": "2022-02-26T21:53:38.709631Z"
    },
    "papermill": {
     "duration": 0.066325,
     "end_time": "2022-02-26T21:57:00.727456",
     "exception": false,
     "start_time": "2022-02-26T21:57:00.661131",
     "status": "completed"
    },
    "tags": []
   },
   "outputs": [],
   "source": [
    "def name_ext(df):\n",
    "    '''\n",
    "    '''\n",
    "    df['FirstName'] = df['Name'].str.split(' ', expand=True)[0]\n",
    "    df['FamilyName'] = df['Name'].str.split(' ', expand=True)[1]\n",
    "    df.drop(columns = ['Name'], inplace = True)\n",
    "    return df"
   ]
  },
  {
   "cell_type": "code",
   "execution_count": 24,
   "id": "b8d4c2e2",
   "metadata": {
    "execution": {
     "iopub.execute_input": "2022-02-26T21:57:00.847951Z",
     "iopub.status.busy": "2022-02-26T21:57:00.847330Z",
     "iopub.status.idle": "2022-02-26T21:57:01.006101Z",
     "shell.execute_reply": "2022-02-26T21:57:01.007011Z",
     "shell.execute_reply.started": "2022-02-26T21:53:38.717044Z"
    },
    "papermill": {
     "duration": 0.221557,
     "end_time": "2022-02-26T21:57:01.007232",
     "exception": false,
     "start_time": "2022-02-26T21:57:00.785675",
     "status": "completed"
    },
    "tags": []
   },
   "outputs": [
    {
     "name": "stdout",
     "output_type": "stream",
     "text": [
      "CPU times: user 150 ms, sys: 2.54 ms, total: 153 ms\n",
      "Wall time: 153 ms\n"
     ]
    }
   ],
   "source": [
    "%%time\n",
    "trn_data = name_ext(trn_data)\n",
    "tst_data = name_ext(tst_data)"
   ]
  },
  {
   "cell_type": "markdown",
   "id": "4d81dd53",
   "metadata": {
    "papermill": {
     "duration": 0.058017,
     "end_time": "2022-02-26T21:57:01.125526",
     "exception": false,
     "start_time": "2022-02-26T21:57:01.067509",
     "status": "completed"
    },
    "tags": []
   },
   "source": [
    "# Pre-Processing for Training"
   ]
  },
  {
   "cell_type": "code",
   "execution_count": 25,
   "id": "5a5cad1c",
   "metadata": {
    "execution": {
     "iopub.execute_input": "2022-02-26T21:57:01.248261Z",
     "iopub.status.busy": "2022-02-26T21:57:01.247636Z",
     "iopub.status.idle": "2022-02-26T21:57:01.253592Z",
     "shell.execute_reply": "2022-02-26T21:57:01.254071Z",
     "shell.execute_reply.started": "2022-02-26T21:53:38.775094Z"
    },
    "papermill": {
     "duration": 0.069183,
     "end_time": "2022-02-26T21:57:01.254262",
     "exception": false,
     "start_time": "2022-02-26T21:57:01.185079",
     "status": "completed"
    },
    "tags": []
   },
   "outputs": [
    {
     "name": "stdout",
     "output_type": "stream",
     "text": [
      "CPU times: user 5 µs, sys: 0 ns, total: 5 µs\n",
      "Wall time: 8.11 µs\n"
     ]
    }
   ],
   "source": [
    "%%time\n",
    "numerical_features = ['Age', 'RoomService', 'FoodCourt', 'ShoppingMall', 'Spa', 'VRDeck', 'total_billed']\n",
    "\n",
    "categorical_features = [\n",
    "                        #'PassengerId',\n",
    "                        'HomePlanet',\n",
    "                        'CryoSleep',\n",
    "                        'Cabin',\n",
    "                        'Destination',\n",
    "                        'VIP',\n",
    "                        'FirstName',\n",
    "                        'FamilyName',\n",
    "                        ]\n",
    "\n",
    "target_feature = 'Transported'"
   ]
  },
  {
   "cell_type": "code",
   "execution_count": 26,
   "id": "e899d7b5",
   "metadata": {
    "execution": {
     "iopub.execute_input": "2022-02-26T21:57:01.375921Z",
     "iopub.status.busy": "2022-02-26T21:57:01.375318Z",
     "iopub.status.idle": "2022-02-26T21:57:02.204464Z",
     "shell.execute_reply": "2022-02-26T21:57:02.203874Z",
     "shell.execute_reply.started": "2022-02-26T21:53:38.784720Z"
    },
    "papermill": {
     "duration": 0.891248,
     "end_time": "2022-02-26T21:57:02.204605",
     "exception": false,
     "start_time": "2022-02-26T21:57:01.313357",
     "status": "completed"
    },
    "tags": []
   },
   "outputs": [
    {
     "name": "stdout",
     "output_type": "stream",
     "text": [
      "CPU times: user 426 ms, sys: 338 ms, total: 764 ms\n",
      "Wall time: 821 ms\n"
     ]
    }
   ],
   "source": [
    "%%time\n",
    "from sklearn.preprocessing import LabelEncoder \n",
    "\n",
    "def encode_categorical(train_df, test_df, categ_feat = categorical_features):\n",
    "    '''\n",
    "    \n",
    "    '''\n",
    "    encoder_dict = {}\n",
    "    \n",
    "    concat_data = pd.concat([trn_data[categ_feat], tst_data[categ_feat]])\n",
    "    \n",
    "    for col in concat_data.columns:\n",
    "        print('Processing: ', col)\n",
    "        encoder = LabelEncoder()\n",
    "        encoder.fit(concat_data[col])\n",
    "        encoder_dict[col] = encoder\n",
    "\n",
    "        train_df[col + '_Enc'] = encoder.transform(train_df[col])\n",
    "        test_df[col + '_Enc'] = encoder.transform(test_df[col])\n",
    "    \n",
    "    train_df = train_df.drop(columns = categ_feat, axis = 1)\n",
    "    test_df = test_df.drop(columns = categ_feat, axis = 1)\n",
    "\n",
    "    return train_df, test_df"
   ]
  },
  {
   "cell_type": "code",
   "execution_count": 27,
   "id": "efa3184a",
   "metadata": {
    "execution": {
     "iopub.execute_input": "2022-02-26T21:57:02.330284Z",
     "iopub.status.busy": "2022-02-26T21:57:02.329645Z",
     "iopub.status.idle": "2022-02-26T21:57:02.389842Z",
     "shell.execute_reply": "2022-02-26T21:57:02.390383Z",
     "shell.execute_reply.started": "2022-02-26T21:53:38.798944Z"
    },
    "papermill": {
     "duration": 0.126069,
     "end_time": "2022-02-26T21:57:02.390553",
     "exception": false,
     "start_time": "2022-02-26T21:57:02.264484",
     "status": "completed"
    },
    "tags": []
   },
   "outputs": [
    {
     "name": "stdout",
     "output_type": "stream",
     "text": [
      "Processing:  HomePlanet\n",
      "Processing:  CryoSleep\n",
      "Processing:  Cabin\n",
      "Processing:  Destination\n",
      "Processing:  VIP\n",
      "Processing:  FirstName\n",
      "Processing:  FamilyName\n",
      "CPU times: user 53 ms, sys: 4.99 ms, total: 58 ms\n",
      "Wall time: 57.9 ms\n"
     ]
    }
   ],
   "source": [
    "%%time\n",
    "trn_data, tst_data = encode_categorical(trn_data, tst_data, categorical_features)"
   ]
  },
  {
   "cell_type": "markdown",
   "id": "4f742dda",
   "metadata": {
    "papermill": {
     "duration": 0.059695,
     "end_time": "2022-02-26T21:57:02.510629",
     "exception": false,
     "start_time": "2022-02-26T21:57:02.450934",
     "status": "completed"
    },
    "tags": []
   },
   "source": [
    "# Simple CV Sttrategy 80/20 Split"
   ]
  },
  {
   "cell_type": "code",
   "execution_count": 28,
   "id": "31ecf17c",
   "metadata": {
    "execution": {
     "iopub.execute_input": "2022-02-26T21:57:02.634209Z",
     "iopub.status.busy": "2022-02-26T21:57:02.633529Z",
     "iopub.status.idle": "2022-02-26T21:57:02.638493Z",
     "shell.execute_reply": "2022-02-26T21:57:02.639068Z",
     "shell.execute_reply.started": "2022-02-26T21:53:38.863443Z"
    },
    "papermill": {
     "duration": 0.067991,
     "end_time": "2022-02-26T21:57:02.639239",
     "exception": false,
     "start_time": "2022-02-26T21:57:02.571248",
     "status": "completed"
    },
    "tags": []
   },
   "outputs": [
    {
     "data": {
      "text/plain": [
       "Index(['PassengerId', 'Age', 'RoomService', 'FoodCourt', 'ShoppingMall', 'Spa',\n",
       "       'VRDeck', 'Transported', 'Total_Billed', 'HomePlanet_Enc',\n",
       "       'CryoSleep_Enc', 'Cabin_Enc', 'Destination_Enc', 'VIP_Enc',\n",
       "       'FirstName_Enc', 'FamilyName_Enc'],\n",
       "      dtype='object')"
      ]
     },
     "execution_count": 28,
     "metadata": {},
     "output_type": "execute_result"
    }
   ],
   "source": [
    "trn_data.columns"
   ]
  },
  {
   "cell_type": "code",
   "execution_count": 29,
   "id": "c1a4c0b7",
   "metadata": {
    "execution": {
     "iopub.execute_input": "2022-02-26T21:57:02.763929Z",
     "iopub.status.busy": "2022-02-26T21:57:02.763272Z",
     "iopub.status.idle": "2022-02-26T21:57:02.767086Z",
     "shell.execute_reply": "2022-02-26T21:57:02.767637Z",
     "shell.execute_reply.started": "2022-02-26T21:53:38.872033Z"
    },
    "papermill": {
     "duration": 0.068117,
     "end_time": "2022-02-26T21:57:02.767804",
     "exception": false,
     "start_time": "2022-02-26T21:57:02.699687",
     "status": "completed"
    },
    "tags": []
   },
   "outputs": [],
   "source": [
    "features = ['Age',\n",
    "            'RoomService',\n",
    "            'FoodCourt',\n",
    "            'ShoppingMall',\n",
    "            'Spa',\n",
    "            'VRDeck',\n",
    "            'FamilyName_Enc',\n",
    "            'FirstName_Enc',\n",
    "            'VIP_Enc',\n",
    "            'Total_Billed',\n",
    "            'HomePlanet_Enc',\n",
    "            'CryoSleep_Enc',\n",
    "            'Cabin_Enc',\n",
    "            'Destination_Enc']"
   ]
  },
  {
   "cell_type": "code",
   "execution_count": 30,
   "id": "4d4dde73",
   "metadata": {
    "execution": {
     "iopub.execute_input": "2022-02-26T21:57:02.894476Z",
     "iopub.status.busy": "2022-02-26T21:57:02.893741Z",
     "iopub.status.idle": "2022-02-26T21:57:02.950006Z",
     "shell.execute_reply": "2022-02-26T21:57:02.949465Z",
     "shell.execute_reply.started": "2022-02-26T21:53:38.880735Z"
    },
    "papermill": {
     "duration": 0.121668,
     "end_time": "2022-02-26T21:57:02.950148",
     "exception": false,
     "start_time": "2022-02-26T21:57:02.828480",
     "status": "completed"
    },
    "tags": []
   },
   "outputs": [],
   "source": [
    "from sklearn.model_selection import train_test_split\n",
    "X_train, X_val, y_train, y_val = train_test_split(trn_data[features], trn_data[target_feature], test_size = 0.15, random_state = 42)"
   ]
  },
  {
   "cell_type": "markdown",
   "id": "60cf326c",
   "metadata": {
    "papermill": {
     "duration": 0.061457,
     "end_time": "2022-02-26T21:57:03.072002",
     "exception": false,
     "start_time": "2022-02-26T21:57:03.010545",
     "status": "completed"
    },
    "tags": []
   },
   "source": [
    "fit(X, y, *, sample_weight=None, base_margin=None, eval_set=None, eval_metric=None, early_stopping_rounds=None, verbose=True, xgb_model=None, sample_weight_eval_set=None, base_margin_eval_set=None, feature_weights=None, callbacks=None)"
   ]
  },
  {
   "cell_type": "code",
   "execution_count": 31,
   "id": "51bc6e0c",
   "metadata": {
    "execution": {
     "iopub.execute_input": "2022-02-26T21:57:03.197281Z",
     "iopub.status.busy": "2022-02-26T21:57:03.196233Z",
     "iopub.status.idle": "2022-02-26T21:57:04.438911Z",
     "shell.execute_reply": "2022-02-26T21:57:04.438047Z",
     "shell.execute_reply.started": "2022-02-26T21:53:38.895680Z"
    },
    "papermill": {
     "duration": 1.306653,
     "end_time": "2022-02-26T21:57:04.439064",
     "exception": false,
     "start_time": "2022-02-26T21:57:03.132411",
     "status": "completed"
    },
    "tags": []
   },
   "outputs": [
    {
     "name": "stdout",
     "output_type": "stream",
     "text": [
      "[0]\tvalidation_0-logloss:0.58802\n",
      "[10]\tvalidation_0-logloss:0.43062\n",
      "[20]\tvalidation_0-logloss:0.42850\n",
      "[30]\tvalidation_0-logloss:0.42603\n",
      "[40]\tvalidation_0-logloss:0.42748\n",
      "[50]\tvalidation_0-logloss:0.43003\n",
      "[60]\tvalidation_0-logloss:0.43367\n",
      "[70]\tvalidation_0-logloss:0.44225\n",
      "[80]\tvalidation_0-logloss:0.44420\n",
      "[90]\tvalidation_0-logloss:0.44846\n",
      "[99]\tvalidation_0-logloss:0.45185\n"
     ]
    },
    {
     "data": {
      "text/plain": [
       "XGBClassifier(base_score=0.5, booster='gbtree', colsample_bylevel=1,\n",
       "              colsample_bynode=1, colsample_bytree=1, enable_categorical=False,\n",
       "              gamma=0, gpu_id=-1, importance_type=None,\n",
       "              interaction_constraints='', learning_rate=0.300000012,\n",
       "              max_delta_step=0, max_depth=6, min_child_weight=1, missing=nan,\n",
       "              monotone_constraints='()', n_estimators=100, n_jobs=4,\n",
       "              num_parallel_tree=1, predictor='auto', random_state=0,\n",
       "              reg_alpha=0, reg_lambda=1, scale_pos_weight=1, subsample=1,\n",
       "              tree_method='exact', validate_parameters=1, verbosity=None)"
      ]
     },
     "execution_count": 31,
     "metadata": {},
     "output_type": "execute_result"
    }
   ],
   "source": [
    "from xgboost import XGBClassifier\n",
    "cls = XGBClassifier()\n",
    "cls.fit(X_train, y_train, eval_set=[(X_val, y_val)], eval_metric=['logloss'], early_stopping_rounds=150, verbose=10)"
   ]
  },
  {
   "cell_type": "code",
   "execution_count": 32,
   "id": "2b941ec4",
   "metadata": {
    "execution": {
     "iopub.execute_input": "2022-02-26T21:57:04.587342Z",
     "iopub.status.busy": "2022-02-26T21:57:04.583954Z",
     "iopub.status.idle": "2022-02-26T21:57:04.590084Z",
     "shell.execute_reply": "2022-02-26T21:57:04.590687Z",
     "shell.execute_reply.started": "2022-02-26T21:53:40.145906Z"
    },
    "papermill": {
     "duration": 0.08374,
     "end_time": "2022-02-26T21:57:04.590853",
     "exception": false,
     "start_time": "2022-02-26T21:57:04.507113",
     "status": "completed"
    },
    "tags": []
   },
   "outputs": [
    {
     "data": {
      "text/html": [
       "<div>\n",
       "<style scoped>\n",
       "    .dataframe tbody tr th:only-of-type {\n",
       "        vertical-align: middle;\n",
       "    }\n",
       "\n",
       "    .dataframe tbody tr th {\n",
       "        vertical-align: top;\n",
       "    }\n",
       "\n",
       "    .dataframe thead th {\n",
       "        text-align: right;\n",
       "    }\n",
       "</style>\n",
       "<table border=\"1\" class=\"dataframe\">\n",
       "  <thead>\n",
       "    <tr style=\"text-align: right;\">\n",
       "      <th></th>\n",
       "      <th>Age</th>\n",
       "      <th>RoomService</th>\n",
       "      <th>FoodCourt</th>\n",
       "      <th>ShoppingMall</th>\n",
       "      <th>Spa</th>\n",
       "      <th>VRDeck</th>\n",
       "      <th>FamilyName_Enc</th>\n",
       "      <th>FirstName_Enc</th>\n",
       "      <th>VIP_Enc</th>\n",
       "      <th>Total_Billed</th>\n",
       "      <th>HomePlanet_Enc</th>\n",
       "      <th>CryoSleep_Enc</th>\n",
       "      <th>Cabin_Enc</th>\n",
       "      <th>Destination_Enc</th>\n",
       "    </tr>\n",
       "  </thead>\n",
       "  <tbody>\n",
       "    <tr>\n",
       "      <th>0</th>\n",
       "      <td>27.00</td>\n",
       "      <td>0.00</td>\n",
       "      <td>0.00</td>\n",
       "      <td>0.00</td>\n",
       "      <td>0.00</td>\n",
       "      <td>0.00</td>\n",
       "      <td>373</td>\n",
       "      <td>1943</td>\n",
       "      <td>0</td>\n",
       "      <td>0.00</td>\n",
       "      <td>0</td>\n",
       "      <td>1</td>\n",
       "      <td>8298</td>\n",
       "      <td>2</td>\n",
       "    </tr>\n",
       "    <tr>\n",
       "      <th>1</th>\n",
       "      <td>19.00</td>\n",
       "      <td>0.00</td>\n",
       "      <td>9.00</td>\n",
       "      <td>0.00</td>\n",
       "      <td>2,823.00</td>\n",
       "      <td>0.00</td>\n",
       "      <td>1628</td>\n",
       "      <td>1613</td>\n",
       "      <td>0</td>\n",
       "      <td>2,832.00</td>\n",
       "      <td>0</td>\n",
       "      <td>0</td>\n",
       "      <td>5564</td>\n",
       "      <td>2</td>\n",
       "    </tr>\n",
       "    <tr>\n",
       "      <th>2</th>\n",
       "      <td>31.00</td>\n",
       "      <td>0.00</td>\n",
       "      <td>0.00</td>\n",
       "      <td>0.00</td>\n",
       "      <td>0.00</td>\n",
       "      <td>0.00</td>\n",
       "      <td>2244</td>\n",
       "      <td>2276</td>\n",
       "      <td>0</td>\n",
       "      <td>0.00</td>\n",
       "      <td>1</td>\n",
       "      <td>1</td>\n",
       "      <td>856</td>\n",
       "      <td>0</td>\n",
       "    </tr>\n",
       "    <tr>\n",
       "      <th>3</th>\n",
       "      <td>38.00</td>\n",
       "      <td>0.00</td>\n",
       "      <td>6,652.00</td>\n",
       "      <td>0.00</td>\n",
       "      <td>181.00</td>\n",
       "      <td>585.00</td>\n",
       "      <td>350</td>\n",
       "      <td>1800</td>\n",
       "      <td>0</td>\n",
       "      <td>7,418.00</td>\n",
       "      <td>1</td>\n",
       "      <td>0</td>\n",
       "      <td>858</td>\n",
       "      <td>2</td>\n",
       "    </tr>\n",
       "    <tr>\n",
       "      <th>4</th>\n",
       "      <td>20.00</td>\n",
       "      <td>10.00</td>\n",
       "      <td>0.00</td>\n",
       "      <td>635.00</td>\n",
       "      <td>0.00</td>\n",
       "      <td>0.00</td>\n",
       "      <td>1016</td>\n",
       "      <td>487</td>\n",
       "      <td>0</td>\n",
       "      <td>645.00</td>\n",
       "      <td>0</td>\n",
       "      <td>0</td>\n",
       "      <td>5785</td>\n",
       "      <td>2</td>\n",
       "    </tr>\n",
       "  </tbody>\n",
       "</table>\n",
       "</div>"
      ],
      "text/plain": [
       "    Age  RoomService  FoodCourt  ShoppingMall      Spa  VRDeck  \\\n",
       "0 27.00         0.00       0.00          0.00     0.00    0.00   \n",
       "1 19.00         0.00       9.00          0.00 2,823.00    0.00   \n",
       "2 31.00         0.00       0.00          0.00     0.00    0.00   \n",
       "3 38.00         0.00   6,652.00          0.00   181.00  585.00   \n",
       "4 20.00        10.00       0.00        635.00     0.00    0.00   \n",
       "\n",
       "   FamilyName_Enc  FirstName_Enc  VIP_Enc  Total_Billed  HomePlanet_Enc  \\\n",
       "0             373           1943        0          0.00               0   \n",
       "1            1628           1613        0      2,832.00               0   \n",
       "2            2244           2276        0          0.00               1   \n",
       "3             350           1800        0      7,418.00               1   \n",
       "4            1016            487        0        645.00               0   \n",
       "\n",
       "   CryoSleep_Enc  Cabin_Enc  Destination_Enc  \n",
       "0              1       8298                2  \n",
       "1              0       5564                2  \n",
       "2              1        856                0  \n",
       "3              0        858                2  \n",
       "4              0       5785                2  "
      ]
     },
     "execution_count": 32,
     "metadata": {},
     "output_type": "execute_result"
    }
   ],
   "source": [
    "tst_data[features].head()"
   ]
  },
  {
   "cell_type": "code",
   "execution_count": 33,
   "id": "5d02a8a7",
   "metadata": {
    "execution": {
     "iopub.execute_input": "2022-02-26T21:57:04.739424Z",
     "iopub.status.busy": "2022-02-26T21:57:04.738790Z",
     "iopub.status.idle": "2022-02-26T21:57:04.760597Z",
     "shell.execute_reply": "2022-02-26T21:57:04.761129Z",
     "shell.execute_reply.started": "2022-02-26T21:53:40.162545Z"
    },
    "papermill": {
     "duration": 0.102488,
     "end_time": "2022-02-26T21:57:04.761352",
     "exception": false,
     "start_time": "2022-02-26T21:57:04.658864",
     "status": "completed"
    },
    "tags": []
   },
   "outputs": [],
   "source": [
    "from sklearn.metrics import accuracy_score\n",
    "val_preds = cls.predict(X_val[features])\n",
    "accuracy = accuracy_score(val_preds, y_val)"
   ]
  },
  {
   "cell_type": "code",
   "execution_count": 34,
   "id": "4fbb77a0",
   "metadata": {
    "execution": {
     "iopub.execute_input": "2022-02-26T21:57:04.901253Z",
     "iopub.status.busy": "2022-02-26T21:57:04.900596Z",
     "iopub.status.idle": "2022-02-26T21:57:04.903178Z",
     "shell.execute_reply": "2022-02-26T21:57:04.903680Z",
     "shell.execute_reply.started": "2022-02-26T21:53:40.183022Z"
    },
    "papermill": {
     "duration": 0.075377,
     "end_time": "2022-02-26T21:57:04.903948",
     "exception": false,
     "start_time": "2022-02-26T21:57:04.828571",
     "status": "completed"
    },
    "tags": []
   },
   "outputs": [
    {
     "data": {
      "text/plain": [
       "0.7883435582822086"
      ]
     },
     "execution_count": 34,
     "metadata": {},
     "output_type": "execute_result"
    }
   ],
   "source": [
    "accuracy"
   ]
  },
  {
   "cell_type": "code",
   "execution_count": 35,
   "id": "dfd59cd5",
   "metadata": {
    "execution": {
     "iopub.execute_input": "2022-02-26T21:57:05.041262Z",
     "iopub.status.busy": "2022-02-26T21:57:05.040577Z",
     "iopub.status.idle": "2022-02-26T21:57:05.043175Z",
     "shell.execute_reply": "2022-02-26T21:57:05.043683Z",
     "shell.execute_reply.started": "2022-02-26T21:53:40.190484Z"
    },
    "papermill": {
     "duration": 0.071488,
     "end_time": "2022-02-26T21:57:05.043844",
     "exception": false,
     "start_time": "2022-02-26T21:57:04.972356",
     "status": "completed"
    },
    "tags": []
   },
   "outputs": [],
   "source": [
    "# 0.7875766871165644\n",
    "# 0.7883435582822086"
   ]
  },
  {
   "cell_type": "code",
   "execution_count": 36,
   "id": "0cadb458",
   "metadata": {
    "execution": {
     "iopub.execute_input": "2022-02-26T21:57:05.178830Z",
     "iopub.status.busy": "2022-02-26T21:57:05.178198Z",
     "iopub.status.idle": "2022-02-26T21:57:05.183661Z",
     "shell.execute_reply": "2022-02-26T21:57:05.183107Z",
     "shell.execute_reply.started": "2022-02-26T21:53:40.198916Z"
    },
    "papermill": {
     "duration": 0.073704,
     "end_time": "2022-02-26T21:57:05.183798",
     "exception": false,
     "start_time": "2022-02-26T21:57:05.110094",
     "status": "completed"
    },
    "tags": []
   },
   "outputs": [
    {
     "data": {
      "text/plain": [
       "(4277, 15)"
      ]
     },
     "execution_count": 36,
     "metadata": {},
     "output_type": "execute_result"
    }
   ],
   "source": [
    "tst_data.shape"
   ]
  },
  {
   "cell_type": "code",
   "execution_count": 37,
   "id": "06797b51",
   "metadata": {
    "execution": {
     "iopub.execute_input": "2022-02-26T21:57:05.322295Z",
     "iopub.status.busy": "2022-02-26T21:57:05.321519Z",
     "iopub.status.idle": "2022-02-26T21:57:05.324621Z",
     "shell.execute_reply": "2022-02-26T21:57:05.325094Z",
     "shell.execute_reply.started": "2022-02-26T21:53:40.209767Z"
    },
    "papermill": {
     "duration": 0.075121,
     "end_time": "2022-02-26T21:57:05.325272",
     "exception": false,
     "start_time": "2022-02-26T21:57:05.250151",
     "status": "completed"
    },
    "tags": []
   },
   "outputs": [
    {
     "data": {
      "text/plain": [
       "1304"
      ]
     },
     "execution_count": 37,
     "metadata": {},
     "output_type": "execute_result"
    }
   ],
   "source": [
    "len(val_preds)"
   ]
  },
  {
   "cell_type": "code",
   "execution_count": 38,
   "id": "7d99f568",
   "metadata": {
    "execution": {
     "iopub.execute_input": "2022-02-26T21:57:05.462311Z",
     "iopub.status.busy": "2022-02-26T21:57:05.461322Z",
     "iopub.status.idle": "2022-02-26T21:57:05.466271Z",
     "shell.execute_reply": "2022-02-26T21:57:05.466758Z",
     "shell.execute_reply.started": "2022-02-26T21:53:40.220343Z"
    },
    "papermill": {
     "duration": 0.075003,
     "end_time": "2022-02-26T21:57:05.466917",
     "exception": false,
     "start_time": "2022-02-26T21:57:05.391914",
     "status": "completed"
    },
    "tags": []
   },
   "outputs": [
    {
     "data": {
      "text/plain": [
       "(4277, 2)"
      ]
     },
     "execution_count": 38,
     "metadata": {},
     "output_type": "execute_result"
    }
   ],
   "source": [
    "sub.shape"
   ]
  },
  {
   "cell_type": "code",
   "execution_count": 39,
   "id": "78d5c62d",
   "metadata": {
    "execution": {
     "iopub.execute_input": "2022-02-26T21:57:05.607410Z",
     "iopub.status.busy": "2022-02-26T21:57:05.606392Z",
     "iopub.status.idle": "2022-02-26T21:57:05.618003Z",
     "shell.execute_reply": "2022-02-26T21:57:05.618598Z",
     "shell.execute_reply.started": "2022-02-26T21:53:40.230803Z"
    },
    "papermill": {
     "duration": 0.084937,
     "end_time": "2022-02-26T21:57:05.618790",
     "exception": false,
     "start_time": "2022-02-26T21:57:05.533853",
     "status": "completed"
    },
    "tags": []
   },
   "outputs": [],
   "source": [
    "preds = cls.predict(tst_data[features])"
   ]
  },
  {
   "cell_type": "code",
   "execution_count": 40,
   "id": "2ce7dd74",
   "metadata": {
    "execution": {
     "iopub.execute_input": "2022-02-26T21:57:05.761664Z",
     "iopub.status.busy": "2022-02-26T21:57:05.758137Z",
     "iopub.status.idle": "2022-02-26T21:57:05.771495Z",
     "shell.execute_reply": "2022-02-26T21:57:05.770963Z",
     "shell.execute_reply.started": "2022-02-26T21:53:40.257683Z"
    },
    "papermill": {
     "duration": 0.08385,
     "end_time": "2022-02-26T21:57:05.771644",
     "exception": false,
     "start_time": "2022-02-26T21:57:05.687794",
     "status": "completed"
    },
    "tags": []
   },
   "outputs": [
    {
     "data": {
      "text/html": [
       "<div>\n",
       "<style scoped>\n",
       "    .dataframe tbody tr th:only-of-type {\n",
       "        vertical-align: middle;\n",
       "    }\n",
       "\n",
       "    .dataframe tbody tr th {\n",
       "        vertical-align: top;\n",
       "    }\n",
       "\n",
       "    .dataframe thead th {\n",
       "        text-align: right;\n",
       "    }\n",
       "</style>\n",
       "<table border=\"1\" class=\"dataframe\">\n",
       "  <thead>\n",
       "    <tr style=\"text-align: right;\">\n",
       "      <th></th>\n",
       "      <th>PassengerId</th>\n",
       "      <th>Transported</th>\n",
       "    </tr>\n",
       "  </thead>\n",
       "  <tbody>\n",
       "    <tr>\n",
       "      <th>0</th>\n",
       "      <td>0013_01</td>\n",
       "      <td>False</td>\n",
       "    </tr>\n",
       "    <tr>\n",
       "      <th>1</th>\n",
       "      <td>0018_01</td>\n",
       "      <td>False</td>\n",
       "    </tr>\n",
       "    <tr>\n",
       "      <th>2</th>\n",
       "      <td>0019_01</td>\n",
       "      <td>True</td>\n",
       "    </tr>\n",
       "    <tr>\n",
       "      <th>3</th>\n",
       "      <td>0021_01</td>\n",
       "      <td>True</td>\n",
       "    </tr>\n",
       "    <tr>\n",
       "      <th>4</th>\n",
       "      <td>0023_01</td>\n",
       "      <td>True</td>\n",
       "    </tr>\n",
       "    <tr>\n",
       "      <th>...</th>\n",
       "      <td>...</td>\n",
       "      <td>...</td>\n",
       "    </tr>\n",
       "    <tr>\n",
       "      <th>4272</th>\n",
       "      <td>9266_02</td>\n",
       "      <td>True</td>\n",
       "    </tr>\n",
       "    <tr>\n",
       "      <th>4273</th>\n",
       "      <td>9269_01</td>\n",
       "      <td>False</td>\n",
       "    </tr>\n",
       "    <tr>\n",
       "      <th>4274</th>\n",
       "      <td>9271_01</td>\n",
       "      <td>True</td>\n",
       "    </tr>\n",
       "    <tr>\n",
       "      <th>4275</th>\n",
       "      <td>9273_01</td>\n",
       "      <td>True</td>\n",
       "    </tr>\n",
       "    <tr>\n",
       "      <th>4276</th>\n",
       "      <td>9277_01</td>\n",
       "      <td>True</td>\n",
       "    </tr>\n",
       "  </tbody>\n",
       "</table>\n",
       "<p>4277 rows × 2 columns</p>\n",
       "</div>"
      ],
      "text/plain": [
       "     PassengerId  Transported\n",
       "0        0013_01        False\n",
       "1        0018_01        False\n",
       "2        0019_01         True\n",
       "3        0021_01         True\n",
       "4        0023_01         True\n",
       "...          ...          ...\n",
       "4272     9266_02         True\n",
       "4273     9269_01        False\n",
       "4274     9271_01         True\n",
       "4275     9273_01         True\n",
       "4276     9277_01         True\n",
       "\n",
       "[4277 rows x 2 columns]"
      ]
     },
     "execution_count": 40,
     "metadata": {},
     "output_type": "execute_result"
    }
   ],
   "source": [
    "sub['Transported'] = preds\n",
    "sub"
   ]
  },
  {
   "cell_type": "code",
   "execution_count": 41,
   "id": "4ca46116",
   "metadata": {
    "execution": {
     "iopub.execute_input": "2022-02-26T21:57:05.911670Z",
     "iopub.status.busy": "2022-02-26T21:57:05.910729Z",
     "iopub.status.idle": "2022-02-26T21:57:05.924290Z",
     "shell.execute_reply": "2022-02-26T21:57:05.924845Z",
     "shell.execute_reply.started": "2022-02-26T21:53:40.273976Z"
    },
    "papermill": {
     "duration": 0.085848,
     "end_time": "2022-02-26T21:57:05.925018",
     "exception": false,
     "start_time": "2022-02-26T21:57:05.839170",
     "status": "completed"
    },
    "tags": []
   },
   "outputs": [],
   "source": [
    "sub.to_csv('submission.csv', index=False)"
   ]
  },
  {
   "cell_type": "markdown",
   "id": "4f770f8e",
   "metadata": {
    "papermill": {
     "duration": 0.068137,
     "end_time": "2022-02-26T21:57:06.062612",
     "exception": false,
     "start_time": "2022-02-26T21:57:05.994475",
     "status": "completed"
    },
    "tags": []
   },
   "source": [
    "# Baseline Model"
   ]
  },
  {
   "cell_type": "code",
   "execution_count": null,
   "id": "a9d92b34",
   "metadata": {
    "papermill": {
     "duration": 0.067509,
     "end_time": "2022-02-26T21:57:06.198150",
     "exception": false,
     "start_time": "2022-02-26T21:57:06.130641",
     "status": "completed"
    },
    "tags": []
   },
   "outputs": [],
   "source": []
  }
 ],
 "metadata": {
  "kernelspec": {
   "display_name": "Python 3",
   "language": "python",
   "name": "python3"
  },
  "language_info": {
   "codemirror_mode": {
    "name": "ipython",
    "version": 3
   },
   "file_extension": ".py",
   "mimetype": "text/x-python",
   "name": "python",
   "nbconvert_exporter": "python",
   "pygments_lexer": "ipython3",
   "version": "3.7.12"
  },
  "papermill": {
   "default_parameters": {},
   "duration": 19.778196,
   "end_time": "2022-02-26T21:57:06.975200",
   "environment_variables": {},
   "exception": null,
   "input_path": "__notebook__.ipynb",
   "output_path": "__notebook__.ipynb",
   "parameters": {},
   "start_time": "2022-02-26T21:56:47.197004",
   "version": "2.3.3"
  }
 },
 "nbformat": 4,
 "nbformat_minor": 5
}
